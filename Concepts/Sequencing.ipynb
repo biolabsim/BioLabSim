{
 "metadata": {
  "language_info": {
   "codemirror_mode": {
    "name": "ipython",
    "version": 3
   },
   "file_extension": ".py",
   "mimetype": "text/x-python",
   "name": "python",
   "nbconvert_exporter": "python",
   "pygments_lexer": "ipython3",
   "version": "3.8.6-final"
  },
  "orig_nbformat": 2,
  "kernelspec": {
   "name": "myenv",
   "display_name": "myenv",
   "language": "python"
  }
 },
 "nbformat": 4,
 "nbformat_minor": 2,
 "cells": [
  {
   "source": [
    "Example Script for Sequencing\n",
    "===\n"
   ],
   "cell_type": "markdown",
   "metadata": {}
  },
  {
   "cell_type": "code",
   "execution_count": 5,
   "metadata": {},
   "outputs": [],
   "source": [
    "from biolabsim import set_seed, FabricatedHost, Sequencer, print_scaffold, write_scaffolds_to_file, \\\n",
    "    RandomAssembler, estimate_from_overlap, print_assembly_evaluation, print_estimation_evaluation, \\\n",
    "    GreedyContigAssembler, EstimatedSequence, evaluate_sequence\n",
    "\n",
    "# Set random seed\n",
    "set_seed(20210121)"
   ]
  },
  {
   "cell_type": "code",
   "execution_count": 2,
   "metadata": {},
   "outputs": [],
   "source": [
    "\n",
    "# Get a good Host to be sequenced. Fabricate it to have a very simple example.\n",
    "host = FabricatedHost( genome_size=80, gc_content=0.6 )\n",
    "genome = host.get_genome()\n",
    "\n",
    "# Create the Sequencer. It will fragment the genome.\n",
    "shotgun = Sequencer(\n",
    "    library_size_mean=50, library_size_sd=5,\n",
    "    read_method='paired-end', read_length=20,\n",
    "    average_coverage=5, call_error_beta=2.85\n",
    ")\n",
    "scaffolds = shotgun.apply( genome )"
   ]
  },
  {
   "cell_type": "code",
   "execution_count": 3,
   "metadata": {},
   "outputs": [
    {
     "output_type": "stream",
     "name": "stdout",
     "text": [
      "\n\n| TATGGGTTCGCTAGTACCCA~~~~~~(ca.10)~~~~~~GTCGAGGCGCGTCACTATCT\n| GGTTCGCTAGTACCCAGTAC~~~~~~(ca.10)~~~~~~CGGCAATTCAGTCGAGGCGC\n| GCGATCCATCGGTGCCATAT~~~~~~(ca.10)~~~~~~GGTTCGCTAGTACCCAGTAC\n| ACCGCGATCCATCGGTGCCA~~~~~~(ca.10)~~~~~~TAGTACCCAGTACCGGCAAT\n| CGGTGCCATATATGGGTTCG~~~~~~(ca.10)~~~~~~AATTCAGTCGAGGCGCGTCA\n| GTTCGCTAGTACCCAGTACC~~~~~~(ca.10)~~~~~~GCAATTCAGTCGAGGCGCGT\n| CCATCGGTGCCATATATGGG~~~~~~(ca.10)~~~~~~TACCGGCAATTCAGTCGAGG\n| GCTAGTACCCAGTACCGGCA~~~~~~(ca.10)~~~~~~GAGGCGCGTCACTATCTCTA\n| ATATATGGGTTCGCTAGTAC~~~~~~(ca.10)~~~~~~GGCAATTCAGTCGAGGCGCG\n| CGCGATCCATCGGTGCCATA~~~~~~(ca.10)~~~~~~CTAGTACCCAGTACCGGCAA\n\n\nR1 file stored in: /home/shima/Documents/RWTH/BLS-BiotechSimPraktika/repo-biolabsim/output/present-R1.fastq\nR2 file stored in: /home/shima/Documents/RWTH/BLS-BiotechSimPraktika/repo-biolabsim/output/present-R2.fastq\n"
     ]
    }
   ],
   "source": [
    "# Print the obtained scaffolds.\n",
    "print(\"\\n\")\n",
    "for i in range(len(scaffolds)) :\n",
    "    print_scaffold(scaffolds[i])\n",
    "print(\"\\n\")\n",
    "\n",
    "# Store them in files.\n",
    "write_scaffolds_to_file( scaffolds, \"output/present-R1.fastq\", \"output/present-R2.fastq\" )"
   ]
  },
  {
   "source": [
    "The Scaffolds have been generated and are accessible by variable or in `.fastq` files."
   ],
   "cell_type": "markdown",
   "metadata": {}
  },
  {
   "cell_type": "code",
   "execution_count": 9,
   "metadata": {},
   "outputs": [
    {
     "output_type": "stream",
     "name": "stdout",
     "text": [
      "Shannon Entropy: 0.7172367751666382\n"
     ]
    }
   ],
   "source": [
    "#\n",
    "# This section is written by the student.\n",
    "#\n",
    "\n",
    "estimated_sequence = EstimatedSequence({\n",
    "    'A': [ 1  , .2 , 0  , 0  , 0  , .1 , 0  , .7 , 0  , 0  , .25 ],\n",
    "    'C': [ 0  , .4 , .2 , 0  , 1  , .9 , .5 , 0  , 0  , .3 , .25 ],\n",
    "    'G': [ 0  , .4 , 0  , 0  , 0  , 0  , .5 , .3 , 1  , .1 , .25 ],\n",
    "    'T': [ 0  , 0  , .8 , 1  , 0  , 0  , 0  , 0  , 0  , .6 , .25 ],\n",
    "})\n",
    "shannon_entropy = estimated_sequence.calc_shannon_entropy()\n",
    "print(\"Shannon Entropy: {}\".format(shannon_entropy))\n"
   ]
  },
  {
   "source": [
    "Now the exercise will evaluate the estimation and return a score."
   ],
   "cell_type": "markdown",
   "metadata": {}
  },
  {
   "cell_type": "code",
   "execution_count": 10,
   "metadata": {},
   "outputs": [
    {
     "output_type": "stream",
     "name": "stdout",
     "text": [
      "---------------------------------------------------------------------------------------------\n[heatmap:A] ···································#2···1·7··2··································\n[heatmap:C] ····································42·#95··32··································\n[heatmap:G] ····································4····53#12··································\n[heatmap:T] ·····································8#·····62··································\n---------------------------------------------------------------------------------------------\n[consensus]                                    ACTTCCCAGTA\n---------------------------------------------------------------------------------------------\n [real-gen] TACCGCGATCCATCGGTGCCATATATGGGTTCGCTAGTACCCAGTACCGGCAATTCAGTCGAGGCGCGTCACTATCTCTA\n---------------------------------------------------------------------------------------------\nFinal Score: 0.0894 (8.9%)\n"
     ]
    }
   ],
   "source": [
    "print_estimation_evaluation( estimated_sequence, genome )"
   ]
  },
  {
   "cell_type": "code",
   "execution_count": 11,
   "metadata": {},
   "outputs": [
    {
     "output_type": "stream",
     "name": "stdout",
     "text": [
      "------------------------------------------------------------------------------------------------\n[heatmap:A] ············#··366·2·542··53222·2·1511221221222121134221··133251115···42222·5··5·#·\n[heatmap:C] ··········#····6333·5··46111·33713221325331221332363··265313341263··444224·3·55····\n[heatmap:G] ·········#···#6····25·4·26156·316232511·31233513131142·126313··1·3524622227·5·555··\n[heatmap:T] ···········#··3···65·524211·13·1·42·24421222212221·1256·1·31·22411·82··442·6·5··5·#\n------------------------------------------------------------------------------------------------\n [coverage] ·········11112333334445556668888998889988878988976665456766667776665555555432222211\n------------------------------------------------------------------------------------------------\n  [seq:000]                                                TATGGGTTCGCTAGTACCCA                 ( 30%)\n  [seq:001]                                      GTCGAGGCGCGTCACTATCT                           ( 25%)\n  [seq:002]                    GGTTCGCTAGTACCCAGTAC                                             ( 25%)\n  [seq:003]                                                         CGGCAATTCAGTCGAGGCGC        ( 30%)\n  [seq:004]                                                                GCGATCCATCGGTGCCATAT ( 35%)\n  [seq:005]                                             GGTTCGCTAGTACCCAGTAC                    ( 25%)\n  [seq:006]                              ACCGCGATCCATCGGTGCCA                                   ( 45%)\n  [seq:007]                                            TAGTACCCAGTACCGGCAAT                     ( 35%)\n  [seq:008]                                                        CGGTGCCATATATGGGTTCG         ( 20%)\n  [seq:009]                       AATTCAGTCGAGGCGCGTCA                                          ( 30%)\n  [seq:010]                                 GTTCGCTAGTACCCAGTACC                                ( 25%)\n  [seq:011]               GCAATTCAGTCGAGGCGCGT                                                  ( 30%)\n  [seq:012]                                                              CCATCGGTGCCATATATGGG   ( 15%)\n  [seq:013]                             TACCGGCAATTCAGTCGAGG                                    ( 30%)\n  [seq:014]          GCTAGTACCCAGTACCGGCA                                                       ( 25%)\n  [seq:015]                          GAGGCGCGTCACTATCTCTA                                       ( 40%)\n  [seq:016]                             ATATATGGGTTCGCTAGTAC                                    ( 30%)\n  [seq:017]              GGCAATTCAGTCGAGGCGCG                                                   ( 30%)\n  [seq:018]                                                       CGCGATCCATCGGTGCCATA          ( 30%)\n  [seq:019]                                  CTAGTACCCAGTACCGGCAA                               (100%)\n------------------------------------------------------------------------------------------------\n[consensus]          GCTAGGCAATTCAACCGAGGCCCGTGAGTTCCCAGGGCCACCAATTCCGGAACATCCATCGATTCGTACCAGAT\n------------------------------------------------------------------------------------------------\n [real-gen] TACCGCGATCCATCGGTGCCATATATGGGTTCGCTAGTACCCAGTACCGGCAATTCAGTCGAGGCGCGTCACTATCTCTA\n------------------------------------------------------------------------------------------------\nFinal Score: 0.2745 (27.5%)\n"
     ]
    }
   ],
   "source": [
    "# Example using the Random Assembler.\n",
    "rnd_assembler = RandomAssembler( expected_genome_size=len(genome) )\n",
    "rnd_locseqs = rnd_assembler.apply_internal( scaffolds )\n",
    "rnd_estseq = estimate_from_overlap( rnd_locseqs ) # rnd_assembler.apply( scaffolds )\n",
    "print_assembly_evaluation( rnd_locseqs, genome )\n"
   ]
  },
  {
   "cell_type": "code",
   "execution_count": 13,
   "metadata": {},
   "outputs": [
    {
     "output_type": "stream",
     "name": "stdout",
     "text": [
      "---------------------------------------------------------------------------------------------\n[heatmap:A] ·#·····#···#········#·#·#··········#··#···#··#·····##···#····#········#··#·····#\n[heatmap:C] ··##·#···##··#····##···········#·#·····###····##··#····#···#····#·#··#·#···#·#··\n[heatmap:G] ····#·#·······##·#········###···#···#······#····##·······#··#·##·#·#············\n[heatmap:T] ········#···#···#····#·#·#···##···#··#······#········##···#·········#···#·#·#·#·\n---------------------------------------------------------------------------------------------\n [coverage] ·1123333344445555555655544467666778888887776777667787655566677776665433222222111\n---------------------------------------------------------------------------------------------\n  [seq:000]                            GGTTCGCTAGTACCCAGTAC                                  (100%)\n  [seq:001]                            GGTTCGCTAGTACCCAGTAC                                  (100%)\n  [seq:002]                             GTTCGCTAGTACCCAGTACC                                 (100%)\n  [seq:003]                        TATGGGTTCGCTAGTACCCA                                      (100%)\n  [seq:004]                     ATATATGGGTTCGCTAGTAC                                         (100%)\n  [seq:005]                                 GCTAGTACCCAGTACCGGCA                             (100%)\n  [seq:006]                                  CTAGTACCCAGTACCGGCAA                            (100%)\n  [seq:007]                                   TAGTACCCAGTACCGGCAAT                           (100%)\n  [seq:008]              CGGTGCCATATATGGGTTCG                                                (100%)\n  [seq:009]          CCATCGGTGCCATATATGGG                                                    (100%)\n  [seq:010]     GCGATCCATCGGTGCCATAT                                                         (100%)\n  [seq:011]    CGCGATCCATCGGTGCCATA                                                          (100%)\n  [seq:012]  ACCGCGATCCATCGGTGCCA                                                            (100%)\n  [seq:013]                                             TACCGGCAATTCAGTCGAGG                 (100%)\n  [seq:014]                                                CGGCAATTCAGTCGAGGCGC              (100%)\n  [seq:015]                                                 GGCAATTCAGTCGAGGCGCG             (100%)\n  [seq:016]                                                  GCAATTCAGTCGAGGCGCGT            (100%)\n  [seq:017]                                                    AATTCAGTCGAGGCGCGTCA          (100%)\n  [seq:018]                                                          GTCGAGGCGCGTCACTATCT    (100%)\n  [seq:019]                                                             GAGGCGCGTCACTATCTCTA (100%)\n---------------------------------------------------------------------------------------------\n[consensus]  ACCGCGATCCATCGGTGCCATATATGGGTTCGCTAGTACCCAGTACCGGCAATTCAGTCGAGGCGCGTCACTATCTCTA\n---------------------------------------------------------------------------------------------\n [real-gen] TACCGCGATCCATCGGTGCCATATATGGGTTCGCTAGTACCCAGTACCGGCAATTCAGTCGAGGCGCGTCACTATCTCTA\n---------------------------------------------------------------------------------------------\nFinal Score: 0.9875 (98.8%)\n"
     ]
    }
   ],
   "source": [
    "# Example using the Greedy Contig Assembler.\n",
    "gca_assembler = GreedyContigAssembler()\n",
    "gca_locseqs = gca_assembler.apply_internal( scaffolds )\n",
    "gca_estseq = estimate_from_overlap( gca_locseqs ) # gca_assembler.apply( scaffolds )\n",
    "print_assembly_evaluation( gca_locseqs, genome )"
   ]
  },
  {
   "cell_type": "code",
   "execution_count": null,
   "metadata": {},
   "outputs": [],
   "source": []
  }
 ]
}