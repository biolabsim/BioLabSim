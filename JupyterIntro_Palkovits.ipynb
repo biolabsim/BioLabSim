{
 "cells": [
  {
   "cell_type": "markdown",
   "metadata": {},
   "source": [
    "![RWTH Aachen University](Figures/RWTH_ITMC.jpg \"RWTH Aachen University\")\n",
    "\n",
    "<h1 align=\"center\"> Data Science and Machine Learning in Chemistry</h1> \n",
    "<h1 align=\"center\"> Dr. Stefan Palkovits </h1>\n",
    "<h1 align=\"center\"> <a href=\"stefan.palkovits@itmc.rwth-aachen.de\">stefan.palkovits@itmc.rwth-aachen.de </a> </h1>\n",
    "\n",
    "---\n",
    "\n",
    "# 01b - Python Introduction\n",
    "\n",
    "This introduction is intended to provide a little insight into the basic operations with Python. Special things will appear in the relevant chapters and exercises and then explained either or declared during the course. As with any programming language also Python fills book after book and since Python is Open Source, there are more than enough resources on the net that can help you.\n",
    "\n",
    "![Popular languages 2015](Figures/codeeval2015.jpg \"Popular languages 2015\")\n",
    "\n",
    "Python is an interpreted language. The instructions that appear in the source code below will be interpreted from top to bottom. If you declare a variable **a** above, it is also available further down.\n",
    "\n",
    "At first the all time classic for all programming languages."
   ]
  },
  {
   "cell_type": "code",
   "execution_count": null,
   "metadata": {},
   "outputs": [],
   "source": [
    "from __future__ import division # for Python 2 compatibility\n",
    "from __future__ import print_function # for Python 2 compatibility"
   ]
  },
  {
   "cell_type": "code",
   "execution_count": null,
   "metadata": {},
   "outputs": [],
   "source": [
    "# %load snippets/snippet_01_01.py"
   ]
  },
  {
   "cell_type": "markdown",
   "metadata": {},
   "source": [
    "## Simple Calculations\n",
    "\n",
    "But Python can serve as a simple calculator also (especially in the console)."
   ]
  },
  {
   "cell_type": "code",
   "execution_count": null,
   "metadata": {},
   "outputs": [],
   "source": [
    "2 + 2"
   ]
  },
  {
   "cell_type": "markdown",
   "metadata": {},
   "source": [
    "If you write **print** first the console output is suppressed."
   ]
  },
  {
   "cell_type": "code",
   "execution_count": null,
   "metadata": {},
   "outputs": [],
   "source": [
    "print(1 + 2)"
   ]
  },
  {
   "cell_type": "markdown",
   "metadata": {},
   "source": [
    "It is also possible to define variables. Python then tries the contents of the variable (string, float, single, etc.) to be interpreted according to what the variable is assigned (Comments can be recognized by #)."
   ]
  },
  {
   "cell_type": "code",
   "execution_count": null,
   "metadata": {},
   "outputs": [],
   "source": [
    "a = 1 # a single\n",
    "b = 2 \n",
    "c = \"Hello \" # a string\n",
    "d = \"World\"\n",
    "\n",
    "e = a + b\n",
    "\n",
    "print(a + b)\n",
    "print(e)\n",
    "\n",
    "print(c + d)\n",
    "\n",
    "print(type(c))"
   ]
  },
  {
   "cell_type": "markdown",
   "metadata": {},
   "source": [
    "Python tries to calculate with the format from the given values. But you can also choose if necessary other formats."
   ]
  },
  {
   "cell_type": "code",
   "execution_count": null,
   "metadata": {},
   "outputs": [],
   "source": [
    "print(1 / 2)\n",
    "print(1.0 / 2.0)\n",
    "print(float(1)/2)"
   ]
  },
  {
   "cell_type": "markdown",
   "metadata": {},
   "source": [
    "## Whitespace\n",
    "\n",
    "**Attention:** Empty spaces (blanks or whitespace) sometimes do not have a real importance in Python. For example in calculations.\n",
    "\n",
    "    1+2\n",
    "    \n",
    "gives the same like\n",
    "\n",
    "    1 + 2\n",
    "    \n",
    "On the other hand Python uses indentation and tab stops as structural elements, for example in the definition of functions.\n",
    "\n",
    "## More complicated calculations\n",
    "\n",
    "When it gets complicated plug-ins extend the Python functionality. The most common for Scientific Computing include:\n",
    "\n",
    "* [NumPy](http://www.numpy.org) (Numeric Python) for calculations with arrays of numbers. \n",
    "\n",
    "* [SciPy](http://scipy.org) (Scientific Python) extends the functionality of Numpy with functions like minisations, regression, Fourier-transformations and many more.\n",
    "\n",
    "To plot graphs we need [matplotlib](http://matplotlib.org). But there are alternatives."
   ]
  },
  {
   "cell_type": "code",
   "execution_count": null,
   "metadata": {},
   "outputs": [],
   "source": [
    "import matplotlib.pyplot as plt\n",
    "import numpy as np\n",
    "\n",
    "%matplotlib inline"
   ]
  },
  {
   "cell_type": "markdown",
   "metadata": {},
   "source": [
    "Now even complex calculations are possible:"
   ]
  },
  {
   "cell_type": "code",
   "execution_count": null,
   "metadata": {},
   "outputs": [],
   "source": [
    "print(np.exp(1))\n",
    "print(np.pi)\n",
    "print(np.log(np.e))\n",
    "print(np.log10(10))\n",
    "print(np.sqrt(8))\n",
    "print(np.sin(np.pi/2))"
   ]
  },
  {
   "cell_type": "markdown",
   "metadata": {},
   "source": [
    "## Functions and graphs\n",
    "\n",
    "It is possible to define your own functions. As already mentioned, here is the indentation (whitespace) in the second line an important structural element for Python. You can also use the function later on for calculations."
   ]
  },
  {
   "cell_type": "code",
   "execution_count": null,
   "metadata": {},
   "outputs": [],
   "source": [
    "def y(x):\n",
    "    return x**2\n",
    "    \n",
    "print(y(2))"
   ]
  },
  {
   "cell_type": "markdown",
   "metadata": {},
   "source": [
    "Of course you can draw the the function."
   ]
  },
  {
   "cell_type": "code",
   "execution_count": null,
   "metadata": {},
   "outputs": [],
   "source": [
    "x = np.linspace(-10, 10, 50)\n",
    "\n",
    "plt.plot(x, y(x));"
   ]
  },
  {
   "cell_type": "markdown",
   "metadata": {},
   "source": [
    "## Arrays\n",
    "\n",
    "**Arrays** are used on a quite regular basis. One can construct them in various ways. There are still other field types that look similar."
   ]
  },
  {
   "cell_type": "code",
   "execution_count": null,
   "metadata": {},
   "outputs": [],
   "source": [
    "array1 = np.array([1, 2, 3, 4, 5])\n",
    "array2 = np.linspace(1, 10, 10)\n",
    "array3 = np.array([(1, 2), (3, 4)])\n",
    "\n",
    "yourlist = [1, 2, 3, 4, 5]\n",
    "yourtuple = (1, 2, 3, 4, 5)\n",
    "\n",
    "print(array1)\n",
    "print(array2)\n",
    "print(array3)\n",
    "\n",
    "print(yourlist)\n",
    "print(yourtuple)\n",
    "\n",
    "print(type(array1))\n",
    "print(type(yourlist))\n",
    "print(type(yourtuple))"
   ]
  },
  {
   "cell_type": "markdown",
   "metadata": {},
   "source": [
    "Of course you can also calculate with arrays. Tuples and lists behave at first glance similar, but beneath the surface they have different properties."
   ]
  },
  {
   "cell_type": "code",
   "execution_count": null,
   "metadata": {},
   "outputs": [],
   "source": [
    "print(array1 * array1)\n",
    "print(array1 + array1)"
   ]
  },
  {
   "cell_type": "markdown",
   "metadata": {},
   "source": [
    "You can access the individual elements in an array or alter them intentionally."
   ]
  },
  {
   "cell_type": "code",
   "execution_count": null,
   "metadata": {},
   "outputs": [],
   "source": [
    "f = array1[1]\n",
    "g = array1[2]\n",
    "h = array1[4]\n",
    "\n",
    "print(f)\n",
    "print(g)\n",
    "print(h)\n",
    "\n",
    "array1[2] = 101\n",
    "\n",
    "print(array1)"
   ]
  },
  {
   "cell_type": "markdown",
   "metadata": {},
   "source": [
    "## Use as terminal\n",
    "\n",
    "In addition, Python can be used as a terminal (command line)."
   ]
  },
  {
   "cell_type": "code",
   "execution_count": null,
   "metadata": {},
   "outputs": [],
   "source": [
    "ls"
   ]
  }
 ],
 "metadata": {
  "kernelspec": {
   "display_name": "Python 3",
   "language": "python",
   "name": "python3"
  },
  "language_info": {
   "codemirror_mode": {
    "name": "ipython",
    "version": 3
   },
   "file_extension": ".py",
   "mimetype": "text/x-python",
   "name": "python",
   "nbconvert_exporter": "python",
   "pygments_lexer": "ipython3",
   "version": "3.9.1"
  }
 },
 "nbformat": 4,
 "nbformat_minor": 4
}
