{
 "cells": [
  {
   "attachments": {},
   "cell_type": "markdown",
   "metadata": {},
   "source": [
    "# High Throughput Growth Experiment Analysis in Biotechnology\n",
    "***\n",
    "\n",
    "## Background\n",
    "Biotechnology requires knowledge of microbial physiology and metabolism. Among the most important information is the growth rate and the substrate uptake rate. Both can be used to calculate the effectiveness of biotechnological production strategies and biomass and product yields. To identify an organism with suitable growth parameters, multiple strains, mutants or environmental conditions are tested which results in high throughput data. To analyse high throughput data computational approaches can speed up the process.\n",
    "\n",
    "There are different growth phenotypes: exponential, linear, saturated, diauxie. The typical microbial saturated growth is divided in different growth phases, lag, log, stationary, and death phase.\n",
    "\n",
    "Laws to describe a biomass $N$ include: \n",
    "- exponential law: $N(t) = N_0e^{\\mu t}$\n",
    "  - $N_0$: initial biomass, gDW/L\n",
    "  - $\\mu$: growth rate, /h\n",
    "  - $t$: duration, h\n",
    "- logistic growth law (Verhulst): $N(t) = \\frac{K}{1+\\left( \\frac{K-N_0}{N_0}e^{-\\mu t} \\right)}$\n",
    "  - $N_0$: initial biomass, gDW/L\n",
    "  - $\\mu$: growth rate, /h\n",
    "  - $t$: duration, h\n",
    "  - $K$: carrying capacity, max biomass, gDW/L\n",
    "- Gompertz function: $N(t) = N_0e^{\\left(\\textrm{ln} \\left(\\frac{K}{N_0} \\right)\\left(1 - e^{-\\mu t} \\right) \\right)}$\n",
    "  - $N_0$: initial biomass, gDW/L\n",
    "  - $\\mu$: growth rate, /h\n",
    "  - $t$: duration, h\n",
    "  - $K$: carrying capacity, max biomass, gDW/L\n",
    "- Baranyi model: complex model, see [literature](https://doi.org/10.1006/fmic.1999.0285)\n",
    "\n",
    "## Objective\n",
    "1. Determine the optimal growth temperature\n",
    "2. Calculate the growth rate and substrate uptake rate at different substrate concentrations\n",
    "3. Evaluate the growth yields\n",
    "\n",
    "### Additional information:\n",
    "- Hagen, Exponential growth of bacteria: Constant multiplication through division, American Journal of Physics, 2010. doi [10.1119/1.3483278](https://doi.org/10.1119/1.3483278)\n",
    "- Verduyn et al., A theoretical evaluation of growth yields of yeasts, Antoie van Leeuwenhoek, 1991. doi [10.1007/BF00582119](https://doi.org/10.1007/BF00582119)\n",
    "- Pirt, The maintenance energy of bacteria in growing cultures, 1965. doi [10.1098/rspb.1965.0069](https://doi.org/10.1098/rspb.1965.0069)\n",
    "\n",
    "## Workflow\n",
    "\n",
    "**1 Set-up of simulation environment**\n",
    " * *1.1 Loading Python libraries and functions*\n",
    " * *1.2 Seeding your individual organism*\n",
    "\n",
    "**2 High Throughput Temperature measurements**\n",
    " * *2.1 96-well plate experiment simulation* \n",
    " * *2.2 Python based data analysis*\n",
    " * *2.3 Data export to Excel*\n",
    " \n",
    "**3 Substrate uptake rates**\n",
    " * *3.1 Experiment setup (temperature, substrate concentrations, duration)*\n",
    " * *3.2 Data analysis*\n",
    " * *3.3 Data export to Excel* \n",
    "\n",
    "**4 Yield calculations**\n",
    " * *4.1 Yield formula*\n",
    " * *4.2 Assessment against published yields*\n",
    "\n",
    "**5 Evaluation by peer review**\n",
    " * *5.1 Report of results*\n",
    " * *5.2 Peer review*"
   ]
  },
  {
   "cell_type": "code",
   "execution_count": 1,
   "metadata": {},
   "outputs": [
    {
     "name": "stdout",
     "output_type": "stream",
     "text": [
      "System ready\n"
     ]
    }
   ],
   "source": [
    "# Loading of important functionalities for the notebook:\n",
    "# Loading numpy, a library fo manipulation of numbers:\n",
    "import os\n",
    "import numpy as np\n",
    "# Loading matplotlib, a library for visualization:\n",
    "import matplotlib.pyplot as plt\n",
    "# Initialization, loading of all laboratory functionalities and stored models and information of the organisms:\n",
    "from FermProSimFun import MonodModel as Model\n",
    "\n",
    "print('System ready')"
   ]
  },
  {
   "cell_type": "code",
   "execution_count": 18,
   "metadata": {},
   "outputs": [],
   "source": [
    "import pandas as pd\n",
    "import random"
   ]
  },
  {
   "cell_type": "code",
   "execution_count": 48,
   "metadata": {},
   "outputs": [
    {
     "data": {
      "text/html": [
       "<div>\n",
       "<style scoped>\n",
       "    .dataframe tbody tr th:only-of-type {\n",
       "        vertical-align: middle;\n",
       "    }\n",
       "\n",
       "    .dataframe tbody tr th {\n",
       "        vertical-align: top;\n",
       "    }\n",
       "\n",
       "    .dataframe thead th {\n",
       "        text-align: right;\n",
       "    }\n",
       "</style>\n",
       "<table border=\"1\" class=\"dataframe\">\n",
       "  <thead>\n",
       "    <tr style=\"text-align: right;\">\n",
       "      <th></th>\n",
       "      <th>0</th>\n",
       "      <th>1</th>\n",
       "      <th>2</th>\n",
       "    </tr>\n",
       "  </thead>\n",
       "  <tbody>\n",
       "    <tr>\n",
       "      <th>0</th>\n",
       "      <td>0.000000</td>\n",
       "      <td>0.010000</td>\n",
       "      <td>0.010000</td>\n",
       "    </tr>\n",
       "    <tr>\n",
       "      <th>1</th>\n",
       "      <td>1.111111</td>\n",
       "      <td>0.017429</td>\n",
       "      <td>0.012488</td>\n",
       "    </tr>\n",
       "    <tr>\n",
       "      <th>2</th>\n",
       "      <td>2.222222</td>\n",
       "      <td>0.030377</td>\n",
       "      <td>0.015596</td>\n",
       "    </tr>\n",
       "    <tr>\n",
       "      <th>3</th>\n",
       "      <td>3.333333</td>\n",
       "      <td>0.052945</td>\n",
       "      <td>0.019477</td>\n",
       "    </tr>\n",
       "    <tr>\n",
       "      <th>4</th>\n",
       "      <td>4.444444</td>\n",
       "      <td>0.092278</td>\n",
       "      <td>0.024324</td>\n",
       "    </tr>\n",
       "    <tr>\n",
       "      <th>5</th>\n",
       "      <td>5.555556</td>\n",
       "      <td>0.160832</td>\n",
       "      <td>0.030377</td>\n",
       "    </tr>\n",
       "    <tr>\n",
       "      <th>6</th>\n",
       "      <td>6.666667</td>\n",
       "      <td>0.280316</td>\n",
       "      <td>0.037937</td>\n",
       "    </tr>\n",
       "    <tr>\n",
       "      <th>7</th>\n",
       "      <td>7.777778</td>\n",
       "      <td>0.488566</td>\n",
       "      <td>0.047377</td>\n",
       "    </tr>\n",
       "    <tr>\n",
       "      <th>8</th>\n",
       "      <td>8.888889</td>\n",
       "      <td>0.851526</td>\n",
       "      <td>0.059167</td>\n",
       "    </tr>\n",
       "    <tr>\n",
       "      <th>9</th>\n",
       "      <td>10.000000</td>\n",
       "      <td>1.484132</td>\n",
       "      <td>0.073891</td>\n",
       "    </tr>\n",
       "  </tbody>\n",
       "</table>\n",
       "</div>"
      ],
      "text/plain": [
       "           0         1         2\n",
       "0   0.000000  0.010000  0.010000\n",
       "1   1.111111  0.017429  0.012488\n",
       "2   2.222222  0.030377  0.015596\n",
       "3   3.333333  0.052945  0.019477\n",
       "4   4.444444  0.092278  0.024324\n",
       "5   5.555556  0.160832  0.030377\n",
       "6   6.666667  0.280316  0.037937\n",
       "7   7.777778  0.488566  0.047377\n",
       "8   8.888889  0.851526  0.059167\n",
       "9  10.000000  1.484132  0.073891"
      ]
     },
     "execution_count": 48,
     "metadata": {},
     "output_type": "execute_result"
    }
   ],
   "source": []
  },
  {
   "cell_type": "code",
   "execution_count": 3,
   "metadata": {},
   "outputs": [
    {
     "data": {
      "text/plain": [
       "array([1.00000000e+00, 2.71828183e+00, 7.38905610e+00, 2.00855369e+01,\n",
       "       5.45981500e+01, 1.48413159e+02, 4.03428793e+02, 1.09663316e+03,\n",
       "       2.98095799e+03, 8.10308393e+03])"
      ]
     },
     "execution_count": 3,
     "metadata": {},
     "output_type": "execute_result"
    }
   ],
   "source": [
    "np.exp(np.arange(10))"
   ]
  }
 ],
 "metadata": {
  "kernelspec": {
   "display_name": "bls_py39",
   "language": "python",
   "name": "python3"
  },
  "language_info": {
   "codemirror_mode": {
    "name": "ipython",
    "version": 3
   },
   "file_extension": ".py",
   "mimetype": "text/x-python",
   "name": "python",
   "nbconvert_exporter": "python",
   "pygments_lexer": "ipython3",
   "version": "3.9.12 | packaged by conda-forge | (main, Mar 24 2022, 23:22:55) \n[GCC 10.3.0]"
  },
  "orig_nbformat": 4,
  "vscode": {
   "interpreter": {
    "hash": "8ab0679a85e808b525c00d4fc92f784010db8c1079cb8b0601dea8e039046879"
   }
  }
 },
 "nbformat": 4,
 "nbformat_minor": 2
}
