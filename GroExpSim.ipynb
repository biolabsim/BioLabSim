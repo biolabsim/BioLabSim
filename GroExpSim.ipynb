{
 "cells": [
  {
   "attachments": {},
   "cell_type": "markdown",
   "metadata": {},
   "source": [
    "# High Throughput Growth Experiment Analysis in Biotechnology\n",
    "***\n",
    "\n",
    "## Background\n",
    "Biotechnology requires knowledge of microbial physiology and metabolism. Among the most important information is the growth rate and the substrate uptake rate. Both can be used to calculate the effectiveness of biotechnological production strategies and biomass and product yields. To identify an organism with suitable growth parameters, multiple strains, mutants or environmental conditions are tested which results in high throughput data. To analyse high throughput data computational approaches can speed up the process.\n",
    "\n",
    "There are different growth phenotypes: exponential, linear, saturated, diauxie. The typical microbial saturated growth is divided in different growth phases, lag, log, stationary, and death phase.\n",
    "\n",
    "Laws to describe a biomass $N$ include: \n",
    "- exponential law: $N(t) = N_0e^{\\mu t}$\n",
    "  - $N_0$: initial biomass, gDW/L\n",
    "  - $\\mu$: growth rate, /h\n",
    "  - $t$: duration, h\n",
    "- logistic growth law (Verhulst): $N(t) = \\frac{K}{1+\\left( \\frac{K-N_0}{N_0}e^{-\\mu t} \\right)}$\n",
    "  - $N_0$: initial biomass, gDW/L\n",
    "  - $\\mu$: growth rate, /h\n",
    "  - $t$: duration, h\n",
    "  - $K$: carrying capacity, max biomass, gDW/L\n",
    "- Gompertz function: $N(t) = N_0e^{\\left(\\textrm{ln} \\left(\\frac{K}{N_0} \\right)\\left(1 - e^{-\\mu t} \\right) \\right)}$\n",
    "  - $N_0$: initial biomass, gDW/L\n",
    "  - $\\mu$: growth rate, /h\n",
    "  - $t$: duration, h\n",
    "  - $K$: carrying capacity, max biomass, gDW/L\n",
    "- Baranyi model: complex model, see [literature](https://doi.org/10.1006/fmic.1999.0285)\n",
    "\n",
    "## Objective\n",
    "1. Determine the optimal growth temperature\n",
    "2. Calculate the growth rate and substrate uptake rate at different substrate concentrations\n",
    "3. Evaluate the growth yields\n",
    "\n",
    "### Additional information:\n",
    "- Hagen, Exponential growth of bacteria: Constant multiplication through division, American Journal of Physics, 2010. doi [10.1119/1.3483278](https://doi.org/10.1119/1.3483278)\n",
    "- Verduyn et al., A theoretical evaluation of growth yields of yeasts, Antoie van Leeuwenhoek, 1991. doi [10.1007/BF00582119](https://doi.org/10.1007/BF00582119)\n",
    "- Pirt, The maintenance energy of bacteria in growing cultures, 1965. doi [10.1098/rspb.1965.0069](https://doi.org/10.1098/rspb.1965.0069)\n",
    "\n",
    "## Workflow\n",
    "\n",
    "**1 Set-up of simulation environment**\n",
    " * *1.1 Loading Python libraries and functions*\n",
    " * *1.2 Seeding your individual organism*\n",
    "\n",
    "**2 High Throughput Temperature measurements**\n",
    " * *2.1 96-well plate experiment simulation* \n",
    " * *2.2 Python based data analysis*\n",
    " * *2.3 Data export to Excel*\n",
    " \n",
    "**3 Substrate uptake rates**\n",
    " * *3.1 Experiment setup (temperature, substrate concentrations, duration)*\n",
    " * *3.2 Data analysis*\n",
    " * *3.3 Data export to Excel* \n",
    "\n",
    "**4 Yield calculations**\n",
    " * *4.1 Yield formula*\n",
    " * *4.2 Assessment against published yields*\n",
    "\n",
    "**5 Evaluation by peer review**\n",
    " * *5.1 Report of results*\n",
    " * *5.2 Peer review*"
   ]
  },
  {
   "cell_type": "code",
   "execution_count": 2,
   "metadata": {},
   "outputs": [
    {
     "name": "stdout",
     "output_type": "stream",
     "text": [
      "System ready\n"
     ]
    }
   ],
   "source": [
    "# Loading of important functionalities for the notebook:\n",
    "# Loading numpy, a library fo manipulation of numbers:\n",
    "import os\n",
    "import numpy as np\n",
    "# Loading matplotlib, a library for visualization:\n",
    "import matplotlib.pyplot as plt\n",
    "# Initialization, loading of all laboratory functionalities and stored models and information of the organisms:\n",
    "from FermProSimFun import MonodModel as Model\n",
    "\n",
    "from silvio.catalog.RecExpSim import RecExperiment, combine_data\n",
    "from silvio.extensions.records.gene.crafted_gene import CraftedGene\n",
    "\n",
    "from silvio.catalog.GroExpSim import *# GrowthExperiment\n",
    "\n",
    "print('System ready')"
   ]
  },
  {
   "cell_type": "code",
   "execution_count": 3,
   "metadata": {},
   "outputs": [],
   "source": [
    "exp = GrowthExperiment(161710)"
   ]
  },
  {
   "cell_type": "code",
   "execution_count": 4,
   "metadata": {},
   "outputs": [
    {
     "name": "stdout",
     "output_type": "stream",
     "text": [
      "Experiment:\n",
      "  budget = 10000\n",
      "  failure rate = 1.0\n",
      "  hosts = [ ecol ]\n"
     ]
    },
    {
     "data": {
      "text/plain": [
       "{'opt_growth_temp': 28,\n",
       " 'max_biomass': 31,\n",
       " 'Ks': 7.521,\n",
       " 'Yx': 0.47,\n",
       " 'k1': 0.156,\n",
       " 'umax': 0.716,\n",
       " 'make_generator': <bound method Host.make_generator of <silvio.catalog.GroExpSim.GroHost object at 0x7f1af26dc700>>}"
      ]
     },
     "execution_count": 4,
     "metadata": {},
     "output_type": "execute_result"
    }
   ],
   "source": [
    "host = exp.create_host('ecol')\n",
    "exp.print_status()\n",
    "vars(host.growth)"
   ]
  },
  {
   "cell_type": "code",
   "execution_count": 9,
   "metadata": {},
   "outputs": [
    {
     "name": "stdout",
     "output_type": "stream",
     "text": [
      "[0. 2. 4. 5. 7. 9.]\n",
      "Experiment:\n",
      "  budget = 9506\n",
      "  failure rate = 1.0\n",
      "  hosts = [ ecol ]\n"
     ]
    },
    {
     "name": "stderr",
     "output_type": "stream",
     "text": [
      "/home/ulf/anaconda3/envs/bls_py39/lib/python3.9/site-packages/pandas/core/internals/blocks.py:351: RuntimeWarning: divide by zero encountered in log\n",
      "  result = func(self.values, **kwargs)\n",
      "/home/ulf/Documents/2109_BLS+SILVIO/silvio/src/silvio/catalog/GroExpSim.py:218: FutureWarning: iteritems is deprecated and will be removed in a future version. Use .items instead.\n",
      "  for Exp,X in Biomass.iteritems(): # LnBiomass.iteritems(), Biomass.iteritems()\n"
     ]
    },
    {
     "data": {
      "image/png": "[encoded data removed]",
      "text/plain": [
       "<Figure size 640x480 with 1 Axes>"
      ]
     },
     "metadata": {},
     "output_type": "display_data"
    }
   ],
   "source": [
    "exp.simulate_monod(35,[10,6],'',test='Monod')\n",
    "exp.print_status()"
   ]
  },
  {
   "cell_type": "code",
   "execution_count": null,
   "metadata": {},
   "outputs": [
    {
     "data": {
      "text/plain": [
       "\"Monod_Model instance for a E. coli-batch microbial production process. \\nCurrent parameters: {'u0': 0, 'umax': 0.788, 'duration': 24, 'Ks': 9.04, 'Yx': 0.407, 'k1': 0.114}\""
      ]
     },
     "metadata": {},
     "output_type": "display_data"
    }
   ],
   "source": [
    "myMod = Model()\n",
    "# myMod.__str__()\n",
    "myMod.calculate_monod()\n",
    "myMod.plot_results()"
   ]
  },
  {
   "cell_type": "code",
   "execution_count": 67,
   "metadata": {},
   "outputs": [
    {
     "data": {
      "image/png": "[encoded data removed]",
      "text/plain": [
       "<Figure size 640x480 with 1 Axes>"
      ]
     },
     "metadata": {},
     "output_type": "display_data"
    }
   ],
   "source": [
    "import numpy as np\n",
    "# import math.radians as radians\n",
    " \n",
    "# Importing the Matplotlib Library\n",
    "import matplotlib.pyplot as plt\n",
    " \n",
    "# Creating a NumPy Array of 30 evenly-spaced elements\n",
    "a = np.linspace(1,50,30)\n",
    " \n",
    "\n",
    "# logit function to generate the price for amount of sampling\n",
    "# https://nathanbrixius.wordpress.com/2016/06/04/functions-i-have-known-logit-and-sigmoid/\n",
    "# increasing sampling amount will increase the price until a certain point\n",
    "# after that the price will remain constant until a certain point\n",
    "# after that the price will increase again\n",
    "# the input needs to be between 0 and 1, otherwise the function will return an error\n",
    "# therefore we need to normalize the input with a saturation function\n",
    "# the saturation function is a tanh function\n",
    "# the saturation function will be used to normalize the input\n",
    "myTanh = lambda x: np.tanh(x/20) #+ np.tanh(1/20)\n",
    "myLogit = lambda x: (np.log(x/(1-x))**3 - np.log(myTanh(1)/(1-myTanh(1)))**3 + 1)/26\n",
    "\n",
    " \n",
    "plt.plot(a, myLogit(myTanh(a)), color = \"green\", marker = \"o\")\n",
    "plt.title(\"numpy.tan()\")\n",
    "plt.xlabel(\"X\")\n",
    "plt.ylabel(\"Y\")\n",
    "plt.show()"
   ]
  }
 ],
 "metadata": {
  "kernelspec": {
   "display_name": "bls_py39",
   "language": "python",
   "name": "python3"
  },
  "language_info": {
   "codemirror_mode": {
    "name": "ipython",
    "version": 3
   },
   "file_extension": ".py",
   "mimetype": "text/x-python",
   "name": "python",
   "nbconvert_exporter": "python",
   "pygments_lexer": "ipython3",
   "version": "3.9.12"
  },
  "orig_nbformat": 4,
  "vscode": {
   "interpreter": {
    "hash": "8ab0679a85e808b525c00d4fc92f784010db8c1079cb8b0601dea8e039046879"
   }
  }
 },
 "nbformat": 4,
 "nbformat_minor": 2
}
