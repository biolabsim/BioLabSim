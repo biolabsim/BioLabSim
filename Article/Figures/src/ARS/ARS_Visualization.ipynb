{
 "cells": [
  {
   "cell_type": "markdown",
   "id": "occasional-convert",
   "metadata": {},
   "source": [
    "# Visualization of Heat Maps from audience response system"
   ]
  },
  {
   "cell_type": "code",
   "execution_count": null,
   "id": "polar-exercise",
   "metadata": {},
   "outputs": [],
   "source": [
    "import matplotlib.pyplot as plt\n",
    "import numpy as np\n",
    "from matplotlib.colors import ListedColormap\n"
   ]
  },
  {
   "cell_type": "code",
   "execution_count": null,
   "id": "acquired-rouge",
   "metadata": {},
   "outputs": [],
   "source": [
    "# Loading data\n",
    "DataFile = 'ARS_Results_Block.csv'\n",
    "my_data = np.genfromtxt(DataFile, delimiter=',', skip_header=1)\n",
    "myX, myY = my_data[:,0], my_data[:,1]\n",
    "\n",
    "#discrete color scheme\n",
    "cMap = ListedColormap(['white', 'grey', 'black'])\n"
   ]
  },
  {
   "cell_type": "code",
   "execution_count": null,
   "id": "advisory-parks",
   "metadata": {},
   "outputs": [],
   "source": [
    "# colorbar customization:\n",
    "# https://jakevdp.github.io/PythonDataScienceHandbook/04.07-customizing-colorbars.html\n",
    "plt.hist2d(myX, myY, cmap=cMap) # cmap='gray_r\n",
    "plt.xlabel('GC content')\n",
    "plt.ylabel('relative expression')\n",
    "plt.colorbar(ticks=range(3), label='# of responses')\n",
    "plt.clim(-0.5, 2.5)\n",
    "plt.savefig('GCcont-VS-Express_Response.svg', format='svg')\n",
    "plt.show()"
   ]
  }
 ],
 "metadata": {
  "kernelspec": {
   "display_name": "biolabsim",
   "language": "python",
   "name": "biolabsim"
  },
  "language_info": {
   "codemirror_mode": {
    "name": "ipython",
    "version": 3
   },
   "file_extension": ".py",
   "mimetype": "text/x-python",
   "name": "python",
   "nbconvert_exporter": "python",
   "pygments_lexer": "ipython3",
   "version": "3.9.1"
  }
 },
 "nbformat": 4,
 "nbformat_minor": 5
}
