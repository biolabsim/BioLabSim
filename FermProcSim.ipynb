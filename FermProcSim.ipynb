{
 "cells": [
  {
   "cell_type": "markdown",
   "metadata": {},
   "source": [
    "# Simulation of Fermentation and Down-Stream-Processing"
   ]
  },
  {
   "cell_type": "markdown",
   "metadata": {},
   "source": [
    "Als Inputs wurden verwendet:\n",
    "\t\n",
    "\tInput\t\t\t\tWertebereich\n",
    "\t1. Zeit \t\t\t\t(0-165 h) \n",
    "\t2. Temperatur \t\t\t(29-31 °C) \n",
    "\t3. Rührergeschwindigkeit \t(500-1200 rpm) \n",
    "\t4. pH-Wert \t\t\t(2,8-5) \n",
    "\t5. dO \t\t\t\t(0-100 %) \n",
    "\t6. zugeführte Base \t\t(0-50 ml)\n",
    "\t7. zugeführtes Substrat \t(0-300 ml)\n",
    "\t8. Pumprate Substrat\t\t(0-1,5 %)\n",
    "\n",
    "Output des Ganzen war dann das CDW (Cell Dry Weight) (0-110 g/L).\n",
    "Die Inputs wurden normiert, damit der unterschiedliche Wertebereich die Gewichtung nicht verfälscht. Der Anteil von Test- zu Validierungsset lag bei 75/25 %. \n",
    "Verschiedene Methoden wurden für die Modellierung getestet, bei der Validierung hat dabei eine Support Vector Machine mit Gaußscher Kernel-Funktion am besten abgeschnitten.\n",
    "\n",
    "Für die Studierenden stelle ich mir folgenden Workflow vor:\n",
    "\t- Aus (zusätzlichen) Inputs nur diejenigen mit Korrelation zur Zielgröße auszuwählen (optische Beurteilung der \tInputs, Confusion Matrix, PCA o.ä.) -> Eventuell Glättung / Ausreißerentfernung der gewählten Inputs.\n",
    "\n",
    "\t- Die Messungen vom CDW erfolgten im Gegensatz zu den Inputs nur stündlich, das heißt man könnte auswählen:\n",
    "\tInterpolation des CDW (linear oder komplexere Algorithmen?) oder nur diejenigen Inputs verwenden, für die auch \tein offline-Wert vorliegt.\n",
    "\n",
    "\t- Es könnte ein Vergleich zwischen normierten / unnormierten Inputs erfolgen (besonders spannend bei \tunterschiedlichen Trainingsalgorithmen)\n",
    "\n",
    "Dann könnte das Training von diversen Modellen gestartet werden, z.B. ein Vergleich von MLR, SVM, ANN etc. - Rechenzeit limitiert hier natürlich). Oder man beschränkt sich auf ein Modell, dessen Hyperparameter dann getuned werden könnten. Evtl. auch grid search/Bayes-Optimierung als Methode vorstellen? Nach dem Training dann die Auswahl des geeigneten Modells über das Validierungsset (/ Auswahl eines passenden Qualitätskriteriums). Eventuell könnte man hier auch das Phänomen des Overfittings demonstrieren."
   ]
  }
 ],
 "metadata": {
  "kernelspec": {
   "display_name": "Python 3",
   "language": "python",
   "name": "python3"
  },
  "language_info": {
   "codemirror_mode": {
    "name": "ipython",
    "version": 3
   },
   "file_extension": ".py",
   "mimetype": "text/x-python",
   "name": "python",
   "nbconvert_exporter": "python",
   "pygments_lexer": "ipython3",
   "version": "3.8.5"
  }
 },
 "nbformat": 4,
 "nbformat_minor": 4
}
