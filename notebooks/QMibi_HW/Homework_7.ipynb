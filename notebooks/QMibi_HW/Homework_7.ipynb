{
 "cells": [
  {
   "cell_type": "markdown",
   "id": "9ba58f29",
   "metadata": {},
   "source": [
    "# Homework 7\n",
    "### Version 0.0.4\n",
    "\n",
    "## General introduction\n",
    "\n",
    "The Jupyter Notebook contains the steps to perform the homeworks for Quantitative Mikrobiology.\n",
    "\n",
    "The sequence is as follows:\n",
    " - Load auxiliary libraries\n",
    " - Homework description\n",
    " - Initialize the homework with you student ID\n",
    " - Answer the questions\n",
    " \n",
    "When done with the homework:\n",
    " - Download your solved `Homework_7.ipynb` notebook\n",
    " - Upload the downloaded notebook to the designated `Moodle-task`\n",
    "\n",
    "Read all cells, perform the calculations with your individual parameters and write or select your results in the corresponding moodle task. \n",
    "\n",
    "## Calculation Support\n",
    "Help required? \n",
    "\n",
    "Every question that requires calculation has a Button called **'Calculation Help'** that gives you a tipp on how to solve the task.\n",
    "\n",
    "\n",
    "## Load auxiliary libraries\n",
    "Evaluate the following cell."
   ]
  },
  {
   "cell_type": "code",
   "execution_count": 2,
   "id": "78858413",
   "metadata": {},
   "outputs": [],
   "source": [
    "#Innit\n",
    "import os\n",
    "import numpy as np\n",
    "import pandas as pd\n",
    "import scipy as sp\n",
    "import matplotlib.pyplot as plt\n",
    "import seaborn as sns\n",
    "import ipywidgets as widgets\n",
    "import random as rd\n",
    "import copy\n",
    "from IPython.display import Image\n",
    "\n",
    "#!pip install iambcodes\n",
    "#from iambcodes.homeworks import *\n",
    "\n",
    "\n",
    "#load_file = os.path.join('801331_Data_Blank1997_Strn_080624_v2.xls')\n",
    "#loaded_df = pd.read_excel(load_file, sheet_name='Fig.3.6_data', header=1, index_col=0)"
   ]
  },
  {
   "cell_type": "markdown",
   "id": "3a54ebe0-7022-40c7-82c3-45290f700429",
   "metadata": {},
   "source": [
    "## Initialize homework with student ID\n",
    " 1. Enter your matriculation number in the varibale `StudID`, input: integer\n",
    " 2. Evaluate the cell.\n",
    " 3. Use the generated Parameters for your tasks"
   ]
  },
  {
   "cell_type": "code",
   "execution_count": 14,
   "id": "a38f2f22-cdc8-49f6-9fd1-af718900d314",
   "metadata": {},
   "outputs": [
    {
     "data": {
      "application/vnd.jupyter.widget-view+json": {
       "model_id": "7292b704011b4f2483bf0791b0eab8fe",
       "version_major": 2,
       "version_minor": 0
      },
      "text/plain": [
       "VBox(children=(IntText(value=0, description='Student ID:'), Button(description='Generate Parameters', style=Bu…"
      ]
     },
     "metadata": {},
     "output_type": "display_data"
    }
   ],
   "source": [
    "myQo = full_question_objects()\n",
    "myTo = full_task_objects()\n",
    "myT1 = create_homework_seven_task_one_one()\n",
    "\n",
    "display(myT1.init_display)\n",
    "myT1.init_display.children[-2].on_click(myT1.on_init_homework_button_clicked)"
   ]
  },
  {
   "cell_type": "code",
   "execution_count": 1,
   "id": "3d4488d4-24c0-4f32-80d5-71e4ee3903fb",
   "metadata": {
    "jupyter": {
     "source_hidden": true
    },
    "tags": []
   },
   "outputs": [],
   "source": [
    "class create_question_homework_seven():\n",
    "    #Innit: a question is comprised of the actual\n",
    "    #Question (string)\n",
    "    #and a list of answer_options (string) and an int if they are true (1) or not (0)\n",
    "    def __init__(self, question = str, answers = [], image = None):\n",
    "        if image != None:\n",
    "            try:\n",
    "                file = open(image, \"rb\")\n",
    "                image = file.read()\n",
    "                self.image_widget = self.create_image_widget(image)\n",
    "            except:\n",
    "                print(\"No image to load!\")\n",
    "                self.image_widget = None\n",
    "        else:\n",
    "            self.image_widget = None\n",
    "        self.question = question\n",
    "        self.answerobjects = []\n",
    "        self.create_answer_option_objects(answers)\n",
    "        #self.answerobjects = self.create_answer_option_objects()\n",
    "        #self.answerobjects2 = []\n",
    "        \n",
    "    #create a label with the question\n",
    "    def create_question_label(self):\n",
    "        self.question_label  = widgets.Label(value=self.question)\n",
    "        return\n",
    "    \n",
    "    def create__verify_button(self):\n",
    "        self.verify_button = widgets.Button(\n",
    "            description='Verify answer',\n",
    "            disabled=False,\n",
    "            button_style='warning', # 'success', 'info', 'warning', 'danger' or ''\n",
    "            tooltip='Click here to verify your answer!',\n",
    "            icon='check' # (FontAwesome names without the `fa-` prefix)\n",
    "        )\n",
    "        return\n",
    "    \n",
    "    def create_image_widget(self, image):\n",
    "        i =  widgets.Image(\n",
    "            value=image,\n",
    "            format='png',\n",
    "            width=300,\n",
    "            height=300,\n",
    "        )\n",
    "        return i\n",
    "    \n",
    "    #def create_answer_option_objects(self):\n",
    "    #    list_of_objects = []\n",
    "    #    for i in self.answers:\n",
    "    #        y = create_answer_option(i[0],i[1])\n",
    "    #        list_of_objects.append(y)\n",
    "    #    return list_of_objects\n",
    "    \n",
    "    def create_answer_option_objects(self, original_list_of_answers):\n",
    "        list_of_answers = copy.deepcopy(original_list_of_answers)\n",
    "        x = len(list_of_answers)\n",
    "        if x == 1:\n",
    "            self.answerobjects.append(create_answer_option(list_of_answers[0][0],list_of_answers[0][1]))\n",
    "            return\n",
    "        if x == 0:\n",
    "            print('Something went wrong')\n",
    "            return\n",
    "        else:\n",
    "            y = rd.randint(0,x-1)\n",
    "            self.answerobjects.append(create_answer_option(list_of_answers[y][0],list_of_answers[y][1]))\n",
    "            del list_of_answers[y]\n",
    "            self.create_answer_option_objects(list_of_answers)\n",
    "            return\n",
    "    \n",
    "    def check_answer_option_objects(self):\n",
    "        for i in self.answerobjects:\n",
    "            i.check_anwer_option()\n",
    "        return\n",
    "    \n",
    "    def get_full_question(self):\n",
    "        l = []\n",
    "        self.create_question_label()\n",
    "        self.create__verify_button()\n",
    "        l.append(self.question_label)\n",
    "        \n",
    "        if self.image_widget != None:\n",
    "            l.append(self.image_widget)\n",
    "        \n",
    "        for i in self.answerobjects:\n",
    "            l.append(i.button)\n",
    "        \n",
    "        l.append(self.verify_button)\n",
    "        wbox = widgets.VBox(l)\n",
    "        return wbox\n",
    "    \n",
    "    def on_button_clicked(self, click):\n",
    "        self.verify_button.disabled = True\n",
    "        self.check_answer_option_objects()\n",
    "\n",
    "class create_answer_option():\n",
    "    def __init__(self, descr = str, yesorno = int, optionlist = None):\n",
    "        if optionlist == None:\n",
    "            optionlist = [(\"True\",1),(\"False\",0)]\n",
    "        self.optionlist = optionlist\n",
    "        self.descr = descr\n",
    "        self.yesorno = yesorno\n",
    "        self.button = self.create_answer_option_button()\n",
    "\n",
    "    #create a toggle button for a single answer_option\n",
    "    def create_answer_option_button(self):\n",
    "        w = widgets.ToggleButtons(\n",
    "            options= self.optionlist,\n",
    "            description=self.descr,\n",
    "            disabled=False,\n",
    "            button_style='', # 'success', 'info', 'warning', 'danger' or ''\n",
    "           # tooltips=['Description of slow', 'Description of regular', 'Description of fast'],\n",
    "            display='flex',\n",
    "            flex_flow='column',\n",
    "            align_items='stretch',\n",
    "            style= {'description_width': 'initial'},\n",
    "            layout = widgets.Layout(width='auto', height='40px')\n",
    "        )\n",
    "        return w\n",
    "    \n",
    "    def check_anwer_option(self):\n",
    "        if self.button.value == self.yesorno:\n",
    "            if self.button.value == 1:\n",
    "                self.button.icons = [\"check\",\"\"]\n",
    "            if self.button.value == 0:\n",
    "                self.button.icons = [\"\",\"check\"]\n",
    "            self.button.button_style = 'success'\n",
    "            self.button.disabled = True\n",
    "        elif self.button.value != self.yesorno:\n",
    "            if self.button.value == 1:\n",
    "                self.button.icons = [\"\",\"check\"]\n",
    "            if self.button.value == 0:\n",
    "                self.button.icons = [\"check\",\"\"]\n",
    "            self.button.button_style = \"danger\"\n",
    "            self.button.disabled = True\n",
    "\n",
    "            \n",
    "class create_homework_seven_task():\n",
    "    def __init__(self, question, solution):\n",
    "        self.question = question\n",
    "        self.sol = solution\n",
    "        self.create_int_text()\n",
    "        self.create_question_label()\n",
    "        \n",
    "    def create_question_label(self):\n",
    "        self.question_label = widgets.Label(\n",
    "            value=self.question,\n",
    "            display='flex',\n",
    "            flex_flow='column',\n",
    "            align_items='stretch',\n",
    "            style= {'description_width': 'initial'},\n",
    "            layout = widgets.Layout(width='auto')    \n",
    "        )\n",
    "    \n",
    "    def create_int_text(self):\n",
    "        self.int_text = widgets.IntText(\n",
    "            value=0,\n",
    "            description='Answer:',\n",
    "            tooltip ='Answer:',\n",
    "            disabled=False,\n",
    "            display='flex',\n",
    "            flex_flow='column',\n",
    "            align_items='stretch',\n",
    "            style= {'description_width': 'initial'},\n",
    "            layout = widgets.Layout(width='auto', height='40px')\n",
    "        )\n",
    "    \n",
    "    def create_verify_button(self):\n",
    "        self.verify_button = widgets.Button(\n",
    "            description='Verify answer',\n",
    "            disabled=False,\n",
    "            button_style='warning', # 'success', 'info', 'warning', 'danger' or ''\n",
    "            tooltip='Click here to verify your answer!',\n",
    "            icon='check', # (FontAwesome names without the `fa-` prefix),\n",
    "            display='flex',\n",
    "            flex_flow='column',\n",
    "            align_items='stretch',\n",
    "            style= {'description_width': 'initial'},\n",
    "            layout = widgets.Layout(width='auto', height='40px')\n",
    "        )\n",
    "            \n",
    "    def create_help_button(self):\n",
    "        self.help_button = widgets.Button(\n",
    "            description='Help required?',\n",
    "            disabled=False,\n",
    "            button_style='info', # 'success', 'info', 'warning', 'danger' or ''\n",
    "            tooltip='Click here to get a tipp!',\n",
    "            display='flex',\n",
    "            flex_flow='column',\n",
    "            align_items='stretch',\n",
    "            style= {'description_width': 'initial'},\n",
    "            layout = widgets.Layout(width='auto', height='40px')\n",
    "        )\n",
    "        \n",
    "    def on_verify_button_clicked(self, click):\n",
    "        if self.int_text.value == self.sol:\n",
    "            self.verify_button.disabled = True\n",
    "            self.int_text.disabled = True\n",
    "            self.verify_button.button_style = 'success'\n",
    "            self.verify_button.description=\"Correct answer!\"\n",
    "        else:\n",
    "            #self.verify_button.disabled = True\n",
    "            #self.int_text.disabled = True\n",
    "            self.verify_button.button_style = 'danger'\n",
    "            self.verify_button.description=\"Wrong answer. Please try again!\"\n",
    "            \n",
    "    def on_help_button_clicked(self, click):\n",
    "        self.help_button.disabled = True\n",
    "        #\n",
    "        #To be determined\n",
    "        #\n",
    "    \n",
    "    def get_full_question(self):\n",
    "        self.create_verify_button()\n",
    "        self.create_help_button()\n",
    "        i = [self.verify_button, self.help_button]\n",
    "        hbox = widgets.HBox(i)\n",
    "        \n",
    "        j = [self.question_label, self.int_text,hbox]\n",
    "        wbox = widgets.VBox(j)\n",
    "        return wbox\n",
    "\n",
    "class create_homework_seven_task_one_one():\n",
    "    def __init__(self, matricnb = int):\n",
    "        self.init_display = self.build_init_display()\n",
    "        self.question =  \"What is the maximum specific growth rate? [1/h]\"\n",
    "        #self.create_solution() #needs self.ID from self.init_display #gets moved to on-click event in init-display\n",
    "        self.create_float_text()\n",
    "        self.create_question_label()\n",
    "        self.output = widgets.Output()\n",
    "        #self.ID created by on-click event on button in self.init_display\n",
    "        #self.sol created by  self.create_solution()\n",
    "    \n",
    "    def create_solution(self, ID):\n",
    "        if type(ID) == int:\n",
    "            rd.seed(ID)\n",
    "            listofrndms = [rd.random() for i in range(10)]\n",
    "            #self.sol = 0.300+listofrndms[9]*0.100\n",
    "            self.sol = 0.386\n",
    "        elif matricnb == \"Test\":\n",
    "            self.sol = 0.386\n",
    "        else:\n",
    "            with self.init_display.children[-1]:\n",
    "                print(\"matriculation number has to be an integer!\")\n",
    "                #self.output.clear_output(wait=True)\n",
    "    \n",
    "    def create_question_label(self):\n",
    "        self.question_label = widgets.Label(\n",
    "            value=self.question,\n",
    "            display='flex',\n",
    "            flex_flow='column',\n",
    "            align_items='stretch',\n",
    "            style= {'description_width': 'initial'},\n",
    "            layout = widgets.Layout(width='auto')    \n",
    "        )\n",
    "    \n",
    "    def create_float_text(self):\n",
    "        self.float_text = widgets.FloatText(\n",
    "            value=0,\n",
    "            description='maximum specific growthrate\\n|| Example: µ = 1.00 (Float)',\n",
    "            tooltip ='maximum specific growthrate\\n|| Example: µ = 1.00 (Float)',\n",
    "            disabled=False,\n",
    "            display='flex',\n",
    "            flex_flow='column',\n",
    "            align_items='stretch',\n",
    "            style= {'description_width': 'initial'},\n",
    "            layout = widgets.Layout(width='auto', height='40px')\n",
    "        )\n",
    "    \n",
    "    def create_verify_button(self):\n",
    "        self.verify_button = widgets.Button(\n",
    "            description='Verify answer',\n",
    "            disabled=False,\n",
    "            button_style='warning', # 'success', 'info', 'warning', 'danger' or ''\n",
    "            tooltip='Click here to verify your answer!',\n",
    "            icon='check', # (FontAwesome names without the `fa-` prefix),\n",
    "            display='flex',\n",
    "            flex_flow='column',\n",
    "            align_items='stretch',\n",
    "            style= {'description_width': 'initial'},\n",
    "            layout = widgets.Layout(width='auto', height='40px')\n",
    "        )\n",
    "            \n",
    "    def create_help_button(self):\n",
    "        self.help_button = widgets.Button(\n",
    "            description='Help required?',\n",
    "            disabled=False,\n",
    "            button_style='info', # 'success', 'info', 'warning', 'danger' or ''\n",
    "            tooltip='Click here to get a tipp!',\n",
    "            display='flex',\n",
    "            flex_flow='column',\n",
    "            align_items='stretch',\n",
    "            style= {'description_width': 'initial'},\n",
    "            layout = widgets.Layout(width='auto', height='40px')\n",
    "        )\n",
    "        \n",
    "    def on_verify_button_clicked(self, click):\n",
    "        if round(self.float_text.value,2) == round(self.sol,2):\n",
    "            self.verify_button.disabled = True\n",
    "            self.float_text.disabled = True\n",
    "            self.verify_button.button_style = 'success'\n",
    "            self.verify_button.description=\"Correct answer!\"\n",
    "        elif round(self.float_text.value,1) == round(self.sol,1):\n",
    "            self.verify_button.button_style = 'danger'\n",
    "            self.verify_button.description=\"Wrong answer, but close! Please try again!\"\n",
    "        else:\n",
    "            #self.verify_button.disabled = True\n",
    "            #self.int_text.disabled = True\n",
    "            self.verify_button.button_style = 'danger'\n",
    "            self.verify_button.description=\"Wrong answer. Please try again!\"\n",
    "            \n",
    "    def on_help_button_clicked(self, click):\n",
    "        self.help_button.disabled = True\n",
    "        txt = \"\"\"\n",
    "##########\\n\n",
    "For cells growing at a constant specific growth rate µ/m, the biomass concentration x increases with time:\\n\n",
    "x_i = x_0 * e^m\\n\n",
    "m_max can be determined by plotting the natural logarithm of the OD against the time h\\nand determining the slop of the exponential growth phase\\n \n",
    "m = (ln(x_o) - ln(x_i)) / t\\n\n",
    "##########\\n\n",
    "        \"\"\"\n",
    "        with self.output:\n",
    "            print(txt)\n",
    "            \n",
    "    #on-click in init-display:\n",
    "    #store Student-ID in self.ID\n",
    "    def on_init_homework_button_clicked(self, click):\n",
    "        self.init_display.children[1].disabled = True\n",
    "        ID = self.init_display.children[0].value\n",
    "        self.create_solution(ID)\n",
    "\n",
    "    \n",
    "    def get_full_question(self):\n",
    "        self.create_verify_button()\n",
    "        self.create_help_button()\n",
    "        i = [self.verify_button, self.help_button]\n",
    "        hbox = widgets.HBox(i)\n",
    "        \n",
    "        j = [self.question_label, self.float_text,hbox, self.output]\n",
    "        wbox = widgets.VBox(j)\n",
    "        return wbox\n",
    "    \n",
    "    def build_init_display(self):\n",
    "        StudID = widgets.IntText( description='Student ID:', value=0 )\n",
    "        button_StudID   = widgets.Button( description='Generate Parameters' )\n",
    "        output = widgets.Output()\n",
    "\n",
    "        disp=widgets.VBox([StudID,button_StudID, output]) \n",
    "        return disp\n",
    "\n",
    "###\n",
    "def full_question_objects():\n",
    "    q_1_1_answers = [\n",
    "        [\"for butanol between 17 h - 32 h from the start of the process\",0],\n",
    "        [\"for neither butanol or butyrate\",0],\n",
    "        [\"for butyrate between 8 h - 14 h from the start of the process\",1]    \n",
    "    ]\n",
    "    q_1_2_answers = [\n",
    "        [\"is reached after complete glucose degradiation\",0],\n",
    "        [\"is 18.4 mM/h\",1],\n",
    "        [\"is reached before complete butyrate degradiation\",1],\n",
    "        [\"is 13.3 mM/h\",0]\n",
    "    ]\n",
    "    q_1_3_1_answers = [\n",
    "        [\"increases linearly\",0],\n",
    "        [\"decreeases linearly\",0],\n",
    "        [\"increases exponentially\",1],\n",
    "        [\"decreases exponentially\",0],\n",
    "        [\"stays constant\",0]\n",
    "    ]\n",
    "    q_1_3_2_answers = [\n",
    "        [\"stays the same\",0],\n",
    "        [\"exponentially\",1],\n",
    "        [\"linearly\",0]\n",
    "    ]\n",
    "    q_1_3_3_answers = [\n",
    "        [\"a linear increase in product concentration\",0],\n",
    "        [\"an exponential increase in product concentration\",1]\n",
    "    ]\n",
    "    q_1_3_4_answers = [\n",
    "        [\"the kinetic orders of both formation processes are the same\",1],\n",
    "        [\"the formation rates of both formation processes are the same\",0],\n",
    "        [\"product formation is growth-dependent\",1],\n",
    "        [\"product formation is growth-independent\",0]\n",
    "    ]\n",
    "    q_2_1_answers = [\n",
    "        [\"1+2 are organic solvents\",0],\n",
    "        [\"3+4 are organic solvents\",1],\n",
    "        [\"1+2 are organic acids\",1],\n",
    "        [\"3+4 are organic acids\",0]\n",
    "    ]\n",
    "    q_2_2_answers = [\n",
    "        [\"Acetyl-CoA ↔ Acetat + ATP\\nAcetoacetyl-CoA + Butyrat → Aceton + CO2 + Butyryl-CoA\",0],\n",
    "        [\"Butyryl-CoA ↔ Butyrat + ATP\\nAcetoacetyl-CoA + Acetat → Aceton + CO2 + Acetyl-CoA\",0],\n",
    "        [\"Butyryl-CoA ↔ Butyrat + ATP\\nAcetoacetyl-CoA + Butyrat → Aceton + CO2 + Butyryl-CoA\",1],\n",
    "        [\"Acetate_extracellular ↔ Acetate_intracellular\\nAcetoacetyl-CoA + Acetat → Aceton + CO2 + Acetyl-CoA\",1],\n",
    "        [\"Acetyl-CoA ↔ Acetat + ATP\\nAcetoacetyl-CoA + Acetat → Aceton + CO2 + Acetyl-CoA\",1]\n",
    "    ]\n",
    "    q_2_3_1_answers = [\n",
    "        [\"not be determined by determining the concentration over time using HPLC,\\nsince the metabolic network has too many degrees of freedom (is underdetermined).\",1],\n",
    "        [\"be determined by determining the concentration over time using HPLC.\",0],\n",
    "        [\"not be determined by determining concentration over time using HPLC since acetone is volatile.\",0]\n",
    "    ]\n",
    "    q_2_3_2_answers = [\n",
    "        [\"undetermined; not all intracellular rates can be calculated.\",1],\n",
    "        [\"over-determined; all intracellular rates can be calculated and error estimation performed.\",0],\n",
    "        [\"determined; all intracellular rates can be determined.\",0]\n",
    "    ]\n",
    "    q_3_1_answers = [\n",
    "        [\"Acetyl-CoA ↔ Acetat + ATP\\nAcetoacetyl-CoA + Acetat → Aceton + CO2 + Acetyl-CoA\",0],\n",
    "        [\"Butyryl-CoA ↔ Butyrat + ATP\",1],\n",
    "        [\"Acetoacetyl-CoA → Acceton + CO2 + ATP\",1],#added Aceton on Product side (Quant-MiBi_Calc-Guide.pdf, p. 30)\n",
    "        [\"Acetyl-P ↔ Acetat + ATP\",0],\n",
    "        [\"Butyryl-CoA ↔ Butyrat + ATP\\nAcetoacetyl-CoA + Butyrat → Aceton + CO2 + Butyryl-CoA\",0],\n",
    "        [\"Acetyl-CoA ↔ Acetat + ATP\",1]\n",
    "    ]\n",
    "    q_3_2_answers = [\n",
    "        [\"yes\",0],\n",
    "        [\"no\",1]\n",
    "    ]\n",
    "    question_dict = {}\n",
    "    question_dict[\"q_1_1\"] = [\"The formation is directly proportional to the biomass increase:\",q_1_1_answers, None]\n",
    "    question_dict[\"q_1_2\"] = [\"The maximum rate of butanol formation:\",q_1_2_answers, None]\n",
    "    question_dict[\"q_1_3_1\"] = [\"If the biomass concentration increases exponentially over time, the biomass formation rate is:\",q_1_3_1_answers, None]\n",
    "    question_dict[\"q_1_3_2\"] = [\"For cells that proliferate at a constant specific growth rate µ, the concentration of biomass increases over time:\",q_1_3_2_answers, None]\n",
    "    question_dict[\"q_1_3_3\"] = [\"Product formation according to first-order kinetics corresponds to:\",q_1_3_3_answers, None]\n",
    "    question_dict[\"q_1_3_4\"] = [\"If there is a linear relationship between the product and biomass concentration r_x:\",q_1_3_4_answers, None]\n",
    "    question_dict[\"q_2_1\"] = [\"Which C. acetobutylicum products are represented by curves 1, 2, 3, and 4?\",q_2_1_answers, \"data/801059_Graph_Blank1997_Prozess_C acetobutylicum_lora_080703_v3_modified4question.png\"]\n",
    "    question_dict[\"q_2_2\"] = [\"Which reaction equations represent a possible synthetic route to acetone?\",q_2_2_answers, None]\n",
    "    question_dict[\"q_2_3_1\"] = [\"The reaction rates to acetone can:\",q_2_3_1_answers, None]\n",
    "    question_dict[\"q_2_3_2\"] = [\"The metabolic (stoichiometric) model is:\",q_2_3_2_answers, None]\n",
    "    question_dict[\"q_3_1\"] = [\"Which reaction equations represent the net equations for butyrate, acetate and acetone?\",q_3_1_answers, None]\n",
    "    question_dict[\"q_3_2\"] = [\"Is the acetone synthesis rate determinable?\",q_3_2_answers, None]\n",
    "    \n",
    "    \n",
    "    list_of_objects = []\n",
    "    for i in question_dict.keys():\n",
    "        list_of_objects.append(create_question_homework_seven(question_dict[i][0],question_dict[i][1], question_dict[i][2]))\n",
    "    return list_of_objects\n",
    "\n",
    "def full_task_objects():\n",
    "    #t_1_1 = [\n",
    "    #    \"What is the maximum specific growth rate? [1/h]\",0.368\n",
    "    #]\n",
    "    t_2_1_1 = [\n",
    "        \"How many reaction rates does the stoichiometric model representing the metabolic network of C. acetobutylicum contain?\",20\n",
    "    ]\n",
    "    t_2_1_2 = [\n",
    "     \"How many reaction pathways are there for the synthesis of acetone in C. acetobutylicum?\",2   \n",
    "    ]\n",
    "    t_2_2_1 = [\n",
    "     \"How many rates are in r_m?\",8\n",
    "    ]\n",
    "    t_2_2_2 = [\n",
    "     \"The number of rates r_c to calculate is:\",12#is 12 correct?   \n",
    "    ]\n",
    "    t_2_2_3 = [\n",
    "     \"How many of (all) the rates can be determined using liquid chromatography (HPLC with any detector) and a spectrophotometer?\",8   \n",
    "    ]\n",
    "    t_3_1 = [\n",
    "     \"How many reaction equations does the simplified metabolic model for calculating the intracellular reaction rates including acetone production contain?\",11   \n",
    "    ]\n",
    "\n",
    "    task_dict = {}\n",
    "    #task_dict[\"t_1_1\"] = t_1_1 #NOTE: Task 1.1 requires calculation and a float value as answer. because of this, it was kept seperate.\n",
    "    task_dict[\"t_2_1_1\"] = t_2_1_1\n",
    "    task_dict[\"t_2_1_2\"] = t_2_1_2\n",
    "    task_dict[\"t_2_2_1\"] = t_2_2_1\n",
    "    task_dict[\"t_2_2_2\"] = t_2_2_2\n",
    "    task_dict[\"t_2_2_3\"] = t_2_2_3\n",
    "    task_dict[\"t_3_1\"] = t_3_1\n",
    "    \n",
    "    \n",
    "    list_of_objects = []\n",
    "    for i in task_dict.keys():\n",
    "        list_of_objects.append(create_homework_seven_task(task_dict[i][0],task_dict[i][1]))\n",
    "    return list_of_objects"
   ]
  },
  {
   "cell_type": "markdown",
   "id": "17b34a84",
   "metadata": {
    "tags": []
   },
   "source": [
    "## Question 1 - How fast and with which kinetics is the product formed?\n",
    "\n",
    "**Steps:**\n",
    "* inspect the raw data (**Excel-sheet 801331_Data_Blank1997_Strn_080624_v2.xls**) and related figures (**Homework_7_Materials.ipynb**)\n",
    "* **Calculate the maximum specific growthrate $\\mu_{max}$ for growth on glucose.**\n",
    "\n",
    "![image](data/775940_Graph_Varma1994_mumax_Lor_070302_v1.png)\n",
    "\n",
    "**Steps:**\n",
    "* **Answer questions on the influence of biomass-increase  on the butanol and butyrate productions.**\n",
    "* **Answer questions on maximum production-rates**\n",
    "* **Answer questions about the lecture (Part 1)**\n"
   ]
  },
  {
   "cell_type": "code",
   "execution_count": 4,
   "id": "d3a6d362",
   "metadata": {
    "tags": []
   },
   "outputs": [
    {
     "data": {
      "application/vnd.jupyter.widget-view+json": {
       "model_id": "a01577b078d74532941f66612dc67486",
       "version_major": 2,
       "version_minor": 0
      },
      "text/plain": [
       "VBox(children=(Label(value='What is the maximum specific growth rate? [1/h]', layout=Layout(width='auto'), sty…"
      ]
     },
     "metadata": {},
     "output_type": "display_data"
    }
   ],
   "source": [
    "# Instructions:\n",
    "# Execute this cell and enter your solution to Question 1.1 into the variable below\n",
    "# If your answer was correct, you may proceed.\n",
    "# If your answer was not correct, you may try again!\n",
    "\n",
    "#maximum specific growthrate || Example = mu = 1.00 (Float)\n",
    "i = myT1.get_full_question()\n",
    "display(i)\n",
    "i.children[2].children[1].on_click(myT1.on_help_button_clicked)\n",
    "i.children[2].children[0].on_click(myT1.on_verify_button_clicked)"
   ]
  },
  {
   "cell_type": "markdown",
   "id": "1a3851a0",
   "metadata": {
    "tags": []
   },
   "source": [
    "### Question 1.2\n",
    "Check the proportionality of the product formation to the biomass increase (Figures 2, 4, raw data).\n",
    "\n",
    "Example:\n",
    "\n",
    "<img src=\"data/801616_Graph_Blank1997_ howto_butyrate _C acetobutylicum_lora_080625_v1.png\"/>"
   ]
  },
  {
   "cell_type": "code",
   "execution_count": 15,
   "id": "3bc978b7-a008-4f2e-86cc-5a004072ce5c",
   "metadata": {
    "tags": []
   },
   "outputs": [
    {
     "data": {
      "application/vnd.jupyter.widget-view+json": {
       "model_id": "17a2ebb66e5e4a55a81dfdafe37f888f",
       "version_major": 2,
       "version_minor": 0
      },
      "text/plain": [
       "VBox(children=(Label(value='The formation is directly proportional to the biomass increase:'), ToggleButtons(d…"
      ]
     },
     "metadata": {},
     "output_type": "display_data"
    },
    {
     "data": {
      "application/vnd.jupyter.widget-view+json": {
       "model_id": "20953e49e0e041cc87cda89c0224a543",
       "version_major": 2,
       "version_minor": 0
      },
      "text/plain": [
       "VBox(children=(Label(value='The maximum rate of butanol formation:'), ToggleButtons(description='is reached be…"
      ]
     },
     "metadata": {},
     "output_type": "display_data"
    }
   ],
   "source": [
    "# Step 1. Execute this cell\n",
    "# Step 2. Seelct the rigth answers to the questions below\n",
    "# Sep 3. Press 'Verify Answer' to lock in your answer\n",
    "\n",
    "w1 = myQo[0].get_full_question()\n",
    "w2 = myQo[1].get_full_question()\n",
    "display(w1,w2)\n",
    "w1.children[-1].on_click(myQo[0].on_button_clicked)\n",
    "w2.children[-1].on_click(myQo[1].on_button_clicked)"
   ]
  },
  {
   "cell_type": "markdown",
   "id": "c02d6dfc-ce13-48a8-812d-28c3aa24e726",
   "metadata": {
    "tags": []
   },
   "source": [
    "### Test what you have learned"
   ]
  },
  {
   "cell_type": "code",
   "execution_count": 16,
   "id": "4ffd7d20-076e-40bd-8326-7fd4907ee8ef",
   "metadata": {
    "tags": []
   },
   "outputs": [
    {
     "data": {
      "application/vnd.jupyter.widget-view+json": {
       "model_id": "d26fd9593a0c4097bea2c215b1dcb8a9",
       "version_major": 2,
       "version_minor": 0
      },
      "text/plain": [
       "VBox(children=(Label(value='If the biomass concentration increases exponentially over time, the biomass format…"
      ]
     },
     "metadata": {},
     "output_type": "display_data"
    },
    {
     "data": {
      "application/vnd.jupyter.widget-view+json": {
       "model_id": "8c4273defedc47b8856dac829feac979",
       "version_major": 2,
       "version_minor": 0
      },
      "text/plain": [
       "VBox(children=(Label(value='For cells that proliferate at a constant specific growth rate µ, the concentration…"
      ]
     },
     "metadata": {},
     "output_type": "display_data"
    },
    {
     "data": {
      "application/vnd.jupyter.widget-view+json": {
       "model_id": "90083413952c4e09b0eb6e9abc9bf861",
       "version_major": 2,
       "version_minor": 0
      },
      "text/plain": [
       "VBox(children=(Label(value='Product formation according to first-order kinetics corresponds to:'), ToggleButto…"
      ]
     },
     "metadata": {},
     "output_type": "display_data"
    },
    {
     "data": {
      "application/vnd.jupyter.widget-view+json": {
       "model_id": "9a514c8a02e4475384985577c51919fd",
       "version_major": 2,
       "version_minor": 0
      },
      "text/plain": [
       "VBox(children=(Label(value='If there is a linear relationship between the product and biomass concentration r_…"
      ]
     },
     "metadata": {},
     "output_type": "display_data"
    }
   ],
   "source": [
    "# Step 1. Execute this cell\n",
    "# Step 2. Seelct the rigth answers to the questions below\n",
    "# Sep 3. Press 'Verify Answer' to lock in your answer\n",
    "\n",
    "w1 = myQo[2].get_full_question()\n",
    "w2 = myQo[3].get_full_question()\n",
    "w3 = myQo[4].get_full_question()\n",
    "w4 = myQo[5].get_full_question()\n",
    "display(w1,w2,w3,w4)\n",
    "w1.children[-1].on_click(myQo[2].on_button_clicked)\n",
    "w2.children[-1].on_click(myQo[3].on_button_clicked)\n",
    "w3.children[-1].on_click(myQo[4].on_button_clicked)\n",
    "w4.children[-1].on_click(myQo[5].on_button_clicked)"
   ]
  },
  {
   "cell_type": "markdown",
   "id": "ffab5fe8-6acb-4ff6-a1c1-102e201be909",
   "metadata": {
    "tags": []
   },
   "source": [
    "## Question 2 - Does the structure of the metabolic network allow all reaction rates to be calculated?\n",
    "\n",
    "**Steps:**\n",
    "* Analyse Figure 1: The metabolic network of *Clostridium acetobutylicum* & Figure 5\n",
    "* **Answer the Questions 2.1 - 2.7**\n",
    "* **Answer questions about the lecture (Part 1)**"
   ]
  },
  {
   "cell_type": "code",
   "execution_count": 11,
   "id": "1768ff89-3ca9-49a1-9dcb-baace1c550f3",
   "metadata": {
    "tags": []
   },
   "outputs": [
    {
     "data": {
      "application/vnd.jupyter.widget-view+json": {
       "model_id": "d5b7a3da9dea4fe2a58eda86f6588ed2",
       "version_major": 2,
       "version_minor": 0
      },
      "text/plain": [
       "VBox(children=(Label(value='How many reaction rates does the stoichiometric model representing the metabolic n…"
      ]
     },
     "metadata": {},
     "output_type": "display_data"
    },
    {
     "data": {
      "application/vnd.jupyter.widget-view+json": {
       "model_id": "40e0c6fd3d5f4d8dbd36bff624e2e70f",
       "version_major": 2,
       "version_minor": 0
      },
      "text/plain": [
       "VBox(children=(Label(value='How many reaction pathways are there for the synthesis of acetone in C. acetobutyl…"
      ]
     },
     "metadata": {},
     "output_type": "display_data"
    }
   ],
   "source": [
    "# Step 1. Execute this cell\n",
    "# Step 2. Seelct the rigth answers to the questions below\n",
    "# Sep 3. Press 'Verify Answer' to lock in your answer\n",
    "\n",
    "one = myTo[0].get_full_question()\n",
    "two = myTo[1].get_full_question()\n",
    "display(one,two)\n",
    "one.children[2].children[1].on_click(myTo[0].on_help_button_clicked)\n",
    "one.children[2].children[0].on_click(myTo[0].on_verify_button_clicked)\n",
    "two.children[2].children[1].on_click(myTo[1].on_help_button_clicked)\n",
    "two.children[2].children[0].on_click(myTo[1].on_verify_button_clicked)"
   ]
  },
  {
   "cell_type": "code",
   "execution_count": 17,
   "id": "70904815-779b-4961-a088-2f92d13d880f",
   "metadata": {
    "tags": []
   },
   "outputs": [
    {
     "data": {
      "application/vnd.jupyter.widget-view+json": {
       "model_id": "5aa3ad35ae564f07995570c124338e00",
       "version_major": 2,
       "version_minor": 0
      },
      "text/plain": [
       "VBox(children=(Label(value='Which C. acetobutylicum products are represented by curves 1, 2, 3, and 4?'), Imag…"
      ]
     },
     "metadata": {},
     "output_type": "display_data"
    },
    {
     "data": {
      "application/vnd.jupyter.widget-view+json": {
       "model_id": "026b2b73f3e14f54b97c4a8ffe5fcec8",
       "version_major": 2,
       "version_minor": 0
      },
      "text/plain": [
       "VBox(children=(Label(value='Which reaction equations represent a possible synthetic route to acetone?'), Toggl…"
      ]
     },
     "metadata": {},
     "output_type": "display_data"
    }
   ],
   "source": [
    "# Step 1. Execute this cell\n",
    "# Step 2. Seelct the rigth answers to the questions below\n",
    "# Sep 3. Press 'Verify Answer' to lock in your answer\n",
    "\n",
    "w1 = myQo[6].get_full_question() ##THIS QUESTION DOESNT HAVE A CONTEXT ANYMORE?\n",
    "w2 = myQo[7].get_full_question()\n",
    "display(w1,w2)\n",
    "w1.children[-1].on_click(myQo[6].on_button_clicked)\n",
    "w2.children[-1].on_click(myQo[7].on_button_clicked)"
   ]
  },
  {
   "cell_type": "code",
   "execution_count": 18,
   "id": "ff3679ac-9aa0-4a3e-a1ab-1293124dbe85",
   "metadata": {
    "tags": []
   },
   "outputs": [
    {
     "data": {
      "application/vnd.jupyter.widget-view+json": {
       "model_id": "0a203fbf846244eb9795e684db80c2a0",
       "version_major": 2,
       "version_minor": 0
      },
      "text/plain": [
       "VBox(children=(Label(value='How many rates are in r_m?', layout=Layout(width='auto'), style=DescriptionStyle(d…"
      ]
     },
     "metadata": {},
     "output_type": "display_data"
    },
    {
     "data": {
      "application/vnd.jupyter.widget-view+json": {
       "model_id": "c01c5b11ee8046779939d1c9e2b6857a",
       "version_major": 2,
       "version_minor": 0
      },
      "text/plain": [
       "VBox(children=(Label(value='The number of rates r_c to calculate is:', layout=Layout(width='auto'), style=Desc…"
      ]
     },
     "metadata": {},
     "output_type": "display_data"
    },
    {
     "data": {
      "application/vnd.jupyter.widget-view+json": {
       "model_id": "1cda6c0475e5416589683f443e64c714",
       "version_major": 2,
       "version_minor": 0
      },
      "text/plain": [
       "VBox(children=(Label(value='How many of (all) the rates can be determined using liquid chromatography (HPLC wi…"
      ]
     },
     "metadata": {},
     "output_type": "display_data"
    }
   ],
   "source": [
    "# Step 1. Execute this cell\n",
    "# Step 2. Seelct the rigth answers to the questions below\n",
    "# Sep 3. Press 'Verify Answer' to lock in your answer\n",
    "\n",
    "one = myTo[2].get_full_question()\n",
    "two = myTo[3].get_full_question()\n",
    "three = myTo[4].get_full_question()\n",
    "display(one,two,three)\n",
    "one.children[2].children[1].on_click(myTo[2].on_help_button_clicked)\n",
    "one.children[2].children[0].on_click(myTo[2].on_verify_button_clicked)\n",
    "two.children[2].children[1].on_click(myTo[3].on_help_button_clicked)\n",
    "two.children[2].children[0].on_click(myTo[3].on_verify_button_clicked)\n",
    "two.children[2].children[1].on_click(myTo[4].on_help_button_clicked)\n",
    "two.children[2].children[0].on_click(myTo[4].on_verify_button_clicked)"
   ]
  },
  {
   "cell_type": "markdown",
   "id": "de3324c9-3d7e-47e8-aae6-d79080227f67",
   "metadata": {},
   "source": [
    "### Test what you have learned"
   ]
  },
  {
   "cell_type": "code",
   "execution_count": 19,
   "id": "6203c00b-5d60-4130-b7d7-7a52748fb9a8",
   "metadata": {
    "tags": []
   },
   "outputs": [
    {
     "data": {
      "application/vnd.jupyter.widget-view+json": {
       "model_id": "480b5adfe9124baab8c37e65fdcff54a",
       "version_major": 2,
       "version_minor": 0
      },
      "text/plain": [
       "VBox(children=(Label(value='The reaction rates to acetone can:'), ToggleButtons(description='be determined by …"
      ]
     },
     "metadata": {},
     "output_type": "display_data"
    },
    {
     "data": {
      "application/vnd.jupyter.widget-view+json": {
       "model_id": "0bbc0f3d578644cca0bce8020797e6dd",
       "version_major": 2,
       "version_minor": 0
      },
      "text/plain": [
       "VBox(children=(Label(value='The metabolic (stoichiometric) model is:'), ToggleButtons(description='undetermine…"
      ]
     },
     "metadata": {},
     "output_type": "display_data"
    }
   ],
   "source": [
    "# Step 1. Execute this cell\n",
    "# Step 2. Select the rigth answers to the questions below\n",
    "# Sep 3. Press 'Verify Answer' to lock in your answer\n",
    "\n",
    "w1 = myQo[8].get_full_question()\n",
    "w2 = myQo[9].get_full_question()\n",
    "display(w1,w2)\n",
    "w1.children[-1].on_click(myQo[8].on_button_clicked)\n",
    "w2.children[-1].on_click(myQo[9].on_button_clicked)"
   ]
  },
  {
   "cell_type": "markdown",
   "id": "2d35749d-da6f-470a-9caf-ebc8f27de759",
   "metadata": {},
   "source": [
    "## Question 3 - How is the rate of synthesis of acetone determined?\n",
    "\n",
    "\n",
    "**Steps:**\n",
    "* Analyse Figure 6\n",
    "* **Formulate the correct net equations.**\n",
    "* **Determine the correct amount of reaction equations.**\n",
    "* **Is the acetone synthesis rate determinable?**"
   ]
  },
  {
   "cell_type": "code",
   "execution_count": 21,
   "id": "bc5cb59c-e8e2-437e-b81a-6606d0b381b2",
   "metadata": {
    "tags": []
   },
   "outputs": [
    {
     "data": {
      "application/vnd.jupyter.widget-view+json": {
       "model_id": "a9f564686d2447b4b56adc2c3c98d023",
       "version_major": 2,
       "version_minor": 0
      },
      "text/plain": [
       "VBox(children=(Label(value='Which reaction equations represent the net equations for butyrate, acetate and ace…"
      ]
     },
     "metadata": {},
     "output_type": "display_data"
    }
   ],
   "source": [
    "# Step 1. Execute this cell\n",
    "# Step 2. Select the rigth answers to the questions below\n",
    "# Sep 3. Press 'Verify Answer' to lock in your answer\n",
    "\n",
    "w1 = myQo[-2].get_full_question()\n",
    "display(w1)\n",
    "w1.children[-1].on_click(myQo[-2].on_button_clicked)"
   ]
  },
  {
   "cell_type": "code",
   "execution_count": 22,
   "id": "34e82b79-832d-4ab8-95e8-0975dbed1669",
   "metadata": {
    "tags": []
   },
   "outputs": [
    {
     "data": {
      "application/vnd.jupyter.widget-view+json": {
       "model_id": "c4a866356cac4bb7a0b3d14b679086ea",
       "version_major": 2,
       "version_minor": 0
      },
      "text/plain": [
       "VBox(children=(Label(value='How many reaction equations does the simplified metabolic model for calculating th…"
      ]
     },
     "metadata": {},
     "output_type": "display_data"
    }
   ],
   "source": [
    "# Question 3.2\n",
    "# How many reaction equations does the simplified metabolic model \n",
    "# for calculating the intracellular reaction rates including acetone\n",
    "# production contain?\n",
    "#\n",
    "# Instructions:\n",
    "# Execute this cell and enter your solution to Question 3.2 into the variable below\n",
    "# If your answer was correct, you may proceed.\n",
    "# If your answer was not correct, you may try again!\n",
    "\n",
    "\n",
    "# Number of reaction equations in the simplified model || Example: myeq = 0 (int)\n",
    "one = myTo[5].get_full_question()\n",
    "display(one)\n",
    "one.children[2].children[1].on_click(myTo[5].on_help_button_clicked)\n",
    "one.children[2].children[0].on_click(myTo[5].on_verify_button_clicked)"
   ]
  },
  {
   "cell_type": "code",
   "execution_count": 23,
   "id": "bb31a0cf-1452-4fc0-b02d-3fa13b4b4e61",
   "metadata": {
    "tags": []
   },
   "outputs": [
    {
     "data": {
      "application/vnd.jupyter.widget-view+json": {
       "model_id": "9f485588c6804696b396ae70abe9cc26",
       "version_major": 2,
       "version_minor": 0
      },
      "text/plain": [
       "VBox(children=(Label(value='Is the acetone synthesis rate determinable?'), ToggleButtons(description='no', lay…"
      ]
     },
     "metadata": {},
     "output_type": "display_data"
    }
   ],
   "source": [
    "# Step 1. Execute this cell\n",
    "# Step 2. Select the rigth answers to the questions below\n",
    "# Sep 3. Press 'Verify Answer' to lock in your answer\n",
    "\n",
    "w1 = myQo[-1].get_full_question()\n",
    "display(w1)\n",
    "w1.children[-1].on_click(myQo[-1].on_button_clicked)"
   ]
  },
  {
   "cell_type": "code",
   "execution_count": 25,
   "id": "83886883-ded3-416b-a5f5-ae6451e93887",
   "metadata": {},
   "outputs": [
    {
     "name": "stderr",
     "output_type": "stream",
     "text": [
      "usage: jupyter-nbconvert [-h] [--debug] [--show-config] [--show-config-json]\n",
      "                         [--generate-config] [-y] [--execute] [--allow-errors]\n",
      "                         [--stdin] [--stdout] [--inplace] [--clear-output]\n",
      "                         [--no-prompt] [--no-input]\n",
      "                         [--allow-chromium-download]\n",
      "                         [--log-level NbConvertApp.log_level]\n",
      "                         [--config NbConvertApp.config_file]\n",
      "                         [--to NbConvertApp.export_format]\n",
      "                         [--template TemplateExporter.template_name]\n",
      "                         [--template-file TemplateExporter.template_file]\n",
      "                         [--writer NbConvertApp.writer_class]\n",
      "                         [--post NbConvertApp.postprocessor_class]\n",
      "                         [--output NbConvertApp.output_base]\n",
      "                         [--output-dir FilesWriter.build_directory]\n",
      "                         [--reveal-prefix SlidesExporter.reveal_url_prefix]\n",
      "                         [--nbformat NotebookExporter.nbformat_version]\n",
      "                         [extra_args ...]\n",
      "jupyter-nbconvert: error: argument --to_html: expected one argument\n"
     ]
    }
   ],
   "source": [
    "!jupyter nbconvert Homework_7.ipynb --to_html"
   ]
  },
  {
   "cell_type": "markdown",
   "id": "7377794f-87cf-40ea-962f-9a823f7c3d7d",
   "metadata": {
    "tags": []
   },
   "source": [
    "## References\n",
    "**Blank, L. M.** 1997. Molecular and fermentation characterization of recombinant strains for metabolic engineering studies of Clostridium acetobutylicum. Master Thesis. Northwestern University, Evanston, IL, USA.\n",
    "\n",
    "**Papoutsakis, 1984**\n"
   ]
  }
 ],
 "metadata": {
  "kernelspec": {
   "display_name": "Python 3 (ipykernel)",
   "language": "python",
   "name": "python3"
  },
  "language_info": {
   "codemirror_mode": {
    "name": "ipython",
    "version": 3
   },
   "file_extension": ".py",
   "mimetype": "text/x-python",
   "name": "python",
   "nbconvert_exporter": "python",
   "pygments_lexer": "ipython3",
   "version": "3.9.7"
  }
 },
 "nbformat": 4,
 "nbformat_minor": 5
}
