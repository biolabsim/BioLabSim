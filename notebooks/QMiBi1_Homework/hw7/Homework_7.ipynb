{
 "cells": [
  {
   "cell_type": "markdown",
   "id": "9ba58f29",
   "metadata": {},
   "source": [
    "# Homework 7\n",
    "### Version 0.1.0\n",
    "\n",
    "## General introduction\n",
    "\n",
    "The Jupyter Notebook contains the steps to perform the homeworks for Quantitative Mikrobiology.\n",
    "\n",
    "The sequence is as follows:\n",
    " - Load auxiliary libraries\n",
    " - Homework description\n",
    " - Initialize the homework with you student ID\n",
    " - Answer the questions\n",
    " - Export your results\n",
    " \n",
    "When done with the homework:\n",
    " - Download your results in the html-file  `Homework_7_answers.html`\n",
    " - Upload the downloaded html-file to the designated `Moodle-task`\n",
    "\n",
    "Read all cells, perform the calculations with your individual parameters and write or select your results in the corresponding moodle task. \n",
    "\n",
    "## Calculation Support\n",
    "Help required? \n",
    "\n",
    "Every question that requires calculation has a Button called **'Calculation Help'** that gives you a tipp on how to solve the task.\n",
    "\n",
    "\n",
    "## Load auxiliary libraries\n",
    "Evaluate the following cell."
   ]
  },
  {
   "cell_type": "code",
   "execution_count": null,
   "id": "78858413",
   "metadata": {},
   "outputs": [],
   "source": [
    "import os\n",
    "import numpy as np\n",
    "import ipywidgets as widgets\n",
    "from ipywidgets.embed import embed_minimal_html \n",
    "import random as rd\n",
    "import copy\n",
    "from IPython.display import Image\n",
    "\n",
    "!pip install iambcodes\n",
    "from iambcodes.homeworks import *\n",
    "\n",
    "print('Libraries loaded')"
   ]
  },
  {
   "cell_type": "markdown",
   "id": "3a54ebe0-7022-40c7-82c3-45290f700429",
   "metadata": {},
   "source": [
    "## Initialize homework with student ID\n",
    " 1. Enter your matriculation number in the varibale `StudID`, input: integer\n",
    " 2. Evaluate the cell.\n",
    " 3. Use the generated Parameters for your tasks"
   ]
  },
  {
   "cell_type": "code",
   "execution_count": null,
   "id": "a38f2f22-cdc8-49f6-9fd1-af718900d314",
   "metadata": {},
   "outputs": [],
   "source": [
    "myQo = full_question_objects()\n",
    "myTo = full_task_objects()\n",
    "myT1 = create_homework_seven_task_one_one()\n",
    "\n",
    "display(myT1.init_display)\n",
    "myT1.init_display.children[-2].on_click(myT1.on_init_homework_button_clicked)"
   ]
  },
  {
   "cell_type": "markdown",
   "id": "17b34a84",
   "metadata": {
    "tags": []
   },
   "source": [
    "## Question 1 - How fast and with which kinetics is the product formed?\n",
    "\n",
    "**Steps:**\n",
    "* inspect the raw data (**Excel-sheet 801331_Data_Blank1997_Strn_080624_v2.xls**) and related figures (**Homework_7_Materials.ipynb**)\n",
    "* **Calculate the maximum specific growthrate $\\mu_{max}$ for growth on glucose.**\n",
    "\n",
    "![image](data/775940_Graph_Varma1994_mumax_Lor_070302_v1.png)\n",
    "\n",
    "**Steps:**\n",
    "* **Answer questions on the influence of biomass-increase  on the butanol and butyrate productions.**\n",
    "* **Answer questions on maximum production-rates**\n",
    "* **Answer questions about the lecture (Part 1)**\n"
   ]
  },
  {
   "cell_type": "code",
   "execution_count": null,
   "id": "d3a6d362",
   "metadata": {
    "tags": []
   },
   "outputs": [],
   "source": [
    "# Instructions:\n",
    "# Execute this cell and enter your solution to Question 1.1 into the variable below\n",
    "# If your answer was correct, you may proceed.\n",
    "# If your answer was not correct, you may try again!\n",
    "\n",
    "#maximum specific growthrate || Example = mu = 1.00 (Float)\n",
    "a = myT1.get_full_question()\n",
    "display(a)\n",
    "a.children[3].children[1].on_click(myT1.on_help_button_clicked)\n",
    "a.children[3].children[0].on_click(myT1.on_verify_button_clicked)"
   ]
  },
  {
   "cell_type": "markdown",
   "id": "1a3851a0",
   "metadata": {
    "tags": []
   },
   "source": [
    "### Question 1.2\n",
    "Check the proportionality of the product formation to the biomass increase (Figures 2, 4, raw data).\n",
    "\n",
    "Example:\n",
    "\n",
    "<img src=\"data/801616_Graph_Blank1997__howto_butyrate__C_acetobutylicum_lora_080625_v1.png\"/>"
   ]
  },
  {
   "cell_type": "code",
   "execution_count": null,
   "id": "3bc978b7-a008-4f2e-86cc-5a004072ce5c",
   "metadata": {
    "tags": []
   },
   "outputs": [],
   "source": [
    "# Step 1. Execute this cell\n",
    "# Step 2. Seelct the rigth answers to the questions below\n",
    "# Sep 3. Press 'Verify Answer' to lock in your answer\n",
    "\n",
    "b = myQo[0].get_full_question()\n",
    "c = myQo[1].get_full_question()\n",
    "display(b,c)\n",
    "b.children[-1].on_click(myQo[0].on_button_clicked)\n",
    "c.children[-1].on_click(myQo[1].on_button_clicked)"
   ]
  },
  {
   "cell_type": "markdown",
   "id": "c02d6dfc-ce13-48a8-812d-28c3aa24e726",
   "metadata": {
    "tags": []
   },
   "source": [
    "### Test what you have learned"
   ]
  },
  {
   "cell_type": "code",
   "execution_count": null,
   "id": "4ffd7d20-076e-40bd-8326-7fd4907ee8ef",
   "metadata": {
    "tags": []
   },
   "outputs": [],
   "source": [
    "# Step 1. Execute this cell\n",
    "# Step 2. Seelct the rigth answers to the questions below\n",
    "# Sep 3. Press 'Verify Answer' to lock in your answer\n",
    "\n",
    "d = myQo[2].get_full_question()\n",
    "e = myQo[3].get_full_question()\n",
    "f = myQo[4].get_full_question()\n",
    "g = myQo[5].get_full_question()\n",
    "display(d,e,f,g)\n",
    "d.children[-1].on_click(myQo[2].on_button_clicked)\n",
    "e.children[-1].on_click(myQo[3].on_button_clicked)\n",
    "f.children[-1].on_click(myQo[4].on_button_clicked)\n",
    "g.children[-1].on_click(myQo[5].on_button_clicked)"
   ]
  },
  {
   "cell_type": "markdown",
   "id": "ffab5fe8-6acb-4ff6-a1c1-102e201be909",
   "metadata": {
    "tags": []
   },
   "source": [
    "## Question 2 - Does the structure of the metabolic network allow all reaction rates to be calculated?\n",
    "\n",
    "**Steps:**\n",
    "* Analyse Figure 1: The metabolic network of *Clostridium acetobutylicum* & Figure 5\n",
    "* **Answer the Questions 2.1 - 2.7**\n",
    "* **Answer questions about the lecture (Part 1)**"
   ]
  },
  {
   "cell_type": "code",
   "execution_count": null,
   "id": "1768ff89-3ca9-49a1-9dcb-baace1c550f3",
   "metadata": {
    "tags": []
   },
   "outputs": [],
   "source": [
    "# Step 1. Execute this cell\n",
    "# Step 2. Seelct the rigth answers to the questions below\n",
    "# Sep 3. Press 'Verify Answer' to lock in your answer\n",
    "\n",
    "h = myTo[0].get_full_question()\n",
    "i = myTo[1].get_full_question()\n",
    "display(h,i)\n",
    "h.children[2].on_click(myTo[0].on_verify_button_clicked)\n",
    "i.children[2].on_click(myTo[1].on_verify_button_clicked)"
   ]
  },
  {
   "cell_type": "code",
   "execution_count": null,
   "id": "70904815-779b-4961-a088-2f92d13d880f",
   "metadata": {
    "tags": []
   },
   "outputs": [],
   "source": [
    "# Step 1. Execute this cell\n",
    "# Step 2. Seelct the rigth answers to the questions below\n",
    "# Sep 3. Press 'Verify Answer' to lock in your answer\n",
    "\n",
    "j = myQo[6].get_full_question() ##THIS QUESTION DOESNT HAVE A CONTEXT ANYMORE?\n",
    "k = myQo[7].get_full_question()\n",
    "display(j,k)\n",
    "j.children[-1].on_click(myQo[6].on_button_clicked)\n",
    "k.children[-1].on_click(myQo[7].on_button_clicked)"
   ]
  },
  {
   "cell_type": "code",
   "execution_count": null,
   "id": "ff3679ac-9aa0-4a3e-a1ab-1293124dbe85",
   "metadata": {
    "tags": []
   },
   "outputs": [],
   "source": [
    "# Step 1. Execute this cell\n",
    "# Step 2. Seelct the rigth answers to the questions below\n",
    "# Sep 3. Press 'Verify Answer' to lock in your answer\n",
    "\n",
    "l = myTo[2].get_full_question()\n",
    "m = myTo[3].get_full_question()\n",
    "n = myTo[4].get_full_question()\n",
    "display(l,m,n)\n",
    "l.children[2].on_click(myTo[2].on_verify_button_clicked)\n",
    "m.children[2].on_click(myTo[3].on_verify_button_clicked)\n",
    "n.children[2].on_click(myTo[4].on_verify_button_clicked)"
   ]
  },
  {
   "cell_type": "markdown",
   "id": "de3324c9-3d7e-47e8-aae6-d79080227f67",
   "metadata": {},
   "source": [
    "### Test what you have learned"
   ]
  },
  {
   "cell_type": "code",
   "execution_count": null,
   "id": "6203c00b-5d60-4130-b7d7-7a52748fb9a8",
   "metadata": {
    "tags": []
   },
   "outputs": [],
   "source": [
    "# Step 1. Execute this cell\n",
    "# Step 2. Select the rigth answers to the questions below\n",
    "# Sep 3. Press 'Verify Answer' to lock in your answer\n",
    "\n",
    "o = myQo[8].get_full_question()\n",
    "p = myQo[9].get_full_question()\n",
    "display(o,p)\n",
    "o.children[-1].on_click(myQo[8].on_button_clicked)\n",
    "p.children[-1].on_click(myQo[9].on_button_clicked)"
   ]
  },
  {
   "cell_type": "markdown",
   "id": "2d35749d-da6f-470a-9caf-ebc8f27de759",
   "metadata": {},
   "source": [
    "## Question 3 - How is the rate of synthesis of acetone determined?\n",
    "\n",
    "\n",
    "**Steps:**\n",
    "* Analyse Figure 6\n",
    "* **Formulate the correct net equations.**\n",
    "* **Determine the correct amount of reaction equations.**\n",
    "* **Is the acetone synthesis rate determinable?**"
   ]
  },
  {
   "cell_type": "code",
   "execution_count": null,
   "id": "bc5cb59c-e8e2-437e-b81a-6606d0b381b2",
   "metadata": {
    "tags": []
   },
   "outputs": [],
   "source": [
    "# Step 1. Execute this cell\n",
    "# Step 2. Select the rigth answers to the questions below\n",
    "# Sep 3. Press 'Verify Answer' to lock in your answer\n",
    "\n",
    "q = myQo[-2].get_full_question()\n",
    "display(q)\n",
    "q.children[-1].on_click(myQo[-2].on_button_clicked)"
   ]
  },
  {
   "cell_type": "code",
   "execution_count": null,
   "id": "34e82b79-832d-4ab8-95e8-0975dbed1669",
   "metadata": {
    "tags": []
   },
   "outputs": [],
   "source": [
    "# Question 3.2\n",
    "# How many reaction equations does the simplified metabolic model \n",
    "# for calculating the intracellular reaction rates including acetone\n",
    "# production contain?\n",
    "#\n",
    "# Instructions:\n",
    "# Execute this cell and enter your solution to Question 3.2 into the variable below\n",
    "# If your answer was correct, you may proceed.\n",
    "# If your answer was not correct, you may try again!\n",
    "\n",
    "\n",
    "# Number of reaction equations in the simplified model || Example: myeq = 0 (int)\n",
    "r = myTo[5].get_full_question()\n",
    "display(r)\n",
    "r.children[2].on_click(myTo[5].on_verify_button_clicked)"
   ]
  },
  {
   "cell_type": "code",
   "execution_count": null,
   "id": "bb31a0cf-1452-4fc0-b02d-3fa13b4b4e61",
   "metadata": {
    "tags": []
   },
   "outputs": [],
   "source": [
    "# Step 1. Execute this cell\n",
    "# Step 2. Select the rigth answers to the questions below\n",
    "# Sep 3. Press 'Verify Answer' to lock in your answer\n",
    "\n",
    "s = myQo[-1].get_full_question()\n",
    "display(s)\n",
    "s.children[-1].on_click(myQo[-1].on_button_clicked)"
   ]
  },
  {
   "cell_type": "markdown",
   "id": "b1d63250-4ad2-4979-9b5f-22434c256624",
   "metadata": {},
   "source": [
    "## Export your results\n",
    "\n",
    "After answering all questions:\n",
    " - Evaluate the cell below\n",
    " A file `Homework_7_answers.html` has been created in the `hw7` directory that contains all your answers\n",
    " - Upload this file into the designated Moodle-Task\n"
   ]
  },
  {
   "cell_type": "code",
   "execution_count": null,
   "id": "83886883-ded3-416b-a5f5-ae6451e93887",
   "metadata": {},
   "outputs": [],
   "source": [
    "lst = [a,b,c,d,e,f,g,h,i,j,k,l,m,n,o,p,q,r,s]\n",
    "name = f'{myT1.init_display.children[0].value}_Homework_7_answers.html'\n",
    "embed_minimal_html(name, views=lst, title='Widgets export')"
   ]
  },
  {
   "cell_type": "markdown",
   "id": "7377794f-87cf-40ea-962f-9a823f7c3d7d",
   "metadata": {
    "tags": []
   },
   "source": [
    "## References\n",
    "**Blank, L. M.** 1997. Molecular and fermentation characterization of recombinant strains for metabolic engineering studies of Clostridium acetobutylicum. Master Thesis. Northwestern University, Evanston, IL, USA.\n"
   ]
  }
 ],
 "metadata": {
  "kernelspec": {
   "display_name": "Python 3 (ipykernel)",
   "language": "python",
   "name": "python3"
  },
  "language_info": {
   "codemirror_mode": {
    "name": "ipython",
    "version": 3
   },
   "file_extension": ".py",
   "mimetype": "text/x-python",
   "name": "python",
   "nbconvert_exporter": "python",
   "pygments_lexer": "ipython3",
   "version": "3.9.7"
  },
  "widgets": {
   "application/vnd.jupyter.widget-state+json": {
    "state": {},
    "version_major": 2,
    "version_minor": 0
   }
  }
 },
 "nbformat": 4,
 "nbformat_minor": 5
}
