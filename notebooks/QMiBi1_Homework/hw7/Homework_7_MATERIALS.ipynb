{
 "cells": [
  {
   "cell_type": "markdown",
   "id": "0b813aa2-a323-448c-a3f8-f523bb884f6d",
   "metadata": {},
   "source": [
    "# Homework 7 - Materials\n",
    "### Version 0.1.0"
   ]
  },
  {
   "cell_type": "markdown",
   "id": "1242062c-aac0-4a66-8016-3254d18a7774",
   "metadata": {},
   "source": [
    "### Metabolic network of *C. acetybotylicum*\n",
    "\n",
    "<img src=\"data/801350_Clostridium_acetobutylicum.png\">\n",
    "\n",
    "**Figure 1: The metabolic network of *Clostridium acetobutylicum* (Blank, 1997).** The substrate uptake rate, excretion rates, and intracellular reaction rates are given by $r_{i}$. The extracellular substrates and products are highlighted in bold."
   ]
  },
  {
   "cell_type": "markdown",
   "id": "64a3b0a0-de1f-4bf8-be93-817a48177be7",
   "metadata": {
    "tags": []
   },
   "source": [
    "###  Batch culture with glucose of *C. acetybotylicum*\n",
    "\n",
    "<img src=\"data/801059_Graph_Blank1997_Prozess_C_acetobutylicum_lora_080703_v2.png\">\n",
    "\n",
    "**Figure 2: Batch culture with glucose of *C. acetybotylicum***\n",
    "\n",
    "<p>Metabolites: &#9633 Acetate, &#9671 Butyrate, &#9632 Acetone, &#9670 Butanol, &#9651 Ethanol, Acetoin concentrations were below 5 mM throughout the process (measurement data from Blank, 1997)</p>\n",
    "\n",
    "\n",
    "### pH curve in batch culture of *C. acetobutylicum*\n",
    "\n",
    "<img src=\"data/801547_Graph_Blank1997_pH_C_acetobutylicum_lora_080703_v1.png\">\n",
    "\n",
    "**Figure 3: pH curve during batch cultivation of *C. acetobutylicum* with glucose (lower pH limit at pH 5)**\n",
    "\n",
    "### Metabolites and pH curve in batch culture of *C. acetobutylicum*\n",
    "\n",
    "<img src=\"data/801558_Graph_Blank1997_pH_Metabolite_C_acetobutylicum_lora_080703_v1.png\">\n",
    "\n",
    "**Figure 4: Batch cultivation of *C. acetobutylicum* with glucose (lower pH limit at pH 5)**\n",
    "\n",
    "<p>Metabolites: &#9633 Acetate, &#9671 Butyrate, &#9632 Acetone, &#9670 Butanol (measurement data from Blank, 1997)</p>"
   ]
  },
  {
   "cell_type": "markdown",
   "id": "aef6644e-d70f-4483-97ff-f0dbb7ebd386",
   "metadata": {},
   "source": [
    "### Reaction rates\n",
    "\n",
    "<img src=\"data/801513_2001.gif\">\n",
    "\n",
    "<img src=\"data/801577_2002_english.png\">\n",
    "\n",
    "**Figure 5: Stoichiometric matrices and reaction rates of the metabolic network of *Clostridium acetobutylicum* (Blank, 1997)**"
   ]
  },
  {
   "cell_type": "markdown",
   "id": "587b9934-e6f5-4846-9666-3f1ec00600f5",
   "metadata": {},
   "source": [
    "### Simplified metabolic network of *C. acetobutylicum*\n",
    "\n",
    "<img src=\"data/801630_Image_Blank1997_howto_metabolisches_Netzwerk_vereinfacht_lora_080624_v1.png\">\n",
    "\n",
    "**Figure 6: The metabolic network of *Clostridium acetobutylicum*. The synthesis pathways of acetate, acetone and butyrate are given in simplified form as net pathways.**\n",
    "\n"
   ]
  },
  {
   "cell_type": "markdown",
   "id": "3963a677-1739-44d0-915e-495d91fc86cc",
   "metadata": {},
   "source": [
    "## References\n",
    "**Blank, L. M.** 1997. Molecular and fermentation characterization of recombinant strains for metabolic engineering studies of Clostridium acetobutylicum. Master Thesis. Northwestern University, Evanston, IL, USA."
   ]
  }
 ],
 "metadata": {
  "kernelspec": {
   "display_name": "Python 3 (ipykernel)",
   "language": "python",
   "name": "python3"
  },
  "language_info": {
   "codemirror_mode": {
    "name": "ipython",
    "version": 3
   },
   "file_extension": ".py",
   "mimetype": "text/x-python",
   "name": "python",
   "nbconvert_exporter": "python",
   "pygments_lexer": "ipython3",
   "version": "3.9.7"
  },
  "widgets": {
   "application/vnd.jupyter.widget-state+json": {
    "state": {},
    "version_major": 2,
    "version_minor": 0
   }
  }
 },
 "nbformat": 4,
 "nbformat_minor": 5
}
