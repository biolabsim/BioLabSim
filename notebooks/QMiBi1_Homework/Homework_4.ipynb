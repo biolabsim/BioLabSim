{
 "cells": [
  {
   "cell_type": "markdown",
   "id": "478f338c-dc3c-498f-b2e4-b5257137deb2",
   "metadata": {},
   "source": [
    "# Homework 4\n",
    "*Version 0.0.1*\n",
    "\n",
    "## General introduction\n",
    "\n",
    "The Jupyter Notebook contains the steps to perform the homeworks for Quantitative Mikrobiology.\n",
    "\n",
    "The sequence is as follows:\n",
    " - Load auxiliary libraries\n",
    " - Homework description\n",
    " - Initialize the homework with you student ID\n",
    " - Report the solution of each calculation step/question\n",
    " - Check the results for correctness\n",
    " - Feed the Control-Number to the Moodle homework report\n",
    "\n",
    "Read all cells, perform the calculations with your individual parameters and insert your results in the corresponding variable. If your answer(s) are correct, a code will be generated for you. Keep it, you will need it later in the Moodle! \n",
    "\n",
    "## Calculation Support\n",
    "Help required? \n",
    "\n",
    "Every Question has a Button called **'Calculation Help'** that gives you a tipp on how to solve the task.\n",
    "\n",
    "\n",
    "## Load auxiliary libraries\n",
    "Evaluate the following cell."
   ]
  },
  {
   "cell_type": "code",
   "execution_count": null,
   "id": "5c5dede3-05bc-4e22-9d01-2610a91619a5",
   "metadata": {},
   "outputs": [],
   "source": [
    "# Loading Python libraries is the first step.\n",
    "# The libraries contain functions required for the homework.\n",
    "\n",
    "import random as rd\n",
    "import numpy as np\n",
    "import ipywidgets as widgets\n",
    "\n",
    "try:\n",
    "    from iambcodes.homeworks import *\n",
    "except ImportError:\n",
    "    !pip install iambcodes==0.0.27\n",
    "    from iambcodes.homeworks import *\n",
    "except ModuleNotFoundError:\n",
    "    !pip install iambcodes==0.0.27\n",
    "    from iambcodes.homeworks import *\n",
    "\n",
    "print('Libraries loaded!')"
   ]
  },
  {
   "cell_type": "markdown",
   "id": "0b4c9885-3490-475d-9d4d-2a382fc5193d",
   "metadata": {},
   "source": [
    "## Initialize homework with student ID\n",
    " 1. Enter your matriculation number in the varibale `StudID`, input: integer\n",
    " 2. Evaluate the cell.\n",
    " 3. Use the generated Parameters for your tasks\n"
   ]
  },
  {
   "cell_type": "code",
   "execution_count": null,
   "id": "23640d2a-c901-4f49-88c0-b04e197c8908",
   "metadata": {},
   "outputs": [],
   "source": [
    "StudID = widgets.IntText( description='Student ID:', value=0 )\n",
    "button   = widgets.Button( description='Generate Params' )\n",
    "output = widgets.Output()\n",
    "\n",
    "vb=widgets.VBox([StudID,button, output])\n",
    "\n",
    "def compute_Params(b):\n",
    "    button.disabled = True\n",
    "    global hw4\n",
    "    hw4 = homework_four_test(StudID.value)\n",
    "    with output:\n",
    "        print(\"##########\\n\\nParameters for Question 1:\\n\\n\"\\\n",
    "        \"{},{},{}\\n\\n##########\".format(hw4.newCoP,hw4.newCoC,hw4.newCoF))\n",
    "        print(\"##########\\n\\nParameters for Question 3:\\n\\n\"\\\n",
    "        \"{},{},{}\\n\\n##########\".format(hw4.newOCR,hw4.newCPR, hw4.newNSR))\n",
    "\n",
    "\n",
    "button.on_click(compute_Params)\n",
    "\n",
    "display(vb)"
   ]
  },
  {
   "cell_type": "markdown",
   "id": "738ee250-9bf9-4ace-a141-55490c1e26f9",
   "metadata": {},
   "source": [
    "The human body is fuelled by the combustion of nutrients predominant carbohydrate ($CH_{2}O$),\n",
    "fats (approximately $CH_{1.92}O_{0.12}$) and protein (approximately $CH_{1.57}O_{0.32}N_{0.26}$). The\n",
    "combustion is total for carbohydrate and fats forming carbon dioxide and water, while\n",
    "ammonia is formed in addition to carbon dioxide and water in the combustion of protein.\n",
    "Indirect calorimetry is based on the measurement of the nitrogen secretion rate in urine (to\n",
    "assess protein combustion) and the rate of oxygen uptake and carbon dioxide evolution. From\n",
    "these measurements it is possible to establish the rate of combustion of carbohydrate, fats and\n",
    "protein, when it is assumed that the system is in metabolic and respiratory steady state (i.e.,\n",
    "there is no accumulation or loss occurring). Finally, the metabolic rate (kcal/h) can be\n",
    "estimate from the heat of combustions of protein (kcal/g), carbohydrate (kcal/g) and\n",
    "fats (kcal/g).\n",
    "\n",
    "The values for the **heat of combustions are generated in Section 1.4** "
   ]
  },
  {
   "cell_type": "markdown",
   "id": "d12734ed-29d2-4fe6-943f-00c1e7f5a732",
   "metadata": {},
   "source": [
    "## Question 1\n",
    "\n",
    "Formulate the combustion reactions for protein, carbohydrate, and fats and\n",
    "determine the heat of combustion on a C-mol basis."
   ]
  },
  {
   "cell_type": "code",
   "execution_count": null,
   "id": "248885cc-9ec7-42fb-abb6-198a2effa7a0",
   "metadata": {},
   "outputs": [],
   "source": [
    "display(hw4.question_one_display)\n",
    "\n",
    "hw4.question_one_display.children[-3].children[0].on_click(hw4.on_question_one_answer_button_clicked)\n",
    "hw4.question_one_display.children[-3].children[1].on_click(hw4.on_question_one_help_button_clicked)"
   ]
  },
  {
   "cell_type": "markdown",
   "id": "db3e2238-3132-48d7-bacd-b14250e663e6",
   "metadata": {},
   "source": [
    "## Question 2\n",
    "\n",
    "We can formulate the stoichiometry for combustion of nutrients as:\n",
    "\n",
    "$Y_{cs}CH_{2}O + Y_{cf}CH_{1.92}O_{0.12} + Y_{cp}CH_{1.57}O_{0.32}N_{0.26} + Y_{co}O_{2} = CO_{2} + Y_{cn}NH_{3} + Y_{cw}H_{2}O$\n",
    "\n",
    "[Note: we have normalised the reaction on $CO_{2}$ production given that biomass production is\n",
    "not considered here]. Express the yields of carbohydrate, fats and protein as a function of the\n",
    "yield of oxygen and ammonia on carbon dioxide."
   ]
  },
  {
   "cell_type": "code",
   "execution_count": null,
   "id": "07635e81-6a3f-4bf0-9cac-c132feabdd1f",
   "metadata": {},
   "outputs": [],
   "source": [
    "display(hw4.question_two_display)\n",
    "\n",
    "hw4.question_two_display.children[-3].children[0].on_click(hw4.on_question_two_answer_button_clicked)\n",
    "hw4.question_two_display.children[-3].children[1].on_click(hw4.on_question_two_help_button_clicked)"
   ]
  },
  {
   "cell_type": "markdown",
   "id": "812120a0-f982-4d70-bb42-e220eb81b77c",
   "metadata": {},
   "source": [
    "## Question 3\n",
    "\n",
    "Question 3. The following rates have been measured:\n",
    "\n",
    "* Oxygen consumption rate (mol/h)\n",
    "* Carbon dioxide production rate: (mol/h)\n",
    "* Nitrogen secretion rate: (g N/h)\n",
    "    * The values of which are **generated in Section 1.4** \n",
    "\n",
    "Determine the metabolic rate (kcal/h). Normalize $Y_{co}$ and $Y_{cn}$ to $CO_{2}$, as biomass formation is\n",
    "considered to be zero during the experimental time."
   ]
  },
  {
   "cell_type": "code",
   "execution_count": null,
   "id": "c6988a71-cfa2-4314-9c7d-82d0637f30cc",
   "metadata": {},
   "outputs": [],
   "source": [
    "display(hw4.question_three_display)\n",
    "\n",
    "hw4.question_three_display.children[-3].children[0].on_click(hw4.on_question_three_answer_button_clicked)\n",
    "hw4.question_three_display.children[-3].children[1].on_click(hw4.on_question_three_help_button_clicked)"
   ]
  }
 ],
 "metadata": {
  "kernelspec": {
   "display_name": "Python 3 (ipykernel)",
   "language": "python",
   "name": "python3"
  },
  "language_info": {
   "codemirror_mode": {
    "name": "ipython",
    "version": 3
   },
   "file_extension": ".py",
   "mimetype": "text/x-python",
   "name": "python",
   "nbconvert_exporter": "python",
   "pygments_lexer": "ipython3",
   "version": "3.9.7"
  }
 },
 "nbformat": 4,
 "nbformat_minor": 5
}
