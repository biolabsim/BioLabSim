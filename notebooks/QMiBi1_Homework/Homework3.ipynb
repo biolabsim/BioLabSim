{
 "cells": [
  {
   "cell_type": "markdown",
   "id": "promising-responsibility",
   "metadata": {
    "tags": []
   },
   "source": [
    "# Homework 3\n",
    "*V.1.0.0*\n",
    "\n",
    "## General introduction\n",
    "\n",
    "The Jupyter Notebook contains the steps to perform the homeworks for Quantitative Mikrobiology.\n",
    "\n",
    "The sequence is as follows:\n",
    " - Load auxiliary libraries\n",
    " - Homework description\n",
    " - Initialize the homework with you student ID\n",
    " - Report the solution of each calculation step/question\n",
    " - Check the results for correctness\n",
    " - Feed the Control-Number to the Moodle homework report\n",
    "\n",
    "Read all cells, perform the calculations with your individual parameters and insert your results in the corresponding variable. If your answer(s) are correct, a code will be generated for you. Keep it, you will need it later in the Moodle! \n",
    "\n",
    "## Calculation Support\n",
    "Help required? \n",
    "\n",
    "Every Question has a Button called **'Calculation Help'** that gives you a tipp on how to solve the task.\n",
    "\n",
    "## Load auxiliary libraries\n",
    "Evaluate the following cell."
   ]
  },
  {
   "cell_type": "code",
   "execution_count": 1,
   "id": "vertical-brooks",
   "metadata": {},
   "outputs": [
    {
     "name": "stdout",
     "output_type": "stream",
     "text": [
      "Requirement already satisfied: iambcodes==0.1.0 in c:\\users\\const\\anaconda3\\lib\\site-packages (0.1.0)\n",
      "Requirement already satisfied: xlrd>=2.0.1 in c:\\users\\const\\anaconda3\\lib\\site-packages (from iambcodes==0.1.0) (2.0.1)\n",
      "Requirement already satisfied: matplotlib>=3.3.4 in c:\\users\\const\\anaconda3\\lib\\site-packages (from iambcodes==0.1.0) (3.4.3)\n",
      "Requirement already satisfied: cobra>=0.22.1 in c:\\users\\const\\anaconda3\\lib\\site-packages (from iambcodes==0.1.0) (0.22.1)\n",
      "Requirement already satisfied: numpy>=1.22.0 in c:\\users\\const\\anaconda3\\lib\\site-packages (from iambcodes==0.1.0) (1.22.4)\n",
      "Requirement already satisfied: biopython>=1.78 in c:\\users\\const\\anaconda3\\lib\\site-packages (from iambcodes==0.1.0) (1.79)\n",
      "Requirement already satisfied: scipy>=1.9.0 in c:\\users\\const\\anaconda3\\lib\\site-packages (from iambcodes==0.1.0) (1.9.3)\n",
      "Requirement already satisfied: depinfo in c:\\users\\const\\anaconda3\\lib\\site-packages (from cobra>=0.22.1->iambcodes==0.1.0) (1.7.0)\n",
      "Requirement already satisfied: future in c:\\users\\const\\anaconda3\\lib\\site-packages (from cobra>=0.22.1->iambcodes==0.1.0) (0.18.2)\n",
      "Requirement already satisfied: optlang~=1.5 in c:\\users\\const\\anaconda3\\lib\\site-packages (from cobra>=0.22.1->iambcodes==0.1.0) (1.5.2)\n",
      "Requirement already satisfied: rich>=8.0 in c:\\users\\const\\anaconda3\\lib\\site-packages (from cobra>=0.22.1->iambcodes==0.1.0) (12.4.2)\n",
      "Requirement already satisfied: ruamel.yaml~=0.16 in c:\\users\\const\\anaconda3\\lib\\site-packages (from cobra>=0.22.1->iambcodes==0.1.0) (0.17.21)\n",
      "Requirement already satisfied: appdirs~=1.4 in c:\\users\\const\\anaconda3\\lib\\site-packages (from cobra>=0.22.1->iambcodes==0.1.0) (1.4.4)\n",
      "Requirement already satisfied: httpx~=0.14 in c:\\users\\const\\anaconda3\\lib\\site-packages (from cobra>=0.22.1->iambcodes==0.1.0) (0.22.0)\n",
      "Requirement already satisfied: diskcache~=5.0 in c:\\users\\const\\anaconda3\\lib\\site-packages (from cobra>=0.22.1->iambcodes==0.1.0) (5.4.0)\n",
      "Requirement already satisfied: pydantic~=1.6 in c:\\users\\const\\anaconda3\\lib\\site-packages (from cobra>=0.22.1->iambcodes==0.1.0) (1.9.1)\n",
      "Requirement already satisfied: python-libsbml==5.19.0 in c:\\users\\const\\anaconda3\\lib\\site-packages (from cobra>=0.22.1->iambcodes==0.1.0) (5.19.0)\n",
      "Requirement already satisfied: pandas~=1.0 in c:\\users\\const\\anaconda3\\lib\\site-packages (from cobra>=0.22.1->iambcodes==0.1.0) (1.3.4)\n",
      "Requirement already satisfied: swiglpk in c:\\users\\const\\anaconda3\\lib\\site-packages (from cobra>=0.22.1->iambcodes==0.1.0) (5.0.5)\n",
      "Requirement already satisfied: importlib-resources in c:\\users\\const\\anaconda3\\lib\\site-packages (from cobra>=0.22.1->iambcodes==0.1.0) (5.7.1)\n",
      "Requirement already satisfied: rfc3986[idna2008]<2,>=1.3 in c:\\users\\const\\anaconda3\\lib\\site-packages (from httpx~=0.14->cobra>=0.22.1->iambcodes==0.1.0) (1.5.0)\n",
      "Requirement already satisfied: sniffio in c:\\users\\const\\anaconda3\\lib\\site-packages (from httpx~=0.14->cobra>=0.22.1->iambcodes==0.1.0) (1.2.0)\n",
      "Requirement already satisfied: certifi in c:\\users\\const\\anaconda3\\lib\\site-packages (from httpx~=0.14->cobra>=0.22.1->iambcodes==0.1.0) (2022.6.15)\n",
      "Requirement already satisfied: httpcore<0.15.0,>=0.14.5 in c:\\users\\const\\anaconda3\\lib\\site-packages (from httpx~=0.14->cobra>=0.22.1->iambcodes==0.1.0) (0.14.7)\n",
      "Requirement already satisfied: charset-normalizer in c:\\users\\const\\anaconda3\\lib\\site-packages (from httpx~=0.14->cobra>=0.22.1->iambcodes==0.1.0) (2.0.4)\n",
      "Requirement already satisfied: h11<0.13,>=0.11 in c:\\users\\const\\anaconda3\\lib\\site-packages (from httpcore<0.15.0,>=0.14.5->httpx~=0.14->cobra>=0.22.1->iambcodes==0.1.0) (0.12.0)\n",
      "Requirement already satisfied: anyio==3.* in c:\\users\\const\\anaconda3\\lib\\site-packages (from httpcore<0.15.0,>=0.14.5->httpx~=0.14->cobra>=0.22.1->iambcodes==0.1.0) (3.6.1)\n",
      "Requirement already satisfied: idna>=2.8 in c:\\users\\const\\anaconda3\\lib\\site-packages (from anyio==3.*->httpcore<0.15.0,>=0.14.5->httpx~=0.14->cobra>=0.22.1->iambcodes==0.1.0) (3.2)\n",
      "Requirement already satisfied: pyparsing>=2.2.1 in c:\\users\\const\\anaconda3\\lib\\site-packages (from matplotlib>=3.3.4->iambcodes==0.1.0) (3.0.4)\n",
      "Requirement already satisfied: python-dateutil>=2.7 in c:\\users\\const\\anaconda3\\lib\\site-packages (from matplotlib>=3.3.4->iambcodes==0.1.0) (2.8.2)\n",
      "Requirement already satisfied: cycler>=0.10 in c:\\users\\const\\anaconda3\\lib\\site-packages (from matplotlib>=3.3.4->iambcodes==0.1.0) (0.10.0)\n",
      "Requirement already satisfied: pillow>=6.2.0 in c:\\users\\const\\anaconda3\\lib\\site-packages (from matplotlib>=3.3.4->iambcodes==0.1.0) (8.4.0)\n",
      "Requirement already satisfied: kiwisolver>=1.0.1 in c:\\users\\const\\anaconda3\\lib\\site-packages (from matplotlib>=3.3.4->iambcodes==0.1.0) (1.3.1)\n",
      "Requirement already satisfied: six in c:\\users\\const\\anaconda3\\lib\\site-packages (from cycler>=0.10->matplotlib>=3.3.4->iambcodes==0.1.0) (1.16.0)\n",
      "Requirement already satisfied: sympy>=1.0 in c:\\users\\const\\anaconda3\\lib\\site-packages (from optlang~=1.5->cobra>=0.22.1->iambcodes==0.1.0) (1.9)\n",
      "Requirement already satisfied: pytz>=2017.3 in c:\\users\\const\\anaconda3\\lib\\site-packages (from pandas~=1.0->cobra>=0.22.1->iambcodes==0.1.0) (2021.3)\n",
      "Requirement already satisfied: typing-extensions>=3.7.4.3 in c:\\users\\const\\anaconda3\\lib\\site-packages (from pydantic~=1.6->cobra>=0.22.1->iambcodes==0.1.0) (3.10.0.2)\n",
      "Requirement already satisfied: commonmark<0.10.0,>=0.9.0 in c:\\users\\const\\anaconda3\\lib\\site-packages (from rich>=8.0->cobra>=0.22.1->iambcodes==0.1.0) (0.9.1)\n",
      "Requirement already satisfied: pygments<3.0.0,>=2.6.0 in c:\\users\\const\\anaconda3\\lib\\site-packages (from rich>=8.0->cobra>=0.22.1->iambcodes==0.1.0) (2.10.0)\n",
      "Requirement already satisfied: ruamel.yaml.clib>=0.2.6 in c:\\users\\const\\anaconda3\\lib\\site-packages (from ruamel.yaml~=0.16->cobra>=0.22.1->iambcodes==0.1.0) (0.2.6)\n",
      "Requirement already satisfied: mpmath>=0.19 in c:\\users\\const\\anaconda3\\lib\\site-packages (from sympy>=1.0->optlang~=1.5->cobra>=0.22.1->iambcodes==0.1.0) (1.2.1)\n",
      "Requirement already satisfied: zipp>=3.1.0 in c:\\users\\const\\anaconda3\\lib\\site-packages (from importlib-resources->cobra>=0.22.1->iambcodes==0.1.0) (3.6.0)\n"
     ]
    },
    {
     "ename": "ModuleNotFoundError",
     "evalue": "No module named 'iambcodes.rates'",
     "output_type": "error",
     "traceback": [
      "\u001b[1;31m---------------------------------------------------------------------------\u001b[0m",
      "\u001b[1;31mModuleNotFoundError\u001b[0m                       Traceback (most recent call last)",
      "\u001b[1;32m~\\AppData\\Local\\Temp/ipykernel_20992/2538446827.py\u001b[0m in \u001b[0;36m<module>\u001b[1;34m\u001b[0m\n\u001b[0;32m      8\u001b[0m \u001b[1;32mtry\u001b[0m\u001b[1;33m:\u001b[0m\u001b[1;33m\u001b[0m\u001b[1;33m\u001b[0m\u001b[0m\n\u001b[1;32m----> 9\u001b[1;33m     \u001b[1;32mfrom\u001b[0m \u001b[0miambcodes\u001b[0m\u001b[1;33m.\u001b[0m\u001b[0mhomeworks\u001b[0m \u001b[1;32mimport\u001b[0m \u001b[0mhomework_three\u001b[0m\u001b[1;33m\u001b[0m\u001b[1;33m\u001b[0m\u001b[0m\n\u001b[0m\u001b[0;32m     10\u001b[0m \u001b[1;32mexcept\u001b[0m \u001b[0mImportError\u001b[0m\u001b[1;33m:\u001b[0m\u001b[1;33m\u001b[0m\u001b[1;33m\u001b[0m\u001b[0m\n",
      "\u001b[1;32m~\\Desktop\\SS22\\HiWi\\iambcodes\\__init__.py\u001b[0m in \u001b[0;36m<module>\u001b[1;34m\u001b[0m\n\u001b[1;32m----> 1\u001b[1;33m \u001b[1;32mfrom\u001b[0m \u001b[1;33m.\u001b[0m\u001b[0msrc\u001b[0m \u001b[1;32mimport\u001b[0m \u001b[1;33m*\u001b[0m\u001b[1;33m\u001b[0m\u001b[1;33m\u001b[0m\u001b[0m\n\u001b[0m",
      "\u001b[1;32m~\\Desktop\\SS22\\HiWi\\iambcodes\\src\\__init__.py\u001b[0m in \u001b[0;36m<module>\u001b[1;34m\u001b[0m\n\u001b[1;32m----> 1\u001b[1;33m \u001b[1;32mfrom\u001b[0m \u001b[1;33m.\u001b[0m\u001b[0miambcodes\u001b[0m \u001b[1;32mimport\u001b[0m \u001b[1;33m*\u001b[0m\u001b[1;33m\u001b[0m\u001b[1;33m\u001b[0m\u001b[0m\n\u001b[0m",
      "\u001b[1;32m~\\Desktop\\SS22\\HiWi\\iambcodes\\src\\iambcodes\\__init__.py\u001b[0m in \u001b[0;36m<module>\u001b[1;34m\u001b[0m\n\u001b[0;32m      3\u001b[0m \u001b[1;32mfrom\u001b[0m \u001b[1;33m.\u001b[0m\u001b[0mfasta\u001b[0m \u001b[1;32mimport\u001b[0m \u001b[1;33m*\u001b[0m\u001b[1;33m\u001b[0m\u001b[1;33m\u001b[0m\u001b[0m\n\u001b[1;32m----> 4\u001b[1;33m \u001b[1;32mfrom\u001b[0m \u001b[1;33m.\u001b[0m\u001b[0mbsfun\u001b[0m \u001b[1;32mimport\u001b[0m \u001b[1;33m*\u001b[0m\u001b[1;33m\u001b[0m\u001b[1;33m\u001b[0m\u001b[0m\n\u001b[0m\u001b[0;32m      5\u001b[0m \u001b[1;31m# from .iambBiologCodes import *\u001b[0m\u001b[1;33m\u001b[0m\u001b[1;33m\u001b[0m\u001b[0m\n",
      "\u001b[1;32m~\\Desktop\\SS22\\HiWi\\iambcodes\\src\\iambcodes\\bsfun.py\u001b[0m in \u001b[0;36m<module>\u001b[1;34m\u001b[0m\n\u001b[0;32m      4\u001b[0m \u001b[1;31m# import datetime\u001b[0m\u001b[1;33m\u001b[0m\u001b[1;33m\u001b[0m\u001b[0m\n\u001b[1;32m----> 5\u001b[1;33m \u001b[1;32mfrom\u001b[0m \u001b[0miambcodes\u001b[0m\u001b[1;33m.\u001b[0m\u001b[0mrates\u001b[0m \u001b[1;32mimport\u001b[0m \u001b[1;33m*\u001b[0m\u001b[1;33m\u001b[0m\u001b[1;33m\u001b[0m\u001b[0m\n\u001b[0m\u001b[0;32m      6\u001b[0m \u001b[1;33m\u001b[0m\u001b[0m\n",
      "\u001b[1;31mModuleNotFoundError\u001b[0m: No module named 'iambcodes.rates'",
      "\nDuring handling of the above exception, another exception occurred:\n",
      "\u001b[1;31mModuleNotFoundError\u001b[0m                       Traceback (most recent call last)",
      "\u001b[1;32m~\\AppData\\Local\\Temp/ipykernel_20992/2538446827.py\u001b[0m in \u001b[0;36m<module>\u001b[1;34m\u001b[0m\n\u001b[0;32m     10\u001b[0m \u001b[1;32mexcept\u001b[0m \u001b[0mImportError\u001b[0m\u001b[1;33m:\u001b[0m\u001b[1;33m\u001b[0m\u001b[1;33m\u001b[0m\u001b[0m\n\u001b[0;32m     11\u001b[0m     \u001b[0mget_ipython\u001b[0m\u001b[1;33m(\u001b[0m\u001b[1;33m)\u001b[0m\u001b[1;33m.\u001b[0m\u001b[0msystem\u001b[0m\u001b[1;33m(\u001b[0m\u001b[1;34m'pip install iambcodes==0.1.0'\u001b[0m\u001b[1;33m)\u001b[0m\u001b[1;33m\u001b[0m\u001b[1;33m\u001b[0m\u001b[0m\n\u001b[1;32m---> 12\u001b[1;33m     \u001b[1;32mfrom\u001b[0m \u001b[0miambcodes\u001b[0m\u001b[1;33m.\u001b[0m\u001b[0mhomeworks\u001b[0m \u001b[1;32mimport\u001b[0m \u001b[0mhomework_three\u001b[0m\u001b[1;33m\u001b[0m\u001b[1;33m\u001b[0m\u001b[0m\n\u001b[0m\u001b[0;32m     13\u001b[0m \u001b[1;32mexcept\u001b[0m \u001b[0mModuleNotFoundError\u001b[0m\u001b[1;33m:\u001b[0m\u001b[1;33m\u001b[0m\u001b[1;33m\u001b[0m\u001b[0m\n\u001b[0;32m     14\u001b[0m     \u001b[0mget_ipython\u001b[0m\u001b[1;33m(\u001b[0m\u001b[1;33m)\u001b[0m\u001b[1;33m.\u001b[0m\u001b[0msystem\u001b[0m\u001b[1;33m(\u001b[0m\u001b[1;34m'pip install iambcodes==0.1.0'\u001b[0m\u001b[1;33m)\u001b[0m\u001b[1;33m\u001b[0m\u001b[1;33m\u001b[0m\u001b[0m\n",
      "\u001b[1;32m~\\Desktop\\SS22\\HiWi\\iambcodes\\__init__.py\u001b[0m in \u001b[0;36m<module>\u001b[1;34m\u001b[0m\n\u001b[1;32m----> 1\u001b[1;33m \u001b[1;32mfrom\u001b[0m \u001b[1;33m.\u001b[0m\u001b[0msrc\u001b[0m \u001b[1;32mimport\u001b[0m \u001b[1;33m*\u001b[0m\u001b[1;33m\u001b[0m\u001b[1;33m\u001b[0m\u001b[0m\n\u001b[0m",
      "\u001b[1;32m~\\Desktop\\SS22\\HiWi\\iambcodes\\src\\__init__.py\u001b[0m in \u001b[0;36m<module>\u001b[1;34m\u001b[0m\n\u001b[1;32m----> 1\u001b[1;33m \u001b[1;32mfrom\u001b[0m \u001b[1;33m.\u001b[0m\u001b[0miambcodes\u001b[0m \u001b[1;32mimport\u001b[0m \u001b[1;33m*\u001b[0m\u001b[1;33m\u001b[0m\u001b[1;33m\u001b[0m\u001b[0m\n\u001b[0m",
      "\u001b[1;32m~\\Desktop\\SS22\\HiWi\\iambcodes\\src\\iambcodes\\__init__.py\u001b[0m in \u001b[0;36m<module>\u001b[1;34m\u001b[0m\n\u001b[0;32m      2\u001b[0m \u001b[1;32mfrom\u001b[0m \u001b[1;33m.\u001b[0m\u001b[0mcobra\u001b[0m \u001b[1;32mimport\u001b[0m \u001b[1;33m*\u001b[0m\u001b[1;33m\u001b[0m\u001b[1;33m\u001b[0m\u001b[0m\n\u001b[0;32m      3\u001b[0m \u001b[1;32mfrom\u001b[0m \u001b[1;33m.\u001b[0m\u001b[0mfasta\u001b[0m \u001b[1;32mimport\u001b[0m \u001b[1;33m*\u001b[0m\u001b[1;33m\u001b[0m\u001b[1;33m\u001b[0m\u001b[0m\n\u001b[1;32m----> 4\u001b[1;33m \u001b[1;32mfrom\u001b[0m \u001b[1;33m.\u001b[0m\u001b[0mbsfun\u001b[0m \u001b[1;32mimport\u001b[0m \u001b[1;33m*\u001b[0m\u001b[1;33m\u001b[0m\u001b[1;33m\u001b[0m\u001b[0m\n\u001b[0m\u001b[0;32m      5\u001b[0m \u001b[1;31m# from .iambBiologCodes import *\u001b[0m\u001b[1;33m\u001b[0m\u001b[1;33m\u001b[0m\u001b[0m\n",
      "\u001b[1;32m~\\Desktop\\SS22\\HiWi\\iambcodes\\src\\iambcodes\\bsfun.py\u001b[0m in \u001b[0;36m<module>\u001b[1;34m\u001b[0m\n\u001b[0;32m      3\u001b[0m \u001b[1;31m# import os\u001b[0m\u001b[1;33m\u001b[0m\u001b[1;33m\u001b[0m\u001b[0m\n\u001b[0;32m      4\u001b[0m \u001b[1;31m# import datetime\u001b[0m\u001b[1;33m\u001b[0m\u001b[1;33m\u001b[0m\u001b[0m\n\u001b[1;32m----> 5\u001b[1;33m \u001b[1;32mfrom\u001b[0m \u001b[0miambcodes\u001b[0m\u001b[1;33m.\u001b[0m\u001b[0mrates\u001b[0m \u001b[1;32mimport\u001b[0m \u001b[1;33m*\u001b[0m\u001b[1;33m\u001b[0m\u001b[1;33m\u001b[0m\u001b[0m\n\u001b[0m\u001b[0;32m      6\u001b[0m \u001b[1;33m\u001b[0m\u001b[0m\n\u001b[0;32m      7\u001b[0m \u001b[1;32mdef\u001b[0m \u001b[0mGrowthCheck\u001b[0m\u001b[1;33m(\u001b[0m\u001b[0mmyDat\u001b[0m\u001b[1;33m,\u001b[0m \u001b[0mmyThresh\u001b[0m\u001b[1;33m)\u001b[0m\u001b[1;33m:\u001b[0m\u001b[1;33m\u001b[0m\u001b[1;33m\u001b[0m\u001b[0m\n",
      "\u001b[1;31mModuleNotFoundError\u001b[0m: No module named 'iambcodes.rates'"
     ]
    }
   ],
   "source": [
    "# Loading Python libraries is the first step.\n",
    "# The libraries contain functions required for the homework.\n",
    "\n",
    "import random as rd\n",
    "import numpy as np\n",
    "import ipywidgets as widgets\n",
    "\n",
    "try:\n",
    "    from iambcodes.homeworks import homework_three\n",
    "except ImportError:\n",
    "    !pip install iambcodes==0.1.0\n",
    "    from iambcodes.homeworks import homework_three\n",
    "except ModuleNotFoundError:\n",
    "    !pip install iambcodes==0.1.0\n",
    "    from iambcodes.homeworks import homework_three\n",
    "\n",
    "print('Libraries loaded!')"
   ]
  },
  {
   "cell_type": "markdown",
   "id": "welsh-logic",
   "metadata": {},
   "source": [
    "## Initialize homework with student ID\n",
    " 1. Enter your matriculation number in the varibale `StudID`, input: integer\n",
    " 2. Evaluate the cell.\n",
    " 3. Use the generated Parameters for your tasks\n"
   ]
  },
  {
   "cell_type": "code",
   "execution_count": 3,
   "id": "frank-decline",
   "metadata": {
    "tags": []
   },
   "outputs": [
    {
     "data": {
      "application/vnd.jupyter.widget-view+json": {
       "model_id": "8d3a4daca8a44bf7a01b95adde7e77b4",
       "version_major": 2,
       "version_minor": 0
      },
      "text/plain": [
       "VBox(children=(IntText(value=0, description='Student ID:'), Button(description='Generate Params', style=Button…"
      ]
     },
     "metadata": {},
     "output_type": "display_data"
    }
   ],
   "source": [
    "StudID = widgets.IntText( description='Student ID:', value=0 )\n",
    "button   = widgets.Button( description='Generate Params' )\n",
    "output = widgets.Output()\n",
    "\n",
    "vb=widgets.VBox([StudID,button, output])\n",
    "\n",
    "def compute_Params(b):\n",
    "    button.disabled = True\n",
    "    global hw3\n",
    "    hw3 = homework_three(StudID.value)\n",
    "    with output:\n",
    "        print(\"##########\\n\\nParameters for Question 1:\\n\\n\"\\\n",
    "        \"Your glucose yield Y_(XS) is {} C-mol glucose/C-mol biomass\\n\\n\"\\\n",
    "        \"Your biomass composition is CH_({})O_({})N_({})\\n\\n##########\".format(hw3.newYxs,hw3.newH,hw3.newO,hw3.newN))\n",
    "        print(\"##########\\n\\nParameters for Question 2:\\n\\n\"\\\n",
    "        \"Your O_2 Exchange-Rate is {} mol/h\\n\\n\"\\\n",
    "        \"Your CO_2 Exchange-Rate is {} mol/h\\n\\n##########\".format(hw3.newRO2,hw3.newRCO2))\n",
    "\n",
    "\n",
    "button.on_click(compute_Params)\n",
    "\n",
    "display(vb)\n",
    "\n"
   ]
  },
  {
   "cell_type": "markdown",
   "id": "uniform-ethnic",
   "metadata": {},
   "source": [
    "## Question 1\n",
    "In Baker’s yeast fermentation, one of the challenges is to make the yeast grow as fast as\n",
    "possible without generating ethanol. In absence of ethanol production, the yield is **$Y_{xs}$:\n",
    "glucose/C-mol biomass**. The optimal glucose concentration is very low and it is not practical to measure glucose on-line. Instead, industry frequently uses the respiratory quotient (RQ) defined as:\n",
    "\n",
    "$$\\displaystyle RQ = \\displaystyle \\frac{V(CO_{2})}{V(O_{2})}$$\n",
    "\n",
    "Assuming the **biomass composition**, what is RQ under optimal conditions, i.e., in\n",
    "absence of ethanol production, when yeast is grown on minimal media (glucose, ammonia and minerals)?"
   ]
  },
  {
   "cell_type": "code",
   "execution_count": null,
   "id": "entire-longitude",
   "metadata": {
    "tags": []
   },
   "outputs": [],
   "source": [
    "display(hw3.question_one_display)\n",
    "\n",
    "hw3.question_one_display.children[2].children[0].on_click(hw3.on_question_one_answer_button_clicked)\n",
    "hw3.question_one_display.children[-3].children[1].on_click(hw3.on_question_one_help_button_clicked)"
   ]
  },
  {
   "cell_type": "markdown",
   "id": "beginning-catering",
   "metadata": {},
   "source": [
    "## Question 2 [continued from Question 1]\n",
    "\n",
    "Apart from the $CO_{2}$ production rate and $O_{2}$ consumption rate, we\n",
    "can also measure the biomass concentration by turbidity as well as the growth rate (from the relative rate of\n",
    "change in turbidity). In a 10,000 L bioreactor, we observe the following values:\n",
    "\n",
    "* **Growth rate:**  0.35 1/h\n",
    "* **Biomass:**      50 g/L (assume 7 % ash)\n",
    "* $R_{O_{2}}$: **[generated in 1.3]**\n",
    "* $R_{CO_{2}}$: **[generated in 1.3]**\n",
    "\n",
    "What is the **yield of substrate** and **yield of ethanol** on biomass?"
   ]
  },
  {
   "cell_type": "code",
   "execution_count": null,
   "id": "racial-termination",
   "metadata": {
    "tags": []
   },
   "outputs": [],
   "source": [
    "display(hw3.question_two_display)\n",
    "\n",
    "hw3.question_two_display.children[-3].children[0].on_click(hw3.on_question_two_answer_button_clicked)\n",
    "hw3.question_two_display.children[-3].children[1].on_click(hw3.on_question_two_help_button_clicked)"
   ]
  }
 ],
 "metadata": {
  "celltoolbar": "Tags",
  "kernelspec": {
   "display_name": "Python 3 (ipykernel)",
   "language": "python",
   "name": "python3"
  },
  "language_info": {
   "codemirror_mode": {
    "name": "ipython",
    "version": 3
   },
   "file_extension": ".py",
   "mimetype": "text/x-python",
   "name": "python",
   "nbconvert_exporter": "python",
   "pygments_lexer": "ipython3",
   "version": "3.9.7"
  },
  "toc-autonumbering": true
 },
 "nbformat": 4,
 "nbformat_minor": 5
}
