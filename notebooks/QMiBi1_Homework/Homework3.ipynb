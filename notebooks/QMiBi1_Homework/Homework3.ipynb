{
 "cells": [
  {
   "cell_type": "markdown",
   "id": "monetary-landscape",
   "metadata": {
    "tags": []
   },
   "source": [
    "# Homework 3\n",
    "*V.1.0.1*\n",
    "\n",
    "## General introduction\n",
    "\n",
    "The Jupyter Notebook contains the steps to perform the homeworks for Quantitative Mikrobiology.\n",
    "\n",
    "The sequence is as follows:\n",
    " - Load auxiliary libraries\n",
    " - Homework description\n",
    " - Initialize the homework with you student ID\n",
    " - Report the solution of each calculation step/question\n",
    " - Check the results for correctness\n",
    " - Feed the Control-Number to the Moodle homework report\n",
    "\n",
    "Read all cells, perform the calculations with your individual parameters and insert your results in the corresponding variable. If your answer(s) are correct, a code will be generated for you. Keep it, you will need it later in the Moodle! \n",
    "\n",
    "## Calculation Support\n",
    "Help required? \n",
    "\n",
    "Every Question has a Button called **'Calculation Help'** that gives you a tipp on how to solve the task.\n",
    "\n",
    "## Load auxiliary libraries\n",
    "Evaluate the following cell."
   ]
  },
  {
   "cell_type": "code",
   "execution_count": null,
   "id": "useful-breed",
   "metadata": {},
   "outputs": [],
   "source": [
    "# Loading Python libraries is the first step.\n",
    "# The libraries contain functions required for the homework.\n",
    "\n",
    "import random as rd\n",
    "import numpy as np\n",
    "import ipywidgets as widgets\n",
    "\n",
    "try:\n",
    "    from iambcodes.homeworks import *\n",
    "except ImportError:\n",
    "    !pip install iambcodes==0.1.2\n",
    "    from iambcodes.homeworks import *\n",
    "except ModuleNotFoundError:\n",
    "    !pip install iambcodes==0.1.2\n",
    "    from iambcodes.homeworks import *\n",
    "\n",
    "print('Libraries loaded!')"
   ]
  },
  {
   "cell_type": "markdown",
   "id": "seasonal-middle",
   "metadata": {},
   "source": [
    "## Initialize homework with student ID\n",
    " 1. Enter your matriculation number in the varibale `StudID`, input: integer\n",
    " 2. Evaluate the cell.\n",
    " 3. Use the generated Parameters for your tasks\n"
   ]
  },
  {
   "cell_type": "code",
   "execution_count": null,
   "id": "adequate-anxiety",
   "metadata": {
    "tags": []
   },
   "outputs": [],
   "source": [
    "vb=generate_initiation_interface()\n",
    "vb.children[1].on_click(compute_Params_HW3)\n",
    "display(vb)"
   ]
  },
  {
   "cell_type": "markdown",
   "id": "sound-gravity",
   "metadata": {},
   "source": [
    "## Question 1\n",
    "In Baker’s yeast fermentation, one of the challenges is to make the yeast grow as fast as\n",
    "possible without generating ethanol. In absence of ethanol production, the yield is **$Y_{xs}$ [value generated in 1.4] (c-mol glucose/C-mol biomass)**. The optimal glucose concentration is very low and it is not practical to measure glucose on-line. Instead, industry frequently uses the respiratory quotient (RQ) defined as:\n",
    "\n",
    "$$\\displaystyle RQ = \\displaystyle \\frac{V(CO_{2})}{V(O_{2})}$$\n",
    "\n",
    "Assuming the **biomass composition [value generated in 1.4]**, what is RQ under optimal conditions, i.e., in\n",
    "absence of ethanol production, when yeast is grown on minimal media (glucose, ammonia and minerals)?"
   ]
  },
  {
   "cell_type": "code",
   "execution_count": null,
   "id": "useful-soldier",
   "metadata": {
    "tags": []
   },
   "outputs": [],
   "source": [
    "print('Enter your respiratory quotient (RQ) rounded to two decimal digits, e.g., 0.34')\n",
    "display(hw3.question_one_display)\n",
    "\n",
    "hw3.question_one_display.children[2].children[0].on_click(hw3.on_question_one_answer_button_clicked)\n",
    "hw3.question_one_display.children[-3].children[1].on_click(hw3.on_question_one_help_button_clicked)"
   ]
  },
  {
   "cell_type": "markdown",
   "id": "cooked-aside",
   "metadata": {},
   "source": [
    "## Question 2 [continued from Question 1]\n",
    "\n",
    "Apart from the $CO_{2}$ production rate and $O_{2}$ consumption rate, we\n",
    "can also measure the biomass concentration by turbidity as well as the growth rate (from the relative rate of\n",
    "change in turbidity). In a 10,000 L bioreactor, we observe the following values:\n",
    "\n",
    "* **Growth rate:**  0.35 1/h\n",
    "* **Biomass:**      50 g/L (assume 7 % ash)\n",
    "* $R_{O_{2}}$: **[value generated in 1.4] mol/h**\n",
    "* $R_{CO_{2}}$: **[value generated in 1.4] mol/h**\n",
    "\n",
    "What is the **yield of substrate** and **yield of ethanol** on biomass?"
   ]
  },
  {
   "cell_type": "code",
   "execution_count": null,
   "id": "portuguese-weight",
   "metadata": {
    "tags": []
   },
   "outputs": [],
   "source": [
    "display(hw3.question_two_display)\n",
    "\n",
    "hw3.question_two_display.children[-3].children[0].on_click(hw3.on_question_two_answer_button_clicked)\n",
    "hw3.question_two_display.children[-3].children[1].on_click(hw3.on_question_two_help_button_clicked)"
   ]
  }
 ],
 "metadata": {
  "celltoolbar": "Tags",
  "kernelspec": {
   "display_name": "Python 3 (ipykernel)",
   "language": "python",
   "name": "python3"
  },
  "language_info": {
   "codemirror_mode": {
    "name": "ipython",
    "version": 3
   },
   "file_extension": ".py",
   "mimetype": "text/x-python",
   "name": "python",
   "nbconvert_exporter": "python",
   "pygments_lexer": "ipython3",
   "version": "3.9.7"
  },
  "toc-autonumbering": true,
  "vscode": {
   "interpreter": {
    "hash": "1aa48762ebc4f8c0fbc0e3b8532242cccd9c46b77887dfc9519541dedc2b4025"
   }
  }
 },
 "nbformat": 4,
 "nbformat_minor": 5
}
