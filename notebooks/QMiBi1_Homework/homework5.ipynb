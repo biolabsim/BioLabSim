{
 "cells": [
  {
   "cell_type": "markdown",
   "id": "def8a46d-c855-4066-9dc3-5135328fc47e",
   "metadata": {},
   "source": [
    "# Homework 5\n",
    "*Version 0.1.0*\n",
    "\n",
    "## General introduction\n",
    "\n",
    "The Jupyter Notebook contains the steps to perform the homeworks for Quantitative Mikrobiology.\n",
    "\n",
    "The sequence is as follows:\n",
    " - Load auxiliary libraries\n",
    " - Homework description\n",
    " - Initialize the homework with you student ID\n",
    " - Report the solution of each calculation step/question to moodle\n",
    "\n",
    "Read all cells, perform the calculations with your individual parameters and write your results in the corresponding moodle task. \n",
    "\n",
    "## Calculation Support\n",
    "Help required? \n",
    "\n",
    "Every Question has a Button called **'Calculation Help'** that gives you a tipp on how to solve the task.\n",
    "\n",
    "\n",
    "## Load auxiliary libraries\n",
    "Evaluate the following cell."
   ]
  },
  {
   "cell_type": "code",
   "execution_count": null,
   "id": "680fe43f-bc56-40aa-af8f-60e87abc4edf",
   "metadata": {
    "tags": []
   },
   "outputs": [],
   "source": [
    "# Loading Python libraries is the first step.\n",
    "# The libraries contain functions required for the homework.\n",
    "\n",
    "import random as rd\n",
    "import numpy as np\n",
    "import sympy\n",
    "import ipywidgets as widgets\n",
    "\n",
    "try:\n",
    "    from iambcodes.homeworks import *\n",
    "except ImportError:\n",
    "    !pip install iambcodes==0.1.5\n",
    "    from iambcodes.homeworks import *\n",
    "except ModuleNotFoundError:\n",
    "    !pip install iambcodes==0.1.5\n",
    "    from iambcodes.homeworks import *\n",
    "\n",
    "print('Libraries loaded!')"
   ]
  },
  {
   "cell_type": "markdown",
   "id": "6123706c-ccb1-47bc-8c77-57bef8b797a5",
   "metadata": {},
   "source": [
    "## Initialize homework with student ID\n",
    " 1. Enter your matriculation number in the varibale `StudID`, input: integer\n",
    " 2. Evaluate the cell.\n",
    " 3. Use the generated Parameters for your tasks"
   ]
  },
  {
   "cell_type": "code",
   "execution_count": null,
   "id": "daa5ed2f-28fc-4436-99d1-4da8921ac544",
   "metadata": {},
   "outputs": [],
   "source": [
    "hw5 = homework_five()\n",
    "\n",
    "hw5.init_display.children[1].on_click(hw5.on_init_homework_button_clicked)\n",
    "display(hw5.init_display)"
   ]
  },
  {
   "cell_type": "markdown",
   "id": "f0838332-491f-46cc-be83-7b026153d1d9",
   "metadata": {},
   "source": [
    "Under anaerobic conditions, the central carbon metabolism in lactic acid bacteria is described by the\n",
    "following stoichiometry:\n",
    "\n",
    "$AS+BP+GX_{met}=0$\n",
    "\n",
    "$$\n",
    "\\begin{bmatrix} -1 \\\\ 0 \\\\ 0 \\\\ 0 \\\\ 0 \\\\ 0 \\\\ 0 \\\\ 0\\end{bmatrix}(glucose)+\n",
    "\\begin{bmatrix} 0 & 0 & 0 & 0 \\\\ 0 & 0 & 0 & 0 \\\\ 0 & 0 & 0 & 0 \\\\ 1 & 0 & 0 & 0 \\\\ 0 & 1 & 0 & 0 \\\\ 0 & 0 & 1 & 0 \\\\ 0 & 0 & 0 & 1 \\\\ 0 & 0 & 0 & 0\\end{bmatrix}\n",
    "\\begin{bmatrix} lactate \\\\ formate \\\\ acetate \\\\ ethanol\\end{bmatrix}+\n",
    "\\begin{bmatrix} 1 & -1 & 1 & 0 & 0 & 0 \\\\ -1 & 2 & 0 & 0 & 1 & 2 \\\\ 0 & -1 & 1 & 0 & 1 & 0 \\\\ 0 & 0 & -1 & 0 & 0 & -1 \n",
    "\\\\ 0 & 0 & -1 & 1 & 0 & 0 \\\\ 0 & 0 & 0 & -1 & 1 & 0 \\\\ 0 & 0 & 0 & -1 & 0 & -2 \\\\ 0 & 0 & 0 & 0 & -1 & 0\\end{bmatrix}\n",
    "\\begin{bmatrix} G6P \\\\ PEP \\\\ PYR \\\\ AcCoA \\\\ ~ P \\\\ ~ H_{2}\\end{bmatrix}\n",
    "= 0\n",
    "$$\n",
    "\n",
    "\n",
    "We have the following measurements:\n",
    "\n",
    "|||Rate, mmol/g-DW/h|\n",
    "|----||----|\n",
    "|Glucose (uptake)||**[value generated in 1.4]**|\n",
    "|Lactate||**[value generated in 1.4]**|\n",
    "|Formate||**[value generated in 1.4]**|\n",
    "|Acetate||**[value generated in 1.4]**|\n",
    "|Ethanol||**[value generated in 1.4]**|\n",
    "\n",
    "The standard error of the measurements is expected to be 5%.\n",
    "\n",
    "## Question 1\n",
    "How many independent balances can be formulated from the measurements? Write out\n",
    "the balances!\n"
   ]
  },
  {
   "cell_type": "code",
   "execution_count": null,
   "id": "bdc64c4f-0e49-4580-bdad-234461977c5b",
   "metadata": {},
   "outputs": [],
   "source": [
    "#CALCULATION HELP\n",
    "display(hw5.question_one_display)\n",
    "hw5.question_one_display.children[1].on_click(hw5.on_question_one_help_button_clicked)"
   ]
  },
  {
   "cell_type": "markdown",
   "id": "01175156-0821-4a01-b6be-733c2f9e866c",
   "metadata": {},
   "source": [
    "## Question 2\n",
    "Are the observations consistent? Give both the calculated test value and the reference\n",
    "value you compare against!\n",
    "\n",
    "Tipp: Include all five measurement fluxes in your calculations!"
   ]
  },
  {
   "cell_type": "code",
   "execution_count": null,
   "id": "07e0ed6e-fa9e-4ef9-b0ef-8617fb5fb866",
   "metadata": {},
   "outputs": [],
   "source": [
    "#CALCULATION HELP\n",
    "display(hw5.question_two_display)\n",
    "hw5.question_two_display.children[1].on_click(hw5.on_question_two_help_button_clicked)"
   ]
  },
  {
   "cell_type": "markdown",
   "id": "8738b5c4-778a-4555-9407-4b7e2ab31350",
   "metadata": {},
   "source": [
    "## Question 3\n",
    "Is there a unique solution for the calculated rates? You don’t need to specify values.\n",
    "Just argue why there is or is not a unique solution."
   ]
  }
 ],
 "metadata": {
  "kernelspec": {
   "display_name": "Python 3 (ipykernel)",
   "language": "python",
   "name": "python3"
  },
  "language_info": {
   "codemirror_mode": {
    "name": "ipython",
    "version": 3
   },
   "file_extension": ".py",
   "mimetype": "text/x-python",
   "name": "python",
   "nbconvert_exporter": "python",
   "pygments_lexer": "ipython3",
   "version": "3.9.7"
  }
 },
 "nbformat": 4,
 "nbformat_minor": 5
}
