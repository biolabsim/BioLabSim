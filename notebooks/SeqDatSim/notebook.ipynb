{
 "cells": [
  {
   "cell_type": "markdown",
   "metadata": {},
   "source": [
    "# SeqDatSim Notebook\n",
    "\n",
    "Simulations of gene sequencing with shot sequencing methods."
   ]
  },
  {
   "cell_type": "code",
   "execution_count": null,
   "metadata": {},
   "outputs": [],
   "source": [
    "# Allow imports from the current directory.\n",
    "import os\n",
    "import sys\n",
    "sys.path.append( os.path.abspath(os.path.join('.')) )\n",
    "\n",
    "import numpy as np\n",
    "\n",
    "# This workflow uses the silvio methods directly, but it would be possible to redirect every\n",
    "# single method call thorugh the SeqExperiment.\n",
    "from silvio import (\n",
    "    estimate_from_overlap, evaluate_sequence,\n",
    "    print_scaffold, print_assembly_evaluation, print_estimation_evaluation,\n",
    "    write_scaffolds_to_file\n",
    ")\n",
    "from catalog import SeqExperiment"
   ]
  },
  {
   "cell_type": "code",
   "execution_count": null,
   "metadata": {},
   "outputs": [],
   "source": [
    "exp = SeqExperiment( seed=2021 )\n",
    "\n",
    "host = exp.create_host( name=\"origin\", bg_size=120, bg_gc_content=0.6 )\n",
    "genome = host.get_genome_sequence()\n",
    "shotgun = exp.create_sequencer(\n",
    "    library_size_mean=80, library_size_sd=10, read_method='paired-end', read_length=30,\n",
    "    average_coverage=5, call_error_beta=6\n",
    ")\n",
    "rnd_assembler = exp.create_random_assembler(expected_genome_size=len(genome))\n",
    "gca_assembler = exp.create_greedy_assembler()\n",
    "\n",
    "exp.print_status()\n",
    "host.print_status()"
   ]
  },
  {
   "cell_type": "code",
   "execution_count": null,
   "metadata": {},
   "outputs": [],
   "source": [
    "# Create the Sequencer. It will fragment the genome.\n",
    "scafs = shotgun.apply( genome )\n",
    "\n",
    "# Print the obtained scaffolds.\n",
    "print(\"\\n\")\n",
    "for i in range(len(scafs)) :\n",
    "    print_scaffold(scafs[i])\n",
    "print(\"\\n\")\n",
    "\n",
    "# Store them in files.\n",
    "write_scaffolds_to_file( scafs, \"output/tryseq_R1.fastq\", \"output/tryseq_R2.fastq\" )\n"
   ]
  },
  {
   "cell_type": "code",
   "execution_count": null,
   "metadata": {},
   "outputs": [],
   "source": [
    "\n",
    "# Place the obtained R1 sequences randomly together and test the consensus sequence.\n",
    "rnd_locseqs = rnd_assembler.apply_internal(scafs)\n",
    "rnd_estseq = estimate_from_overlap(rnd_locseqs) # rnd_assembler.apply(scafs)\n",
    "\n",
    "print(\"\\nRandom Positioning - Shannon Entropy: {:.4f}\".format(rnd_estseq.calc_shannon_entropy()))\n",
    "print(\"\\nRandom Positioning - Positioning <=> Real Genome:\")\n",
    "print_assembly_evaluation( rnd_locseqs, genome )\n",
    "print(\"\\nRandom Positioning - Estimation <=> Real Genome:\")\n",
    "print_estimation_evaluation( rnd_estseq, genome )\n",
    "print(\"\\nRandom Positioning - Evaluation: {:.4f}\".format(evaluate_sequence(rnd_estseq,genome)))\n"
   ]
  },
  {
   "cell_type": "code",
   "execution_count": null,
   "metadata": {},
   "outputs": [],
   "source": [
    "\n",
    "# Try to assemble the scaffolds using the greedy assembler.\n",
    "gca_locseqs = gca_assembler.apply_internal(scafs)\n",
    "gca_estseq = estimate_from_overlap(gca_locseqs) # gca_assembler.apply(scafs)\n",
    "\n",
    "print(\"\\nGreedy Contig Assembler - Shannon Entropy: {:.4f}\".format(gca_estseq.calc_shannon_entropy()))\n",
    "print(\"\\nGreedy Contig Assembler - Positioning <=> Real Genome:\")\n",
    "print_assembly_evaluation( gca_locseqs, genome )\n",
    "print(\"\\nGreedy Contig Assembler - Estimation <=> Real Genome:\")\n",
    "print_estimation_evaluation( gca_estseq, genome )\n",
    "print(\"\\nGreedy Contig Assembler - Evaluation: {:.4f}\".format(evaluate_sequence(gca_estseq,genome)))\n",
    "\n",
    "\n"
   ]
  }
 ],
 "metadata": {
  "interpreter": {
   "hash": "0a106696d28e162367b2ce02886d1028f753c73e4bce0ddcd82db8e104c812b1"
  },
  "kernelspec": {
   "display_name": "Python 3.9.7 64-bit ('py39': venv)",
   "name": "python3"
  },
  "language_info": {
   "codemirror_mode": {
    "name": "ipython",
    "version": 3
   },
   "file_extension": ".py",
   "mimetype": "text/x-python",
   "name": "python",
   "nbconvert_exporter": "python",
   "pygments_lexer": "ipython3",
   "version": "3.9.7"
  }
 },
 "nbformat": 4,
 "nbformat_minor": 4
}
