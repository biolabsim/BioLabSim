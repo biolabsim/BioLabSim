{
 "cells": [
  {
   "cell_type": "markdown",
   "source": [
    "# SeqDatSim Notebook\n",
    "\n",
    "Simulations of gene sequencing with shot sequencing methods."
   ],
   "metadata": {}
  },
  {
   "cell_type": "code",
   "execution_count": 1,
   "source": [
    "# Allow imports from the current directory.\n",
    "import os\n",
    "import sys\n",
    "sys.path.append( os.path.abspath(os.path.join('.')) )\n",
    "\n",
    "import numpy as np\n",
    "\n",
    "# This workflow uses the silvio methods directly, but it would be possible to redirect every\n",
    "# single method call thorugh the SeqExperiment.\n",
    "from silvio import (\n",
    "    estimate_from_overlap, evaluate_sequence,\n",
    "    print_scaffold, print_assembly_evaluation, print_estimation_evaluation,\n",
    "    write_scaffolds_to_file\n",
    ")\n",
    "from catalog import SeqExperiment"
   ],
   "outputs": [],
   "metadata": {}
  },
  {
   "cell_type": "code",
   "execution_count": 2,
   "source": [
    "exp = SeqExperiment( seed=2021 )\n",
    "\n",
    "host = exp.create_host( name=\"origin\", bg_size=120, bg_gc_content=0.6 )\n",
    "genome = host.get_genome_sequence()\n",
    "shotgun = exp.create_sequencer(\n",
    "    library_size_mean=80, library_size_sd=10, read_method='paired-end', read_length=30,\n",
    "    average_coverage=5, call_error_beta=6\n",
    ")\n",
    "rnd_assembler = exp.create_random_assembler(expected_genome_size=len(genome))\n",
    "gca_assembler = exp.create_greedy_assembler()\n",
    "\n",
    "exp.print_status()\n",
    "host.print_status()"
   ],
   "outputs": [
    {
     "output_type": "stream",
     "name": "stdout",
     "text": [
      "Experiment:\n",
      "  hosts = [ origin ]\n",
      "Host [origin]:\n",
      "  seed plus counter = 2282102634837760632 + 1\n",
      "  Gene List: 0 genes\n",
      "  Event History: 0 events\n"
     ]
    }
   ],
   "metadata": {}
  },
  {
   "cell_type": "code",
   "execution_count": 4,
   "source": [
    "# Create the Sequencer. It will fragment the genome.\n",
    "scafs = shotgun.apply( genome )\n",
    "\n",
    "# Print the obtained scaffolds.\n",
    "print(\"\\n\")\n",
    "for i in range(len(scafs)) :\n",
    "    print_scaffold(scafs[i])\n",
    "print(\"\\n\")\n",
    "\n",
    "# Store them in files.\n",
    "write_scaffolds_to_file( scafs, \"output/tryseq_R1.fastq\", \"output/tryseq_R2.fastq\" )\n"
   ],
   "outputs": [
    {
     "output_type": "stream",
     "name": "stdout",
     "text": [
      "\n",
      "\n",
      "| TCGTGCCCGGGTTCGGTTTTGAGCCGTCTA~~~~~~~~~~~(ca.20)~~~~~~~~~~~TGTAAACGGCGATTACGGCTAGGGTGGCGC\n",
      "| CAAGGGGACGTTTCGGCAGGCCTCGTGCCC~~~~~~~~~~~(ca.20)~~~~~~~~~~~CGGTTTTGAGCCGTCTACCCCGCGCGAAGC\n",
      "| TTGAGCCGTCTACCCCGCGCGAAGCTTCAC~~~~~~~~~~~(ca.20)~~~~~~~~~~~AACGGCGATTACGGCTAGGGTGGCGCGGGG\n",
      "| CGGGTTCGGTTTTGAGCCGTCTACCCCGCG~~~~~~~~~~~(ca.20)~~~~~~~~~~~AACCTGTAAACGGCGATTACGGCTAGGGTG\n",
      "| TTCGGCAGGCCTCGTGCCCGGGTTCGGTTT~~~~~~~~~~~(ca.20)~~~~~~~~~~~CGAAGCTTCACATGAACCTGTAAACGGCGA\n",
      "| GCCGTCTACCCCGCGCGAAGCTTCACATGA~~~~~~~~~~~(ca.20)~~~~~~~~~~~GCGATTACGGCTAGGGTGGCGCGGGGCCGG\n",
      "| TTTTGAGCCGTCTACCCCGCGCGAAGCTTC~~~~~~~~~~~(ca.20)~~~~~~~~~~~AACGGCGATTACGGCTAGGGTGGCGCGGGG\n",
      "| GGGACGTTTCGGCAGGCCTCGTGCCCGGGT~~~~~~~~~~~(ca.20)~~~~~~~~~~~TGTAAACGGCGATTACGGCTAGGGTGGCGC\n",
      "| ACGTTTCGGCAGGCCTCGTGCCCGGGTTCG~~~~~~~~~~~(ca.20)~~~~~~~~~~~GCCGTCTACCGCGCGCGAAGCTTCACATGA\n",
      "| AGCCGTCTACCCCGCGCGAAGCTTCACATG~~~~~~~~~~~(ca.20)~~~~~~~~~~~GGCGATTACGGCTAGGGTGGCGCGGGGCCG\n",
      "\n",
      "\n",
      "R1 file stored in: /home/shima/Projects/BioLabSim/repo-biolabsim/notebooks/SeqDatSim/output/tryseq_R1.fastq\n",
      "R2 file stored in: /home/shima/Projects/BioLabSim/repo-biolabsim/notebooks/SeqDatSim/output/tryseq_R2.fastq\n"
     ]
    }
   ],
   "metadata": {}
  },
  {
   "cell_type": "code",
   "execution_count": 7,
   "source": [
    "\n",
    "# Place the obtained R1 sequences randomly together and test the consensus sequence.\n",
    "rnd_locseqs = rnd_assembler.apply_internal(scafs)\n",
    "rnd_estseq = estimate_from_overlap(rnd_locseqs) # rnd_assembler.apply(scafs)\n",
    "\n",
    "print(\"\\nRandom Positioning - Shannon Entropy: {:.4f}\".format(rnd_estseq.calc_shannon_entropy()))\n",
    "print(\"\\nRandom Positioning - Positioning <=> Real Genome:\")\n",
    "print_assembly_evaluation( rnd_locseqs, genome )\n",
    "print(\"\\nRandom Positioning - Estimation <=> Real Genome:\")\n",
    "print_estimation_evaluation( rnd_estseq, genome )\n",
    "print(\"\\nRandom Positioning - Evaluation: {:.4f}\".format(evaluate_sequence(rnd_estseq,genome)))\n"
   ],
   "outputs": [
    {
     "output_type": "stream",
     "name": "stdout",
     "text": [
      "\n",
      "Random Positioning - Shannon Entropy: 1.3246\n",
      "\n",
      "Random Positioning - Positioning <=> Real Genome:\n",
      "-----------------------------------------------------------------------------------------------------------------------------------------------\n",
      "[heatmap:A] ##····5442··2·12221·111111·2·112···3···22···12·22····62·11···4·2··2····35··22·224113··23133··3113·52422···3·6335····#·············\n",
      "[heatmap:C] ··#3···4·2226512·13322332·522253261125762121·62222·222·43·14246644·84443··5··64425215325·515515315·2·45555·33335··#···············\n",
      "[heatmap:G] ···366··4·4625622123531127335513335·852248735·4225722·86351642424482666·25522424214556415·3131133334442·2233··3·##·#··············\n",
      "[heatmap:T] ···333522642···1452212333111212·3·35····2··53242222552··136·4···22·····325·56·2·211···2·3113131111122··52233·3····················\n",
      "-----------------------------------------------------------------------------------------------------------------------------------------------\n",
      " [coverage] 111333455555566778888888888889888666544557766554444445556665555555555553444455555676665666666666666555444433333211111·············\n",
      "-----------------------------------------------------------------------------------------------------------------------------------------------\n",
      "  [seq:000]       TCGTGCCCGGGTTCGGTTTTGAGCCGTCTA                                                                                               ( 30%)\n",
      "  [seq:001]    TGTAAACGGCGATTACGGCTAGGGTGGCGC                                                                                                  ( 33%)\n",
      "  [seq:002]                                                                                  CAAGGGGACGTTTCGGCAGGCCTCGTGCCC                    ( 17%)\n",
      "  [seq:003]              CGGTTTTGAGCCGTCTACCCCGCGCGAAGC                                                                                        ( 37%)\n",
      "  [seq:004]                                                                         TTGAGCCGTCTACCCCGCGCGAAGCTTCAC                             ( 23%)\n",
      "  [seq:005]                AACGGCGATTACGGCTAGGGTGGCGCGGGG                                                                                      ( 30%)\n",
      "  [seq:006]                                        CGGGTTCGGTTTTGAGCCGTCTACCCCGCG                                                              (100%)\n",
      "  [seq:007] AACCTGTAAACGGCGATTACGGCTAGGGTG                                                                                                     ( 13%)\n",
      "  [seq:008]                              TTCGGCAGGCCTCGTGCCCGGGTTCGGTTT                                                                        ( 33%)\n",
      "  [seq:009]                                                                                        CGAAGCTTCACATGAACCTGTAAACGGCGA              ( 30%)\n",
      "  [seq:010]                                                                                   GCCGTCTACCCCGCGCGAAGCTTCACATGA                   ( 20%)\n",
      "  [seq:011]                                          GCGATTACGGCTAGGGTGGCGCGGGGCCGG                                                            ( 23%)\n",
      "  [seq:012]        TTTTGAGCCGTCTACCCCGCGCGAAGCTTC                                                                                              ( 33%)\n",
      "  [seq:013]                                                         AACGGCGATTACGGCTAGGGTGGCGCGGGG                                             ( 23%)\n",
      "  [seq:014]    GGGACGTTTCGGCAGGCCTCGTGCCCGGGT                                                                                                  ( 23%)\n",
      "  [seq:015]                                                                             TGTAAACGGCGATTACGGCTAGGGTGGCGC                         ( 30%)\n",
      "  [seq:016]                  ACGTTTCGGCAGGCCTCGTGCCCGGGTTCG                                                                                    (100%)\n",
      "  [seq:017]                                                                      GCCGTCTACCGCGCGCGAAGCTTCACATGA                                ( 20%)\n",
      "  [seq:018]                                                      AGCCGTCTACCCCGCGCGAAGCTTCACATG                                                (100%)\n",
      "  [seq:019]                                          GGCGATTACGGCTAGGGTGGCGCGGGGCCG                                                            ( 27%)\n",
      "-----------------------------------------------------------------------------------------------------------------------------------------------\n",
      "[consensus] AACCGGAAATGGCCGATTCCGGCCTGCGGGCCGCGTGCCCGGGTGCGAAGGTTAGGCGTGGACCCCGCGGGAAGCTTCCCACGGCGGCGCACCACCACAGACCCCCACAAAAGGCGA\n",
      "-----------------------------------------------------------------------------------------------------------------------------------------------\n",
      " [real-gen]           CAAGGGGACGTTTCGGCAGGCCTCGTGCCCGGGTTCGGTTTTGAGCCGTCTACCCCGCGCGAAGCTTCACATGAACCTGTAAACGGCGATTACGGCTAGGGTGGCGCGGGGCCGGTACCT\n",
      "-----------------------------------------------------------------------------------------------------------------------------------------------\n",
      "Final Score: 0.3589 (35.9%)\n",
      "\n",
      "Random Positioning - Estimation <=> Real Genome:\n",
      "-----------------------------------------------------------------------------------------------------------------------------------------------\n",
      "[heatmap:A] ##····5442··2·12221·111111·2·112···3···22···12·22····62·11···4·2··2····35··22·224113··23133··3113·52422···3·6335····#·············\n",
      "[heatmap:C] ··#3···4·2226512·13322332·522253261125762121·62222·222·43·14246644·84443··5··64425215325·515515315·2·45555·33335··#···············\n",
      "[heatmap:G] ···366··4·4625622123531127335513335·852248735·4225722·86351642424482666·25522424214556415·3131133334442·2233··3·##·#··············\n",
      "[heatmap:T] ···333522642···1452212333111212·3·35····2··53242222552··136·4···22·····325·56·2·211···2·3113131111122··52233·3····················\n",
      "-----------------------------------------------------------------------------------------------------------------------------------------------\n",
      "[consensus] AACCGGAAATGGCCGATTCCGGCCTGCGGGCCGCGTGCCCGGGTGCGAAGGTTAGGCGTGGACCCCGCGGGAAGCTTCCCACGGCGGCGCACCACCACAGACCCCCACAAAAGGCGA\n",
      "-----------------------------------------------------------------------------------------------------------------------------------------------\n",
      " [real-gen]           CAAGGGGACGTTTCGGCAGGCCTCGTGCCCGGGTTCGGTTTTGAGCCGTCTACCCCGCGCGAAGCTTCACATGAACCTGTAAACGGCGATTACGGCTAGGGTGGCGCGGGGCCGGTACCT\n",
      "-----------------------------------------------------------------------------------------------------------------------------------------------\n",
      "Final Score: 0.3589 (35.9%)\n",
      "\n",
      "Random Positioning - Evaluation: 0.3589\n"
     ]
    }
   ],
   "metadata": {}
  },
  {
   "cell_type": "code",
   "execution_count": 11,
   "source": [
    "\n",
    "# Try to assemble the scaffolds using the greedy assembler.\n",
    "gca_locseqs = gca_assembler.apply_internal(scafs)\n",
    "gca_estseq = estimate_from_overlap(gca_locseqs) # gca_assembler.apply(scafs)\n",
    "\n",
    "print(\"\\nGreedy Contig Assembler - Shannon Entropy: {:.4f}\".format(gca_estseq.calc_shannon_entropy()))\n",
    "print(\"\\nGreedy Contig Assembler - Positioning <=> Real Genome:\")\n",
    "print_assembly_evaluation( gca_locseqs, genome )\n",
    "print(\"\\nGreedy Contig Assembler - Estimation <=> Real Genome:\")\n",
    "print_estimation_evaluation( gca_estseq, genome )\n",
    "print(\"\\nGreedy Contig Assembler - Evaluation: {:.4f}\".format(evaluate_sequence(gca_estseq,genome)))\n",
    "\n",
    "\n"
   ],
   "outputs": [
    {
     "output_type": "stream",
     "name": "stdout",
     "text": [
      "\n",
      "Greedy Contig Assembler - Shannon Entropy: 0.0000\n",
      "\n",
      "Greedy Contig Assembler - Positioning <=> Real Genome:\n",
      "-------------------------------------------------------------------------------------------------------------------------------------\n",
      "[heatmap:A] ··················#·#·····#·#·····#··#···#·##·····························#·····#········#··#··####···#··#·#·#···#······\n",
      "[heatmap:C] ··········#····#·····##··········#·····#··········#·#·#···####·#···##··#······#··#·#··#·#·#··#·····#·#··#·#·············\n",
      "[heatmap:G] ············###·##·#····#··#·##····#····#·#·····##·#·#·###····#·#·#··##·##··##····#··#························#·········\n",
      "[heatmap:T] ·········#·#···········#·#·····##···#·#······###·················#·········#···#····#··#···#··#·····#··#····#··##·####··\n",
      "-------------------------------------------------------------------------------------------------------------------------------------\n",
      " [coverage] ·········11111123355556666888888899####9999998775555444423333332322223344556777777789998999999888887766554333333321111··\n",
      "-------------------------------------------------------------------------------------------------------------------------------------\n",
      "  [seq:000]                           AGAGGTTCAGTATCGAGAATTTGGCGCGCG                                                                 (100%)\n",
      "  [seq:001]                           AGAGGTTCAGTATCGAGAATTTGGCGCGCG                                                                 (100%)\n",
      "  [seq:002]                       CTGTAGAGGTTCAGTATCGAGAATTTGGCG                                                                     (100%)\n",
      "  [seq:003]                   AGACCTGTAGAGGTTCAGTATCGAGAATTT                                                                         (100%)\n",
      "  [seq:004]                   AGACCTGTAGAGGTTCAGTATCGAGAATTT                                                                         (100%)\n",
      "  [seq:005]                 GGAGACCTGTAGAGGTTCAGTATCGAGAAT                                                                           (100%)\n",
      "  [seq:006]                CGGAGACCTGTAGAGGTTCAGTATCGAGAA                                                                            (100%)\n",
      "  [seq:007]          TCTGGGCGGAGACCTGTAGAGGTTCAGTAT                                                                                  (100%)\n",
      "  [seq:008]                                  CAGTATCGAGAATTTGGCGCGCGGGCCCCG                                                          (100%)\n",
      "  [seq:009]                                    GTATCGAGAATTTGGCGCGCGGGCCCCGCG                                                        (100%)\n",
      "  [seq:010]                                                          GCCCCGCGTGCCGGCGGATGGCTACGCTGC                                  (100%)\n",
      "  [seq:011]                                                                 GTGCCGGCGGATGGCTACGCTGCTCACTAC                           (100%)\n",
      "  [seq:012]                                                                      GGCGGATGGCTACGCTGCTCACTACTAAAA                      (100%)\n",
      "  [seq:013]                                                                        CGGATGGCTACGCTGCTCACTACTAAAACT                    (100%)\n",
      "  [seq:014]                                                                          GATGGCTACGCTGCTCACTACTAAAACTCA                  (100%)\n",
      "  [seq:015]                                                                            TGGCTACGCTGCTCACTACTAAAACTCATC                (100%)\n",
      "  [seq:016]                                                                             GGCTACGCTGCTCACTACTAAAACTCATCA               (100%)\n",
      "  [seq:017]                                                                                    CTGCTCACTACTAAAACTCATCACATAGTT        (100%)\n",
      "  [seq:018]                                                                                     TGCTCACTACTAAAACTCATCACATAGTTA       (100%)\n",
      "  [seq:019]                                                                                         CACTACTAAAACTCATCACATAGTTATTTT   (100%)\n",
      "-------------------------------------------------------------------------------------------------------------------------------------\n",
      "[consensus]          TCTGGGCGGAGACCTGTAGAGGTTCAGTATCGAGAATTTGGCGCGCGGGCCCCGCGTGCCGGCGGATGGCTACGCTGCTCACTACTAAAACTCATCACATAGTTATTTT\n",
      "-------------------------------------------------------------------------------------------------------------------------------------\n",
      " [real-gen] CCAAGATTCTCTGGGCGGAGACCTGTAGAGGTTCAGTATCGAGAATTTGGCGCGCGGGCCCCGCGTGCCGGCGGATGGCTACGCTGCTCACTACTAAAACTCATCACATAGTTATTTTCA\n",
      "-------------------------------------------------------------------------------------------------------------------------------------\n",
      "Final Score: 0.9083 (90.8%)\n",
      "\n",
      "Greedy Contig Assembler - Estimation <=> Real Genome:\n",
      "-------------------------------------------------------------------------------------------------------------------------------------\n",
      "[heatmap:A] ··················#·#·····#·#·····#··#···#·##·····························#·····#········#··#··####···#··#·#·#···#······\n",
      "[heatmap:C] ··········#····#·····##··········#·····#··········#·#·#···####·#···##··#······#··#·#··#·#·#··#·····#·#··#·#·············\n",
      "[heatmap:G] ············###·##·#····#··#·##····#····#·#·····##·#·#·###····#·#·#··##·##··##····#··#························#·········\n",
      "[heatmap:T] ·········#·#···········#·#·····##···#·#······###·················#·········#···#····#··#···#··#·····#··#····#··##·####··\n",
      "-------------------------------------------------------------------------------------------------------------------------------------\n",
      "[consensus]          TCTGGGCGGAGACCTGTAGAGGTTCAGTATCGAGAATTTGGCGCGCGGGCCCCGCGTGCCGGCGGATGGCTACGCTGCTCACTACTAAAACTCATCACATAGTTATTTT\n",
      "-------------------------------------------------------------------------------------------------------------------------------------\n",
      " [real-gen] CCAAGATTCTCTGGGCGGAGACCTGTAGAGGTTCAGTATCGAGAATTTGGCGCGCGGGCCCCGCGTGCCGGCGGATGGCTACGCTGCTCACTACTAAAACTCATCACATAGTTATTTTCA\n",
      "-------------------------------------------------------------------------------------------------------------------------------------\n",
      "Final Score: 0.9083 (90.8%)\n",
      "\n",
      "Greedy Contig Assembler - Evaluation: 0.9083\n"
     ]
    }
   ],
   "metadata": {}
  }
 ],
 "metadata": {
  "interpreter": {
   "hash": "0a106696d28e162367b2ce02886d1028f753c73e4bce0ddcd82db8e104c812b1"
  },
  "kernelspec": {
   "name": "python3",
   "display_name": "Python 3.9.7 64-bit ('py39': venv)"
  },
  "language_info": {
   "name": "python",
   "version": "3.9.7",
   "mimetype": "text/x-python",
   "codemirror_mode": {
    "name": "ipython",
    "version": 3
   },
   "pygments_lexer": "ipython3",
   "nbconvert_exporter": "python",
   "file_extension": ".py"
  }
 },
 "nbformat": 4,
 "nbformat_minor": 4
}