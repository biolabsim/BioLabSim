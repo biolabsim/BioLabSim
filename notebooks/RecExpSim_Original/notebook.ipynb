{
 "cells": [
  {
   "cell_type": "markdown",
   "metadata": {},
   "source": [
    " # Reconstrured RecExpSim Notebook\n",
    "\n",
    " This is a recreation of the RecExpSim Notebook.\n",
    " It should be roughly similar to the existing notebook while using the new restructured codebase."
   ]
  },
  {
   "cell_type": "code",
   "execution_count": null,
   "metadata": {},
   "outputs": [],
   "source": [
    "# Allow imports from the current directory.\n",
    "import os\n",
    "import sys\n",
    "sys.path.append( os.path.abspath(os.path.join('.')) )\n",
    "\n",
    "# Release only. Disable warnings.\n",
    "import warnings\n",
    "warnings.filterwarnings('ignore') # Comment this line to show warnings.\n",
    "\n",
    "# Release only. Disable the traceback when exceptions occur (like the *_or_abort methods)\n",
    "import sys\n",
    "ipython = get_ipython()\n",
    "def hide_traceback(exc_tuple=None, filename=None, tb_offset=None,\n",
    "                   exception_only=False, running_compiled_code=False):\n",
    "    etype, value, tb = sys.exc_info()\n",
    "    return ipython._showtraceback(etype, value, ipython.InteractiveTB.get_exception_only(etype, value))\n",
    "ipython.showtraceback = hide_traceback  # Comment this line to show traceback on exceptions."
   ]
  },
  {
   "cell_type": "code",
   "execution_count": null,
   "metadata": {},
   "outputs": [],
   "source": [
    "# 1. Set-up of simulation environment\n",
    "import os\n",
    "import numpy as np\n",
    "import matplotlib.pyplot as plt\n",
    "\n",
    "import pandas as pd\n",
    "pd.options.display.width = 100 # Make pandas output wider.\n",
    "\n",
    "from catalog import RecExperiment, combine_data\n",
    "\n",
    "print('System ready')\n",
    "\n"
   ]
  },
  {
   "cell_type": "code",
   "execution_count": null,
   "metadata": {},
   "outputs": [],
   "source": [
    "# 2. Lab setup\n",
    "exp = RecExperiment( equipment_investment=1500, seed=1 )\n",
    "host = exp.create_host( species='ecol', name=\"origin\" )\n",
    "# print()\n",
    "exp.print_status()\n",
    "host.print_status()\n",
    "\n"
   ]
  },
  {
   "cell_type": "code",
   "execution_count": null,
   "metadata": {},
   "outputs": [],
   "source": [
    "# 3.1. Experiment set-up\n",
    "temperatures = [22,30,36,40] #[22,24,26,28,30]\n",
    "print()\n",
    "growth_out = exp.simulate_growth(\"origin\", temperatures)\n",
    "# growth_out.display_data()\n",
    "# growth_out.export_plot('output/Growth_Simulation.png')\n",
    "growth_out.display_plot()\n",
    "\n"
   ]
  },
  {
   "cell_type": "code",
   "execution_count": null,
   "metadata": {},
   "outputs": [],
   "source": [
    "# 3.2.2.2 Determine maximum biomass and growth rate\n",
    "Idx_optT, Linear_optT = 2, 6\n",
    "# TODO: Maybe calculations of MB and GR are hidden inside the Outcome.\n",
    "#   Maybe its intuitive to draw the chosen point in the plot.\n",
    "cult_df = growth_out.value\n",
    "Time, Biomass = cult_df.iloc[:,0], cult_df.iloc[:,1:]\n",
    "LnBiomass = np.log(Biomass)\n",
    "MB = np.mean(Biomass.iloc[Linear_optT:,Idx_optT])\n",
    "GR = np.polyfit(Time.iloc[:Linear_optT],LnBiomass.iloc[:Linear_optT,Idx_optT],1)\n",
    "print()\n",
    "print('max biomass: {:.0f}\\nmax growth rate: {:.2f}'.format(MB,GR[0]))\n",
    "\n"
   ]
  },
  {
   "cell_type": "code",
   "execution_count": null,
   "metadata": {},
   "outputs": [],
   "source": [
    "# 4.1.1 Promoter choice and cloning\n",
    "from silvio.extensions.records.gene.crafted_gene import CraftedGene\n",
    "from Bio.Seq import Seq\n",
    "Promoter1 = Seq(\"GCCCAAAAAAAAAGCAAACACGTAAAGGAAAAAATGCACG\")\n",
    "Primer1 =   Seq(\"CGGGTTTTTTTTTCGTTTGT\")\n",
    "Tm =        56 # melting temperature\n",
    "NewGene = CraftedGene( name=\"MyGenA\", prom=Promoter1, orf=\"GGGGGGGGGG\" )\n",
    "\n",
    "print(\"\\nTry cloning with bad melting temperature.\")\n",
    "# TODO: Melting temperature is not affecting clone chance.\n",
    "bad_host, clone_outcome = exp.clone_with_recombination( \"origin\", Primer1, gene=NewGene, tm=1000 )\n",
    "print(\"Clone Outcome [{}]: {}\".format(bad_host.name,clone_outcome))\n",
    "\n",
    "print(\"\\nTry cloning first with good parameters.\")\n",
    "good_host_a, clone_outcome = exp.clone_with_recombination( \"origin\", Primer1, gene=NewGene, tm=Tm )\n",
    "print(\"Clone Outcome [{}]: {}\".format(good_host_a.name,clone_outcome))\n",
    "# good_host_a.print_status()\n",
    "\n",
    "Promoter2 = Seq(\"GCCCAAATATTAAGCAAACACGTAAAGGAAAAAATGCACG\")\n",
    "Primer2 =   Seq(\"CGGGTTTATAATTCGTTTGT\")\n",
    "Tm2 =       54\n",
    "NewGene2 = CraftedGene( name=\"MyGenB\", prom=Promoter2, orf=\"GGGGGGGGGG\" )\n",
    "\n",
    "print(\"\\nTry cloning second with good parameters.\")\n",
    "good_host_b, clone_outcome = exp.clone_with_recombination( \"origin\", Primer2, gene=NewGene2, tm=Tm2 )\n",
    "print(\"Clone Outcome [{}]: {}\".format(good_host_b.name,clone_outcome))\n",
    "# good_host_b.print_status()\n",
    "\n",
    "exp.print_status()"
   ]
  },
  {
   "cell_type": "code",
   "execution_count": null,
   "metadata": {},
   "outputs": [],
   "source": [
    "# 4.1.2 Measurement of the promoter strength\n",
    "prom_out_1 = exp.measure_promoter_strength( \"origin.1\", \"MyGenA\" )\n",
    "\n",
    "prom_out_2 = exp.measure_promoter_strength( \"origin.2\", \"MyGenA\" )\n",
    "\n",
    "prom_out_3 = exp.measure_promoter_strength( \"origin.3\", \"MyGenA\" ) # Use NewGene but HostB only has NewGene2\n",
    "\n",
    "prom_out_4 = exp.measure_promoter_strength( \"origin.3\", \"MyGenB\" )\n",
    "\n",
    "# Join all measurements.\n",
    "print(\"\\nAll Promoter Strengths combined:\")\n",
    "all_prom_out = combine_data([ prom_out_1, prom_out_2, prom_out_3, prom_out_4 ])\n",
    "all_prom_out.display_data()\n",
    "\n"
   ]
  },
  {
   "cell_type": "code",
   "execution_count": null,
   "metadata": {},
   "outputs": [],
   "source": [
    "# 4.1.3 Measurement of the final vaccine expression rate\n",
    "# in Make_ProductionExperiment: Clone_ID (string), Opt. Temp (int), Opt. Growth rate (float), Opt. Biomass (int)\n",
    "\n",
    "vac_out_1 = exp.simulate_vaccine_production( [\"origin.2\"], \"MyGenA\", cult_temp=26, growth_rate=0.76, biomass=46 )\n",
    "print('Vaccine production rate A, try 2: (error:{})'.format( vac_out_1.error ))\n",
    "\n",
    "vac_out_2 = exp.simulate_vaccine_production( [\"origin.2\"], \"MyGenA\", cult_temp=36, growth_rate=0.91, biomass=46 )\n",
    "print('Vaccine production rate A, try 2: (error:{})'.format( vac_out_2.error ))\n",
    "\n",
    "vac_out_3 = exp.simulate_vaccine_production( [\"origin.3\"], \"MyGenB\", cult_temp=36, growth_rate=0.91, biomass=90 )\n",
    "print('Vaccine production rate B, try 1: (error:{})'.format( vac_out_3.error ))\n",
    "\n",
    "vac_out_4 = exp.simulate_vaccine_production( [\"origin.3\"], \"MyGenB\", cult_temp=36, growth_rate=0.91, biomass=90 )\n",
    "print('Vaccine production rate B, try 2: (error:{})'.format( vac_out_4.error ))\n",
    "\n",
    "vac_out_multi = exp.simulate_vaccine_production( [\"origin.1\", \"origin.2\", \"origin.3\"], \"MyGenB\", cult_temp=36, growth_rate=0.90, biomass=90 )\n",
    "print('Vaccine production multiple: (error:{})'.format( vac_out_multi.error ))\n",
    "\n",
    "\n",
    "# Its possible to make a custom combine_data for the production experiments.\n",
    "all_vac_out = combine_data([ vac_out_1, vac_out_2, vac_out_3, vac_out_4, vac_out_multi ])\n",
    "all_vac_out.display_data()\n",
    "all_vac_out.export_data('output/Production_Experiments.csv')\n",
    "\n"
   ]
  },
  {
   "cell_type": "code",
   "execution_count": null,
   "metadata": {},
   "outputs": [],
   "source": [
    "# 4.2.1 Visualization of the results\n",
    "# TODO: This could be a new DataWithPlotOutcome to hide the code if wanted.\n",
    "GCcont, Express = all_vac_out.value['Promoter_GC-content'], all_vac_out.value['Expression_Rate']\n",
    "plt.plot(GCcont,Express, linestyle = '--', marker = 'x', color = 'grey')\n",
    "plt.gca().set(xlabel='GC-cont', ylabel='rel. expression', xlim=(.3,.8), ylim=(0,1))\n",
    "plt.savefig('output/RelExpress_Vs_GCcont_allProm.png', format='png')\n",
    "plt.show()\n"
   ]
  },
  {
   "cell_type": "code",
   "execution_count": null,
   "metadata": {},
   "outputs": [],
   "source": [
    "# Print internal state.\n",
    "exp.print_status()\n",
    "for h in exp.hosts :\n",
    "    h.print_status()"
   ]
  }
 ],
 "metadata": {
  "interpreter": {
   "hash": "0a106696d28e162367b2ce02886d1028f753c73e4bce0ddcd82db8e104c812b1"
  },
  "kernelspec": {
   "display_name": "Python 3.9.7 64-bit ('py39': venv)",
   "name": "python3"
  },
  "language_info": {
   "codemirror_mode": {
    "name": "ipython",
    "version": 3
   },
   "file_extension": ".py",
   "mimetype": "text/x-python",
   "name": "python",
   "nbconvert_exporter": "python",
   "pygments_lexer": "ipython3",
   "version": "3.9.7"
  }
 },
 "nbformat": 4,
 "nbformat_minor": 4
}
