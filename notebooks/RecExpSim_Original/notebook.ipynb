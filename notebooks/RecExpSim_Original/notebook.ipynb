{
 "cells": [
  {
   "cell_type": "markdown",
   "metadata": {},
   "source": [
    " # Reconstrured RecExpSim Notebook\n",
    "\n",
    " This is a recreation of the RecExpSim Notebook.\n",
    " It should be roughly similar to the existing notebook while using the new restructured codebase."
   ]
  },
  {
   "cell_type": "code",
   "execution_count": 4,
   "metadata": {},
   "outputs": [],
   "source": [
    "# Allow imports from the current directory.\n",
    "import os\n",
    "import sys\n",
    "sys.path.append( os.path.abspath(os.path.join('.')) )\n",
    "\n",
    "# Release only. Disable warnings.\n",
    "import warnings\n",
    "warnings.filterwarnings('ignore') # Comment this line to show warnings.\n",
    "\n",
    "# Release only. Disable the traceback when exceptions occur (like the *_or_abort methods)\n",
    "import sys\n",
    "ipython = get_ipython()\n",
    "def hide_traceback(exc_tuple=None, filename=None, tb_offset=None,\n",
    "                   exception_only=False, running_compiled_code=False):\n",
    "    etype, value, tb = sys.exc_info()\n",
    "    return ipython._showtraceback(etype, value, ipython.InteractiveTB.get_exception_only(etype, value))\n",
    "ipython.showtraceback = hide_traceback  # Comment this line to show traceback on exceptions."
   ]
  },
  {
   "cell_type": "code",
   "execution_count": 5,
   "metadata": {},
   "outputs": [
    {
     "name": "stdout",
     "output_type": "stream",
     "text": [
      "System ready\n"
     ]
    }
   ],
   "source": [
    "# 1. Set-up of simulation environment\n",
    "import os\n",
    "import numpy as np\n",
    "import matplotlib.pyplot as plt\n",
    "\n",
    "import pandas as pd\n",
    "pd.options.display.width = 100 # Make pandas output wider.\n",
    "\n",
    "from catalog import RecExperiment, combine_data\n",
    "\n",
    "print('System ready')\n",
    "\n"
   ]
  },
  {
   "cell_type": "code",
   "execution_count": 6,
   "metadata": {},
   "outputs": [
    {
     "name": "stdout",
     "output_type": "stream",
     "text": [
      "Experiment:\n",
      "  budget = 8500\n",
      "  failure rate = 0.12903225806451613\n",
      "  hosts = [ origin ]\n",
      "Host [origin]:\n",
      "  seed plus counter = 4720721261117928062 + 0\n",
      "  optimal growth temperature = 34\n",
      "  max biomass = 94\n",
      "  optimal primer length = 19\n",
      "  Gene List: 0 genes\n",
      "  Event History: 0 events\n"
     ]
    }
   ],
   "source": [
    "# 2. Lab setup\n",
    "exp = RecExperiment( equipment_investment=1500, seed=1 )\n",
    "host = exp.create_host( species='ecol', name=\"origin\" )\n",
    "# print()\n",
    "exp.print_status()\n",
    "host.print_status()\n",
    "\n"
   ]
  },
  {
   "cell_type": "code",
   "execution_count": 9,
   "metadata": {},
   "outputs": [
    {
     "name": "stdout",
     "output_type": "stream",
     "text": [
      "############################################# progress of exp.0 at 22 °C: 100 percent\n",
      "############################################# progress of exp.1 at 30 °C: 100 percent\n",
      "############################################# progress of exp.2 at 36 °C: 100 percent\n",
      "############################################# progress of exp.3 at 40 °C: 100 percent\n",
      "    time [h]  exp.0 biomass conc. at 22 °C  exp.1 biomass conc. at 30 °C  \\\n",
      "0        0.0                      0.098865                      0.112531   \n",
      "1        1.0                      0.109767                      0.102994   \n",
      "2        2.0                      0.132385                      0.097746   \n",
      "3        3.0                      0.117539                      0.087517   \n",
      "4        4.0                      0.111071                      0.091033   \n",
      "5        5.0                      0.139599                      0.105356   \n",
      "6        6.0                      0.157666                      0.106353   \n",
      "7        7.0                      0.145160                      0.097581   \n",
      "8        8.0                      0.164292                      0.097261   \n",
      "9        9.0                      0.163424                      0.081470   \n",
      "10      10.0                      0.170557                      0.103776   \n",
      "11      11.0                      0.171903                      0.114373   \n",
      "12      12.0                      0.194263                      0.087952   \n",
      "13      13.0                      0.222450                      0.103765   \n",
      "14      14.0                      0.198734                      0.105981   \n",
      "15      15.0                      0.175757                      0.093302   \n",
      "16      16.0                      0.272166                      0.088736   \n",
      "17      17.0                      0.225110                      0.105077   \n",
      "18      18.0                      0.314722                      0.105771   \n",
      "19      19.0                      0.284612                      0.108844   \n",
      "20      20.0                      0.283486                      0.087604   \n",
      "21      21.0                      0.306661                      0.106743   \n",
      "22      22.0                      0.315573                      0.092299   \n",
      "23      23.0                      0.391632                      0.106000   \n",
      "24      24.0                      0.441727                      0.104759   \n",
      "25      25.0                      0.454114                      0.100839   \n",
      "26      26.0                      0.440112                      0.096941   \n",
      "27      27.0                      0.462565                      0.097439   \n",
      "28      28.0                      0.469295                      0.101200   \n",
      "29      29.0                      0.496484                      0.092516   \n",
      "30      30.0                      0.461364                      0.096841   \n",
      "31      31.0                      0.621465                      0.094513   \n",
      "32      32.0                      0.563187                      0.104360   \n",
      "33      33.0                      0.595503                      0.106886   \n",
      "34      34.0                      0.672307                      0.096746   \n",
      "35      35.0                      0.760547                      0.115021   \n",
      "36      36.0                      0.768500                      0.095791   \n",
      "37      37.0                      0.868558                      0.084135   \n",
      "38      38.0                      0.875208                      0.104612   \n",
      "39      39.0                      0.787574                      0.100484   \n",
      "40      40.0                      0.766149                      0.096186   \n",
      "41      41.0                      0.925548                      0.102908   \n",
      "42      42.0                      1.027525                      0.088279   \n",
      "43      43.0                      1.024183                      0.095875   \n",
      "44      44.0                      1.213561                      0.094606   \n",
      "45      45.0                      1.180522                      0.101385   \n",
      "46      46.0                      1.161920                      0.106889   \n",
      "47      47.0                      1.135107                      0.089917   \n",
      "\n",
      "    exp.2 biomass conc. at 36 °C  exp.3 biomass conc. at 40 °C  \n",
      "0                       0.100865                      0.087174  \n",
      "1                       0.253951                      0.200939  \n",
      "2                       0.655383                      0.263846  \n",
      "3                       1.661298                      0.355181  \n",
      "4                       2.721112                      0.593247  \n",
      "5                       8.410510                      1.041168  \n",
      "6                      18.837462                      1.799726  \n",
      "7                      40.842942                      3.803909  \n",
      "8                      51.946644                      5.413473  \n",
      "9                      83.608084                      7.468690  \n",
      "10                     68.739991                      9.725534  \n",
      "11                    100.089191                     17.023241  \n",
      "12                     89.870986                     21.809799  \n",
      "13                    102.732494                     32.769769  \n",
      "14                    102.547500                     40.811869  \n",
      "15                     75.604586                     53.869485  \n",
      "16                     84.941687                     64.812036  \n",
      "17                    106.020427                     72.087339  \n",
      "18                     86.390788                     95.455772  \n",
      "19                     72.628813                     83.219800  \n",
      "20                     86.671621                    102.616008  \n",
      "21                     89.389182                     86.882381  \n",
      "22                    100.053637                     89.533096  \n",
      "23                     85.887355                     88.930886  \n",
      "24                     91.239652                     86.034375  \n",
      "25                     98.000308                    103.579909  \n",
      "26                    106.574177                    102.423720  \n",
      "27                    101.768425                     90.740331  \n",
      "28                     92.783294                    108.619149  \n",
      "29                    112.415563                     79.636322  \n",
      "30                     83.570845                     93.618789  \n",
      "31                     99.973757                     93.606325  \n",
      "32                     89.470133                     93.239885  \n",
      "33                    102.574471                     92.578906  \n",
      "34                    104.251902                     80.981047  \n",
      "35                    101.424857                     95.656035  \n",
      "36                    107.653837                     92.096821  \n",
      "37                     94.046042                     95.928077  \n",
      "38                     83.600606                     95.504834  \n",
      "39                     95.123863                    102.425279  \n",
      "40                     88.314549                     96.444929  \n",
      "41                     75.161108                     95.293319  \n",
      "42                     80.651589                    103.349981  \n",
      "43                    101.351222                     74.711261  \n",
      "44                     94.424944                    107.234383  \n",
      "45                     81.184270                    112.146585  \n",
      "46                     98.392281                     96.979927  \n",
      "47                    101.255057                     83.050955  \n"
     ]
    },
    {
     "data": {
      "image/png": "[encoded data removed]",
      "text/plain": [
       "<Figure size 640x480 with 1 Axes>"
      ]
     },
     "metadata": {},
     "output_type": "display_data"
    }
   ],
   "source": [
    "# 3.1. Experiment set-up\n",
    "temperatures = [22,30,36,40] #[22,24,26,28,30]\n",
    "# print()\n",
    "growth_out = exp.simulate_growth(\"origin\", temperatures)\n",
    "growth_out.display_data()\n",
    "# growth_out.export_plot('output/Growth_Simulation.png')\n",
    "growth_out.display_plot()\n",
    "\n"
   ]
  },
  {
   "cell_type": "code",
   "execution_count": 5,
   "metadata": {},
   "outputs": [
    {
     "name": "stdout",
     "output_type": "stream",
     "text": [
      "\n",
      "max biomass: 90\n",
      "max growth rate: 0.91\n"
     ]
    }
   ],
   "source": [
    "# 3.2.2.2 Determine maximum biomass and growth rate\n",
    "Idx_optT, Linear_optT = 2, 6\n",
    "# TODO: Maybe calculations of MB and GR are hidden inside the Outcome.\n",
    "#   Maybe its intuitive to draw the chosen point in the plot.\n",
    "cult_df = growth_out.value\n",
    "Time, Biomass = cult_df.iloc[:,0], cult_df.iloc[:,1:]\n",
    "LnBiomass = np.log(Biomass)\n",
    "MB = np.mean(Biomass.iloc[Linear_optT:,Idx_optT])\n",
    "GR = np.polyfit(Time.iloc[:Linear_optT],LnBiomass.iloc[:Linear_optT,Idx_optT],1)\n",
    "print()\n",
    "print('max biomass: {:.0f}\\nmax growth rate: {:.2f}'.format(MB,GR[0]))\n",
    "\n"
   ]
  },
  {
   "cell_type": "code",
   "execution_count": 10,
   "metadata": {},
   "outputs": [
    {
     "name": "stdout",
     "output_type": "stream",
     "text": [
      "\n",
      "Try cloning with bad melting temperature.\n",
      "Reference primer T:54\n",
      "Clone Outcome [origin.1]: Primer Failed: Temperature deviation too big.\n",
      "\n",
      "Try cloning first with good parameters.\n",
      "Reference primer T:54\n",
      "Clone Outcome [origin.2]: Cloning with recombination succeeded.\n",
      "\n",
      "Try cloning second with good parameters.\n",
      "Reference primer T:54\n",
      "Clone Outcome [origin.3]: Cloning with recombination succeeded.\n",
      "Experiment:\n",
      "  budget = 7600\n",
      "  failure rate = 0.12903225806451613\n",
      "  hosts = [ origin.1 , origin.2 , origin.3 , origin ]\n"
     ]
    }
   ],
   "source": [
    "# 4.1.1 Promoter choice and cloning\n",
    "from silvio.extensions.records.gene.crafted_gene import CraftedGene\n",
    "from Bio.Seq import Seq\n",
    "Promoter1 = Seq(\"GCCCAAAAAAAAAGCAAACACGTAAAGGAAAAAATGCACG\")\n",
    "Primer1 =   Seq(\"CGGGTTTTTTTTTCGTTTGT\")\n",
    "Tm =        56 # melting temperature\n",
    "NewGene = CraftedGene( name=\"MyGenA\", prom=Promoter1, orf=\"GGGGGGGGGG\" )\n",
    "\n",
    "print(\"\\nTry cloning with bad melting temperature.\")\n",
    "# TODO: Melting temperature is not affecting clone chance.\n",
    "bad_host, clone_outcome = exp.clone_with_recombination( \"origin\", Primer1, gene=NewGene, tm=1000 )\n",
    "print(\"Clone Outcome [{}]: {}\".format(bad_host.name,clone_outcome))\n",
    "\n",
    "print(\"\\nTry cloning first with good parameters.\")\n",
    "good_host_a, clone_outcome = exp.clone_with_recombination( \"origin\", Primer1, gene=NewGene, tm=Tm )\n",
    "print(\"Clone Outcome [{}]: {}\".format(good_host_a.name,clone_outcome))\n",
    "# good_host_a.print_status()\n",
    "\n",
    "Promoter2 = Seq(\"GCCCAAATATTAAGCAAACACGTAAAGGAAAAAATGCACG\")\n",
    "Primer2 =   Seq(\"CGGGTTTATAATTCGTTTGT\")\n",
    "Tm2 =       54\n",
    "NewGene2 = CraftedGene( name=\"MyGenB\", prom=Promoter2, orf=\"GGGGGGGGGG\" )\n",
    "\n",
    "print(\"\\nTry cloning second with good parameters.\")\n",
    "good_host_b, clone_outcome = exp.clone_with_recombination( \"origin\", Primer2, gene=NewGene2, tm=Tm2 )\n",
    "print(\"Clone Outcome [{}]: {}\".format(good_host_b.name,clone_outcome))\n",
    "# good_host_b.print_status()\n",
    "\n",
    "exp.print_status()"
   ]
  },
  {
   "cell_type": "code",
   "execution_count": 11,
   "metadata": {},
   "outputs": [
    {
     "name": "stdout",
     "output_type": "stream",
     "text": [
      "Host [origin.3]:\n",
      "  seed plus counter = 1996543227522062658 + 0\n",
      "  optimal growth temperature = 34\n",
      "  max biomass = 94\n",
      "  optimal primer length = 19\n",
      "  Gene List: 1 genes\n",
      "  - MyGenB = GCCCAAATATTAAGCAAACACGTAAAGGAAAAAATGCACG * GGGGGGGGGG\n",
      "  Event History: 1 events\n",
      "  - - - GenomeLibrary: added gene=MyGenB\n"
     ]
    }
   ],
   "source": [
    "good_host_b.print_status()"
   ]
  },
  {
   "cell_type": "code",
   "execution_count": 7,
   "metadata": {},
   "outputs": [
    {
     "name": "stdout",
     "output_type": "stream",
     "text": [
      "\n",
      "All Promoter Strengths combined:\n",
      "       Host GeneName                              GenePromoter  PromoterStrength\n",
      "0  origin.1   MyGenA                                      None              0.00\n",
      "1  origin.2   MyGenA                                      None              0.00\n",
      "2  origin.3   MyGenA                                      None              0.00\n",
      "3  origin.3   MyGenB  GCCCAAATATTAAGCAAACACGTAAAGGAAAAAATGCACG              0.72\n"
     ]
    }
   ],
   "source": [
    "# 4.1.2 Measurement of the promoter strength\n",
    "prom_out_1 = exp.measure_promoter_strength( \"origin.1\", \"MyGenA\" )\n",
    "\n",
    "prom_out_2 = exp.measure_promoter_strength( \"origin.2\", \"MyGenA\" )\n",
    "\n",
    "prom_out_3 = exp.measure_promoter_strength( \"origin.3\", \"MyGenA\" ) # Use NewGene but HostB only has NewGene2\n",
    "\n",
    "prom_out_4 = exp.measure_promoter_strength( \"origin.3\", \"MyGenB\" )\n",
    "\n",
    "# Join all measurements.\n",
    "print(\"\\nAll Promoter Strengths combined:\")\n",
    "all_prom_out = combine_data([ prom_out_1, prom_out_2, prom_out_3, prom_out_4 ])\n",
    "all_prom_out.display_data()\n",
    "\n"
   ]
  },
  {
   "cell_type": "code",
   "execution_count": 8,
   "metadata": {},
   "outputs": [
    {
     "name": "stdout",
     "output_type": "stream",
     "text": [
      "Vaccine production rate A, try 2: (error:None)\n",
      "Vaccine production rate A, try 2: (error:None)\n",
      "Vaccine production rate B, try 1: (error:None)\n",
      "Vaccine production rate B, try 2: (error:None)\n",
      "Vaccine production multiple: (error:None)\n",
      "       Host Gene_Name                         Promoter_Sequence  Promoter_GC-content  \\\n",
      "0  origin.2    MyGenA                                       NaN                  NaN   \n",
      "1  origin.2    MyGenA                                       NaN                  NaN   \n",
      "2  origin.3    MyGenB  GCCCAAATATTAAGCAAACACGTAAAGGAAAAAATGCACG                0.375   \n",
      "3  origin.3    MyGenB  GCCCAAATATTAAGCAAACACGTAAAGGAAAAAATGCACG                0.375   \n",
      "4  origin.1    MyGenB                                       NaN                  NaN   \n",
      "5  origin.2    MyGenB                                       NaN                  NaN   \n",
      "6  origin.3    MyGenB  GCCCAAATATTAAGCAAACACGTAAAGGAAAAAATGCACG                0.375   \n",
      "\n",
      "   Expression_Temperature  Expression_Biomass  Expression_Rate  \n",
      "0                     NaN                 NaN              NaN  \n",
      "1                     NaN                 NaN              NaN  \n",
      "2                    36.0                90.0             0.23  \n",
      "3                    36.0                90.0             0.23  \n",
      "4                     NaN                 NaN              NaN  \n",
      "5                     NaN                 NaN              NaN  \n",
      "6                    36.0                90.0             0.00  \n",
      "Data exported to: /home/ulf/Documents/2109_BLS+SILVIO/biolabsim_dev/notebooks/RecExpSim_Original/output/Production_Experiments.csv\n"
     ]
    }
   ],
   "source": [
    "# 4.1.3 Measurement of the final vaccine expression rate\n",
    "# in Make_ProductionExperiment: Clone_ID (string), Opt. Temp (int), Opt. Growth rate (float), Opt. Biomass (int)\n",
    "\n",
    "vac_out_1 = exp.simulate_vaccine_production( [\"origin.2\"], \"MyGenA\", cult_temp=26, growth_rate=0.76, biomass=46 )\n",
    "print('Vaccine production rate A, try 2: (error:{})'.format( vac_out_1.error ))\n",
    "\n",
    "vac_out_2 = exp.simulate_vaccine_production( [\"origin.2\"], \"MyGenA\", cult_temp=36, growth_rate=0.91, biomass=46 )\n",
    "print('Vaccine production rate A, try 2: (error:{})'.format( vac_out_2.error ))\n",
    "\n",
    "vac_out_3 = exp.simulate_vaccine_production( [\"origin.3\"], \"MyGenB\", cult_temp=36, growth_rate=0.91, biomass=90 )\n",
    "print('Vaccine production rate B, try 1: (error:{})'.format( vac_out_3.error ))\n",
    "\n",
    "vac_out_4 = exp.simulate_vaccine_production( [\"origin.3\"], \"MyGenB\", cult_temp=36, growth_rate=0.91, biomass=90 )\n",
    "print('Vaccine production rate B, try 2: (error:{})'.format( vac_out_4.error ))\n",
    "\n",
    "vac_out_multi = exp.simulate_vaccine_production( [\"origin.1\", \"origin.2\", \"origin.3\"], \"MyGenB\", cult_temp=36, growth_rate=0.90, biomass=90 )\n",
    "print('Vaccine production multiple: (error:{})'.format( vac_out_multi.error ))\n",
    "\n",
    "\n",
    "# Its possible to make a custom combine_data for the production experiments.\n",
    "all_vac_out = combine_data([ vac_out_1, vac_out_2, vac_out_3, vac_out_4, vac_out_multi ])\n",
    "all_vac_out.display_data()\n",
    "all_vac_out.export_data('output/Production_Experiments.csv')\n",
    "\n"
   ]
  },
  {
   "cell_type": "code",
   "execution_count": 9,
   "metadata": {},
   "outputs": [
    {
     "data": {
      "image/png": "[encoded data removed]",
      "text/plain": [
       "<Figure size 640x480 with 1 Axes>"
      ]
     },
     "metadata": {},
     "output_type": "display_data"
    }
   ],
   "source": [
    "# 4.2.1 Visualization of the results\n",
    "# TODO: This could be a new DataWithPlotOutcome to hide the code if wanted.\n",
    "GCcont, Express = all_vac_out.value['Promoter_GC-content'], all_vac_out.value['Expression_Rate']\n",
    "plt.plot(GCcont,Express, linestyle = '--', marker = 'x', color = 'grey')\n",
    "plt.gca().set(xlabel='GC-cont', ylabel='rel. expression', xlim=(.3,.8), ylim=(0,1))\n",
    "plt.savefig('output/RelExpress_Vs_GCcont_allProm.png', format='png')\n",
    "plt.show()\n"
   ]
  },
  {
   "cell_type": "code",
   "execution_count": 10,
   "metadata": {},
   "outputs": [
    {
     "name": "stdout",
     "output_type": "stream",
     "text": [
      "Experiment:\n",
      "  budget = 4900\n",
      "  failure rate = 0.12903225806451613\n",
      "  hosts = [ origin.1 , origin , origin.2 , origin.3 ]\n",
      "Host [origin.1]:\n",
      "  seed plus counter = 6733855923820810057 + 0\n",
      "  optimal growth temperature = 34\n",
      "  max biomass = 94\n",
      "  optimal primer length = 19\n",
      "  Gene List: 0 genes\n",
      "  Event History: 0 events\n",
      "Host [origin]:\n",
      "  seed plus counter = 4720721261117928062 + 7\n",
      "  optimal growth temperature = 34\n",
      "  max biomass = 94\n",
      "  optimal primer length = 19\n",
      "  Gene List: 0 genes\n",
      "  Event History: 0 events\n",
      "Host [origin.2]:\n",
      "  seed plus counter = 6259074176465764939 + 0\n",
      "  optimal growth temperature = 34\n",
      "  max biomass = 94\n",
      "  optimal primer length = 19\n",
      "  Gene List: 0 genes\n",
      "  Event History: 0 events\n",
      "Host [origin.3]:\n",
      "  seed plus counter = 5326339429848620559 + 0\n",
      "  optimal growth temperature = 34\n",
      "  max biomass = 94\n",
      "  optimal primer length = 19\n",
      "  Gene List: 1 genes\n",
      "  - MyGenB = GCCCAAATATTAAGCAAACACGTAAAGGAAAAAATGCACG * GGGGGGGGGG\n",
      "  Event History: 1 events\n",
      "  - - - GenomeLibrary: added gene=MyGenB\n"
     ]
    }
   ],
   "source": [
    "# Print internal state.\n",
    "exp.print_status()\n",
    "for h in exp.hosts :\n",
    "    h.print_status()"
   ]
  }
 ],
 "metadata": {
  "interpreter": {
   "hash": "0a106696d28e162367b2ce02886d1028f753c73e4bce0ddcd82db8e104c812b1"
  },
  "kernelspec": {
   "display_name": "bls_py39",
   "language": "python",
   "name": "bls_py39"
  },
  "language_info": {
   "codemirror_mode": {
    "name": "ipython",
    "version": 3
   },
   "file_extension": ".py",
   "mimetype": "text/x-python",
   "name": "python",
   "nbconvert_exporter": "python",
   "pygments_lexer": "ipython3",
   "version": "3.9.12"
  }
 },
 "nbformat": 4,
 "nbformat_minor": 4
}
