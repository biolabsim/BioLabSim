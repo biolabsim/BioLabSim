{
 "cells": [
  {
   "cell_type": "markdown",
   "metadata": {},
   "source": [
    "# FluxTest Notebook\n",
    "\n",
    "Testing how modules can interact with each other and send chained events.\n",
    "On begin, the MetabolicFlux will share all genes of a cobra model with the other modules.\n",
    "When a gene promoter is edited on the GenomeLibrary, then it will trigger a recalculation of the\n",
    "expression via the GenomeExpression module. That recalculation will be received by the\n",
    "MetabolicFlux which will adjust the upper_bounds inside the model."
   ]
  },
  {
   "cell_type": "code",
   "execution_count": null,
   "metadata": {},
   "outputs": [],
   "source": [
    "# Allow imports from the current directory.\n",
    "import os\n",
    "import sys\n",
    "sys.path.append( os.path.abspath(os.path.join('.')) )\n",
    "\n",
    "import numpy as np\n",
    "\n",
    "from catalog import FluxExp"
   ]
  },
  {
   "cell_type": "code",
   "execution_count": null,
   "metadata": {},
   "outputs": [],
   "source": [
    "exp = FluxExp()\n",
    "\n",
    "# Create first ECol host from scratch.\n",
    "print(\"### First Ecol (unaltered import from cobrapy)\")\n",
    "ecol1 = exp.create_host()\n",
    "ecol1.print_event_log()\n",
    "sol1 = ecol1.optimize()\n",
    "print(\"Solution 1 = \", sol1)"
   ]
  },
  {
   "cell_type": "code",
   "execution_count": null,
   "metadata": {},
   "outputs": [],
   "source": [
    "# Create second Ecol host as a clone from the first. Slightly lower the expressions.\n",
    "print(\"### Second Ecol (clone first Ecol and change expressions which do not affect objective value)\")\n",
    "ecol2 = exp.clone_host(ecol1)\n",
    "for gn in [\"glcB\", \"aceB\", \"sucD\", \"frmA\",\"puuA\"] :\n",
    "    ecol2.edit_gene( gn, \"GCCCAAAAAAAAAGCAAACACGTAAAGGAAAAAATGCACG\" )\n",
    "ecol2.print_event_log()\n",
    "sol2 = ecol2.optimize()\n",
    "print(\"Solution 2 = \", sol2)"
   ]
  },
  {
   "cell_type": "code",
   "execution_count": null,
   "metadata": {},
   "outputs": [],
   "source": [
    "# Create third Ecol host as a clone from the second. Reduce the expression by a lot.\n",
    "print(\"### Third Ecol (clone first Ecol and change expressions affecting the final objective value)\")\n",
    "ecol3 = exp.clone_host(ecol1)\n",
    "for gn in [\"lpd\",\"sdhD\",\"cbdB\",\"fumC\",\"nuoK\",\"gltD\",\"gltP\"] :\n",
    "    ecol3.edit_gene( gn, \"ATGGGGGGGGGGGGGGGGGGGGG\" )\n",
    "ecol3.print_event_log()\n",
    "sol3 = ecol3.optimize()\n",
    "print(\"Solution 3 = \", sol3)"
   ]
  }
 ],
 "metadata": {
  "interpreter": {
   "hash": "82c0f87e1a8c8101eb40380571838b7f9ababbe8c965c36e0421f15ec148fc48"
  },
  "kernelspec": {
   "display_name": "Python 3.9.7 64-bit ('py39': venv)",
   "name": "python3"
  },
  "language_info": {
   "codemirror_mode": {
    "name": "ipython",
    "version": 3
   },
   "file_extension": ".py",
   "mimetype": "text/x-python",
   "name": "python",
   "nbconvert_exporter": "python",
   "pygments_lexer": "ipython3",
   "version": "3.9.7"
  }
 },
 "nbformat": 4,
 "nbformat_minor": 4
}
