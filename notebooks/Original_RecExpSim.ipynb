{
 "cells": [
  {
   "cell_type": "markdown",
   "metadata": {},
   "source": [
    " # Reconstrured RecExpSim Notebook\n",
    "\n",
    " This is a recreation of the RecExpSim Notebook.\n",
    " It should be roughly similar to the existing notebook while using the new restructured codebase."
   ]
  },
  {
   "cell_type": "code",
   "execution_count": 1,
   "metadata": {},
   "outputs": [],
   "source": [
    "# Use biolabsim from parent folder.\n",
    "import os\n",
    "import sys\n",
    "sys.path.append( os.path.abspath(os.path.join('.')) )\n",
    "sys.path.append( os.path.abspath(os.path.join('..')) )\n",
    "\n"
   ]
  },
  {
   "cell_type": "code",
   "execution_count": 4,
   "metadata": {},
   "outputs": [
    {
     "name": "stdout",
     "output_type": "stream",
     "text": [
      "System ready\n"
     ]
    }
   ],
   "source": [
    "# 1. Set-up of simulation environment\n",
    "import os\n",
    "import numpy as np\n",
    "import matplotlib.pyplot as plt\n",
    "\n",
    "import pandas as pd\n",
    "pd.options.display.width = 100 # Make pandas output wider.\n",
    "\n",
    "from silvio.outcome import combine_data\n",
    "from silvio.catalog.recexpsim_original import RecExperiment\n",
    "\n",
    "print('System ready')\n",
    "\n"
   ]
  },
  {
   "cell_type": "code",
   "execution_count": 17,
   "metadata": {},
   "outputs": [
    {
     "name": "stdout",
     "output_type": "stream",
     "text": [
      "Host [ecol.1]:\n",
      "  seed plus counter = 4720721261117928062 + 0\n",
      "  optimal growth temperature = 34\n",
      "  max biomass = 48\n",
      "  optimal primer length = 26\n",
      "  Gene List: 0 genes\n",
      "  Event History: 0 events\n"
     ]
    }
   ],
   "source": [
    "# 2. Lab setup\n",
    "exp = RecExperiment( equipment_investment=1500, seed=1 )\n",
    "host = exp.create_host('ecol')\n",
    "# print()\n",
    "host.print_status()\n",
    "\n"
   ]
  },
  {
   "cell_type": "code",
   "execution_count": 6,
   "metadata": {},
   "outputs": [
    {
     "name": "stdout",
     "output_type": "stream",
     "text": [
      "\n",
      "############################################# progress of exp.0 at 22 °C: 100 percent\n",
      "############################################# progress of exp.1 at 30 °C: 100 percent\n",
      "############################################# progress of exp.2 at 36 °C: 100 percent\n",
      "############################################# progress of exp.3 at 40 °C: 100 percent\n",
      "    time [h]  exp.0 biomass conc. at 22 °C  exp.1 biomass conc. at 30 °C  \\\n",
      "0        0.0                      0.095314                      0.097038   \n",
      "1        1.0                      0.110885                      0.179054   \n",
      "2        2.0                      0.098243                      0.477944   \n",
      "3        3.0                      0.138729                      0.812244   \n",
      "4        4.0                      0.130317                      1.614099   \n",
      "5        5.0                      0.108684                      4.089171   \n",
      "6        6.0                      0.145477                      7.910813   \n",
      "7        7.0                      0.136389                     11.393160   \n",
      "8        8.0                      0.167732                     20.661063   \n",
      "9        9.0                      0.169179                     29.381895   \n",
      "10      10.0                      0.184588                     41.759947   \n",
      "11      11.0                      0.162491                     40.092092   \n",
      "12      12.0                      0.175954                     46.910873   \n",
      "13      13.0                      0.203873                     47.997382   \n",
      "14      14.0                      0.227798                     44.530567   \n",
      "15      15.0                      0.237365                     40.869000   \n",
      "16      16.0                      0.201192                     52.805826   \n",
      "17      17.0                      0.260001                     46.664588   \n",
      "18      18.0                      0.284842                     52.865922   \n",
      "19      19.0                      0.323640                     41.017335   \n",
      "20      20.0                      0.303626                     51.649845   \n",
      "21      21.0                      0.338081                     48.316718   \n",
      "22      22.0                      0.304173                     48.453640   \n",
      "23      23.0                      0.341777                     40.619112   \n",
      "24      24.0                      0.375242                     48.785181   \n",
      "25      25.0                      0.391607                     48.076830   \n",
      "26      26.0                      0.481838                     46.692324   \n",
      "27      27.0                      0.459250                     49.772218   \n",
      "28      28.0                      0.425219                     46.157694   \n",
      "29      29.0                      0.529484                     42.177807   \n",
      "30      30.0                      0.515295                     41.723489   \n",
      "31      31.0                      0.631232                     41.217278   \n",
      "32      32.0                      0.637843                     48.970409   \n",
      "33      33.0                      0.549584                     42.378038   \n",
      "34      34.0                      0.606032                     54.437616   \n",
      "35      35.0                      0.624076                     57.599458   \n",
      "36      36.0                      0.749030                     36.950717   \n",
      "37      37.0                      0.848287                     47.206723   \n",
      "38      38.0                      0.928322                     42.503199   \n",
      "39      39.0                      0.812264                     41.622434   \n",
      "40      40.0                      0.785987                     46.871677   \n",
      "41      41.0                      0.913173                     38.447658   \n",
      "42      42.0                      0.939213                     56.090984   \n",
      "43      43.0                      1.193897                     47.874998   \n",
      "44      44.0                      1.160606                     49.075120   \n",
      "45      45.0                      1.192414                     47.984093   \n",
      "46      46.0                      1.468124                     54.735534   \n",
      "47      47.0                      1.423907                     48.039030   \n",
      "\n",
      "    exp.2 biomass conc. at 36 °C  exp.3 biomass conc. at 40 °C  \n",
      "0                       0.088976                      0.092529  \n",
      "1                       0.279618                      0.175972  \n",
      "2                       0.608258                      0.221233  \n",
      "3                       1.556955                      0.452659  \n",
      "4                       3.608673                      0.652129  \n",
      "5                       8.544380                      1.061631  \n",
      "6                      16.885752                      1.579771  \n",
      "7                      26.566226                      3.316239  \n",
      "8                      34.818421                      3.844587  \n",
      "9                      42.512297                      7.107066  \n",
      "10                     46.167389                      8.756830  \n",
      "11                     48.380683                     14.386924  \n",
      "12                     48.513482                     17.264377  \n",
      "13                     37.594446                     28.366135  \n",
      "14                     41.702712                     31.196010  \n",
      "15                     43.292285                     38.653919  \n",
      "16                     51.699480                     39.928370  \n",
      "17                     48.888704                     46.576711  \n",
      "18                     44.742435                     46.131391  \n",
      "19                     49.994944                     42.498810  \n",
      "20                     52.035115                     46.678306  \n",
      "21                     49.830806                     54.360697  \n",
      "22                     47.444725                     42.883332  \n",
      "23                     44.869276                     45.448908  \n",
      "24                     52.702351                     52.476369  \n",
      "25                     54.079588                     52.151932  \n",
      "26                     48.302366                     51.832965  \n",
      "27                     48.649657                     47.588735  \n",
      "28                     44.493101                     39.146870  \n",
      "29                     50.577947                     49.860324  \n",
      "30                     50.284385                     41.854636  \n",
      "31                     41.881114                     52.067994  \n",
      "32                     53.606439                     50.756945  \n",
      "33                     48.946875                     48.927263  \n",
      "34                     51.543979                     42.149942  \n",
      "35                     51.123264                     50.532273  \n",
      "36                     45.771875                     46.449775  \n",
      "37                     46.854919                     42.827595  \n",
      "38                     52.259844                     41.994763  \n",
      "39                     56.139520                     46.388681  \n",
      "40                     46.413762                     48.397291  \n",
      "41                     51.833991                     42.406766  \n",
      "42                     48.767419                     50.418126  \n",
      "43                     42.424538                     48.879548  \n",
      "44                     51.747807                     54.693034  \n",
      "45                     49.786986                     54.267145  \n",
      "46                     44.192306                     48.381438  \n",
      "47                     43.804106                     49.500017  \n",
      "Plot exported to: /home/ulf/Documents/biolabsim/notebooks/output/Growth_Simulation.png\n"
     ]
    }
   ],
   "source": [
    "# 3.1. Experiment set-up\n",
    "temperatures = [22,30,36,40] #[22,24,26,28,30]\n",
    "print()\n",
    "growth_out = exp.simulate_growth(host, temperatures)\n",
    "growth_out.display_data()\n",
    "growth_out.export_plot('output/Growth_Simulation.png')\n",
    "\n"
   ]
  },
  {
   "cell_type": "code",
   "execution_count": 7,
   "metadata": {},
   "outputs": [
    {
     "data": {
      "image/png": "[encoded data removed]",
      "text/plain": [
       "<Figure size 640x480 with 1 Axes>"
      ]
     },
     "metadata": {},
     "output_type": "display_data"
    }
   ],
   "source": [
    "# 3.2.2.1 Visual analysis of exponential growth\n",
    "growth_out.display_plot()\n",
    "\n"
   ]
  },
  {
   "cell_type": "code",
   "execution_count": 8,
   "metadata": {},
   "outputs": [
    {
     "name": "stdout",
     "output_type": "stream",
     "text": [
      "\n",
      "max biomass: 46\n",
      "max growth rate: 0.90\n"
     ]
    }
   ],
   "source": [
    "# 3.2.2.2 Determine maximum biomass and growth rate\n",
    "Idx_optT, Linear_optT = 2, 6\n",
    "# TODO: Maybe calculations of MB and GR are hidden inside the Outcome.\n",
    "#   Maybe its intuitive to draw the chosen point in the plot.\n",
    "cult_df = growth_out.value\n",
    "Time, Biomass = cult_df.iloc[:,0], cult_df.iloc[:,1:]\n",
    "LnBiomass = np.log(Biomass)\n",
    "MB = np.mean(Biomass.iloc[Linear_optT:,Idx_optT])\n",
    "GR = np.polyfit(Time.iloc[:Linear_optT],LnBiomass.iloc[:Linear_optT,Idx_optT],1)\n",
    "print()\n",
    "print('max biomass: {:.0f}\\nmax growth rate: {:.2f}'.format(MB,GR[0]))\n",
    "\n"
   ]
  },
  {
   "cell_type": "code",
   "execution_count": 9,
   "metadata": {},
   "outputs": [
    {
     "name": "stdout",
     "output_type": "stream",
     "text": [
      "\n",
      "Try cloning with bad melting temperature.\n",
      "Clone Outcome: Cloning with recombination succeeded.\n",
      "\n",
      "Try cloning first with good parameters.\n",
      "Clone Outcome: Cloning with recombination succeeded.\n",
      "Host [ecol.1.2]:\n",
      "  seed plus counter = 6733855923820810058 + 0\n",
      "  optimal growth temperature = 34\n",
      "  max biomass = 48\n",
      "  optimal primer length = 26\n",
      "  Gene List: 1 genes\n",
      "  - MyGenA = GCCCAAAAAAAAAGCAAACACGTAAAGGAAAAAATGCACG * GGGGGGGGGG\n",
      "  Event History: 1 events\n",
      "  - Added gene=MyGenA to the GenomeLibrary.\n",
      "\n",
      "Try cloning second with good parameters.\n",
      "Clone Outcome: Cloning with recombination succeeded.\n",
      "Host [ecol.1.3]:\n",
      "  seed plus counter = 3002399975030559795 + 0\n",
      "  optimal growth temperature = 34\n",
      "  max biomass = 48\n",
      "  optimal primer length = 26\n",
      "  Gene List: 1 genes\n",
      "  - MyGenB = GCCCAAATATTAAGCAAACACGTAAAGGAAAAAATGCACG * GGGGGGGGGG\n",
      "  Event History: 1 events\n",
      "  - Added gene=MyGenB to the GenomeLibrary.\n"
     ]
    }
   ],
   "source": [
    "# 4.1.1 Promoter choice and cloning\n",
    "from silvio.extensions.records.gene.crafted_gene import CraftedGene\n",
    "from Bio.Seq import Seq\n",
    "Promoter1 = Seq(\"GCCCAAAAAAAAAGCAAACACGTAAAGGAAAAAATGCACG\")\n",
    "Primer1 =   Seq(\"CGGGTTTTTTTTTCG\")\n",
    "Tm =        48 # melting temperature\n",
    "NewGene = CraftedGene( name=\"MyGenA\", prom=Promoter1, orf=\"GGGGGGGGGG\" )\n",
    "\n",
    "print(\"\\nTry cloning with bad melting temperature.\")\n",
    "# TODO: Melting temperature is not affecting clone chance.\n",
    "bad_host, clone_outcome = exp.clone_with_recombination( host, Primer1, gene=NewGene, tm=1000 )\n",
    "print(\"Clone Outcome: \" + clone_outcome)\n",
    "\n",
    "print(\"\\nTry cloning first with good parameters.\")\n",
    "good_host_a, clone_outcome = exp.clone_with_recombination( host, Primer1, gene=NewGene, tm=Tm )\n",
    "print(\"Clone Outcome: \" + clone_outcome)\n",
    "good_host_a.print_status()\n",
    "\n",
    "Promoter2 = Seq(\"GCCCAAATATTAAGCAAACACGTAAAGGAAAAAATGCACG\")\n",
    "Primer2 =   Seq(\"CGGGTTTATAATTCG\")\n",
    "Tm2 =       52\n",
    "NewGene2 = CraftedGene( name=\"MyGenB\", prom=Promoter2, orf=\"GGGGGGGGGG\" )\n",
    "\n",
    "print(\"\\nTry cloning second with good parameters.\")\n",
    "good_host_b, clone_outcome = exp.clone_with_recombination( host, Primer2, gene=NewGene2, tm=Tm2 )\n",
    "print(\"Clone Outcome: \" + clone_outcome)\n",
    "good_host_b.print_status()\n",
    "\n"
   ]
  },
  {
   "cell_type": "code",
   "execution_count": 10,
   "metadata": {},
   "outputs": [
    {
     "name": "stdout",
     "output_type": "stream",
     "text": [
      "\n",
      "All Promoter Strengths combined:\n",
      "       Host GeneName                              GenePromoter  PromoterStrength\n",
      "0  ecol.1.1   MyGenA  GCCCAAAAAAAAAGCAAACACGTAAAGGAAAAAATGCACG              1.06\n",
      "1  ecol.1.2   MyGenA  GCCCAAAAAAAAAGCAAACACGTAAAGGAAAAAATGCACG              1.06\n",
      "2  ecol.1.3   MyGenA  GCCCAAAAAAAAAGCAAACACGTAAAGGAAAAAATGCACG              0.00\n",
      "3  ecol.1.3   MyGenB  GCCCAAATATTAAGCAAACACGTAAAGGAAAAAATGCACG              0.72\n"
     ]
    },
    {
     "name": "stderr",
     "output_type": "stream",
     "text": [
      "/home/ulf/anaconda3/envs/py39/lib/python3.9/site-packages/sklearn/base.py:310: UserWarning: Trying to unpickle estimator DecisionTreeRegressor from version 0.22.1 when using version 0.24.1. This might lead to breaking code or invalid results. Use at your own risk.\n",
      "  warnings.warn(\n",
      "/home/ulf/anaconda3/envs/py39/lib/python3.9/site-packages/sklearn/base.py:310: UserWarning: Trying to unpickle estimator RandomForestRegressor from version 0.22.1 when using version 0.24.1. This might lead to breaking code or invalid results. Use at your own risk.\n",
      "  warnings.warn(\n",
      "/home/ulf/anaconda3/envs/py39/lib/python3.9/site-packages/sklearn/base.py:310: UserWarning: Trying to unpickle estimator DecisionTreeRegressor from version 0.22.1 when using version 0.24.1. This might lead to breaking code or invalid results. Use at your own risk.\n",
      "  warnings.warn(\n",
      "/home/ulf/anaconda3/envs/py39/lib/python3.9/site-packages/sklearn/base.py:310: UserWarning: Trying to unpickle estimator RandomForestRegressor from version 0.22.1 when using version 0.24.1. This might lead to breaking code or invalid results. Use at your own risk.\n",
      "  warnings.warn(\n",
      "/home/ulf/anaconda3/envs/py39/lib/python3.9/site-packages/sklearn/base.py:310: UserWarning: Trying to unpickle estimator DecisionTreeRegressor from version 0.22.1 when using version 0.24.1. This might lead to breaking code or invalid results. Use at your own risk.\n",
      "  warnings.warn(\n",
      "/home/ulf/anaconda3/envs/py39/lib/python3.9/site-packages/sklearn/base.py:310: UserWarning: Trying to unpickle estimator RandomForestRegressor from version 0.22.1 when using version 0.24.1. This might lead to breaking code or invalid results. Use at your own risk.\n",
      "  warnings.warn(\n"
     ]
    }
   ],
   "source": [
    "# 4.1.2 Measurement of the promoter strength\n",
    "prom_out_1 = exp.measure_promoter_strength( bad_host, NewGene )\n",
    "\n",
    "prom_out_2 = exp.measure_promoter_strength( good_host_a, NewGene )\n",
    "\n",
    "prom_out_3 = exp.measure_promoter_strength( good_host_b, NewGene ) # Use NewGene but HostB only has NewGene2\n",
    "\n",
    "prom_out_4 = exp.measure_promoter_strength( good_host_b, NewGene2 )\n",
    "\n",
    "# Join all measurements.\n",
    "print(\"\\nAll Promoter Strengths combined:\")\n",
    "all_prom_out = combine_data([ prom_out_1, prom_out_2, prom_out_3, prom_out_4 ])\n",
    "all_prom_out.display_data()\n",
    "\n"
   ]
  },
  {
   "cell_type": "code",
   "execution_count": 11,
   "metadata": {},
   "outputs": [
    {
     "name": "stdout",
     "output_type": "stream",
     "text": [
      "Vaccine production rate A, try 1: (error:Maximum biomass and/or maximum growth rate are incorrect.)\n",
      "Vaccine production rate A, try 2: (error:None)\n",
      "Vaccine production rate B, try 1: (error:Maximum biomass and/or maximum growth rate are incorrect.)\n",
      "Vaccine production rate B, try 2: (error:None)\n",
      "       Host Gene_Name                         Promoter_Sequence  Promoter_GC-content  \\\n",
      "0  ecol.1.2    MyGenA  GCCCAAAAAAAAAGCAAACACGTAAAGGAAAAAATGCACG                0.375   \n",
      "1  ecol.1.2    MyGenA  GCCCAAAAAAAAAGCAAACACGTAAAGGAAAAAATGCACG                0.375   \n",
      "2  ecol.1.3    MyGenB  GCCCAAATATTAAGCAAACACGTAAAGGAAAAAATGCACG                0.375   \n",
      "3  ecol.1.3    MyGenB  GCCCAAATATTAAGCAAACACGTAAAGGAAAAAATGCACG                0.375   \n",
      "\n",
      "   Expression_Temperature  Expression_Biomass  Expression_Rate  \n",
      "0                      26                  46             0.00  \n",
      "1                      36                  46             0.34  \n",
      "2                      36                  70             0.00  \n",
      "3                      36                  46             0.23  \n",
      "Data exported to: /home/ulf/Documents/biolabsim/notebooks/output/Production_Experiments.csv\n"
     ]
    },
    {
     "name": "stderr",
     "output_type": "stream",
     "text": [
      "/home/ulf/anaconda3/envs/py39/lib/python3.9/site-packages/sklearn/base.py:310: UserWarning: Trying to unpickle estimator DecisionTreeRegressor from version 0.22.1 when using version 0.24.1. This might lead to breaking code or invalid results. Use at your own risk.\n",
      "  warnings.warn(\n",
      "/home/ulf/anaconda3/envs/py39/lib/python3.9/site-packages/sklearn/base.py:310: UserWarning: Trying to unpickle estimator RandomForestRegressor from version 0.22.1 when using version 0.24.1. This might lead to breaking code or invalid results. Use at your own risk.\n",
      "  warnings.warn(\n",
      "/home/ulf/anaconda3/envs/py39/lib/python3.9/site-packages/sklearn/base.py:310: UserWarning: Trying to unpickle estimator DecisionTreeRegressor from version 0.22.1 when using version 0.24.1. This might lead to breaking code or invalid results. Use at your own risk.\n",
      "  warnings.warn(\n",
      "/home/ulf/anaconda3/envs/py39/lib/python3.9/site-packages/sklearn/base.py:310: UserWarning: Trying to unpickle estimator RandomForestRegressor from version 0.22.1 when using version 0.24.1. This might lead to breaking code or invalid results. Use at your own risk.\n",
      "  warnings.warn(\n"
     ]
    }
   ],
   "source": [
    "# 4.1.3 Measurement of the final vaccine expression rate\n",
    "# in Make_ProductionExperiment: Clone_ID (string), Opt. Temp (int), Opt. Growth rate (float), Opt. Biomass (int)\n",
    "\n",
    "vac_out_1 = exp.simulate_vaccine_production( good_host_a, gene=NewGene, cult_temp=26, growth_rate=0.76, biomass=46 )\n",
    "print('Vaccine production rate A, try 1: (error:{})'.format( vac_out_1.error ))\n",
    "\n",
    "vac_out_2 = exp.simulate_vaccine_production( good_host_a, gene=NewGene, cult_temp=36, growth_rate=0.92, biomass=46 )\n",
    "print('Vaccine production rate A, try 2: (error:{})'.format( vac_out_2.error ))\n",
    "\n",
    "vac_out_3 = exp.simulate_vaccine_production( good_host_b, gene=NewGene2, cult_temp=36, growth_rate=0.92, biomass=70 )\n",
    "print('Vaccine production rate B, try 1: (error:{})'.format( vac_out_3.error ))\n",
    "\n",
    "vac_out_4 = exp.simulate_vaccine_production( good_host_b, gene=NewGene2, cult_temp=36, growth_rate=0.92, biomass=46 )\n",
    "print('Vaccine production rate B, try 2: (error:{})'.format( vac_out_4.error ))\n",
    "\n",
    "# Its possible to make a custom combine_data for the production experiments.\n",
    "all_vac_out = combine_data([ vac_out_1, vac_out_2, vac_out_3, vac_out_4 ])\n",
    "all_vac_out.display_data()\n",
    "all_vac_out.export_data('output/Production_Experiments.csv')\n",
    "\n"
   ]
  },
  {
   "cell_type": "code",
   "execution_count": 12,
   "metadata": {},
   "outputs": [
    {
     "data": {
      "image/png": "[encoded data removed]",
      "text/plain": [
       "<Figure size 640x480 with 1 Axes>"
      ]
     },
     "metadata": {},
     "output_type": "display_data"
    }
   ],
   "source": [
    "# 4.2.1 Visualization of the results\n",
    "# TODO: This could be a new DataWithPlotOutcome to hide the code if wanted.\n",
    "GCcont, Express = all_vac_out.value['Promoter_GC-content'], all_vac_out.value['Expression_Rate']\n",
    "plt.plot(GCcont,Express, linestyle = '--', marker = 'x', color = 'grey')\n",
    "plt.gca().set(xlabel='GC-cont', ylabel='rel. expression', xlim=(.3,.8), ylim=(0,1))\n",
    "plt.savefig('output/RelExpress_Vs_GCcont_allProm.png', format='png')\n",
    "plt.show()\n"
   ]
  },
  {
   "cell_type": "code",
   "execution_count": 13,
   "metadata": {},
   "outputs": [
    {
     "name": "stdout",
     "output_type": "stream",
     "text": [
      "Experiment:\n",
      "  budget = 5400\n",
      "  failure rate = 0.12903225806451613\n",
      "  no. hosts = 4\n",
      "Host [ecol.1.2]:\n",
      "  seed plus counter = 6733855923820810058 + 0\n",
      "  optimal growth temperature = 34\n",
      "  max biomass = 48\n",
      "  optimal primer length = 26\n",
      "  Gene List: 1 genes\n",
      "  - MyGenA = GCCCAAAAAAAAAGCAAACACGTAAAGGAAAAAATGCACG * GGGGGGGGGG\n",
      "  Event History: 1 events\n",
      "  - Added gene=MyGenA to the GenomeLibrary.\n",
      "Host [ecol.1.3]:\n",
      "  seed plus counter = 3002399975030559795 + 0\n",
      "  optimal growth temperature = 34\n",
      "  max biomass = 48\n",
      "  optimal primer length = 26\n",
      "  Gene List: 1 genes\n",
      "  - MyGenB = GCCCAAATATTAAGCAAACACGTAAAGGAAAAAATGCACG * GGGGGGGGGG\n",
      "  Event History: 1 events\n",
      "  - Added gene=MyGenB to the GenomeLibrary.\n",
      "Host [ecol.1]:\n",
      "  seed plus counter = 4720721261117928062 + 4\n",
      "  optimal growth temperature = 34\n",
      "  max biomass = 48\n",
      "  optimal primer length = 26\n",
      "  Gene List: 0 genes\n",
      "  Event History: 0 events\n",
      "Host [ecol.1.1]:\n",
      "  seed plus counter = 8765106411078559354 + 0\n",
      "  optimal growth temperature = 34\n",
      "  max biomass = 48\n",
      "  optimal primer length = 26\n",
      "  Gene List: 1 genes\n",
      "  - MyGenA = GCCCAAAAAAAAAGCAAACACGTAAAGGAAAAAATGCACG * GGGGGGGGGG\n",
      "  Event History: 1 events\n",
      "  - Added gene=MyGenA to the GenomeLibrary.\n"
     ]
    }
   ],
   "source": [
    "# Print internal state.\n",
    "exp.print_status()\n",
    "for h in exp.hosts :\n",
    "    h.print_status()"
   ]
  }
 ],
 "metadata": {
  "interpreter": {
   "hash": "0a106696d28e162367b2ce02886d1028f753c73e4bce0ddcd82db8e104c812b1"
  },
  "kernelspec": {
   "display_name": "py39",
   "language": "python",
   "name": "py39"
  },
  "language_info": {
   "codemirror_mode": {
    "name": "ipython",
    "version": 3
   },
   "file_extension": ".py",
   "mimetype": "text/x-python",
   "name": "python",
   "nbconvert_exporter": "python",
   "pygments_lexer": "ipython3",
   "version": "3.9.1"
  }
 },
 "nbformat": 4,
 "nbformat_minor": 4
}
