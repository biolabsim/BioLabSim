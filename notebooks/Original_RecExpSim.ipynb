{
 "cells": [
  {
   "cell_type": "markdown",
   "source": [
    "# Reconstrured RecExpSim Notebook\n",
    "\n",
    "This is a recreation of the RecExpSim Notebook.\n",
    "It should be roughly similar to the existing notebook while using the new restructured codebase."
   ],
   "metadata": {}
  },
  {
   "cell_type": "code",
   "execution_count": null,
   "source": [
    "# Use biolabsim from parent folder.\n",
    "import os\n",
    "import sys\n",
    "sys.path.append( os.path.abspath(os.path.join('.')) )\n",
    "sys.path.append( os.path.abspath(os.path.join('..')) )"
   ],
   "outputs": [],
   "metadata": {}
  },
  {
   "cell_type": "code",
   "execution_count": null,
   "source": [
    "# 1. Set-up of simulation environment\n",
    "import os\n",
    "import numpy as np\n",
    "import matplotlib.pyplot as plt\n",
    "\n",
    "from silvio.catalog.recexpsim_original import RecExperiment, RecHost\n",
    "print('System ready')"
   ],
   "outputs": [],
   "metadata": {}
  },
  {
   "cell_type": "code",
   "execution_count": null,
   "source": [
    "# 2. Lab setup\n",
    "exp = RecExperiment( equipment_investment=1500 )\n",
    "host = exp.create_host('ecol')\n",
    "print()\n",
    "host.print_status()"
   ],
   "outputs": [],
   "metadata": {}
  },
  {
   "cell_type": "code",
   "execution_count": null,
   "source": [
    "# 3.1. Experiment set-up\n",
    "temperatures = [26,30,34] #[22,24,26,28,30]\n",
    "print()\n",
    "cult_df = host.sim_growth(temperatures)\n",
    "print(cult_df.to_string())"
   ],
   "outputs": [],
   "metadata": {}
  },
  {
   "cell_type": "code",
   "execution_count": null,
   "source": [
    "# 3.2.2.1 Visual analysis of exponential growth\n",
    "Time, Biomass = cult_df.iloc[:,0], cult_df.iloc[:,1:]\n",
    "LnBiomass = np.log(Biomass)\n",
    "[plt.scatter(Time, X, label=Exp) for Exp,X in LnBiomass.iteritems()]\n",
    "plt.legend()\n",
    "plt.show()"
   ],
   "outputs": [],
   "metadata": {}
  },
  {
   "cell_type": "code",
   "execution_count": null,
   "source": [
    "# 3.2.2.2 Determine maximum biomass and growth rate\n",
    "Idx_optT, Linear_optT = 2, 13\n",
    "MB = np.mean(Biomass.iloc[Linear_optT:,Idx_optT])\n",
    "GR = np.polyfit(Time.iloc[:Linear_optT],LnBiomass.iloc[:Linear_optT,Idx_optT],1)\n",
    "print()\n",
    "print('max biomass: {:.0f}\\nmax growth rate: {:.2f}'.format(MB,GR[0]))"
   ],
   "outputs": [],
   "metadata": {}
  },
  {
   "cell_type": "code",
   "execution_count": null,
   "source": [
    "# 4.1.1 Promoter choice and cloning\n",
    "from silvio.extensions.records.gene.crafted_gene import CraftedGene\n",
    "from Bio.Seq import Seq\n",
    "Promoter1 = Seq(\"GCCCAAAAAAAAAGCAAACACGTAAAGGAAAAAATGCACG\")\n",
    "Primer1 =   Seq(\"CGGGTTTTTTTTTCG\")\n",
    "Tm =        48 # melting temperature\n",
    "NewGene = CraftedGene( name=\"MyGenA\", prom=Promoter1, orf=\"GGGGGGGGGG\" )\n",
    "\n",
    "print(\"\\nTry cloning with bad melting temperature.\")\n",
    "bad_host, clone_outcome = host.clone_with_recombination( Primer1, gene=NewGene, tm=100 )\n",
    "print(\"Clone Outcome: \" + clone_outcome)\n",
    "bad_host.print_status()\n",
    "\n",
    "print(\"\\nTry cloning with good parameters.\")\n",
    "good_host, clone_outcome = host.clone_with_recombination( Primer1, gene=NewGene, tm=Tm )\n",
    "print(\"Clone Outcome: \" + clone_outcome)\n",
    "good_host.print_status()"
   ],
   "outputs": [],
   "metadata": {}
  },
  {
   "cell_type": "code",
   "execution_count": null,
   "source": [
    "# 4.1.2 Measurement of the promoter strength\n",
    "prom_str = good_host.calc_promoter_strength( NewGene )\n",
    "print(\"\\nPromoter Strength of {} is: {}\".format(NewGene.name, prom_str))"
   ],
   "outputs": [],
   "metadata": {}
  },
  {
   "cell_type": "code",
   "execution_count": null,
   "source": [
    "# 4.1.3 Measurement of the final vaccine expression rate\n",
    "# in Make_ProductionExperiment: Clone_ID (string), Opt. Temp (int), Opt. Growth rate (float), Opt. Biomass (int)\n",
    "\n",
    "prod_outcome = good_host.sim_vaccine_production( gene=NewGene, cult_temp=26, growth_rate=0.81, biomass=50 )\n",
    "print('Final vaccine production rate: {} {}'.format( prod_outcome.value, prod_outcome.error ))"
   ],
   "outputs": [],
   "metadata": {}
  },
  {
   "cell_type": "code",
   "execution_count": null,
   "source": [
    "# 4.2.1 Visualization of the results\n",
    "# DataFile = 'Production_Experiments.csv'\n",
    "# my_data = np.genfromtxt(DataFile, delimiter=',', skip_header=1).reshape(-1,7)\n",
    "\n",
    "# GCcont, Express = my_data[:,2], my_data[:,6]\n",
    "# plt.plot(GCcont,Express, linestyle = '--', marker = 'x', color = 'grey')\n",
    "# plt.gca().set(xlabel='GC-cont', ylabel='rel. expression', xlim=(.4,.8), ylim=(0,1))\n",
    "# plt.savefig('RelExpress_Vs_GCcont_allProm.png', format='png')"
   ],
   "outputs": [],
   "metadata": {}
  }
 ],
 "metadata": {
  "orig_nbformat": 4,
  "language_info": {
   "name": "python"
  }
 },
 "nbformat": 4,
 "nbformat_minor": 2
}