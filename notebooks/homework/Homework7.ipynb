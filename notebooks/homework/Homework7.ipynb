{
 "cells": [
  {
   "cell_type": "markdown",
   "id": "stock-sessions",
   "metadata": {},
   "source": [
    "# Homework 7\n",
    "*V.0.0.2*"
   ]
  },
  {
   "cell_type": "code",
   "execution_count": 31,
   "id": "actual-demographic",
   "metadata": {},
   "outputs": [],
   "source": [
    "#Innit\n",
    "import os\n",
    "import numpy as np\n",
    "import pandas as pd\n",
    "import scipy as sp\n",
    "import matplotlib.pyplot as plt\n",
    "import seaborn as sns\n",
    "import ipywidgets as widgets\n",
    "import random as rd\n",
    "import copy\n",
    "from IPython.display import Image\n",
    "\n",
    "#    \n",
    "# Your matriculation number || Example: matricnb = 2022 (Integer)\n",
    "matricnb = 2022\n",
    "\n",
    "#\n",
    "#\n",
    "\n",
    "myQo = full_question_objects()\n",
    "myTo = full_task_objects()\n",
    "\n",
    "load_file = os.path.join('801331_Data_Blank1997_Strn_080624_v2.xls')\n",
    "loaded_df = pd.read_excel(load_file, sheet_name='Fig.3.6_data', header=1, index_col=0)"
   ]
  },
  {
   "cell_type": "code",
   "execution_count": 40,
   "id": "flush-gravity",
   "metadata": {
    "tags": []
   },
   "outputs": [],
   "source": [
    "q_1_1_answers = [\n",
    "    [\"for butanol between 17 h - 32 h from the start of the process\",0],\n",
    "    [\"for neither butanol or butyrate\",0],\n",
    "    [\"for butyrate between 8 h - 14 h from the start of the process\",1]    \n",
    "]\n",
    "q_1_2_answers = [\n",
    "    [\"is reached after complete glucose degradiation\",0],\n",
    "    [\"is 18.4 mM/h\",1],\n",
    "    [\"is reached before complete butyrate degradiation\",1],\n",
    "    [\"is 13.3 mM/h\",0]\n",
    "]\n",
    "q_1_3_1_answers = [\n",
    "    [\"increases linearly\",0],\n",
    "    [\"decreeases linearly\",0],\n",
    "    [\"increases exponentially\",1],\n",
    "    [\"decreases exponentially\",0],\n",
    "    [\"stays constant\",0]\n",
    "]\n",
    "q_1_3_2_answers = [\n",
    "    [\"stays the same\",0],\n",
    "    [\"exponentially\",1],\n",
    "    [\"linearly\",0]\n",
    "]\n",
    "q_1_3_3_answers = [\n",
    "    [\"a linear increase in product concentration\",0],\n",
    "    [\"an exponential increase in product concentration\",1]\n",
    "]\n",
    "q_1_3_4_answers = [\n",
    "    [\"the kinetic orders of both formation processes are the same\",1],\n",
    "    [\"the formation rates of both formation processes are the same\",0],\n",
    "    [\"product formation is growth-dependent\",1],\n",
    "    [\"product formation is growth-independent\",0]\n",
    "]\n",
    "q_2_1_answers = [\n",
    "    [\"1+2 are organic solvents\",0],\n",
    "    [\"3+4 are organic solvents\",1],\n",
    "    [\"1+2 are organic acids\",1],\n",
    "    [\"3+4 are organic acids\",0]\n",
    "]\n",
    "q_2_2_answers = [\n",
    "    [\"Acetyl-CoA ↔ Acetat + ATP\\nAcetoacetyl-CoA + Butyrat → Aceton + CO2 + Butyryl-CoA\",0],\n",
    "    [\"Butyryl-CoA ↔ Butyrat + ATP\\nAcetoacetyl-CoA + Acetat → Aceton + CO2 + Acetyl-CoA\",0],\n",
    "    [\"Butyryl-CoA ↔ Butyrat + ATP\\nAcetoacetyl-CoA + Butyrat → Aceton + CO2 + Butyryl-CoA\",1],\n",
    "    [\"Acetate_extracellular ↔ Acetate_intracellular\\nAcetoacetyl-CoA + Acetat → Aceton + CO2 + Acetyl-CoA\",1],\n",
    "    [\"Acetyl-CoA ↔ Acetat + ATP\\nAcetoacetyl-CoA + Acetat → Aceton + CO2 + Acetyl-CoA\",1]\n",
    "]\n",
    "q_2_3_1_answers = [\n",
    "    [\"not be determined by determining the concentration over time using HPLC,\\nsince the metabolic network has too many degrees of freedom (is underdetermined).\",1],\n",
    "    [\"be determined by determining the concentration over time using HPLC.\",0],\n",
    "    [\"not be determined by determining concentration over time using HPLC since acetone is volatile.\",0]\n",
    "]\n",
    "q_2_3_2_answers = [\n",
    "    [\"undetermined; not all intracellular rates can be calculated.\",1],\n",
    "    [\"over-determined; all intracellular rates can be calculated and error estimation performed.\",0],\n",
    "    [\"determined; all intracellular rates can be determined.\",0]\n",
    "]\n",
    "q_3_1_answers = [\n",
    "    [\"Acetyl-CoA ↔ Acetat + ATP\\nAcetoacetyl-CoA + Acetat → Aceton + CO2 + Acetyl-CoA\",0],\n",
    "    [\"Butyryl-CoA ↔ Butyrat + ATP\",1],\n",
    "    [\"Acetoacetyl-CoA → CO2 + ATP\",1],\n",
    "    [\"Acetyl-P ↔ Acetat + ATP\",0],\n",
    "    [\"Butyryl-CoA ↔ Butyrat + ATP\\nAcetoacetyl-CoA + Butyrat → Aceton + CO2 + Butyryl-CoA\",0],\n",
    "    [\"Acetyl-CoA ↔ Acetat + ATP\",1]\n",
    "]\n",
    "q_3_2_answers = [\n",
    "    [\"yes\",0],\n",
    "    [\"no\",1]\n",
    "]\n",
    "question_dict = {}\n",
    "question_dict[\"q_1_1\"] = [\"The formation is directly proportional to the biomass increase:\",q_1_1_answers]\n",
    "question_dict[\"q_1_2\"] = [\"The maximum rate of butanol formation:\",q_1_2_answers]\n",
    "question_dict[\"q_1_3_1\"] = [\"If the biomass concentration increases exponentially over time, the biomass formation rate is:\",q_1_3_1_answers]\n",
    "question_dict[\"q_1_3_2\"] = [\"For cells that proliferate at a constant specific growth rate µ, the concentration of biomass increases over time:\",q_1_3_2_answers]\n",
    "question_dict[\"q_1_3_3\"] = [\"Product formation according to first-order kinetics corresponds to:\",q_1_3_3_answers]\n",
    "question_dict[\"q_1_3_4\"] = [\"If there is a linear relationship between the product and biomass concentration r_x:\",q_1_3_4_answers]\n",
    "question_dict[\"q_2_1\"] = [\"Which C. acetobutylicum products are represented by curves 1, 2, 3, and 4?\",q_2_1_answers]\n",
    "question_dict[\"q_2_2\"] = [\"Which reaction equations represent a possible synthetic route to acetone?\",q_2_2_answers]\n",
    "question_dict[\"q_2_3_1\"] = [\"The reaction rates to acetone can:\",q_2_3_1_answers]\n",
    "question_dict[\"q_2_3_2\"] = [\"The metabolic (stoichiometric) model is:\",q_2_3_2_answers]\n",
    "question_dict[\"q_3_1\"] = [\"Which reaction equations represent the net equations for butyrate, acetate and acetone?\",q_3_1_answers]\n",
    "question_dict[\"q_3_2\"] = [\"Is the acetone synthesis rate determinable?\",q_3_2_answers]\n",
    "\n",
    "t_1_1 = [\n",
    "    \"What is the maximum specific growth rate? [1/h]\",0.368\n",
    "]\n",
    "t_2_1_1 = [\n",
    "    \"How many reaction rates does the stoichiometric model representing the metabolic network of C. acetobutylicum contain?\",20\n",
    "]\n",
    "t_2_1_2 = [\n",
    " \"How many reaction pathways are there for the synthesis of acetone in C. acetobutylicum?\",2   \n",
    "]\n",
    "t_2_2_1 = [\n",
    " \"How many rates are in r_m?\",8\n",
    "]\n",
    "t_2_2_2 = [\n",
    " \"The number of rates r_c to calculate is:\",12#is 12 correct?   \n",
    "]\n",
    "t_2_2_3 = [\n",
    " \"How many of (all) the rates can be determined using liquid chromatography (HPLC with any detector) and a spectrophotometer?\",8   \n",
    "]\n",
    "t_3_1 = [\n",
    " \"How many reaction equations does the simplified metabolic model for calculating the intracellular reaction rates including acetone production contain?\",11   \n",
    "]\n",
    "\n",
    "task_dict = {}\n",
    "#task_dict[\"t_1_1\"] = t_1_1 #NOTE: Task 1.1 requires calculation and a float value as answer. because of this, it was kept seperate.\n",
    "task_dict[\"t_2_1_1\"] = t_2_1_1\n",
    "task_dict[\"t_2_1_2\"] = t_2_1_2\n",
    "task_dict[\"t_2_2_1\"] = t_2_2_1\n",
    "task_dict[\"t_2_2_2\"] = t_2_2_2\n",
    "task_dict[\"t_2_2_3\"] = t_2_2_3\n",
    "task_dict[\"t_3_1\"] = t_3_1\n",
    "###\n",
    "\n",
    "class create_question_homework_seven():\n",
    "    #Innit: a question is comprised of the actual\n",
    "    #Question (string)\n",
    "    #and a list of answer_options (string) and an int if they are true (1) or not (0)\n",
    "    def __init__(self, question = str, answers = []):\n",
    "        self.question = question\n",
    "        self.answerobjects = []\n",
    "        self.create_answer_option_objects(answers)\n",
    "        #self.answerobjects = self.create_answer_option_objects()\n",
    "        #self.answerobjects2 = []\n",
    "        \n",
    "    #create a label with the question\n",
    "    def create_question_label(self):\n",
    "        self.question_label  = widgets.Label(value=self.question)\n",
    "        return\n",
    "    \n",
    "    def create__verify_button(self):\n",
    "        self.verify_button = widgets.Button(\n",
    "            description='Verify answer',\n",
    "            disabled=False,\n",
    "            button_style='warning', # 'success', 'info', 'warning', 'danger' or ''\n",
    "            tooltip='Click here to verify your answer!',\n",
    "            icon='check' # (FontAwesome names without the `fa-` prefix)\n",
    "        )\n",
    "        return\n",
    "    \n",
    "    #def create_answer_option_objects(self):\n",
    "    #    list_of_objects = []\n",
    "    #    for i in self.answers:\n",
    "    #        y = create_answer_option(i[0],i[1])\n",
    "    #        list_of_objects.append(y)\n",
    "    #    return list_of_objects\n",
    "    \n",
    "    def create_answer_option_objects(self, original_list_of_answers):\n",
    "        list_of_answers = copy.deepcopy(original_list_of_answers)\n",
    "        x = len(list_of_answers)\n",
    "        if x == 1:\n",
    "            self.answerobjects.append(create_answer_option(list_of_answers[0][0],list_of_answers[0][1]))\n",
    "            return\n",
    "        if x == 0:\n",
    "            print('Something went wrong')\n",
    "            return\n",
    "        else:\n",
    "            y = rd.randint(0,x-1)\n",
    "            self.answerobjects.append(create_answer_option(list_of_answers[y][0],list_of_answers[y][1]))\n",
    "            del list_of_answers[y]\n",
    "            self.create_answer_option_objects(list_of_answers)\n",
    "            return\n",
    "    \n",
    "    def check_answer_option_objects(self):\n",
    "        for i in self.answerobjects:\n",
    "            i.check_anwer_option()\n",
    "        return\n",
    "    \n",
    "    def get_full_question(self):\n",
    "        l = []\n",
    "        self.create_question_label()\n",
    "        self.create__verify_button()\n",
    "        l.append(self.question_label)\n",
    "        \n",
    "        for i in self.answerobjects:\n",
    "            l.append(i.button)\n",
    "        \n",
    "        l.append(self.verify_button)\n",
    "        wbox = widgets.VBox(l)\n",
    "        return wbox\n",
    "    \n",
    "    def on_button_clicked(self, click):\n",
    "        self.verify_button.disabled = True\n",
    "        self.check_answer_option_objects()\n",
    "\n",
    "class create_answer_option():\n",
    "    def __init__(self, descr = str, yesorno = int, optionlist = None):\n",
    "        if optionlist == None:\n",
    "            optionlist = [(\"True\",1),(\"False\",0)]\n",
    "        self.optionlist = optionlist\n",
    "        self.descr = descr\n",
    "        self.yesorno = yesorno\n",
    "        self.button = self.create_answer_option_button()\n",
    "\n",
    "    #create a toggle button for a single answer_option\n",
    "    def create_answer_option_button(self):\n",
    "        w = widgets.ToggleButtons(\n",
    "            options= self.optionlist,\n",
    "            description=self.descr,\n",
    "            disabled=False,\n",
    "            button_style='', # 'success', 'info', 'warning', 'danger' or ''\n",
    "           # tooltips=['Description of slow', 'Description of regular', 'Description of fast'],\n",
    "            display='flex',\n",
    "            flex_flow='column',\n",
    "            align_items='stretch',\n",
    "            style= {'description_width': 'initial'},\n",
    "            layout = widgets.Layout(width='auto', height='40px')\n",
    "        )\n",
    "        return w\n",
    "    \n",
    "    def check_anwer_option(self):\n",
    "        if self.button.value == self.yesorno:\n",
    "            if self.button.value == 1:\n",
    "                self.button.icons = [\"check\",\"\"]\n",
    "            if self.button.value == 0:\n",
    "                self.button.icons = [\"\",\"check\"]\n",
    "            self.button.button_style = 'success'\n",
    "            self.button.disabled = True\n",
    "        elif self.button.value != self.yesorno:\n",
    "            if self.button.value == 1:\n",
    "                self.button.icons = [\"\",\"check\"]\n",
    "            if self.button.value == 0:\n",
    "                self.button.icons = [\"check\",\"\"]\n",
    "            self.button.button_style = \"danger\"\n",
    "            self.button.disabled = True\n",
    "\n",
    "            \n",
    "class create_homework_seven_task():\n",
    "    def __init__(self, question, solution):\n",
    "        self.question = question\n",
    "        self.sol = solution\n",
    "        self.create_int_text()\n",
    "        self.create_question_label()\n",
    "        \n",
    "    def create_question_label(self):\n",
    "        self.question_label = widgets.Label(\n",
    "            value=self.question,\n",
    "            display='flex',\n",
    "            flex_flow='column',\n",
    "            align_items='stretch',\n",
    "            style= {'description_width': 'initial'},\n",
    "            layout = widgets.Layout(width='auto')    \n",
    "        )\n",
    "    \n",
    "    def create_int_text(self):\n",
    "        self.int_text = widgets.IntText(\n",
    "            value=0,\n",
    "            description='Answer:',\n",
    "            tooltip ='Answer:',\n",
    "            disabled=False,\n",
    "            display='flex',\n",
    "            flex_flow='column',\n",
    "            align_items='stretch',\n",
    "            style= {'description_width': 'initial'},\n",
    "            layout = widgets.Layout(width='auto', height='40px')\n",
    "        )\n",
    "    \n",
    "    def create_verify_button(self):\n",
    "        self.verify_button = widgets.Button(\n",
    "            description='Verify answer',\n",
    "            disabled=False,\n",
    "            button_style='warning', # 'success', 'info', 'warning', 'danger' or ''\n",
    "            tooltip='Click here to verify your answer!',\n",
    "            icon='check', # (FontAwesome names without the `fa-` prefix),\n",
    "            display='flex',\n",
    "            flex_flow='column',\n",
    "            align_items='stretch',\n",
    "            style= {'description_width': 'initial'},\n",
    "            layout = widgets.Layout(width='auto', height='40px')\n",
    "        )\n",
    "            \n",
    "    def create_help_button(self):\n",
    "        self.help_button = widgets.Button(\n",
    "            description='Help required?',\n",
    "            disabled=False,\n",
    "            button_style='info', # 'success', 'info', 'warning', 'danger' or ''\n",
    "            tooltip='Click here to get a tipp!',\n",
    "            display='flex',\n",
    "            flex_flow='column',\n",
    "            align_items='stretch',\n",
    "            style= {'description_width': 'initial'},\n",
    "            layout = widgets.Layout(width='auto', height='40px')\n",
    "        )\n",
    "        \n",
    "    def on_verify_button_clicked(self, click):\n",
    "        if self.int_text.value == self.sol:\n",
    "            self.verify_button.disabled = True\n",
    "            self.int_text.disabled = True\n",
    "            self.verify_button.button_style = 'success'\n",
    "            self.verify_button.description=\"Correct answer!\"\n",
    "        else:\n",
    "            #self.verify_button.disabled = True\n",
    "            #self.int_text.disabled = True\n",
    "            self.verify_button.button_style = 'danger'\n",
    "            self.verify_button.description=\"Wrong answer. Please try again!\"\n",
    "            \n",
    "    def on_help_button_clicked(self, click):\n",
    "        self.help_button.disabled = True\n",
    "        #\n",
    "        #To be determined\n",
    "        #\n",
    "    \n",
    "    def get_full_question(self):\n",
    "        self.create_verify_button()\n",
    "        self.create_help_button()\n",
    "        i = [self.verify_button, self.help_button]\n",
    "        hbox = widgets.HBox(i)\n",
    "        \n",
    "        j = [self.question_label, self.int_text,hbox]\n",
    "        wbox = widgets.VBox(j)\n",
    "        return wbox\n",
    "\n",
    "class create_homework_seven_task_one_one():\n",
    "    def __init__(self, matricnb = int):\n",
    "        self.question =  \"What is the maximum specific growth rate? [1/h]\"\n",
    "        self.create_solution(matricnb)\n",
    "        self.create_float_text()\n",
    "        self.create_question_label()\n",
    "    \n",
    "    def create_solution(self, matricnb):\n",
    "        if type(matricnb) == int:\n",
    "            rd.seed(matricnb)\n",
    "            listofrndms = [rd.random() for i in range(10)]\n",
    "            self.sol = 0.300+listofrndms[9]*0.100\n",
    "        elif matricnb == \"Test\":\n",
    "            self.sol = 0.368\n",
    "        else:\n",
    "            print(\"matriculation number has to be an integer!\")\n",
    "    \n",
    "    def create_question_label(self):\n",
    "        self.question_label = widgets.Label(\n",
    "            value=self.question,\n",
    "            display='flex',\n",
    "            flex_flow='column',\n",
    "            align_items='stretch',\n",
    "            style= {'description_width': 'initial'},\n",
    "            layout = widgets.Layout(width='auto')    \n",
    "        )\n",
    "    \n",
    "    def create_float_text(self):\n",
    "        self.float_text = widgets.FloatText(\n",
    "            value=0,\n",
    "            description='maximum specific growthrate\\n|| Example = mu = 1.00 (Float)',\n",
    "            tooltip ='maximum specific growthrate\\n|| Example = mu = 1.00 (Float)',\n",
    "            disabled=False,\n",
    "            display='flex',\n",
    "            flex_flow='column',\n",
    "            align_items='stretch',\n",
    "            style= {'description_width': 'initial'},\n",
    "            layout = widgets.Layout(width='auto', height='40px')\n",
    "        )\n",
    "    \n",
    "    def create_verify_button(self):\n",
    "        self.verify_button = widgets.Button(\n",
    "            description='Verify answer',\n",
    "            disabled=False,\n",
    "            button_style='warning', # 'success', 'info', 'warning', 'danger' or ''\n",
    "            tooltip='Click here to verify your answer!',\n",
    "            icon='check', # (FontAwesome names without the `fa-` prefix),\n",
    "            display='flex',\n",
    "            flex_flow='column',\n",
    "            align_items='stretch',\n",
    "            style= {'description_width': 'initial'},\n",
    "            layout = widgets.Layout(width='auto', height='40px')\n",
    "        )\n",
    "            \n",
    "    def create_help_button(self):\n",
    "        self.help_button = widgets.Button(\n",
    "            description='Help required?',\n",
    "            disabled=False,\n",
    "            button_style='info', # 'success', 'info', 'warning', 'danger' or ''\n",
    "            tooltip='Click here to get a tipp!',\n",
    "            display='flex',\n",
    "            flex_flow='column',\n",
    "            align_items='stretch',\n",
    "            style= {'description_width': 'initial'},\n",
    "            layout = widgets.Layout(width='auto', height='40px')\n",
    "        )\n",
    "        \n",
    "    def on_verify_button_clicked(self, click):\n",
    "        if round(self.float_text.value,2) == round(self.sol,2):\n",
    "            self.verify_button.disabled = True\n",
    "            self.float_text.disabled = True\n",
    "            self.verify_button.button_style = 'success'\n",
    "            self.verify_button.description=\"Correct answer!\"\n",
    "        else:\n",
    "            #self.verify_button.disabled = True\n",
    "            #self.int_text.disabled = True\n",
    "            self.verify_button.button_style = 'danger'\n",
    "            self.verify_button.description=\"Wrong answer. Please try again!\"\n",
    "            \n",
    "    def on_help_button_clicked(self, click):\n",
    "        self.help_button.disabled = True\n",
    "        #\n",
    "        #To be determined\n",
    "        #\n",
    "    \n",
    "    def get_full_question(self):\n",
    "        self.create_verify_button()\n",
    "        self.create_help_button()\n",
    "        i = [self.verify_button, self.help_button]\n",
    "        hbox = widgets.HBox(i)\n",
    "        \n",
    "        j = [self.question_label, self.float_text,hbox]\n",
    "        wbox = widgets.VBox(j)\n",
    "        return wbox\n",
    "\n",
    "###\n",
    "def full_question_objects():\n",
    "    q_1_1_answers = [\n",
    "        [\"for butanol between 17 h - 32 h from the start of the process\",0],\n",
    "        [\"for neither butanol or butyrate\",0],\n",
    "        [\"for butyrate between 8 h - 14 h from the start of the process\",1]    \n",
    "    ]\n",
    "    q_1_2_answers = [\n",
    "        [\"is reached after complete glucose degradiation\",0],\n",
    "        [\"is 18.4 mM/h\",1],\n",
    "        [\"is reached before complete butyrate degradiation\",1],\n",
    "        [\"is 13.3 mM/h\",0]\n",
    "    ]\n",
    "    q_1_3_1_answers = [\n",
    "        [\"increases linearly\",0],\n",
    "        [\"decreeases linearly\",0],\n",
    "        [\"increases exponentially\",1],\n",
    "        [\"decreases exponentially\",0],\n",
    "        [\"stays constant\",0]\n",
    "    ]\n",
    "    q_1_3_2_answers = [\n",
    "        [\"stays the same\",0],\n",
    "        [\"exponentially\",1],\n",
    "        [\"linearly\",0]\n",
    "    ]\n",
    "    q_1_3_3_answers = [\n",
    "        [\"a linear increase in product concentration\",0],\n",
    "        [\"an exponential increase in product concentration\",1]\n",
    "    ]\n",
    "    q_1_3_4_answers = [\n",
    "        [\"the kinetic orders of both formation processes are the same\",1],\n",
    "        [\"the formation rates of both formation processes are the same\",0],\n",
    "        [\"product formation is growth-dependent\",1],\n",
    "        [\"product formation is growth-independent\",0]\n",
    "    ]\n",
    "    q_2_1_answers = [\n",
    "        [\"1+2 are organic solvents\",0],\n",
    "        [\"3+4 are organic solvents\",1],\n",
    "        [\"1+2 are organic acids\",1],\n",
    "        [\"3+4 are organic acids\",0]\n",
    "    ]\n",
    "    q_2_2_answers = [\n",
    "        [\"Acetyl-CoA ↔ Acetat + ATP\\nAcetoacetyl-CoA + Butyrat → Aceton + CO2 + Butyryl-CoA\",0],\n",
    "        [\"Butyryl-CoA ↔ Butyrat + ATP\\nAcetoacetyl-CoA + Acetat → Aceton + CO2 + Acetyl-CoA\",0],\n",
    "        [\"Butyryl-CoA ↔ Butyrat + ATP\\nAcetoacetyl-CoA + Butyrat → Aceton + CO2 + Butyryl-CoA\",1],\n",
    "        [\"Acetate_extracellular ↔ Acetate_intracellular\\nAcetoacetyl-CoA + Acetat → Aceton + CO2 + Acetyl-CoA\",1],\n",
    "        [\"Acetyl-CoA ↔ Acetat + ATP\\nAcetoacetyl-CoA + Acetat → Aceton + CO2 + Acetyl-CoA\",1]\n",
    "    ]\n",
    "    q_2_3_1_answers = [\n",
    "        [\"not be determined by determining the concentration over time using HPLC,\\nsince the metabolic network has too many degrees of freedom (is underdetermined).\",1],\n",
    "        [\"be determined by determining the concentration over time using HPLC.\",0],\n",
    "        [\"not be determined by determining concentration over time using HPLC since acetone is volatile.\",0]\n",
    "    ]\n",
    "    q_2_3_2_answers = [\n",
    "        [\"undetermined; not all intracellular rates can be calculated.\",1],\n",
    "        [\"over-determined; all intracellular rates can be calculated and error estimation performed.\",0],\n",
    "        [\"determined; all intracellular rates can be determined.\",0]\n",
    "    ]\n",
    "    q_3_1_answers = [\n",
    "        [\"Acetyl-CoA ↔ Acetat + ATP\\nAcetoacetyl-CoA + Acetat → Aceton + CO2 + Acetyl-CoA\",0],\n",
    "        [\"Butyryl-CoA ↔ Butyrat + ATP\",1],\n",
    "        [\"Acetoacetyl-CoA → CO2 + ATP\",1],\n",
    "        [\"Acetyl-P ↔ Acetat + ATP\",0],\n",
    "        [\"Butyryl-CoA ↔ Butyrat + ATP\\nAcetoacetyl-CoA + Butyrat → Aceton + CO2 + Butyryl-CoA\",0],\n",
    "        [\"Acetyl-CoA ↔ Acetat + ATP\",1]\n",
    "    ]\n",
    "    q_3_2_answers = [\n",
    "        [\"yes\",0],\n",
    "        [\"no\",1]\n",
    "    ]\n",
    "    question_dict = {}\n",
    "    question_dict[\"q_1_1\"] = [\"The formation is directly proportional to the biomass increase:\",q_1_1_answers]\n",
    "    question_dict[\"q_1_2\"] = [\"The maximum rate of butanol formation:\",q_1_2_answers]\n",
    "    question_dict[\"q_1_3_1\"] = [\"If the biomass concentration increases exponentially over time, the biomass formation rate is:\",q_1_3_1_answers]\n",
    "    question_dict[\"q_1_3_2\"] = [\"For cells that proliferate at a constant specific growth rate µ, the concentration of biomass increases over time:\",q_1_3_2_answers]\n",
    "    question_dict[\"q_1_3_3\"] = [\"Product formation according to first-order kinetics corresponds to:\",q_1_3_3_answers]\n",
    "    question_dict[\"q_1_3_4\"] = [\"If there is a linear relationship between the product and biomass concentration r_x:\",q_1_3_4_answers]\n",
    "    question_dict[\"q_2_1\"] = [\"Which C. acetobutylicum products are represented by curves 1, 2, 3, and 4?\",q_2_1_answers]\n",
    "    question_dict[\"q_2_2\"] = [\"Which reaction equations represent a possible synthetic route to acetone?\",q_2_2_answers]\n",
    "    question_dict[\"q_2_3_1\"] = [\"The reaction rates to acetone can:\",q_2_3_1_answers]\n",
    "    question_dict[\"q_2_3_2\"] = [\"The metabolic (stoichiometric) model is:\",q_2_3_2_answers]\n",
    "    question_dict[\"q_3_1\"] = [\"Which reaction equations represent the net equations for butyrate, acetate and acetone?\",q_3_1_answers]\n",
    "    question_dict[\"q_3_2\"] = [\"Is the acetone synthesis rate determinable?\",q_3_2_answers]\n",
    "    \n",
    "    \n",
    "    list_of_objects = []\n",
    "    for i in question_dict.keys():\n",
    "        list_of_objects.append(create_question_homework_seven(question_dict[i][0],question_dict[i][1]))\n",
    "    return list_of_objects\n",
    "\n",
    "def full_task_objects():\n",
    "    t_1_1 = [\n",
    "        \"What is the maximum specific growth rate? [1/h]\",0.368\n",
    "    ]\n",
    "    t_2_1_1 = [\n",
    "        \"How many reaction rates does the stoichiometric model representing the metabolic network of C. acetobutylicum contain?\",20\n",
    "    ]\n",
    "    t_2_1_2 = [\n",
    "     \"How many reaction pathways are there for the synthesis of acetone in C. acetobutylicum?\",2   \n",
    "    ]\n",
    "    t_2_2_1 = [\n",
    "     \"How many rates are in r_m?\",8\n",
    "    ]\n",
    "    t_2_2_2 = [\n",
    "     \"The number of rates r_c to calculate is:\",12#is 12 correct?   \n",
    "    ]\n",
    "    t_2_2_3 = [\n",
    "     \"How many of (all) the rates can be determined using liquid chromatography (HPLC with any detector) and a spectrophotometer?\",8   \n",
    "    ]\n",
    "    t_3_1 = [\n",
    "     \"How many reaction equations does the simplified metabolic model for calculating the intracellular reaction rates including acetone production contain?\",11   \n",
    "    ]\n",
    "\n",
    "    task_dict = {}\n",
    "    #task_dict[\"t_1_1\"] = t_1_1 #NOTE: Task 1.1 requires calculation and a float value as answer. because of this, it was kept seperate.\n",
    "    task_dict[\"t_2_1_1\"] = t_2_1_1\n",
    "    task_dict[\"t_2_1_2\"] = t_2_1_2\n",
    "    task_dict[\"t_2_2_1\"] = t_2_2_1\n",
    "    task_dict[\"t_2_2_2\"] = t_2_2_2\n",
    "    task_dict[\"t_2_2_3\"] = t_2_2_3\n",
    "    task_dict[\"t_3_1\"] = t_3_1\n",
    "    \n",
    "    \n",
    "    list_of_objects = []\n",
    "    for i in task_dict.keys():\n",
    "        list_of_objects.append(create_homework_seven_task(task_dict[i][0],task_dict[i][1]))\n",
    "    return list_of_objects"
   ]
  },
  {
   "cell_type": "code",
   "execution_count": 30,
   "id": "consecutive-addition",
   "metadata": {
    "jupyter": {
     "source_hidden": true
    },
    "tags": []
   },
   "outputs": [],
   "source": [
    "versionOne_df = loaded_df.drop(columns=[\"Glucose (mM)\",\"OD (600 nm)\",\"pH\"])\n",
    "versionTwo_df = loaded_df.get(\"Glucose (mM)\")\n",
    "versionTwo_df = loaded_df.get(\"Glucose (mM)\")\n",
    "versionThree_df = loaded_df.get(\"OD (600 nm)\")"
   ]
  },
  {
   "cell_type": "code",
   "execution_count": 49,
   "id": "confused-charleston",
   "metadata": {
    "tags": []
   },
   "outputs": [
    {
     "data": {
      "image/png": "[encoded data removed]",
      "text/plain": [
       "<Figure size 1080x576 with 3 Axes>"
      ]
     },
     "metadata": {
      "needs_background": "light"
     },
     "output_type": "display_data"
    }
   ],
   "source": [
    "f, axs = plt.subplots(1,3,\n",
    "                      figsize=(15,8),\n",
    "                      sharex=True)\n",
    "sns.lineplot(data=versionOne_df, markers=True, ax=axs[0])\n",
    "sns.lineplot(data=versionTwo_df, markers=True, ax=axs[1])\n",
    "sns.lineplot(data=versionThree_df, markers=True, ax=axs[2])\n",
    "f.tight_layout()\n",
    "plt.show()"
   ]
  },
  {
   "cell_type": "code",
   "execution_count": null,
   "id": "excessive-ukraine",
   "metadata": {},
   "outputs": [],
   "source": []
  },
  {
   "cell_type": "markdown",
   "id": "textile-testing",
   "metadata": {
    "tags": []
   },
   "source": [
    "## Question 1 - How fast and with which kinetik is the product formed?\n",
    "\n",
    "Steps:\n",
    "* inspect the figures and raw data (**Excel-sheet 801331_Data_Blank1997_Strn_080624_v2.xls**)\n",
    "* **Calculate the maximum specific growthrate $\\mu_{max}$ for growth on glucose.**\n",
    "\n",
    "Text über lag-log-stationary phase\n",
    "wachstumsgleichung mit...\n",
    "[Text mit Bild über mu]\n",
    "\n",
    "**Steps:**\n",
    "* **Answer questions on the influence of biomass-increase  on the butanol and butyrate productions.**\n",
    "* **Answer questions on maximal productionsrates**\n",
    "* **Answer questions about the lecture (Part 1)**\n"
   ]
  },
  {
   "cell_type": "markdown",
   "id": "emotional-bones",
   "metadata": {},
   "source": [
    "### Calculate the maximum specific growthrate $\\mu_{max}$\n",
    "\n",
    "$\\mu_{max}$ is the maximum growthrate determined during the exponential growth-phase. This stage can be used to calculate the growt-rate by applying the natural logarithm on the data set and plotting it depending ont he time. $\\mu_{max}$ is the slope of the resulting linear equation and can thus be easily calculated.\n",
    "\n",
    "![image](775940_Graph_Varma1994_mumax_Lor_070302_v1.png)"
   ]
  },
  {
   "cell_type": "code",
   "execution_count": 335,
   "id": "egyptian-walnut",
   "metadata": {
    "collapsed": true,
    "jupyter": {
     "outputs_hidden": true
    },
    "tags": []
   },
   "outputs": [
    {
     "name": "stdout",
     "output_type": "stream",
     "text": [
      "the natural logarithm of exponential growth is in a linear correlation to the time.\n",
      "Decide which area of the experiment shows this behavior and select the data points to calculate the slope.\n"
     ]
    },
    {
     "data": {
      "image/png": "[encoded data removed]",
      "text/plain": [
       "<Figure size 432x288 with 1 Axes>"
      ]
     },
     "metadata": {
      "needs_background": "light"
     },
     "output_type": "display_data"
    }
   ],
   "source": [
    "###############################\n",
    "###############################\n",
    "##############################\n",
    "#Tip for Question 1\n",
    "# mü of glucose.\n",
    "#maybe the generation of the curve her ein the sheet and saying to define which area is the linear one?\n",
    "versionhelp_df = loaded_df.rename(columns={\"OD (600 nm)\":\"ln( OD (600 mM))\"}).get(\"ln( OD (600 mM))\").apply(np.log)\n",
    "sns.lineplot(data=versionhelp_df, markers=True)\n",
    "print(\"the natural logarithm of exponential growth is in a linear correlation to the time.\\nDecide which area of the experiment shows this behavior and select the data points to calculate the slope.\")"
   ]
  },
  {
   "cell_type": "code",
   "execution_count": 41,
   "id": "sporting-raising",
   "metadata": {
    "tags": []
   },
   "outputs": [
    {
     "data": {
      "application/vnd.jupyter.widget-view+json": {
       "model_id": "921e12a45fc84206bf145f8e247b724c",
       "version_major": 2,
       "version_minor": 0
      },
      "text/plain": [
       "VBox(children=(Label(value='What is the maximum specific growth rate? [1/h]', layout=Layout(width='auto'), sty…"
      ]
     },
     "metadata": {},
     "output_type": "display_data"
    }
   ],
   "source": [
    "# Instructions:\n",
    "# Execute this cell and enter your solution to Question 1.1 into the variable below\n",
    "# If your answer was correct, you may proceed.\n",
    "# If your answer was not correct, you may try again!\n",
    "\n",
    "#maximum specific growthrate || Example = mu = 1.00 (Float)\n",
    "j = create_homework_seven_task_one_one(matricnb)\n",
    "i = j.get_full_question()\n",
    "display(i)\n",
    "i.children[2].children[1].on_click(j.on_help_button_clicked)\n",
    "i.children[2].children[0].on_click(j.on_verify_button_clicked)"
   ]
  },
  {
   "cell_type": "markdown",
   "id": "demonstrated-hostel",
   "metadata": {
    "tags": []
   },
   "source": [
    "### Question 1.2\n",
    "Check the proportionality of the product formation to the biomass increase.\n",
    "\n",
    "Example:\n",
    "\n",
    "<img src=\"801616_Graph_Blank1997_ howto_butyrate _C acetobutylicum_lora_080625_v1.png\"/>"
   ]
  },
  {
   "cell_type": "code",
   "execution_count": 9,
   "id": "closed-parish",
   "metadata": {
    "collapsed": true,
    "jupyter": {
     "outputs_hidden": true
    },
    "tags": []
   },
   "outputs": [
    {
     "data": {
      "application/vnd.jupyter.widget-view+json": {
       "model_id": "0b607ec6a83d423f8e8318ba3e6060ee",
       "version_major": 2,
       "version_minor": 0
      },
      "text/plain": [
       "VBox(children=(Label(value='The formation is directly proportional to the biomass increase:'), ToggleButtons(d…"
      ]
     },
     "metadata": {},
     "output_type": "display_data"
    },
    {
     "data": {
      "application/vnd.jupyter.widget-view+json": {
       "model_id": "aebdb12a020a4d6baa93d45f51391122",
       "version_major": 2,
       "version_minor": 0
      },
      "text/plain": [
       "VBox(children=(Label(value='The maximum rate of butanol formation:'), ToggleButtons(description='is 18.4 mM/h'…"
      ]
     },
     "metadata": {},
     "output_type": "display_data"
    }
   ],
   "source": [
    "# Step 1. Execute this cell\n",
    "# Step 2. Seelct the rigth answers to the questions below\n",
    "# Sep 3. Press 'Verify Answer' to lock in your answer\n",
    "\n",
    "w1 = myQo[0].get_full_question()\n",
    "w2 = myQo[1].get_full_question()\n",
    "display(w1,w2)\n",
    "w1.children[-1].on_click(myQo[0].on_button_clicked)\n",
    "w2.children[-1].on_click(myQo[1].on_button_clicked)"
   ]
  },
  {
   "cell_type": "markdown",
   "id": "matched-tanzania",
   "metadata": {
    "tags": []
   },
   "source": [
    "### Test what you have learned"
   ]
  },
  {
   "cell_type": "code",
   "execution_count": 4,
   "id": "valid-coordination",
   "metadata": {
    "tags": []
   },
   "outputs": [
    {
     "data": {
      "application/vnd.jupyter.widget-view+json": {
       "model_id": "fc20d77a3e7e40998f1cf7aab6f63c5b",
       "version_major": 2,
       "version_minor": 0
      },
      "text/plain": [
       "VBox(children=(Label(value='If the biomass concentration increases exponentially over time, the biomass format…"
      ]
     },
     "metadata": {},
     "output_type": "display_data"
    },
    {
     "data": {
      "application/vnd.jupyter.widget-view+json": {
       "model_id": "1e9274f297f4471dacd0e45c43235141",
       "version_major": 2,
       "version_minor": 0
      },
      "text/plain": [
       "VBox(children=(Label(value='For cells that proliferate at a constant specific growth rate µ, the concentration…"
      ]
     },
     "metadata": {},
     "output_type": "display_data"
    },
    {
     "data": {
      "application/vnd.jupyter.widget-view+json": {
       "model_id": "9851741178b9484c85df4fd54d399677",
       "version_major": 2,
       "version_minor": 0
      },
      "text/plain": [
       "VBox(children=(Label(value='Product formation according to first-order kinetics corresponds to:'), ToggleButto…"
      ]
     },
     "metadata": {},
     "output_type": "display_data"
    },
    {
     "data": {
      "application/vnd.jupyter.widget-view+json": {
       "model_id": "563559b3d88241b391ca5a06dda30c82",
       "version_major": 2,
       "version_minor": 0
      },
      "text/plain": [
       "VBox(children=(Label(value='If there is a linear relationship between the product and biomass concentration r_…"
      ]
     },
     "metadata": {},
     "output_type": "display_data"
    }
   ],
   "source": [
    "# Step 1. Execute this cell\n",
    "# Step 2. Seelct the rigth answers to the questions below\n",
    "# Sep 3. Press 'Verify Answer' to lock in your answer\n",
    "\n",
    "w1 = myQo[2].get_full_question()\n",
    "w2 = myQo[3].get_full_question()\n",
    "w3 = myQo[4].get_full_question()\n",
    "w4 = myQo[5].get_full_question()\n",
    "display(w1,w2,w3,w4)\n",
    "w1.children[-1].on_click(myQo[2].on_button_clicked)\n",
    "w2.children[-1].on_click(myQo[3].on_button_clicked)\n",
    "w3.children[-1].on_click(myQo[4].on_button_clicked)\n",
    "w4.children[-1].on_click(myQo[5].on_button_clicked)"
   ]
  },
  {
   "cell_type": "markdown",
   "id": "italic-extreme",
   "metadata": {
    "tags": []
   },
   "source": [
    "## Question 2 - Does the structure of the metabolic network allow all reaction rates to be calculated?\n",
    "\n",
    "![image](801350_Clostridium_acetobutylicum.png)\n",
    "\n",
    "The metabolic network of Clostridium acetobutylicum (**Papoutsakis, 1984**).\n",
    "The substrate uptake rate, excretion rates, and intracellular reaction rates are given by ri.\n",
    "The extracellular substrates and products are highlighted in bold.\n",
    "\n",
    "**Steps:**\n",
    "* **Answer the Questions 2.1 - 2.7**\n",
    "* **Answer questions about the lecture (Part 1)**"
   ]
  },
  {
   "cell_type": "code",
   "execution_count": 142,
   "id": "apparent-rider",
   "metadata": {
    "collapsed": true,
    "jupyter": {
     "outputs_hidden": true
    },
    "tags": []
   },
   "outputs": [
    {
     "data": {
      "application/vnd.jupyter.widget-view+json": {
       "model_id": "daee70b0e3e24d3ea613bc5a82b0a9e2",
       "version_major": 2,
       "version_minor": 0
      },
      "text/plain": [
       "VBox(children=(Label(value='How many reaction rates does the stoichiometric model representing the metabolic n…"
      ]
     },
     "metadata": {},
     "output_type": "display_data"
    },
    {
     "data": {
      "application/vnd.jupyter.widget-view+json": {
       "model_id": "2e7606b320ea4a16bcc5fe424d637baa",
       "version_major": 2,
       "version_minor": 0
      },
      "text/plain": [
       "VBox(children=(Label(value='How many reaction pathways are there for the synthesis of acetone in C. acetobutyl…"
      ]
     },
     "metadata": {},
     "output_type": "display_data"
    }
   ],
   "source": [
    "#Question 2.1 and 2.2\n",
    "\n",
    "one = myTo[0].get_full_question()\n",
    "two = myTo[1].get_full_question()\n",
    "display(one,two)\n",
    "one.children[2].children[1].on_click(myTo[0].on_help_button_clicked)\n",
    "one.children[2].children[0].on_click(myTo[0].on_verify_button_clicked)\n",
    "two.children[2].children[1].on_click(myTo[1].on_help_button_clicked)\n",
    "two.children[2].children[0].on_click(myTo[1].on_verify_button_clicked)"
   ]
  },
  {
   "cell_type": "code",
   "execution_count": 111,
   "id": "fitted-submission",
   "metadata": {
    "collapsed": true,
    "jupyter": {
     "outputs_hidden": true
    },
    "tags": []
   },
   "outputs": [
    {
     "data": {
      "application/vnd.jupyter.widget-view+json": {
       "model_id": "909a862f137c403ab28bd21d541e7e14",
       "version_major": 2,
       "version_minor": 0
      },
      "text/plain": [
       "VBox(children=(Label(value='Which C. acetobutylicum products are represented by curves 1, 2, 3, and 4?'), Togg…"
      ]
     },
     "metadata": {},
     "output_type": "display_data"
    },
    {
     "data": {
      "application/vnd.jupyter.widget-view+json": {
       "model_id": "6a29f8af1c5444fcabd564c68e8e3eec",
       "version_major": 2,
       "version_minor": 0
      },
      "text/plain": [
       "VBox(children=(Label(value='Which reaction equations represent a possible synthetic route to acetone?'), Toggl…"
      ]
     },
     "metadata": {},
     "output_type": "display_data"
    }
   ],
   "source": [
    "#Question 2.3 and 2.4\n",
    "\n",
    "# Step 1. Execute this cell\n",
    "# Step 2. Seelct the rigth answers to the questions below\n",
    "# Sep 3. Press 'Verify Answer' to lock in your answer\n",
    "\n",
    "w1 = myQo[6].get_full_question() ##THIS QUESTION DOESNT HAVE A CONTEXT ANYMORE?\n",
    "w2 = myQo[7].get_full_question()\n",
    "display(w1,w2)\n",
    "w1.children[-1].on_click(myQo[6].on_button_clicked)\n",
    "w2.children[-1].on_click(myQo[7].on_button_clicked)"
   ]
  },
  {
   "cell_type": "markdown",
   "id": "after-smile",
   "metadata": {},
   "source": [
    "![image](801513_2001.gif)\n",
    "\n",
    "![image](801577_2002_english.png)"
   ]
  },
  {
   "cell_type": "code",
   "execution_count": 143,
   "id": "greenhouse-elite",
   "metadata": {
    "tags": []
   },
   "outputs": [
    {
     "data": {
      "application/vnd.jupyter.widget-view+json": {
       "model_id": "cbd05590b1724a89b6756a9f42101941",
       "version_major": 2,
       "version_minor": 0
      },
      "text/plain": [
       "VBox(children=(Label(value='How many rates are in r_m?', layout=Layout(width='auto'), style=DescriptionStyle(d…"
      ]
     },
     "metadata": {},
     "output_type": "display_data"
    },
    {
     "data": {
      "application/vnd.jupyter.widget-view+json": {
       "model_id": "7b0bd0c9dddf49dcafd23d7a41357716",
       "version_major": 2,
       "version_minor": 0
      },
      "text/plain": [
       "VBox(children=(Label(value='The number of rates r_c to calculate is:', layout=Layout(width='auto'), style=Desc…"
      ]
     },
     "metadata": {},
     "output_type": "display_data"
    },
    {
     "data": {
      "application/vnd.jupyter.widget-view+json": {
       "model_id": "ad2f34d7cd2e4f4d9ec723fd14f0e496",
       "version_major": 2,
       "version_minor": 0
      },
      "text/plain": [
       "VBox(children=(Label(value='How many of (all) the rates can be determined using liquid chromatography (HPLC wi…"
      ]
     },
     "metadata": {},
     "output_type": "display_data"
    }
   ],
   "source": [
    "#Question 2.5, 2.6 and 2.7\n",
    "\n",
    "one = myTo[2].get_full_question()\n",
    "two = myTo[3].get_full_question()\n",
    "three = myTo[4].get_full_question()\n",
    "display(one,two,three)\n",
    "one.children[2].children[1].on_click(myTo[2].on_help_button_clicked)\n",
    "one.children[2].children[0].on_click(myTo[2].on_verify_button_clicked)\n",
    "two.children[2].children[1].on_click(myTo[3].on_help_button_clicked)\n",
    "two.children[2].children[0].on_click(myTo[3].on_verify_button_clicked)\n",
    "two.children[2].children[1].on_click(myTo[4].on_help_button_clicked)\n",
    "two.children[2].children[0].on_click(myTo[4].on_verify_button_clicked)"
   ]
  },
  {
   "cell_type": "markdown",
   "id": "ruled-capital",
   "metadata": {},
   "source": [
    "### Test what you have learned"
   ]
  },
  {
   "cell_type": "code",
   "execution_count": 110,
   "id": "capable-county",
   "metadata": {
    "collapsed": true,
    "jupyter": {
     "outputs_hidden": true
    },
    "tags": []
   },
   "outputs": [
    {
     "data": {
      "application/vnd.jupyter.widget-view+json": {
       "model_id": "ecb5b78fdea9489fa6d074239fa7330e",
       "version_major": 2,
       "version_minor": 0
      },
      "text/plain": [
       "VBox(children=(Label(value='The reaction rates to acetone can:'), ToggleButtons(button_style='danger', descrip…"
      ]
     },
     "metadata": {},
     "output_type": "display_data"
    },
    {
     "data": {
      "application/vnd.jupyter.widget-view+json": {
       "model_id": "455a0043c75d49a181e83ae850c61df0",
       "version_major": 2,
       "version_minor": 0
      },
      "text/plain": [
       "VBox(children=(Label(value='The metabolic (stoichiometric) model is:'), ToggleButtons(button_style='danger', d…"
      ]
     },
     "metadata": {},
     "output_type": "display_data"
    }
   ],
   "source": [
    "# Step 1. Execute this cell\n",
    "# Step 2. Seelct the rigth answers to the questions below\n",
    "# Sep 3. Press 'Verify Answer' to lock in your answer\n",
    "\n",
    "w1 = myQo[8].get_full_question()\n",
    "w2 = myQo[9].get_full_question()\n",
    "display(w1,w2)\n",
    "w1.children[-1].on_click(myQo[8].on_button_clicked)\n",
    "w2.children[-1].on_click(myQo[9].on_button_clicked)"
   ]
  },
  {
   "cell_type": "markdown",
   "id": "invisible-incentive",
   "metadata": {},
   "source": [
    "## Question 3 - How is the rate of synthesis of acetone determined?\n",
    "\n",
    "![image](801513_2001.gif)\n",
    "\n",
    "![image](801577_2002_english.png)\n",
    "\n",
    "![image](801630_Image_Blank1997_howto_metabolisches_Netzwerk_vereinfacht_lora_080624_v1.png)\n",
    "\n",
    "The metabolic network of *Clostridium acetobutylicum*. The synthesis pathways of acetate, acetone and butyrate are given in simplified form as net pathways.\n",
    "\n",
    "**Steps:**\n",
    "* **Formulate the correct net equations.\n",
    "* **Determine the correct amount of reaction equations.\n",
    "* **Is the acetone synthesis rate determinable?"
   ]
  },
  {
   "cell_type": "code",
   "execution_count": 105,
   "id": "wanted-mileage",
   "metadata": {
    "tags": []
   },
   "outputs": [
    {
     "data": {
      "application/vnd.jupyter.widget-view+json": {
       "model_id": "cc23143ba4824bdb9603297be5d3cbb3",
       "version_major": 2,
       "version_minor": 0
      },
      "text/plain": [
       "VBox(children=(Label(value='Which reaction equations represent the net equations for butyrate, acetate and ace…"
      ]
     },
     "metadata": {},
     "output_type": "display_data"
    }
   ],
   "source": [
    "# Question 3.1\n",
    "\n",
    "# Step 1. Execute this cell\n",
    "# Step 2. Select the rigth answers to the questions below\n",
    "# Sep 3. Press 'Verify Answer' to lock in your answer\n",
    "\n",
    "w1 = myQo[-2].get_full_question()\n",
    "display(w1)\n",
    "w1.children[-1].on_click(myQo[-2].on_button_clicked)"
   ]
  },
  {
   "cell_type": "code",
   "execution_count": 144,
   "id": "aware-elements",
   "metadata": {
    "collapsed": true,
    "jupyter": {
     "outputs_hidden": true
    },
    "tags": []
   },
   "outputs": [
    {
     "data": {
      "application/vnd.jupyter.widget-view+json": {
       "model_id": "09f94645532546968afa13af73582477",
       "version_major": 2,
       "version_minor": 0
      },
      "text/plain": [
       "VBox(children=(Label(value='How many reaction equations does the simplified metabolic model for calculating th…"
      ]
     },
     "metadata": {},
     "output_type": "display_data"
    }
   ],
   "source": [
    "# Question 3.2\n",
    "# How many reaction equations does the simplified metabolic model \n",
    "# for calculating the intracellular reaction rates including acetone\n",
    "# production contain?\n",
    "#\n",
    "# Instructions:\n",
    "# Execute this cell and enter your solution to Question 3.2 into the variable below\n",
    "# If your answer was correct, you may proceed.\n",
    "# If your answer was not correct, you may try again!\n",
    "\n",
    "\n",
    "# Number of reaction equations in the simplified model || Example: myeq = 0 (int)\n",
    "one = myTo[5].get_full_question()\n",
    "display(one)\n",
    "one.children[2].children[1].on_click(myTo[5].on_help_button_clicked)\n",
    "one.children[2].children[0].on_click(myTo[5].on_verify_button_clicked)"
   ]
  },
  {
   "cell_type": "code",
   "execution_count": 106,
   "id": "reported-winter",
   "metadata": {
    "tags": []
   },
   "outputs": [
    {
     "data": {
      "application/vnd.jupyter.widget-view+json": {
       "model_id": "fb51e8eb295542198127f159fde377e6",
       "version_major": 2,
       "version_minor": 0
      },
      "text/plain": [
       "VBox(children=(Label(value='Is the acetone synthesis rate determinable?'), ToggleButtons(description='no', lay…"
      ]
     },
     "metadata": {},
     "output_type": "display_data"
    }
   ],
   "source": [
    "#Question 3.3\n",
    "\n",
    "# Step 1. Execute this cell\n",
    "# Step 2. Select the rigth answers to the questions below\n",
    "# Sep 3. Press 'Verify Answer' to lock in your answer\n",
    "\n",
    "w1 = myQo[-1].get_full_question()\n",
    "display(w1)\n",
    "w1.children[-1].on_click(myQo[-1].on_button_clicked)"
   ]
  },
  {
   "cell_type": "markdown",
   "id": "different-wrestling",
   "metadata": {
    "tags": []
   },
   "source": [
    "## References\n",
    "**Blank, L. M.** 1997. Molecular and fermentation characterization of recombinant strains for metabolic engineering studies of Clostridium acetobutylicum. Master Thesis. Northwestern University, Evanston, IL, USA.\n",
    "\n",
    "**Papoutsakis, 1984**\n"
   ]
  }
 ],
 "metadata": {
  "kernelspec": {
   "display_name": "Python 3",
   "language": "python",
   "name": "python3"
  },
  "language_info": {
   "codemirror_mode": {
    "name": "ipython",
    "version": 3
   },
   "file_extension": ".py",
   "mimetype": "text/x-python",
   "name": "python",
   "nbconvert_exporter": "python",
   "pygments_lexer": "ipython3",
   "version": "3.8.10"
  }
 },
 "nbformat": 4,
 "nbformat_minor": 5
}
