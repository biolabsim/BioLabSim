{
 "cells": [
  {
   "cell_type": "code",
   "execution_count": null,
   "id": "selected-turner",
   "metadata": {},
   "outputs": [],
   "source": []
  },
  {
   "cell_type": "code",
   "execution_count": 1,
   "id": "sonic-onion",
   "metadata": {},
   "outputs": [
    {
     "data": {
      "application/vnd.jupyter.widget-view+json": {
       "model_id": "4f80de69cc084365bde51ae65a649313",
       "version_major": 2,
       "version_minor": 0
      },
      "text/plain": [
       "Text(value='Number', description='Student ID')"
      ]
     },
     "metadata": {},
     "output_type": "display_data"
    }
   ],
   "source": [
    "import ipywidgets as widgets\n",
    "from IPython.display import display\n",
    "\n",
    "def any_function_returning_value(StudID):\n",
    "#     new_word = 'StudID: %s %s'%(StudID)\n",
    "    print(StudID)\n",
    "    n4s = initiate_homework(StudID, 6)\n",
    "    (newYxs, newH, newO, newN, hq1tgl) = initiate_question_three_one(n4s)\n",
    "    return (newYxs, newH, newO, newN, hq1tgl)\n",
    "\n",
    "class learn_classes_and_widgets():\n",
    "    def __init__(self, param1 = 'Number'):\n",
    "        self.StudID = widgets.Text(description = 'Student ID',value = param1)\n",
    "        self.StudID.on_submit(self.handle_submit)\n",
    "        display(self.StudID)\n",
    "\n",
    "    def handle_submit(self, text):\n",
    "#         print(\"Submitting\")\n",
    "#         print(\"Text \" + str(text.value))\n",
    "#         self.StudID = \n",
    "        self.w = any_function_returning_value(self.StudID.value)\n",
    "        return self.w\n",
    "\n",
    "f = learn_classes_and_widgets()"
   ]
  },
  {
   "cell_type": "code",
   "execution_count": 51,
   "id": "altered-causing",
   "metadata": {},
   "outputs": [
    {
     "data": {
      "application/vnd.jupyter.widget-view+json": {
       "model_id": "",
       "version_major": 2,
       "version_minor": 0
      },
      "text/plain": [
       "interactive(children=(FloatSlider(value=10000.0, description='i', max=1000000.0, min=10000.0, step=10000.0), B…"
      ]
     },
     "metadata": {},
     "output_type": "display_data"
    }
   ],
   "source": [
    "from ipywidgets import FloatSlider, interactive\n",
    "def slow_function(i):\n",
    "    print(int(i),list(x for x in range(int(i)) if\n",
    "                str(x)==str(x)[::-1] and\n",
    "                str(x**2)==str(x**2)[::-1]))\n",
    "    return\n",
    "\n",
    "slow = interactive(slow_function, {'manual': True}, i=widgets.FloatSlider(min=1e4, max=1e6, step=1e4))\n",
    "slow"
   ]
  },
  {
   "cell_type": "code",
   "execution_count": 2,
   "id": "african-destination",
   "metadata": {},
   "outputs": [
    {
     "data": {
      "application/vnd.jupyter.widget-view+json": {
       "model_id": "7b75fb3b884543d9997aa2deadd207a1",
       "version_major": 2,
       "version_minor": 0
      },
      "text/plain": [
       "IntText(value=0)"
      ]
     },
     "metadata": {},
     "output_type": "display_data"
    },
    {
     "data": {
      "application/vnd.jupyter.widget-view+json": {
       "model_id": "b7f928eb071b40abb986b3959292c0d1",
       "version_major": 2,
       "version_minor": 0
      },
      "text/plain": [
       "Button(description='Click Me!', style=ButtonStyle())"
      ]
     },
     "metadata": {},
     "output_type": "display_data"
    },
    {
     "data": {
      "application/vnd.jupyter.widget-view+json": {
       "model_id": "acdb0cc19d364ceb9f5d18b53eda1ff6",
       "version_major": 2,
       "version_minor": 0
      },
      "text/plain": [
       "Output()"
      ]
     },
     "metadata": {},
     "output_type": "display_data"
    }
   ],
   "source": [
    "StudID = widgets.IntText()\n",
    "\n",
    "\n",
    "button = widgets.Button(description=\"Click Me!\")\n",
    "output = widgets.Output()\n",
    "\n",
    "display(StudID, button, output)\n",
    "\n",
    "@output.capture()\n",
    "def on_button_clicked(b):\n",
    "    print(type(b))\n",
    "    print(\"Button clicked.\")\n",
    "    b.icon=\"warning\"\n",
    "    return 'wer'\n",
    "\n",
    "button.on_click(on_button_clicked)"
   ]
  },
  {
   "cell_type": "code",
   "execution_count": 59,
   "id": "finite-consequence",
   "metadata": {},
   "outputs": [
    {
     "data": {
      "application/vnd.jupyter.widget-view+json": {
       "model_id": "",
       "version_major": 2,
       "version_minor": 0
      },
      "text/plain": [
       "interactive(children=(IntText(value=0, description='StudID'), Output()), _dom_classes=('widget-interact',))"
      ]
     },
     "metadata": {},
     "output_type": "display_data"
    }
   ],
   "source": [
    "def Params(StudID):\n",
    "    return initiate_question_three_one(initiate_homework(StudID, 6))\n",
    "w = interactive(Params, StudID=widgets.IntText(value=0))\n",
    "display(w)"
   ]
  },
  {
   "cell_type": "code",
   "execution_count": null,
   "id": "interracial-morris",
   "metadata": {},
   "outputs": [],
   "source": [
    "get_StudID = widgets.IntText(\n",
    "    value=0,\n",
    "    description='Student ID:',\n",
    "    disabled=False\n",
    ")\n",
    "output = widgets.Output()\n",
    "display(get_StudID, output)\n",
    "\n",
    "get_Params = widgets.Button(\n",
    "    value=False,\n",
    "    description='Generate Parameter',\n",
    "    disabled=False,\n",
    "    button_style='', # 'success', 'info', 'warning', 'danger' or ''\n",
    "    tooltip='Description',\n",
    "#     icon='check' # (FontAwesome names without the `fa-` prefix)\n",
    ")\n",
    "\n",
    "\n",
    "def set_Params(change):\n",
    "    with output:\n",
    "        print(change['new'])\n",
    "        n4s = initiate_homework(change['new'], 6)\n",
    "        (newYxs, newH, newO, newN, hq1tgl) = initiate_question_three_one(n4s)\n",
    "#         return (newYxs, newH, newO, newN, hq1tgl)\n",
    "\n",
    "df = get_StudID.observe(set_Params, names='value')\n",
    "\n",
    "get_Params = widgets.Button(\n",
    "    value=False,\n",
    "    description='Generate Parameter',\n",
    "    disabled=False,\n",
    "    button_style='', # 'success', 'info', 'warning', 'danger' or ''\n",
    "    tooltip='Description',\n",
    "#     icon='check' # (FontAwesome names without the `fa-` prefix)\n",
    ")\n",
    "output2 = widgets.Output()\n",
    "display(get_Params, output2)\n"
   ]
  },
  {
   "cell_type": "code",
   "execution_count": 80,
   "id": "missing-infrared",
   "metadata": {},
   "outputs": [
    {
     "data": {
      "application/vnd.jupyter.widget-view+json": {
       "model_id": "",
       "version_major": 2,
       "version_minor": 0
      },
      "text/plain": [
       "IntText(value=0, description='Student ID:')"
      ]
     },
     "metadata": {},
     "output_type": "display_data"
    },
    {
     "data": {
      "application/vnd.jupyter.widget-view+json": {
       "model_id": "",
       "version_major": 2,
       "version_minor": 0
      },
      "text/plain": [
       "Button(style=ButtonStyle())"
      ]
     },
     "metadata": {},
     "output_type": "display_data"
    }
   ],
   "source": [
    "get_StudID = widgets.IntText(\n",
    "    value=0,\n",
    "    description='Student ID:',\n",
    "    disabled=False\n",
    ")\n",
    "button = widgets.Button()\n",
    "\n",
    "def calc(inp):\n",
    "    display(2*inp)\n",
    "\n",
    "button.on_click(calc)\n",
    "display(get_StudID, button)\n",
    "# output = widgets.Output()\n",
    "# display(get_StudID, button)\n",
    "\n",
    "# n4s = initiate_homework(get_StudID.value, 6)\n",
    "# (newYxs, newH, newO, newN, hq1tgl) = initiate_question_three_one(n4s)"
   ]
  },
  {
   "cell_type": "code",
   "execution_count": 68,
   "id": "palestinian-sheffield",
   "metadata": {},
   "outputs": [
    {
     "data": {
      "application/vnd.jupyter.widget-view+json": {
       "model_id": "",
       "version_major": 2,
       "version_minor": 0
      },
      "text/plain": [
       "IntText(value=0, description='Student ID:')"
      ]
     },
     "metadata": {},
     "output_type": "display_data"
    },
    {
     "data": {
      "application/vnd.jupyter.widget-view+json": {
       "model_id": "",
       "version_major": 2,
       "version_minor": 0
      },
      "text/plain": [
       "Output()"
      ]
     },
     "metadata": {},
     "output_type": "display_data"
    },
    {
     "name": "stdout",
     "output_type": "stream",
     "text": [
      "Matriculation-Number accepted.\n",
      "\n",
      "Generating random numbers..\n",
      "\n",
      "Generating personalized homework parameters...\n",
      "\n",
      "##########\n",
      "\n",
      "Parameters for Question 1:\n",
      "Your glucose yield Y_(XS) is 1.8 C-mol glucose/C-mol biomass\n",
      "Your biomass composition is CH_(1.9)O_(0.5)N_(0.2)\n",
      "\n",
      "##########\n"
     ]
    }
   ],
   "source": [
    "get_StudID = widgets.IntText(\n",
    "    value=0,\n",
    "    description='Student ID:',\n",
    "    disabled=False\n",
    ")\n",
    "output = widgets.Output()\n",
    "display(get_StudID, output)\n",
    "\n",
    "n4s = initiate_homework(get_StudID.value, 6)\n",
    "(newYxs, newH, newO, newN, hq1tgl) = initiate_question_three_one(n4s)"
   ]
  }
 ],
 "metadata": {
  "kernelspec": {
   "display_name": "Python 3",
   "language": "python",
   "name": "python3"
  },
  "language_info": {
   "codemirror_mode": {
    "name": "ipython",
    "version": 3
   },
   "file_extension": ".py",
   "mimetype": "text/x-python",
   "name": "python",
   "nbconvert_exporter": "python",
   "pygments_lexer": "ipython3",
   "version": "3.8.10"
  }
 },
 "nbformat": 4,
 "nbformat_minor": 5
}
