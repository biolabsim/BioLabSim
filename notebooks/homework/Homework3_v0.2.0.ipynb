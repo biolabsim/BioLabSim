{
 "cells": [
  {
   "cell_type": "markdown",
   "id": "searching-communist",
   "metadata": {},
   "source": [
    "# Homework 3 (V.0.2.0)\n",
    "\n",
    "## General introduction\n",
    "\n",
    "The Jupyter Notebook contains the steps to perform the homeworks for Quantitative Mikrobiology.\n",
    "\n",
    "The sequence is as follows:\n",
    " - Load auxiliary libraries\n",
    " - Homework description\n",
    " - Initialize the homeworks with you student ID\n",
    " - Report the solution of the calculation\n",
    " - Feed the Control-Number to the Moodle homework report\n",
    "\n",
    "Read all cells, perform the calculations with your individual parameters and insert your results in the corresponding variable by replacing the keyword `None`. If your answer(s) are correct, a code will be generated for you. Keep it, you will need it later in the Moodle! \n",
    "\n",
    "Tipp: You can get tipps for a question by following the instructions in the designated cells!\n",
    "\n",
    "## Load auxiliary libraries\n",
    "Evaluate the following cell."
   ]
  },
  {
   "cell_type": "code",
   "execution_count": 1,
   "id": "worldwide-memorial",
   "metadata": {},
   "outputs": [],
   "source": [
    "# Loading Python libraries is the first step.\n",
    "# The libraries contain functions required for the homework.\n",
    "\n",
    "import random as rd\n",
    "import numpy as np\n",
    "import ipywidgets as widgets\n",
    "\n",
    "try:\n",
    "    from iambcodes.homeworks import *\n",
    "except ImportError:\n",
    "    !pip install iambcodes==0.0.24\n",
    "    from iambcodes.homeworks import *\n",
    "except ModuleNotFoundError:\n",
    "    !pip install iambcodes==0.0.24\n",
    "    from iambcodes.homeworks import *\n"
   ]
  },
  {
   "cell_type": "markdown",
   "id": "mediterranean-lawyer",
   "metadata": {},
   "source": [
    "## Homework description, part 1\n",
    "In Baker’s yeast fermentation, one of the challenges is to make the yeast grow as fast as\n",
    "possible without generating ethanol. In absence of ethanol production, the yield is **$Y_{xs}$:\n",
    "glucose/C-mol biomass (yield generated in cell below)**. The optimal glucose concentration is very low and it is not practical to measure glucose on-line. Instead, industry frequently uses the respiratory quotient (RQ) defined as:\n",
    "\n",
    "$$\\displaystyle RQ = \\displaystyle \\frac{V(CO_{2})}{V(O_{2})}$$\n",
    "\n",
    "Assuming the **biomass composition (generated in cell below)**, what is RQ under optimal conditions, i.e., in\n",
    "absence of ethanol production, when yeast is grown on minimal media (glucose, ammonia and minerals)?\n",
    "\n",
    "## Initialize homework with student ID\n",
    " 1. Enter your matriculation number in the varibale `StudID`, input: integer\n",
    " 2. Evaluate the cell."
   ]
  },
  {
   "cell_type": "code",
   "execution_count": 2,
   "id": "chemical-regard",
   "metadata": {
    "jupyter": {
     "source_hidden": true
    }
   },
   "outputs": [
    {
     "data": {
      "application/vnd.jupyter.widget-view+json": {
       "model_id": "da4d0099be86439582ec06892b03da05",
       "version_major": 2,
       "version_minor": 0
      },
      "text/plain": [
       "VBox(children=(IntText(value=0, description='Student ID:'), Button(description='Generate Params', style=Button…"
      ]
     },
     "metadata": {},
     "output_type": "display_data"
    }
   ],
   "source": [
    "import ipywidgets as widgets\n",
    "\n",
    "StudID = widgets.IntText( description='Student ID:', value=0 )\n",
    "button   = widgets.Button( description='Generate Params' )\n",
    "Yglc = widgets.Label(value='Glucose yield per biomass: ' )\n",
    "hH = widgets.Label(value='H in biomass: ' )\n",
    "hO = widgets.Label(value='O in biomass: ' )\n",
    "hN = widgets.Label(value='N in biomass: ' )\n",
    "\n",
    "vb=widgets.VBox([StudID,button, Yglc, hH, hO, hN])\n",
    "\n",
    "def compute_Params(b):\n",
    "    n4s = initiate_homework(StudID.value, 6)\n",
    "    (newYxs, newH, newO, newN, hq1tgl) = initiate_question_three_one(n4s)\n",
    "    Yglc.value='Glucose yield per biomass: '+str(newYxs)\n",
    "    hH.value='H in biomass: '+str(newH)\n",
    "    hO.value='O in biomass: '+str(newO)\n",
    "    hN.value='N in biomass: '+str(newN)\n",
    "#     n4s = initiate_homework(t_str1.value, 6)\n",
    "#     (newYxs, newH, newO, newN, hq1tgl) = initiate_question_three_one(n4s)\n",
    "#     t_str2.value=''+t_str1.value # initiate_question_three_one(n4s)\n",
    "\n",
    "button.on_click(compute_Params)\n",
    "\n",
    "display(vb)\n",
    "\n"
   ]
  },
  {
   "cell_type": "code",
   "execution_count": 18,
   "id": "quality-volume",
   "metadata": {},
   "outputs": [
    {
     "data": {
      "application/vnd.jupyter.widget-view+json": {
       "model_id": "74160db93a824db88b640328c4002e4f",
       "version_major": 2,
       "version_minor": 0
      },
      "text/plain": [
       "Label(value='Glucose yield per biomass: 1.9')"
      ]
     },
     "metadata": {},
     "output_type": "display_data"
    }
   ],
   "source": [
    "vb._trait_values['children'][2]"
   ]
  },
  {
   "cell_type": "code",
   "execution_count": 7,
   "id": "undefined-vault",
   "metadata": {
    "jupyter": {
     "source_hidden": true
    }
   },
   "outputs": [
    {
     "data": {
      "application/vnd.jupyter.widget-view+json": {
       "model_id": "5126e4feed454b9293a9ffa54d077d0f",
       "version_major": 2,
       "version_minor": 0
      },
      "text/plain": [
       "FloatText(value=0.0, description='RQ = ')"
      ]
     },
     "metadata": {},
     "output_type": "display_data"
    },
    {
     "data": {
      "application/vnd.jupyter.widget-view+json": {
       "model_id": "453007a9b8f24eb181b18f13fbf4ca2c",
       "version_major": 2,
       "version_minor": 0
      },
      "text/plain": [
       "Button(description='Check RQ', style=ButtonStyle(), tooltip='Description')"
      ]
     },
     "metadata": {},
     "output_type": "display_data"
    },
    {
     "data": {
      "application/vnd.jupyter.widget-view+json": {
       "model_id": "859a5293710a4a58a3d9cb7200bf2f04",
       "version_major": 2,
       "version_minor": 0
      },
      "text/plain": [
       "Button(description='Calculation Help', style=ButtonStyle(), tooltip='Description')"
      ]
     },
     "metadata": {},
     "output_type": "display_data"
    },
    {
     "data": {
      "application/vnd.jupyter.widget-view+json": {
       "model_id": "90d9cd0f5a8d4d1092bdf50ba4dfed17",
       "version_major": 2,
       "version_minor": 0
      },
      "text/plain": [
       "Output()"
      ]
     },
     "metadata": {},
     "output_type": "display_data"
    }
   ],
   "source": [
    "newYxs = float(Yglc.value.split(':')[1].strip())\n",
    "newH = float(hH.value.split(':')[1].strip())\n",
    "newO = float(hH.value.split(':')[1].strip())\n",
    "newN = float(hH.value.split(':')[1].strip())\n",
    "Arr = [newYxs, newH, newO, newN, StudID.value]\n",
    "set_Solution = widgets.FloatText(\n",
    "    value=0.00,\n",
    "    description='RQ = ',\n",
    "    disabled=False\n",
    ")\n",
    "\n",
    "get_Solution = widgets.Button(\n",
    "    value=False,\n",
    "    description='Check RQ',\n",
    "    disabled=False,\n",
    "    button_style='', # 'success', 'info', 'warning', 'danger' or ''\n",
    "    tooltip='Description',\n",
    "#     icon='check' # (FontAwesome names without the `fa-` prefix)\n",
    ")\n",
    "\n",
    "get_Help = widgets.Button(\n",
    "    value=False,\n",
    "    description='Calculation Help',\n",
    "    disabled=False,\n",
    "    button_style='', # 'success', 'info', 'warning', 'danger' or ''\n",
    "    tooltip='Description',\n",
    "#     icon='check' # (FontAwesome names without the `fa-` prefix)\n",
    ")\n",
    "\n",
    "help_doc = widgets.Label(value='0')\n",
    "\n",
    "output = widgets.Output()\n",
    "display(set_Solution, get_Solution, get_Help, output)\n",
    "\n",
    "\n",
    "def generate_Check(Arg, Arr):\n",
    "#     with output:\n",
    "#         correct_homework_three_question_one(RQ, newYxs, newH, newO, newN, hq1tgl, StudID)\n",
    "#         print(txt)\n",
    "    correct_homework_three_question_one(set_Solution.value, Arr[0], Arr[1], Arr[2], Arr[3], 0, StudID)\n",
    "\n",
    "\n",
    "def generate_Help(Arg):\n",
    "    with output:\n",
    "        txt, hq1tgl= load_homework_three_question_one_tipp()\n",
    "        help_doc.value = '1'\n",
    "        print(txt)\n",
    "        \n",
    "get_Solution.on_click(generate_Check, Arr)\n",
    "get_Help.on_click(generate_Help)"
   ]
  },
  {
   "cell_type": "markdown",
   "id": "collected-version",
   "metadata": {},
   "source": [
    "# Calculation Support\n",
    "Help required? \n",
    "\n",
    "Run the cell below and confirm by writing 1 into the widget!\n",
    "\n",
    "If you decided otherwise, enter anything else to close the widget.\n",
    "\n",
    "Note: The support cell will block the execution of any other cells if the widet is open\n"
   ]
  },
  {
   "cell_type": "code",
   "execution_count": null,
   "id": "lesbian-majority",
   "metadata": {},
   "outputs": [],
   "source": [
    "q1help = input(\"Help required? If Yes, write 1 and press Enter! If No, write 0 and press Enter!\")\n",
    "\n",
    "try:\n",
    "    if int(q1help) == 1:\n",
    "        txt, hq1tgl= load_homework_three_question_one_tipp()\n",
    "        print(txt)\n",
    "    else:\n",
    "        print(\"Rerun the cell if you changed your mind!\")\n",
    "except ValueError:\n",
    "    print(\"Rerun the cell if you changed your mind!\")"
   ]
  },
  {
   "cell_type": "code",
   "execution_count": null,
   "id": "prime-designer",
   "metadata": {},
   "outputs": [],
   "source": [
    "## Return"
   ]
  },
  {
   "cell_type": "code",
   "execution_count": null,
   "id": "junior-mobile",
   "metadata": {},
   "outputs": [],
   "source": [
    "# Cell 2\n",
    "#\n",
    "# Instructions:\n",
    "# Enter your solution the Question 1 into the variable below\n",
    "# If your answer was correct, a code will be generated for you. Upload it to Moodle as proof.\n",
    "# If your answer was not correct, you may try again!\n",
    "\n",
    "#RQ || Example = RQ = 1.00 (Float)\n",
    "RQ = 0.97\n",
    "\n",
    "#\n",
    "#\n",
    "correct_homework_three_question_one(RQ, newYxs, newH, newO, newN, hq1tgl, StudID)"
   ]
  },
  {
   "cell_type": "markdown",
   "id": "fantastic-charter",
   "metadata": {},
   "source": [
    "## Question 2 [continued from Question 1]\n",
    "\n",
    "Apart from the $CO_{2}$ production rate and $O_{2}$ consumption rate, we\n",
    "can also measure the biomass concentration by turbidity as well as the growth rate (from the relative rate of\n",
    "change in turbidity). In a 10,000 L bioreactor, we observe the following values:\n",
    "\n",
    "* **Growth rate:**  0.35 1/h\n",
    "* **Biomass:**      50 g/L (assume 7 % ash)\n",
    "* $R_{O_{2}}$:  **[generated in Cell 3]**\n",
    "* $R_{CO_{2}}$: **[generated in Cell 3]**\n",
    "\n",
    "What is the yield of substrate and ethanol on biomass?"
   ]
  },
  {
   "cell_type": "code",
   "execution_count": null,
   "id": "placed-honduras",
   "metadata": {},
   "outputs": [],
   "source": [
    "# Cell 3 \n",
    "#\n",
    "# Execute this cell to generate your missing parameters for Question 2\n",
    "\n",
    "(newRO2, newRCO2, hq2tgl) = initiate_question_three_two(n4s)"
   ]
  },
  {
   "cell_type": "code",
   "execution_count": null,
   "id": "backed-giant",
   "metadata": {},
   "outputs": [],
   "source": [
    "# Cell 3.5\n",
    "# Help required? Run this Cell and confirm by writing 1 into the widget!\n",
    "# If you decided otherwise, enter anything else to close the widget.\n",
    "# Note: Cell 3.5 will block the execution of any other cells if the widet is open\n",
    "\n",
    "q2help = input(\"Help required? If Yes, write 1 and press Enter!\")\n",
    "\n",
    "try:\n",
    "    if int(q2help) == 1:\n",
    "        txt, hq2tgl= load_homework_three_question_two_tipp()\n",
    "        print(txt)\n",
    "    else:\n",
    "        print(\"Rerun the cell if you changed your mind!\")\n",
    "except ValueError:\n",
    "    print(\"Rerun the cell if you changed your mind!\")"
   ]
  },
  {
   "cell_type": "code",
   "execution_count": null,
   "id": "naughty-buying",
   "metadata": {},
   "outputs": [],
   "source": [
    "# Cell 4\n",
    "#\n",
    "# Instructions:\n",
    "# Enter your solution the Question 2 into the variables below\n",
    "# Run the Cell.\n",
    "# If your answers were correct, a code will be generated for you. Upload it to Moodle as proof.\n",
    "# If your answers were not correct, you may try again!\n",
    "\n",
    "#Yield_Substrate || Example = Yield_Substrate = 1.00 (Float)\n",
    "Yield_Substrate = 0.00\n",
    "\n",
    "#Yield_Ethanole || Example = Yield_Ethanol = 1.00 (Float)\n",
    "Yield_Ethanol = 0.00\n",
    "\n",
    "#\n",
    "#\n",
    "correct_homework_three_question_two(Yield_Substrate, Yield_Ethanol, newYxs, newH, newO, newN, newRO2, newRCO2, hq2tgl, StudID)"
   ]
  }
 ],
 "metadata": {
  "celltoolbar": "Tags",
  "kernelspec": {
   "display_name": "bls_py39",
   "language": "python",
   "name": "bls_py39"
  },
  "language_info": {
   "codemirror_mode": {
    "name": "ipython",
    "version": 3
   },
   "file_extension": ".py",
   "mimetype": "text/x-python",
   "name": "python",
   "nbconvert_exporter": "python",
   "pygments_lexer": "ipython3",
   "version": "3.9.12"
  },
  "toc-autonumbering": true
 },
 "nbformat": 4,
 "nbformat_minor": 5
}
