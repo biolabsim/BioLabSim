{
 "cells": [
  {
   "cell_type": "markdown",
   "id": "fatty-farmer",
   "metadata": {},
   "source": [
    "# Homework 3\n",
    "\n",
    "## V. 0.1.5\n",
    "\n",
    "* Follow the instructions in Cell 0\n",
    "* Run Cell 1 and Solve Question 1\n",
    "    * Write down your answer(s) in Cell 2. If your answer(s) are correct, a code will be generated for you. Keep it, you will need it later!\n",
    "* Run Cell 3 and Solve Question 2\n",
    "    * Write down your answer(s) in Cell 4. If your answer(s) are correct, a code will be generated for you. Keep it, you will need it later!\n",
    "* If you are done with the homework, upload the generated codes to Moodle.\n",
    "\n",
    "Tipp: You can get tipps for a question by following the instructions in the designated cells!"
   ]
  },
  {
   "cell_type": "code",
   "execution_count": 1,
   "id": "brave-round",
   "metadata": {},
   "outputs": [
    {
     "name": "stdout",
     "output_type": "stream",
     "text": [
      "Matriculation-Number accepted.\n",
      "\n",
      "Generating random numbers..\n",
      "Matriculation-Number accepted.\n",
      "\n",
      "Generating personalized homework parameters..\n"
     ]
    }
   ],
   "source": [
    "#CELL 0\n",
    "#\n",
    "# Instruction:\n",
    "# 1. Enter your matriculation number in the varibale \"matricnb\"\n",
    "# 2. Execute Cell 0\n",
    "# 3. Move on to the Questions\n",
    "\n",
    "import random as rd\n",
    "import numpy as np\n",
    "try:\n",
    "    from iambcodes.homeworks import *\n",
    "except ImportError:\n",
    "    !pip install iambcodes==0.0.22\n",
    "    from iambcodes.homeworks import *\n",
    "except ModuleNotFoundError:\n",
    "    !pip install iambcodes==0.0.22\n",
    "    from iambcodes.homeworks import *\n",
    "\n",
    "#    \n",
    "# Your matriculation number || Example: matricnb = 2022 (Integer)\n",
    "matricnb = 2022\n",
    "\n",
    "#\n",
    "#\n",
    "(n4s) = initiate_homework(matricnb, 6)"
   ]
  },
  {
   "cell_type": "markdown",
   "id": "incorrect-ethics",
   "metadata": {},
   "source": [
    "# Question 1\n",
    "In Baker’s yeast fermentation, one of the challenges is to make the yeast grow as fast as\n",
    "possible without generating ethanol. In absence of ethanol production, the yield is **$Y_{xs}$\n",
    "glucose/C-mol biomass (generated in Cell 1)**. The optimal glucose concentration is very low and it is not practical to measure glucose on-line. Instead, industry frequently uses the respiratory quotient (RQ) defined as:\n",
    "\n",
    "$$\\displaystyle RQ = \\displaystyle \\frac{V(CO_{2}) * t^{-1}}{V(O_{2}) * t^{-1}}$$\n",
    "\n",
    "Assuming the **biomass composition (generated in Cell 1)**, what is RQ under optimal conditions, i.e., in\n",
    "absence of ethanol production, when yeast is grown on minimal media (glucose, ammonia and minerals)?"
   ]
  },
  {
   "cell_type": "code",
   "execution_count": 2,
   "id": "lined-differential",
   "metadata": {},
   "outputs": [
    {
     "name": "stdout",
     "output_type": "stream",
     "text": [
      "##########\n",
      "\n",
      "Parameters for Question 1:\n",
      "Your glucose yield Y_(XS) is 1.5 C-mol glucose/C-mol biomass\n",
      "Your biomass composition is CH_(1.7)O_(0.4)N_(0.1)\n",
      "\n",
      "##########\n"
     ]
    }
   ],
   "source": [
    "# Cell 1 \n",
    "#\n",
    "# Execute this cell to generate your missing parameters for Question 1\n",
    "\n",
    "(newYxs, newH, newO, newN, hq1tgl) = initiate_question_three_one(n4s)"
   ]
  },
  {
   "cell_type": "code",
   "execution_count": null,
   "id": "collected-billy",
   "metadata": {},
   "outputs": [],
   "source": [
    "# Cell 1.5\n",
    "# Help required? Run this Cell and confirm by writing 1 into the widget!\n",
    "# If you decided otherwise, enter anything else to close the widget.\n",
    "# Note: Cell 1.5 will block the execution of any other cells if the widet is open\n",
    "\n",
    "q1help = input(\"Help required? If Yes, write 1 and press Enter! If No, write 0 and press Enter!\")\n",
    "\n",
    "try:\n",
    "    if int(q1help) == 1:\n",
    "        txt, hq1tgl= load_homework_three_question_one_tipp()\n",
    "        print(txt)\n",
    "    else:\n",
    "        print(\"Rerun the cell if you changed your mind!\")\n",
    "except ValueError:\n",
    "    print(\"Rerun the cell if you changed your mind!\")"
   ]
  },
  {
   "cell_type": "code",
   "execution_count": null,
   "id": "hidden-moment",
   "metadata": {},
   "outputs": [],
   "source": [
    "# Cell 2\n",
    "#\n",
    "# Instructions:\n",
    "# Enter your solution the Question 1 into the variable below\n",
    "# If your answer was correct, a code will be generated for you. Upload it to Moodle as proof.\n",
    "# If your answer was not correct, you may try again!\n",
    "\n",
    "#RQ || Example = RQ = 1.00 (Float)\n",
    "RQ = 0.00\n",
    "\n",
    "#\n",
    "#\n",
    "correct_homework_three_question_one(RQ, newYxs, newH, newO, newN, hq1tgl, matricnb)"
   ]
  },
  {
   "cell_type": "markdown",
   "id": "qualified-panel",
   "metadata": {},
   "source": [
    "## Question 2 [continued from Question 1]\n",
    "\n",
    "Apart from the $CO_{2}$ production rate and $O_{2}$ consumption rate, we\n",
    "can also measure the biomass concentration by turbidity as well as the growth rate (from the relative rate of\n",
    "change in turbidity). In a 10,000 L bioreactor, we observe the following values:\n",
    "\n",
    "* **Growth rate:**  0.35 1/h\n",
    "* **Biomass:**      50 g/L (assume 7 % ash)\n",
    "* $R_{O_{2}}$:  **[generated in Cell 3]**\n",
    "* $R_{CO_{2}}$: **[generated in Cell 3]**\n",
    "\n",
    "What is the yield of substrate and ethanol on biomass?"
   ]
  },
  {
   "cell_type": "code",
   "execution_count": null,
   "id": "published-stable",
   "metadata": {},
   "outputs": [],
   "source": [
    "# Cell 3 \n",
    "#\n",
    "# Execute this cell to generate your missing parameters for Question 2\n",
    "\n",
    "(newRO2, newRCO2, hq2tgl) = initiate_question_three_two(n4s)"
   ]
  },
  {
   "cell_type": "code",
   "execution_count": null,
   "id": "continuing-process",
   "metadata": {},
   "outputs": [],
   "source": [
    "# Cell 3.5\n",
    "# Help required? Run this Cell and confirm by writing 1 into the widget!\n",
    "# If you decided otherwise, enter anything else to close the widget.\n",
    "# Note: Cell 3.5 will block the execution of any other cells if the widet is open\n",
    "\n",
    "q2help = input(\"Help required? If Yes, write 1 and press Enter!\")\n",
    "\n",
    "try:\n",
    "    if int(q2help) == 1:\n",
    "        txt, hq2tgl= load_homework_three_question_two_tipp()\n",
    "        print(txt)\n",
    "    else:\n",
    "        print(\"Rerun the cell if you changed your mind!\")\n",
    "except ValueError:\n",
    "    print(\"Rerun the cell if you changed your mind!\")"
   ]
  },
  {
   "cell_type": "code",
   "execution_count": null,
   "id": "coated-bench",
   "metadata": {},
   "outputs": [],
   "source": [
    "# Cell 4\n",
    "#\n",
    "# Instructions:\n",
    "# Enter your solution the Question 2 into the variables below\n",
    "# Run the Cell.\n",
    "# If your answers were correct, a code will be generated for you. Upload it to Moodle as proof.\n",
    "# If your answers were not correct, you may try again!\n",
    "\n",
    "#Yield_Substrate || Example = Yield_Substrate = 1.00 (Float)\n",
    "Yield_Substrate = 0.00\n",
    "\n",
    "#Yield_Ethanole || Example = Yield_Ethanol = 1.00 (Float)\n",
    "Yield_Ethanol = 0.00\n",
    "\n",
    "#\n",
    "#\n",
    "correct_homework_three_question_two(Yield_Substrate, Yield_Ethanol, newYxs, newH, newO, newN, newRO2, newRCO2, hq2tgl, matricnb)"
   ]
  }
 ],
 "metadata": {
  "celltoolbar": "Tags",
  "kernelspec": {
   "display_name": "bls_py39",
   "language": "python",
   "name": "bls_py39"
  },
  "language_info": {
   "codemirror_mode": {
    "name": "ipython",
    "version": 3
   },
   "file_extension": ".py",
   "mimetype": "text/x-python",
   "name": "python",
   "nbconvert_exporter": "python",
   "pygments_lexer": "ipython3",
   "version": "3.9.12"
  }
 },
 "nbformat": 4,
 "nbformat_minor": 5
}
