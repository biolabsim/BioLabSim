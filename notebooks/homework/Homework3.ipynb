{
 "cells": [
  {
   "cell_type": "markdown",
   "id": "behavioral-spine",
   "metadata": {
    "tags": []
   },
   "source": [
    "# Homework 3\n",
    "*V.1.0.0*\n",
    "\n",
    "## General introduction\n",
    "\n",
    "The Jupyter Notebook contains the steps to perform the homeworks for Quantitative Mikrobiology.\n",
    "\n",
    "The sequence is as follows:\n",
    " - Load auxiliary libraries\n",
    " - Homework description\n",
    " - Initialize the homework with you student ID\n",
    " - Report the solution of each calculation step/question\n",
    " - Check the results for correctness\n",
    " - Feed the Control-Number to the Moodle homework report\n",
    "\n",
    "Read all cells, perform the calculations with your individual parameters and insert your results in the corresponding variable. If your answer(s) are correct, a code will be generated for you. Keep it, you will need it later in the Moodle! \n",
    "\n",
    "## Calculation Support\n",
    "Help required? \n",
    "\n",
    "Every Question has a Button called **'Calculation Help'** that gives you a tipp on how to solve the task.\n",
    "\n",
    "Please be aware that taking this option will **reduce the amount of achievable points!**\n",
    "\n",
    "## Load auxiliary libraries\n",
    "Evaluate the following cell."
   ]
  },
  {
   "cell_type": "code",
   "execution_count": 1,
   "id": "optional-narrow",
   "metadata": {},
   "outputs": [
    {
     "name": "stdout",
     "output_type": "stream",
     "text": [
      "Libraries loaded!\n"
     ]
    }
   ],
   "source": [
    "# Loading Python libraries is the first step.\n",
    "# The libraries contain functions required for the homework.\n",
    "\n",
    "import random as rd\n",
    "import numpy as np\n",
    "import ipywidgets as widgets\n",
    "\n",
    "try:\n",
    "    from iambcodes.homeworks import *\n",
    "except ImportError:\n",
    "    !pip install iambcodes==0.0.25\n",
    "    from iambcodes.homeworks import *\n",
    "except ModuleNotFoundError:\n",
    "    !pip install iambcodes==0.0.25\n",
    "    from iambcodes.homeworks import *\n",
    "\n",
    "print('Libraries loaded!')"
   ]
  },
  {
   "cell_type": "markdown",
   "id": "underlying-blond",
   "metadata": {},
   "source": [
    "## Initialize homework with student ID\n",
    " 1. Enter your matriculation number in the varibale `StudID`, input: integer\n",
    " 2. Evaluate the cell.\n",
    " 3. Use the generated Parameters for your tasks\n"
   ]
  },
  {
   "cell_type": "code",
   "execution_count": 2,
   "id": "initial-argument",
   "metadata": {
    "tags": []
   },
   "outputs": [
    {
     "data": {
      "application/vnd.jupyter.widget-view+json": {
       "model_id": "306096df58b64ce185664b990c9831d3",
       "version_major": 2,
       "version_minor": 0
      },
      "text/plain": [
       "VBox(children=(IntText(value=0, description='Student ID:'), Button(description='Generate Params', style=Button…"
      ]
     },
     "metadata": {},
     "output_type": "display_data"
    }
   ],
   "source": [
    "StudID = widgets.IntText( description='Student ID:', value=0 )\n",
    "button   = widgets.Button( description='Generate Params' )\n",
    "output = widgets.Output()\n",
    "\n",
    "vb=widgets.VBox([StudID,button, output])\n",
    "\n",
    "def compute_Params(b):\n",
    "    button.disabled = True\n",
    "    global hw3\n",
    "    hw3 = homework_three(StudID.value)\n",
    "    with output:\n",
    "        print(\"##########\\n\\nParameters for Question 1:\\n\\n\"\\\n",
    "        \"Your glucose yield Y_(XS) is {} C-mol glucose/C-mol biomass\\n\\n\"\\\n",
    "        \"Your biomass composition is CH_({})O_({})N_({})\\n\\n##########\".format(hw3.newYxs,hw3.newH,hw3.newO,hw3.newN))\n",
    "        print(\"##########\\n\\nParameters for Question 2:\\n\\n\"\\\n",
    "        \"Your O_2 Exchange-Rate is {} mol/h\\n\\n\"\\\n",
    "        \"Your CO_2 Exchange-Rate is {} mol/h\\n\\n##########\".format(hw3.newRO2,hw3.newRCO2))\n",
    "\n",
    "\n",
    "button.on_click(compute_Params)\n",
    "\n",
    "display(vb)\n",
    "\n"
   ]
  },
  {
   "cell_type": "markdown",
   "id": "working-physics",
   "metadata": {},
   "source": [
    "## Question 1\n",
    "In Baker’s yeast fermentation, one of the challenges is to make the yeast grow as fast as\n",
    "possible without generating ethanol. In absence of ethanol production, the yield is **$Y_{xs}$:\n",
    "glucose/C-mol biomass**. The optimal glucose concentration is very low and it is not practical to measure glucose on-line. Instead, industry frequently uses the respiratory quotient (RQ) defined as:\n",
    "\n",
    "$$\\displaystyle RQ = \\displaystyle \\frac{V(CO_{2})}{V(O_{2})}$$\n",
    "\n",
    "Assuming the **biomass composition**, what is RQ under optimal conditions, i.e., in\n",
    "absence of ethanol production, when yeast is grown on minimal media (glucose, ammonia and minerals)?"
   ]
  },
  {
   "cell_type": "code",
   "execution_count": null,
   "id": "split-astronomy",
   "metadata": {
    "tags": []
   },
   "outputs": [],
   "source": [
    "display(hw3.question_one_display)\n",
    "\n",
    "hw3.question_one_display.children[2].children[0].on_click(hw3.on_question_one_answer_button_clicked)\n",
    "hw3.question_one_display.children[-3].children[1].on_click(hw3.on_question_one_help_button_clicked)"
   ]
  },
  {
   "cell_type": "markdown",
   "id": "similar-green",
   "metadata": {},
   "source": [
    "## Question 2 [continued from Question 1]\n",
    "\n",
    "Apart from the $CO_{2}$ production rate and $O_{2}$ consumption rate, we\n",
    "can also measure the biomass concentration by turbidity as well as the growth rate (from the relative rate of\n",
    "change in turbidity). In a 10,000 L bioreactor, we observe the following values:\n",
    "\n",
    "* **Growth rate:**  0.35 1/h\n",
    "* **Biomass:**      50 g/L (assume 7 % ash)\n",
    "* $R_{O_{2}}$: **[generated in 1.3]**\n",
    "* $R_{CO_{2}}$: **[generated in 1.3]**\n",
    "\n",
    "What is the **yield of substrate** and **yield of ethanol** on biomass?"
   ]
  },
  {
   "cell_type": "code",
   "execution_count": null,
   "id": "prospective-stuart",
   "metadata": {
    "tags": []
   },
   "outputs": [],
   "source": [
    "display(hw3.question_two_display)\n",
    "\n",
    "hw3.question_two_display.children[-3].children[0].on_click(hw3.on_question_two_answer_button_clicked)\n",
    "hw3.question_two_display.children[-3].children[1].on_click(hw3.on_question_two_help_button_clicked)"
   ]
  }
 ],
 "metadata": {
  "celltoolbar": "Tags",
  "kernelspec": {
   "display_name": "iambjudas",
   "language": "python",
   "name": "iambjudas"
  },
  "language_info": {
   "codemirror_mode": {
    "name": "ipython",
    "version": 3
   },
   "file_extension": ".py",
   "mimetype": "text/x-python",
   "name": "python",
   "nbconvert_exporter": "python",
   "pygments_lexer": "ipython3",
   "version": "3.9.7"
  },
  "toc-autonumbering": true
 },
 "nbformat": 4,
 "nbformat_minor": 5
}
