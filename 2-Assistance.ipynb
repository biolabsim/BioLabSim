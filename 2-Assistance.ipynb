{
 "cells": [
  {
   "cell_type": "markdown",
   "metadata": {},
   "source": [
    "# Help and Further Information\n",
    "***\n",
    "\n",
    "In this notebook you will find help for the different tasks during the simulation and at the end you will also find further information that can help you to understand the topics.\n",
    "\n",
    "# Examples for the Laboratory Tasks\n",
    "\n",
    "## 1. In addition to 2.1 - Calculating of the growth rate\n",
    "The following is an example graph of how it should be generated per cultivation to determine the growth rate at the respective temperature.       \n",
    "      \n",
    "      \n",
    "<img src=\"StrainCharacterization_example.PNG\" width=\"600\">         \n",
    "\n",
    "\n",
    "<center>Figure 1: Cultivation of Ecol at 35 °C.<center>      \n",
    "<center>Shown is the mean value and the standard deviation of three biological replicates.<center>      \n",
    "<center>The slope of the regression line is equal to the growth rate.<center>"
   ]
  },
  {
   "cell_type": "markdown",
   "metadata": {},
   "source": [
    "## 2. In addition to 2.2 - Promoter sequences and parameters\n",
    "The following is an example of a table as it should be created for the promoter sequences.\n",
    "\n",
    "<center>Table 1: Example table for the promoter sequences with an example sequence.<center>      \n",
    "\n",
    "<img src=\"PromoterTable_example.PNG\" width=\"1000\">"
   ]
  },
  {
   "cell_type": "markdown",
   "metadata": {},
   "source": [
    "# Further information on the dependence of the expression rate\n",
    "\n",
    "As said in the '1-Laboratory'-notebook the promoter strength is multiplied by the growth rate and the biomass concentration in order to determine the expression rate. The growth rate and the strength of the promoter can vary greatly depending, for example, on the growth temperature and on the nature of the promoter. The growth rate in turn has an influence on the maximum biomass that can be reached. Therefore, the expression rate as a function of growth rate and promoter strength will be shown below to better understand the influences on the final expression rate. The values refer to *P. putida*.       \n",
    "A total of three graphs can be seen. In one case the values of the promoter strength are in the same order of magnitude as the growth rate. In the other two graphs, the values are a little larger and a little smaller respectively.      \n",
    "To see the plot, you just have to execute the following code cell."
   ]
  },
  {
   "cell_type": "code",
   "execution_count": null,
   "metadata": {},
   "outputs": [],
   "source": [
    "from BioLabSimFun import Plot_ExpressionRate\n",
    "Plot_ExpressionRate()"
   ]
  }
 ],
 "metadata": {
  "kernelspec": {
   "display_name": "Python 3",
   "language": "python",
   "name": "python3"
  },
  "language_info": {
   "codemirror_mode": {
    "name": "ipython",
    "version": 3
   },
   "file_extension": ".py",
   "mimetype": "text/x-python",
   "name": "python",
   "nbconvert_exporter": "python",
   "pygments_lexer": "ipython3",
   "version": "3.7.6"
  }
 },
 "nbformat": 4,
 "nbformat_minor": 4
}
