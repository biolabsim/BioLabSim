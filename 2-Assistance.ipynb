{
 "cells": [
  {
   "cell_type": "markdown",
   "metadata": {},
   "source": [
    "# Help and further information\n",
    "***\n",
    "\n",
    "In this notebook you will find help for the different tasks during the simulation and at the end you will also find further information that can help you to understand the topics.\n",
    "\n",
    "# Examples for the Laboratory Tasks\n",
    "\n",
    "## 1. In addition to 2.1 - Calculating of the growth rate\n",
    "The following is an example graph of how it should be generated per cultivation to determine the growth rate at the respective temperature.       \n",
    "\n",
    "![Cultivation of Ecol at 35 °C](Ecol_cultivation_35DegreesCelsius.png)         \n",
    "       \n",
    "\n",
    "\n",
    "Figure 1: Cultivation of *E. coli* at 35 °C.      \n",
    "Shown is the mean value and the standard deviation of three biological replicates. The slope of the regression line is equal to the growth rate."
   ]
  },
  {
   "cell_type": "markdown",
   "metadata": {},
   "source": [
    "## 2. In addition to 2.2 - Promoter sequences and parameters\n",
    "The following is an example of a table as it should be created for the promoter sequences.\n",
    "\n",
    "Table 1: Example table for the promoter sequences with an example sequence.\n",
    "![example table promoter](example_promoter.png)"
   ]
  },
  {
   "cell_type": "code",
   "execution_count": null,
   "metadata": {},
   "outputs": [],
   "source": [
    "Start_BioLabSim"
   ]
  },
  {
   "cell_type": "markdown",
   "metadata": {},
   "source": [
    "Expression rate as a function of growth rate and promoter strength. The aim is to find out how both influencing variables are in the same order of magnitude.     \n",
    "assumption: The values of the promoter strength (y) are in range from 0.001 to 0.025 in case of *P. putida* respectively in range from 0.001 to 0.05 in case of *E. coli*.    \n",
    "The values of the growth rate (x) are in range from 0 to 1 on the basis of the standardisation.    \n",
    "The factor was determined using the values for *P. putida*. Accordingly, for *E. coli* the values for promoter strength and expression rate should be twice as high at the end."
   ]
  },
  {
   "cell_type": "code",
   "execution_count": null,
   "metadata": {},
   "outputs": [],
   "source": [
    "import numpy as np\n",
    "import matplotlib.pyplot as plt\n",
    "from mpl_toolkits.mplot3d import Axes3D\n",
    "\n",
    "x = np.linspace(0, 1, 50)\n",
    "\n",
    "ymin = 20*np.linspace(0.001, 0.025, 50)\n",
    "ym = 40*np.linspace(0.001, 0.025, 50) # factor = 1:0,025, so that x and y are in the same order of magnitude\n",
    "ymax = 60*np.linspace(0.001, 0.025, 50)\n",
    "# factor was adjusted again in the script, otherwise scatter was too big\n",
    "\n",
    "X, Ymin = np.meshgrid(x, ymin)\n",
    "X, Ym = np.meshgrid(x, ym)\n",
    "X, Ymax = np.meshgrid(x, ymax)"
   ]
  },
  {
   "cell_type": "code",
   "execution_count": null,
   "metadata": {},
   "outputs": [],
   "source": [
    "# 3D plot to to find out the connection and visualize the influence of the factors\n",
    "fig = plt.figure(figsize = (6,6), dpi = 120)\n",
    "ax = plt.axes(projection='3d')\n",
    "\n",
    "Z = np.multiply(X,Ymin)\n",
    "ax.contour3D(X, Ymin, Z, 20, cmap='binary')\n",
    "Z = np.multiply(X,Ym)\n",
    "ax.contour3D(X, Ym, Z, 20)\n",
    "Z = np.multiply(X,Ymax)\n",
    "ax.contour3D(X, Ymax, Z, 20, cmap='inferno')\n",
    "\n",
    "ax.set_xlabel('growth rate')\n",
    "ax.set_ylabel('promoter strength')\n",
    "ax.set_zlabel('expression rate');"
   ]
  },
  {
   "cell_type": "code",
   "execution_count": null,
   "metadata": {},
   "outputs": [],
   "source": [
    "'''As can be seen in the plot, the factor by which the promoter strength is multiplied does not change\n",
    "the influence of this strength.\n",
    "The factor can be used to influence the range of the promoter strength and thus the range\n",
    "of the final expression rate.'''"
   ]
  }
 ],
 "metadata": {
  "kernelspec": {
   "display_name": "Python 3",
   "language": "python",
   "name": "python3"
  },
  "language_info": {
   "codemirror_mode": {
    "name": "ipython",
    "version": 3
   },
   "file_extension": ".py",
   "mimetype": "text/x-python",
   "name": "python",
   "nbconvert_exporter": "python",
   "pygments_lexer": "ipython3",
   "version": "3.7.6"
  }
 },
 "nbformat": 4,
 "nbformat_minor": 4
}
