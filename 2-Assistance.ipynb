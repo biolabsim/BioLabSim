{
 "cells": [
  {
   "cell_type": "markdown",
   "metadata": {},
   "source": [
    "# Help and Further Information\n",
    "***\n",
    "\n",
    "In this notebook you will find help for the different tasks during the simulation and at the end you will also find further information that can help you to understand the topics.\n",
    "\n",
    "# Examples for the Laboratory Tasks\n",
    "\n",
    "## 1. In addition to 2.1 - Calculating of the growth rate\n",
    "The following is an example graph of how it should be generated per cultivation to determine the growth rate at the respective temperature.       \n",
    "      \n",
    "      \n",
    "<img src=\"StrainCharacterization_example.png\" width=\"600\">         \n",
    "\n",
    "\n",
    "Figure 1: Cultivation of Ecol at 35 °C.      \n",
    "Shown is the mean value and the standard deviation of three biological replicates.      \n",
    "The slope of the regression line is equal to the growth rate."
   ]
  },
  {
   "cell_type": "markdown",
   "metadata": {},
   "source": [
    "## 2. In addition to 2.2 - Promoter sequences and parameters\n",
    "The following is an example of a table as it should be created for the promoter sequences.\n",
    "\n",
    "<center>Table 1: Example table for the promoter sequences with an example sequence.<center>      \n",
    "\n",
    "<img src=\"PromoterTable_example.PNG\" width=\"1000\">"
   ]
  }
 ],
 "metadata": {
  "kernelspec": {
   "display_name": "Python 3",
   "language": "python",
   "name": "python3"
  },
  "language_info": {
   "codemirror_mode": {
    "name": "ipython",
    "version": 3
   },
   "file_extension": ".py",
   "mimetype": "text/x-python",
   "name": "python",
   "nbconvert_exporter": "python",
   "pygments_lexer": "ipython3",
   "version": "3.9.1"
  }
 },
 "nbformat": 4,
 "nbformat_minor": 4
}
