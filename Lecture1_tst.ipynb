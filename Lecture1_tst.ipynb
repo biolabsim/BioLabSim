{
 "cells": [
  {
   "cell_type": "code",
   "execution_count": null,
   "metadata": {},
   "outputs": [],
   "source": [
    "# Loading of important functionalities for the notebook:\n",
    "# Loading numpy, a library fo manipulation of numbers:\n",
    "import os\n",
    "import numpy as np\n",
    "# Loading matplotlib, a library for visualization:\n",
    "import matplotlib.pyplot as plt\n",
    "%matplotlib inline\n",
    "\n",
    "# Initialization, loading of all laboratory functionalities and stored models and information of the organisms:\n",
    "from BioLabSim.ModuleVirtualOrganism.HostSetup import Host, Strain\n",
    "from BioLabSim.ModuleMeasureOrganism.Physiology import Help_TempGrowthExp\n",
    "\n",
    "\n",
    "print('System ready')"
   ]
  },
  {
   "cell_type": "code",
   "execution_count": null,
   "metadata": {},
   "outputs": [],
   "source": [
    "# User input is required in the following code lines:\n",
    "\n",
    "# To choose the host organism replace None in the 'Mutant'-command with the abbreviation:\n",
    "myhost = Host('Ecol')\n",
    "\n",
    "\n",
    "# No user input necessary in the following code lines:\n",
    "\n",
    "# host organism and remaining resources are displayed:\n",
    "myhost.show_BiotechSetting()\n",
    "print(vars(myhost))"
   ]
  },
  {
   "cell_type": "code",
   "execution_count": null,
   "metadata": {},
   "outputs": [],
   "source": [
    "myhost.Test()"
   ]
  },
  {
   "cell_type": "code",
   "execution_count": null,
   "metadata": {},
   "outputs": [],
   "source": [
    "myhost.show_BiotechSetting()"
   ]
  },
  {
   "cell_type": "code",
   "execution_count": null,
   "metadata": {},
   "outputs": [],
   "source": [
    "# User input is required in the following code lines:\n",
    "\n",
    "# When you have thought about the temperatures you want to test, type them one by one into the following 'temperatures'-vector by replacing 'None' with the vector as shown in the example above.\n",
    "temperatures = np.array([32])\n",
    "# If you want to change the experiemnts_ID, replace 1 with another number. If this is not the case, no user input is required here.\n",
    "experiments_ID = 1 # Definition of an ID for the set of experiments\n",
    "\n",
    "\n",
    "# No user input necessary in all subsequent lines of code:\n",
    "\n",
    "# cultivations of your strain at the different temperatures one by one:\n",
    "myhost.make_TempGrowthExp(temperatures, experiments_ID)\n",
    "\n",
    "# host organism and remaining resources are displayed:\n",
    "myhost.show_BiotechSetting()"
   ]
  },
  {
   "cell_type": "code",
   "execution_count": null,
   "metadata": {},
   "outputs": [],
   "source": [
    "Clone_ID1 = 'Clone_1'\n",
    "Promoter1 = 'GCCCATTGACAAGGCTCTCGCGGCCACCTATAATTGCACG'\n",
    "Primer1 =   'CGGGTAACTGTTCCGAGAGCGCCGG'\n",
    "Tm = 62 # melting temperature\n",
    "\n",
    "# cloning:\n",
    "myhost.make_Cloning(Clone_ID1, Promoter1, Primer1, Tm)\n",
    "\n",
    "\n",
    "# No user input necessary in all subsequent lines of code:\n",
    "\n",
    "# displays the generated clones and their properties:\n",
    "myhost.show_Library()\n",
    "# host organism and remaining resources are displayed:\n",
    "myhost.show_BiotechSetting()"
   ]
  },
  {
   "cell_type": "code",
   "execution_count": null,
   "metadata": {},
   "outputs": [],
   "source": [
    "myhost.measure_PromoterStrength('Clone_1')\n",
    "\n",
    "\n",
    "# No user input necessary in all subsequent lines of code:\n",
    "\n",
    "# displays the generated clones,their properties and their performance:\n",
    "myhost.show_Library()\n",
    "# host organism and remaining resources are displayed:\n",
    "myhost.show_BiotechSetting()"
   ]
  },
  {
   "cell_type": "code",
   "execution_count": null,
   "metadata": {},
   "outputs": [],
   "source": [
    "myhost.show_TargetExpressionRate()\n",
    "\n",
    "# User input is required in the following code lines:\n",
    "\n",
    "# To perform the production experiment replace None with the Clone_ID variable name of your best performing clone, the optimal growth temperature, the corresponding maximum growth rate and the maximum biomass (in this order).\n",
    "myhost.measure_ProductionExperiment('Clone_1', 30, 1, 50)\n",
    "\n",
    "\n",
    "# No user input necessary in all subsequent lines of code:\n",
    "\n",
    "# displays the generated clones, their properties and their performance:\n",
    "myhost.show_Library()\n",
    "# host organism and remaining resources are displayed:\n",
    "myhost.show_BiotechSetting()"
   ]
  },
  {
   "cell_type": "code",
   "execution_count": null,
   "metadata": {},
   "outputs": [],
   "source": [
    "from BioLabSim.ModuleMeasureOrganism.Sequencing import Help_PromoterStrength\n",
    "\n",
    "Help_PromoterStrength('Ecol', 'GCCCATTGACAAGGCTCTCGCGGCCACCTATAATTGCACG', Scaler=1)"
   ]
  },
  {
   "cell_type": "code",
   "execution_count": null,
   "metadata": {},
   "outputs": [],
   "source": [
    "if myhost.var_Library['Clone_1']['Expression_Rate'] == achieveExpRate:\n",
    "    print('Functional: Expression experiment')\n"
   ]
  }
 ],
 "metadata": {
  "kernelspec": {
   "display_name": "Python 3",
   "language": "python",
   "name": "python3"
  },
  "language_info": {
   "codemirror_mode": {
    "name": "ipython",
    "version": 3
   },
   "file_extension": ".py",
   "mimetype": "text/x-python",
   "name": "python",
   "nbconvert_exporter": "python",
   "pygments_lexer": "ipython3",
   "version": "3.7.6"
  }
 },
 "nbformat": 4,
 "nbformat_minor": 4
}
