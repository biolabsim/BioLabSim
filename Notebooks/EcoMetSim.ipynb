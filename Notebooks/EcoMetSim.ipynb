{
 "cells": [
  {
   "cell_type": "markdown",
   "metadata": {},
   "source": [
    "# Microbial Metabolism Analysis\n",
    "\n",
    "<hr>"
   ]
  },
  {
   "cell_type": "markdown",
   "metadata": {},
   "source": [
    "## Introduction\n",
    "<hr>"
   ]
  },
  {
   "cell_type": "markdown",
   "metadata": {},
   "source": [
    "$\\color{darkblue}{\\textbf{learning outcome}}$\n",
    "- how to use GSMMs for analysis of matbolism\n",
    "- working with *E. coli* metabolism\n",
    "- working with gene databases, getting to know them, becoming faster in finding reactions/metabolites\n",
    "- educating Data-Analysis \n",
    "- figures for easier understanding\n",
    "<hr>\n",
    "\n",
    "Genome Scale Metabolic Models (GSMMs) (sind eine rekonstruktion der 'wahren' Welt in form von code.) contain all metabolic information of a biological system and break them down into a mathematical model. This allows in-depth insight into molecular mechanisms of organisms and enables the analysis of metabolic pathways.\\\n",
    "Metabolites running in the glycolysis or TCA-Cycle are utilized in this Notebook to simulate the *E. coli* metabolism.\n",
    "\n",
    "$\\color{darkblue}{\\text{Glycolysis:}}$\\\n",
    "Glycolysis is one component of the central metabolism and is an amphibolic pathway (involves both anabomlism and catabolism) because it can reversibly produce hexoses from varius low-moleculr weight molecules. (Dafür ein Beispeil finden und diskutieren!!!) It produces six precursor metabolites that are starting materials for the biosynthesis of building blocks for macromolecules and other needed small molecules. Therefore its functioning under all conditions is essential.\\\n",
    "\n",
    "$\\color{darkblue}{\\text{TCA-Cycle:}}$\\\n",
    "The TCA-Cycle is another component of the central metabolism and is a catabolic pathway of aerobic respiration. It generates energy (ATP) and also precursors for biosynthesis.\n",
    "\n",
    "The model makes metabolic pathway analysis easy, because is breaks down the pathways into their respective reactions and enzymes.\n",
    "The *E. coli* core model contains only 137 genes, 95 reactions and 72 metabolites, what makes working with this model easier and more time efficient. \n",
    "The related flux balance analysis seeks to mathematically simulate metabolism in genome-scale reconstructions of metabolic network.  \n",
    "\n",
    "Table Comparison Databases: \n",
    "- $\\color{darkblue}{\\text{KEGG:}}$ Kyoto Encyclopedia of Genes and Genomes (KEGG) is a bioinformatics database containing information about genes, proteins, reactions and pathways. With the 'KEGG Pathway' option it is possible to find pathway maps in which the metabolite ID can be searched and is afterwards highlighted in the map.\n",
    "- $\\color{darkblue}{\\text{BioCyc/EcoCyc:}}$ is a collection of Pathway/Genome databases for model organisms and contains software tools to explore them. The 'Metabolic Map' option makes finding metabolic pathways easy and time efficient by typing in the 'map-name'.\n",
    "- $\\color{darkblue}{\\text{BiGG:}}$ (Ulf/Aziz fragen!!)\n",
    "- $\\color{darkblue}{\\text{ChatGPT:}}$ noch ausprobieren!!!! \n",
    "\n",
    "Database| Enzymes| Genes| Reactions| Pathways| Metabolites\n",
    ":-------:|:-------:|:-------:|:-------:|:-------:|:-------:\n",
    "KEGG       | X | X | X | X | X |\n",
    "BioCyc     | X | X | X | X | X |\n",
    "BiGG/Escher| X | X | X | X | X |\n",
    "ChatGPT    | ? | ? | ? | ? | ? |\n",
    "\n",
    "Tipps wie man mit Databases schnell ans Ziel gelangt. Wo mit dem Curser hin, wie dann mit dem Reaktionsnamen ID weiter umgehen.\n",
    "BiGG: Gib das verwendete model ein (*E. coli* core model), scrolle runter und öffne die Escher App. Du findest einen Überblick über alle metabolite und reaktionen im model (vorallem glycolyse und TCA Zyklus). Unter 'View' und dann 'Find' kannst du auch einzelne metabolite suchen und die anzeigen lassen. Durch scrollen mit dem curser über die Metabolite ID wird der name und weitere Informationen angezeigt, das gleiche, wenn du mit den curser über die reaktions ID fährst.    \n",
    "<hr>"
   ]
  },
  {
   "cell_type": "markdown",
   "metadata": {},
   "source": [
    "Text.... \n",
    "Students are supposed to find limited reaction with short Introduction to the topic. \n",
    "\n",
    "- put in their Matriculation-Number\n",
    "- get a sub-pro combination and product-rate\n",
    "- work with metabolism in KEGG etc.\n",
    "- find limited reaction\n",
    "<hr>"
   ]
  },
  {
   "cell_type": "markdown",
   "metadata": {},
   "source": [
    "Set up the computational environment by running this cell.\\\n",
    "Make sure all neccessary files (EcoMetSim_functions, images) are loaded."
   ]
  },
  {
   "cell_type": "code",
   "execution_count": 1,
   "metadata": {},
   "outputs": [
    {
     "name": "stdout",
     "output_type": "stream",
     "text": [
      "Cobra toolbox is already installed\n",
      "Done\n"
     ]
    }
   ],
   "source": [
    "# this code-cell sets up the computational environment for the notebook\n",
    "\n",
    "# file system and path operations\n",
    "# import os\n",
    "import numpy as np\n",
    "import random\n",
    "from random import *\n",
    "# import matplotlib.pyplot as plt\n",
    "\n",
    "# load cobra toolbox and install it if necessary\n",
    "from cobra.io import read_sbml_model\n",
    "print('Cobra toolbox is already installed')\n",
    "\n",
    "# load functions from the EcoMetSim toolbox\n",
    "from EcoMetSim_functions import *\n",
    "\n",
    "print('Done')"
   ]
  },
  {
   "cell_type": "markdown",
   "metadata": {},
   "source": [
    "## set up model\n",
    "In this cell you generate your individual pair of two metabolites that will operate as substrate and product.\\\n",
    "The Output displays the metabolite ID, the maximal possible product rate and the currently generated product rate.\n",
    "\n",
    "**Input:**\n",
    "- your student ID\n",
    "\n",
    "Replace None with the correct input."
   ]
  },
  {
   "cell_type": "code",
   "execution_count": 3,
   "metadata": {},
   "outputs": [
    {
     "name": "stdout",
     "output_type": "stream",
     "text": [
      "Loading existing file e_coli_core.xml.gz\n",
      "['pyr_e', 'succ_e'] [1.0, 0.26126126126126126]\n"
     ]
    }
   ],
   "source": [
    "Student_ID = 123456\n",
    "model, selected_pair, all_reactions, product, product_min, _ = make_metabolite_combination(Student_ID)\n",
    "print(selected_pair, product_min)"
   ]
  },
  {
   "cell_type": "markdown",
   "metadata": {},
   "source": [
    "You can generate a bar chart by executing this cell.\\\n",
    "It displays the maximal possible product flux and your current product flux. "
   ]
  },
  {
   "cell_type": "code",
   "execution_count": 4,
   "metadata": {},
   "outputs": [
    {
     "data": {
      "image/png": "[encoded data removed]",
      "text/plain": [
       "<Figure size 432x288 with 1 Axes>"
      ]
     },
     "metadata": {
      "needs_background": "light"
     },
     "output_type": "display_data"
    }
   ],
   "source": [
    "create_bar_chart(all_reactions, product_min)"
   ]
  },
  {
   "cell_type": "markdown",
   "metadata": {},
   "source": [
    "## Databases\n",
    "<hr>\n",
    "\n",
    "### Exercise: \n",
    "\n",
    "Have a look into the listed Databases to find pathway from substrate to product and associated reactions. \n",
    "Chose one Database that seems to work best for your combination and look at the reactions to chose one you would like to test in the Experiment.\n",
    "\n",
    "Put in the Metabolite ID of your substrate or product in 'None'. \\\n",
    "The Output gives you the KEGG_ID for your substrate and product which you can add to the KEGG link listed below.\\\n",
    "Copy the link for the TCA-Cycle or Clycolysis and just add the KEGG_ID into the search bar by adding +\"KEGG_ID\" without any spaces behind the link.\n",
    "\n",
    "$\\color{darkblue}{\\text{Tipps:}}$\n",
    "- Allgemeingültiges beschreiben\n",
    "- danach individuelle Tips, was ist bei der datenbank besonders, worüdber könnte man stolpern.\\\n",
    "BiGG: Gib das verwendete model ein (*E. coli* core model), scrolle runter und öffne die Escher App. Du findest einen Überblick über alle metabolite und reaktionen im model (vorallem glycolyse und TCA Zyklus). Unter 'View' und dann 'Find' kannst du auch einzelne metabolite suchen und die anzeigen lassen. Durch scrollen mit dem curser über die Metabolite ID wird der name und weitere Informationen angezeigt, das gleiche, wenn du mit den curser über die reaktions ID fährst.\n",
    "\n",
    "# Add different Databases!!!!\n",
    "\n",
    "**Input:**\n",
    "- Metabolite ID for substrate or product\n",
    "\n",
    "Replace 'None' with the correct input."
   ]
  },
  {
   "cell_type": "code",
   "execution_count": 5,
   "metadata": {},
   "outputs": [
    {
     "name": "stdout",
     "output_type": "stream",
     "text": [
      "C00022\n",
      "C00042\n",
      "pyr\n",
      "succ\n",
      "META:PYRUVATE\n",
      "META:SUC\n"
     ]
    }
   ],
   "source": [
    "# get KEGG ID for substrate \n",
    "print(model.metabolites.get_by_id('pyr_e').annotation['kegg.compound'])\n",
    "# get KEGG ID for product\n",
    "print(model.metabolites.get_by_id('succ_e').annotation['kegg.compound'])\n",
    "\n",
    "# get BiGG ID for substrate\n",
    "print(model.metabolites.get_by_id('pyr_e').annotation['bigg.metabolite'])\n",
    "# get BiGG ID for product\n",
    "print(model.metabolites.get_by_id('succ_e').annotation['bigg.metabolite'])\n",
    "\n",
    "# get EcoCyc ID for substrate\n",
    "print(model.metabolites.get_by_id('pyr_e').annotation['biocyc'])\n",
    "# get EcoCyc ID for product\n",
    "print(model.metabolites.get_by_id('succ_e').annotation['biocyc'])\n",
    "\n",
    "# https://www.genome.jp/pathway/map00020 +KEGG_ID # KEGG TCA-cycle\n",
    "# https://www.genome.jp/pathway/map00010 +KEGG_ID # KEGG Glycolysis\n",
    "# BiGG/Escher Glycolysis\n",
    "# BiGG/Escher TCA-cycle\n",
    "# EcoCyc Glycolysis\n",
    "# EcoCyc TCA-cycle\n",
    "# https://chatgpt.com # ChatGPT"
   ]
  },
  {
   "cell_type": "markdown",
   "metadata": {},
   "source": [
    "The next two Code-cells might help to find the reaction ID you're looking for. By searching the metabolite and the reactions this metabolite participates in, you get information about the reaction name, reaction itself and the reaction ID. Consider Capital letters for the first letter. \n",
    "\n",
    "**Input:**\n",
    "- first None: the metabolite name or any short form to find the metabolite ID\n",
    "- second None: metabolite ID you extracted before to get information about the reaction"
   ]
  },
  {
   "cell_type": "code",
   "execution_count": null,
   "metadata": {},
   "outputs": [
    {
     "data": {
      "text/plain": [
       "[<Metabolite pyr_c at 0x7fe1a18422e0>, <Metabolite pyr_e at 0x7fe1a1842310>]"
      ]
     },
     "execution_count": 5,
     "metadata": {},
     "output_type": "execute_result"
    }
   ],
   "source": [
    "search_met = 'Pyr'\n",
    "model.metabolites.query(search_met, 'name') # --> no need, bacause met ID shown in selecetd_pair above?? "
   ]
  },
  {
   "cell_type": "code",
   "execution_count": null,
   "metadata": {},
   "outputs": [
    {
     "data": {
      "text/plain": [
       "[['EX_pyr_e', 'Pyruvate exchange', 'pyr_e <=> '],\n",
       " ['PYRt2',\n",
       "  'Pyruvate transport in via proton symport',\n",
       "  'h_e + pyr_e <=> h_c + pyr_c']]"
      ]
     },
     "execution_count": 6,
     "metadata": {},
     "output_type": "execute_result"
    }
   ],
   "source": [
    "met_reactions = 'pyr_e'\n",
    "# list comprehension to show all reactions that contain the metabolite\n",
    "[[reaction.id, reaction.name, reaction.reaction] for reaction in model.metabolites.get_by_id(met_reactions).reactions]"
   ]
  },
  {
   "cell_type": "markdown",
   "metadata": {},
   "source": [
    "## Experiment\n",
    "<hr>\n",
    "\n",
    "**Input:** \n",
    "- any reaction ID of your choice. Consider using the code-cells above to find right reaction ID for this model.\n",
    "\n",
    "Repalce 'None' with the correct input."
   ]
  },
  {
   "cell_type": "code",
   "execution_count": 15,
   "metadata": {},
   "outputs": [
    {
     "name": "stdout",
     "output_type": "stream",
     "text": [
      "['pyr_e --> succ_e', 'pyr_e --> succ_e limited', 'CYTBD', 'CYTBD', 'CYTBD', 'CYTBD']\n",
      "CYTBD\n"
     ]
    }
   ],
   "source": [
    "# reaction ID of choice \n",
    "target_reaction = 'CYTBD'\n",
    "\n",
    "# add reaction ID to list of all reactions\n",
    "all_reactions.append(target_reaction)\n",
    "print(all_reactions)\n",
    "print(target_reaction)\n",
    "\n",
    "# optimize the model with reaction ID\n",
    "model = optimize_reaction(model, target_reaction)\n",
    "product_min.append(round(model.slim_optimize(),2) / product)"
   ]
  },
  {
   "cell_type": "code",
   "execution_count": 16,
   "metadata": {},
   "outputs": [
    {
     "name": "stdout",
     "output_type": "stream",
     "text": [
      "[1.0, 0.26126126126126126, 0.4126126126126126, 0.5873873873873874, 0.8504504504504504, 1.0]\n"
     ]
    }
   ],
   "source": [
    "print(product_min)"
   ]
  },
  {
   "cell_type": "markdown",
   "metadata": {},
   "source": [
    "Here you can extend the bar chart to show the reaction ID you put in above and the product flux associated to that reaction. Compare the old product flux with the newly generated and decide if your chosen reaction ID is correct.\\\n",
    "If the reaction ID is correct try to extend the product flux even more, you may even be able to reach the old production rate."
   ]
  },
  {
   "cell_type": "code",
   "execution_count": 17,
   "metadata": {},
   "outputs": [
    {
     "data": {
      "image/png": "[encoded data removed]",
      "text/plain": [
       "<Figure size 432x288 with 1 Axes>"
      ]
     },
     "metadata": {
      "needs_background": "light"
     },
     "output_type": "display_data"
    }
   ],
   "source": [
    "# check if reaction ID is correct and model is optimized\n",
    "create_bar_chart(all_reactions, product_min)"
   ]
  }
 ],
 "metadata": {
  "kernelspec": {
   "display_name": "base",
   "language": "python",
   "name": "python3"
  },
  "language_info": {
   "codemirror_mode": {
    "name": "ipython",
    "version": 3
   },
   "file_extension": ".py",
   "mimetype": "text/x-python",
   "name": "python",
   "nbconvert_exporter": "python",
   "pygments_lexer": "ipython3",
   "version": "3.9.12"
  }
 },
 "nbformat": 4,
 "nbformat_minor": 2
}
