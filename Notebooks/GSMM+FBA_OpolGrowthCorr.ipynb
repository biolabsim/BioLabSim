{
 "cells": [
  {
   "attachments": {},
   "cell_type": "markdown",
   "metadata": {
    "colab_type": "text",
    "id": "dPnMzwQ_IWwZ"
   },
   "source": [
    "# Seminar Quantitativ Microbiology 1: \n",
    "# Simulation of Genome Scale Metabolic Models with CobraPy\n",
    "\n",
    "## Introduction\n",
    "The seminar provides a guide of how to work with genome scale metabolic models (GSMM) of micro-organisms. This seminar extends the introduction to CobraPy from the seminar in Quantitative Microbiology 1. The goal of this seminar is to identify minimal medium composition, extract information about and selecting the appropriate biomass composition formula and testing the reproduction of experimental data by the GSMM. We examine a recent model of *Komagataella phaffii* (*P. pastoris*) ([Tomas-Gamisans et al., 2017](https://dx.doi.org/10.1111/1751-7915.12871)). This organism is of biotechnological relevance because it can glycosylate recombinant proteins for use as drugs and it can metabolize methanol as a potential alternative to petrol based chemistry ([Liebal et al., 2018](https://dx.doi.org/10.1016/j.mec.2018.e00075)).\n",
    "\n",
    "We will analyse the GSMM of *K. phaffii* to estimate for the exchange reactions the range of permissible flux values. This indicates which phenotypes we can expect during standard cultivation and can highlight easily overproduced metabolites. Subsequently, we will identify the minimal medium composition. An important property of GSMM is their ability to predict growth rates. We will extract experimentally measured growth rates for various substrates and compare them with predictions of the model. The data reproduction is exemplified with the substrates of methanol and glycerol and the self-learning task is to supplement growth rates based on glucose uptake rate from literature ([Lehnen et al., 2017](https://dx.doi.org/10.1016/j.meteno.2017.07.001)).\n",
    "\n",
    "The seminar uses Jupyter notebooks, a new way to use and visualize code in the web. Such a notebook is composed of a sequence of cells. Cells can be either text/comments, like this introduction, or it contains python code to be run. The output for each code-cell is shown directly below it. For a overview on Jupyter notebooks read [this review](https://www.nature.com/articles/d41586-018-07196-1).\n",
    "\n",
    "\n",
    "---\n",
    "\n",
    "## Tutorial Steps\n",
    "  * Set up of Python environment\n",
    "    * Basic libraries(sys, pandas, numpy, matplotlib, zipfile, cobrapy)\n",
    "  * Analysis of Genome Scale Metabolic Model\n",
    "    * Retrieval of GSMM for *K. phaffii*\n",
    "    * Flux variability of exchange reactions\n",
    "    * Minimal medium composition\n",
    "  * Experimental growth rate reproduction\n",
    "    * Familiarizing with biomass composition reactions\n",
    "    * Defining functions for correct biomass equation switch\n",
    "    * Data retrieval\n",
    "    * Simulation loop\n",
    "    * Graphical output\n"
   ]
  },
  {
   "attachments": {},
   "cell_type": "markdown",
   "metadata": {
    "colab_type": "text",
    "id": "ewTIEAb4Rb2G"
   },
   "source": [
    "## Set-up compute environment\n",
    "\n",
    "Before we can analyse GSMM, we have adjust the python environment that it integrates the cobrapy toolbox and downloading the GSMM.\n",
    "\n",
    "### Basic Python libraries \n",
    "Some libraries that facilitate data manipulation"
   ]
  },
  {
   "cell_type": "code",
   "execution_count": 1,
   "metadata": {},
   "outputs": [
    {
     "name": "stdout",
     "output_type": "stream",
     "text": [
      "Requirement already satisfied: biocircuits==0.1.11 in /home/ulf/anaconda3/envs/bls_py39/lib/python3.9/site-packages (from -r ../requirements.txt (line 1)) (0.1.11)\n",
      "Requirement already satisfied: biopython==1.79 in /home/ulf/anaconda3/envs/bls_py39/lib/python3.9/site-packages (from -r ../requirements.txt (line 2)) (1.79)\n",
      "Requirement already satisfied: cobra==0.29.0 in /home/ulf/anaconda3/envs/bls_py39/lib/python3.9/site-packages (from -r ../requirements.txt (line 3)) (0.29.0)\n",
      "Requirement already satisfied: matplotlib==3.5.1 in /home/ulf/anaconda3/envs/bls_py39/lib/python3.9/site-packages (from -r ../requirements.txt (line 7)) (3.5.1)\n",
      "Requirement already satisfied: numpy==1.23.5 in /home/ulf/anaconda3/envs/bls_py39/lib/python3.9/site-packages (from -r ../requirements.txt (line 8)) (1.23.5)\n",
      "Requirement already satisfied: openpyxl==3.1.0 in /home/ulf/anaconda3/envs/bls_py39/lib/python3.9/site-packages (from -r ../requirements.txt (line 9)) (3.1.0)\n",
      "Requirement already satisfied: pandas==2.2.2 in /home/ulf/anaconda3/envs/bls_py39/lib/python3.9/site-packages (from -r ../requirements.txt (line 10)) (2.2.2)\n",
      "Requirement already satisfied: setuptools in /home/ulf/anaconda3/envs/bls_py39/lib/python3.9/site-packages (from -r ../requirements.txt (line 13)) (67.6.0)\n",
      "Requirement already satisfied: scikit-learn==1.2.2 in /home/ulf/anaconda3/envs/bls_py39/lib/python3.9/site-packages (from -r ../requirements.txt (line 14)) (1.2.2)\n",
      "Requirement already satisfied: scipy==1.9.3 in /home/ulf/anaconda3/envs/bls_py39/lib/python3.9/site-packages (from -r ../requirements.txt (line 15)) (1.9.3)\n",
      "Requirement already satisfied: silvio==0.2.11 in /home/ulf/Documents/2109_BLS+SILVIO/silvio/src (from -r ../requirements.txt (line 16)) (0.2.11)\n",
      "Requirement already satisfied: wget==3.2 in /home/ulf/anaconda3/envs/bls_py39/lib/python3.9/site-packages (from -r ../requirements.txt (line 19)) (3.2)\n",
      "Requirement already satisfied: numba in /home/ulf/anaconda3/envs/bls_py39/lib/python3.9/site-packages (from biocircuits==0.1.11->-r ../requirements.txt (line 1)) (0.56.4)\n",
      "Requirement already satisfied: colorcet in /home/ulf/anaconda3/envs/bls_py39/lib/python3.9/site-packages (from biocircuits==0.1.11->-r ../requirements.txt (line 1)) (3.0.1)\n",
      "Requirement already satisfied: bokeh in /home/ulf/anaconda3/envs/bls_py39/lib/python3.9/site-packages (from biocircuits==0.1.11->-r ../requirements.txt (line 1)) (3.1.1)\n",
      "Requirement already satisfied: multiprocess in /home/ulf/anaconda3/envs/bls_py39/lib/python3.9/site-packages (from biocircuits==0.1.11->-r ../requirements.txt (line 1)) (0.70.14)\n",
      "Requirement already satisfied: tqdm in /home/ulf/anaconda3/envs/bls_py39/lib/python3.9/site-packages (from biocircuits==0.1.11->-r ../requirements.txt (line 1)) (4.65.0)\n",
      "Requirement already satisfied: eqtk in /home/ulf/anaconda3/envs/bls_py39/lib/python3.9/site-packages (from biocircuits==0.1.11->-r ../requirements.txt (line 1)) (0.1.3)\n",
      "Requirement already satisfied: importlib-resources in /home/ulf/anaconda3/envs/bls_py39/lib/python3.9/site-packages (from cobra==0.29.0->-r ../requirements.txt (line 3)) (5.12.0)\n",
      "Requirement already satisfied: ruamel.yaml~=0.16 in /home/ulf/anaconda3/envs/bls_py39/lib/python3.9/site-packages (from cobra==0.29.0->-r ../requirements.txt (line 3)) (0.17.21)\n",
      "Requirement already satisfied: diskcache~=5.0 in /home/ulf/anaconda3/envs/bls_py39/lib/python3.9/site-packages (from cobra==0.29.0->-r ../requirements.txt (line 3)) (5.4.0)\n",
      "Requirement already satisfied: pydantic>=1.6 in /home/ulf/anaconda3/envs/bls_py39/lib/python3.9/site-packages (from cobra==0.29.0->-r ../requirements.txt (line 3)) (1.9.0)\n",
      "Requirement already satisfied: swiglpk in /home/ulf/anaconda3/envs/bls_py39/lib/python3.9/site-packages (from cobra==0.29.0->-r ../requirements.txt (line 3)) (5.0.10)\n",
      "Requirement already satisfied: future in /home/ulf/anaconda3/envs/bls_py39/lib/python3.9/site-packages (from cobra==0.29.0->-r ../requirements.txt (line 3)) (0.18.2)\n",
      "Requirement already satisfied: depinfo~=2.2 in /home/ulf/anaconda3/envs/bls_py39/lib/python3.9/site-packages (from cobra==0.29.0->-r ../requirements.txt (line 3)) (2.2.0)\n",
      "Requirement already satisfied: httpx~=0.24 in /home/ulf/anaconda3/envs/bls_py39/lib/python3.9/site-packages (from cobra==0.29.0->-r ../requirements.txt (line 3)) (0.27.0)\n",
      "Requirement already satisfied: python-libsbml~=5.19 in /home/ulf/anaconda3/envs/bls_py39/lib/python3.9/site-packages (from cobra==0.29.0->-r ../requirements.txt (line 3)) (5.19.0)\n",
      "Requirement already satisfied: appdirs~=1.4 in /home/ulf/anaconda3/envs/bls_py39/lib/python3.9/site-packages (from cobra==0.29.0->-r ../requirements.txt (line 3)) (1.4.4)\n",
      "Requirement already satisfied: rich>=8.0 in /home/ulf/anaconda3/envs/bls_py39/lib/python3.9/site-packages (from cobra==0.29.0->-r ../requirements.txt (line 3)) (12.2.0)\n",
      "Requirement already satisfied: optlang~=1.8 in /home/ulf/anaconda3/envs/bls_py39/lib/python3.9/site-packages (from cobra==0.29.0->-r ../requirements.txt (line 3)) (1.8.1)\n",
      "Requirement already satisfied: kiwisolver>=1.0.1 in /home/ulf/anaconda3/envs/bls_py39/lib/python3.9/site-packages (from matplotlib==3.5.1->-r ../requirements.txt (line 7)) (1.4.2)\n",
      "Requirement already satisfied: cycler>=0.10 in /home/ulf/anaconda3/envs/bls_py39/lib/python3.9/site-packages (from matplotlib==3.5.1->-r ../requirements.txt (line 7)) (0.11.0)\n",
      "Requirement already satisfied: pillow>=6.2.0 in /home/ulf/anaconda3/envs/bls_py39/lib/python3.9/site-packages (from matplotlib==3.5.1->-r ../requirements.txt (line 7)) (9.4.0)\n",
      "Requirement already satisfied: packaging>=20.0 in /home/ulf/.local/lib/python3.9/site-packages (from matplotlib==3.5.1->-r ../requirements.txt (line 7)) (21.3)\n",
      "Requirement already satisfied: python-dateutil>=2.7 in /home/ulf/.local/lib/python3.9/site-packages (from matplotlib==3.5.1->-r ../requirements.txt (line 7)) (2.8.2)\n",
      "Requirement already satisfied: fonttools>=4.22.0 in /home/ulf/anaconda3/envs/bls_py39/lib/python3.9/site-packages (from matplotlib==3.5.1->-r ../requirements.txt (line 7)) (4.31.2)\n",
      "Requirement already satisfied: pyparsing>=2.2.1 in /home/ulf/.local/lib/python3.9/site-packages (from matplotlib==3.5.1->-r ../requirements.txt (line 7)) (3.0.9)\n",
      "Requirement already satisfied: et-xmlfile in /home/ulf/anaconda3/envs/bls_py39/lib/python3.9/site-packages (from openpyxl==3.1.0->-r ../requirements.txt (line 9)) (1.1.0)\n",
      "Requirement already satisfied: tzdata>=2022.7 in /home/ulf/anaconda3/envs/bls_py39/lib/python3.9/site-packages/tzdata-2024.1-py3.9.egg (from pandas==2.2.2->-r ../requirements.txt (line 10)) (2024.1)\n",
      "Requirement already satisfied: pytz>=2020.1 in /home/ulf/anaconda3/envs/bls_py39/lib/python3.9/site-packages (from pandas==2.2.2->-r ../requirements.txt (line 10)) (2022.7.1)\n",
      "Requirement already satisfied: threadpoolctl>=2.0.0 in /home/ulf/.local/lib/python3.9/site-packages (from scikit-learn==1.2.2->-r ../requirements.txt (line 14)) (3.1.0)\n",
      "Requirement already satisfied: joblib>=1.1.1 in /home/ulf/anaconda3/envs/bls_py39/lib/python3.9/site-packages (from scikit-learn==1.2.2->-r ../requirements.txt (line 14)) (1.4.2)\n",
      "Requirement already satisfied: pickleshare~=0.7 in /home/ulf/.local/lib/python3.9/site-packages (from silvio==0.2.11->-r ../requirements.txt (line 16)) (0.7.5)\n",
      "Requirement already satisfied: jinja2==3.0.3 in /home/ulf/anaconda3/envs/bls_py39/lib/python3.9/site-packages (from silvio==0.2.11->-r ../requirements.txt (line 16)) (3.0.3)\n",
      "Requirement already satisfied: MarkupSafe>=2.0 in /home/ulf/anaconda3/envs/bls_py39/lib/python3.9/site-packages (from jinja2==3.0.3->silvio==0.2.11->-r ../requirements.txt (line 16)) (2.1.2)\n",
      "Requirement already satisfied: idna in /home/ulf/anaconda3/envs/bls_py39/lib/python3.9/site-packages (from httpx~=0.24->cobra==0.29.0->-r ../requirements.txt (line 3)) (3.10)\n",
      "Requirement already satisfied: httpcore==1.* in /home/ulf/anaconda3/envs/bls_py39/lib/python3.9/site-packages (from httpx~=0.24->cobra==0.29.0->-r ../requirements.txt (line 3)) (1.0.5)\n",
      "Requirement already satisfied: certifi in /home/ulf/anaconda3/envs/bls_py39/lib/python3.9/site-packages (from httpx~=0.24->cobra==0.29.0->-r ../requirements.txt (line 3)) (2024.12.14)\n",
      "Requirement already satisfied: anyio in /home/ulf/anaconda3/envs/bls_py39/lib/python3.9/site-packages (from httpx~=0.24->cobra==0.29.0->-r ../requirements.txt (line 3)) (3.5.0)\n",
      "Requirement already satisfied: sniffio in /home/ulf/anaconda3/envs/bls_py39/lib/python3.9/site-packages (from httpx~=0.24->cobra==0.29.0->-r ../requirements.txt (line 3)) (1.2.0)\n",
      "Requirement already satisfied: h11<0.15,>=0.13 in /home/ulf/anaconda3/envs/bls_py39/lib/python3.9/site-packages (from httpcore==1.*->httpx~=0.24->cobra==0.29.0->-r ../requirements.txt (line 3)) (0.14.0)\n",
      "Requirement already satisfied: sympy>=1.12.0 in /home/ulf/anaconda3/envs/bls_py39/lib/python3.9/site-packages (from optlang~=1.8->cobra==0.29.0->-r ../requirements.txt (line 3)) (1.12)\n",
      "Requirement already satisfied: six>=1.9 in /home/ulf/.local/lib/python3.9/site-packages (from optlang~=1.8->cobra==0.29.0->-r ../requirements.txt (line 3)) (1.16.0)\n",
      "Requirement already satisfied: typing-extensions>=3.7.4.3 in /home/ulf/.local/lib/python3.9/site-packages (from pydantic>=1.6->cobra==0.29.0->-r ../requirements.txt (line 3)) (4.5.0)\n",
      "Requirement already satisfied: commonmark<0.10.0,>=0.9.0 in /home/ulf/anaconda3/envs/bls_py39/lib/python3.9/site-packages (from rich>=8.0->cobra==0.29.0->-r ../requirements.txt (line 3)) (0.9.1)\n",
      "Requirement already satisfied: pygments<3.0.0,>=2.6.0 in /home/ulf/anaconda3/envs/bls_py39/lib/python3.9/site-packages (from rich>=8.0->cobra==0.29.0->-r ../requirements.txt (line 3)) (2.14.0)\n",
      "Requirement already satisfied: ruamel.yaml.clib>=0.2.6 in /home/ulf/anaconda3/envs/bls_py39/lib/python3.9/site-packages (from ruamel.yaml~=0.16->cobra==0.29.0->-r ../requirements.txt (line 3)) (0.2.6)\n",
      "Requirement already satisfied: contourpy>=1 in /home/ulf/anaconda3/envs/bls_py39/lib/python3.9/site-packages (from bokeh->biocircuits==0.1.11->-r ../requirements.txt (line 1)) (1.0.7)\n",
      "Requirement already satisfied: PyYAML>=3.10 in /home/ulf/anaconda3/envs/bls_py39/lib/python3.9/site-packages (from bokeh->biocircuits==0.1.11->-r ../requirements.txt (line 1)) (6.0)\n",
      "Requirement already satisfied: xyzservices>=2021.09.1 in /home/ulf/anaconda3/envs/bls_py39/lib/python3.9/site-packages (from bokeh->biocircuits==0.1.11->-r ../requirements.txt (line 1)) (2023.2.0)\n",
      "Requirement already satisfied: tornado>=5.1 in /home/ulf/.local/lib/python3.9/site-packages (from bokeh->biocircuits==0.1.11->-r ../requirements.txt (line 1)) (6.2)\n",
      "Requirement already satisfied: pyct>=0.4.4 in /home/ulf/anaconda3/envs/bls_py39/lib/python3.9/site-packages (from colorcet->biocircuits==0.1.11->-r ../requirements.txt (line 1)) (0.5.0)\n",
      "Requirement already satisfied: zipp>=3.1.0 in /home/ulf/anaconda3/envs/bls_py39/lib/python3.9/site-packages (from importlib-resources->cobra==0.29.0->-r ../requirements.txt (line 3)) (3.15.0)\n",
      "Requirement already satisfied: dill>=0.3.6 in /home/ulf/anaconda3/envs/bls_py39/lib/python3.9/site-packages (from multiprocess->biocircuits==0.1.11->-r ../requirements.txt (line 1)) (0.3.6)\n",
      "Requirement already satisfied: llvmlite<0.40,>=0.39.0dev0 in /home/ulf/anaconda3/envs/bls_py39/lib/python3.9/site-packages (from numba->biocircuits==0.1.11->-r ../requirements.txt (line 1)) (0.39.1)\n",
      "Requirement already satisfied: param>=1.7.0 in /home/ulf/anaconda3/envs/bls_py39/lib/python3.9/site-packages (from pyct>=0.4.4->colorcet->biocircuits==0.1.11->-r ../requirements.txt (line 1)) (1.13.0)\n",
      "Requirement already satisfied: mpmath>=0.19 in /home/ulf/anaconda3/envs/bls_py39/lib/python3.9/site-packages (from sympy>=1.12.0->optlang~=1.8->cobra==0.29.0->-r ../requirements.txt (line 3)) (1.2.1)\n",
      "Environment ready.\n"
     ]
    }
   ],
   "source": [
    "# Adapting environment to GitHub or Google Colab\n",
    "# In GitHub, the full repository is available with all directories, and libraries can be installed with pip on requirements.txt\n",
    "# In Google Colab only the selected notebook is loaded and the requirements file must be downloaded from GitHub before installation.\n",
    "# \n",
    "\n",
    "# file system and path operations\n",
    "import os\n",
    "import sys\n",
    "if 'google.colab' in sys.modules:\n",
    "    IN_COLAB = True\n",
    "    # Download the requirements file\n",
    "    os.system('wget https://raw.githubusercontent.com/biolabsim/BioLabSim/refs/heads/master/requirements.txt')\n",
    "    os.system('pip install -r requirements.txt')\n",
    "else:\n",
    "    IN_COLAB = False\n",
    "    os.system('pip install -r ../requirements.txt')\n",
    "\n",
    "print('Environment ready.')"
   ]
  },
  {
   "cell_type": "code",
   "execution_count": 2,
   "metadata": {},
   "outputs": [
    {
     "name": "stdout",
     "output_type": "stream",
     "text": [
      "Done\n"
     ]
    }
   ],
   "source": [
    "# file system and path operations\n",
    "import os\n",
    "import numpy as np\n",
    "import pandas as pd\n",
    "import matplotlib.pyplot as plt\n",
    "%matplotlib inline\n",
    "\n",
    "from IPython.utils import io\n",
    "\n",
    "# load wget and install it if necessary\n",
    "import wget\n",
    "from cobra.io import read_sbml_model\n",
    "\n",
    "import zipfile\n",
    "\n",
    "\n",
    "print('Done')"
   ]
  },
  {
   "attachments": {},
   "cell_type": "markdown",
   "metadata": {
    "colab_type": "text",
    "id": "lTzR-LCwR18N"
   },
   "source": [
    "## Analysis of Genome Scale Metabolic Model\n",
    "\n",
    "### Retrieval of GSMM for *K. phaffii*\n",
    "\n",
    "*K. phaffii* is an important biotechnological organism and several GSMMs have been generated. We will use the model generated by [Tomas-Gamisans et al., 2017](https://www.ncbi.nlm.nih.gov/pmc/articles/PMC5743807/#!po=67.8571). Please click on the link and find the additional data file for the model iMT1026v3 in the chapter \"Support Information\", right click on \"Click here for additional data file\" and select \"Copy link address\". In the next cell, replace the *None* after \"!wget\" with the link address.\n",
    "\n",
    "The zip-file \"MBT2-11-224-s003.zip\" with the SBML model of *K. phaffii* is unzipped into a new folder called `folder`. \n",
    "\n",
    "**Task**:\n",
    " - Replace the *None* with the web adress of the supplementary for the SBML model iMT1026v3 (use web adress without quotes)"
   ]
  },
  {
   "cell_type": "code",
   "execution_count": null,
   "metadata": {
    "colab": {},
    "colab_type": "code",
    "id": "J29I6wOhR261"
   },
   "outputs": [],
   "source": [
    "!wget None\n",
    "\n",
    "with zipfile.ZipFile('MBT2-11-224-s003.zip', 'r') as zip_ref:\n",
    "  zip_ref.extractall()\n",
    "\n",
    "print('File download and zip extraction done.')"
   ]
  },
  {
   "attachments": {},
   "cell_type": "markdown",
   "metadata": {
    "colab_type": "text",
    "id": "9XwIzjaSOyb1"
   },
   "source": [
    "### SBML extraction from zip-file\n",
    "Load the SBML model of K. phaffii located at `folder/mbt212871-sup-0003-AppendixS3.xml` as a cobrapy mode.\n",
    "\n",
    "**Task**:\n",
    " - Replace the *None* with the SBML file location"
   ]
  },
  {
   "cell_type": "code",
   "execution_count": null,
   "metadata": {
    "colab": {},
    "colab_type": "code",
    "id": "er5OlV2xNCeX"
   },
   "outputs": [],
   "source": [
    "# suppress output, because hundreds of warnings are generated\n",
    "with io.capture_output() as captured:\n",
    "  # generating cobra variable from SBML/xml file\n",
    "  model = read_sbml_model('None'); # \n",
    "print('model loaded!')   \n",
    "model"
   ]
  },
  {
   "attachments": {},
   "cell_type": "markdown",
   "metadata": {
    "colab_type": "text",
    "id": "Jn805mCObF2k"
   },
   "source": [
    "### Flux variability of exchange reactions\n",
    "\n",
    "Flux balance analysis provides a single optimal solution. Mostly, there exist a number of alternative flux distributions around the optimum, which can be physiologically relevant. To identify the variability of exchange fluxes around the optimum solution 'flux variability analysis' can be performed ([Mahadevan & Schilling, 2003](http://dx.doi.org/10.1016/j.ymben.2003.09.002)). Use the following command to identify minimum and maximum flux ranges of the model for the exchange reactions."
   ]
  },
  {
   "cell_type": "code",
   "execution_count": null,
   "metadata": {
    "colab": {},
    "colab_type": "code",
    "id": "2HiWV97jWhKI"
   },
   "outputs": [],
   "source": [
    "model.summary(fva=.95) # additional argument specifies allowed deviation from the optimum"
   ]
  },
  {
   "attachments": {},
   "cell_type": "markdown",
   "metadata": {
    "colab_type": "text",
    "id": "cvSOmwrZbNIG"
   },
   "source": [
    "### Media test\n",
    "The availability of nutrients has a major impact on metabolic fluxes and cobrapy provides some helpers to manage the exchanges between the external environment and the metabolic model. More detailed descriptions: [here](https://cobrapy.readthedocs.io/en/latest/media.html)"
   ]
  },
  {
   "cell_type": "code",
   "execution_count": null,
   "metadata": {
    "colab": {},
    "colab_type": "code",
    "id": "mEHqAD7nbL8n"
   },
   "outputs": [],
   "source": [
    "from cobra.medium import minimal_medium\n",
    "\n",
    "max_growth = model.slim_optimize()\n",
    "minimal_medium(model, max_growth, minimize_components=True)\n"
   ]
  },
  {
   "attachments": {},
   "cell_type": "markdown",
   "metadata": {
    "colab_type": "text",
    "id": "xpFf1wR0QX4L"
   },
   "source": [
    "## Experimental growth rate reproduction"
   ]
  },
  {
   "attachments": {},
   "cell_type": "markdown",
   "metadata": {
    "colab_type": "text",
    "id": "JsDpC6gVQigc"
   },
   "source": [
    "### Familiarizing with biomass composition reactions\n",
    "\n",
    "Microorganisms adapt to their substrate. Different substrates provide different energy content and require different cellular resources to become metabolized. In GSMM these differences may be represented by different equations/reactions for the substrates. In iMT1026 for *K. phaffii* there are various biomass equations for glucose, glycerol, glucose-glycerol mixtures, and methanol. When simulating a model, we have to make sure we use the right biomass equation fitting with the substrate.\n",
    "\n",
    "The output of the biomass search will generate a long list of different reactions. Specific reactions for different substrates may be needed if the biomass composition changes. The biomass composition might also change in response to different substrate uptake rates. Some of the biomass equations in the model are based on different relative uptake rates of glycerol and methanol (e.g., 80/20, 60/40, 40/60).\n",
    "\n",
    "**Task**:\n",
    " - Replace the *None* with 'BIOMASS'"
   ]
  },
  {
   "cell_type": "code",
   "execution_count": null,
   "metadata": {
    "colab": {},
    "colab_type": "code",
    "id": "DBNmaT-fRpQz"
   },
   "outputs": [],
   "source": [
    "# List of all reactions with 'BIOMASS' in their name\n",
    "model.reactions.query(None) # "
   ]
  },
  {
   "attachments": {},
   "cell_type": "markdown",
   "metadata": {},
   "source": [
    "Looking in detail to biomass with methanol; use the reaction name given to you from the list of all biomass reactions.\n",
    "\n",
    "**Task**:\n",
    " - Replace the *None* with the reaction name for methanol-based biomass accumulation."
   ]
  },
  {
   "cell_type": "code",
   "execution_count": null,
   "metadata": {},
   "outputs": [],
   "source": [
    "model.reactions.get_by_id(None) # "
   ]
  },
  {
   "attachments": {},
   "cell_type": "markdown",
   "metadata": {},
   "source": [
    "### Defining functions for correct biomass equation switch\n",
    "\n",
    "For each substrate, the boundary exchange fluxes are activated and the reactions of competing substrates are disabled. For each substrate a dedicated biomass equation is available in the model. Add the correct substrate-specific biomass equation ID in the functions below.\n",
    "\n",
    "**Task**\n",
    " - Replace the *None* with the reaction id of the corresponding substrate of the function"
   ]
  },
  {
   "cell_type": "code",
   "execution_count": null,
   "metadata": {},
   "outputs": [],
   "source": [
    "def AdaptGlucose(model, glc_up):\n",
    "  model.objective = 'BIOMASS'\n",
    "  # setting uptake reactions right\n",
    "  model.reactions.Ex_meoh.lower_bound = 0\n",
    "  model.reactions.Ex_glyc.lower_bound = 0\n",
    "  model.reactions.Ex_glc_D.lower_bound = -np.abs(glc_up)\n",
    "  # setting additional biomass composition\n",
    "  model.reactions.LIPIDS.upper_bound = 1000\n",
    "  model.reactions.PROTEINS.upper_bound = 1000\n",
    "  model.reactions.STEROLS.upper_bound = 1000\n",
    "  model.reactions.BIOMASS.upper_bound = 1000  \n",
    "  # deactivating Glyc-based biomass composition\n",
    "  model.reactions.LIPIDS_glyc.upper_bound = 0\n",
    "  model.reactions.PROTEINS_glyc.upper_bound = 0\n",
    "  model.reactions.STEROLS_glyc.upper_bound = 0\n",
    "  model.reactions.BIOMASS_glyc.upper_bound = 0  \n",
    " # deactivating meoh-based biomass composition\n",
    "  model.reactions.LIPIDS_meoh.upper_bound = 0\n",
    "  model.reactions.PROTEINS_meoh.upper_bound = 0\n",
    "  model.reactions.STEROLS_meoh.upper_bound = 0\n",
    "  model.reactions.BIOMASS_meoh.upper_bound = 0\n",
    "  return model\n",
    "\n",
    "def AdaptMethanol(model, meoh_up):\n",
    "  model.objective = None\n",
    "  # setting uptake reactions right\n",
    "  model.reactions.Ex_glc_D.lower_bound = 0\n",
    "  model.reactions.Ex_glyc.lower_bound = 0\n",
    "  model.reactions.ATPM.lower_bound = .4\n",
    "  model.reactions.Ex_meoh.lower_bound = -np.abs(meoh_up)\n",
    "  # setting additional biomass composition\n",
    "  model.reactions.LIPIDS_meoh.upper_bound = 1000\n",
    "  model.reactions.PROTEINS_meoh.upper_bound = 1000\n",
    "  model.reactions.STEROLS_meoh.upper_bound = 1000\n",
    "  model.reactions.BIOMASS_meoh.upper_bound = 1000\n",
    "  # deactivating Glyc-based biomass composition\n",
    "  model.reactions.LIPIDS_glyc.upper_bound = 0\n",
    "  model.reactions.PROTEINS_glyc.upper_bound = 0\n",
    "  model.reactions.STEROLS_glyc.upper_bound = 0\n",
    "  model.reactions.BIOMASS_glyc.upper_bound = 0  \n",
    "  # deactivating Glc-based biomass composition\n",
    "  model.reactions.LIPIDS.upper_bound = 0\n",
    "  model.reactions.PROTEINS.upper_bound = 0\n",
    "  model.reactions.STEROLS.upper_bound = 0\n",
    "  model.reactions.BIOMASS.upper_bound = 0  \n",
    "  return model\n",
    "\n",
    "def AdaptGlycerol(model, glyc_up):\n",
    "  model.objective = None\n",
    "  # setting uptake reactions right\n",
    "  model.reactions.Ex_meoh.lower_bound = 0\n",
    "  model.reactions.Ex_glc_D.lower_bound = 0\n",
    "  model.reactions.ATPM.lower_bound = 2.5\n",
    "  model.reactions.Ex_glyc.lower_bound = -np.abs(glyc_up)\n",
    "  # setting additional biomass composition\n",
    "  model.reactions.LIPIDS_glyc.upper_bound = 1000\n",
    "  model.reactions.PROTEINS_glyc.upper_bound = 1000\n",
    "  model.reactions.STEROLS_glyc.upper_bound = 1000\n",
    "  model.reactions.BIOMASS_glyc.upper_bound = 1000  \n",
    "  # deactivating MeOH-based biomass composition\n",
    "  model.reactions.LIPIDS_meoh.upper_bound = 0\n",
    "  model.reactions.PROTEINS_meoh.upper_bound = 0\n",
    "  model.reactions.STEROLS_meoh.upper_bound = 0\n",
    "  model.reactions.BIOMASS_meoh.upper_bound = 0\n",
    "  # deactivating Glc-based biomass composition\n",
    "  model.reactions.LIPIDS.upper_bound = 0\n",
    "  model.reactions.PROTEINS.upper_bound = 0\n",
    "  model.reactions.STEROLS.upper_bound = 0\n",
    "  model.reactions.BIOMASS.upper_bound = 0\n",
    "  return model\n",
    "\n",
    "\n",
    "print('Functions defined.')"
   ]
  },
  {
   "attachments": {},
   "cell_type": "markdown",
   "metadata": {},
   "source": [
    "### Data retrieval\n",
    "\n",
    "For evaluation of the growth rate prediction of the *K. phaffii* model we use experimental data from the closely related organism *Ogataea polymorpha*. The measurements in the table are extracted from [van Dijken et al. 1976](https://dx.doi.org/10.1007/bf00446560) for methanol and from [de Koning et al., 1987](https://dx.doi.org/10.1007/BF00456710) and [Moon et al., 2003](https://dx.doi.org/10.1385/ABAB:111:2:65). The data file is already available as csv `../Resources/Opol-expt-grwth_MeOH-Glyc.csv`.\n",
    "\n",
    "**Task**: \n",
    " - Replace the None with the csv file location. \n",
    " - (In **Google-Colab** use `wget` with the github file link `https://github.com/biolabsim/BioLabSim/raw/master/Resources/Opol-expt-grwth_MeOH-Glyc.csv`)"
   ]
  },
  {
   "cell_type": "code",
   "execution_count": null,
   "metadata": {},
   "outputs": [],
   "source": [
    "data = pd.read_csv('None', delimiter=',|;', engine='python') #\n",
    "data"
   ]
  },
  {
   "attachments": {},
   "cell_type": "markdown",
   "metadata": {},
   "source": [
    "### Adding new measurements\n",
    "We have conducted experiments with *O. polymorpha* wich we want to add to the table. The measurements are based on glucose and reported in [Lehnen et al., 2017](https://doi.org/10.1016/j.meteno.2017.07.001). The required information is the growth rate on glucose for *O. polymorpha*. Extract the necessary information from Table 3 in the article. The reaction name for the 'Exchange'-reaction is 'Ex_glc_D', replace this in the corresponding position of `None` in the cell below.\n",
    "\n",
    "**Task**:\n",
    " - Scan the paper [Lehnen et al., 2017](https://doi.org/10.1016/j.meteno.2017.07.001) for the glucose growth rate.\n",
    " - Replace the first *None* with the reaction ID for Glucose, the second *None* with the glucose uptake rate, the third *None* with the growth rate. (Important: Reaction name in quotes, numbers without quotes)\n",
    " - Alternative solution: \n",
    "   - Download the data file `data/Opol-expt-grwth_MeOH-Glyc.csv`\n",
    "   - Add a row with the Lehnen data\n",
    "   - Upload the data file\n",
    "   - Reload the data into the `data` variable with the previous cell"
   ]
  },
  {
   "cell_type": "code",
   "execution_count": null,
   "metadata": {
    "colab": {},
    "colab_type": "code",
    "id": "4mTMJvd0ZHFv"
   },
   "outputs": [],
   "source": [
    "data = data.append({'Substrate':'Glucose', 'Exchange':'None', 'uptake rate (mmol/gCDW/h)':None, 'growth rate (/h)':None, 'source':'Lehnen et al.'}, ignore_index=True)"
   ]
  },
  {
   "attachments": {},
   "cell_type": "markdown",
   "metadata": {
    "colab_type": "text",
    "id": "Wxe3Csg0TtYV"
   },
   "source": [
    "### Simulation loop\n",
    "For-Loop over all experimental data points.\n",
    "\n",
    "Remember to add a decision when you include glucose."
   ]
  },
  {
   "cell_type": "code",
   "execution_count": null,
   "metadata": {
    "colab": {},
    "colab_type": "code",
    "id": "TPyYPHrXUMs1"
   },
   "outputs": [],
   "source": [
    "growth_simulated = [];\n",
    "# iteration over all rows in 'data'\n",
    "for index, row in data.iterrows():\n",
    "  with model as test_model:\n",
    "    print(index) # printing the row number to get feedback that everything is working\n",
    "    # selecting the right substrate in the model based on 'Substrate' in 'data'\n",
    "    if row['Substrate'] == 'Methanol':\n",
    "      model = AdaptMethanol(test_model, row['uptake rate (mmol/gCDW/h)'])\n",
    "    elif row['Substrate'] == 'Glycerol':\n",
    "      model = AdaptGlycerol(test_model, row['uptake rate (mmol/gCDW/h)'])\n",
    "    elif row['Substrate'] == 'Glucose':\n",
    "      test_model = AdaptGlucose(test_model, row['uptake rate (mmol/gCDW/h)'])\n",
    "    else:\n",
    "      print('substrate not considered')      \n",
    "    growth_simulated.append(model.slim_optimize())"
   ]
  },
  {
   "attachments": {},
   "cell_type": "markdown",
   "metadata": {
    "colab_type": "text",
    "id": "aN5SDn5yWJER"
   },
   "source": [
    "### Graphical output\n",
    "\n",
    "**Tasks**:\n",
    " - Add the right axis labels, and a file name."
   ]
  },
  {
   "cell_type": "code",
   "execution_count": null,
   "metadata": {
    "colab": {},
    "colab_type": "code",
    "id": "1DG-7h3qWLRi"
   },
   "outputs": [],
   "source": [
    "plt.scatter(data['growth rate (/h)'][0:7], growth_simulated[0:7], s=50, c='k', marker='o');\n",
    "plt.scatter(data['growth rate (/h)'][7], growth_simulated[7], s=50, c='k', marker='s');\n",
    "plt.scatter(data['growth rate (/h)'][8], growth_simulated[8], s=50, c='k', marker='d');\n",
    "plt.xlabel('None');\n",
    "plt.ylabel('None');\n",
    "myline = np.linspace(0,np.max(growth_simulated),10);\n",
    "plt.plot(myline,myline,'k--');\n",
    "plt.title('Growth rate comparison');\n",
    "plt.legend(['Optimum', 'Methanol (van Dijken)', 'Glycerol (deKoning, Moon)', 'Glucose (Lehnen et al.)'], loc=2);\n",
    "plt.style.use('seaborn-paper')\n",
    "\n",
    "# Saving figure\n",
    "plt.savefig('None.png')"
   ]
  }
 ],
 "metadata": {
  "colab": {
   "collapsed_sections": [],
   "include_colab_link": true,
   "name": "2001_QuantMiBi1_CobraPy_SimVal.ipynb",
   "provenance": [],
   "toc_visible": true
  },
  "kernelspec": {
   "display_name": "bls_py39",
   "language": "python",
   "name": "python3"
  },
  "language_info": {
   "codemirror_mode": {
    "name": "ipython",
    "version": 3
   },
   "file_extension": ".py",
   "mimetype": "text/x-python",
   "name": "python",
   "nbconvert_exporter": "python",
   "pygments_lexer": "ipython3",
   "version": "3.9.12"
  }
 },
 "nbformat": 4,
 "nbformat_minor": 4
}
