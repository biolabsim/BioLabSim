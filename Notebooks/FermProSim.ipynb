{
 "cells": [
  {
   "cell_type": "markdown",
   "metadata": {
    "pycharm": {
     "name": "#%% md\n"
    }
   },
   "source": [
    "# Systems biology introduction\n",
    "***\n",
    "\n",
    "## Background\n",
    "\n",
    "Systems biology is the computational and mathematical analysis and modeling of complex biological systems. It is a biology-based interdisciplinary field of study that focuses on complex interactions within biological systems, using a holistic approach (holism instead of the more traditional reductionism) to biological research. Particularly from the year 2000 onwards, the concept has been used widely in biology in a variety of contexts. The Human Genome Project is an example of applied systems thinking in biology which has led to new, collaborative ways of working on problems in the biological field of genetics. One of the aims of systems biology is to model and discover emergent properties, properties of cells, tissues and organisms functioning as a system whose theoretical description is only possible using techniques of systems biology. These typically involve metabolic networks or cell signaling networks.\n",
    "\n",
    "<figure>\n",
    "    <img src=\"../Figures/Jupyter/Genomics_GTL_Pictorial_Program.jpg\" width=\"800\">\n",
    "    <figcaption>An illustration of the systems approach to biology (<a href='https://upload.wikimedia.org/wikipedia/commons/0/01/Genomics_GTL_Pictorial_Program.jpg'>wikipedia</a>).</figcaption>\n",
    "</figure>\n",
    "\n",
    "In this project, the process of modelling an industrial batch fermentation process is simulated. In this example, simple monod kinetics equations will be used:\n",
    "<figure>\n",
    "    <img src=\"../Figures/Jupyter/Equations.png\" width=\"300\">\n",
    "    <figcaption>Equations used in the monod kinetics.</figcaption>\n",
    "</figure>\n",
    "\n",
    "| Parameter       | Description                                  |\n",
    "|-----------------|----------------------------------------------|\n",
    "| µ<sub>max</sub> | maximal specific growth rate [h<sup>-1</sup> |\n",
    "| c<sub>s</sub>   | Concentration of limiting substrate [g/L]    |\n",
    "| K<sub>s</sub>   | half-velocity constant [g/L]                 |\n",
    "| Y<sub>x</sub>   | Yield coefficient Substrate to biomass [g/g] |\n",
    "| k<sub>1</sub>   | Production rate (not growth-coupled [-]      |\n",
    "\n",
    "The experimental work in your biotech company is highly automated: you are setting the parameters of the experiments and focus on computational data analysis. The goal is to find a suitable process model to describe the production of biomass and product levels. To achieve this goal, virtual experiments have to be performed to look for fitting model parameters.\n",
    "\n",
    "Can you find the best parameters faster than the optimizing algorithm?\n",
    "\n",
    "## Workflow\n",
    "\n",
    "**1 Set-up of simulation environment**\n",
    "\n",
    "**2 Model setup**\n",
    " \n",
    " * *2.1 Choose your host organism*\n",
    " * *2.2 Choose Equipment investment*\n",
    " \n",
    "**3 Culture characterization**\n",
    " \n",
    " * *3.1 Experiment set-up*     \n",
    " * *3.2 Data analysis growth experiment*    \n",
    "\n",
    "**4 Promoter sequence selection**\n",
    " * *4.1 Promoter and expression experiments*\n",
    " * *4.2 Data analysis of promoter strength*\n",
    "\n",
    "**5 Evaluation by cross-group integration**\n",
    "\n",
    "## 1 Set-up of simulation environment\n",
    "Loading libraries and fixing visualization. No user input necessary."
   ]
  },
  {
   "cell_type": "code",
   "execution_count": 1,
   "metadata": {},
   "outputs": [
    {
     "name": "stdout",
     "output_type": "stream",
     "text": [
      "Requirement already satisfied: biocircuits==0.1.11 in /home/ulf/anaconda3/envs/bls_py39/lib/python3.9/site-packages (from -r ../requirements.txt (line 1)) (0.1.11)\n",
      "Requirement already satisfied: biopython==1.79 in /home/ulf/anaconda3/envs/bls_py39/lib/python3.9/site-packages (from -r ../requirements.txt (line 2)) (1.79)\n",
      "Requirement already satisfied: cobra==0.29.0 in /home/ulf/anaconda3/envs/bls_py39/lib/python3.9/site-packages (from -r ../requirements.txt (line 3)) (0.29.0)\n",
      "Requirement already satisfied: matplotlib==3.5.1 in /home/ulf/anaconda3/envs/bls_py39/lib/python3.9/site-packages (from -r ../requirements.txt (line 7)) (3.5.1)\n",
      "Requirement already satisfied: numpy==1.23.5 in /home/ulf/anaconda3/envs/bls_py39/lib/python3.9/site-packages (from -r ../requirements.txt (line 8)) (1.23.5)\n",
      "Requirement already satisfied: openpyxl==3.1.0 in /home/ulf/anaconda3/envs/bls_py39/lib/python3.9/site-packages (from -r ../requirements.txt (line 9)) (3.1.0)\n",
      "Requirement already satisfied: pandas==2.2.2 in /home/ulf/anaconda3/envs/bls_py39/lib/python3.9/site-packages (from -r ../requirements.txt (line 10)) (2.2.2)\n",
      "Requirement already satisfied: setuptools in /home/ulf/anaconda3/envs/bls_py39/lib/python3.9/site-packages (from -r ../requirements.txt (line 13)) (67.6.0)\n",
      "Requirement already satisfied: scikit-learn==1.2.2 in /home/ulf/anaconda3/envs/bls_py39/lib/python3.9/site-packages (from -r ../requirements.txt (line 14)) (1.2.2)\n",
      "Requirement already satisfied: scipy==1.9.3 in /home/ulf/anaconda3/envs/bls_py39/lib/python3.9/site-packages (from -r ../requirements.txt (line 15)) (1.9.3)\n",
      "Requirement already satisfied: silvio==0.2.11 in /home/ulf/Documents/2109_BLS+SILVIO/silvio/src (from -r ../requirements.txt (line 16)) (0.2.11)\n",
      "Requirement already satisfied: wget==3.2 in /home/ulf/anaconda3/envs/bls_py39/lib/python3.9/site-packages (from -r ../requirements.txt (line 19)) (3.2)\n",
      "Requirement already satisfied: multiprocess in /home/ulf/anaconda3/envs/bls_py39/lib/python3.9/site-packages (from biocircuits==0.1.11->-r ../requirements.txt (line 1)) (0.70.14)\n",
      "Requirement already satisfied: bokeh in /home/ulf/anaconda3/envs/bls_py39/lib/python3.9/site-packages (from biocircuits==0.1.11->-r ../requirements.txt (line 1)) (3.1.1)\n",
      "Requirement already satisfied: colorcet in /home/ulf/anaconda3/envs/bls_py39/lib/python3.9/site-packages (from biocircuits==0.1.11->-r ../requirements.txt (line 1)) (3.0.1)\n",
      "Requirement already satisfied: numba in /home/ulf/anaconda3/envs/bls_py39/lib/python3.9/site-packages (from biocircuits==0.1.11->-r ../requirements.txt (line 1)) (0.56.4)\n",
      "Requirement already satisfied: eqtk in /home/ulf/anaconda3/envs/bls_py39/lib/python3.9/site-packages (from biocircuits==0.1.11->-r ../requirements.txt (line 1)) (0.1.3)\n",
      "Requirement already satisfied: tqdm in /home/ulf/anaconda3/envs/bls_py39/lib/python3.9/site-packages (from biocircuits==0.1.11->-r ../requirements.txt (line 1)) (4.65.0)\n",
      "Requirement already satisfied: swiglpk in /home/ulf/anaconda3/envs/bls_py39/lib/python3.9/site-packages (from cobra==0.29.0->-r ../requirements.txt (line 3)) (5.0.10)\n",
      "Requirement already satisfied: optlang~=1.8 in /home/ulf/anaconda3/envs/bls_py39/lib/python3.9/site-packages (from cobra==0.29.0->-r ../requirements.txt (line 3)) (1.8.1)\n",
      "Requirement already satisfied: rich>=8.0 in /home/ulf/anaconda3/envs/bls_py39/lib/python3.9/site-packages (from cobra==0.29.0->-r ../requirements.txt (line 3)) (12.2.0)\n",
      "Requirement already satisfied: importlib-resources in /home/ulf/anaconda3/envs/bls_py39/lib/python3.9/site-packages (from cobra==0.29.0->-r ../requirements.txt (line 3)) (5.12.0)\n",
      "Requirement already satisfied: python-libsbml~=5.19 in /home/ulf/anaconda3/envs/bls_py39/lib/python3.9/site-packages (from cobra==0.29.0->-r ../requirements.txt (line 3)) (5.19.0)\n",
      "Requirement already satisfied: pydantic>=1.6 in /home/ulf/anaconda3/envs/bls_py39/lib/python3.9/site-packages (from cobra==0.29.0->-r ../requirements.txt (line 3)) (1.9.0)\n",
      "Requirement already satisfied: diskcache~=5.0 in /home/ulf/anaconda3/envs/bls_py39/lib/python3.9/site-packages (from cobra==0.29.0->-r ../requirements.txt (line 3)) (5.4.0)\n",
      "Requirement already satisfied: appdirs~=1.4 in /home/ulf/anaconda3/envs/bls_py39/lib/python3.9/site-packages (from cobra==0.29.0->-r ../requirements.txt (line 3)) (1.4.4)\n",
      "Requirement already satisfied: depinfo~=2.2 in /home/ulf/anaconda3/envs/bls_py39/lib/python3.9/site-packages (from cobra==0.29.0->-r ../requirements.txt (line 3)) (2.2.0)\n",
      "Requirement already satisfied: future in /home/ulf/anaconda3/envs/bls_py39/lib/python3.9/site-packages (from cobra==0.29.0->-r ../requirements.txt (line 3)) (0.18.2)\n",
      "Requirement already satisfied: httpx~=0.24 in /home/ulf/anaconda3/envs/bls_py39/lib/python3.9/site-packages (from cobra==0.29.0->-r ../requirements.txt (line 3)) (0.27.0)\n",
      "Requirement already satisfied: ruamel.yaml~=0.16 in /home/ulf/anaconda3/envs/bls_py39/lib/python3.9/site-packages (from cobra==0.29.0->-r ../requirements.txt (line 3)) (0.17.21)\n",
      "Requirement already satisfied: python-dateutil>=2.7 in /home/ulf/.local/lib/python3.9/site-packages (from matplotlib==3.5.1->-r ../requirements.txt (line 7)) (2.8.2)\n",
      "Requirement already satisfied: pyparsing>=2.2.1 in /home/ulf/.local/lib/python3.9/site-packages (from matplotlib==3.5.1->-r ../requirements.txt (line 7)) (3.0.9)\n",
      "Requirement already satisfied: cycler>=0.10 in /home/ulf/anaconda3/envs/bls_py39/lib/python3.9/site-packages (from matplotlib==3.5.1->-r ../requirements.txt (line 7)) (0.11.0)\n",
      "Requirement already satisfied: pillow>=6.2.0 in /home/ulf/anaconda3/envs/bls_py39/lib/python3.9/site-packages (from matplotlib==3.5.1->-r ../requirements.txt (line 7)) (9.4.0)\n",
      "Requirement already satisfied: kiwisolver>=1.0.1 in /home/ulf/anaconda3/envs/bls_py39/lib/python3.9/site-packages (from matplotlib==3.5.1->-r ../requirements.txt (line 7)) (1.4.2)\n",
      "Requirement already satisfied: packaging>=20.0 in /home/ulf/.local/lib/python3.9/site-packages (from matplotlib==3.5.1->-r ../requirements.txt (line 7)) (21.3)\n",
      "Requirement already satisfied: fonttools>=4.22.0 in /home/ulf/anaconda3/envs/bls_py39/lib/python3.9/site-packages (from matplotlib==3.5.1->-r ../requirements.txt (line 7)) (4.31.2)\n",
      "Requirement already satisfied: et-xmlfile in /home/ulf/anaconda3/envs/bls_py39/lib/python3.9/site-packages (from openpyxl==3.1.0->-r ../requirements.txt (line 9)) (1.1.0)\n",
      "Requirement already satisfied: tzdata>=2022.7 in /home/ulf/anaconda3/envs/bls_py39/lib/python3.9/site-packages/tzdata-2024.1-py3.9.egg (from pandas==2.2.2->-r ../requirements.txt (line 10)) (2024.1)\n",
      "Requirement already satisfied: pytz>=2020.1 in /home/ulf/anaconda3/envs/bls_py39/lib/python3.9/site-packages (from pandas==2.2.2->-r ../requirements.txt (line 10)) (2022.7.1)\n",
      "Requirement already satisfied: threadpoolctl>=2.0.0 in /home/ulf/.local/lib/python3.9/site-packages (from scikit-learn==1.2.2->-r ../requirements.txt (line 14)) (3.1.0)\n",
      "Requirement already satisfied: joblib>=1.1.1 in /home/ulf/anaconda3/envs/bls_py39/lib/python3.9/site-packages (from scikit-learn==1.2.2->-r ../requirements.txt (line 14)) (1.4.2)\n",
      "Requirement already satisfied: pickleshare~=0.7 in /home/ulf/.local/lib/python3.9/site-packages (from silvio==0.2.11->-r ../requirements.txt (line 16)) (0.7.5)\n",
      "Requirement already satisfied: jinja2==3.0.3 in /home/ulf/anaconda3/envs/bls_py39/lib/python3.9/site-packages (from silvio==0.2.11->-r ../requirements.txt (line 16)) (3.0.3)\n",
      "Requirement already satisfied: MarkupSafe>=2.0 in /home/ulf/anaconda3/envs/bls_py39/lib/python3.9/site-packages (from jinja2==3.0.3->silvio==0.2.11->-r ../requirements.txt (line 16)) (2.1.2)\n",
      "Requirement already satisfied: idna in /home/ulf/anaconda3/envs/bls_py39/lib/python3.9/site-packages (from httpx~=0.24->cobra==0.29.0->-r ../requirements.txt (line 3)) (3.10)\n",
      "Requirement already satisfied: sniffio in /home/ulf/anaconda3/envs/bls_py39/lib/python3.9/site-packages (from httpx~=0.24->cobra==0.29.0->-r ../requirements.txt (line 3)) (1.2.0)\n",
      "Requirement already satisfied: httpcore==1.* in /home/ulf/anaconda3/envs/bls_py39/lib/python3.9/site-packages (from httpx~=0.24->cobra==0.29.0->-r ../requirements.txt (line 3)) (1.0.5)\n",
      "Requirement already satisfied: anyio in /home/ulf/anaconda3/envs/bls_py39/lib/python3.9/site-packages (from httpx~=0.24->cobra==0.29.0->-r ../requirements.txt (line 3)) (3.5.0)\n",
      "Requirement already satisfied: certifi in /home/ulf/anaconda3/envs/bls_py39/lib/python3.9/site-packages (from httpx~=0.24->cobra==0.29.0->-r ../requirements.txt (line 3)) (2024.12.14)\n",
      "Requirement already satisfied: h11<0.15,>=0.13 in /home/ulf/anaconda3/envs/bls_py39/lib/python3.9/site-packages (from httpcore==1.*->httpx~=0.24->cobra==0.29.0->-r ../requirements.txt (line 3)) (0.14.0)\n",
      "Requirement already satisfied: six>=1.9 in /home/ulf/.local/lib/python3.9/site-packages (from optlang~=1.8->cobra==0.29.0->-r ../requirements.txt (line 3)) (1.16.0)\n",
      "Requirement already satisfied: sympy>=1.12.0 in /home/ulf/anaconda3/envs/bls_py39/lib/python3.9/site-packages (from optlang~=1.8->cobra==0.29.0->-r ../requirements.txt (line 3)) (1.12)\n",
      "Requirement already satisfied: typing-extensions>=3.7.4.3 in /home/ulf/.local/lib/python3.9/site-packages (from pydantic>=1.6->cobra==0.29.0->-r ../requirements.txt (line 3)) (4.5.0)\n",
      "Requirement already satisfied: pygments<3.0.0,>=2.6.0 in /home/ulf/anaconda3/envs/bls_py39/lib/python3.9/site-packages (from rich>=8.0->cobra==0.29.0->-r ../requirements.txt (line 3)) (2.14.0)\n",
      "Requirement already satisfied: commonmark<0.10.0,>=0.9.0 in /home/ulf/anaconda3/envs/bls_py39/lib/python3.9/site-packages (from rich>=8.0->cobra==0.29.0->-r ../requirements.txt (line 3)) (0.9.1)\n",
      "Requirement already satisfied: ruamel.yaml.clib>=0.2.6 in /home/ulf/anaconda3/envs/bls_py39/lib/python3.9/site-packages (from ruamel.yaml~=0.16->cobra==0.29.0->-r ../requirements.txt (line 3)) (0.2.6)\n",
      "Requirement already satisfied: tornado>=5.1 in /home/ulf/.local/lib/python3.9/site-packages (from bokeh->biocircuits==0.1.11->-r ../requirements.txt (line 1)) (6.2)\n",
      "Requirement already satisfied: PyYAML>=3.10 in /home/ulf/anaconda3/envs/bls_py39/lib/python3.9/site-packages (from bokeh->biocircuits==0.1.11->-r ../requirements.txt (line 1)) (6.0)\n",
      "Requirement already satisfied: contourpy>=1 in /home/ulf/anaconda3/envs/bls_py39/lib/python3.9/site-packages (from bokeh->biocircuits==0.1.11->-r ../requirements.txt (line 1)) (1.0.7)\n",
      "Requirement already satisfied: xyzservices>=2021.09.1 in /home/ulf/anaconda3/envs/bls_py39/lib/python3.9/site-packages (from bokeh->biocircuits==0.1.11->-r ../requirements.txt (line 1)) (2023.2.0)\n",
      "Requirement already satisfied: pyct>=0.4.4 in /home/ulf/anaconda3/envs/bls_py39/lib/python3.9/site-packages (from colorcet->biocircuits==0.1.11->-r ../requirements.txt (line 1)) (0.5.0)\n",
      "Requirement already satisfied: zipp>=3.1.0 in /home/ulf/anaconda3/envs/bls_py39/lib/python3.9/site-packages (from importlib-resources->cobra==0.29.0->-r ../requirements.txt (line 3)) (3.15.0)\n",
      "Requirement already satisfied: dill>=0.3.6 in /home/ulf/anaconda3/envs/bls_py39/lib/python3.9/site-packages (from multiprocess->biocircuits==0.1.11->-r ../requirements.txt (line 1)) (0.3.6)\n",
      "Requirement already satisfied: llvmlite<0.40,>=0.39.0dev0 in /home/ulf/anaconda3/envs/bls_py39/lib/python3.9/site-packages (from numba->biocircuits==0.1.11->-r ../requirements.txt (line 1)) (0.39.1)\n",
      "Requirement already satisfied: param>=1.7.0 in /home/ulf/anaconda3/envs/bls_py39/lib/python3.9/site-packages (from pyct>=0.4.4->colorcet->biocircuits==0.1.11->-r ../requirements.txt (line 1)) (1.13.0)\n",
      "Requirement already satisfied: mpmath>=0.19 in /home/ulf/anaconda3/envs/bls_py39/lib/python3.9/site-packages (from sympy>=1.12.0->optlang~=1.8->cobra==0.29.0->-r ../requirements.txt (line 3)) (1.2.1)\n",
      "Environment ready.\n"
     ]
    }
   ],
   "source": [
    "# Adapting environment to GitHub or Google Colab\n",
    "# In GitHub, the full repository is available with all directories, and libraries can be installed with pip on requirements.txt\n",
    "# In Google Colab only the selected notebook is loaded and the requirements file must be downloaded from GitHub before installation.\n",
    "# \n",
    "\n",
    "# file system and path operations\n",
    "import os\n",
    "import sys\n",
    "if 'google.colab' in sys.modules:\n",
    "    IN_COLAB = True\n",
    "    # Download the requirements file\n",
    "    os.system('wget https://raw.githubusercontent.com/biolabsim/BioLabSim/refs/heads/master/requirements.txt')\n",
    "    os.system('pip install -r requirements.txt')\n",
    "else:\n",
    "    IN_COLAB = False\n",
    "    os.system('pip install -r ../requirements.txt')\n",
    "\n",
    "print('Environment ready.')"
   ]
  },
  {
   "cell_type": "code",
   "execution_count": 2,
   "metadata": {},
   "outputs": [
    {
     "name": "stdout",
     "output_type": "stream",
     "text": [
      "System ready\n"
     ]
    }
   ],
   "source": [
    "# Loading of important functionalities for the notebook:\n",
    "# Loading numpy, a library fo manipulation of numbers:\n",
    "import os\n",
    "import numpy as np\n",
    "# Loading matplotlib, a library for visualization:\n",
    "import matplotlib.pyplot as plt\n",
    "# Initialization, loading of all laboratory functionalities and stored models and information of the organisms:\n",
    "from silvio.FermProSimFun import MonodModel as Model\n",
    "\n",
    "print('System ready')"
   ]
  },
  {
   "cell_type": "markdown",
   "metadata": {},
   "source": [
    "## 2 Model setup\n",
    "\n",
    "In this stage, you initialize a monod-like model for your bioprocess. Random values will be chosen for the initial kinetic parameters. They are displayed as a dictionary.\n",
    "Default values are in the following range:\n",
    "\n",
    "| Parameter       | Value range |\n",
    "|-----------------|-------------|\n",
    "| µ<sub>max</sub> | 0.5 - 1.1   |\n",
    "| K<sub>s</sub>   | 7 - 10      |\n",
    "| Y<sub>x</sub>   | 0.4 - 0.6   |\n",
    "| k<sub>1</sub>   | 0.05 - 0.2  |\n"
   ]
  },
  {
   "cell_type": "code",
   "execution_count": null,
   "metadata": {},
   "outputs": [],
   "source": [
    "mymodel = Model()\n",
    "\n",
    "# Model parameters are displayed:\n",
    "print(mymodel)"
   ]
  },
  {
   "cell_type": "markdown",
   "metadata": {
    "pycharm": {
     "name": "#%% md\n"
    }
   },
   "source": [
    "### 2.1  Calculate and visualize initial model results\n",
    "Until now, the model is initialized but didnt perform a calculation yet. In order to check the model results, the calculate_monod() function has to be called.\n",
    "Afterwards, the results can be visualized in a simple plot."
   ]
  },
  {
   "cell_type": "code",
   "execution_count": null,
   "metadata": {
    "pycharm": {
     "name": "#%%\n"
    }
   },
   "outputs": [],
   "source": [
    "mymodel.calculate_monod()\n",
    "mymodel.plot_results()"
   ]
  },
  {
   "cell_type": "markdown",
   "metadata": {
    "pycharm": {
     "name": "#%% md\n"
    }
   },
   "source": [
    "Congratulations, you calculated your first kinetic model! Take a moment and check out the typical batch growth phase of a bioprocess.\n",
    "\n",
    "## 3 Culture characterization\n",
    "\n",
    "### 3.1  Strain analysis experiments\n",
    "Imagine, you start working with a new strain of *E. coli* and don't know the growth characteristics of it yet. To start simulating realistic values, you first need to fit your kinetic parameters to some measurements from the lab.\n",
    "\n",
    "Here, you can perform \"calibration experiments\" and measure at certain time_points the actual behaviour of your new strain.\n",
    "Compare the results to the model results you obtained so far. You probably are far off. Therefore, you have to change your kinetic parameters to more realistic values, in order to minimize the modeling error.\n",
    "\n",
    "To calculate the distance between real and calculated values, we often use the root-mean-square-error (RMSE) as a metric.\n",
    "The formula for the RMSE is as follows, with N = number of samples, $\\hat{y_{i}}$ as the calculated value for our target variable and y<sub>i</sub> as our measurement:\n",
    "\n",
    "$$RMSE = \\sqrt {\\frac{1}{N} \\sum_{i=1}^{N} (\\hat{y_{i}} - y_{i})^2}$$\n",
    "\n",
    "To save our experiment results, we can give an experiment ID to the cultivation, so we can find our results with this ID afterwards.\n",
    "\n",
    "Example: `result_path = mymodel.offline_samples(experiments_ID=10)`\n",
    "\n",
    "**Input:**\n",
    "* **`experiments_ID`: variable name (integer)**"
   ]
  },
  {
   "cell_type": "code",
   "execution_count": null,
   "metadata": {},
   "outputs": [],
   "source": [
    "# User input is required in the following code lines:\n",
    "# If you want to change the experiemnts_ID, replace 10 with another number. If this is not the case, no user input is required here.\n",
    "experiments_ID = 10 # Definition of an ID for the set of experiments\n",
    "\n",
    "# No user input necessary in all subsequent lines of code:\n",
    "result_path = mymodel.offline_samples(experiments_ID=experiments_ID)\n",
    "offline_samples = mymodel.load_offline_values(result_path)\n",
    "\n",
    "# The measurements are displayed here:\n",
    "print(offline_samples)"
   ]
  },
  {
   "cell_type": "markdown",
   "metadata": {},
   "source": [
    "### 3.2 Offline data analysis\n",
    "\n",
    "The data of the experiment was stored in a comma-separated-value (`csv`) file in the local adress.\n",
    "Unfortunately, you dont get measurement values for the whole process duration. Sorry, even the best lab assistant needs to sleep sometimes ;)\n",
    "\n",
    "Your first instinct is probably to perform a linear regression of your sample data. To do this, simply call 'mymodel.plot_linear_fit(offline_samples)'.\n",
    "The error between the linear fit of the real data and the actual biological behaviour of your strain is computed automatically and printed in the title.\n"
   ]
  },
  {
   "cell_type": "code",
   "execution_count": null,
   "metadata": {},
   "outputs": [],
   "source": [
    "mymodel.plot_linear_fit(offline_samples)"
   ]
  },
  {
   "cell_type": "markdown",
   "metadata": {},
   "source": [
    "### 3.3 Manual fitting of the model\n",
    "\n",
    "As you probably expected, the linear fit of our samples doesn't really look like a biological process, especially if there aren't many samples.\n",
    "Thankfully, we can reach a better model with our monod kinetics. Now, it's finally time to find out more feasible model parameters.\n",
    "But first, you have to bring these steps in the right order:\n",
    "\n",
    "* Plot results                  ('mymodel.plot_results(offline_results=offline_samples')\n",
    "* Define new kinetic parameters ('param_list = [0.8, 8.5, 0.5, 0.1]')\n",
    "* Calculate kinetics results    ('mymodel.calculate_monod()')\n",
    "* Set model parameters          ('mymodel.set_params(param_list)')\n",
    "* Calculate the rmse            ('rmse = mymodel.calc_rmse()')\n",
    "\n",
    "**Input:**\n",
    "* **`param_list`: List of kinetic parameters for monod model(float list), in order: µmax, Ks, Yx, k1**"
   ]
  },
  {
   "cell_type": "code",
   "execution_count": null,
   "metadata": {},
   "outputs": [],
   "source": [
    "# param_list = µmax, Ks, Yx, k1\n",
    "\n",
    "## Unscramble the following lines:\n",
    "mymodel.plot_results(offline_results=offline_samples)\n",
    "param_list = [0.8, 8.5, 0.5, 0.1]\n",
    "mymodel.calculate_monod()\n",
    "mymodel.set_params(param_list)\n",
    "rmse = mymodel.calc_rmse()\n",
    "\n",
    "## print out the rmse\n",
    "print(f'RMSE of the calculated kinetic in relation to real values is: {round(rmse, 3)}')"
   ]
  },
  {
   "cell_type": "markdown",
   "metadata": {},
   "source": [
    "### 3.3 Automated fitting of the model\n",
    "Manually trying out combinations for kinetic parameters is not feasible for real-life problems. But with the right kinetic terms and experimental data, it can be possible to automatically fit them.\n",
    "Therefore, a minimizing algorithm is used. This algorithm alters the kinetic parameters iteratively and calculates the RMSE (or other error metrics), until it reaches a global or local minimum, if possible.\n",
    "Of course this doesn't mean that biologists are out of work now: We still need to set biological lower and upper bounds for our kinetic parameters, because the minimizing algorithm has no biological understanding at all.\n",
    "Check out, how many iterations the algorithm needs to find the correct kinetic parameters."
   ]
  },
  {
   "cell_type": "code",
   "execution_count": null,
   "metadata": {
    "collapsed": false,
    "jupyter": {
     "outputs_hidden": false
    },
    "pycharm": {
     "name": "#%%\n"
    }
   },
   "outputs": [],
   "source": [
    "param_list = [0.8, 8.5, 0.5, 0.1]   # Starting values for optimization\n",
    "optim_params = mymodel.fit_model(param_list)\n",
    "mymodel.set_params(optim_params)\n",
    "optim_results = mymodel.calculate_monod()\n",
    "rmse_after_optim = round(mymodel.calc_rmse(), 3)\n",
    "mymodel.plot_results(offline_results=offline_samples)\n",
    "print(f'RMSE after optimization of kinetic parameters: {rmse_after_optim}.')"
   ]
  },
  {
   "cell_type": "markdown",
   "metadata": {},
   "source": [
    "\n",
    "### 4.1 Using the optimized model\n",
    "\n",
    "After all this parameter fitting, it is time to put our finalized process model to use! Suppose we want to reach a certain biomass concentration at the end of our batch phase.\n",
    "We don't want too many cells, because then we will quickly run out of oxygen in the process and substrate is costly, but we also don't want too little because then our production is too slow.\n",
    "\n",
    "To find out the desired biomass for your process, call 'mymodel.get_optimal_X()'.\n",
    "To find out how much biomass you currently produce with your process, call 'mymodel.get_max_biomass()'.\n",
    "\n",
    "In order to achieve more biomass, you probably need to supply more starting substrate or inoculum to your process.\n",
    "Try to find the best combination of starting substrate in your media and starting biomass concentration, using 'mymodel.set_conditions(conditions_list)'\n",
    "\n",
    "| Parameter     | Value range |\n",
    "|---------------|-------------|\n",
    "| S<sub>0</sub> | 15 - 30     |\n",
    "| X<sub>0</sub> | 0.05 - 0.3  |\n",
    "\n",
    "\n",
    "**Input:**\n",
    "* **`conditions_list`: List of starting conditions for your process (float list) in order: S0, X0**"
   ]
  },
  {
   "cell_type": "code",
   "execution_count": null,
   "metadata": {},
   "outputs": [],
   "source": [
    "mymodel.get_optimal_X()\n",
    "\n",
    "# conditions_list = S0, X0\n",
    "conditions_list = [20, 0.1]\n",
    "mymodel.set_conditions(conditions_list)\n",
    "mymodel.calculate_monod()\n",
    "max_biomass = mymodel.get_max_biomass()"
   ]
  },
  {
   "cell_type": "markdown",
   "metadata": {
    "pycharm": {
     "name": "#%% md\n"
    }
   },
   "source": [
    "Great, you found hints for the optimal media composition using your monod-kinetics model.\n",
    "This is just the tip of the iceberg! Models are useful for many applications, like design of experiments, automated process control or quality management.\n"
   ]
  }
 ],
 "metadata": {
  "kernelspec": {
   "display_name": "bls_py39",
   "language": "python",
   "name": "python3"
  },
  "language_info": {
   "codemirror_mode": {
    "name": "ipython",
    "version": 3
   },
   "file_extension": ".py",
   "mimetype": "text/x-python",
   "name": "python",
   "nbconvert_exporter": "python",
   "pygments_lexer": "ipython3",
   "version": "3.9.12"
  }
 },
 "nbformat": 4,
 "nbformat_minor": 4
}
