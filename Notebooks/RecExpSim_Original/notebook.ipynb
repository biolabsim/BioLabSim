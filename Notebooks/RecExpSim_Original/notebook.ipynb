{
 "cells": [
  {
   "cell_type": "markdown",
   "metadata": {},
   "source": [
    " # Reconstrured RecExpSim Notebook\n",
    "\n",
    " This is a recreation of the RecExpSim Notebook.\n",
    " It should be roughly similar to the existing notebook while using the new restructured codebase."
   ]
  },
  {
   "cell_type": "code",
   "execution_count": 1,
   "metadata": {},
   "outputs": [],
   "source": [
    "# Allow imports from the current directory.\n",
    "import os\n",
    "import sys\n",
    "sys.path.append( os.path.abspath(os.path.join('.')) )\n",
    "\n",
    "# Release only. Disable warnings.\n",
    "import warnings\n",
    "warnings.filterwarnings('ignore') # Comment this line to show warnings.\n",
    "\n",
    "# Release only. Disable the traceback when exceptions occur (like the *_or_abort methods)\n",
    "import sys\n",
    "ipython = get_ipython()\n",
    "def hide_traceback(exc_tuple=None, filename=None, tb_offset=None,\n",
    "                   exception_only=False, running_compiled_code=False):\n",
    "    etype, value, tb = sys.exc_info()\n",
    "    return ipython._showtraceback(etype, value, ipython.InteractiveTB.get_exception_only(etype, value))\n",
    "ipython.showtraceback = hide_traceback  # Comment this line to show traceback on exceptions."
   ]
  },
  {
   "cell_type": "code",
   "execution_count": 2,
   "metadata": {},
   "outputs": [
    {
     "name": "stdout",
     "output_type": "stream",
     "text": [
      "System ready\n"
     ]
    }
   ],
   "source": [
    "# 1. Set-up of simulation environment\n",
    "import os\n",
    "import numpy as np\n",
    "import matplotlib.pyplot as plt\n",
    "\n",
    "import pandas as pd\n",
    "pd.options.display.width = 100 # Make pandas output wider.\n",
    "\n",
    "from catalog import RecExperiment, combine_data\n",
    "\n",
    "print('System ready')\n",
    "\n"
   ]
  },
  {
   "cell_type": "code",
   "execution_count": 3,
   "metadata": {},
   "outputs": [
    {
     "name": "stdout",
     "output_type": "stream",
     "text": [
      "Experiment:\n",
      "  budget = 8500\n",
      "  failure rate = 0.12903225806451613\n",
      "  hosts = [ origin ]\n",
      "Host [origin]:\n",
      "  seed plus counter = 4720721261117928062 + 0\n",
      "  optimal growth temperature = 34\n",
      "  max biomass = 94\n",
      "  optimal primer length = 19\n",
      "  Gene List: 0 genes\n",
      "  Event History: 0 events\n"
     ]
    }
   ],
   "source": [
    "# 2. Lab setup\n",
    "exp = RecExperiment( equipment_investment=1500, seed=1 )\n",
    "host = exp.create_host( species='ecol', name=\"origin\" )\n",
    "# print()\n",
    "exp.print_status()\n",
    "host.print_status()\n",
    "\n"
   ]
  },
  {
   "cell_type": "code",
   "execution_count": 4,
   "metadata": {},
   "outputs": [
    {
     "name": "stdout",
     "output_type": "stream",
     "text": [
      "############################################# progress of exp.0 at 22 °C: 100 percent\n",
      "############################################# progress of exp.1 at 30 °C: 100 percent\n",
      "############################################# progress of exp.2 at 36 °C: 100 percent\n",
      "############################################# progress of exp.3 at 40 °C: 100 percent\n",
      "    time [h]  exp.0 biomass conc. at 22 °C  exp.1 biomass conc. at 30 °C  \\\n",
      "0        0.0                      0.095314                      0.097038   \n",
      "1        1.0                      0.110892                      0.179248   \n",
      "2        2.0                      0.098254                      0.479533   \n",
      "3        3.0                      0.138755                      0.818676   \n",
      "4        4.0                      0.130351                      1.641986   \n",
      "5        5.0                      0.108720                      4.236580   \n",
      "6        6.0                      0.145536                      8.484907   \n",
      "7        7.0                      0.136456                     12.983537   \n",
      "8        8.0                      0.167829                     25.833058   \n",
      "9        9.0                      0.169292                     41.282131   \n",
      "10      10.0                      0.184729                     65.862530   \n",
      "11      11.0                      0.162632                     69.213360   \n",
      "12      12.0                      0.176127                     85.851846   \n",
      "13      13.0                      0.204096                     90.796806   \n",
      "14      14.0                      0.228075                     85.716940   \n",
      "15      15.0                      0.237685                     79.362024   \n",
      "16      16.0                      0.201490                    102.986916   \n",
      "17      17.0                      0.260424                     91.202556   \n",
      "18      18.0                      0.285348                    103.428998   \n",
      "19      19.0                      0.324268                     80.288003   \n",
      "20      20.0                      0.304266                    101.124690   \n",
      "21      21.0                      0.338855                     94.609863   \n",
      "22      22.0                      0.304927                     94.883344   \n",
      "23      23.0                      0.342693                     79.543719   \n",
      "24      24.0                      0.376328                     95.536459   \n",
      "25      25.0                      0.392829                     94.149893   \n",
      "26      26.0                      0.483455                     91.438868   \n",
      "27      27.0                      0.460907                     97.470457   \n",
      "28      28.0                      0.426866                     90.392088   \n",
      "29      29.0                      0.531684                     82.598178   \n",
      "30      30.0                      0.517589                     81.708487   \n",
      "31      31.0                      0.634241                     80.717164   \n",
      "32      32.0                      0.641095                     95.900380   \n",
      "33      33.0                      0.552579                     82.990323   \n",
      "34      34.0                      0.609559                    106.606997   \n",
      "35      35.0                      0.627952                    112.798938   \n",
      "36      36.0                      0.753993                     72.361820   \n",
      "37      37.0                      0.854280                     92.446500   \n",
      "38      38.0                      0.935309                     83.235431   \n",
      "39      39.0                      0.818774                     81.510600   \n",
      "40      40.0                      0.792694                     91.790367   \n",
      "41      41.0                      0.921463                     75.293330   \n",
      "42      42.0                      0.948281                    109.844843   \n",
      "43      43.0                      1.206151                     93.755204   \n",
      "44      44.0                      1.173265                     96.105443   \n",
      "45      45.0                      1.206230                     93.968848   \n",
      "46      46.0                      1.486189                    107.190420   \n",
      "47      47.0                      1.442507                     94.076434   \n",
      "\n",
      "    exp.2 biomass conc. at 36 °C  exp.3 biomass conc. at 40 °C  \n",
      "0                       0.088976                      0.092529  \n",
      "1                       0.280050                      0.176085  \n",
      "2                       0.611548                      0.221603  \n",
      "3                       1.580311                      0.454180  \n",
      "4                       3.746927                      0.656098  \n",
      "5                       9.332055                      1.072766  \n",
      "6                      20.321218                      1.607520  \n",
      "7                      36.871388                      3.411932  \n",
      "8                      55.888332                      4.023969  \n",
      "9                      75.586872                      7.634478  \n",
      "10                     86.680975                      9.769507  \n",
      "11                     93.109500                     16.909636  \n",
      "12                     94.339689                     21.688813  \n",
      "13                     73.415674                     38.502540  \n",
      "14                     81.576367                     45.901613  \n",
      "15                     84.742960                     61.315663  \n",
      "16                    101.226888                     67.457948  \n",
      "17                     95.733643                     82.584201  \n",
      "18                     87.618153                     84.665775  \n",
      "19                     97.905678                     79.846564  \n",
      "20                    101.901651                     89.054469  \n",
      "21                     97.585157                    104.734196  \n",
      "22                     92.912521                     83.134097  \n",
      "23                     87.868974                     88.448792  \n",
      "24                    103.208759                    102.370194  \n",
      "25                    105.905855                    101.888229  \n",
      "26                     94.592131                    101.357727  \n",
      "27                     95.272244                     93.110715  \n",
      "28                     87.132322                     76.620176  \n",
      "29                     99.048480                     97.609893  \n",
      "30                     98.473587                     81.948174  \n",
      "31                     82.017181                    101.953370  \n",
      "32                    104.979276                     99.391156  \n",
      "33                     95.854298                     95.811233  \n",
      "34                    100.940293                     82.541170  \n",
      "35                    100.116392                     98.957217  \n",
      "36                     89.636588                     90.963116  \n",
      "37                     91.757550                     83.870126  \n",
      "38                    102.342194                     82.239394  \n",
      "39                    109.939892                     90.844263  \n",
      "40                     90.893617                     94.777876  \n",
      "41                    101.508232                     83.046502  \n",
      "42                     95.502862                     98.735437  \n",
      "43                     83.081387                     95.722413  \n",
      "44                    101.339455                    107.107167  \n",
      "45                     97.499515                    106.273143  \n",
      "46                     86.543265                     94.746974  \n",
      "47                     85.783040                     96.937527  \n"
     ]
    },
    {
     "data": {
      "image/png": "[encoded data removed]",
      "text/plain": [
       "<Figure size 640x480 with 1 Axes>"
      ]
     },
     "metadata": {},
     "output_type": "display_data"
    }
   ],
   "source": [
    "# 3.1. Experiment set-up\n",
    "temperatures = [22,30,36,40] #[22,24,26,28,30]\n",
    "# print()\n",
    "growth_out = exp.simulate_growth(\"origin\", temperatures)\n",
    "growth_out.display_data()\n",
    "# growth_out.export_plot('output/Growth_Simulation.png')\n",
    "growth_out.display_plot()\n",
    "\n"
   ]
  },
  {
   "cell_type": "code",
   "execution_count": 5,
   "metadata": {},
   "outputs": [
    {
     "name": "stdout",
     "output_type": "stream",
     "text": [
      "\n",
      "max biomass: 90\n",
      "max growth rate: 0.91\n"
     ]
    }
   ],
   "source": [
    "# 3.2.2.2 Determine maximum biomass and growth rate\n",
    "Idx_optT, Linear_optT = 2, 6\n",
    "# TODO: Maybe calculations of MB and GR are hidden inside the Outcome.\n",
    "#   Maybe its intuitive to draw the chosen point in the plot.\n",
    "cult_df = growth_out.value\n",
    "Time, Biomass = cult_df.iloc[:,0], cult_df.iloc[:,1:]\n",
    "LnBiomass = np.log(Biomass)\n",
    "MB = np.mean(Biomass.iloc[Linear_optT:,Idx_optT])\n",
    "GR = np.polyfit(Time.iloc[:Linear_optT],LnBiomass.iloc[:Linear_optT,Idx_optT],1)\n",
    "print()\n",
    "print('max biomass: {:.0f}\\nmax growth rate: {:.2f}'.format(MB,GR[0]))\n",
    "\n"
   ]
  },
  {
   "cell_type": "code",
   "execution_count": 6,
   "metadata": {},
   "outputs": [
    {
     "name": "stdout",
     "output_type": "stream",
     "text": [
      "\n",
      "Try cloning with bad melting temperature.\n",
      "Reference primer T:54\n",
      "Clone Outcome [origin.1]: Primer Failed: Temperature deviation too big.\n",
      "\n",
      "Try cloning first with good parameters.\n",
      "Reference primer T:54\n",
      "Clone Outcome [origin.2]: Cloning with recombination succeeded.\n",
      "\n",
      "Try cloning second with good parameters.\n",
      "Reference primer T:54\n",
      "Clone Outcome [origin.3]: Cloning with recombination succeeded.\n",
      "Experiment:\n",
      "  budget = 7800\n",
      "  failure rate = 0.12903225806451613\n",
      "  hosts = [ origin.3 , origin , origin.1 , origin.2 ]\n"
     ]
    }
   ],
   "source": [
    "# 4.1.1 Promoter choice and cloning\n",
    "from silvio.extensions.records.gene.crafted_gene import CraftedGene\n",
    "from Bio.Seq import Seq\n",
    "Promoter1 = Seq(\"GCCCAAAAAAAAAGCAAACACGTAAAGGAAAAAATGCACG\")\n",
    "Primer1 =   Seq(\"CGGGTTTTTTTTTCGTTTGT\")\n",
    "Tm =        56 # melting temperature\n",
    "NewGene = CraftedGene( name=\"MyGenA\", prom=Promoter1, orf=\"GGGGGGGGGG\" )\n",
    "\n",
    "print(\"\\nTry cloning with bad melting temperature.\")\n",
    "# TODO: Melting temperature is not affecting clone chance.\n",
    "bad_host, clone_outcome = exp.clone_with_recombination( \"origin\", Primer1, gene=NewGene, tm=1000 )\n",
    "print(\"Clone Outcome [{}]: {}\".format(bad_host.name,clone_outcome))\n",
    "\n",
    "print(\"\\nTry cloning first with good parameters.\")\n",
    "good_host_a, clone_outcome = exp.clone_with_recombination( \"origin\", Primer1, gene=NewGene, tm=Tm )\n",
    "print(\"Clone Outcome [{}]: {}\".format(good_host_a.name,clone_outcome))\n",
    "# good_host_a.print_status()\n",
    "\n",
    "Promoter2 = Seq(\"GCCCAAATATTAAGCAAACACGTAAAGGAAAAAATGCACG\")\n",
    "Primer2 =   Seq(\"CGGGTTTATAATTCGTTTGT\")\n",
    "Tm2 =       54\n",
    "NewGene2 = CraftedGene( name=\"MyGenB\", prom=Promoter2, orf=\"GGGGGGGGGG\" )\n",
    "\n",
    "print(\"\\nTry cloning second with good parameters.\")\n",
    "good_host_b, clone_outcome = exp.clone_with_recombination( \"origin\", Primer2, gene=NewGene2, tm=Tm2 )\n",
    "print(\"Clone Outcome [{}]: {}\".format(good_host_b.name,clone_outcome))\n",
    "# good_host_b.print_status()\n",
    "\n",
    "exp.print_status()"
   ]
  },
  {
   "cell_type": "code",
   "execution_count": 7,
   "metadata": {},
   "outputs": [
    {
     "name": "stdout",
     "output_type": "stream",
     "text": [
      "Host [origin.3]:\n",
      "  seed plus counter = 5326339429848620559 + 0\n",
      "  optimal growth temperature = 34\n",
      "  max biomass = 94\n",
      "  optimal primer length = 19\n",
      "  Gene List: 1 genes\n",
      "  - MyGenB = GCCCAAATATTAAGCAAACACGTAAAGGAAAAAATGCACG * GGGGGGGGGG\n",
      "  Event History: 1 events\n",
      "  - - - GenomeLibrary: added gene=MyGenB\n"
     ]
    }
   ],
   "source": [
    "good_host_b.print_status()"
   ]
  },
  {
   "cell_type": "code",
   "execution_count": 8,
   "metadata": {},
   "outputs": [
    {
     "name": "stdout",
     "output_type": "stream",
     "text": [
      "\n",
      "All Promoter Strengths combined:\n",
      "       Host GeneName                              GenePromoter  PromoterStrength\n",
      "0  origin.1   MyGenA                                      None              0.00\n",
      "1  origin.2   MyGenA  GCCCAAAAAAAAAGCAAACACGTAAAGGAAAAAATGCACG              1.06\n",
      "2  origin.3   MyGenA                                      None              0.00\n",
      "3  origin.3   MyGenB  GCCCAAATATTAAGCAAACACGTAAAGGAAAAAATGCACG              0.72\n"
     ]
    }
   ],
   "source": [
    "# 4.1.2 Measurement of the promoter strength\n",
    "prom_out_1 = exp.measure_promoter_strength( \"origin.1\", \"MyGenA\" )\n",
    "\n",
    "prom_out_2 = exp.measure_promoter_strength( \"origin.2\", \"MyGenA\" )\n",
    "\n",
    "prom_out_3 = exp.measure_promoter_strength( \"origin.3\", \"MyGenA\" ) # Use NewGene but HostB only has NewGene2\n",
    "\n",
    "prom_out_4 = exp.measure_promoter_strength( \"origin.3\", \"MyGenB\" )\n",
    "\n",
    "# Join all measurements.\n",
    "print(\"\\nAll Promoter Strengths combined:\")\n",
    "all_prom_out = combine_data([ prom_out_1, prom_out_2, prom_out_3, prom_out_4 ])\n",
    "all_prom_out.display_data()\n",
    "\n"
   ]
  },
  {
   "cell_type": "code",
   "execution_count": 9,
   "metadata": {},
   "outputs": [
    {
     "name": "stdout",
     "output_type": "stream",
     "text": [
      "Vaccine production rate A, try 2: (error:None)\n",
      "Vaccine production rate A, try 2: (error:None)\n",
      "Vaccine production rate B, try 1: (error:None)\n",
      "Vaccine production rate B, try 2: (error:None)\n",
      "Vaccine production multiple: (error:None)\n",
      "       Host Gene_Name                         Promoter_Sequence  Promoter_GC-content  \\\n",
      "0  origin.2    MyGenA  GCCCAAAAAAAAAGCAAACACGTAAAGGAAAAAATGCACG                0.375   \n",
      "1  origin.2    MyGenA  GCCCAAAAAAAAAGCAAACACGTAAAGGAAAAAATGCACG                0.375   \n",
      "2  origin.3    MyGenB  GCCCAAATATTAAGCAAACACGTAAAGGAAAAAATGCACG                0.375   \n",
      "3  origin.3    MyGenB  GCCCAAATATTAAGCAAACACGTAAAGGAAAAAATGCACG                0.375   \n",
      "4  origin.1    MyGenB                                       NaN                  NaN   \n",
      "5  origin.2    MyGenB                                       NaN                  NaN   \n",
      "6  origin.3    MyGenB  GCCCAAATATTAAGCAAACACGTAAAGGAAAAAATGCACG                0.375   \n",
      "\n",
      "   Expression_Temperature  Expression_Biomass  Expression_Rate  \n",
      "0                    26.0                46.0             0.00  \n",
      "1                    36.0                46.0             0.00  \n",
      "2                    36.0                90.0             0.23  \n",
      "3                    36.0                90.0             0.23  \n",
      "4                     NaN                 NaN              NaN  \n",
      "5                     NaN                 NaN              NaN  \n",
      "6                    36.0                90.0             0.00  \n",
      "Data exported to: /home/ulf/Documents/2109_BLS+SILVIO/biolabsim_dev/notebooks/RecExpSim_Original/output/Production_Experiments.csv\n"
     ]
    }
   ],
   "source": [
    "# 4.1.3 Measurement of the final vaccine expression rate\n",
    "# in Make_ProductionExperiment: Clone_ID (string), Opt. Temp (int), Opt. Growth rate (float), Opt. Biomass (int)\n",
    "\n",
    "vac_out_1 = exp.simulate_vaccine_production( [\"origin.2\"], \"MyGenA\", cult_temp=26, growth_rate=0.76, biomass=46 )\n",
    "print('Vaccine production rate A, try 2: (error:{})'.format( vac_out_1.error ))\n",
    "\n",
    "vac_out_2 = exp.simulate_vaccine_production( [\"origin.2\"], \"MyGenA\", cult_temp=36, growth_rate=0.91, biomass=46 )\n",
    "print('Vaccine production rate A, try 2: (error:{})'.format( vac_out_2.error ))\n",
    "\n",
    "vac_out_3 = exp.simulate_vaccine_production( [\"origin.3\"], \"MyGenB\", cult_temp=36, growth_rate=0.91, biomass=90 )\n",
    "print('Vaccine production rate B, try 1: (error:{})'.format( vac_out_3.error ))\n",
    "\n",
    "vac_out_4 = exp.simulate_vaccine_production( [\"origin.3\"], \"MyGenB\", cult_temp=36, growth_rate=0.91, biomass=90 )\n",
    "print('Vaccine production rate B, try 2: (error:{})'.format( vac_out_4.error ))\n",
    "\n",
    "vac_out_multi = exp.simulate_vaccine_production( [\"origin.1\", \"origin.2\", \"origin.3\"], \"MyGenB\", cult_temp=36, growth_rate=0.90, biomass=90 )\n",
    "print('Vaccine production multiple: (error:{})'.format( vac_out_multi.error ))\n",
    "\n",
    "\n",
    "# Its possible to make a custom combine_data for the production experiments.\n",
    "all_vac_out = combine_data([ vac_out_1, vac_out_2, vac_out_3, vac_out_4, vac_out_multi ])\n",
    "all_vac_out.display_data()\n",
    "all_vac_out.export_data('output/Production_Experiments.csv')\n",
    "\n"
   ]
  },
  {
   "cell_type": "code",
   "execution_count": 10,
   "metadata": {},
   "outputs": [
    {
     "data": {
      "image/png": "[encoded data removed]",
      "text/plain": [
       "<Figure size 640x480 with 1 Axes>"
      ]
     },
     "metadata": {},
     "output_type": "display_data"
    }
   ],
   "source": [
    "# 4.2.1 Visualization of the results\n",
    "# TODO: This could be a new DataWithPlotOutcome to hide the code if wanted.\n",
    "GCcont, Express = all_vac_out.value['Promoter_GC-content'], all_vac_out.value['Expression_Rate']\n",
    "plt.plot(GCcont,Express, linestyle = '--', marker = 'x', color = 'grey')\n",
    "plt.gca().set(xlabel='GC-cont', ylabel='rel. expression', xlim=(.3,.8), ylim=(0,1))\n",
    "plt.savefig('output/RelExpress_Vs_GCcont_allProm.png', format='png')\n",
    "plt.show()\n"
   ]
  },
  {
   "cell_type": "code",
   "execution_count": 11,
   "metadata": {},
   "outputs": [
    {
     "name": "stdout",
     "output_type": "stream",
     "text": [
      "Experiment:\n",
      "  budget = 4900\n",
      "  failure rate = 0.12903225806451613\n",
      "  hosts = [ origin.3 , origin , origin.1 , origin.2 ]\n",
      "Host [origin.3]:\n",
      "  seed plus counter = 5326339429848620559 + 0\n",
      "  optimal growth temperature = 34\n",
      "  max biomass = 94\n",
      "  optimal primer length = 19\n",
      "  Gene List: 1 genes\n",
      "  - MyGenB = GCCCAAATATTAAGCAAACACGTAAAGGAAAAAATGCACG * GGGGGGGGGG\n",
      "  Event History: 1 events\n",
      "  - - - GenomeLibrary: added gene=MyGenB\n",
      "Host [origin]:\n",
      "  seed plus counter = 4720721261117928062 + 7\n",
      "  optimal growth temperature = 34\n",
      "  max biomass = 94\n",
      "  optimal primer length = 19\n",
      "  Gene List: 0 genes\n",
      "  Event History: 0 events\n",
      "Host [origin.1]:\n",
      "  seed plus counter = 6733855923820810057 + 0\n",
      "  optimal growth temperature = 34\n",
      "  max biomass = 94\n",
      "  optimal primer length = 19\n",
      "  Gene List: 0 genes\n",
      "  Event History: 0 events\n",
      "Host [origin.2]:\n",
      "  seed plus counter = 6259074176465764939 + 0\n",
      "  optimal growth temperature = 34\n",
      "  max biomass = 94\n",
      "  optimal primer length = 19\n",
      "  Gene List: 1 genes\n",
      "  - MyGenA = GCCCAAAAAAAAAGCAAACACGTAAAGGAAAAAATGCACG * GGGGGGGGGG\n",
      "  Event History: 1 events\n",
      "  - - - GenomeLibrary: added gene=MyGenA\n"
     ]
    }
   ],
   "source": [
    "# Print internal state.\n",
    "exp.print_status()\n",
    "for h in exp.hosts :\n",
    "    h.print_status()"
   ]
  }
 ],
 "metadata": {
  "interpreter": {
   "hash": "0a106696d28e162367b2ce02886d1028f753c73e4bce0ddcd82db8e104c812b1"
  },
  "kernelspec": {
   "display_name": "bls_py39",
   "language": "python",
   "name": "bls_py39"
  },
  "language_info": {
   "codemirror_mode": {
    "name": "ipython",
    "version": 3
   },
   "file_extension": ".py",
   "mimetype": "text/x-python",
   "name": "python",
   "nbconvert_exporter": "python",
   "pygments_lexer": "ipython3",
   "version": "3.9.12"
  }
 },
 "nbformat": 4,
 "nbformat_minor": 4
}
