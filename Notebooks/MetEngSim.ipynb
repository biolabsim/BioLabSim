{
 "cells": [
  {
   "cell_type": "markdown",
   "metadata": {},
   "source": [
    "# Microbial Metabolism Analysis\n",
    "\n",
    "<hr>"
   ]
  },
  {
   "cell_type": "markdown",
   "metadata": {},
   "source": [
    "## Introduction\n",
    "<hr>"
   ]
  },
  {
   "cell_type": "markdown",
   "metadata": {},
   "source": [
    "$\\color{darkblue}{\\textbf{learning outcome}}$\n",
    "- remember commands from previous notebooks and apply them\n",
    "- apply information from the code in metabolic maps and vice versa\n",
    "- compare and evaluate metabolic pathway databases\n",
    "<hr>\n",
    "\n",
    "Genome Scale Metabolic Models (GSMMs) contain all metabolic information of a biological system and break them down into a mathematical model. This allows in-depth insight into molecular mechanisms of organisms and enables the analysis of metabolic pathways, because it breaks them down into their respective reactions and enzymes.\\\n",
    "Metabolites running in the, for instance, Glycolysis or TCA-Cycle are utilized in this Notebook to simulate the *E. coli* metabolism.\n",
    "\n",
    "$\\color{darkblue}{\\text{Glycolysis:}}$\\\n",
    "Glycolysis is one component of the central metabolism and is an amphibolic pathway (involves both anabomlism and catabolism) because it can reversibly produce hexoses from varius low-molecular weight molecules. It produces six precursor metabolites that are starting materials for the biosynthesis of building blocks for macromolecules and other needed small molecules. Therefore its functioning under all conditions is essential.\\\n",
    "\n",
    "$\\color{darkblue}{\\text{TCA-Cycle:}}$\\\n",
    "The TCA-Cycle is another component of the central metabolism and is a catabolic pathway of aerobic respiration. It generates energy (ATP) and also precursors for biosynthesis.\n",
    "\n",
    "You are provided with an overview of the *E. coli* core metabolism. It is now clear that the metabolism not only consists of the glycolysis and TCA-Cycle. A lot of metabolic byproducts take place in the energy managment of the cell and even reactions of fermentation could be part of the pathway.\n",
    "\n",
    "<div style=\"width: 500px; margin: auto;\">\n",
    "\n",
    "![Feedforward loop classes](../52_Results/Eco_core_met.png)\n",
    "\n",
    "</div>\n",
    "\n",
    "The model makes metabolic pathway analysis easy, because is breaks down the pathways into their respective reactions and enzymes.\n",
    "The *E. coli* core model contains only 137 genes, 95 reactions and 72 metabolites, what makes working with this model easier and more time efficient. \n",
    "The related flux balance analysis seeks to mathematically simulate metabolism in genome-scale reconstructions of metabolic network.  \n",
    "\n",
    "**Comparing database maps:**\n",
    "- $\\color{darkblue}{\\text{KEGG:}}$ Kyoto Encyclopedia of Genes and Genomes (KEGG) is a bioinformatics database containing information about genes, proteins, reactions and pathways. With the 'KEGG Pathway' option it is possible to find pathway maps in which the metabolite ID can be searched and is afterwards highlighted in the map.\n",
    "- $\\color{darkblue}{\\text{BioCyc/EcoCyc:}}$ A collection of pathway/genome databases for model organisms and contains software tools to explore them. The 'Metabolic Map' option makes finding metabolic pathways easy and time efficient by typing in the 'map-name'.\n",
    "- $\\color{darkblue}{\\text{BiGG:}}$ A bioinformatics database that utilizes the ESCHER map. This map visualizes metabolic pathways like Glycolysis and TCA-Cycle and provides information about metabolites and reactions. It dispalys different metabolic processes in one map, for instance, Glycolysis, TCA-Cycle, and electron transport chain.\n",
    "- $\\color{darkblue}{\\text{ChatGPT:}}$ Chat-AI that answers questions about any topic. It is not possible to create a map or any other form of visualization which gives less overview of the metabolic reactions. \n",
    "\n",
    "Database| Enzymes| Genes| Reactions| Pathways| Metabolites\n",
    ":-------:|:-------:|:-------:|:-------:|:-------:|:-------:\n",
    "KEGG       | X | - | X | XX | XXX |\n",
    "BioCyc/EcoCyc | XX | XX | XX | XX | XX |\n",
    "BiGG/ESCHER| - | - | XX | XXX | XX |\n",
    "ChatGPT    | X | - | X | - | X |\n",
    "  \n",
    "<hr>"
   ]
  },
  {
   "cell_type": "markdown",
   "metadata": {},
   "source": [
    "Set up the computational environment by running this cell.\\\n",
    "Make sure all neccessary files (EcoMetSim_functions, images) are loaded."
   ]
  },
  {
   "cell_type": "code",
   "execution_count": 4,
   "metadata": {},
   "outputs": [],
   "source": [
    "# install requirements\n",
    "# %pip install -r ../requirements.txt"
   ]
  },
  {
   "cell_type": "code",
   "execution_count": 5,
   "metadata": {},
   "outputs": [
    {
     "name": "stdout",
     "output_type": "stream",
     "text": [
      "Cobra toolbox is already installed\n",
      "Done\n"
     ]
    }
   ],
   "source": [
    "# this code-cell sets up the computational environment for the notebook\n",
    "\n",
    "# file system and path operations\n",
    "# import os\n",
    "import numpy as np\n",
    "import random\n",
    "from random import *\n",
    "# import matplotlib.pyplot as plt\n",
    "\n",
    "# load cobra toolbox and install it if necessary\n",
    "from cobra.io import read_sbml_model\n",
    "print('Cobra toolbox is already installed')\n",
    "\n",
    "# load functions from the EcoMetSim toolbox\n",
    "from MetEngSim_functions import *\n",
    "\n",
    "print('Done')"
   ]
  },
  {
   "cell_type": "markdown",
   "metadata": {},
   "source": [
    "## set up model\n",
    "In this cell you generate your individual pair of two metabolites that will operate as substrate and product.\\\n",
    "The Output displays the metabolite ID, the maximal possible product rate and the currently generated product rate.\n",
    "\n",
    "**Input:**\n",
    "- your student ID\n",
    "\n",
    "Replace None with the correct input."
   ]
  },
  {
   "cell_type": "code",
   "execution_count": 6,
   "metadata": {},
   "outputs": [
    {
     "name": "stdout",
     "output_type": "stream",
     "text": [
      "Loading existing file e_coli_core.xml.gz\n",
      "['fum_e', 'ac_e'] [0.5]\n",
      "ACt2r\n"
     ]
    }
   ],
   "source": [
    "Student_ID = 431540\n",
    "model, selected_pair, all_reactions, product, product_lim, _ = make_metabolite_combination(Student_ID)\n",
    "print(selected_pair, product_lim)"
   ]
  },
  {
   "cell_type": "markdown",
   "metadata": {},
   "source": [
    "You can generate a bar chart by executing this cell.\\\n",
    "It displays the maximal possible product flux and your current product flux. "
   ]
  },
  {
   "cell_type": "code",
   "execution_count": 8,
   "metadata": {},
   "outputs": [
    {
     "data": {
      "image/png": "[encoded data removed]",
      "text/plain": [
       "<Figure size 432x288 with 1 Axes>"
      ]
     },
     "metadata": {
      "needs_background": "light"
     },
     "output_type": "display_data"
    }
   ],
   "source": [
    "create_bar_chart(all_reactions, product_lim)"
   ]
  },
  {
   "cell_type": "markdown",
   "metadata": {},
   "source": [
    "## Databases\n",
    "<hr>\n",
    "\n",
    "### Exercise: \n",
    "\n",
    "Have a look into the listed Databases to find pathway from substrate to product and associated reactions. \n",
    "Chose one Database that seems to work best for your combination and look at the reactions to chose one you would like to test in the Experiment.\n",
    "\n",
    "Put in the Metabolite ID of your substrate or product in 'None'. \\\n",
    "The Output gives you the database ID for your substrate and product.\n",
    "\n",
    "$\\color{darkblue}{\\text{TIPPS:}}$\\\n",
    "Every database-link leads you to a map where metabolites, enzymes and reactions are displayed. By guiding the cursor over, for example, a metabolite more information such as the meabolite ID is shown. Often the reaction is displayed as number, except for the Escher-map.\n",
    "Sometimes the database-ID is not the right ID for this model, use the two cells below to get the right ID for the model.\\\n",
    "$\\color{darkblue}\\text{KEGG:}$ Copy the link for the TCA-Cycle or Clycolysis and just add the KEGG_ID into the search bar by adding +\"KEGG_ID\" without any spaces after the link. This will highlight the metabolite associated to the KEGG_ID and makes the serach for substrate and product more efficient.\\\n",
    "$\\color{darkblue}\\text{BiGG/Escher:}$ Under 'View' and then 'Find', you can also search for individual metabolites and display them by entering the metabolite ID or name.\\\n",
    "$\\color{darkblue}\\text{ChatGPT:}$ Give precise commands and provide the AI with all information you gathered to this point. It will help achieving your goal more time efficient and keep in mind that there is no map or visualization like in the other databases. \n",
    "\n",
    "**Input:**\n",
    "\n",
    "- Metabolite ID for substrate or product\n",
    "\n",
    "Replace 'None' with the correct input."
   ]
  },
  {
   "cell_type": "code",
   "execution_count": 9,
   "metadata": {},
   "outputs": [
    {
     "name": "stdout",
     "output_type": "stream",
     "text": [
      "C00022\n",
      "C00042\n",
      "pyr\n",
      "succ\n",
      "META:PYRUVATE\n",
      "META:SUC\n"
     ]
    }
   ],
   "source": [
    "# get KEGG ID for substrate \n",
    "print(model.metabolites.get_by_id('pyr_e').annotation['kegg.compound'])\n",
    "# get KEGG ID for product\n",
    "print(model.metabolites.get_by_id('succ_e').annotation['kegg.compound'])\n",
    "\n",
    "# get BiGG ID for substrate\n",
    "print(model.metabolites.get_by_id('pyr_e').annotation['bigg.metabolite'])\n",
    "# get BiGG ID for product\n",
    "print(model.metabolites.get_by_id('succ_e').annotation['bigg.metabolite'])\n",
    "\n",
    "# get EcoCyc ID for substrate\n",
    "print(model.metabolites.get_by_id('pyr_e').annotation['biocyc'])\n",
    "# get EcoCyc ID for product\n",
    "print(model.metabolites.get_by_id('succ_e').annotation['biocyc'])\n",
    "\n",
    "# https://www.genome.jp/pathway/map00020 +KEGG_ID # KEGG TCA-cycle\n",
    "# https://www.genome.jp/pathway/map00010 +KEGG_ID # KEGG Glycolysis\n",
    "# https://escher.github.io/#/app?map=e_coli_core.Core%20metabolism&tool=Builder&model=e_coli_core # BiGG/Escher\n",
    "# https://biocyc.org/pathway?orgid=ECOLI&id=TCA&detail-level=2 # EcoCyc TCA-cycle\n",
    "# https://biocyc.org/pathway?orgid=ECOLI&id=GLYCOLYSIS&detail-level=2 # EcoCyc Glycolysis\n",
    "# https://chatgpt.com # ChatGPT"
   ]
  },
  {
   "cell_type": "markdown",
   "metadata": {},
   "source": [
    "The next two Code-cells might help to find the reaction ID you're looking for. By searching the metabolite and the reactions this metabolite participates in, you get information about the reaction ID, reaction name and the reaction itself. Consider Capital letters for the first letter.\\\n",
    "Have a close look at your metabolite-pair and especially the pathway and consider different component of the metabolism.\n",
    "\n",
    "**Input:**\n",
    "- first None: the metabolite name or any short form to find the metabolite ID\n",
    "- second None: metabolite ID you extracted from previous cell to get information about the reaction"
   ]
  },
  {
   "cell_type": "code",
   "execution_count": 10,
   "metadata": {},
   "outputs": [
    {
     "data": {
      "text/plain": [
       "[<Metabolite ac_c at 0x7f97e2fdbe20>,\n",
       " <Metabolite ac_e at 0x7f97e2fdbf70>,\n",
       " <Metabolite acald_c at 0x7f97e2fdbfa0>,\n",
       " <Metabolite acald_e at 0x7f97e2fdb700>,\n",
       " <Metabolite accoa_c at 0x7f97e2fdb820>,\n",
       " <Metabolite actp_c at 0x7f97e2fdb760>]"
      ]
     },
     "execution_count": 10,
     "metadata": {},
     "output_type": "execute_result"
    }
   ],
   "source": [
    "search_met = 'Acet'\n",
    "model.metabolites.query(search_met, 'name')"
   ]
  },
  {
   "cell_type": "code",
   "execution_count": 11,
   "metadata": {},
   "outputs": [
    {
     "data": {
      "text/plain": [
       "[['ACALD',\n",
       "  'Acetaldehyde dehydrogenase (acetylating)',\n",
       "  'acald_c + coa_c + nad_c <=> accoa_c + h_c + nadh_c'],\n",
       " ['ACALDt', 'Acetaldehyde reversible transport', 'acald_e <=> acald_c'],\n",
       " ['ALCD2x',\n",
       "  'Alcohol dehydrogenase (ethanol)',\n",
       "  'etoh_c + nad_c <=> acald_c + h_c + nadh_c']]"
      ]
     },
     "execution_count": 11,
     "metadata": {},
     "output_type": "execute_result"
    }
   ],
   "source": [
    "met_reactions = 'acald_c'\n",
    "# list comprehension to show all reactions that contain the metabolite\n",
    "[[reaction.id, reaction.name, reaction.reaction] for reaction in model.metabolites.get_by_id(met_reactions).reactions]"
   ]
  },
  {
   "cell_type": "markdown",
   "metadata": {},
   "source": [
    "## Experiment\n",
    "<hr>\n",
    "\n",
    "**Input:** \n",
    "- any reaction ID of your choice. Consider using the code-cells above to find right reaction ID for this model.\n",
    "\n",
    "Repalce 'None' with the correct input."
   ]
  },
  {
   "cell_type": "code",
   "execution_count": 14,
   "metadata": {},
   "outputs": [
    {
     "name": "stdout",
     "output_type": "stream",
     "text": [
      "['fum_e --> ac_e limited', 'ACt2r', 'ACt2r']\n"
     ]
    }
   ],
   "source": [
    "# reaction ID of choice \n",
    "target_reaction = 'ACt2r'\n",
    "\n",
    "# add reaction ID to list of all reactions\n",
    "all_reactions.append(target_reaction)\n",
    "print(all_reactions)\n",
    "\n",
    "# optimize the model with reaction ID\n",
    "model = optimize_reaction(model, target_reaction)\n",
    "product_lim.append(round(model.slim_optimize(),2) / product)"
   ]
  },
  {
   "cell_type": "markdown",
   "metadata": {},
   "source": [
    "Here you can extend the bar chart to show the reaction ID you put in above and the product flux associated to that reaction. Compare the old product flux with the newly generated and decide if your chosen reaction ID is correct.\\\n",
    "If the reaction ID is correct try to extend the product flux even more, you may even be able to reach the old production rate."
   ]
  },
  {
   "cell_type": "code",
   "execution_count": 15,
   "metadata": {},
   "outputs": [
    {
     "data": {
      "image/png": "[encoded data removed]",
      "text/plain": [
       "<Figure size 432x288 with 1 Axes>"
      ]
     },
     "metadata": {
      "needs_background": "light"
     },
     "output_type": "display_data"
    }
   ],
   "source": [
    "# check if reaction ID is correct and model is optimized\n",
    "create_bar_chart(all_reactions, product_lim)"
   ]
  }
 ],
 "metadata": {
  "kernelspec": {
   "display_name": "base",
   "language": "python",
   "name": "python3"
  },
  "language_info": {
   "codemirror_mode": {
    "name": "ipython",
    "version": 3
   },
   "file_extension": ".py",
   "mimetype": "text/x-python",
   "name": "python",
   "nbconvert_exporter": "python",
   "pygments_lexer": "ipython3",
   "version": "3.9.12"
  }
 },
 "nbformat": 4,
 "nbformat_minor": 2
}
