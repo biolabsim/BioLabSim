{
 "cells": [
  {
   "cell_type": "markdown",
   "metadata": {},
   "source": [
    "# Microbial Metabolism Analysis\n",
    "\n",
    "<hr>"
   ]
  },
  {
   "cell_type": "markdown",
   "metadata": {},
   "source": [
    "## Introduction\n",
    "<hr>"
   ]
  },
  {
   "cell_type": "markdown",
   "metadata": {},
   "source": [
    "$\\color{darkblue}{\\textbf{learning outcome}}$\n",
    "- remember commands from previous notebooks and apply them\n",
    "- apply information from the code in metabolic maps and vice versa\n",
    "- compare and evaluate metabolic pathway databases\n",
    "<hr>\n",
    "\n",
    "Genome Scale Metabolic Models (GSMMs) contain all metabolic information of a biological system and break them down into a mathematical model. This allows in-depth insight into molecular mechanisms of organisms and enables the analysis of metabolic pathways, because it breaks them down into their respective reactions and enzymes.\\\n",
    "Metabolites running in the, for instance, Glycolysis or TCA-Cycle are utilized in this Notebook to simulate the *E. coli* metabolism.\n",
    "\n",
    "$\\color{darkblue}{\\text{Glycolysis:}}$\\\n",
    "Glycolysis is one component of the central metabolism and is an amphibolic pathway (involves both anabomlism and catabolism) because it can reversibly produce hexoses from varius low-molecular weight molecules. It produces six precursor metabolites that are starting materials for the biosynthesis of building blocks for macromolecules and other needed small molecules. Therefore its functioning under all conditions is essential.\\\n",
    "\n",
    "$\\color{darkblue}{\\text{TCA-Cycle:}}$\\\n",
    "The TCA-Cycle is another component of the central metabolism and is a catabolic pathway of aerobic respiration. It generates energy (ATP) and also precursors for biosynthesis.\n",
    "\n",
    "You are provided with an overview of the *E. coli* core metabolism. It is now clear that the metabolism not only consists of the glycolysis and TCA-Cycle. A lot of metabolic byproducts take place in the energy managment of the cell and even reactions of fermentation could be part of the pathway. The larger letters (Glyc, PPP, etc.) refer to the major components of the metabolism, such as (OxP) oxidative phosphorylation,(Glyc) glycolysis pathway, (PPP) pentose phosphate pathway, (TCA) tricarboxylic acid cycle, (Ana) glycoxylate cycle, gluconeogenesis, and anapleurotic reactions, (Ferm) fermentation, and(N) nitrogen metabolism.\n",
    "\n",
    "<div style=\"width: 500px; margin: auto;\">\n",
    "\n",
    "![Feedforward loop classes](../Figures/Eco_core_met.png)\n",
    "\n",
    "</div>\n",
    "\n",
    "The model makes metabolic pathway analysis easy, because is breaks down the pathways into their respective reactions and enzymes.\n",
    "The *E. coli* core model contains only 137 genes, 95 reactions and 72 metabolites, what makes working with this model easier and more time efficient. \n",
    "The related flux balance analysis seeks to mathematically simulate metabolism in genome-scale reconstructions of metabolic network.  \n",
    "\n",
    "**Comparing database maps:**\n",
    "- $\\color{darkblue}{\\text{KEGG:}}$ Kyoto Encyclopedia of Genes and Genomes (KEGG) is a bioinformatics database containing information about genes, proteins, reactions and pathways. With the 'KEGG Pathway' option it is possible to find pathway maps in which the metabolite ID can be searched and is afterwards highlighted in the map.\n",
    "- $\\color{darkblue}{\\text{BioCyc/EcoCyc:}}$ A collection of pathway/genome databases for model organisms and contains software tools to explore them. The 'Metabolic Map' option makes finding metabolic pathways easy and time efficient by typing in the 'map-name'.\n",
    "- $\\color{darkblue}{\\text{BiGG:}}$ A bioinformatics database that utilizes the ESCHER map. This map visualizes metabolic pathways like Glycolysis and TCA-Cycle and provides information about metabolites and reactions. It dispalys different metabolic processes in one map, for instance, Glycolysis, TCA-Cycle, and electron transport chain.\n",
    "- $\\color{darkblue}{\\text{ChatGPT:}}$ Chat-AI that answers questions about any topic. It is not possible to create a map or any other form of visualization which gives less overview of the metabolic reactions. \n",
    "\n",
    "Database| Enzymes| Genes| Reactions| Pathways| Metabolites\n",
    ":-------:|:-------:|:-------:|:-------:|:-------:|:-------:\n",
    "KEGG       | X | - | X | XX | XXX |\n",
    "BioCyc/EcoCyc | XX | XX | XX | XX | XX |\n",
    "BiGG/ESCHER| - | - | XX | XXX | XX |\n",
    "ChatGPT    | X | - | X | - | X |\n",
    "  \n",
    "<hr>"
   ]
  },
  {
   "cell_type": "markdown",
   "metadata": {},
   "source": [
    "Set up the computational environment by running this cell.\\\n",
    "Make sure all neccessary files (EcoMetSim_functions, images) are loaded."
   ]
  },
  {
   "cell_type": "code",
   "execution_count": 1,
   "metadata": {},
   "outputs": [
    {
     "name": "stdout",
     "output_type": "stream",
     "text": [
      "Requirement already satisfied: biocircuits==0.1.11 in /home/ulf/anaconda3/envs/bls_py39/lib/python3.9/site-packages (from -r ../requirements.txt (line 1)) (0.1.11)\n",
      "Requirement already satisfied: biopython==1.79 in /home/ulf/anaconda3/envs/bls_py39/lib/python3.9/site-packages (from -r ../requirements.txt (line 2)) (1.79)\n",
      "Requirement already satisfied: cobra==0.29.0 in /home/ulf/anaconda3/envs/bls_py39/lib/python3.9/site-packages (from -r ../requirements.txt (line 3)) (0.29.0)\n",
      "Requirement already satisfied: matplotlib==3.5.1 in /home/ulf/anaconda3/envs/bls_py39/lib/python3.9/site-packages (from -r ../requirements.txt (line 7)) (3.5.1)\n",
      "Requirement already satisfied: numpy==1.23.5 in /home/ulf/anaconda3/envs/bls_py39/lib/python3.9/site-packages (from -r ../requirements.txt (line 8)) (1.23.5)\n",
      "Requirement already satisfied: openpyxl==3.1.0 in /home/ulf/anaconda3/envs/bls_py39/lib/python3.9/site-packages (from -r ../requirements.txt (line 9)) (3.1.0)\n",
      "Requirement already satisfied: pandas==2.2.2 in /home/ulf/anaconda3/envs/bls_py39/lib/python3.9/site-packages (from -r ../requirements.txt (line 10)) (2.2.2)\n",
      "Requirement already satisfied: setuptools in /home/ulf/anaconda3/envs/bls_py39/lib/python3.9/site-packages (from -r ../requirements.txt (line 13)) (67.6.0)\n",
      "Requirement already satisfied: scikit-learn==1.2.2 in /home/ulf/anaconda3/envs/bls_py39/lib/python3.9/site-packages (from -r ../requirements.txt (line 14)) (1.2.2)\n",
      "Requirement already satisfied: scipy==1.9.3 in /home/ulf/anaconda3/envs/bls_py39/lib/python3.9/site-packages (from -r ../requirements.txt (line 15)) (1.9.3)\n",
      "Requirement already satisfied: silvio==0.2.11 in /home/ulf/Documents/2109_BLS+SILVIO/silvio/src (from -r ../requirements.txt (line 16)) (0.2.11)\n",
      "Requirement already satisfied: wget==3.2 in /home/ulf/anaconda3/envs/bls_py39/lib/python3.9/site-packages (from -r ../requirements.txt (line 19)) (3.2)\n",
      "Requirement already satisfied: bokeh in /home/ulf/anaconda3/envs/bls_py39/lib/python3.9/site-packages (from biocircuits==0.1.11->-r ../requirements.txt (line 1)) (3.1.1)\n",
      "Requirement already satisfied: eqtk in /home/ulf/anaconda3/envs/bls_py39/lib/python3.9/site-packages (from biocircuits==0.1.11->-r ../requirements.txt (line 1)) (0.1.3)\n",
      "Requirement already satisfied: colorcet in /home/ulf/anaconda3/envs/bls_py39/lib/python3.9/site-packages (from biocircuits==0.1.11->-r ../requirements.txt (line 1)) (3.0.1)\n",
      "Requirement already satisfied: tqdm in /home/ulf/anaconda3/envs/bls_py39/lib/python3.9/site-packages (from biocircuits==0.1.11->-r ../requirements.txt (line 1)) (4.65.0)\n",
      "Requirement already satisfied: numba in /home/ulf/anaconda3/envs/bls_py39/lib/python3.9/site-packages (from biocircuits==0.1.11->-r ../requirements.txt (line 1)) (0.56.4)\n",
      "Requirement already satisfied: multiprocess in /home/ulf/anaconda3/envs/bls_py39/lib/python3.9/site-packages (from biocircuits==0.1.11->-r ../requirements.txt (line 1)) (0.70.14)\n",
      "Requirement already satisfied: depinfo~=2.2 in /home/ulf/anaconda3/envs/bls_py39/lib/python3.9/site-packages (from cobra==0.29.0->-r ../requirements.txt (line 3)) (2.2.0)\n",
      "Requirement already satisfied: pydantic>=1.6 in /home/ulf/anaconda3/envs/bls_py39/lib/python3.9/site-packages (from cobra==0.29.0->-r ../requirements.txt (line 3)) (1.9.0)\n",
      "Requirement already satisfied: rich>=8.0 in /home/ulf/anaconda3/envs/bls_py39/lib/python3.9/site-packages (from cobra==0.29.0->-r ../requirements.txt (line 3)) (12.2.0)\n",
      "Requirement already satisfied: diskcache~=5.0 in /home/ulf/anaconda3/envs/bls_py39/lib/python3.9/site-packages (from cobra==0.29.0->-r ../requirements.txt (line 3)) (5.4.0)\n",
      "Requirement already satisfied: optlang~=1.8 in /home/ulf/anaconda3/envs/bls_py39/lib/python3.9/site-packages (from cobra==0.29.0->-r ../requirements.txt (line 3)) (1.8.1)\n",
      "Requirement already satisfied: future in /home/ulf/anaconda3/envs/bls_py39/lib/python3.9/site-packages (from cobra==0.29.0->-r ../requirements.txt (line 3)) (0.18.2)\n",
      "Requirement already satisfied: python-libsbml~=5.19 in /home/ulf/anaconda3/envs/bls_py39/lib/python3.9/site-packages (from cobra==0.29.0->-r ../requirements.txt (line 3)) (5.19.0)\n",
      "Requirement already satisfied: appdirs~=1.4 in /home/ulf/anaconda3/envs/bls_py39/lib/python3.9/site-packages (from cobra==0.29.0->-r ../requirements.txt (line 3)) (1.4.4)\n",
      "Requirement already satisfied: httpx~=0.24 in /home/ulf/anaconda3/envs/bls_py39/lib/python3.9/site-packages (from cobra==0.29.0->-r ../requirements.txt (line 3)) (0.27.0)\n",
      "Requirement already satisfied: swiglpk in /home/ulf/anaconda3/envs/bls_py39/lib/python3.9/site-packages (from cobra==0.29.0->-r ../requirements.txt (line 3)) (5.0.10)\n",
      "Requirement already satisfied: ruamel.yaml~=0.16 in /home/ulf/anaconda3/envs/bls_py39/lib/python3.9/site-packages (from cobra==0.29.0->-r ../requirements.txt (line 3)) (0.17.21)\n",
      "Requirement already satisfied: importlib-resources in /home/ulf/anaconda3/envs/bls_py39/lib/python3.9/site-packages (from cobra==0.29.0->-r ../requirements.txt (line 3)) (5.12.0)\n",
      "Requirement already satisfied: fonttools>=4.22.0 in /home/ulf/anaconda3/envs/bls_py39/lib/python3.9/site-packages (from matplotlib==3.5.1->-r ../requirements.txt (line 7)) (4.31.2)\n",
      "Requirement already satisfied: cycler>=0.10 in /home/ulf/anaconda3/envs/bls_py39/lib/python3.9/site-packages (from matplotlib==3.5.1->-r ../requirements.txt (line 7)) (0.11.0)\n",
      "Requirement already satisfied: python-dateutil>=2.7 in /home/ulf/.local/lib/python3.9/site-packages (from matplotlib==3.5.1->-r ../requirements.txt (line 7)) (2.8.2)\n",
      "Requirement already satisfied: pillow>=6.2.0 in /home/ulf/anaconda3/envs/bls_py39/lib/python3.9/site-packages (from matplotlib==3.5.1->-r ../requirements.txt (line 7)) (9.4.0)\n",
      "Requirement already satisfied: pyparsing>=2.2.1 in /home/ulf/.local/lib/python3.9/site-packages (from matplotlib==3.5.1->-r ../requirements.txt (line 7)) (3.0.9)\n",
      "Requirement already satisfied: packaging>=20.0 in /home/ulf/.local/lib/python3.9/site-packages (from matplotlib==3.5.1->-r ../requirements.txt (line 7)) (21.3)\n",
      "Requirement already satisfied: kiwisolver>=1.0.1 in /home/ulf/anaconda3/envs/bls_py39/lib/python3.9/site-packages (from matplotlib==3.5.1->-r ../requirements.txt (line 7)) (1.4.2)\n",
      "Requirement already satisfied: et-xmlfile in /home/ulf/anaconda3/envs/bls_py39/lib/python3.9/site-packages (from openpyxl==3.1.0->-r ../requirements.txt (line 9)) (1.1.0)\n",
      "Requirement already satisfied: tzdata>=2022.7 in /home/ulf/anaconda3/envs/bls_py39/lib/python3.9/site-packages/tzdata-2024.1-py3.9.egg (from pandas==2.2.2->-r ../requirements.txt (line 10)) (2024.1)\n",
      "Requirement already satisfied: pytz>=2020.1 in /home/ulf/anaconda3/envs/bls_py39/lib/python3.9/site-packages (from pandas==2.2.2->-r ../requirements.txt (line 10)) (2022.7.1)\n",
      "Requirement already satisfied: threadpoolctl>=2.0.0 in /home/ulf/.local/lib/python3.9/site-packages (from scikit-learn==1.2.2->-r ../requirements.txt (line 14)) (3.1.0)\n",
      "Requirement already satisfied: joblib>=1.1.1 in /home/ulf/anaconda3/envs/bls_py39/lib/python3.9/site-packages (from scikit-learn==1.2.2->-r ../requirements.txt (line 14)) (1.4.2)\n",
      "Requirement already satisfied: pickleshare~=0.7 in /home/ulf/.local/lib/python3.9/site-packages (from silvio==0.2.11->-r ../requirements.txt (line 16)) (0.7.5)\n",
      "Requirement already satisfied: jinja2==3.0.3 in /home/ulf/anaconda3/envs/bls_py39/lib/python3.9/site-packages (from silvio==0.2.11->-r ../requirements.txt (line 16)) (3.0.3)\n",
      "Requirement already satisfied: MarkupSafe>=2.0 in /home/ulf/anaconda3/envs/bls_py39/lib/python3.9/site-packages (from jinja2==3.0.3->silvio==0.2.11->-r ../requirements.txt (line 16)) (2.1.2)\n",
      "Requirement already satisfied: anyio in /home/ulf/anaconda3/envs/bls_py39/lib/python3.9/site-packages (from httpx~=0.24->cobra==0.29.0->-r ../requirements.txt (line 3)) (3.5.0)\n",
      "Requirement already satisfied: idna in /home/ulf/anaconda3/envs/bls_py39/lib/python3.9/site-packages (from httpx~=0.24->cobra==0.29.0->-r ../requirements.txt (line 3)) (3.10)\n",
      "Requirement already satisfied: sniffio in /home/ulf/anaconda3/envs/bls_py39/lib/python3.9/site-packages (from httpx~=0.24->cobra==0.29.0->-r ../requirements.txt (line 3)) (1.2.0)\n",
      "Requirement already satisfied: certifi in /home/ulf/anaconda3/envs/bls_py39/lib/python3.9/site-packages (from httpx~=0.24->cobra==0.29.0->-r ../requirements.txt (line 3)) (2024.12.14)\n",
      "Requirement already satisfied: httpcore==1.* in /home/ulf/anaconda3/envs/bls_py39/lib/python3.9/site-packages (from httpx~=0.24->cobra==0.29.0->-r ../requirements.txt (line 3)) (1.0.5)\n",
      "Requirement already satisfied: h11<0.15,>=0.13 in /home/ulf/anaconda3/envs/bls_py39/lib/python3.9/site-packages (from httpcore==1.*->httpx~=0.24->cobra==0.29.0->-r ../requirements.txt (line 3)) (0.14.0)\n",
      "Requirement already satisfied: six>=1.9 in /home/ulf/.local/lib/python3.9/site-packages (from optlang~=1.8->cobra==0.29.0->-r ../requirements.txt (line 3)) (1.16.0)\n",
      "Requirement already satisfied: sympy>=1.12.0 in /home/ulf/anaconda3/envs/bls_py39/lib/python3.9/site-packages (from optlang~=1.8->cobra==0.29.0->-r ../requirements.txt (line 3)) (1.12)\n",
      "Requirement already satisfied: typing-extensions>=3.7.4.3 in /home/ulf/.local/lib/python3.9/site-packages (from pydantic>=1.6->cobra==0.29.0->-r ../requirements.txt (line 3)) (4.5.0)\n",
      "Requirement already satisfied: commonmark<0.10.0,>=0.9.0 in /home/ulf/anaconda3/envs/bls_py39/lib/python3.9/site-packages (from rich>=8.0->cobra==0.29.0->-r ../requirements.txt (line 3)) (0.9.1)\n",
      "Requirement already satisfied: pygments<3.0.0,>=2.6.0 in /home/ulf/anaconda3/envs/bls_py39/lib/python3.9/site-packages (from rich>=8.0->cobra==0.29.0->-r ../requirements.txt (line 3)) (2.14.0)\n",
      "Requirement already satisfied: ruamel.yaml.clib>=0.2.6 in /home/ulf/anaconda3/envs/bls_py39/lib/python3.9/site-packages (from ruamel.yaml~=0.16->cobra==0.29.0->-r ../requirements.txt (line 3)) (0.2.6)\n",
      "Requirement already satisfied: PyYAML>=3.10 in /home/ulf/anaconda3/envs/bls_py39/lib/python3.9/site-packages (from bokeh->biocircuits==0.1.11->-r ../requirements.txt (line 1)) (6.0)\n",
      "Requirement already satisfied: contourpy>=1 in /home/ulf/anaconda3/envs/bls_py39/lib/python3.9/site-packages (from bokeh->biocircuits==0.1.11->-r ../requirements.txt (line 1)) (1.0.7)\n",
      "Requirement already satisfied: xyzservices>=2021.09.1 in /home/ulf/anaconda3/envs/bls_py39/lib/python3.9/site-packages (from bokeh->biocircuits==0.1.11->-r ../requirements.txt (line 1)) (2023.2.0)\n",
      "Requirement already satisfied: tornado>=5.1 in /home/ulf/.local/lib/python3.9/site-packages (from bokeh->biocircuits==0.1.11->-r ../requirements.txt (line 1)) (6.2)\n",
      "Requirement already satisfied: pyct>=0.4.4 in /home/ulf/anaconda3/envs/bls_py39/lib/python3.9/site-packages (from colorcet->biocircuits==0.1.11->-r ../requirements.txt (line 1)) (0.5.0)\n",
      "Requirement already satisfied: zipp>=3.1.0 in /home/ulf/anaconda3/envs/bls_py39/lib/python3.9/site-packages (from importlib-resources->cobra==0.29.0->-r ../requirements.txt (line 3)) (3.15.0)\n",
      "Requirement already satisfied: dill>=0.3.6 in /home/ulf/anaconda3/envs/bls_py39/lib/python3.9/site-packages (from multiprocess->biocircuits==0.1.11->-r ../requirements.txt (line 1)) (0.3.6)\n",
      "Requirement already satisfied: llvmlite<0.40,>=0.39.0dev0 in /home/ulf/anaconda3/envs/bls_py39/lib/python3.9/site-packages (from numba->biocircuits==0.1.11->-r ../requirements.txt (line 1)) (0.39.1)\n",
      "Requirement already satisfied: param>=1.7.0 in /home/ulf/anaconda3/envs/bls_py39/lib/python3.9/site-packages (from pyct>=0.4.4->colorcet->biocircuits==0.1.11->-r ../requirements.txt (line 1)) (1.13.0)\n",
      "Requirement already satisfied: mpmath>=0.19 in /home/ulf/anaconda3/envs/bls_py39/lib/python3.9/site-packages (from sympy>=1.12.0->optlang~=1.8->cobra==0.29.0->-r ../requirements.txt (line 3)) (1.2.1)\n",
      "Environment ready.\n"
     ]
    }
   ],
   "source": [
    "# Adapting environment to GitHub or Google Colab\n",
    "# In GitHub, the full repository is available with all directories, and libraries can be installed with pip on requirements.txt\n",
    "# In Google Colab only the selected notebook is loaded and the requirements file must be downloaded from GitHub before installation.\n",
    "# \n",
    "\n",
    "# file system and path operations\n",
    "import os\n",
    "import sys\n",
    "if 'google.colab' in sys.modules:\n",
    "    IN_COLAB = True\n",
    "    # Download the requirements file\n",
    "    os.system('wget https://raw.githubusercontent.com/biolabsim/BioLabSim/refs/heads/master/requirements.txt')\n",
    "    os.system('pip install -r requirements.txt')\n",
    "else:\n",
    "    IN_COLAB = False\n",
    "    os.system('pip install -r ../requirements.txt')\n",
    "\n",
    "print('Environment ready.')"
   ]
  },
  {
   "cell_type": "code",
   "execution_count": 2,
   "metadata": {},
   "outputs": [
    {
     "name": "stdout",
     "output_type": "stream",
     "text": [
      "Done\n"
     ]
    }
   ],
   "source": [
    "# this code-cell sets up the computational environment for the notebook\n",
    "\n",
    "# file system and path operations\n",
    "import numpy as np\n",
    "import random\n",
    "from random import *\n",
    "# import matplotlib.pyplot as plt\n",
    "\n",
    "# load cobra toolbox and install it if necessary\n",
    "from cobra.io import read_sbml_model\n",
    "\n",
    "# load functions from the MetEngSim toolbox\n",
    "from silvio.MetEngSimFun import *\n",
    "\n",
    "print('Done')"
   ]
  },
  {
   "cell_type": "markdown",
   "metadata": {},
   "source": [
    "## set up model\n",
    "In this cell you generate your individual pair of two metabolites that will operate as substrate and product.\\\n",
    "The Output displays the metabolite ID, the maximal possible product rate and the currently generated product rate.\n",
    "\n",
    "**Input:**\n",
    "- your student ID\n",
    "\n",
    "Replace None with the correct input."
   ]
  },
  {
   "cell_type": "code",
   "execution_count": 3,
   "metadata": {},
   "outputs": [
    {
     "name": "stdout",
     "output_type": "stream",
     "text": [
      "Loading existing file e_coli_core.xml.gz\n",
      "['fum_e', 'ac_e'] [0.5]\n"
     ]
    },
    {
     "name": "stderr",
     "output_type": "stream",
     "text": [
      "/home/ulf/Documents/2109_BLS+SILVIO/silvio/src/silvio/MetEngSimFun.py:131: FutureWarning: Series.__getitem__ treating keys as positions is deprecated. In a future version, integer keys will always be treated as labels (consistent with DataFrame behavior). To access a value by position, use `ser.iloc[pos]`\n",
      "  if solution.fluxes[rct] > 0:\n",
      "/home/ulf/Documents/2109_BLS+SILVIO/silvio/src/silvio/MetEngSimFun.py:134: FutureWarning: Series.__getitem__ treating keys as positions is deprecated. In a future version, integer keys will always be treated as labels (consistent with DataFrame behavior). To access a value by position, use `ser.iloc[pos]`\n",
      "  model.reactions[rct].lower_bound = multiplier*solution.fluxes[rct]\n"
     ]
    }
   ],
   "source": [
    "Student_ID = 431540\n",
    "model, selected_pair, all_reactions, product, product_lim, _ = make_metabolite_combination(Student_ID)\n",
    "print(selected_pair, product_lim)"
   ]
  },
  {
   "cell_type": "markdown",
   "metadata": {},
   "source": [
    "You can generate a bar chart by executing this cell.\\\n",
    "It displays the maximal possible product flux and your current product flux. "
   ]
  },
  {
   "cell_type": "code",
   "execution_count": 4,
   "metadata": {},
   "outputs": [
    {
     "data": {
      "image/png": "[encoded data removed]",
      "text/plain": [
       "<Figure size 640x480 with 1 Axes>"
      ]
     },
     "metadata": {},
     "output_type": "display_data"
    }
   ],
   "source": [
    "create_bar_chart(all_reactions, product_lim)"
   ]
  },
  {
   "cell_type": "markdown",
   "metadata": {},
   "source": [
    "## Databases\n",
    "<hr>\n",
    "\n",
    "### Exercise: \n",
    "\n",
    "Have a look into the listed Databases to find pathway from substrate to product and associated reactions. \n",
    "Chose one Database that seems to work best for your combination and look at the reactions to chose one you would like to test in the Experiment.\n",
    "\n",
    "Put in the Metabolite ID of your substrate or product in 'None'. \\\n",
    "The Output gives you the database ID for your substrate and product.\n",
    "\n",
    "$\\color{darkblue}{\\text{TIPPS:}}$\\\n",
    "Every database-link leads you to a map where metabolites, enzymes and reactions are displayed. By guiding the cursor over, for example, a metabolite more information such as the meabolite ID is shown. Often the reaction is displayed as number, except for the Escher-map.\n",
    "Sometimes the database-ID is not the right ID for this model, use the two cells below to get the right ID for the model.\\\n",
    "$\\color{darkblue}\\text{KEGG:}$\\\n",
    " Copy the link for the TCA-Cycle or Clycolysis and just add the KEGG_ID into the search bar by adding +\"KEGG_ID\" without any spaces after the link. This will highlight the metabolite associated to the KEGG_ID and makes the serach for substrate and product more efficient.\\\n",
    "$\\color{darkblue}\\text{BiGG/Escher:}$\\\n",
    " Under 'View' and then 'Find', you can also search for individual metabolites and display them by entering the metabolite ID or name.\\\n",
    "$\\color{darkblue}\\text{ChatGPT:}$\\\n",
    "Give precise commands and provide the AI with all information you gathered to this point. It will help achieving your goal more time efficient and keep in mind that there is no map or visualization like in the other databases. \n",
    "\n",
    "**Input:**\n",
    "\n",
    "- Metabolite ID for substrate or product in (' ')\n"
   ]
  },
  {
   "cell_type": "code",
   "execution_count": 9,
   "metadata": {},
   "outputs": [
    {
     "name": "stdout",
     "output_type": "stream",
     "text": [
      "C00022\n",
      "C00042\n",
      "pyr\n",
      "succ\n",
      "META:PYRUVATE\n",
      "META:SUC\n"
     ]
    }
   ],
   "source": [
    "# get KEGG ID for substrate \n",
    "print(model.metabolites.get_by_id('pyr_e').annotation['kegg.compound'])\n",
    "# get KEGG ID for product\n",
    "print(model.metabolites.get_by_id('succ_e').annotation['kegg.compound'])\n",
    "\n",
    "# get BiGG ID for substrate\n",
    "print(model.metabolites.get_by_id('pyr_e').annotation['bigg.metabolite'])\n",
    "# get BiGG ID for product\n",
    "print(model.metabolites.get_by_id('succ_e').annotation['bigg.metabolite'])\n",
    "\n",
    "# get EcoCyc ID for substrate\n",
    "print(model.metabolites.get_by_id('pyr_e').annotation['biocyc'])\n",
    "# get EcoCyc ID for product\n",
    "print(model.metabolites.get_by_id('succ_e').annotation['biocyc'])\n",
    "\n",
    "# https://www.genome.jp/pathway/map00020 +KEGG_ID # KEGG TCA-cycle\n",
    "# https://www.genome.jp/pathway/map00010 +KEGG_ID # KEGG Glycolysis\n",
    "# https://escher.github.io/#/app?map=e_coli_core.Core%20metabolism&tool=Builder&model=e_coli_core # BiGG/Escher\n",
    "# https://biocyc.org/pathway?orgid=ECOLI&id=TCA&detail-level=2 # EcoCyc TCA-cycle\n",
    "# https://biocyc.org/pathway?orgid=ECOLI&id=GLYCOLYSIS&detail-level=2 # EcoCyc Glycolysis\n",
    "# https://chatgpt.com # ChatGPT"
   ]
  },
  {
   "cell_type": "markdown",
   "metadata": {},
   "source": [
    "The next two Code-cells might help to find the reaction ID you're looking for. By searching the metabolite and the reactions this metabolite participates in, you get information about the reaction ID, reaction name and the reaction itself. Consider Capital letters for the first letter.\\\n",
    "Have a close look at your metabolite-pair and especially the pathway and consider different component of the metabolism.\n",
    "\n",
    "**Input:**\n",
    "- search_met: the metabolite name or any short form to find the metabolite ID\n",
    "- met_reactions: metabolite ID you extracted from previous cell to get information about the reaction"
   ]
  },
  {
   "cell_type": "code",
   "execution_count": 10,
   "metadata": {},
   "outputs": [
    {
     "data": {
      "text/plain": [
       "[<Metabolite ac_c at 0x7f97e2fdbe20>,\n",
       " <Metabolite ac_e at 0x7f97e2fdbf70>,\n",
       " <Metabolite acald_c at 0x7f97e2fdbfa0>,\n",
       " <Metabolite acald_e at 0x7f97e2fdb700>,\n",
       " <Metabolite accoa_c at 0x7f97e2fdb820>,\n",
       " <Metabolite actp_c at 0x7f97e2fdb760>]"
      ]
     },
     "execution_count": 10,
     "metadata": {},
     "output_type": "execute_result"
    }
   ],
   "source": [
    "search_met = 'Acet'\n",
    "model.metabolites.query(search_met, 'name')"
   ]
  },
  {
   "cell_type": "code",
   "execution_count": 11,
   "metadata": {},
   "outputs": [
    {
     "data": {
      "text/plain": [
       "[['ACALD',\n",
       "  'Acetaldehyde dehydrogenase (acetylating)',\n",
       "  'acald_c + coa_c + nad_c <=> accoa_c + h_c + nadh_c'],\n",
       " ['ACALDt', 'Acetaldehyde reversible transport', 'acald_e <=> acald_c'],\n",
       " ['ALCD2x',\n",
       "  'Alcohol dehydrogenase (ethanol)',\n",
       "  'etoh_c + nad_c <=> acald_c + h_c + nadh_c']]"
      ]
     },
     "execution_count": 11,
     "metadata": {},
     "output_type": "execute_result"
    }
   ],
   "source": [
    "met_reactions = 'acald_c'\n",
    "# list comprehension to show all reactions that contain the metabolite\n",
    "[[reaction.id, reaction.name, reaction.reaction] for reaction in model.metabolites.get_by_id(met_reactions).reactions]"
   ]
  },
  {
   "cell_type": "markdown",
   "metadata": {},
   "source": [
    "## Experiment\n",
    "<hr>\n",
    "\n",
    "**Input:** \n",
    "- target_reaction: any reaction ID of your choice. Consider using the code-cells above to find right reaction ID for this model."
   ]
  },
  {
   "cell_type": "code",
   "execution_count": 14,
   "metadata": {},
   "outputs": [
    {
     "name": "stdout",
     "output_type": "stream",
     "text": [
      "['fum_e --> ac_e limited', 'ACt2r', 'ACt2r']\n"
     ]
    }
   ],
   "source": [
    "# reaction ID of choice \n",
    "target_reaction = 'ACt2r'\n",
    "\n",
    "# add reaction ID to list of all reactions\n",
    "all_reactions.append(target_reaction)\n",
    "print(all_reactions)\n",
    "\n",
    "# optimize the model with reaction ID\n",
    "model = optimize_reaction(model, target_reaction)\n",
    "product_lim.append(round(model.slim_optimize(),2) / product)"
   ]
  },
  {
   "cell_type": "markdown",
   "metadata": {},
   "source": [
    "Here you can extend the bar chart to show the reaction ID you put in above and the product flux associated to that reaction. Compare the old product flux with the newly generated and decide if your chosen reaction ID is correct.\\\n",
    "If the reaction ID is correct try to extend the product flux even more, you may even be able to reach the old production rate."
   ]
  },
  {
   "cell_type": "code",
   "execution_count": 15,
   "metadata": {},
   "outputs": [
    {
     "data": {
      "image/png": "[encoded data removed]",
      "text/plain": [
       "<Figure size 432x288 with 1 Axes>"
      ]
     },
     "metadata": {
      "needs_background": "light"
     },
     "output_type": "display_data"
    }
   ],
   "source": [
    "# check if reaction ID is correct and model is optimized\n",
    "create_bar_chart(all_reactions, product_lim)"
   ]
  }
 ],
 "metadata": {
  "kernelspec": {
   "display_name": "bls_py39",
   "language": "python",
   "name": "python3"
  },
  "language_info": {
   "codemirror_mode": {
    "name": "ipython",
    "version": 3
   },
   "file_extension": ".py",
   "mimetype": "text/x-python",
   "name": "python",
   "nbconvert_exporter": "python",
   "pygments_lexer": "ipython3",
   "version": "3.9.12"
  }
 },
 "nbformat": 4,
 "nbformat_minor": 2
}
