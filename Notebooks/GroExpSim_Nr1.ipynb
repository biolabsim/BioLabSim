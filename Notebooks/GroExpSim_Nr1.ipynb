{
 "cells": [
  {
   "attachments": {},
   "cell_type": "markdown",
   "metadata": {},
   "source": [
    "# Growth Experiment Analysis in Biotechnology\n",
    "***\n",
    "\n",
    "## Background\n",
    "Microbial growth dynamics play a pivotal role in industrial biotechnology, influencing various processes ranging from pharmaceutical production to wastewater treatment. Understanding the factors that govern microbial growth is crucial for optimizing biotechnological processes and harnessing the full potential of microorganisms. In this course, we delve into the significance of microbial growth in industrial biotechnology, elucidate the key factors influencing growth dynamics, and provide a concise overview of important growth laws used to characterize microbial growth patterns.\n",
    "\n",
    "Microbial growth serves as the cornerstone of industrial biotechnology, facilitating the production of valuable compounds such as antibiotics, enzymes, biofuels, and organic acids. The ability of microorganisms to rapidly multiply under controlled conditions makes them indispensable for various biotechnological applications. By harnessing the metabolic capabilities of microorganisms, biotechnologists can efficiently convert renewable resources into high-value products, thus contributing to sustainable development and reducing reliance on fossil fuels.\n",
    "\n",
    "Several factors influence microbial growth dynamics, including environmental conditions, substrate availability, pH, temperature, and the presence of inhibitory compounds. The growth of microorganisms is highly sensitive to these factors, with each species exhibiting distinct growth characteristics under varying conditions. **Temperature, in particular, plays a crucial role** in determining the rate and extent of microbial growth, with each microorganism having an optimal growth temperature range. Additionally, the availability of nutrients and substrate concentration profoundly impacts microbial growth, with excess or limited nutrient availability leading to altered growth kinetics.\n",
    "\n",
    "In the realm of industrial biotechnology, understanding microbial growth kinetics is imperative for process optimization and scale-up. Various growth laws and mathematical models have been developed to describe the growth dynamics of microorganisms under different conditions. Among these, the **exponential growth model, also known as the Malthusian growth model**, describes microbial growth as an exponential increase in cell number over time in a constant environment with abundant nutrients. However, in many real-world scenarios, microbial growth is constrained by factors such as limited nutrients or space, leading to logistic growth, which is described by the **logistic growth model, aka Verhulst equation**. This model accounts for a carrying capacity, representing the maximum population size that the environment can support.\n",
    "\n",
    "Moreover, the **Monod equation** provides insights into substrate utilization kinetics by relating the specific growth rate of microorganisms to the substrate concentration. This model is particularly valuable in bioprocess engineering for predicting substrate uptake rates and optimizing fermentation conditions. Additionally, the Haldane equation extends the Monod equation by considering substrate inhibition, which occurs when high substrate concentrations inhibit microbial growth.\n",
    "\n",
    "In conclusion, microbial growth dynamics are fundamental to industrial biotechnology, driving processes that underpin the production of a myriad of valuable products. By elucidating the factors influencing growth and employing mathematical models to characterize growth kinetics, biotechnologists can optimize bioprocesses, enhance product yields, and foster innovation in the field of industrial biotechnology. Continued research in microbial growth dynamics holds the key to unlocking new avenues for sustainable production and addressing global challenges in healthcare, agriculture, and environmental conservation.\n",
    "\n",
    "## Running simulations\n",
    "The code cells below contain the commands to simulate the experiments. User input is required for variables that are by default set to `None`. Some simulated experiments cost money and the associated expenses are described in the respective text.\n",
    "\n",
    "The final outcome of this sheet is an Excel file with simulated growth experiments containing biomass and substrate dynamics. The analysis of the Excel sheet to calculate growth rate, substrate uptake rate and yields is performed with the subsequent notebook [GroExpSim_Nr2](./GroExpSim_Nr2.ipynb).\n",
    "\n",
    "## Learning Objectives\n",
    "The students achieve the following learning objectives based on [Bloom's taxonomy](https://cft.vanderbilt.edu/guides-sub-pages/blooms-taxonomy/).\n",
    "- List three growth laws. (Remember)\n",
    "- Explain why an exponential growth is ultimately unrealistic. (Understand)\n",
    "- Identify the correct growth law for a growth curve. (Apply)\n",
    "- Calculate growth rates from growth data. (Analyze)\n",
    "- Judge by the sampling of a growth experiment whether the growth rate calculation will be reliable. (Evaluate) \n",
    "\n",
    "### Additional information:\n",
    "- Hagen, Exponential growth of bacteria: Constant multiplication through division, American Journal of Physics, 2010. doi [10.1119/1.3483278](https://doi.org/10.1119/1.3483278)\n",
    "- [Biotechnology: An illustrated primer](https://application.wiley-vch.de/books/sample/3527335153_c01.pdf)\n",
    "- [Wikipedia, Population Dynamics](https://en.wikipedia.org/wiki/Population_dynamics)\n",
    "\n",
    "## Workflow\n",
    "\n",
    "**0 Setup of computational environment**\n",
    " * *0.1 Loading Python libraries and functions*\n",
    "\n",
    "**1 Set-up of simulation environment**\n",
    " * *1.1 Seeding your individual organism*\n",
    "\n",
    "**2 Optimal temperature experiment**\n",
    " * *2.1 Shake-flask experiment simulation and data export* \n",
    " * *2.2 Growth rate calulation in either Python or Excel*\n",
    " \n",
    "**3 Optical density to dry weight conversion**\n",
    " * *3.1 Shake-flask experiment simulation and data export*\n",
    " * *3.2 Conversion factor calculation in either Python or Excel*\n",
    " \n",
    "**4 Substrate uptake experiment**\n",
    " * *4.1 Experiment setup and data export*\n",
    "\n",
    "---\n",
    "\n",
    "## 0 Set-up of simulation environment\n",
    "### 0.1 Loading libraries\n",
    "Loading libraries and fixing visualization. No user input necessary."
   ]
  },
  {
   "cell_type": "code",
   "execution_count": null,
   "metadata": {},
   "outputs": [],
   "source": [
    "# Loading of important functionalities for the notebook:\n",
    "import os                           # navigate the file system\n",
    "import numpy as np                  # a library fo manipulation of numbers\n",
    "import matplotlib.pyplot as plt     # a library for plotting\n",
    "\n",
    "# Initialization, loading of all laboratory functionalities and stored models and information of the organisms:\n",
    "try:\n",
    "    import silvio\n",
    "except ImportError:\n",
    "    print(\"silvio not found, installing...\")\n",
    "    %pip install silvio\n",
    "    import silvio\n",
    "\n",
    "from silvio.catalog.GroExpSim import GrowthExperiment\n",
    "\n",
    "Par_Bud = 5000\n",
    "\n",
    "print('silvio version: ',silvio.__version__)\n",
    "print('System ready')"
   ]
  },
  {
   "attachments": {},
   "cell_type": "markdown",
   "metadata": {},
   "source": [
    "## 1.1 Lab setup\n",
    "\n",
    "The physiological conditions of the simulation are defined. The choice of organism has no effect on the parameters.\n",
    "\n",
    "**Resource cost:**\n",
    "* **Free** \n",
    "\n",
    "**Input:** \n",
    "* **`mySeed`: Integer, e.g., Student-ID**\n",
    "* **`myInvest`: Integer, 1000-2000 Eur (10-20% of total budget)**\n",
    "* **`Organism`: String, identifier of your organism, e.g. 'Superbug'**\n",
    "\n",
    "**Output:** \n",
    "* Text with remaining budget, experiment failure rate and internal organism identifier.\n"
   ]
  },
  {
   "cell_type": "code",
   "execution_count": null,
   "metadata": {},
   "outputs": [],
   "source": [
    "mySeed = None           # integer, user defined number to initiate random organism\n",
    "myInvest = None         # integer, your lab expenditure, choose anything between 1000-2500\n",
    "Organism = None         # string, name the organism you want to study, e.g. 'Superbug'\n",
    "\n",
    "exp = GrowthExperiment(mySeed, myInvest, Par_Bud)\n",
    "\n",
    "host = exp.create_host(Organism)\n",
    "exp.print_status()"
   ]
  },
  {
   "attachments": {},
   "cell_type": "markdown",
   "metadata": {},
   "source": [
    "----\n",
    "## 2 Optimal temperature experiment\n",
    "\n",
    "### 2.1 Shake-flask experiment simulation and data export\n",
    "You have to identify the optimal growth temperature, the corresponding maximum growth rate and the maximum biomass of your strain by cultivating the cells at different temperatures. For each program start the optimal temperature and the maximum biomass is randomly initiated. The optimal temperature is sampled from the range of temperatures for **mesophilic microorganisms** within 20-40°C. Occasionally, a culture will not grow at all and therefore it might be helpful to measure temperature replicates. However, be aware that each cultivation costs resources.     \n",
    "\n",
    "The results from the temperature experiments are stored in a comma separated value (csv) file in the `Data` subfolder as `Growth_Simulation.csv`. You can find the csv-file in the left navigation panel within the `biolabsim` folder. For quick inspection double click the csv-file, for downloading and subsequent analysis in Excel right click on the file name and choose 'Download'.        \n",
    "\n",
    "If you want to do another set of experiments afterwards, or if you want to repeat individual experiments, you should make sure that you change the ID of your set of experiments (experiments_ID), otherwise results already generated may be overwritten. By default the experiments_ID has the value `1`, as is shown in the code cell below. \n",
    "\n",
    "**Resource cost:**\n",
    "* **100 EUR**\n",
    "\n",
    "**Input:**\n",
    "* **`temperatures`: Integer list of temperature array, e.g. [22,24,26,28,30,32,34,36,38]**\n",
    "* **`FileName`: String as identifier, e.g. 'TempGrowthExperiment.csv'**\n",
    "\n",
    "**Output:**\n",
    "* File `TempGrowthExperiment.csv` in `Data` subfolder."
   ]
  },
  {
   "cell_type": "code",
   "execution_count": null,
   "metadata": {},
   "outputs": [],
   "source": [
    "temperatures = [26, 27, 28, 29] # Choose a list of temperatures between 20-40, e.g. [20, 25, 30, 35, 40]\n",
    "FileName = 'TempGrowthExperiment.csv'\n",
    "\n",
    "# Perform the simulated experiment:\n",
    "exp.measure_TemperatureGrowth(Organism, temperatures, FileName)\n",
    "exp.print_status()"
   ]
  },
  {
   "attachments": {},
   "cell_type": "markdown",
   "metadata": {},
   "source": [
    "### 2.2 Growth rate calculation in either Python or Excel\n",
    "The experimental results are stored in the csv-file. Analyse the data either with Python with the following code with scambled line or separately with e.g. Excel, Origin or GraphPad. Correct the line of code to visualize the logarithmic biomass over time.\n",
    "\n",
    "#### Visualize the data\n",
    "The following code block contains the commands to visualize the experimental data. However, the command lines are scrambled and you need to find the correct sequence.\n",
    "1. Define the file name and location\n",
    "2. Read the file into a Python variable\n",
    "3. Extract the variables of interest from the Python variable\n",
    "4. Apply the natural logarithm to the biomass\n",
    "5. Plot the data as scatter plot\n",
    "6. Add a legend to discriminate the different temperature experiments\n",
    "\n",
    "Note: If you changed the file name of the data export for the temperature experiment, you need to update the name in the command line for the source data file."
   ]
  },
  {
   "cell_type": "code",
   "execution_count": null,
   "metadata": {},
   "outputs": [],
   "source": [
    "# Correct code sequence for plotting\n",
    "\n",
    "Time, Biomass = my_data[:,0], my_data[:,1:]\n",
    "DataFile = os.path.join('..','Data','TempGrowthExperiment.csv')\n",
    "LnBiomass = np.log(Biomass)\n",
    "[plt.scatter(Time, X, label=Exp) for Exp,X in enumerate(LnBiomass.T)]\n",
    "plt.legend([r'{}:{}$^\\circ$C'.format(Idx, T) for Idx, T in enumerate(temperatures)], bbox_to_anchor=(1.05, 1), loc='upper left'); plt.xlabel('time, h'); plt.ylabel('ln(Biomass)')\n",
    "my_data = np.genfromtxt(DataFile, delimiter=',', skip_header=1)\n"
   ]
  },
  {
   "attachments": {},
   "cell_type": "markdown",
   "metadata": {},
   "source": [
    "#### Calculate linear regression\n",
    "In the following cell, the linear regression `polyfit` is performed on the logarithmic biomass values, `LnBiomass` from the previous cell. The slope equals the growth rate and regression provides a standard deviation. \n",
    "\n",
    "To get correct code you have to rearrange the last three lines."
   ]
  },
  {
   "cell_type": "code",
   "execution_count": null,
   "metadata": {},
   "outputs": [],
   "source": [
    "# For None enter the corresponding values of experiment index with fastest growth and latest time of linear growth (integer number).\n",
    "# %load Snippets/snip_GrowthPars.py\n",
    "Idx_optT = 2 # Insert the experiment ID for the optimal temperature\n",
    "Linear_optT = 7 # Insert the time point when linearized, exponential growth ceases\n",
    "\n",
    "# Rearrange the correct code sequence for calculating the growth and biomass parameters here.\n",
    "GR, cov = np.polyfit(Time[:Linear_optT],LnBiomass[:Linear_optT,Idx_optT],1, cov=True)\n",
    "print(f'Growth rate: {GR_mean:.2f}±{GR_std:.2f} /h')\n",
    "GR_mean, GR_std = GR[0], np.sqrt(np.diag(cov))[0]"
   ]
  },
  {
   "attachments": {},
   "cell_type": "markdown",
   "metadata": {},
   "source": [
    "---\n",
    "## 3 Optical density to dry weight conversion\n",
    "### 3.1 Shake-flask experiment simulation and data export\n",
    "In literature the standard reporting for biomass is gramm dry weight (gDW). In the lab, the measurement by optical density is typical and thus, a conversion between these units need to be established. Typically, a culture is grown for a period of time and harvested during exponential growth. All liquid is removed by baking in the oven or microwave and the remaining biomass powder is weighted.\n",
    "\n",
    "In the following, you conduct an experiment to determine the conversion factor. Choose the optimal temperature, and appropriate values for cultivation time and substrate concentration to end approximately in exponential phase. The result is stored in a csv-file in the Data folder. Make sure the substrate is consumed (0-20% remaining) at the end of the experiment.\n",
    "\n",
    "**Resource cost:**\n",
    "* **25 EUR/replicate**\n",
    "\n",
    "**Input:**\n",
    "* **`Temperatures`: Integer, optimal temperature**\n",
    "* **`FinalTime`: Integer, hours to harvest biomass**\n",
    "* **`SubstrateConc`: Integer/float, Initial glucose concentration in g/L**\n",
    "* **`Replicates`: Integer, Parallel experiments for better statistics**\n",
    "\n",
    "**Output:**\n",
    "* **File `OD-DryWeight_<Temperature>C_<FinalTime>h_<Substrate>gL-1.csv`**\n"
   ]
  },
  {
   "cell_type": "code",
   "execution_count": null,
   "metadata": {},
   "outputs": [],
   "source": [
    "Temperature = 28    # Choose a temperature between 20-40\n",
    "FinalTime = 24      # Choose a final time in hours\n",
    "SubstrateConc = 50  # Choose a glucose concentration in g/L\n",
    "Replicates = 3      # Choose the number of replicates\n",
    "FileName = f'OD-DryWeight_{Temperature}C_{FinalTime}h_{SubstrateConc}gL-1.csv'\n",
    "\n",
    "# Perform the simulated experiment:\n",
    "exp.measure_DryWeight(Organism, Temperature, FinalTime, SubstrateConc, Replicates, FileName)"
   ]
  },
  {
   "attachments": {},
   "cell_type": "markdown",
   "metadata": {},
   "source": [
    "### 3.2 Conversion factor calculation in either Python or Excel\n",
    "The conversion factor is simply calculated by dividing the biomass dry weight with the OD. The factor can be multiplied to the OD to get the corresponding dry weight. \n",
    "\n",
    "Perform the analysis on the replicates by calculating mean and standard deviation either with the Python code with scrambled lines below or use Excel, Origin, GraphPad or similar."
   ]
  },
  {
   "cell_type": "code",
   "execution_count": null,
   "metadata": {},
   "outputs": [],
   "source": [
    "# Rearrange the correct code sequence for calculating the OD and gDW correlation.\n",
    "# The code does not need any further input, it assumes the filename is the same as above.\n",
    "\n",
    "my_data = np.genfromtxt(DataFile, delimiter=',', skip_header=1)\n",
    "DataFile = os.path.join('..', 'Data',FileName)\n",
    "OD2XAvg = round(np.average(DryWeight/OD),3)\n",
    "print(f'The OD to dry weight conversion factor: {OD2XAvg}±{OD2XStd} (gDW/L)/OD')\n",
    "OD2XStd = round(np.std(DryWeight/OD),3)\n",
    "DryWeight, OD = my_data[:,1], my_data[:,3]"
   ]
  },
  {
   "attachments": {},
   "cell_type": "markdown",
   "metadata": {},
   "source": [
    "---\n",
    "## 4 Substrate uptake experiments\n",
    "### 4.1 Experiment setup and data export\n",
    "\n",
    "During the experiment the substrate concentration as g/L and biomass as OD is measured. Use the optimal temperature you identified previously, decide which substrate concentration to choose and the total time for sampling. Make sure that the exponential phase as well as the stationary phase are measured. You also set the amount of sampling per hour, this gives you better statistical results, but results in higher expenses. There is a night time recurring every 24h, during which no measurements are taken for approximately six hours. You can start your experiment relative to the night start.\n",
    "\n",
    "\n",
    "\n",
    "**Resource cost:**\n",
    "* **~6 EUR/Sample**\n",
    "\n",
    "**Input:**\n",
    "* **`Temperatures`: Integer, optimal temperature**\n",
    "* **`SubstrateConc`: Integer list, initial glucose concentrations in g/L, e.g. [10,20,50]**\n",
    "* **`TotalTime`: Integer list, experiment duration in hours, e.g. [12,20,30]**\n",
    "* **`SamplingTime`: Integer/float list, sampling interval in hours in each experiment, e.g. .5 means every half hour, e.g., [.5,1,2]**\n",
    "* **`NightStart`: Integer, duration until night begins when no samples are taken, recurring every 24h for all experiments**\n",
    "\n",
    "**Output:**\n",
    "* **Excel file `GrowthExperiment_StandardFormat.xlsx' with sheets:**\n",
    "  * **`<OrganismID>_<Temp>C_<Duration>h_<Substrate>gL-1` for each experiment**\n"
   ]
  },
  {
   "cell_type": "code",
   "execution_count": null,
   "metadata": {},
   "outputs": [],
   "source": [
    "Temperature = 28 # Single integer, unit: °C\n",
    "SubstrateConc = [.5] # as list in [], unit: g/L\n",
    "TotalTime = [80]  # as list in [], unit: hours\n",
    "SamplingTime = [2.5] # as list in [], unit: sampling intervall in hour\n",
    "NightStart = 10 # Single integer. Duration in hours when the night starts. No measurements for 6h and repeating every 24h.\n",
    "# The data is saved in the 'Data' subfolder. Choose the name of the file and add description of the experiment, like the substrate concentration, Temperature, etc.\n",
    "\n",
    "for SubstrateConc, TotalTime, SamplingTime in zip(SubstrateConc, TotalTime, SamplingTime):\n",
    "    FileName = f'{Organism}_{Temperature}C_{TotalTime}h_{SubstrateConc}gL-1' # add file type .csv\n",
    "\n",
    "    myDat = exp.measure_BiomassSubstrateExp(Organism, Temperature, [TotalTime, SamplingTime], SubstrateConc, NightStart, FileName);\n",
    "exp.print_status()\n",
    "print('Experimental results stored in the Data folder, GrowthExperiment_StandardFormat.xlsx file')"
   ]
  },
  {
   "attachments": {},
   "cell_type": "markdown",
   "metadata": {},
   "source": [
    "Text composition is supported by ChatGPT."
   ]
  }
 ],
 "metadata": {
  "kernelspec": {
   "display_name": "bls_py39",
   "language": "python",
   "name": "python3"
  },
  "language_info": {
   "codemirror_mode": {
    "name": "ipython",
    "version": 3
   },
   "file_extension": ".py",
   "mimetype": "text/x-python",
   "name": "python",
   "nbconvert_exporter": "python",
   "pygments_lexer": "ipython3",
   "version": "3.9.12"
  },
  "orig_nbformat": 4
 },
 "nbformat": 4,
 "nbformat_minor": 2
}
