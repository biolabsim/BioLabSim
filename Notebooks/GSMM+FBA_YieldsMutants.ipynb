{
 "cells": [
  {
   "attachments": {},
   "cell_type": "markdown",
   "metadata": {},
   "source": [
    "# Calculating yields and prediction of expression modulation targets"
   ]
  },
  {
   "attachments": {},
   "cell_type": "markdown",
   "metadata": {},
   "source": [
    "The following chapter deals with the calculation of product and biomass yields in relation to different carbon sources and the prediction of expression modulation targets.\n",
    "\n",
    "If input is required by you, this is indicated as `None`."
   ]
  },
  {
   "cell_type": "code",
   "execution_count": 1,
   "metadata": {},
   "outputs": [
    {
     "name": "stdout",
     "output_type": "stream",
     "text": [
      "Requirement already satisfied: biocircuits==0.1.11 in /home/ulf/anaconda3/envs/bls_py39/lib/python3.9/site-packages (from -r ../requirements.txt (line 1)) (0.1.11)\n",
      "Requirement already satisfied: biopython==1.79 in /home/ulf/anaconda3/envs/bls_py39/lib/python3.9/site-packages (from -r ../requirements.txt (line 2)) (1.79)\n",
      "Requirement already satisfied: cobra==0.29.0 in /home/ulf/anaconda3/envs/bls_py39/lib/python3.9/site-packages (from -r ../requirements.txt (line 3)) (0.29.0)\n",
      "Requirement already satisfied: matplotlib==3.5.1 in /home/ulf/anaconda3/envs/bls_py39/lib/python3.9/site-packages (from -r ../requirements.txt (line 7)) (3.5.1)\n",
      "Requirement already satisfied: numpy==1.23.5 in /home/ulf/anaconda3/envs/bls_py39/lib/python3.9/site-packages (from -r ../requirements.txt (line 8)) (1.23.5)\n",
      "Requirement already satisfied: openpyxl==3.1.0 in /home/ulf/anaconda3/envs/bls_py39/lib/python3.9/site-packages (from -r ../requirements.txt (line 9)) (3.1.0)\n",
      "Requirement already satisfied: pandas==2.2.2 in /home/ulf/anaconda3/envs/bls_py39/lib/python3.9/site-packages (from -r ../requirements.txt (line 10)) (2.2.2)\n",
      "Requirement already satisfied: setuptools in /home/ulf/anaconda3/envs/bls_py39/lib/python3.9/site-packages (from -r ../requirements.txt (line 13)) (67.6.0)\n",
      "Requirement already satisfied: scikit-learn==1.2.2 in /home/ulf/anaconda3/envs/bls_py39/lib/python3.9/site-packages (from -r ../requirements.txt (line 14)) (1.2.2)\n",
      "Requirement already satisfied: scipy==1.9.3 in /home/ulf/anaconda3/envs/bls_py39/lib/python3.9/site-packages (from -r ../requirements.txt (line 15)) (1.9.3)\n",
      "Requirement already satisfied: silvio in /home/ulf/anaconda3/envs/bls_py39/lib/python3.9/site-packages (from -r ../requirements.txt (line 16)) (0.2.6)\n",
      "Requirement already satisfied: wget==3.2 in /home/ulf/anaconda3/envs/bls_py39/lib/python3.9/site-packages (from -r ../requirements.txt (line 19)) (3.2)\n",
      "Requirement already satisfied: bokeh in /home/ulf/anaconda3/envs/bls_py39/lib/python3.9/site-packages (from biocircuits==0.1.11->-r ../requirements.txt (line 1)) (3.1.1)\n",
      "Requirement already satisfied: numba in /home/ulf/anaconda3/envs/bls_py39/lib/python3.9/site-packages (from biocircuits==0.1.11->-r ../requirements.txt (line 1)) (0.56.4)\n",
      "Requirement already satisfied: colorcet in /home/ulf/anaconda3/envs/bls_py39/lib/python3.9/site-packages (from biocircuits==0.1.11->-r ../requirements.txt (line 1)) (3.0.1)\n",
      "Requirement already satisfied: eqtk in /home/ulf/anaconda3/envs/bls_py39/lib/python3.9/site-packages (from biocircuits==0.1.11->-r ../requirements.txt (line 1)) (0.1.3)\n",
      "Requirement already satisfied: multiprocess in /home/ulf/anaconda3/envs/bls_py39/lib/python3.9/site-packages (from biocircuits==0.1.11->-r ../requirements.txt (line 1)) (0.70.14)\n",
      "Requirement already satisfied: tqdm in /home/ulf/anaconda3/envs/bls_py39/lib/python3.9/site-packages (from biocircuits==0.1.11->-r ../requirements.txt (line 1)) (4.65.0)\n",
      "Requirement already satisfied: depinfo~=2.2 in /home/ulf/anaconda3/envs/bls_py39/lib/python3.9/site-packages (from cobra==0.29.0->-r ../requirements.txt (line 3)) (2.2.0)\n",
      "Requirement already satisfied: python-libsbml~=5.19 in /home/ulf/anaconda3/envs/bls_py39/lib/python3.9/site-packages (from cobra==0.29.0->-r ../requirements.txt (line 3)) (5.19.0)\n",
      "Requirement already satisfied: appdirs~=1.4 in /home/ulf/anaconda3/envs/bls_py39/lib/python3.9/site-packages (from cobra==0.29.0->-r ../requirements.txt (line 3)) (1.4.4)\n",
      "Requirement already satisfied: rich>=8.0 in /home/ulf/anaconda3/envs/bls_py39/lib/python3.9/site-packages (from cobra==0.29.0->-r ../requirements.txt (line 3)) (12.2.0)\n",
      "Requirement already satisfied: ruamel.yaml~=0.16 in /home/ulf/anaconda3/envs/bls_py39/lib/python3.9/site-packages (from cobra==0.29.0->-r ../requirements.txt (line 3)) (0.17.21)\n",
      "Requirement already satisfied: swiglpk in /home/ulf/anaconda3/envs/bls_py39/lib/python3.9/site-packages (from cobra==0.29.0->-r ../requirements.txt (line 3)) (5.0.10)\n",
      "Requirement already satisfied: importlib-resources in /home/ulf/anaconda3/envs/bls_py39/lib/python3.9/site-packages (from cobra==0.29.0->-r ../requirements.txt (line 3)) (5.12.0)\n",
      "Requirement already satisfied: pydantic>=1.6 in /home/ulf/anaconda3/envs/bls_py39/lib/python3.9/site-packages (from cobra==0.29.0->-r ../requirements.txt (line 3)) (1.9.0)\n",
      "Requirement already satisfied: future in /home/ulf/anaconda3/envs/bls_py39/lib/python3.9/site-packages (from cobra==0.29.0->-r ../requirements.txt (line 3)) (0.18.2)\n",
      "Requirement already satisfied: optlang~=1.8 in /home/ulf/anaconda3/envs/bls_py39/lib/python3.9/site-packages (from cobra==0.29.0->-r ../requirements.txt (line 3)) (1.8.1)\n",
      "Requirement already satisfied: diskcache~=5.0 in /home/ulf/anaconda3/envs/bls_py39/lib/python3.9/site-packages (from cobra==0.29.0->-r ../requirements.txt (line 3)) (5.4.0)\n",
      "Requirement already satisfied: httpx~=0.24 in /home/ulf/anaconda3/envs/bls_py39/lib/python3.9/site-packages (from cobra==0.29.0->-r ../requirements.txt (line 3)) (0.27.0)\n",
      "Requirement already satisfied: kiwisolver>=1.0.1 in /home/ulf/anaconda3/envs/bls_py39/lib/python3.9/site-packages (from matplotlib==3.5.1->-r ../requirements.txt (line 7)) (1.4.2)\n",
      "Requirement already satisfied: packaging>=20.0 in /home/ulf/.local/lib/python3.9/site-packages (from matplotlib==3.5.1->-r ../requirements.txt (line 7)) (21.3)\n",
      "Requirement already satisfied: pyparsing>=2.2.1 in /home/ulf/.local/lib/python3.9/site-packages (from matplotlib==3.5.1->-r ../requirements.txt (line 7)) (3.0.9)\n",
      "Requirement already satisfied: python-dateutil>=2.7 in /home/ulf/.local/lib/python3.9/site-packages (from matplotlib==3.5.1->-r ../requirements.txt (line 7)) (2.8.2)\n",
      "Requirement already satisfied: cycler>=0.10 in /home/ulf/anaconda3/envs/bls_py39/lib/python3.9/site-packages (from matplotlib==3.5.1->-r ../requirements.txt (line 7)) (0.11.0)\n",
      "Requirement already satisfied: pillow>=6.2.0 in /home/ulf/anaconda3/envs/bls_py39/lib/python3.9/site-packages (from matplotlib==3.5.1->-r ../requirements.txt (line 7)) (9.4.0)\n",
      "Requirement already satisfied: fonttools>=4.22.0 in /home/ulf/anaconda3/envs/bls_py39/lib/python3.9/site-packages (from matplotlib==3.5.1->-r ../requirements.txt (line 7)) (4.31.2)\n",
      "Requirement already satisfied: et-xmlfile in /home/ulf/anaconda3/envs/bls_py39/lib/python3.9/site-packages (from openpyxl==3.1.0->-r ../requirements.txt (line 9)) (1.1.0)\n",
      "Requirement already satisfied: tzdata>=2022.7 in /home/ulf/anaconda3/envs/bls_py39/lib/python3.9/site-packages/tzdata-2024.1-py3.9.egg (from pandas==2.2.2->-r ../requirements.txt (line 10)) (2024.1)\n",
      "Requirement already satisfied: pytz>=2020.1 in /home/ulf/anaconda3/envs/bls_py39/lib/python3.9/site-packages (from pandas==2.2.2->-r ../requirements.txt (line 10)) (2022.7.1)\n",
      "Requirement already satisfied: threadpoolctl>=2.0.0 in /home/ulf/.local/lib/python3.9/site-packages (from scikit-learn==1.2.2->-r ../requirements.txt (line 14)) (3.1.0)\n",
      "Requirement already satisfied: joblib>=1.1.1 in /home/ulf/anaconda3/envs/bls_py39/lib/python3.9/site-packages (from scikit-learn==1.2.2->-r ../requirements.txt (line 14)) (1.4.2)\n",
      "Requirement already satisfied: pickleshare~=0.7 in /home/ulf/.local/lib/python3.9/site-packages (from silvio->-r ../requirements.txt (line 16)) (0.7.5)\n",
      "Requirement already satisfied: jinja2<3.1.0 in /home/ulf/anaconda3/envs/bls_py39/lib/python3.9/site-packages (from silvio->-r ../requirements.txt (line 16)) (2.11.3)\n",
      "Requirement already satisfied: idna in /home/ulf/anaconda3/envs/bls_py39/lib/python3.9/site-packages (from httpx~=0.24->cobra==0.29.0->-r ../requirements.txt (line 3)) (3.10)\n",
      "Requirement already satisfied: httpcore==1.* in /home/ulf/anaconda3/envs/bls_py39/lib/python3.9/site-packages (from httpx~=0.24->cobra==0.29.0->-r ../requirements.txt (line 3)) (1.0.5)\n",
      "Requirement already satisfied: sniffio in /home/ulf/anaconda3/envs/bls_py39/lib/python3.9/site-packages (from httpx~=0.24->cobra==0.29.0->-r ../requirements.txt (line 3)) (1.2.0)\n",
      "Requirement already satisfied: anyio in /home/ulf/anaconda3/envs/bls_py39/lib/python3.9/site-packages (from httpx~=0.24->cobra==0.29.0->-r ../requirements.txt (line 3)) (3.5.0)\n",
      "Requirement already satisfied: certifi in /home/ulf/anaconda3/envs/bls_py39/lib/python3.9/site-packages (from httpx~=0.24->cobra==0.29.0->-r ../requirements.txt (line 3)) (2024.12.14)\n",
      "Requirement already satisfied: h11<0.15,>=0.13 in /home/ulf/anaconda3/envs/bls_py39/lib/python3.9/site-packages (from httpcore==1.*->httpx~=0.24->cobra==0.29.0->-r ../requirements.txt (line 3)) (0.14.0)\n",
      "Requirement already satisfied: MarkupSafe>=0.23 in /home/ulf/anaconda3/envs/bls_py39/lib/python3.9/site-packages (from jinja2<3.1.0->silvio->-r ../requirements.txt (line 16)) (2.1.2)\n",
      "Requirement already satisfied: sympy>=1.12.0 in /home/ulf/anaconda3/envs/bls_py39/lib/python3.9/site-packages (from optlang~=1.8->cobra==0.29.0->-r ../requirements.txt (line 3)) (1.12)\n",
      "Requirement already satisfied: six>=1.9 in /home/ulf/.local/lib/python3.9/site-packages (from optlang~=1.8->cobra==0.29.0->-r ../requirements.txt (line 3)) (1.16.0)\n",
      "Requirement already satisfied: typing-extensions>=3.7.4.3 in /home/ulf/.local/lib/python3.9/site-packages (from pydantic>=1.6->cobra==0.29.0->-r ../requirements.txt (line 3)) (4.5.0)\n",
      "Requirement already satisfied: commonmark<0.10.0,>=0.9.0 in /home/ulf/anaconda3/envs/bls_py39/lib/python3.9/site-packages (from rich>=8.0->cobra==0.29.0->-r ../requirements.txt (line 3)) (0.9.1)\n",
      "Requirement already satisfied: pygments<3.0.0,>=2.6.0 in /home/ulf/anaconda3/envs/bls_py39/lib/python3.9/site-packages (from rich>=8.0->cobra==0.29.0->-r ../requirements.txt (line 3)) (2.14.0)\n",
      "Requirement already satisfied: ruamel.yaml.clib>=0.2.6 in /home/ulf/anaconda3/envs/bls_py39/lib/python3.9/site-packages (from ruamel.yaml~=0.16->cobra==0.29.0->-r ../requirements.txt (line 3)) (0.2.6)\n",
      "Requirement already satisfied: xyzservices>=2021.09.1 in /home/ulf/anaconda3/envs/bls_py39/lib/python3.9/site-packages (from bokeh->biocircuits==0.1.11->-r ../requirements.txt (line 1)) (2023.2.0)\n",
      "Requirement already satisfied: contourpy>=1 in /home/ulf/anaconda3/envs/bls_py39/lib/python3.9/site-packages (from bokeh->biocircuits==0.1.11->-r ../requirements.txt (line 1)) (1.0.7)\n",
      "Requirement already satisfied: PyYAML>=3.10 in /home/ulf/anaconda3/envs/bls_py39/lib/python3.9/site-packages (from bokeh->biocircuits==0.1.11->-r ../requirements.txt (line 1)) (6.0)\n",
      "Requirement already satisfied: tornado>=5.1 in /home/ulf/.local/lib/python3.9/site-packages (from bokeh->biocircuits==0.1.11->-r ../requirements.txt (line 1)) (6.2)\n",
      "Requirement already satisfied: pyct>=0.4.4 in /home/ulf/anaconda3/envs/bls_py39/lib/python3.9/site-packages (from colorcet->biocircuits==0.1.11->-r ../requirements.txt (line 1)) (0.5.0)\n",
      "Requirement already satisfied: zipp>=3.1.0 in /home/ulf/anaconda3/envs/bls_py39/lib/python3.9/site-packages (from importlib-resources->cobra==0.29.0->-r ../requirements.txt (line 3)) (3.15.0)\n",
      "Requirement already satisfied: dill>=0.3.6 in /home/ulf/anaconda3/envs/bls_py39/lib/python3.9/site-packages (from multiprocess->biocircuits==0.1.11->-r ../requirements.txt (line 1)) (0.3.6)\n",
      "Requirement already satisfied: llvmlite<0.40,>=0.39.0dev0 in /home/ulf/anaconda3/envs/bls_py39/lib/python3.9/site-packages (from numba->biocircuits==0.1.11->-r ../requirements.txt (line 1)) (0.39.1)\n",
      "Requirement already satisfied: param>=1.7.0 in /home/ulf/anaconda3/envs/bls_py39/lib/python3.9/site-packages (from pyct>=0.4.4->colorcet->biocircuits==0.1.11->-r ../requirements.txt (line 1)) (1.13.0)\n",
      "Requirement already satisfied: mpmath>=0.19 in /home/ulf/anaconda3/envs/bls_py39/lib/python3.9/site-packages (from sympy>=1.12.0->optlang~=1.8->cobra==0.29.0->-r ../requirements.txt (line 3)) (1.2.1)\n",
      "Environment ready.\n"
     ]
    }
   ],
   "source": [
    "# Adapting environment to GitHub or Google Colab\n",
    "# In GitHub, the full repository is available with all directories, and libraries can be installed with pip on requirements.txt\n",
    "# In Google Colab only the selected notebook is loaded and the requirements file must be downloaded from GitHub before installation.\n",
    "# \n",
    "\n",
    "# file system and path operations\n",
    "import os\n",
    "import sys\n",
    "if 'google.colab' in sys.modules:\n",
    "    IN_COLAB = True\n",
    "    # Download the requirements file\n",
    "    os.system('wget https://raw.githubusercontent.com/biolabsim/BioLabSim/refs/heads/master/requirements.txt')\n",
    "    os.system('pip install -r requirements.txt')\n",
    "else:\n",
    "    IN_COLAB = False\n",
    "    os.system('pip install -r ../requirements.txt')\n",
    "\n",
    "print('Environment ready.')"
   ]
  },
  {
   "cell_type": "code",
   "execution_count": 2,
   "metadata": {},
   "outputs": [
    {
     "name": "stdout",
     "output_type": "stream",
     "text": [
      "Done\n"
     ]
    }
   ],
   "source": [
    "# file system and path operations\n",
    "import os\n",
    "import numpy as np\n",
    "import matplotlib.pyplot as plt\n",
    "\n",
    "import wget\n",
    "from cobra.io import read_sbml_model\n",
    "\n",
    "print('Done')"
   ]
  },
  {
   "attachments": {},
   "cell_type": "markdown",
   "metadata": {},
   "source": [
    "## Loading a model"
   ]
  },
  {
   "attachments": {},
   "cell_type": "markdown",
   "metadata": {},
   "source": [
    "The next step is to download a genome-scale model. The `ecoli_core_model` serves as an example. This is available at http://bigg.ucsd.edu/models/e_coli_core. In the following cell the model is downloaded via the Python command `wget` and stored within the `Data` folder. You can now use this model for further work within the jupyter notebook."
   ]
  },
  {
   "cell_type": "code",
   "execution_count": 3,
   "metadata": {},
   "outputs": [
    {
     "name": "stdout",
     "output_type": "stream",
     "text": [
      "Loading existing file e_coli_core.xml.gz\n"
     ]
    }
   ],
   "source": [
    "# check if the file 'e_coli_core.xml.gz' is in the `Data` directory\n",
    "if IN_COLAB:\n",
    "    ModelFile = os.path.join('.', 'e_coli_core.xml.gz')\n",
    "else:\n",
    "    ModelFile = os.path.join('..', 'Data', 'e_coli_core.xml.gz')\n",
    "\n",
    "if os.path.isfile(ModelFile):\n",
    "    print('Loading existing file e_coli_core.xml.gz')\n",
    "else:\n",
    "    print('Download of file e_coli_core.xml.gz from BIGG')\n",
    "    # download the file from BIGG and save it in the `Data` directory\n",
    "    wget.download('http://bigg.ucsd.edu/static/models/e_coli_core.xml.gz')\n",
    "    # move the file to the `Data` directory\n",
    "    os.rename('e_coli_core.xml.gz', ModelFile)\n",
    "    print('Done')\n",
    "model_original = read_sbml_model(ModelFile)"
   ]
  },
  {
   "attachments": {},
   "cell_type": "markdown",
   "metadata": {},
   "source": [
    "## Product yield\n",
    "\n",
    "To preserve the original model, a copy of the model is first created for the changes."
   ]
  },
  {
   "cell_type": "code",
   "execution_count": 4,
   "metadata": {},
   "outputs": [],
   "source": [
    "model = model_original.copy()"
   ]
  },
  {
   "attachments": {},
   "cell_type": "markdown",
   "metadata": {},
   "source": [
    "Calculating the yield of a product is straigtforward. First one sets the producing reaction a new objective of the model."
   ]
  },
  {
   "cell_type": "code",
   "execution_count": 5,
   "metadata": {},
   "outputs": [],
   "source": [
    "model.objective = 'EX_ac_e'"
   ]
  },
  {
   "attachments": {},
   "cell_type": "markdown",
   "metadata": {},
   "source": [
    "Then one determines the maximum production flux by solving the model."
   ]
  },
  {
   "cell_type": "code",
   "execution_count": 6,
   "metadata": {},
   "outputs": [
    {
     "data": {
      "text/plain": [
       "20.000000000000004"
      ]
     },
     "execution_count": 6,
     "metadata": {},
     "output_type": "execute_result"
    }
   ],
   "source": [
    "solution = model.optimize()\n",
    "solution.fluxes['EX_ac_e']"
   ]
  },
  {
   "attachments": {},
   "cell_type": "markdown",
   "metadata": {},
   "source": [
    "Dividing the production flux by the uptake flux of the carbon source (in this case glucose) yields the molar yield (mol product / mol glucose)."
   ]
  },
  {
   "cell_type": "code",
   "execution_count": null,
   "metadata": {},
   "outputs": [],
   "source": [
    "solution.fluxes['EX_ac_e'] / (-1. * solution.fluxes['EX_glc__D_e'])"
   ]
  },
  {
   "attachments": {},
   "cell_type": "markdown",
   "metadata": {},
   "source": [
    "## Exercise (15 min)\n",
    "Convert the yield into a C-mol (product) / C-mol (carbon source) yield.\n",
    "\n",
    "Calculate a mass yield instead of molar yield (g (product) / g (carbon source))"
   ]
  },
  {
   "attachments": {},
   "cell_type": "markdown",
   "metadata": {},
   "source": [
    "## Biomass Yield\n",
    "\n",
    "The ratio of the amount of biomass produced to the amount of substrate consumed (g biomass/g substrate) is defined as the biomass yield, and typically is defined relative to the electron donor used.\n"
   ]
  },
  {
   "cell_type": "code",
   "execution_count": null,
   "metadata": {},
   "outputs": [],
   "source": [
    "model = model_original.copy()"
   ]
  },
  {
   "cell_type": "code",
   "execution_count": null,
   "metadata": {},
   "outputs": [],
   "source": [
    "solution = model.optimize()\n",
    "g_dw_biomass_per_mmol_glucose = solution.objective_value / (-1. * solution.fluxes['EX_glc__D_e'])\n",
    "g_dw_biomass_per_mmol_glucose"
   ]
  },
  {
   "attachments": {},
   "cell_type": "markdown",
   "metadata": {},
   "source": [
    "## Excercise (10 min)\n",
    "The units of this yield are gDW (Biomass) / g (glucose). Convert this number into a mass yield."
   ]
  },
  {
   "cell_type": "code",
   "execution_count": null,
   "metadata": {},
   "outputs": [],
   "source": [
    "# Enter code here"
   ]
  },
  {
   "attachments": {},
   "cell_type": "markdown",
   "metadata": {},
   "source": [
    "## Growth vs. Product yield\n",
    "## Exercise (30 min)\n",
    "In the previous section we calculated theoretical maximum yields in the absence of competing objectives. But how does product yield vary with growth for example?\n",
    "\n",
    "Determine molar, mass, and c-mol yields of acetate for the following growth rates (plot them using the code snippet below). How do the yields looks like for anaerobic conditions?\n",
    "\n",
    "Follow the following steps:\n",
    " 1. identify the model ID for the acetate exchange reaction\n",
    " 2. set objective to acetate exchange reaction\n",
    " 2. use a for loop to set the growth rate to the pre-defined value\n"
   ]
  },
  {
   "cell_type": "code",
   "execution_count": null,
   "metadata": {},
   "outputs": [],
   "source": [
    "# find the reaction exchange id for the acetate here\n",
    "model.reactions.query('None')"
   ]
  },
  {
   "cell_type": "code",
   "execution_count": null,
   "metadata": {},
   "outputs": [],
   "source": [
    "# for loop to test production of acetate for a number of growth rates\n",
    "# We test the following growth rates\n",
    "growth_rates = [0.0, 0.10915242, 0.21830485, 0.32745727, 0.43660969, 0.54576212, 0.65491454, 0.76406697, 0.87321939, 0.98237181]\n",
    "with model:\n",
    "    model.objective = 'None'\n",
    "    # an empty list for the product is initiated, which will store our results for each growth rate\n",
    "    product_fluxes = list()\n",
    "    for growth_rate in growth_rates:\n",
    "        # the following line sets the upper and lower bound for the growth rate\n",
    "        # replace the first None by the reaction ID, and the second two None by the growth rate in the loop\n",
    "        model.reactions.get_by_id('None').bounds = None, None\n",
    "        product_fluxes.append(model.slim_optimize())\n",
    "# converting the product flux list into a numpy variable to simplify further calculations\n",
    "product_fluxes = np.array(product_fluxes)"
   ]
  },
  {
   "attachments": {},
   "cell_type": "markdown",
   "metadata": {},
   "source": [
    "Fill in your own product fluxes here (needs to be a list)."
   ]
  },
  {
   "cell_type": "code",
   "execution_count": null,
   "metadata": {},
   "outputs": [],
   "source": [
    "plt.plot(growth_rates, product_fluxes)\n",
    "plt.xlabel('Growth [$h^{-1}$]')\n",
    "plt.ylabel('Product flux [$mmol gDW^{-1} h^{-1}$]')\n",
    "plt.show()"
   ]
  },
  {
   "attachments": {},
   "cell_type": "markdown",
   "metadata": {},
   "source": [
    "Fill in your own product yields here (needs to be a list).\n",
    "Save the figure as png-type with a suitable name."
   ]
  },
  {
   "cell_type": "code",
   "execution_count": null,
   "metadata": {},
   "outputs": [],
   "source": [
    "yields = None # replace this with an equation for the yield\n",
    "plt.plot(growth_rates, yields)\n",
    "plt.xlabel('Growth [$h^{-1}$]')\n",
    "plt.ylabel('Product yield [$mmol(acetate) / mmol(glucose)$]')\n",
    "\n",
    "# Saving figure\n",
    "plt.savefig('None.png')\n",
    "plt.show()"
   ]
  }
 ],
 "metadata": {
  "kernelspec": {
   "display_name": "bls_py39",
   "language": "python",
   "name": "python3"
  },
  "language_info": {
   "codemirror_mode": {
    "name": "ipython",
    "version": 3
   },
   "file_extension": ".py",
   "mimetype": "text/x-python",
   "name": "python",
   "nbconvert_exporter": "python",
   "pygments_lexer": "ipython3",
   "version": "3.9.12"
  }
 },
 "nbformat": 4,
 "nbformat_minor": 4
}
