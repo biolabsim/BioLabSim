{
 "cells": [
  {
   "attachments": {},
   "cell_type": "markdown",
   "metadata": {},
   "source": [
    "# Calculating yields and prediction of expression modulation targets"
   ]
  },
  {
   "attachments": {},
   "cell_type": "markdown",
   "metadata": {},
   "source": [
    "The following chapter deals with the calculation of product and biomass yields in relation to different carbon sources and the prediction of expression modulation targets.\n",
    "\n",
    "If input is required by you, this is indicated as `None`."
   ]
  },
  {
   "cell_type": "code",
   "execution_count": null,
   "metadata": {},
   "outputs": [
    {
     "name": "stdout",
     "output_type": "stream",
     "text": [
      "Cobra toolbox is already installed\n",
      "Done\n"
     ]
    }
   ],
   "source": [
    "# file system and path operations\n",
    "import os\n",
    "import numpy as np\n",
    "import matplotlib.pyplot as plt\n",
    "\n",
    "# load wget and install it if necessary\n",
    "try:\n",
    "    import wget\n",
    "except:\n",
    "    print('Installing wget')\n",
    "    !pip install wget\n",
    "    import wget\n",
    "# load cobra toolbox and install it if necessary\n",
    "try:\n",
    "    from cobra.io import read_sbml_model\n",
    "    print('Cobra toolbox is already installed')\n",
    "except:\n",
    "    print('Installing cobra toolbox')\n",
    "    !pip install cobra\n",
    "    from cobra.io import read_sbml_model\n",
    "print('Done')"
   ]
  },
  {
   "attachments": {},
   "cell_type": "markdown",
   "metadata": {},
   "source": [
    "## Loading a model"
   ]
  },
  {
   "attachments": {},
   "cell_type": "markdown",
   "metadata": {},
   "source": [
    "The next step is to download a genome-scale model. The `ecoli_core_model` serves as an example. This is available at http://bigg.ucsd.edu/models/e_coli_core. In the following cell the model is downloaded via the Python command `wget` and stored within the `Data` folder. You can now use this model for further work within the jupyter notebook."
   ]
  },
  {
   "cell_type": "code",
   "execution_count": null,
   "metadata": {},
   "outputs": [],
   "source": [
    "# check if the file 'e_coli_core.xml.gz' is in the `Data` directory\n",
    "ModelFile = os.path.join('..', 'Data', 'e_coli_core.xml.gz')\n",
    "if os.path.isfile(ModelFile):\n",
    "    print('Loading existing file e_coli_core.xml.gz')\n",
    "else:\n",
    "    print('Download of file e_coli_core.xml.gz from BIGG')\n",
    "    import wget\n",
    "    # download the file from BIGG and save it in the `Data` directory\n",
    "    wget.download('http://bigg.ucsd.edu/static/models/e_coli_core.xml.gz')\n",
    "    # move the file to the `Data` directory\n",
    "    os.rename('e_coli_core.xml.gz', ModelFile)\n",
    "    print('Done')\n"
   ]
  },
  {
   "attachments": {},
   "cell_type": "markdown",
   "metadata": {},
   "source": [
    "## Product yield\n",
    "\n",
    "To preserve the original model, a copy of the model is first created for the changes."
   ]
  },
  {
   "cell_type": "code",
   "execution_count": null,
   "metadata": {},
   "outputs": [],
   "source": [
    "model = model_original.copy()"
   ]
  },
  {
   "attachments": {},
   "cell_type": "markdown",
   "metadata": {},
   "source": [
    "Calculating the yield of a product is straigtforward. First one sets the producing reaction a new objective of the model."
   ]
  },
  {
   "cell_type": "code",
   "execution_count": null,
   "metadata": {},
   "outputs": [],
   "source": [
    "model.objective = 'EX_ac_e'"
   ]
  },
  {
   "attachments": {},
   "cell_type": "markdown",
   "metadata": {},
   "source": [
    "Then one determines the maximum production flux by solving the model."
   ]
  },
  {
   "cell_type": "code",
   "execution_count": null,
   "metadata": {},
   "outputs": [],
   "source": [
    "solution = model.optimize()\n",
    "solution.fluxes['EX_ac_e']"
   ]
  },
  {
   "attachments": {},
   "cell_type": "markdown",
   "metadata": {},
   "source": [
    "Dividing the production flux by the uptake flux of the carbon source (in this case glucose) yields the molar yield (mol product / mol glucose)."
   ]
  },
  {
   "cell_type": "code",
   "execution_count": null,
   "metadata": {},
   "outputs": [],
   "source": [
    "solution.fluxes['EX_ac_e'] / (-1. * solution.fluxes['EX_glc__D_e'])"
   ]
  },
  {
   "attachments": {},
   "cell_type": "markdown",
   "metadata": {},
   "source": [
    "## Exercise (15 min)\n",
    "Convert the yield into a C-mol (product) / C-mol (carbon source) yield.\n",
    "\n",
    "Calculate a mass yield instead of molar yield (g (product) / g (carbon source))"
   ]
  },
  {
   "attachments": {},
   "cell_type": "markdown",
   "metadata": {},
   "source": [
    "## Biomass Yield\n",
    "\n",
    "The ratio of the amount of biomass produced to the amount of substrate consumed (g biomass/g substrate) is defined as the biomass yield, and typically is defined relative to the electron donor used.\n"
   ]
  },
  {
   "cell_type": "code",
   "execution_count": null,
   "metadata": {},
   "outputs": [],
   "source": [
    "model = model_original.copy()"
   ]
  },
  {
   "cell_type": "code",
   "execution_count": null,
   "metadata": {},
   "outputs": [],
   "source": [
    "solution = model.optimize()\n",
    "g_dw_biomass_per_mmol_glucose = solution.objective_value / (-1. * solution.fluxes['EX_glc__D_e'])\n",
    "g_dw_biomass_per_mmol_glucose"
   ]
  },
  {
   "attachments": {},
   "cell_type": "markdown",
   "metadata": {},
   "source": [
    "## Excercise (10 min)\n",
    "The units of this yield are gDW (Biomass) / g (glucose). Convert this number into a mass yield."
   ]
  },
  {
   "cell_type": "code",
   "execution_count": null,
   "metadata": {},
   "outputs": [],
   "source": [
    "# Enter code here"
   ]
  },
  {
   "attachments": {},
   "cell_type": "markdown",
   "metadata": {},
   "source": [
    "## Growth vs. Product yield\n",
    "## Exercise (30 min)\n",
    "In the previous section we calculated theoretical maximum yields in the absence of competing objectives. But how does product yield vary with growth for example?\n",
    "\n",
    "Determine molar, mass, and c-mol yields of acetate for the following growth rates (plot them using the code snippet below). How do the yields looks like for anaerobic conditions?\n",
    "\n",
    "Follow the following steps:\n",
    " 1. identify the model ID for the acetate exchange reaction\n",
    " 2. set objective to acetate exchange reaction\n",
    " 2. use a for loop to set the growth rate to the pre-defined value\n"
   ]
  },
  {
   "cell_type": "code",
   "execution_count": null,
   "metadata": {},
   "outputs": [],
   "source": [
    "# find the reaction exchange id for the acetate here\n",
    "model.reactions.query('None')"
   ]
  },
  {
   "cell_type": "code",
   "execution_count": null,
   "metadata": {},
   "outputs": [],
   "source": [
    "# for loop to test production of acetate for a number of growth rates\n",
    "# We test the following growth rates\n",
    "growth_rates = [0.0, 0.10915242, 0.21830485, 0.32745727, 0.43660969, 0.54576212, 0.65491454, 0.76406697, 0.87321939, 0.98237181]\n",
    "with model:\n",
    "    model.objective = 'None'\n",
    "    # an empty list for the product is initiated, which will store our results for each growth rate\n",
    "    product_fluxes = list()\n",
    "    for growth_rate in growth_rates:\n",
    "        # the following line sets the upper and lower bound for the growth rate\n",
    "        # replace the first None by the reaction ID, and the second two None by the growth rate in the loop\n",
    "        model.reactions.get_by_id('None').bounds = None, None\n",
    "        product_fluxes.append(model.slim_optimize())\n",
    "# converting the product flux list into a numpy variable to simplify further calculations\n",
    "product_fluxes = np.array(product_fluxes)"
   ]
  },
  {
   "attachments": {},
   "cell_type": "markdown",
   "metadata": {},
   "source": [
    "Fill in your own product fluxes here (needs to be a list)."
   ]
  },
  {
   "cell_type": "code",
   "execution_count": null,
   "metadata": {},
   "outputs": [],
   "source": [
    "plt.plot(growth_rates, product_fluxes)\n",
    "plt.xlabel('Growth [$h^{-1}$]')\n",
    "plt.ylabel('Product flux [$mmol gDW^{-1} h^{-1}$]')\n",
    "plt.show()"
   ]
  },
  {
   "attachments": {},
   "cell_type": "markdown",
   "metadata": {},
   "source": [
    "Fill in your own product yields here (needs to be a list).\n",
    "Save the figure as png-type with a suitable name."
   ]
  },
  {
   "cell_type": "code",
   "execution_count": null,
   "metadata": {},
   "outputs": [],
   "source": [
    "yields = None # replace this with an equation for the yield\n",
    "plt.plot(growth_rates, yields)\n",
    "plt.xlabel('Growth [$h^{-1}$]')\n",
    "plt.ylabel('Product yield [$mmol(acetate) / mmol(glucose)$]')\n",
    "\n",
    "# Saving figure\n",
    "plt.savefig('None.png')\n",
    "plt.show()"
   ]
  }
 ],
 "metadata": {
  "kernelspec": {
   "display_name": "biolabsim",
   "language": "python",
   "name": "biolabsim"
  },
  "vscode": {
   "interpreter": {
    "hash": "8ab0679a85e808b525c00d4fc92f784010db8c1079cb8b0601dea8e039046879"
   }
  }
 },
 "nbformat": 4,
 "nbformat_minor": 4
}
