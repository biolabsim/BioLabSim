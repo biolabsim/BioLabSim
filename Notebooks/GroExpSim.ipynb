{
 "cells": [
  {
   "attachments": {},
   "cell_type": "markdown",
   "metadata": {},
   "source": [
    "# High Throughput Growth Experiment Analysis in Biotechnology\n",
    "***\n",
    "\n",
    "## Background\n",
    "Biotechnology requires knowledge of microbial physiology and metabolism. Among the most important information is the growth rate and the substrate uptake rate. Both can be used to calculate the effectiveness of biotechnological production strategies and biomass and product yields. To identify an organism with suitable growth parameters, multiple strains, mutants or environmental conditions are tested which results in high throughput data. To analyse high throughput data computational approaches can speed up the process.\n",
    "\n",
    "There are different growth phenotypes: exponential, linear, saturated, diauxie. The typical microbial saturated growth is divided in different growth phases, lag, log, stationary, and death phase.\n",
    "\n",
    "Laws to describe a biomass $N$ include: \n",
    "- exponential law: $N(t) = N_0e^{\\mu t}$\n",
    "  - $N_0$: initial biomass, gDW/L\n",
    "  - $\\mu$: growth rate, /h\n",
    "  - $t$: duration, h\n",
    "- logistic growth law (Verhulst): $N(t) = \\frac{K}{1+\\left( \\frac{K-N_0}{N_0}e^{-\\mu t} \\right)}$\n",
    "  - $N_0$: initial biomass, gDW/L\n",
    "  - $\\mu$: growth rate, /h\n",
    "  - $t$: duration, h\n",
    "  - $K$: carrying capacity, max biomass, gDW/L\n",
    "- Gompertz function: $N(t) = N_0e^{\\left(\\textrm{ln} \\left(\\frac{K}{N_0} \\right)\\left(1 - e^{-\\mu t} \\right) \\right)}$\n",
    "  - $N_0$: initial biomass, gDW/L\n",
    "  - $\\mu$: growth rate, /h\n",
    "  - $t$: duration, h\n",
    "  - $K$: carrying capacity, max biomass, gDW/L\n",
    "- Baranyi model: complex model, see [literature](https://doi.org/10.1006/fmic.1999.0285)\n",
    "\n",
    "## Objective\n",
    "1. Determine the optimal growth temperature\n",
    "2. Calculate the growth rate and substrate uptake rate at different substrate concentrations\n",
    "3. Evaluate the growth yields\n",
    "\n",
    "### Additional information:\n",
    "- Hagen, Exponential growth of bacteria: Constant multiplication through division, American Journal of Physics, 2010. doi [10.1119/1.3483278](https://doi.org/10.1119/1.3483278)\n",
    "- Verduyn et al., A theoretical evaluation of growth yields of yeasts, Antoie van Leeuwenhoek, 1991. doi [10.1007/BF00582119](https://doi.org/10.1007/BF00582119)\n",
    "- Pirt, The maintenance energy of bacteria in growing cultures, 1965. doi [10.1098/rspb.1965.0069](https://doi.org/10.1098/rspb.1965.0069)\n",
    "\n",
    "## Workflow\n",
    "\n",
    "**1 Set-up of simulation environment**\n",
    " * *1.1 Loading Python libraries and functions*\n",
    " * *1.2 Seeding your individual organism*\n",
    "\n",
    "**2 High Throughput Temperature measurements**\n",
    " * *2.1 96-well plate experiment simulation* \n",
    " * *2.2 Python based data analysis*\n",
    " * *2.3 Data export to Excel*\n",
    " \n",
    "**3 Substrate uptake rates**\n",
    " * *3.1 Experiment setup (temperature, substrate concentrations, duration)*\n",
    " * *3.2 Data analysis*\n",
    " * *3.3 Data export to Excel* \n",
    "\n",
    "**4 Yield calculations**\n",
    " * *4.1 Yield formula*\n",
    " * *4.2 Assessment against published yields*\n",
    "\n",
    "**5 Evaluation by peer review**\n",
    " * *5.1 Report of results*\n",
    " * *5.2 Peer review*"
   ]
  },
  {
   "cell_type": "code",
   "execution_count": 2,
   "metadata": {},
   "outputs": [
    {
     "name": "stdout",
     "output_type": "stream",
     "text": [
      "System ready\n"
     ]
    }
   ],
   "source": [
    "# Loading of important functionalities for the notebook:\n",
    "# Loading numpy, a library fo manipulation of numbers:\n",
    "import os\n",
    "import numpy as np\n",
    "# Loading matplotlib, a library for visualization:\n",
    "import matplotlib.pyplot as plt\n",
    "# Initialization, loading of all laboratory functionalities and stored models and information of the organisms:\n",
    "from FermProSimFun import MonodModel as Model\n",
    "\n",
    "from silvio.catalog.RecExpSim import RecExperiment, combine_data\n",
    "from silvio.extensions.records.gene.crafted_gene import CraftedGene\n",
    "\n",
    "from silvio.catalog.GroExpSim import *# GrowthExperiment\n",
    "\n",
    "print('System ready')"
   ]
  },
  {
   "cell_type": "code",
   "execution_count": 9,
   "metadata": {},
   "outputs": [],
   "source": [
    "exp = GrowthExperiment(161710, 2000, 10000)"
   ]
  },
  {
   "cell_type": "code",
   "execution_count": 10,
   "metadata": {},
   "outputs": [
    {
     "name": "stdout",
     "output_type": "stream",
     "text": [
      "Experiment:\n",
      "  budget = 8000\n",
      "  failure rate = 0.12\n",
      "  hosts = [ ecol ]\n"
     ]
    },
    {
     "data": {
      "text/plain": [
       "{'opt_growth_temp': 28,\n",
       " 'max_biomass': 31,\n",
       " 'Ks': 7.521,\n",
       " 'Yxs': 0.47,\n",
       " 'k1': 0.156,\n",
       " 'umax': 0.716,\n",
       " 'make_generator': <bound method Host.make_generator of <silvio.catalog.GroExpSim.GroHost object at 0x7fa0425a9bb0>>}"
      ]
     },
     "execution_count": 10,
     "metadata": {},
     "output_type": "execute_result"
    }
   ],
   "source": [
    "host = exp.create_host('ecol')\n",
    "exp.print_status()\n",
    "vars(host.growth)"
   ]
  },
  {
   "cell_type": "code",
   "execution_count": 8,
   "metadata": {},
   "outputs": [
    {
     "data": {
      "text/plain": [
       "1.7064"
      ]
     },
     "execution_count": 8,
     "metadata": {},
     "output_type": "execute_result"
    }
   ],
   "source": [
    "9.48*.18"
   ]
  },
  {
   "cell_type": "code",
   "execution_count": 6,
   "metadata": {},
   "outputs": [
    {
     "name": "stdout",
     "output_type": "stream",
     "text": [
      "Data exported to: /home/ulf/Documents/2109_BLS+SILVIO/biolabsim_dev/ExperimentGrowthSubstrateRate.csv\n",
      "Experiment:\n",
      "  budget = 7784\n",
      "  failure rate = 0.12\n",
      "  hosts = [ ecol ]\n"
     ]
    },
    {
     "name": "stderr",
     "output_type": "stream",
     "text": [
      "/home/ulf/Documents/2109_BLS+SILVIO/silvio/src/silvio/catalog/GroExpSim.py:233: FutureWarning: iteritems is deprecated and will be removed in a future version. Use .items instead.\n",
      "  for Exp,X in Biomass.iteritems(): # LnBiomass.iteritems(), Biomass.iteritems()\n"
     ]
    },
    {
     "data": {
      "image/png": "[encoded data removed]",
      "text/plain": [
       "<Figure size 640x480 with 1 Axes>"
      ]
     },
     "metadata": {},
     "output_type": "display_data"
    }
   ],
   "source": [
    "exp.simulate_monod('ecol', 35,[20,20],[50],test='Monod')\n",
    "exp.print_status()"
   ]
  },
  {
   "cell_type": "code",
   "execution_count": 6,
   "metadata": {},
   "outputs": [
    {
     "data": {
      "image/png": "[encoded data removed]",
      "text/plain": [
       "<Figure size 640x480 with 1 Axes>"
      ]
     },
     "metadata": {},
     "output_type": "display_data"
    },
    {
     "data": {
      "text/plain": [
       "2.388791244054826"
      ]
     },
     "execution_count": 6,
     "metadata": {},
     "output_type": "execute_result"
    }
   ],
   "source": [
    "calculate_ExpPriceFactor(40, True)"
   ]
  },
  {
   "cell_type": "code",
   "execution_count": null,
   "metadata": {},
   "outputs": [
    {
     "data": {
      "text/plain": [
       "\"Monod_Model instance for a E. coli-batch microbial production process. \\nCurrent parameters: {'u0': 0, 'umax': 0.788, 'duration': 24, 'Ks': 9.04, 'Yx': 0.407, 'k1': 0.114}\""
      ]
     },
     "metadata": {},
     "output_type": "display_data"
    }
   ],
   "source": [
    "myMod = Model()\n",
    "# myMod.__str__()\n",
    "myMod.calculate_monod()\n",
    "myMod.plot_results()"
   ]
  },
  {
   "cell_type": "code",
   "execution_count": 1,
   "metadata": {},
   "outputs": [],
   "source": [
    "import scipy.integrate as spi\n",
    "import numpy as np\n",
    "import matplotlib.pyplot as plt\n",
    "\n",
    "def MonodEqnODE(MonodVars, t, mumax, Ks, Yxs):\n",
    "    \"\"\"\n",
    "    Monod bioprocess model with ODEs.\n",
    "    Based on the model described in:\n",
    "    Hemmerich et al., doi:10.1002/elsc.202000088, Fig. 6\n",
    "    \"\"\"\n",
    "    # Unpack y and z\n",
    "    X, S = MonodVars\n",
    "\n",
    "    # Compute biomass growth rate\n",
    "    dX_dt = mumax * S * X / (Ks + S)\n",
    "\n",
    "    # Compute substrate consumption rate\n",
    "    dS_dt = -mumax * S * X / (Ks + S) / Yxs\n",
    "\n",
    "    # Return the result as a NumPy array\n",
    "    return np.array([dX_dt, dS_dt])\n",
    "\n",
    "def solve_MonodEqn(Params, Initials, t):\n",
    "    \"\"\"\n",
    "    Solve the Monod bioprocess model with ODEs.\n",
    "    Based on the model described in:\n",
    "    Hemmerich et al., doi:10.1002/elsc.202000088, Fig. 6\n",
    "    \"\"\"\n",
    "    # Unpack parameters\n",
    "    mumax, Ks, Yxs = Params['mumax'], Params['Ks'], Params['Yxs']\n",
    "    # Initial condition\n",
    "    MonodVars_0 = [Initials['X0'], Initials['S0']]\n",
    "\n",
    "    # Parameters\n",
    "    args = (mumax, Ks, Yxs)\n",
    "\n",
    "    # Integrate ODES\n",
    "    MonodSol = spi.odeint(MonodEqnODE, MonodVars_0, t, args=args)\n",
    "\n",
    "    # Return the result as a NumPy array\n",
    "    return MonodSol\n",
    "\n",
    "def add_noise(data, noise):\n",
    "    \"\"\"\n",
    "    Add noise to data.\n",
    "    \"\"\"\n",
    "    # Each column get a different noise based on the average value of the column\n",
    "    noise = noise * np.mean(data, axis=0)  \n",
    "    return data + np.random.normal(0, noise, data.shape)"
   ]
  },
  {
   "cell_type": "code",
   "execution_count": 6,
   "metadata": {},
   "outputs": [
    {
     "data": {
      "text/html": [
       "<div>\n",
       "<style scoped>\n",
       "    .dataframe tbody tr th:only-of-type {\n",
       "        vertical-align: middle;\n",
       "    }\n",
       "\n",
       "    .dataframe tbody tr th {\n",
       "        vertical-align: top;\n",
       "    }\n",
       "\n",
       "    .dataframe thead th {\n",
       "        text-align: right;\n",
       "    }\n",
       "</style>\n",
       "<table border=\"1\" class=\"dataframe\">\n",
       "  <thead>\n",
       "    <tr style=\"text-align: right;\">\n",
       "      <th></th>\n",
       "      <th>X</th>\n",
       "      <th>S</th>\n",
       "    </tr>\n",
       "  </thead>\n",
       "  <tbody>\n",
       "    <tr>\n",
       "      <th>0</th>\n",
       "      <td>0.01</td>\n",
       "      <td>10.00</td>\n",
       "    </tr>\n",
       "    <tr>\n",
       "      <th>1</th>\n",
       "      <td>0.02</td>\n",
       "      <td>9.97</td>\n",
       "    </tr>\n",
       "    <tr>\n",
       "      <th>2</th>\n",
       "      <td>0.05</td>\n",
       "      <td>9.91</td>\n",
       "    </tr>\n",
       "    <tr>\n",
       "      <th>3</th>\n",
       "      <td>0.10</td>\n",
       "      <td>9.78</td>\n",
       "    </tr>\n",
       "    <tr>\n",
       "      <th>4</th>\n",
       "      <td>0.20</td>\n",
       "      <td>9.52</td>\n",
       "    </tr>\n",
       "    <tr>\n",
       "      <th>5</th>\n",
       "      <td>0.42</td>\n",
       "      <td>8.97</td>\n",
       "    </tr>\n",
       "    <tr>\n",
       "      <th>6</th>\n",
       "      <td>0.85</td>\n",
       "      <td>7.89</td>\n",
       "    </tr>\n",
       "    <tr>\n",
       "      <th>7</th>\n",
       "      <td>1.62</td>\n",
       "      <td>5.97</td>\n",
       "    </tr>\n",
       "    <tr>\n",
       "      <th>8</th>\n",
       "      <td>2.70</td>\n",
       "      <td>3.28</td>\n",
       "    </tr>\n",
       "    <tr>\n",
       "      <th>9</th>\n",
       "      <td>3.59</td>\n",
       "      <td>1.04</td>\n",
       "    </tr>\n",
       "    <tr>\n",
       "      <th>10</th>\n",
       "      <td>3.93</td>\n",
       "      <td>0.21</td>\n",
       "    </tr>\n",
       "    <tr>\n",
       "      <th>11</th>\n",
       "      <td>4.00</td>\n",
       "      <td>0.03</td>\n",
       "    </tr>\n",
       "    <tr>\n",
       "      <th>12</th>\n",
       "      <td>4.01</td>\n",
       "      <td>0.01</td>\n",
       "    </tr>\n",
       "    <tr>\n",
       "      <th>13</th>\n",
       "      <td>4.01</td>\n",
       "      <td>0.00</td>\n",
       "    </tr>\n",
       "    <tr>\n",
       "      <th>14</th>\n",
       "      <td>4.01</td>\n",
       "      <td>0.00</td>\n",
       "    </tr>\n",
       "  </tbody>\n",
       "</table>\n",
       "</div>"
      ],
      "text/plain": [
       "       X      S\n",
       "0   0.01  10.00\n",
       "1   0.02   9.97\n",
       "2   0.05   9.91\n",
       "3   0.10   9.78\n",
       "4   0.20   9.52\n",
       "5   0.42   8.97\n",
       "6   0.85   7.89\n",
       "7   1.62   5.97\n",
       "8   2.70   3.28\n",
       "9   3.59   1.04\n",
       "10  3.93   0.21\n",
       "11  4.00   0.03\n",
       "12  4.01   0.01\n",
       "13  4.01   0.00\n",
       "14  4.01   0.00"
      ]
     },
     "execution_count": 6,
     "metadata": {},
     "output_type": "execute_result"
    }
   ],
   "source": [
    "import pandas as pd\n",
    "round(pd.DataFrame(MonodSol, columns=['X', 'S']), 2)\n"
   ]
  },
  {
   "cell_type": "code",
   "execution_count": 3,
   "metadata": {},
   "outputs": [
    {
     "data": {
      "text/plain": [
       "<matplotlib.legend.Legend at 0x7fb13de058e0>"
      ]
     },
     "execution_count": 3,
     "metadata": {},
     "output_type": "execute_result"
    },
    {
     "data": {
      "image/png": "[encoded data removed]",
      "text/plain": [
       "<Figure size 640x480 with 1 Axes>"
      ]
     },
     "metadata": {},
     "output_type": "display_data"
    }
   ],
   "source": [
    "Params={'mumax': 0.9, 'Ks': 7, 'Yxs': .4}\n",
    "Initials={'X0': 0.01, 'S0': 10}\n",
    "t=np.linspace(0, 20, 15)\n",
    "MonodSol = solve_MonodEqn(Params, Initials, t)\n",
    "plt.plot(t, add_noise(MonodSol,.1), label=['X', 'S'], marker='o', linestyle='None')\n",
    "plt.legend()"
   ]
  },
  {
   "cell_type": "code",
   "execution_count": null,
   "metadata": {},
   "outputs": [],
   "source": [
    "def OD2X(OD, OD0, X0):\n",
    "    \"\"\"\n",
    "    Convert OD to biomass concentration.\n",
    "    \"\"\"\n",
    "    return X0 * OD / OD0\n",
    "def X2OD(X, OD0, X0):\n",
    "    \"\"\"\n",
    "    Convert biomass concentration to OD.\n",
    "    \"\"\"\n",
    "    return OD0 * X / X0"
   ]
  }
 ],
 "metadata": {
  "kernelspec": {
   "display_name": "bls_py39",
   "language": "python",
   "name": "python3"
  },
  "language_info": {
   "codemirror_mode": {
    "name": "ipython",
    "version": 3
   },
   "file_extension": ".py",
   "mimetype": "text/x-python",
   "name": "python",
   "nbconvert_exporter": "python",
   "pygments_lexer": "ipython3",
   "version": "3.9.12"
  },
  "orig_nbformat": 4,
  "vscode": {
   "interpreter": {
    "hash": "8ab0679a85e808b525c00d4fc92f784010db8c1079cb8b0601dea8e039046879"
   }
  }
 },
 "nbformat": 4,
 "nbformat_minor": 2
}
