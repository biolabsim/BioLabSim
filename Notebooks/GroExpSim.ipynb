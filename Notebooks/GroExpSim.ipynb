{
 "cells": [
  {
   "attachments": {},
   "cell_type": "markdown",
   "metadata": {},
   "source": [
    "# High Throughput Growth Experiment Analysis in Biotechnology\n",
    "***\n",
    "\n",
    "## Background\n",
    "Biotechnology requires knowledge of microbial physiology and metabolism. Among the most important information is the growth rate and the substrate uptake rate. Both can be used to calculate the effectiveness of biotechnological production strategies and biomass and product yields. To identify an organism with suitable growth parameters, multiple strains, mutants or environmental conditions are tested which results in high throughput data. To analyse high throughput data computational approaches can speed up the process.\n",
    "\n",
    "There are different growth phenotypes: exponential, linear, saturated, diauxie. The typical microbial saturated growth is divided in different growth phases, lag, log, stationary, and death phase.\n",
    "\n",
    "Laws to describe a biomass $N$ include: \n",
    "- exponential law: \n",
    "  - $N(t) = N_0e^{\\mu t}$\n",
    "    - $N_0$: initial biomass, gDW/L\n",
    "    - $\\mu$: growth rate, /h\n",
    "    - $t$: duration, h\n",
    "- logistic growth law (Verhulst): \n",
    "  - $N(t) = \\frac{K}{1+\\left( \\frac{K-N_0}{N_0}e^{-\\mu t} \\right)}$\n",
    "    - $N_0$: initial biomass, gDW/L\n",
    "    - $\\mu$: growth rate, /h\n",
    "    - $t$: duration, h\n",
    "    - $K$: carrying capacity, max biomass, gDW/L\n",
    "- Gompertz function: \n",
    "  - $N(t) = N_0e^{\\left(\\textrm{ln} \\left(\\frac{K}{N_0} \\right)\\left(1 - e^{-\\mu t} \\right) \\right)}$\n",
    "    - $N_0$: initial biomass, gDW/L\n",
    "    - $\\mu$: growth rate, /h\n",
    "    - $t$: duration, h\n",
    "    - $K$: carrying capacity, max biomass, gDW/L\n",
    "- Baranyi model: complex model, see [literature](https://doi.org/10.1006/fmic.1999.0285)\n",
    "\n",
    "The growth rate is a function of the substrate level and can be calculated via the Monod equation:\n",
    "- $\\mu = \\frac{\\mu_{max}S}{K_S + S}$\n",
    "  - $\\mu$: growth rate, /h\n",
    "  - $\\mu_{max}$: maximum growth rate, /h\n",
    "  - $S$: Substrate concentration, mmol/L\n",
    "  - $K_S$: half velocity constant, the value of S when $\\frac{\\mu}{\\mu_{max}} = 0.5$, mmol/L\n",
    "\n",
    "## Objective\n",
    "1. Determine the optimal growth temperature\n",
    "2. Calculate the growth rate and substrate uptake rate at different substrate concentrations\n",
    "3. Evaluate the growth yields\n",
    "\n",
    "### Additional information:\n",
    "- Hagen, Exponential growth of bacteria: Constant multiplication through division, American Journal of Physics, 2010. doi [10.1119/1.3483278](https://doi.org/10.1119/1.3483278)\n",
    "- Verduyn et al., A theoretical evaluation of growth yields of yeasts, Antoie van Leeuwenhoek, 1991. doi [10.1007/BF00582119](https://doi.org/10.1007/BF00582119)\n",
    "- Pirt, The maintenance energy of bacteria in growing cultures, 1965. doi [10.1098/rspb.1965.0069](https://doi.org/10.1098/rspb.1965.0069)\n",
    "\n",
    "## Workflow\n",
    "\n",
    "**1 Set-up of simulation environment**\n",
    " * *1.1 Loading Python libraries and functions*\n",
    " * *1.2 Seeding your individual organism*\n",
    "\n",
    "**2 High Throughput Temperature measurements**\n",
    " * *2.1 96-well plate experiment simulation* \n",
    " * *2.2 Python based data analysis*\n",
    " * *2.3 Data export to Excel*\n",
    " \n",
    "**3 Substrate uptake rates**\n",
    " * *3.1 Experiment setup (temperature, substrate concentrations, duration)*\n",
    " * *3.2 Data analysis*\n",
    " * *3.3 Data export to Excel* \n",
    "\n",
    "**4 Yield calculations**\n",
    " * *4.1 Yield formula*\n",
    " * *4.2 Assessment against published yields*\n",
    "\n",
    "**5 Evaluation by peer review**\n",
    " * *5.1 Report of results*\n",
    " * *5.2 Peer review*"
   ]
  },
  {
   "cell_type": "code",
   "execution_count": 2,
   "metadata": {},
   "outputs": [
    {
     "name": "stdout",
     "output_type": "stream",
     "text": [
      "silvio version:  0.2.1\n",
      "System ready\n"
     ]
    }
   ],
   "source": [
    "# Loading of important functionalities for the notebook:\n",
    "# Loading numpy, a library fo manipulation of numbers:\n",
    "import os\n",
    "import numpy as np\n",
    "# Loading matplotlib, a library for visualization:\n",
    "import matplotlib.pyplot as plt\n",
    "# Initialization, loading of all laboratory functionalities and stored models and information of the organisms:\n",
    "# from FermProSimFun import MonodModel as Model\n",
    "\n",
    "import silvio\n",
    "from silvio.catalog.RecExpSim import RecExperiment, combine_data\n",
    "from silvio.extensions.records.gene.crafted_gene import CraftedGene\n",
    "\n",
    "from silvio.catalog.GroExpSim import *# GrowthExperiment\n",
    "print('silvio version: ',silvio.__version__)\n",
    "print('System ready')"
   ]
  },
  {
   "cell_type": "code",
   "execution_count": 3,
   "metadata": {},
   "outputs": [
    {
     "name": "stdout",
     "output_type": "stream",
     "text": [
      "Experiment:\n",
      "  budget = 8000\n",
      "  failure rate = 0.12\n",
      "  hosts = [ ecol ]\n"
     ]
    },
    {
     "data": {
      "text/plain": [
       "{'opt_growth_temp': 28,\n",
       " 'max_biomass': 31,\n",
       " 'Ks': 7.521,\n",
       " 'Yxs': 0.47,\n",
       " 'k1': 0.156,\n",
       " 'umax': 0.716,\n",
       " 'OD2X': 0.459,\n",
       " 'make_generator': <bound method Host.make_generator of <silvio.catalog.GroExpSim.GroHost object at 0x7f23270d6b50>>}"
      ]
     },
     "execution_count": 3,
     "metadata": {},
     "output_type": "execute_result"
    }
   ],
   "source": [
    "exp = GrowthExperiment(161710, 2000, 10000)\n",
    "\n",
    "Organism = 'ecol'\n",
    "host = exp.create_host(Organism)\n",
    "exp.print_status()\n",
    "vars(host.growth)"
   ]
  },
  {
   "cell_type": "code",
   "execution_count": 4,
   "metadata": {},
   "outputs": [
    {
     "name": "stdout",
     "output_type": "stream",
     "text": [
      "############################################# progress of exp.0 at 32 °C: 100 percent\n",
      "############################################# progress of exp.1 at 30 °C: 100 percent\n",
      "############################################# progress of exp.2 at 28 °C: 100 percent\n",
      "############################################# progress of exp.3 at 26 °C: 100 percent\n",
      "Data exported to: /home/ulf/Documents/2109_BLS+SILVIO/biolabsim_dev/Data/TempGrowthExperiment.csv\n",
      "Experiment:\n",
      "  budget = 7900\n",
      "  failure rate = 0.12\n",
      "  hosts = [ ecol ]\n"
     ]
    }
   ],
   "source": [
    "Temperatures = [32, 30, 28, 26]\n",
    "FileName = 'TempGrowthExperiment.csv'\n",
    "exp.measure_TemperatureGrowth(Organism, Temperatures, FileName)\n",
    "exp.print_status()"
   ]
  },
  {
   "cell_type": "code",
   "execution_count": 5,
   "metadata": {},
   "outputs": [
    {
     "data": {
      "text/plain": [
       "Text(0, 0.5, 'ln(Biomass)')"
      ]
     },
     "execution_count": 5,
     "metadata": {},
     "output_type": "execute_result"
    },
    {
     "data": {
      "image/png": "[encoded data removed]",
      "text/plain": [
       "<Figure size 640x480 with 1 Axes>"
      ]
     },
     "metadata": {},
     "output_type": "display_data"
    }
   ],
   "source": [
    "# Insert the correct code sequence for plotting in this cell.\n",
    "# %load Snippets/rev_GrowthPlot.py \n",
    "DataFile = os.path.join('..', 'Data',FileName)\n",
    "my_data = np.genfromtxt(DataFile, delimiter=',', skip_header=1)\n",
    "Time, Biomass = my_data[:,0], my_data[:,1:]\n",
    "LnBiomass = np.log(Biomass)\n",
    "[plt.scatter(Time, X, label=Exp) for Exp,X in enumerate(LnBiomass.T)]\n",
    "plt.legend([r'{}:{}$^\\circ$C'.format(Idx, T) for Idx, T in enumerate(Temperatures)], bbox_to_anchor=(1.05, 1), loc='upper left'); plt.xlabel('time, h'); plt.ylabel('ln(Biomass)')\n"
   ]
  },
  {
   "cell_type": "code",
   "execution_count": 6,
   "metadata": {},
   "outputs": [
    {
     "name": "stdout",
     "output_type": "stream",
     "text": [
      "Biomass: 27.04±8.32 g/L\n",
      "Growth rate: 0.73±0.02 /h\n"
     ]
    }
   ],
   "source": [
    "# Rearrange the correct code sequence for calculating the growth and biomass parameters here.\n",
    "# For None enter the corresponding values of experiment index with fastest growth and latest time of linear growth (integer number).\n",
    "# %load Snippets/snip_GrowthPars.py\n",
    "\n",
    "Idx_optT, Linear_optT = 2, 6\n",
    "MB_mean = np.mean(Biomass[Linear_optT:,Idx_optT])\n",
    "MB_std = np.std(Biomass[Linear_optT:,Idx_optT])\n",
    "print('Biomass: {:.2f}±{:.2f} g/L'.format(MB_mean, MB_std))\n",
    "GR, cov = np.polyfit(Time[:Linear_optT],LnBiomass[:Linear_optT,Idx_optT],1, cov=True)\n",
    "GR_mean, GR_std = GR[0], np.sqrt(np.diag(cov))[0]\n",
    "print('Growth rate: {:.2f}±{:.2f} /h'.format(GR_mean, GR_std))\n"
   ]
  },
  {
   "attachments": {},
   "cell_type": "markdown",
   "metadata": {},
   "source": [
    "## Optical density to dry weight conversion\n",
    "In literature the standard reporting for biomass is gramm dry weight (gDW). In the lab, the measurement by optical density is typical and thus, a conversion between these units need to be established. Typically, a culture is grown for a period of time and harvested during exponential growth. All liquid is removed by baking in the oven or microwave and the remaining biomass powder is weighted.\n",
    "\n",
    "In the following, you conduct an experiment to determine the conversion factor. Choose the optimal temperature, and appropriate values for cultivation time and substrate concentration to end approximately in exponential phase. The result is stored in a csv-file in the Data folder."
   ]
  },
  {
   "cell_type": "code",
   "execution_count": 7,
   "metadata": {},
   "outputs": [
    {
     "name": "stdout",
     "output_type": "stream",
     "text": [
      "Data exported to: /home/ulf/Documents/2109_BLS+SILVIO/biolabsim_dev/Data/OD-DryWeight_28C_15h_10M.csv\n"
     ]
    },
    {
     "data": {
      "text/plain": [
       "DataOutcome(value=      t      X      S     OD\n",
       "0  15.0  2.981  5.102  6.495\n",
       "1  15.0  2.817  3.500  6.137\n",
       "2  15.0  2.869  3.853  6.251, error=None)"
      ]
     },
     "execution_count": 7,
     "metadata": {},
     "output_type": "execute_result"
    }
   ],
   "source": [
    "Temperature = 28 \n",
    "FinalTime = 15\n",
    "SubstrateConc = 10\n",
    "Replicates = 3\n",
    "FileName = f'OD-DryWeight_{Temperature}C_{FinalTime}h_{SubstrateConc}M.csv'\n",
    "exp.measure_DryWeight(Organism, Temperature, FinalTime, SubstrateConc, Replicates, FileName)"
   ]
  },
  {
   "attachments": {},
   "cell_type": "markdown",
   "metadata": {},
   "source": [
    "#### Calculation of the conversion factor\n",
    "The conversion factor is simply calculated by dividing the biomass dry weight with the OD. The factor can be multiplied to the OD to get the corresponding dry weight."
   ]
  },
  {
   "cell_type": "code",
   "execution_count": 8,
   "metadata": {},
   "outputs": [
    {
     "name": "stdout",
     "output_type": "stream",
     "text": [
      "The OD to dry weight conversion factor: 0.459±0.0 (gDW/L)/OD\n"
     ]
    }
   ],
   "source": [
    "DataFile = os.path.join('..', 'Data',FileName)\n",
    "my_data = np.genfromtxt(DataFile, delimiter=',', skip_header=1)\n",
    "DryWeight, OD = my_data[:,1], my_data[:,3]\n",
    "OD2XAvg = round(np.average(DryWeight/OD),3)\n",
    "OD2XStd = round(np.std(DryWeight/OD),3)\n",
    "print(f'The OD to dry weight conversion factor: {OD2XAvg}±{OD2XStd} (gDW/L)/OD')"
   ]
  },
  {
   "cell_type": "code",
   "execution_count": 4,
   "metadata": {},
   "outputs": [
    {
     "name": "stdout",
     "output_type": "stream",
     "text": [
      "############################################# progress experiment: 100 percent\n",
      "Data exported to: /home/ulf/Documents/2109_BLS+SILVIO/biolabsim_dev/Data/SubstrateGrowthExp__28C_100h_1M.csv\n",
      "Experiment:\n",
      "  budget = 7785\n",
      "  failure rate = 0.12\n",
      "  hosts = [ ecol ]\n"
     ]
    }
   ],
   "source": [
    "Temperature = 28\n",
    "SubstrateConc = 1\n",
    "TotalTime = 100\n",
    "SamplingTime = 2\n",
    "NightStart = 10\n",
    "# The data is saved in the 'Data' subfolder. Choose the name of the file and add description of the experiment, like the substrate concentration, Temperature, etc.\n",
    "FileName = f'SubstrateGrowthExp__{Temperature}C_{TotalTime}h_{SubstrateConc}M.csv' # add file type .csv\n",
    "\n",
    "myDat = exp.measure_BiomassSubstrateExp('ecol', Temperature, [TotalTime, SamplingTime], SubstrateConc, NightStart, FileName)\n",
    "exp.print_status()"
   ]
  },
  {
   "cell_type": "code",
   "execution_count": 5,
   "metadata": {},
   "outputs": [
    {
     "data": {
      "image/png": "[encoded data removed]",
      "text/plain": [
       "<Figure size 640x480 with 2 Axes>"
      ]
     },
     "metadata": {},
     "output_type": "display_data"
    }
   ],
   "source": [
    "# loading of data csv file to dataframe\n",
    "ExperimentFile = os.path.join('..', 'Data', FileName)\n",
    "df = pd.read_csv(ExperimentFile, sep=',', header=0)\n",
    "# Scatter plot of the data with two y axis for OD and substrate concentration\n",
    "fig, ax1 = plt.subplots()\n",
    "color = 'tab:red'\n",
    "ax1.set_xlabel('time (h)')\n",
    "ax1.set_ylabel('OD', color=color)\n",
    "ax1.scatter(df['t'], df['OD'], color=color)\n",
    "ax1.tick_params(axis='y', labelcolor=color)\n",
    "ax2 = ax1.twinx()  # instantiate a second axes that shares the same x-axis\n",
    "color = 'tab:blue'\n",
    "ax2.set_ylabel('Substrate', color=color)  # we already handled the x-label with ax1\n",
    "ax2.scatter(df['t'], df['S'], color=color)\n",
    "ax2.tick_params(axis='y', labelcolor=color)\n",
    "fig.tight_layout()  # otherwise the right y-label is slightly clipped\n",
    "plt.show()"
   ]
  },
  {
   "attachments": {},
   "cell_type": "markdown",
   "metadata": {},
   "source": [
    "## Do the data analysis"
   ]
  },
  {
   "attachments": {},
   "cell_type": "markdown",
   "metadata": {},
   "source": [
    "## Check your results\n",
    "Testing values of:\n",
    "- Optimal temperature\n",
    "- OD to dry weight correlation\n",
    "- Growth rate\n",
    "- Maximum biomass\n",
    "- Growth yield\n",
    "- Glucose concentration with half maximum uptake rate\n",
    "- Glucose maximum uptake rate"
   ]
  },
  {
   "cell_type": "code",
   "execution_count": 8,
   "metadata": {},
   "outputs": [],
   "source": [
    "# Maximum growth rate\n",
    "Temperature = 28\n",
    "MaxBiomass = None\n",
    "OD2X = .5\n",
    "GrowthYield_Avg = 0.5\n",
    "GrowthYield_Std = 0.05\n",
    "GrowthRate_Avg = .68\n",
    "GrowthRate_Std = .04\n",
    "GlcRateMax_Avg = 1.5\n",
    "GlcRateMax_Std = .2\n",
    "\n",
    "Results = {'Temperature': Temperature,\n",
    "           'MaxBiomass': MaxBiomass,\n",
    "           'OD2X': OD2X,\n",
    "           'GrowthYield_Avg': GrowthYield_Avg, 'GrowthYield_Std': GrowthYield_Std,\n",
    "           'GrowthRate_Avg':GrowthRate_Avg, 'GrowthRate_Std':GrowthRate_Std, \n",
    "           'GlcRateMax_Avg': GlcRateMax_Avg, 'GlcRateMax_Std': GlcRateMax_Std\n",
    "           } #"
   ]
  },
  {
   "cell_type": "code",
   "execution_count": 9,
   "metadata": {},
   "outputs": [
    {
     "name": "stdout",
     "output_type": "stream",
     "text": [
      "GlcRateMax: 1.5±0.2 mmol/gDW/h ✅\n",
      "GrowthRate: 0.68±0.04 /h ✅\n",
      "GrowthYield: 0.5±0.05 g/g ✅\n",
      "OD2X: 0.5 a.u. ❌\n",
      "Temperature: 28 °C ✅\n"
     ]
    }
   ],
   "source": [
    "exp.check_Results(Organism, Results)"
   ]
  }
 ],
 "metadata": {
  "kernelspec": {
   "display_name": "bls_py39",
   "language": "python",
   "name": "python3"
  },
  "language_info": {
   "codemirror_mode": {
    "name": "ipython",
    "version": 3
   },
   "file_extension": ".py",
   "mimetype": "text/x-python",
   "name": "python",
   "nbconvert_exporter": "python",
   "pygments_lexer": "ipython3",
   "version": "3.9.12"
  },
  "orig_nbformat": 4
 },
 "nbformat": 4,
 "nbformat_minor": 2
}
