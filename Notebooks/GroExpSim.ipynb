{
 "cells": [
  {
   "attachments": {},
   "cell_type": "markdown",
   "metadata": {},
   "source": [
    "# High Throughput Growth Experiment Analysis in Biotechnology\n",
    "***\n",
    "\n",
    "## Background\n",
    "Biotechnology requires knowledge of microbial physiology and metabolism. Among the most important information is the growth rate and the substrate uptake rate. Both can be used to calculate the effectiveness of biotechnological production strategies and biomass and product yields. To identify an organism with suitable growth parameters, multiple strains, mutants or environmental conditions are tested which results in high throughput data. To analyse high throughput data computational approaches can speed up the process.\n",
    "\n",
    "There are different growth phenotypes: exponential, linear, saturated, diauxie. The typical microbial saturated growth is divided in different growth phases, lag, log, stationary, and death phase.\n",
    "\n",
    "Laws to describe a biomass $N$ include: \n",
    "- exponential law: \n",
    "  - $N(t) = N_0e^{\\mu t}$\n",
    "    - $N_0$: initial biomass, gDW/L\n",
    "    - $\\mu$: growth rate, /h\n",
    "    - $t$: duration, h\n",
    "- logistic growth law (Verhulst): \n",
    "  - $N(t) = \\frac{K}{1+\\left( \\frac{K-N_0}{N_0}e^{-\\mu t} \\right)}$\n",
    "    - $N_0$: initial biomass, gDW/L\n",
    "    - $\\mu$: growth rate, /h\n",
    "    - $t$: duration, h\n",
    "    - $K$: carrying capacity, max biomass, gDW/L\n",
    "- Gompertz function: \n",
    "  - $N(t) = N_0e^{\\left(\\textrm{ln} \\left(\\frac{K}{N_0} \\right)\\left(1 - e^{-\\mu t} \\right) \\right)}$\n",
    "    - $N_0$: initial biomass, gDW/L\n",
    "    - $\\mu$: growth rate, /h\n",
    "    - $t$: duration, h\n",
    "    - $K$: carrying capacity, max biomass, gDW/L\n",
    "- Baranyi model: complex model, see [literature](https://doi.org/10.1006/fmic.1999.0285)\n",
    "\n",
    "The growth rate $\\mu$ is a function of the substrate level and can be calculated via the Monod equation:\n",
    "- $\\mu = \\frac{\\mu_{max}S}{K_S + S}$\n",
    "  - $\\mu$: growth rate, /h\n",
    "  - $\\mu_{max}$: maximum growth rate, /h\n",
    "  - $S$: Substrate concentration, mmol/L\n",
    "  - $K_S$: half velocity constant, the value of S when $\\frac{\\mu}{\\mu_{max}} = 0.5$, mmol/L\n",
    "\n",
    "## Objective\n",
    "1. Determine the optimal growth temperature\n",
    "2. Calculate the growth rate and substrate uptake rate at different substrate concentrations\n",
    "3. Evaluate the growth yields\n",
    "\n",
    "### Additional information:\n",
    "- Hagen, Exponential growth of bacteria: Constant multiplication through division, American Journal of Physics, 2010. doi [10.1119/1.3483278](https://doi.org/10.1119/1.3483278)\n",
    "- Verduyn et al., A theoretical evaluation of growth yields of yeasts, Antoie van Leeuwenhoek, 1991. doi [10.1007/BF00582119](https://doi.org/10.1007/BF00582119)\n",
    "- Pirt, The maintenance energy of bacteria in growing cultures, 1965. doi [10.1098/rspb.1965.0069](https://doi.org/10.1098/rspb.1965.0069)\n",
    "\n",
    "## Workflow\n",
    "\n",
    "**1 Set-up of simulation environment**\n",
    " * *1.1 Loading Python libraries and functions*\n",
    " * *1.2 Seeding your individual organism*\n",
    "\n",
    "**2 Optimal temperature experiment**\n",
    " * *2.1 Shake-flask experiment simulation and data export* \n",
    " * *2.2 Python based data analysis*\n",
    " \n",
    "**3 Optical density to dry weight conversion**\n",
    " * *3.1 Experiment setup (temperature, substrate concentrations, duration)*\n",
    " * *3.2 Data analysis*\n",
    " * *3.3 Data export to Excel* \n",
    "\n",
    "**4 Substrate uptake experiment**\n",
    " * *3.1 Experiment setup (temperature, substrate concentrations, duration)*\n",
    " * *3.2 Data analysis*\n",
    " * *3.3 Data export to Excel* \n",
    "\n",
    "---\n",
    "\n",
    "## Set-up of simulation environment\n",
    "### Loading libraries\n",
    "Loading libraries and fixing visualization. No user input necessary."
   ]
  },
  {
   "cell_type": "code",
   "execution_count": null,
   "metadata": {},
   "outputs": [],
   "source": [
    "# Loading of important functionalities for the notebook:\n",
    "# Loading numpy, a library fo manipulation of numbers:\n",
    "import os\n",
    "import numpy as np\n",
    "# Loading matplotlib, a library for visualization:\n",
    "import matplotlib.pyplot as plt\n",
    "# Initialization, loading of all laboratory functionalities and stored models and information of the organisms:\n",
    "# from FermProSimFun import MonodModel as Model\n",
    "\n",
    "try:\n",
    "    import silvio\n",
    "except ImportError:\n",
    "    print(\"silvio not found, installing...\")\n",
    "    %pip install silvio\n",
    "    import silvio\n",
    "from silvio.catalog.RecExpSim import RecExperiment, combine_data\n",
    "from silvio.extensions.records.gene.crafted_gene import CraftedGene\n",
    "\n",
    "from silvio.catalog.GroExpSim import *# GrowthExperiment\n",
    "\n",
    "Par_Bud = 10000\n",
    "\n",
    "print('silvio version: ',silvio.__version__)\n",
    "print('System ready')"
   ]
  },
  {
   "attachments": {},
   "cell_type": "markdown",
   "metadata": {},
   "source": [
    "## 2 Lab setup\n",
    "\n",
    "The physiological conditions of the simulation are defined. The choice of organism has no effect on the parameters.\n",
    "\n",
    "**Resource cost:**\n",
    "* **Free** \n",
    "\n",
    "**Input:** \n",
    "* **`mySeed`: Number, e.g., Student-ID (integer)**\n",
    "* **`myInvest`: 1000-2000 Eur (10-20% of total budget, integer)**\n",
    "\n",
    "**Output:** \n",
    "* Text with remaining budget, experiment failure rate and internal organism identifier.\n"
   ]
  },
  {
   "cell_type": "code",
   "execution_count": null,
   "metadata": {},
   "outputs": [],
   "source": [
    "mySeed = None  # Your student ID\n",
    "myInvest = None # Your lab expenditure, choose anything between 1000-2500\n",
    "\n",
    "exp = GrowthExperiment(mySeed, myInvest, Par_Bud)\n",
    "\n",
    "Organism = 'ecol'\n",
    "host = exp.create_host(Organism)\n",
    "exp.print_status()"
   ]
  },
  {
   "attachments": {},
   "cell_type": "markdown",
   "metadata": {},
   "source": [
    "----\n",
    "## 2 Optimal temperature experiment\n",
    "\n",
    "### 2.1  Experiment set-up\n",
    "You have to identify the optimal growth temperature, the corresponding maximum growth rate and the maximum biomass of your strain by cultivating the cells at different temperatures. For each program start the optimal temperature and the maximum biomass is randomly initiated. The optimal temperature is sampled from the range of temperatures for **mesophilic microorganisms** within 20-40°C (see page 23, [Biotechnology: An illustrated primer](https://application.wiley-vch.de/books/sample/3527335153_c01.pdf)). Occasionally, a culture will not grow at all and therefore it might be helpful to measure temperature replicates. However, be aware that each cultivation costs resources.     \n",
    "\n",
    "The results from the temperature experiments are stored in a comma separated value (csv) file  in the `Data` subfolder as `Growth_Simulation.csv`. You can find the csv-file in the left navigation panel within the `biolabsim` folder. For quick inspection double click the csv-file, for downloading and subsequent analysis in Excel right click on the file name and choose 'Download'.        \n",
    "\n",
    "If you want to do another set of experiments afterwards, or if you want to repeat individual experiments, you should make sure that you change the ID of your set of experiments (experiments_ID), otherwise results already generated may be overwritten. By default the experiments_ID has the value `1`, as is shown in the code cell below. \n",
    "\n",
    "Example: `temperature = [22,24,26,28,30,32,34,36,38]`\n",
    "\n",
    "**Resource cost:**\n",
    "* **100 EUR**\n",
    "\n",
    "**Input:**\n",
    "* **`temperatures`: Temperature array (integer list)**\n",
    "* **`experiments_ID`: variable name (integer)**\n",
    "\n",
    "**Output:**\n",
    "* File `TempGrowthExperiment.csv` in `Data` subfolder."
   ]
  },
  {
   "cell_type": "code",
   "execution_count": null,
   "metadata": {},
   "outputs": [],
   "source": [
    "temperatures = None # Choose a list of temperatures between 20-40, e.g. [20, 25, 30, 35, 40]\n",
    "FileName = 'TempGrowthExperiment.csv'\n",
    "exp.measure_TemperatureGrowth(Organism, temperatures, FileName)\n",
    "exp.print_status()"
   ]
  },
  {
   "attachments": {},
   "cell_type": "markdown",
   "metadata": {},
   "source": [
    "### Visualizing growth experiments\n",
    "The experimental results are stored in the csv-file. Analyse the data either with Python with the following code with scambled line or separately with e.g. Excel, Origin or GraphPad. Correct the line of code to visualize the logarithmic biomass over time."
   ]
  },
  {
   "cell_type": "code",
   "execution_count": null,
   "metadata": {},
   "outputs": [],
   "source": [
    "# Correct code sequence for plotting\n",
    "\n",
    "Time, Biomass = my_data[:,0], my_data[:,1:]\n",
    "DataFile = os.path.join('..','Data','TempGrowthExperiment.csv')\n",
    "LnBiomass = np.log(Biomass)\n",
    "[plt.scatter(Time, X, label=Exp) for Exp,X in enumerate(LnBiomass.T)]\n",
    "plt.legend([r'{}:{}$^\\circ$C'.format(Idx, T) for Idx, T in enumerate(temperatures)], bbox_to_anchor=(1.05, 1), loc='upper left'); plt.xlabel('time, h'); plt.ylabel('ln(Biomass)')\n",
    "my_data = np.genfromtxt(DataFile, delimiter=',', skip_header=1)"
   ]
  },
  {
   "attachments": {},
   "cell_type": "markdown",
   "metadata": {},
   "source": [
    "### Calculate linear regression\n",
    "In the following cell, the linear regression `polyfit` is performed on the logarithmic biomass values, `LnBiomass` from the previous cell. The slope equals the growth rate and regression provides a standard deviation."
   ]
  },
  {
   "cell_type": "code",
   "execution_count": null,
   "metadata": {},
   "outputs": [],
   "source": [
    "# For None enter the corresponding values of experiment index with fastest growth and latest time of linear growth (integer number).\n",
    "# %load Snippets/snip_GrowthPars.py\n",
    "Idx_optT = 5 # Insert the experiment ID for the optimal temperature\n",
    "Linear_optT = 5 # Insert the time point when linearized, exponential growth ceases\n",
    "\n",
    "# Rearrange the correct code sequence for calculating the growth and biomass parameters here.\n",
    "print(f'Biomass: {MB_mean:.2f}±{MB_std:.2f} g/L')\n",
    "MB_std = np.std(Biomass[Linear_optT:,Idx_optT])\n",
    "GR, cov = np.polyfit(Time[:Linear_optT],LnBiomass[:Linear_optT,Idx_optT],1, cov=True)\n",
    "MB_mean = np.mean(Biomass[Linear_optT:,Idx_optT])\n",
    "print(f'Growth rate: {GR_mean:.2f}±{GR_std:.2f} /h')\n",
    "GR_mean, GR_std = GR[0], np.sqrt(np.diag(cov))[0]\n"
   ]
  },
  {
   "attachments": {},
   "cell_type": "markdown",
   "metadata": {},
   "source": [
    "---\n",
    "## Optical density to dry weight conversion\n",
    "In literature the standard reporting for biomass is gramm dry weight (gDW). In the lab, the measurement by optical density is typical and thus, a conversion between these units need to be established. Typically, a culture is grown for a period of time and harvested during exponential growth. All liquid is removed by baking in the oven or microwave and the remaining biomass powder is weighted.\n",
    "\n",
    "In the following, you conduct an experiment to determine the conversion factor. Choose the optimal temperature, and appropriate values for cultivation time and substrate concentration to end approximately in exponential phase. The result is stored in a csv-file in the Data folder.\n",
    "\n",
    "**Resource cost:**\n",
    "* **25 EUR/replicate**\n",
    "\n",
    "**Input:**\n",
    "* **`Temperatures`: optimal temperature (integer)**\n",
    "* **`FinalTime`: Hours to harvest biomass (integer)**\n",
    "* **`SubstrateConc`: Initial glucose concentration in g/L (integer)**\n",
    "* **`Replicates`: Parallel experiments for better statistics (integer)**\n",
    "\n",
    "**Output:**\n",
    "* File `OD-DryWeight_?C_?h_?gL-1.csv` with `?` as the choices for temperature, final time and substrate concentration.\n"
   ]
  },
  {
   "cell_type": "code",
   "execution_count": null,
   "metadata": {},
   "outputs": [],
   "source": [
    "Temperature = 30\n",
    "FinalTime = 50\n",
    "SubstrateConc = 10\n",
    "Replicates = 3\n",
    "FileName = f'OD-DryWeight_{Temperature}C_{FinalTime}h_{SubstrateConc}gL-1.csv'\n",
    "exp.measure_DryWeight(Organism, Temperature, FinalTime, SubstrateConc, Replicates, FileName)"
   ]
  },
  {
   "attachments": {},
   "cell_type": "markdown",
   "metadata": {},
   "source": [
    "### Calculation of the conversion factor\n",
    "The conversion factor is simply calculated by dividing the biomass dry weight with the OD. The factor can be multiplied to the OD to get the corresponding dry weight. Perform the analysis either with the Python code with scrambled lines or use Excel, Origin, GraphPad etc..."
   ]
  },
  {
   "cell_type": "code",
   "execution_count": null,
   "metadata": {},
   "outputs": [],
   "source": [
    "# Rearrange the correct code sequence for calculating the OD and gDW correlation.\n",
    "# The code does not need any further input, it assumes the filename is the same as above.\n",
    "\n",
    "my_data = np.genfromtxt(DataFile, delimiter=',', skip_header=1)\n",
    "DataFile = os.path.join('..', 'Data',FileName)\n",
    "OD2XAvg = round(np.average(DryWeight/OD),3)\n",
    "print(f'The OD to dry weight conversion factor: {OD2XAvg}±{OD2XStd} (gDW/L)/OD')\n",
    "OD2XStd = round(np.std(DryWeight/OD),3)\n",
    "DryWeight, OD = my_data[:,1], my_data[:,3]\n"
   ]
  },
  {
   "attachments": {},
   "cell_type": "markdown",
   "metadata": {},
   "source": [
    "---\n",
    "## 4 Substrate uptake experiment\n",
    "\n",
    "During the experiment the substrate concentration as g/L and biomass as OD is measured. Use the optimal temperature you identified previously, decide which substrate concentration to choose and the total time for sampling. Make sure that the exponential phase as well as the stationary phase are measured. You also set the amount of sampling per hour, this gives you better statistical results, but results in higher expenses. There is a night time recurring every 24h, during which no measurements are taken for approximately six hours. You can start your experiment relative to the night start.\n",
    "\n",
    "**Resource cost:**\n",
    "* **~6 EUR/Sample**\n",
    "\n",
    "**Input:**\n",
    "* **`Temperatures`: optimal temperature (integer)**\n",
    "* **`SubstrateConc`: Initial glucose concentration in g/L (integer)**\n",
    "* **`TotalTime`: Experiment duration in hours (integer)**\n",
    "* **`SamplingTime`: Sampling per hour, e.g. 2 means every half hour (integer)**\n",
    "* **`NightStart`: Duration until night begins when no samples are taken, recurring every 24h (integer)**\n",
    "\n",
    "**Output:**\n",
    "* File `SubstrateGrowthExp_?C_?h_?gL-1.csv` with `?` as the choices for temperature, experiment duration and substrate concentration.\n"
   ]
  },
  {
   "cell_type": "code",
   "execution_count": null,
   "metadata": {},
   "outputs": [],
   "source": [
    "Temperature = None # °C\n",
    "SubstrateConc = None # g/L\n",
    "TotalTime = None  # hours\n",
    "SamplingTime = None # sampling per hour\n",
    "NightStart = None # Duration in hours when the night starts. No measurements for 6h and repeating every 24h.\n",
    "# The data is saved in the 'Data' subfolder. Choose the name of the file and add description of the experiment, like the substrate concentration, Temperature, etc.\n",
    "FileName = f'SubstrateGrowthExp__{Temperature}C_{TotalTime}h_{SubstrateConc}gL-1.csv' # add file type .csv\n",
    "\n",
    "myDat = exp.measure_BiomassSubstrateExp('ecol', Temperature, [TotalTime, SamplingTime], SubstrateConc, NightStart, FileName)\n",
    "exp.print_status()"
   ]
  },
  {
   "attachments": {},
   "cell_type": "markdown",
   "metadata": {},
   "source": [
    "### Visualization of experiment\n",
    "\n",
    "The cell visualizes the lates experiment defined before by loading the associated csv-file."
   ]
  },
  {
   "cell_type": "code",
   "execution_count": null,
   "metadata": {},
   "outputs": [],
   "source": [
    "# loading of data csv file to dataframe\n",
    "ExperimentFile = os.path.join('..', 'Data', FileName)\n",
    "df = pd.read_csv(ExperimentFile, sep=',', header=0)\n",
    "# Scatter plot of the data with two y axis for OD and substrate concentration\n",
    "fig, ax1 = plt.subplots()\n",
    "color = 'tab:red'\n",
    "ax1.set_xlabel('time (h)')\n",
    "ax1.set_ylabel('OD', color=color)\n",
    "ax1.scatter(df['t'], df['OD'], color=color)\n",
    "ax1.tick_params(axis='y', labelcolor=color)\n",
    "ax2 = ax1.twinx()  # instantiate a second axes that shares the same x-axis\n",
    "color = 'tab:blue'\n",
    "ax2.set_ylabel('Substrate', color=color)  # we already handled the x-label with ax1\n",
    "ax2.scatter(df['t'], df['S'], color=color)\n",
    "ax2.tick_params(axis='y', labelcolor=color)\n",
    "fig.tight_layout()  # otherwise the right y-label is slightly clipped\n",
    "plt.show()"
   ]
  },
  {
   "attachments": {},
   "cell_type": "markdown",
   "metadata": {},
   "source": [
    "## Check your results\n",
    "Testing values of:\n",
    "- Optimal temperature\n",
    "- OD to dry weight correlation\n",
    "- Growth rate\n",
    "- Maximum biomass\n",
    "- Growth yield\n",
    "- Glucose concentration with half maximum uptake rate\n",
    "- Glucose maximum uptake rate"
   ]
  },
  {
   "cell_type": "code",
   "execution_count": null,
   "metadata": {},
   "outputs": [],
   "source": [
    "# Enter your determined optimal values for the parameters here. Delete parameters that are not calculated.\n",
    "Temperature = None\n",
    "MaxBiomass = None\n",
    "OD2X = None\n",
    "GrowthYield_Avg = None\n",
    "GrowthYield_Std = None\n",
    "GrowthRate_Avg = None\n",
    "GrowthRate_Std = None\n",
    "GlcRateMax_Avg = None\n",
    "GlcRateMax_Std = None\n",
    "Ks_Avg = None\n",
    "Ks_Std = None\n",
    "\n",
    "Results = {'Temperature': Temperature,\n",
    "           'MaxBiomass': MaxBiomass,\n",
    "           'OD2X': OD2X,\n",
    "           'GrowthYield_Avg': GrowthYield_Avg, 'GrowthYield_Std': GrowthYield_Std,\n",
    "           'GrowthRate_Avg':GrowthRate_Avg, 'GrowthRate_Std':GrowthRate_Std, \n",
    "           'GlcRateMax_Avg': GlcRateMax_Avg, 'GlcRateMax_Std': GlcRateMax_Std,\n",
    "           'Ks_Avg': Ks_Avg, 'Ks_Std': Ks_Std,\n",
    "           } #\n",
    "exp.check_Results(Organism, Results)"
   ]
  }
 ],
 "metadata": {
  "kernelspec": {
   "display_name": "bls_py39",
   "language": "python",
   "name": "python3"
  },
  "language_info": {
   "codemirror_mode": {
    "name": "ipython",
    "version": 3
   },
   "file_extension": ".py",
   "mimetype": "text/x-python",
   "name": "python",
   "nbconvert_exporter": "python",
   "pygments_lexer": "ipython3",
   "version": "3.9.12"
  },
  "orig_nbformat": 4
 },
 "nbformat": 4,
 "nbformat_minor": 2
}
