{
 "cells": [
  {
   "cell_type": "markdown",
   "metadata": {},
   "source": [
    "# Simulation of Recombinant Protein Expression\n",
    "***\n",
    "\n",
    "# Introduction\n",
    "\n",
    "This is an initial version of the Biotechnology Laboratory Simulator. The goal of this implementation is to maximize the production rate of any recombinant protein of your choice. This introduction is followed by the tasks to be performed in the virtual lab to find out how to maximize the expression rate of the target protein. The results are then evaluated and assessed.\n",
    "After the necessary preparations, the laboratory workflow includes strain characterization cultivations, experiments for promoter sequence selection and finally the experiment to measure the achieved expression rate.\n",
    "\n",
    "# Laboratory Tasks\n",
    "\n",
    "In this section all aspects of the laboratory are handled. As in every laboratory you have only a limited amount of resources.\n",
    "\n",
    "**1. Preparations for the experiments**\n",
    " \n",
    "*1.1 Set-up your laboratory*    \n",
    "*1.2 Choose host organism*\n",
    " \n",
    "**2. Experiments**\n",
    " \n",
    "*2.1 Strain characterization cultivations*     \n",
    "*2.2 Promoter sequence selection*    \n",
    "*2.3 Measurement of the expression rate*\n",
    "\n",
    "\n",
    "'''better transition still needs to be created, maybe some pictures of the organisms or a laboratory'''\n",
    "\n",
    "## 1. Preparations for the experiments\n",
    "\n",
    "### 1.1 Set-up your laboratory"
   ]
  },
  {
   "cell_type": "code",
   "execution_count": null,
   "metadata": {},
   "outputs": [],
   "source": [
    "import numpy as np\n",
    "import matplotlib.pyplot as plt\n",
    "\n",
    "# The cloning output is a mutant. Which is the host organism and the promoter sequence.\n",
    "%matplotlib inline\n",
    "from BioLabSimFun import Mutant"
   ]
  },
  {
   "cell_type": "markdown",
   "metadata": {},
   "source": [
    "### 1.2 Choose host organism\n",
    "Choosing your biotech-host is extremely simple: just type the name of your favorit bug into the 'Mutant'-command. Your company gives you two organisms, namely *E. coli* (abbr. Ecol) and *P. putida* (abbr. Pput). Use the abbreviation for the selection."
   ]
  },
  {
   "cell_type": "code",
   "execution_count": null,
   "metadata": {},
   "outputs": [],
   "source": [
    "myhost = Mutant('Ecol')\n",
    "myhost.show_BiotechSetting()\n",
    "# list(vars(myhost).keys())\n",
    "print(vars(myhost))"
   ]
  },
  {
   "cell_type": "markdown",
   "metadata": {},
   "source": [
    "## 2. Experiments\n",
    "\n",
    "### 2.1 Strain characterization cultivations\n",
    "Your organization has a strain similar to what you wanted, but slightly different. No one knows what the optimal cultivation conditions are. The only information you got from your organization is that the two organisms are mesophilic bacteria. You can find out the range of temperatures suitable for growth on the following website (excerpt from the book \"Biotechnology\"):    \n",
    "[Schmid, Rolf D., and Claudia Schmidt-Dannert. Biotechnology: An illustrated primer. John Wiley & Sons, 2016.](https://application.wiley-vch.de/books/sample/3527335153_c01.pdf)  \n",
    "Find out the optimal growth temperature by cultivating your strain at different temperatures and calculating the growth rates based on the measured biomass concentrations. Pay attention to the maximum biomass concentration that can be reached."
   ]
  },
  {
   "cell_type": "code",
   "execution_count": null,
   "metadata": {},
   "outputs": [],
   "source": [
    "# temperatures have to be defined\n",
    "a = np.array([20, 30, 32, 35, 38, 38])\n",
    "#experiment:\n",
    "myhost.Make_TempGrowthExp(a)\n",
    "\n",
    "myhost.show_BiotechSetting()\n",
    "#print('OptTemp: {}'.format(myhost._Mutant__OptTemp))"
   ]
  },
  {
   "cell_type": "markdown",
   "metadata": {},
   "source": [
    "### 2.2 Promoter sequence selection\n",
    "You need to identify the optimal promoter sequence for expression of your gene of interest. Read the following article to become an expert on sigma70 driven prokaryotic gene expression: [https://doi.org/10.3390/biom5031245](https://doi.org/10.3390/biom5031245).\n",
    "Think of some promoters and test them, but be aware that each testing costs resources.\n",
    "\n",
    "The total length of the promoters must be 40 nt. Apart from that the genetic distance to the reference sequence of the expression tests should not be larger than 0.4. You can first check that as follows:\n",
    "\n",
    "Then write down your promoter sequences in an Excel sheet.\n",
    "To test the sequences, you have to clone each of them, introduce the resulting construct into the organism and then perform an expression test.\n",
    "\n",
    "#### 2.2.1 Cloning\n",
    "You are given publication from which you can identify positions for integration.\n",
    "Pseudomonas GC content: [https://doi.org/10.1111/1462-2920.14130](https://doi.org/10.1111/1462-2920.14130)   \n",
    "First create the primers matching your promoter sequences and wirte them down in your Excel sheet.  \n",
    "The deviation from the optimum primer length should not be greater than 20 % and the length should not be greater than 30 nt for cloning to work.    \n",
    "Then calculate the melting temperature for each primer and write it into your Excel sheet. On the following website you will find formulas for calculating the melting temperature. A sodium concentration of 50 mM is assumed. The deviation from the optimal melting temperature should not be greater than 20 %.   \n",
    "[proceedings of ICSIIT 2010](https://core.ac.uk/download/pdf/35391868.pdf#page=190)      \n",
    "Finally perform a cloning with each pair of primers followed directly by an expression test."
   ]
  },
  {
   "cell_type": "markdown",
   "metadata": {},
   "source": [
    "'''direct execution one after the other is necessary, since promoter\n",
    "is transferred to the mutant class if cloning is successful.\n",
    "Also mention that Tm or the total primer length may need to be adjusted\n",
    "if cloning fails.'''"
   ]
  },
  {
   "cell_type": "code",
   "execution_count": null,
   "metadata": {},
   "outputs": [],
   "source": [
    "# Construct Primer and calculate melting temperature\n",
    "Clone_ID1 = 'Test1'\n",
    "Promoter1 =  'GCCCATTGACGCTGCCGTAGCGCTCCTATACCCTTGCACG'\n",
    "TestPrimer = 'CGGGTAACTGCGACGGCATCGCGAG' #GAT'\n",
    "Tm = 25\n",
    "\n",
    "Clone_ID2 = 'Test2'\n",
    "Promoter2 = 'A'*40\n",
    "\n",
    "Clone_ID3 = 'Test3'\n",
    "Promoter3 = 'CCGCATTGACGCTGCCGTAGCGCTCCTATACCCTTGCACG'\n",
    "TestPrimer3 = 'GGCGTAACTGCGACGGCATCGCG' #AG' #GAT'\n",
    "Tm = 29\n",
    "\n",
    "Clone_ID4 = 'BestEcol'\n",
    "OptPromoterEcol = 'GCCCATTGACAAGGCTCTCGCGGCCAGGTATAATTGCACG'\n",
    "TestPrimer4 = 'CGGGTAACTGTTCCGAGAGCGC' #CG' #G\n",
    "\n",
    "Clone_ID5 = 'Test5'\n",
    "Promoter5 =   'GCCCATTGAGCTGTTAGCCTAAACTAGCTAAATTTGCACG'\n",
    "TestPrimer5 = 'CGGGTAACTCGACAATCGGATTTG'\n",
    "\n",
    "\n",
    "# experiment, output excecuted?; Length is calculated automatically,\n",
    "# need not be entered\n",
    "myhost.Make_Cloning(Clone_ID5, Promoter5, TestPrimer5, Tm)\n",
    "myhost.show_Library()\n",
    "myhost.show_BiotechSetting()"
   ]
  },
  {
   "cell_type": "markdown",
   "metadata": {},
   "source": [
    "#### 2.2.2 Measurement of the promoter strength"
   ]
  },
  {
   "cell_type": "code",
   "execution_count": null,
   "metadata": {},
   "outputs": [],
   "source": [
    "myhost.Make_MeasurePromoterStrength('Test5')\n",
    "myhost.show_Library()\n",
    "myhost.show_BiotechSetting()\n",
    "# print('Promoter strength: ', myhost.Promoter_Strength)"
   ]
  },
  {
   "cell_type": "markdown",
   "metadata": {},
   "source": [
    "### 2.3 Measurement of the expression rate\n",
    "Now perform the production experiment with the best promoter sequence and use the determined optimal growth temperature (integer only) and the maximum possible biomass (integer only) that you can determine from your data. In this way you will achieve the maximum expression rate and thus the maximum yield of your product.   \n",
    "With the help of the following command you can see the minimum expression rate you should achieve with your experiment."
   ]
  },
  {
   "cell_type": "code",
   "execution_count": null,
   "metadata": {},
   "outputs": [],
   "source": [
    "myhost.show_TargetExpressionRate()"
   ]
  },
  {
   "cell_type": "code",
   "execution_count": null,
   "metadata": {},
   "outputs": [],
   "source": [
    "myhost.Make_ProductionExperiment('BestEcol', 28, 100)\n",
    "myhost.show_Library()\n",
    "myhost.show_BiotechSetting()"
   ]
  },
  {
   "cell_type": "markdown",
   "metadata": {},
   "source": [
    "# Evaluation and visualization of the results\n",
    "\n",
    "Finally, summarize your results in a graph by plotting the promoter strengths of your promoter sequences against the respective GC contents. The promoter strength is directly proportional to the expression rate. Therefore, highlight in the plot the promoter strength of your best promoter sequence that you used in the production experiment. With the command \"plot_ReferencePromoterStrength()\" you can additionally display the promoter strength of a very well suited sequence in your plot to compare your results."
   ]
  },
  {
   "cell_type": "code",
   "execution_count": null,
   "metadata": {},
   "outputs": [],
   "source": [
    "# after a more detailed test during the documentation there are still places to be hidden (???)\n",
    "x = np.array([0.45, 0.63])\n",
    "y = np.array([1.17, 1.13])\n",
    "\n",
    "plt.figure(figsize = (4.5,3), dpi = 120)\n",
    "plt.plot(x,y, linestyle = '--', marker = 'x', color = 'grey')\n",
    "# highlight best sequence\n",
    "plt.plot(0.45, 1.17, marker = 'X', color = 'black', markersize = 8)\n",
    "\n",
    "myhost.plot_ReferencePromoterStrength()\n",
    "\n",
    "plt.xlabel('GC content [-]')\n",
    "plt.ylabel('promoter strength [-]')\n",
    "plt.show()"
   ]
  }
 ],
 "metadata": {
  "kernelspec": {
   "display_name": "Python 3",
   "language": "python",
   "name": "python3"
  },
  "language_info": {
   "codemirror_mode": {
    "name": "ipython",
    "version": 3
   },
   "file_extension": ".py",
   "mimetype": "text/x-python",
   "name": "python",
   "nbconvert_exporter": "python",
   "pygments_lexer": "ipython3",
   "version": "3.7.6"
  }
 },
 "nbformat": 4,
 "nbformat_minor": 4
}
