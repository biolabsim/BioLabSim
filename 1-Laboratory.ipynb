{
 "cells": [
  {
   "cell_type": "markdown",
   "metadata": {},
   "source": [
    "# Laboratory Tasks\n",
    "\n",
    "In this notebook all aspects of the laboratory are handled.\n",
    "\n",
    " 1. Cloning\n",
    " 2. Cultivation\n",
    " 3. Expression measurement"
   ]
  },
  {
   "cell_type": "markdown",
   "metadata": {},
   "source": [
    "## Cloning"
   ]
  },
  {
   "cell_type": "code",
   "execution_count": 1,
   "metadata": {},
   "outputs": [],
   "source": [
    "# The cloning output is a mutant. Which is the host organism and the promoter sequence.\n",
    "from BioLabSimFun import Mutant"
   ]
  },
  {
   "cell_type": "code",
   "execution_count": 2,
   "metadata": {},
   "outputs": [
    {
     "name": "stdout",
     "output_type": "stream",
     "text": [
      "{'host': 'Ecol', 'promoter': 'GCCCATTGAGCGGCGAGGGGCTACCGCGTAAGATTGCACG', 'resources': 3}\n",
      "OptTemp: 32\n",
      "Biomass conc: 99\n"
     ]
    }
   ],
   "source": [
    "mystrain = Mutant('Ecol')\n",
    "mystrain.add_random_promoter()\n",
    "# print(mystrain._Opt_Temp)\n",
    "print(vars(mystrain))\n",
    "print('OptTemp: {}'.format(mystrain._Mutant__Opt_Temp))\n",
    "print('Biomass conc: {}'.format(mystrain._Mutant__Biomass_max))"
   ]
  },
  {
   "cell_type": "markdown",
   "metadata": {},
   "source": [
    "## Expression measurement"
   ]
  },
  {
   "cell_type": "code",
   "execution_count": 3,
   "metadata": {},
   "outputs": [
    {
     "name": "stdout",
     "output_type": "stream",
     "text": [
      "0.021\n"
     ]
    }
   ],
   "source": [
    "from BioLabSimFun import Expression\n",
    "myExpression = Expression(mystrain)\n",
    "print(myExpression)"
   ]
  },
  {
   "cell_type": "code",
   "execution_count": 4,
   "metadata": {},
   "outputs": [
    {
     "name": "stdout",
     "output_type": "stream",
     "text": [
      "growth rate constant: 0.8773029201654343\n",
      "maximum growth rate: 21.7132472740945\n",
      "maximum production:  0.4559781927559845\n"
     ]
    }
   ],
   "source": [
    "# mystrain._Mutant__Biomass_max\n",
    "from BioLabSimFun import Growth_Maxrate, Gen_GrowthConstant\n",
    "r = Gen_GrowthConstant(Mutant, 29)\n",
    "print('growth rate constant: {}'.format(r))\n",
    "print('maximum growth rate: {}'.format(Growth_Maxrate(mystrain, r)))\n",
    "print('maximum production: ',myExpression*Growth_Maxrate(mystrain, r))"
   ]
  },
  {
   "cell_type": "code",
   "execution_count": 11,
   "metadata": {},
   "outputs": [
    {
     "name": "stdout",
     "output_type": "stream",
     "text": [
      "Not enough resources available.\n"
     ]
    },
    {
     "data": {
      "text/plain": [
       "0.52"
      ]
     },
     "execution_count": 11,
     "metadata": {},
     "output_type": "execute_result"
    }
   ],
   "source": [
    "mystrain.Production_Experiment(29)\n",
    "mystrain.ExpressionRate\n"
   ]
  },
  {
   "cell_type": "code",
   "execution_count": 12,
   "metadata": {},
   "outputs": [
    {
     "data": {
      "text/plain": [
       "0"
      ]
     },
     "execution_count": 12,
     "metadata": {},
     "output_type": "execute_result"
    }
   ],
   "source": [
    "mystrain._Mutant__resources"
   ]
  }
 ],
 "metadata": {
  "kernelspec": {
   "display_name": "Python 3",
   "language": "python",
   "name": "python3"
  },
  "language_info": {
   "codemirror_mode": {
    "name": "ipython",
    "version": 3
   },
   "file_extension": ".py",
   "mimetype": "text/x-python",
   "name": "python",
   "nbconvert_exporter": "python",
   "pygments_lexer": "ipython3",
   "version": "3.6.9"
  }
 },
 "nbformat": 4,
 "nbformat_minor": 4
}
