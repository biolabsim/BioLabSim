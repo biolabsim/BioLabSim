{
 "cells": [
  {
   "cell_type": "markdown",
   "metadata": {},
   "source": [
    "# Laboratory Tasks\n",
    "\n",
    "In this notebook all aspects of the laboratory are handled.\n",
    "\n",
    " 1. Cloning\n",
    " 2. Cultivation\n",
    " 3. Expression measurement"
   ]
  },
  {
   "cell_type": "markdown",
   "metadata": {},
   "source": [
    "## Cloning"
   ]
  },
  {
   "cell_type": "code",
   "execution_count": 1,
   "metadata": {},
   "outputs": [],
   "source": [
    "# The cloning output is a mutant. Which is the host organism and the promoter sequence.\n",
    "from BioLabSimFun import Mutant"
   ]
  },
  {
   "cell_type": "code",
   "execution_count": 40,
   "metadata": {},
   "outputs": [
    {
     "name": "stdout",
     "output_type": "stream",
     "text": [
      "{'host': 'Ecol', 'promoter': 'GCCCATTGAAGTAAGGACAGATCTTACGTATAGTTGCACG'}\n"
     ]
    }
   ],
   "source": [
    "mystrain = Mutant('Ecol')\n",
    "mystrain.add_random_promoter()\n",
    "# print(mystrain._Opt_Temp)\n",
    "print(vars(mystrain))"
   ]
  },
  {
   "cell_type": "markdown",
   "metadata": {},
   "source": [
    "## Expression measurement"
   ]
  },
  {
   "cell_type": "code",
   "execution_count": 41,
   "metadata": {},
   "outputs": [
    {
     "name": "stdout",
     "output_type": "stream",
     "text": [
      "[0.02721488]\n"
     ]
    }
   ],
   "source": [
    "from BioLabSimFun import Expression\n",
    "myExpression = Expression(mystrain)\n",
    "print(myExpression)"
   ]
  }
 ],
 "metadata": {
  "kernelspec": {
   "display_name": "Python 3",
   "language": "python",
   "name": "python3"
  },
  "language_info": {
   "codemirror_mode": {
    "name": "ipython",
    "version": 3
   },
   "file_extension": ".py",
   "mimetype": "text/x-python",
   "name": "python",
   "nbconvert_exporter": "python",
   "pygments_lexer": "ipython3",
   "version": "3.6.9"
  }
 },
 "nbformat": 4,
 "nbformat_minor": 4
}
