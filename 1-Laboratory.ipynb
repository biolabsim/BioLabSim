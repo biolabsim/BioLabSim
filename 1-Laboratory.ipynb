{
 "cells": [
  {
   "cell_type": "markdown",
   "metadata": {},
   "source": [
    "# Laboratory Tasks\n",
    "\n",
    "In this notebook all aspects of the laboratory are handled. As in every laboratory you have only a limited amount of resources.\n",
    "\n",
    " 1. Cloning\n",
    " 2. Cultivation\n",
    " 3. Expression measurement"
   ]
  },
  {
   "cell_type": "markdown",
   "metadata": {},
   "source": [
    "## Set-up your laboratory"
   ]
  },
  {
   "cell_type": "code",
   "execution_count": 1,
   "metadata": {},
   "outputs": [],
   "source": [
    "import numpy as np\n",
    "\n",
    "# The cloning output is a mutant. Which is the host organism and the promoter sequence.\n",
    "%matplotlib inline\n",
    "from BioLabSimFun import Mutant"
   ]
  },
  {
   "cell_type": "markdown",
   "metadata": {},
   "source": [
    "## Choose host organism\n",
    "Choosing your biotech-host is extremely simple: just type the name of your favorit bug into the 'Mutant'-command. Your company gives you two organisms, namely *E. coli* (abbr. Ecol) and *P. putida* (abbr. Pput). Use the abbreviation for the selection."
   ]
  },
  {
   "cell_type": "code",
   "execution_count": 2,
   "metadata": {},
   "outputs": [
    {
     "name": "stdout",
     "output_type": "stream",
     "text": [
      "Host: Ecol\n",
      "Resources: 50\n",
      "{'var_Host': 'Ecol', 'var_Resources': 50, 'var_Library': {}, '_Mutant__InflProStreng': 30, '_Mutant__OptTemp': 28, '_Mutant__OptPrLen': 25, '_Mutant__BiomassMax': 84}\n"
     ]
    }
   ],
   "source": [
    "myhost = Mutant('Ecol')\n",
    "myhost.show_BiotechSetting()\n",
    "# list(vars(myhost).keys())\n",
    "print(vars(myhost))"
   ]
  },
  {
   "cell_type": "markdown",
   "metadata": {},
   "source": [
    "## Strain characterization\n",
    "Your organization has a strain similar to what you wanted, but slightly different. No one knows what the optimal cultivation conditions are. The only information you got from your organization is that the two organisms are mesophilic bacteria. You can find out the range of temperatures suitable for growth on the following websites:    \n",
    "[important microorganismes in the food sector](https://www.ag.ch/media/kanton_aargau/dgs/dokumente_4/verbraucherschutz_1/lebensmittelkontrolle/lebensmittelinspektorat/merkblaetter_6/Merkblatt_09_Wichtige_Mikroorganismen_im_Lebensmittelbereich~1.pdf)    \n",
    "[profile of *E. coli* - BAV institue](https://www.bav-institut.de/de/faqs/show/Welche-Bedeutung-hat-Escherichia-coli-E-coli-in-Lebensmittel)   \n",
    "Find out the optimal growth temperature by cultivating your strain at different temperatures and calculating the growth rates based on the measured biomass concentrations. Pay attention to the maximum biomass concentration that can be reached."
   ]
  },
  {
   "cell_type": "code",
   "execution_count": 3,
   "metadata": {},
   "outputs": [
    {
     "name": "stdout",
     "output_type": "stream",
     "text": [
      "############################################# progress of exp.1 at 20 °C: 100 percent\n",
      "############################################# progress of exp.2 at 30 °C: 100 percent\n",
      "############################################# progress of exp.3 at 32 °C: 100 percent\n",
      "############################################# progress of exp.4 at 35 °C: 100 percent\n",
      "############################################# progress of exp.5 at 38 °C: 100 percent\n",
      "############################################# progress of exp.6 at 38 °C: 100 percent\n",
      "Host: Ecol\n",
      "Resources: 44\n"
     ]
    }
   ],
   "source": [
    "# temperatures have to be defined\n",
    "a = np.array([20, 30, 32, 35, 38, 38])\n",
    "#experiment:\n",
    "myhost.Make_TempGrowthExp(a)\n",
    "\n",
    "myhost.show_BiotechSetting()\n",
    "#print('OptTemp: {}'.format(myhost._Mutant__OptTemp))"
   ]
  },
  {
   "cell_type": "markdown",
   "metadata": {},
   "source": [
    "## Identify the optimal promoter sequence\n",
    "You need to identify the optimal promoter sequence for expression of your gene of interest. Read the following article to become an expert on sigma70 driven prokaryotic gene expression: [https://doi.org/10.3390/biom5031245](https://doi.org/10.3390/biom5031245).\n",
    "Think of some promoters and test them, but be aware that each testing costs resources.\n",
    "\n",
    "The total length of the promoters must be 40 nt. Apart from that the genetic distance to the reference sequence of the expression tests should not be larger than 0.4. You can first check that as follows:\n",
    "\n",
    "Then write down your promoter sequences in an Excel sheet.\n",
    "To test the sequences, you have to clone each of them, introduce the resulting construct into the organism and then perform an expression test.\n",
    "\n",
    "### Cloning\n",
    "You are given publication from which you can identify positions for integration.\n",
    "Pseudomonas GC content: [https://doi.org/10.1111/1462-2920.14130](https://doi.org/10.1111/1462-2920.14130)   \n",
    "First create the primers matching your promoter sequences and wirte them down in your Excel sheet.  \n",
    "The deviation from the optimum primer length should not be greater than 20 % and the length should not be greater than 30 nt for cloning to work.    \n",
    "Then calculate the melting temperature for each primer and write it into your Excel sheet. On the following two websites you will find formulas for calculating the melting temperature. A sodium concentration of 50 mM is assumed. The deviation from the optimal melting temperature should not be greater than 20 %.   \n",
    "[proceedings of ICSIIT 2010](https://core.ac.uk/download/pdf/35391868.pdf#page=190)   \n",
    "[primer design](https://de.wikipedia.org/wiki/Primerdesign#Schmelztemperatur)   \n",
    "Finally perform a cloning with each pair of primers followed directly by an expression test."
   ]
  },
  {
   "cell_type": "markdown",
   "metadata": {},
   "source": [
    "'''direct execution one after the other is necessary, since promoter\n",
    "is transferred to the mutant class if cloning is successful.\n",
    "Also mention that Tm or the total primer length may need to be adjusted\n",
    "if cloning fails.'''"
   ]
  },
  {
   "cell_type": "code",
   "execution_count": 4,
   "metadata": {},
   "outputs": [
    {
     "name": "stdout",
     "output_type": "stream",
     "text": [
      "Cloning was successfull.\n",
      "\n",
      "Clone ID: BestEcol\n",
      "Promoter_Sequence: GCCCATTGACAAGGCTCTCGCGGCCAGGTATAATTGCACG\n",
      "Promoter_GC-content: 0.575\n",
      "Host: Ecol\n",
      "Resources: 43\n"
     ]
    }
   ],
   "source": [
    "# to be coded.\n",
    "# computing of the annealing temperature, etc.\n",
    "# Cloning successfull?\n",
    "\n",
    "# Construct Primer and calculate melting temperature\n",
    "# link still has to be added\n",
    "Clone_ID1 = 'Test1'\n",
    "Promoter1 =  'GCCCATTGACGCTGCCGTAGCGCTCCTATACCCTTGCACG'\n",
    "TestPrimer = 'CGGGTAACTGCGACGGCATCGCGAG' #GAT'\n",
    "Tm = 25\n",
    "\n",
    "Clone_ID2 = 'Test2'\n",
    "Promoter2 = 'A'*40\n",
    "\n",
    "Clone_ID3 = 'Test3'\n",
    "Promoter3 = 'CCGCATTGACGCTGCCGTAGCGCTCCTATACCCTTGCACG'\n",
    "TestPrimer3 = 'GGCGTAACTGCGACGGCATCGCG' #AG' #GAT'\n",
    "Tm = 27\n",
    "\n",
    "Clone_ID4 = 'BestEcol'\n",
    "OptPromoterEcol = 'GCCCATTGACAAGGCTCTCGCGGCCAGGTATAATTGCACG'\n",
    "TestPrimer4 = 'CGGGTAACTGTTCCGAGAGCGC' #CG' #G\n",
    "\n",
    "\n",
    "# experiment, output excecuted?; Length is calculated automatically,\n",
    "# need not be entered\n",
    "myhost.Make_Cloning(Clone_ID4, OptPromoterEcol, TestPrimer4, Tm)\n",
    "myhost.show_Library()\n",
    "myhost.show_BiotechSetting()"
   ]
  },
  {
   "cell_type": "markdown",
   "metadata": {},
   "source": [
    "### Expression Tests"
   ]
  },
  {
   "cell_type": "code",
   "execution_count": 5,
   "metadata": {},
   "outputs": [
    {
     "name": "stdout",
     "output_type": "stream",
     "text": [
      "\n",
      "Clone ID: BestEcol\n",
      "Promoter_Sequence: GCCCATTGACAAGGCTCTCGCGGCCAGGTATAATTGCACG\n",
      "Promoter_GC-content: 0.575\n",
      "Promoter_Strength: 1.71\n",
      "Host: Ecol\n",
      "Resources: 42\n"
     ]
    },
    {
     "name": "stderr",
     "output_type": "stream",
     "text": [
      "/home/ulf/anaconda3/lib/python3.7/site-packages/sklearn/base.py:318: UserWarning: Trying to unpickle estimator DecisionTreeRegressor from version 0.22.2 when using version 0.22.1. This might lead to breaking code or invalid results. Use at your own risk.\n",
      "  UserWarning)\n",
      "/home/ulf/anaconda3/lib/python3.7/site-packages/sklearn/base.py:318: UserWarning: Trying to unpickle estimator RandomForestRegressor from version 0.22.2 when using version 0.22.1. This might lead to breaking code or invalid results. Use at your own risk.\n",
      "  UserWarning)\n",
      "/home/ulf/anaconda3/lib/python3.7/site-packages/sklearn/base.py:318: UserWarning: Trying to unpickle estimator StandardScaler from version 0.22.2 when using version 0.22.1. This might lead to breaking code or invalid results. Use at your own risk.\n",
      "  UserWarning)\n"
     ]
    }
   ],
   "source": [
    "myhost.Make_MeasurePromoterStrength('BestEcol')\n",
    "myhost.show_Library()\n",
    "myhost.show_BiotechSetting()\n",
    "# print('Promoter strength: ', myhost.Promoter_Strength)"
   ]
  },
  {
   "cell_type": "markdown",
   "metadata": {},
   "source": [
    "## Expression measurement\n",
    "Now perform the production experiment with the best promoter sequence and use the determined optimal growth temperature (integer only) and the maximum possible biomass (integer only) that you can determine from your data. In this way you will achieve the maximum expression rate and thus the maximum yield of your product.   \n",
    "With the help of the following command you can see the minimum expression rate you should achieve with your experiment."
   ]
  },
  {
   "cell_type": "code",
   "execution_count": 6,
   "metadata": {},
   "outputs": [
    {
     "name": "stdout",
     "output_type": "stream",
     "text": [
      "At least an expression rate of 26.93 should be achieved by the production experiment.\n"
     ]
    }
   ],
   "source": [
    "myhost.show_TargetExpressionRate()"
   ]
  },
  {
   "cell_type": "code",
   "execution_count": 9,
   "metadata": {},
   "outputs": [
    {
     "name": "stdout",
     "output_type": "stream",
     "text": [
      "Error, no biomass was set or unexpected value or the maximum possible biomass was exceeded. Enter a value for the biomass again.\n",
      "\n",
      "Clone ID: BestEcol\n",
      "Promoter_Sequence: GCCCATTGACAAGGCTCTCGCGGCCAGGTATAATTGCACG\n",
      "Promoter_GC-content: 0.575\n",
      "Promoter_Strength: 1.71\n",
      "Expression_Temperature: 28\n",
      "Expression_Biomass: 100\n",
      "Expression_Rate: 42.75\n",
      "Host: Ecol\n",
      "Resources: 33\n"
     ]
    }
   ],
   "source": [
    "myhost.Make_ProductionExperiment('BestEcol', 28, 100)\n",
    "myhost.show_Library()\n",
    "myhost.show_BiotechSetting()"
   ]
  }
 ],
 "metadata": {
  "kernelspec": {
   "display_name": "Python 3",
   "language": "python",
   "name": "python3"
  },
  "language_info": {
   "codemirror_mode": {
    "name": "ipython",
    "version": 3
   },
   "file_extension": ".py",
   "mimetype": "text/x-python",
   "name": "python",
   "nbconvert_exporter": "python",
   "pygments_lexer": "ipython3",
   "version": "3.7.6"
  }
 },
 "nbformat": 4,
 "nbformat_minor": 4
}
