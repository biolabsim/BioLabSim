{
 "cells": [
  {
   "cell_type": "markdown",
   "metadata": {},
   "source": [
    "# Laboratory Tasks\n",
    "\n",
    "In this notebook all aspects of the laboratory are handled. As in every laboratory you have only a limited amount of resources.\n",
    "\n",
    " 1. Cloning\n",
    " 2. Cultivation\n",
    " 3. Expression measurement"
   ]
  },
  {
   "cell_type": "markdown",
   "metadata": {},
   "source": [
    "## Set-up your laboratory"
   ]
  },
  {
   "cell_type": "code",
   "execution_count": 1,
   "metadata": {},
   "outputs": [],
   "source": [
    "# The cloning output is a mutant. Which is the host organism and the promoter sequence.\n",
    "from BioLabSimFun import Mutant"
   ]
  },
  {
   "cell_type": "markdown",
   "metadata": {},
   "source": [
    "## Choose host organism\n",
    "Choosing your biotech-host is extremely simple: just type the name of your favorit bug into the 'Mutant'-command. Your company gives you two organisms, namely *E. coli* (abbr. Ecol) and *P. putida* (abbr. Pput). Use the abbreviation for the selection."
   ]
  },
  {
   "cell_type": "code",
   "execution_count": 13,
   "metadata": {},
   "outputs": [
    {
     "name": "stdout",
     "output_type": "stream",
     "text": [
      "{'Host': 'Pput', 'Promoter': [], 'Resources': 3, '_Mutant__OptTemp': 31, '_Mutant__BiomassMax': 76}\n"
     ]
    }
   ],
   "source": [
    "myhost = Mutant('Pput')\n",
    "print(vars(myhost))"
   ]
  },
  {
   "cell_type": "markdown",
   "metadata": {},
   "source": [
    "## Strain characterization\n",
    "Your organization has a strain similar to what you wanted, but slightly different. No one knows what the optimal cultivation conditions are. Find out the optimal growth temperature."
   ]
  },
  {
   "cell_type": "code",
   "execution_count": 14,
   "metadata": {},
   "outputs": [
    {
     "name": "stdout",
     "output_type": "stream",
     "text": [
      "OptTemp: 31\n"
     ]
    }
   ],
   "source": [
    "# to be coded.\n",
    "# a graph with a slowly growing growth curve would be cool\n",
    "# Each test costs one resource\n",
    "print('OptTemp: {}'.format(myhost._Mutant__OptTemp))"
   ]
  },
  {
   "cell_type": "markdown",
   "metadata": {},
   "source": [
    "## Cloning\n",
    "You are given publication from which you can identify positions for integration. Construct the corresponding primers and run a PCR.\n",
    "Pseudomonas GC content: [https://doi.org/10.1111/1462-2920.14130](https://doi.org/10.1111/1462-2920.14130)"
   ]
  },
  {
   "cell_type": "code",
   "execution_count": null,
   "metadata": {},
   "outputs": [],
   "source": [
    "# to be coded.\n",
    "# computing of the annealing temperature, etc.\n",
    "# Probabilitstic cloning success rate."
   ]
  },
  {
   "cell_type": "markdown",
   "metadata": {},
   "source": [
    "## Genetic Engineering\n",
    "You need to identify the optimal promoter sequence for expression of you gene of interest. Read the following article to become an expert on sigma70 driven prokaryotic gene expression: [https://doi.org/10.3390/biom5031245](https://doi.org/10.3390/biom5031245).\n",
    "Test a couple of promoters, but be aware that each testing costs resources.\n",
    "\n",
    "The total length of the promoter must be 40 nt."
   ]
  },
  {
   "cell_type": "code",
   "execution_count": 15,
   "metadata": {},
   "outputs": [
    {
     "name": "stdout",
     "output_type": "stream",
     "text": [
      "Promoter sequence:  GCCCATTGAAGGGACTGCTCGTTCATCCTATCATTGCACG\n",
      "GC-content:  0.525\n",
      "genetic distance to ref sequence:  0.4\n"
     ]
    }
   ],
   "source": [
    "myhost._Mutant__add_random_promoter()\n",
    "# TestPromoter = 'GCCCATTGACGCTGCCGTAGCGCTCCTATACCCTTGCACG'\n",
    "# myhost.add_promoter(TestPromoter)\n",
    "print('Promoter sequence: ',myhost.Promoter)\n",
    "print('GC-content: ', myhost.GC_content)\n",
    "\n",
    "# the genetic distance to our reference sequence should not be larger than 0.4:\n",
    "from BioLabSimFun import Sequence_ReferenceDistance\n",
    "print('genetic distance to ref sequence: ', Sequence_ReferenceDistance(myhost.Promoter))\n",
    "# print('Biomass conc: {}'.format(myhost._Mutant__BiomassMax))"
   ]
  },
  {
   "cell_type": "code",
   "execution_count": 16,
   "metadata": {},
   "outputs": [
    {
     "name": "stdout",
     "output_type": "stream",
     "text": [
      "Promoter strength:  0.019\n"
     ]
    },
    {
     "name": "stderr",
     "output_type": "stream",
     "text": [
      "/home/ulf/anaconda3/lib/python3.7/site-packages/sklearn/base.py:318: UserWarning: Trying to unpickle estimator DecisionTreeRegressor from version 0.22.2 when using version 0.22.1. This might lead to breaking code or invalid results. Use at your own risk.\n",
      "  UserWarning)\n",
      "/home/ulf/anaconda3/lib/python3.7/site-packages/sklearn/base.py:318: UserWarning: Trying to unpickle estimator RandomForestRegressor from version 0.22.2 when using version 0.22.1. This might lead to breaking code or invalid results. Use at your own risk.\n",
      "  UserWarning)\n",
      "/home/ulf/anaconda3/lib/python3.7/site-packages/sklearn/base.py:318: UserWarning: Trying to unpickle estimator StandardScaler from version 0.22.2 when using version 0.22.1. This might lead to breaking code or invalid results. Use at your own risk.\n",
      "  UserWarning)\n"
     ]
    }
   ],
   "source": [
    "myhost.measure_promoter_strength()\n",
    "print('Promoter strength: ', myhost.Promoter_Strength)"
   ]
  },
  {
   "cell_type": "markdown",
   "metadata": {},
   "source": [
    "## Expression measurement"
   ]
  },
  {
   "cell_type": "code",
   "execution_count": 17,
   "metadata": {},
   "outputs": [
    {
     "data": {
      "text/plain": [
       "0.36"
      ]
     },
     "execution_count": 17,
     "metadata": {},
     "output_type": "execute_result"
    }
   ],
   "source": [
    "myhost.Production_Experiment(32)\n",
    "myhost.ExpressionRate\n"
   ]
  },
  {
   "cell_type": "code",
   "execution_count": null,
   "metadata": {},
   "outputs": [],
   "source": [
    "myhost._Mutant__Resources"
   ]
  }
 ],
 "metadata": {
  "kernelspec": {
   "display_name": "Python 3",
   "language": "python",
   "name": "python3"
  },
  "language_info": {
   "codemirror_mode": {
    "name": "ipython",
    "version": 3
   },
   "file_extension": ".py",
   "mimetype": "text/x-python",
   "name": "python",
   "nbconvert_exporter": "python",
   "pygments_lexer": "ipython3",
   "version": "3.7.6"
  }
 },
 "nbformat": 4,
 "nbformat_minor": 4
}
