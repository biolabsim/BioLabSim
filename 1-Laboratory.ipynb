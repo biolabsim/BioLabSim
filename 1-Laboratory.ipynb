{
 "cells": [
  {
   "cell_type": "markdown",
   "metadata": {},
   "source": [
    "# Laboratory Tasks\n",
    "\n",
    "In this notebook all aspects of the laboratory are handled. As in every laboratory you have only a limited amount of resources.\n",
    "\n",
    " 1. Cloning\n",
    " 2. Cultivation\n",
    " 3. Expression measurement"
   ]
  },
  {
   "cell_type": "markdown",
   "metadata": {},
   "source": [
    "## Set-up your laboratory"
   ]
  },
  {
   "cell_type": "code",
   "execution_count": 1,
   "metadata": {},
   "outputs": [],
   "source": [
    "import numpy as np\n",
    "\n",
    "# The cloning output is a mutant. Which is the host organism and the promoter sequence.\n",
    "%matplotlib inline\n",
    "from BioLabSimFun import Mutant"
   ]
  },
  {
   "cell_type": "markdown",
   "metadata": {},
   "source": [
    "## Choose host organism\n",
    "Choosing your biotech-host is extremely simple: just type the name of your favorit bug into the 'Mutant'-command. Your company gives you two organisms, namely *E. coli* (abbr. Ecol) and *P. putida* (abbr. Pput). Use the abbreviation for the selection."
   ]
  },
  {
   "cell_type": "code",
   "execution_count": 2,
   "metadata": {},
   "outputs": [
    {
     "name": "stdout",
     "output_type": "stream",
     "text": [
      "Host: Pput\n",
      "Resources: 10\n",
      "{'var_Host': 'Pput', 'var_Resources': 10, '_Mutant__OptTemp': 32, '_Mutant__BiomassMax': 74}\n"
     ]
    }
   ],
   "source": [
    "myhost = Mutant('Pput')\n",
    "myhost.show_BiotechSetting()\n",
    "# list(vars(myhost).keys())\n",
    "print(vars(myhost))"
   ]
  },
  {
   "cell_type": "markdown",
   "metadata": {},
   "source": [
    "## Strain characterization\n",
    "Your organization has a strain similar to what you wanted, but slightly different. No one knows what the optimal cultivation conditions are. Find out the optimal growth temperature."
   ]
  },
  {
   "cell_type": "code",
   "execution_count": 3,
   "metadata": {},
   "outputs": [
    {
     "name": "stdout",
     "output_type": "stream",
     "text": [
      "[ 0.10761181 12.33447947 52.61395853 53.79769291 53.80584953 53.8059045\n",
      " 53.80590487 53.80590487 53.80590487 53.80590487]\n",
      "[ 0.09134524  0.24745173  0.66643928  1.76726001  4.50442365 10.47000332\n",
      " 20.41784393 31.38948951 39.1235078  43.02318855]\n",
      "[ 0.10064388  0.27264149  0.73428058  1.9471612   4.96295901 11.53581487\n",
      " 22.49631261 34.58483526 43.10615092 47.40280621]\n"
     ]
    }
   ],
   "source": [
    "import random\n",
    "capacity = 50\n",
    "P0 = .1\n",
    "t = np.arange(10)\n",
    "r = [5,1,1]\n",
    "for r_tst in r:\n",
    "#     print(r_tst)\n",
    "    mu = capacity / (1 + (capacity-P0) / P0 * np.exp(-r_tst * t))\n",
    "    sigma = .1*mu\n",
    "#     random.seed()\n",
    "    print(random.normalvariate(mu, sigma))"
   ]
  },
  {
   "cell_type": "code",
   "execution_count": 4,
   "metadata": {},
   "outputs": [
    {
     "name": "stdout",
     "output_type": "stream",
     "text": [
      "Host: Pput\n",
      "Resources: 4\n"
     ]
    }
   ],
   "source": [
    "# to be coded.\n",
    "# a graph with a slowly growing growth curve would be cool\n",
    "# Each test costs one resource\n",
    "\n",
    "# temperatures have to be defined\n",
    "a = np.array([28, 30, 32, 38, 35, 38])\n",
    "#experiment:\n",
    "myhost.Make_TempGrowthExp(a, False)\n",
    "\n",
    "myhost.show_BiotechSetting()\n",
    "#print('OptTemp: {}'.format(myhost._Mutant__OptTemp))"
   ]
  },
  {
   "cell_type": "markdown",
   "metadata": {},
   "source": [
    "## Cloning\n",
    "You are given publication from which you can identify positions for integration. Construct the corresponding primers and run a PCR.\n",
    "Pseudomonas GC content: [https://doi.org/10.1111/1462-2920.14130](https://doi.org/10.1111/1462-2920.14130)"
   ]
  },
  {
   "cell_type": "code",
   "execution_count": null,
   "metadata": {},
   "outputs": [],
   "source": [
    "# to be coded.\n",
    "# computing of the annealing temperature, etc.\n",
    "# Probabilitstic cloning success rate.\n",
    "\n",
    "# Construct Primer and calculate melting temperature\n",
    "# link still has to be added\n",
    "TestPrimer = 'GCGCGCAAAATTTATGC'\n",
    "Tm = 20\n",
    "\n",
    "# experiment, output efficiency\n",
    "myhost.Make_Cloning(TestPrimer, Tm)"
   ]
  },
  {
   "cell_type": "markdown",
   "metadata": {},
   "source": [
    "## Genetic Engineering\n",
    "You need to identify the optimal promoter sequence for expression of you gene of interest. Read the following article to become an expert on sigma70 driven prokaryotic gene expression: [https://doi.org/10.3390/biom5031245](https://doi.org/10.3390/biom5031245).\n",
    "Test a couple of promoters, but be aware that each testing costs resources.\n",
    "\n",
    "The total length of the promoter must be 40 nt."
   ]
  },
  {
   "cell_type": "code",
   "execution_count": null,
   "metadata": {},
   "outputs": [],
   "source": [
    "myhost._Mutant__add_RandomPromoter()\n",
    "# TestPromoter = 'GCCCATTGACGCTGCCGTAGCGCTCCTATACCCTTGCACG'\n",
    "# myhost.add_promoter(TestPromoter)\n",
    "print('Promoter sequence: ',myhost.var_Promoter)\n",
    "print('GC-content: ', myhost.var_GCcontent)\n",
    "\n",
    "# the genetic distance to our reference sequence should not be larger than 0.4:\n",
    "from BioLabSimFun import Sequence_ReferenceDistance\n",
    "print('genetic distance to ref sequence: ', Sequence_ReferenceDistance(myhost.var_Promoter))\n",
    "# print('Biomass conc: {}'.format(myhost._Mutant__BiomassMax))"
   ]
  },
  {
   "cell_type": "markdown",
   "metadata": {},
   "source": [
    "### Expression Tests"
   ]
  },
  {
   "cell_type": "code",
   "execution_count": null,
   "metadata": {},
   "outputs": [],
   "source": [
    "myhost.Make_MeasurePromoterStrength()\n",
    "myhost.show_BiotechSetting()\n",
    "# print('Promoter strength: ', myhost.Promoter_Strength)"
   ]
  },
  {
   "cell_type": "markdown",
   "metadata": {},
   "source": [
    "## Expression measurement"
   ]
  },
  {
   "cell_type": "code",
   "execution_count": null,
   "metadata": {},
   "outputs": [],
   "source": [
    "myhost.Make_ProductionExperiment(28)\n",
    "myhost.show_BiotechSetting()\n"
   ]
  }
 ],
 "metadata": {
  "kernelspec": {
   "display_name": "Python 3",
   "language": "python",
   "name": "python3"
  },
  "language_info": {
   "codemirror_mode": {
    "name": "ipython",
    "version": 3
   },
   "file_extension": ".py",
   "mimetype": "text/x-python",
   "name": "python",
   "nbconvert_exporter": "python",
   "pygments_lexer": "ipython3",
   "version": "3.7.6"
  }
 },
 "nbformat": 4,
 "nbformat_minor": 4
}
