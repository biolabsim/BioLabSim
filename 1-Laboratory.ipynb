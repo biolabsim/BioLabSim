{
 "cells": [
  {
   "cell_type": "markdown",
   "metadata": {},
   "source": [
    "# Laboratory Tasks\n",
    "\n",
    "In this notebook all aspects of the laboratory are handled. As in every laboratory you have only a limited amount of resources.\n",
    "\n",
    " 1. Cloning\n",
    " 2. Cultivation\n",
    " 3. Expression measurement"
   ]
  },
  {
   "cell_type": "markdown",
   "metadata": {},
   "source": [
    "## Set-up your laboratory"
   ]
  },
  {
   "cell_type": "code",
   "execution_count": null,
   "metadata": {},
   "outputs": [],
   "source": [
    "import numpy as np\n",
    "\n",
    "# The cloning output is a mutant. Which is the host organism and the promoter sequence.\n",
    "%matplotlib inline\n",
    "from BioLabSimFun import Mutant"
   ]
  },
  {
   "cell_type": "markdown",
   "metadata": {},
   "source": [
    "## Choose host organism\n",
    "Choosing your biotech-host is extremely simple: just type the name of your favorit bug into the 'Mutant'-command. Your company gives you two organisms, namely *E. coli* (abbr. Ecol) and *P. putida* (abbr. Pput). Use the abbreviation for the selection."
   ]
  },
  {
   "cell_type": "code",
   "execution_count": null,
   "metadata": {},
   "outputs": [],
   "source": [
    "myhost = Mutant('Pput')\n",
    "myhost.show_BiotechSetting()\n",
    "# list(vars(myhost).keys())\n",
    "print(vars(myhost))"
   ]
  },
  {
   "cell_type": "markdown",
   "metadata": {},
   "source": [
    "## Strain characterization\n",
    "Your organization has a strain similar to what you wanted, but slightly different. No one knows what the optimal cultivation conditions are. Find out the optimal growth temperature."
   ]
  },
  {
   "cell_type": "code",
   "execution_count": null,
   "metadata": {},
   "outputs": [],
   "source": [
    "# to be coded.\n",
    "# a graph with a slowly growing growth curve would be cool\n",
    "# Each test costs one resource\n",
    "\n",
    "# temperatures have to be defined\n",
    "a = np.array([20, 30, 32, 35, 38, 38])\n",
    "#experiment:\n",
    "myhost.Make_TempGrowthExp(a, False)\n",
    "\n",
    "myhost.show_BiotechSetting()\n",
    "#print('OptTemp: {}'.format(myhost._Mutant__OptTemp))"
   ]
  },
  {
   "cell_type": "markdown",
   "metadata": {},
   "source": [
    "## Identify the optimal promoter sequence\n",
    "You need to identify the optimal promoter sequence for expression of your gene of interest. Read the following article to become an expert on sigma70 driven prokaryotic gene expression: [https://doi.org/10.3390/biom5031245](https://doi.org/10.3390/biom5031245).\n",
    "Think of some promoters and test them, but be aware that each testing costs resources.\n",
    "\n",
    "The total length of the promoters must be 40 nt. Apart from that the genetic distance to the reference sequence of the expression tests should not be larger than 0.4. You can first check that as follows:"
   ]
  },
  {
   "cell_type": "code",
   "execution_count": null,
   "metadata": {},
   "outputs": [],
   "source": [
    "myhost._Mutant__add_RandomPromoter()\n",
    "from BioLabSimFun import Sequence_ReferenceDistance\n",
    "print('genetic distance to ref sequence: ', Sequence_ReferenceDistance(myhost.var_Promoter))"
   ]
  },
  {
   "cell_type": "markdown",
   "metadata": {},
   "source": [
    "Then write down your promoter sequences in an Excel sheet.\n",
    "To test the sequences, you have to clone each of them, introduce the resulting construct into the organism and then perform an expression test."
   ]
  },
  {
   "cell_type": "markdown",
   "metadata": {},
   "source": [
    "### Cloning\n",
    "You are given publication from which you can identify positions for integration.\n",
    "Pseudomonas GC content: [https://doi.org/10.1111/1462-2920.14130](https://doi.org/10.1111/1462-2920.14130)   \n",
    "First find out the optimal primer length for the cloning before you construct the corresponding primers and run a PCR.   \n",
    "The deviation from the optimum length should not be greater than 20% and the length should not be greater than 30 nt for cloning to work."
   ]
  },
  {
   "cell_type": "code",
   "execution_count": null,
   "metadata": {},
   "outputs": [],
   "source": [
    "Primer_Length = 24\n",
    "myhost.show_Primer_DeviationOptimalLength(Primer_Length)"
   ]
  },
  {
   "cell_type": "markdown",
   "metadata": {},
   "source": [
    "Now create the primers matching your promoter sequences. Calculate the melting temperature for each primer and write it into your Excel sheet. Perform a cloning with each pair of primers followed directly by an expression test."
   ]
  },
  {
   "cell_type": "code",
   "execution_count": null,
   "metadata": {},
   "outputs": [],
   "source": [
    "'''direct execution one after the other is necessary, since promoter\n",
    "is transferred to the mutant class if cloning is successful.\n",
    "Also mention that Tm or the total primer length may need to be adjusted\n",
    "if cloning fails.'''"
   ]
  },
  {
   "cell_type": "code",
   "execution_count": null,
   "metadata": {},
   "outputs": [],
   "source": [
    "# to be coded.\n",
    "# computing of the annealing temperature, etc.\n",
    "# Cloning successfull?\n",
    "\n",
    "# Construct Primer and calculate melting temperature\n",
    "# link still has to be added\n",
    "Promoter = 'GCGCGCAAAATTTATGCGCAGCGCGCAAAATTTATGCGCA'\n",
    "TestPrimer = 'GCGCGCAAAATTTATGCGCAAATT'\n",
    "Tm = 32\n",
    "\n",
    "# experiment, output excecuted?; Length is calculated automatically,\n",
    "# need not be entered\n",
    "myhost.Make_Cloning(TestPrimer, Tm, Promoter)"
   ]
  },
  {
   "cell_type": "code",
   "execution_count": null,
   "metadata": {},
   "outputs": [],
   "source": [
    "#myhost._Mutant__add_RandomPromoter()\n",
    "# TestPromoter = 'GCCCATTGACGCTGCCGTAGCGCTCCTATACCCTTGCACG'\n",
    "# myhost.add_promoter(TestPromoter)\n",
    "#print('Promoter sequence: ',myhost.var_Promoter)\n",
    "#print('GC-content: ', myhost.var_GCcontent)\n",
    "\n",
    "# print('Biomass conc: {}'.format(myhost._Mutant__BiomassMax))"
   ]
  },
  {
   "cell_type": "markdown",
   "metadata": {},
   "source": [
    "### Expression Tests"
   ]
  },
  {
   "cell_type": "code",
   "execution_count": null,
   "metadata": {},
   "outputs": [],
   "source": [
    "myhost.Make_MeasurePromoterStrength()\n",
    "myhost.show_BiotechSetting()\n",
    "# print('Promoter strength: ', myhost.Promoter_Strength)"
   ]
  },
  {
   "cell_type": "markdown",
   "metadata": {},
   "source": [
    "## Expression measurement"
   ]
  },
  {
   "cell_type": "code",
   "execution_count": null,
   "metadata": {},
   "outputs": [],
   "source": [
    "myhost.Make_ProductionExperiment(28)\n",
    "myhost.show_BiotechSetting()\n"
   ]
  }
 ],
 "metadata": {
  "kernelspec": {
   "display_name": "Python 3",
   "language": "python",
   "name": "python3"
  },
  "language_info": {
   "codemirror_mode": {
    "name": "ipython",
    "version": 3
   },
   "file_extension": ".py",
   "mimetype": "text/x-python",
   "name": "python",
   "nbconvert_exporter": "python",
   "pygments_lexer": "ipython3",
   "version": "3.7.6"
  }
 },
 "nbformat": 4,
 "nbformat_minor": 4
}
