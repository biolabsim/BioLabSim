{
 "cells": [
  {
   "cell_type": "markdown",
   "metadata": {},
   "source": [
    "# Simulation of Recombinant Protein Expression\n",
    "***\n",
    "\n",
    "## Introduction\n",
    "\n",
    "In this project, selected key steps of a biotechnological procedure for recombinant protein expressions are simulated. The biotechnological workspace is increasingly digitized with automated experiments. The main contributions of scientists shift from performing experiments in the wet lab to planning the experiments and analysing the data computationaly. This simulation provides an introduction into data streams in biotechnology. The goal is to optimize the expression rate of a protein above a minimum rate to make it economically competitive. To achieve this goal virtual experiments have to be performed to optimize growth conditions and promoter sequence for the production. Finally, a comparison will be performed how the GC-content of the promoter affects the promoter activity. For assessment, please upload the GC-content versus promoter activity plot to Moodle.\n",
    "\n",
    "This simulation is based on a Jupyter Python Notebook. Notebooks are becoming popular to distribute data science solutions and to make coding flexible and user friendly. The Notebooks are composed of a sequence of cells that can be either text, like this introduction, or python code cells to be run. Code cells have a grey background and after execution, the output is shown directly beneath. A blue stripe on the left edge of the screen marks the currently active cell. More information on how to use Jupyter Notebooks are [here](https://medium.com/edureka/jupyter-notebook-cheat-sheet-88f60d1aca7). In general, two input modes exist: \n",
    "* Command mode: evaluation of code, `Escape` or double-click in cell activates Command mode\n",
    "* Edit mode: writing into cells, `Enter` or click outside cell activates Edit mode\n",
    "\n",
    "Navigating in Jupyter:\n",
    "*  activate cell above/below: `arrow up/down keys` in Command mode.     \n",
    "*  execute cell: `Ctrl + Enter` in Command mode.\n",
    "*  hide/show navigation panel on the left: click on folder symbol or `Ctrl + b`\n",
    "*  here **`None`** designates places for user input\n",
    "\n",
    "A code cell can also be edited and executed multiple times. Next to the code cells in the upper left corner the status of the cell is displayed in square brackets. If you have not executed a cell yet, the brackets are empty. If the computer is currently executing the code, an small star appears there. If the cell has been executed, a number corresponding to the execution order of the cells is shown.\n",
    "\n",
    "If you want to reboot the entire notebook resetting everything executed so far, click on Kernel in the top bar and select restart. Be aware that this will also reset the stored information about your strain and will give you a slightly different strain, whose properties you have to find out again. Resetting might become necessary if the resources are depleted. The resources will be introduced later.\n",
    "\n",
    "The additional workbook named *2-Assistance.ipynb* contains guidance for some of the experiments. You can open it by double-click on the name in the left navigation panel. Then the notebook will open in a new window like you know it from a browser. To switch back to the original notebook, just select the other tab again or close the new one with the 'x'.     \n",
    "\n",
    "The workflow starts by preparing the computational system followed by strain characterization cultivations, experiments for promoter sequence selection and finally the experiment to measure the achieved expression rate.\n",
    "\n",
    "## Laboratory Tasks\n",
    "\n",
    "In this section all aspects of the laboratory are handled. As in every laboratory you only have a limited amount of resources. This means, for example, that the money available for the experiments and the required personnel, material and space are limited. You have a total of 50 such resources at your disposal.\n",
    "\n",
    "## Workflow\n",
    "\n",
    "**1. Preparations for the experiments**\n",
    " \n",
    "*1.1 Set-up your laboratory*    \n",
    "*1.2 Choose your host organism*\n",
    " \n",
    "**2. Experiments**\n",
    " \n",
    "*2.1 Strain characterization cultivations*     \n",
    "*2.2 Promoter sequence selection*    \n",
    "*2.3 Measurement of the expression rate*      \n",
    "\n",
    "\n",
    "<img src=\"ImageLaboratory.jpg\" width=\"250\">\n",
    "\n",
    "## 1. Preparations for the experiments\n",
    "\n",
    "### 1.1 System set-up \n",
    "Loading libraries and fixing visualization. No user input necessary."
   ]
  },
  {
   "cell_type": "code",
   "execution_count": null,
   "metadata": {},
   "outputs": [],
   "source": [
    "# Loading ofimportant functionalities for the notebook:\n",
    "# Loading numpy, a library fo manipulation of numbers:\n",
    "import numpy as np\n",
    "# Loading matplotlib, a library for visualization:\n",
    "import matplotlib.pyplot as plt\n",
    "%matplotlib inline\n",
    "\n",
    "# Initialization, loading of all laboratory functionalities and stored models and information of the organisms:\n",
    "from BioLabSimFun import Mutant\n",
    "\n",
    "print('System ready')"
   ]
  },
  {
   "cell_type": "markdown",
   "metadata": {},
   "source": [
    "### 1.2 Choose your host organism\n",
    "You have the choice between two organisms for recombinant expression, namely *E. coli* (abbr. Ecol) and *P. putida* (abbr. Pput).\n",
    "\n",
    "*E. coli* is a Gram-negative, facultative anaerobe and nonsporulating bacterium of the genus *Escherichia*. It is commonly found in the lower intestine of warm-blooded organisms. *E. coli* can be grown and cultured easily and inexpensively in a laboratory setting, and has been intensively investigated for over 60 years. The bacterium is the most widely studied prokaryotic model organism, and an important species in the fields of biotechnology and microbiology, where it has served as the host organism for the majority of work with recombinant DNA. Under favorable conditions, it takes as little as 20 minutes to reproduce. You can find more information here: [*Escherichia coli*](https://en.wikipedia.org/wiki/Escherichia_coli)      \n",
    "\n",
    "*Pseudomonas putida* is a Gram-negative road-shaped, saprotrophic soil bacterium occurring in various environmental niches, due to its metabolic versatility and low nutritional requirements. Initiated by the pioneering discovery of its high capability to degrade rather recalcitrant and inhibiting xenobiotics, extensive biochemical analysis of this bacterium has been carried out in recent years. In addition, *P. putida* shows a very high robustness against extreme environmental conditions such as high temperature, extreme pH, or the presence of toxins or inhibiting solvents. Additionally, it is genetically accessible and grows fast with simple nutrient demand. Meanwhile, *P. putida* is successfully used for the production of bio-based polymers and a broad range of chemicals, far beyond its initial purpose for the degradation of various toxic compounds. You can find more information here: [DOI: 10.1007/s00253-012-3928-0](https://www.researchgate.net/publication/221847539_Industrial_biotechnology_of_Pseudomonas_putida_and_related_species)\n",
    "\n",
    "To choose the host type the abbreviation into the `Mutant`-command. In the following all characteristics and models of your organism are thereby stored under `myhost`. With the help of `myhost`, all experiments are carried out (in the form `myhost.experiment`). In addition, all generated measurement results, stored information and the remaining resources can be displayed.\n",
    "\n",
    "Example: `myhost = Mutant('Pput')`\n",
    "\n",
    "**Resource cost:**\n",
    "* **None**\n",
    "\n",
    "**Input:** \n",
    "* **`Ecol` or `Pput`**\n"
   ]
  },
  {
   "cell_type": "code",
   "execution_count": null,
   "metadata": {},
   "outputs": [],
   "source": [
    "myhost = Mutant('Pput')\n",
    "# host organism and remaining resources are displayed:\n",
    "myhost.show_BiotechSetting()"
   ]
  },
  {
   "cell_type": "markdown",
   "metadata": {},
   "source": [
    "## 2. Experiments\n",
    "\n",
    "### 2.1 Strain characterization cultivations\n",
    "Identify the optimal growth temperature and the maximum biomass of your strain. The growth temperature is randomly initiated based on the common temperature boundaries of mesophilic microorganisms, see the following website for more information: [Schmid, Rolf D., and Claudia Schmidt-Dannert. Biotechnology: An illustrated primer. John Wiley & Sons, 2016.](https://application.wiley-vch.de/books/sample/3527335153_c01.pdf)  \n",
    "\n",
    "Like in biological conditions, you will recognize random fluctuations of biomass measurements. Occasionally, a culture will not grow at all. It might be helpful to have biological replicates for further data processing later on, but be aware that each cultivation costs resources.     \n",
    "The biomass concentrations are automatically displayed in an Excel file after all experiments have been performed. If you want to do another set of experiments afterwards, or if you want to repeat individual experiments, you should make sure that you change the ID of your set of experiments (n), otherwise results already generated may be overwritten. By default the ID has the value 1.     \n",
    "You can calculate the corresponding growth rates directly in your file. If you get stuck with the calculation or are looking for an example, you will find that in the other notebook *2-Assistance.ipynb*. Pay attention to the maximum biomass concentration that can be reached. This is the second important parameter for the final experiment by which the production rate is determined.\n",
    "\n",
    "Example: `temperature = np.array([35, 35, 42])`\n",
    "\n",
    "**Resource cost:**\n",
    "* **1 for each temperature**\n",
    "\n",
    "**Input:**\n",
    "* **Temperature array**"
   ]
  },
  {
   "cell_type": "code",
   "execution_count": null,
   "metadata": {},
   "outputs": [],
   "source": [
    "# When you have thought about the temperatures you want to test, type them one by one into the following 'temperatures'-vector as it is shown in the brackets.\n",
    "temperatures = np.array([23, 27, 27, 35, 35])\n",
    "\n",
    "# cultivations of your strain at the different temperatures one by one\n",
    "myhost.Make_TempGrowthExp(temperatures)\n",
    "\n",
    "# host organism and remaining resources are displayed:\n",
    "myhost.show_BiotechSetting()"
   ]
  },
  {
   "cell_type": "markdown",
   "metadata": {},
   "source": [
    "### 2.2 Promoter sequence selection\n",
    "In bacteria, the initiation of transcription at promoters requires a dissociable specificity subunit of RNA polymerase called sigma that binds to the core to form the \"holoenzyme\". Sigma factors play critical roles in transcription initiation, including the recognition and opening of promoters as well as the initial steps in RNA synthesis. The number of sigma factors varies between bacterial species. Sigma factors are distinguished by their characteristic molecular weights. The primary sigma factor or the \"housekeeping\" sigma factor sigma70 of gram-negative rod-shaped bacteria has a molecular weight of 70 kDa. Every cell has such a \"housekeeping\" sigma factor that directs the bulk of transcription during active growth. The following article introduces the sigma70 transcription factor and reports the optimal recognition sequence that is responsible for gene expression in this project [https://doi.org/10.3390/biom5031245](https://doi.org/10.3390/biom5031245).     \n",
    "\n",
    "\n",
    "The total length of the promoters must be 40 nt. The following template serves as an aid for the creation of promoter sequences that meet condition for successfull promoter design. Replace the **X** with nucleotides and identify the best sequence:       \n",
    "\n",
    "##### GCCCA**XXXXXX**A**X**GC**XXX**C**X**CGT**XXX**GG**XXXXXX**TGCACG\n",
    "\n",
    "\n",
    "\n",
    "Create some promoters, write them down in an Excel sheet and test them, but be aware that each testing costs resources. To test the sequences, you have to clone each of them, introduce the resulting construct into the organism and then perform an expression test by measuring the promoter strength.\n",
    "\n",
    "#### 2.2.1 Cloning\n",
    "First create the primers matching your promoter sequences and write them down in your Excel file. For simplification, only the forward primer needs to be created here. The sequences of the primers should always start at the first nucleotide of the promoter sequence. An optimal primer length is randomly initiated and successfull primers need to be within 20% length distance. Overall, the primer length should be between 15 - 30 nucleotides.    \n",
    "\n",
    "Then calculate the melting temperature for each primer and write it into your Excel sheet. On the following website you will find formulas for calculating the melting temperature. A sodium concentration of 100 mM is assumed. The deviation from the optimal melting temperature should be within 10%.  \n",
    "\n",
    "Formulas for calculating the melting temperature: [genelink manual](https://www.genelink.com/Literature/ps/R26-6400-MW.pdf)     \n",
    "\n",
    "Finally perform a cloning with each pair of promoter and primer followed directly by the measurement of the promoter strength to test the expression. Each cloning experiment gets a specific ID like for exmaple : \"Clone_1\". This automatically designates the corresponding generated clone that contains the corresponding promoter sequence. If the cloning fails, because one of the mentioned necessary conditions was not fulfilled, the sequence could not be multiplied and introduced into the organism. Then the melting temperature or the total primer length for example may need to be adjusted. If you need help with this task or with the subsequent measurement of the promoter strength, you will find a template for the table to be created with an example sequence for a promoter in the other notebook *2-Assistance.ipynb*.\n",
    "\n",
    "**Resource cost:** \n",
    "* **1 for each clone**\n",
    "\n",
    "**Input:**\n",
    "* **valid promoter sequence (40 nt)**\n",
    "* **Primer Sequence (15-30nt)**\n",
    "* **Melting Temperature**"
   ]
  },
  {
   "cell_type": "code",
   "execution_count": null,
   "metadata": {},
   "outputs": [],
   "source": [
    "'''For each cloning, the promoter sequence, the corresponding primer, the melting temperature and the name of the experiment (ID)\n",
    "must be given. For simplicity, you should define these four parameters before and and save them in variable names.'''\n",
    "\n",
    "# Here is an example of these variables.\n",
    "# In this order the parameters must then be entered in the 'Make_Cloning'-command for the actual cloning like it is shown below.\n",
    "Clone_ID1 = 'Clone_1'\n",
    "Promoter1 =  'None'\n",
    "Primer1 = 'None'\n",
    "Tm = None # melting temperature\n",
    "\n",
    "# cloning:\n",
    "myhost.Make_Cloning(Clone_ID1, Promoter1, Primer1, Tm)\n",
    "\n",
    "\n",
    "# displays the generated clones and their properties:\n",
    "myhost.show_Library()\n",
    "# host organism and remaining resources are displayed:\n",
    "myhost.show_BiotechSetting()"
   ]
  },
  {
   "cell_type": "markdown",
   "metadata": {},
   "source": [
    "#### 2.2.2 Measurement of the promoter strength\n",
    "The promoter strength represents expression per cell. Later, it is multiplied by the growth rate and the biomass concentration in order to determine the expression rate. The expression rate of the product should be maximized. For further information and an illustration of the context, you can look at the last section of the second *2-Assistance.ipynb*-notebook. After successful cloning determine the promoter strength in a subsequent experiment by entering the ID of your clone into the `Make_MeasurePromoterStrength(Clone_ID1)`-command like it is shown in the cell below. Document the promoter strengths together with the automatically determined GC contents in your Excel table. You will need both later when you evaluate the results. If an incorrect sequence is used, for example containing typing errors, an error may occur when measuring the promoter strength and also when measuring the expression rate. The error message is: \"Key Error 'X'\".\n",
    "\n",
    "**Resource cost:**\n",
    "* **1 each experiment**\n",
    "\n",
    "**Input:**\n",
    "* **In `myhost.Make_MeasurePromoterStrength()`: Clone ID variable name**"
   ]
  },
  {
   "cell_type": "code",
   "execution_count": null,
   "metadata": {},
   "outputs": [],
   "source": [
    "myhost.Make_MeasurePromoterStrength(None)\n",
    "\n",
    "# displays the generated clones,their properties and their performance:\n",
    "myhost.show_Library()\n",
    "# host organism and remaining resources are displayed:\n",
    "myhost.show_BiotechSetting()"
   ]
  },
  {
   "cell_type": "markdown",
   "metadata": {},
   "source": [
    "### 2.3 Measurement of the expression rate\n",
    "Now that you have tested some promoter sequences, perform the production experiment with the best promoter sequence and use the determined optimal growth temperature (integer only) and the maximum possible biomass (integer only) that you can determine from your data. In this way you will achieve the maximum expression rate and thus the maximum yield of your product. The value for the biomass to be used should differ less than 10% from the maximum biomass. Pass these three named parameters in this order to the `Make_ProductionExperiment(Clone_ID1, Temp, Biomass)`-command like it is shown in the cell below. The `show_TargetExpressionRate`-command reports the minimum expression rate you should achieve with your experiment.\n",
    "\n",
    "**Resources:**\n",
    "* **3 each experiment**\n",
    "\n",
    "**Input:**\n",
    "* **in `myhost.Make_ProductionExperiment()`: Clone ID variable name, Opt. Temp, Opt. Biomass**"
   ]
  },
  {
   "cell_type": "code",
   "execution_count": null,
   "metadata": {},
   "outputs": [],
   "source": [
    "myhost.show_TargetExpressionRate()\n",
    "\n",
    "myhost.Make_ProductionExperiment(Clone_ID1, 30, 36)\n",
    "\n",
    "# displays the generated clones, their properties and their performance:\n",
    "myhost.show_Library()\n",
    "# host organism and remaining resources are displayed:\n",
    "myhost.show_BiotechSetting()"
   ]
  },
  {
   "cell_type": "markdown",
   "metadata": {},
   "source": [
    "# Evaluation and visualization of the results\n",
    "\n",
    "Finally, summarize your results from the laboratory workflow in a graph by plotting the promoter strengths of your promoter sequences against the respective GC contents. The promoter strength is directly proportional to the expression rate. Therefore, highlight the promoter strength of your best promoter sequence that you used in the production experiment in the plot. With the `plot_ReferencePromoterStrength`-command you can additionally display the promoter strength of a very well suited sequence in your plot to compare your results.      \n",
    "If you have already executed the following code cell and an image was created and saved that you want to edit again, then you can just edit the code cell again and execute it again. If you do not change the file name then, the plot you have already created will just be overwritten.      \n",
    "Saving the file means that you will find it afterwards in the folder you are in (folder icon in the upper left corner). To download the file to your computer, right click on it and choose 'Download'.     \n",
    "Finally, upload the completed plot to Moodle so that your work and results can be reviewed."
   ]
  },
  {
   "cell_type": "code",
   "execution_count": null,
   "metadata": {},
   "outputs": [],
   "source": [
    "# Here two pairs of values are already plotted as an example. You just have to replace them with your own values.\n",
    "\n",
    "# put in x your GC-contents:\n",
    "x = np.array([0.45, 0.63])\n",
    "# put in y your promoter strengths:\n",
    "y = np.array([1.17, 1.13])\n",
    "\n",
    "# plotting of your values\n",
    "plt.figure(figsize = (4.5,3), dpi = 120)\n",
    "plt.plot(x,y, linestyle = '--', marker = 'x', color = 'grey')\n",
    "\n",
    "# highlight your best sequence, just replace the values given here:\n",
    "plt.plot(0.45, 1.17, marker = 'X', color = 'black', markersize = 8)\n",
    "\n",
    "# plotting the strength of a very well suited promoter sequence\n",
    "myhost.plot_ReferencePromoterStrength()\n",
    "\n",
    "# naming the axes\n",
    "plt.xlabel('GC content [-]')\n",
    "plt.ylabel('promoter strength [-]')\n",
    "\n",
    "# Saving the created image, adjust the name of the image file in the brackets of the command so that it also contains your name:\n",
    "plt.savefig('PromoterStrength-Versus-GCcontent.png', type='png')\n",
    "plt.show()"
   ]
  }
 ],
 "metadata": {
  "kernelspec": {
   "display_name": "Python 3",
   "language": "python",
   "name": "python3"
  },
  "language_info": {
   "codemirror_mode": {
    "name": "ipython",
    "version": 3
   },
   "file_extension": ".py",
   "mimetype": "text/x-python",
   "name": "python",
   "nbconvert_exporter": "python",
   "pygments_lexer": "ipython3",
   "version": "3.7.6"
  }
 },
 "nbformat": 4,
 "nbformat_minor": 4
}
