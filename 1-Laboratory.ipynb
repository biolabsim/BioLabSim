{
 "cells": [
  {
   "cell_type": "markdown",
   "metadata": {},
   "source": [
    "# Simulation of Recombinant Protein Expression\n",
    "***\n",
    "\n",
    "# Introduction\n",
    "\n",
    "This tool to use and visualize code in the web called notebook guides you through a typical biotechnology project with the goal to overexpress a recombinant protein. In biotechnology any expressed protein needs to be synthesized with a minimum rate in order to be economically competetive. This introduction is followed by the tasks to be performed in the virtual lab to find out how to maximize the expression rate of the target protein. The results are then evaluated and assessed.           \n",
    "       \n",
    "Notebooks like this one are composed of a sequence of cells. Such cells can be either text, like this introduction, or python code cells to be run. The output of each code cell is shown directly below it.      \n",
    "A blue stripe on the left edge of the screen always shows you which cell you are currently in. Now at the beginning, before you have started editing and reading the other cells, you can see that you are in the very first cell of the notebook.     \n",
    "With the arrow keys (up and down) you can move to the previous/next cell if you are not in edit mode.     \n",
    "Initially, a code cell has a grey cell background like the very first code cell you can see below this cell. Then you are not in edit mode and you can view or execute the cell.      \n",
    "To switch to edit mode of a code cell, you just have to click inside the cell. This edit mode is then indicated by a blue cell border and a white cell background. If you now use the arrow keys, you can switch between the different lines of code. Alternatively, you can simply click into another part of the cell.     \n",
    "To leave the edit mode, you can just click into another text cell or execute the code cell.\n",
    "Code cells are executed using the following key combination: ctrl + enter     \n",
    "A code cell can also be edited and executed multiple times.      \n",
    "Next to the code cells in the upper left corner the status of the cell is displayed in square brackets. If you have not executed a cell yet, the brackets are empty.  If the computer is currently executing the code, an small star appears there. If the cell has been executed, a number corresponding to the execution order of the cells is shown.     \n",
    "If you want to reboot the entire notebook resetting everything executed so far, click on Kernel in the top bar and select restart. Be aware that this will also reset the stored information about your strain and you will have to select and load it again. This will give you a slightly different strain, whose properties you have to find out again. By resetting you have the possibility to replenish your resources to the maximum number, if they have run out. What is meant by resources will be explained later.\n",
    "\n",
    "If you want to hide the other files of the folder you are in, just click on the folder icon in the upper left corner.     \n",
    "If you want to open the other notebook '2-Assistance' in the folder later on, display the files of the folder again and then just double-click on the corresponding file. Then the notebook will open in a new window like you know it from a browser. To switch back to the original notebook, just select the other tab again or close the new one with the 'x'.     \n",
    "\n",
    "The laboratory workflow includes at first the necessary preparations and then strain characterization cultivations, experiments for promoter sequence selection and finally the experiment to measure the achieved expression rate.\n",
    "\n",
    "# Laboratory Tasks\n",
    "\n",
    "In this section all aspects of the laboratory are handled. As in every laboratory you only have a limited amount of resources. This means, for example, that the money available for the experiments and the required personnel, material and space are limited. You have a total of 50 such resources at your disposal.\n",
    "\n",
    "## Workflow\n",
    "\n",
    "**1. Preparations for the experiments**\n",
    " \n",
    "*1.1 Set-up your laboratory*    \n",
    "*1.2 Choose your host organism*\n",
    " \n",
    "**2. Experiments**\n",
    " \n",
    "*2.1 Strain characterization cultivations*     \n",
    "*2.2 Promoter sequence selection*    \n",
    "*2.3 Measurement of the expression rate*\n",
    "\n",
    "\n",
    "'''better transition still needs to be created, maybe some pictures of the organisms or a laboratory'''\n",
    "\n",
    "## 1. Preparations for the experiments\n",
    "\n",
    "### 1.1 Set-up your laboratory\n",
    "To get started with the experiments, you need to set up your laboratory in such a way that all the necessary tools and the equipment, the different media, other materials and everything else important you need are available."
   ]
  },
  {
   "cell_type": "code",
   "execution_count": 1,
   "metadata": {},
   "outputs": [],
   "source": [
    "# Loading ofimportant functionalities for the notebook:\n",
    "# Loading numpy, a library fo manipulation of numbers:\n",
    "import numpy as np\n",
    "# Loading matplotlib, a library for visualization:\n",
    "import matplotlib.pyplot as plt\n",
    "%matplotlib inline\n",
    "\n",
    "# Initialization, loading of all laboratory functionalities and stored models and information of the organisms:\n",
    "from BioLabSimFun import Mutant"
   ]
  },
  {
   "cell_type": "markdown",
   "metadata": {},
   "source": [
    "### 1.2 Choose your host organism\n",
    "Your company gives you two organisms, namely *E. coli* (abbr. Ecol) and *P. putida* (abbr. Pput).\n",
    "\n",
    "*E. coli* is a Gram-negative, facultative anaerobe and nonsporulating bacterium of the genus *Escherichia*. Cells are typically rod-shaped, and are about 2.0 μm long and 0.25–1.0 μm in diameter, with a cell volume of 0.6–0.7 μm<sup>3</sup>. It is commonly found in the lower intestine of warm-blooded organisms. Most *E. coli* strains are harmless, but some serotypes can cause serious food poisoning in their hosts, and are occasionally responsible for food contamination incidents that prompt product recalls. The harmless strains are part of the normal microbiota of the gut, and can benefit their hosts by producing vitamin K2 and preventing colonisation of the intestine with pathogenic bacteria, having a symbiotic relationship.      \n",
    "*E. coli* can be grown and cultured easily and inexpensively in a laboratory setting, and has been intensively investigated for over 60 years. The bacterium is the most widely studied prokaryotic model organism, and an important species in the fields of biotechnology and microbiology, where it has served as the host organism for the majority of work with recombinant DNA. Under favorable conditions, it takes as little as 20 minutes to reproduce.      \n",
    "You can find more information here: [*Escherichia coli*](https://en.wikipedia.org/wiki/Escherichia_coli)      \n",
    "\n",
    "*Pseudomonas putida* is a Gram-negative road-shaped, saprotrophic soil bacterium occurring in various environmental niches, due to its metabolic versatility and low nutritional requirements. Initiated by the pioneering discovery of its high capability to degrade rather recalcitrant and inhibiting xenobiotics, extensive biochemical analysis of this bacterium has been carried out in recent years. In addition, *P. putida* shows a very high robustness against extreme environmental conditions such as high temperature, extreme pH, or the presence of toxins or inhibiting solvents. Additionally, it is genetically accessible and grows fast with simple nutrient demand. Meanwhile, *P. putida* is successfully used for the production of bio-based polymers and a broad range of chemicals, far beyond its initial purpose for the degradation of various toxic compounds.      \n",
    "You can find more information here: [DOI: 10.1007/s00253-012-3928-0](https://www.researchgate.net/publication/221847539_Industrial_biotechnology_of_Pseudomonas_putida_and_related_species)\n",
    "\n",
    "Choosing your biotech-host is extremely simple: Just type the abbreviation of your favorite one into the 'Mutant'-command.    \n",
    "In the following all characteristics and models of your organism are thereby stored under 'myhost'. With the help of 'myhost', all experiments are carried out (in the form 'myhost.experiment'). In addition, all generated measurement results, stored information and the remaining resources can be displayed."
   ]
  },
  {
   "cell_type": "code",
   "execution_count": null,
   "metadata": {},
   "outputs": [],
   "source": [
    "myhost = Mutant('Ecol')\n",
    "# host organism and remaining resources are displayed:\n",
    "myhost.show_BiotechSetting()"
   ]
  },
  {
   "cell_type": "markdown",
   "metadata": {},
   "source": [
    "## 2. Experiments\n",
    "\n",
    "### 2.1 Strain characterization cultivations\n",
    "Your organization has a strain similar to what you wanted, but slightly different. No one knows what the optimal cultivation conditions are. You can find out the range of temperatures suitable for growth on the following website (excerpt from the book \"Biotechnology\"):    \n",
    "[Schmid, Rolf D., and Claudia Schmidt-Dannert. Biotechnology: An illustrated primer. John Wiley & Sons, 2016.](https://application.wiley-vch.de/books/sample/3527335153_c01.pdf)  \n",
    "Find out the optimal growth temperature by cultivating your strain at different temperatures and calculating the growth rates based on the measured biomass concentrations. It might be helpful to have biological replicates for further data processing later on, but be aware that each cultivation costs resources.     \n",
    "The biomass concentrations are automatically displayed in an Excel file after all experiments have been performed. If you want to do another set of experiments afterwards, or if you want to repeat individual experiments, you should make sure that you change the ID of your set of experiments (n), otherwise results already generated may be overwritten. By default the ID has the value 1.     \n",
    "You can calculate the corresponding growth rates directly in your file. If you get stuck with the calculation or are looking for an example, you will find that in the other notebook ('2-Assistance'). If an experiment should not run to the end due to any errors, you should not take the data into account when calculating the growth rate.     \n",
    "Pay attention to the maximum biomass concentration that can be reached. This is the second important parameter for the final experiment by which the production rate is determined."
   ]
  },
  {
   "cell_type": "code",
   "execution_count": null,
   "metadata": {},
   "outputs": [],
   "source": [
    "# When you have thought about the temperatures you want to test, type them one by one into the following 'temperatures'-vector.\n",
    "temperatures = np.array([23, 27, 27, 35, 35])\n",
    "# temperatures = np.array([35, 35, 35])\n",
    "\n",
    "myhost.Make_TempGrowthExp(temperatures)\n",
    "\n",
    "# host organism and remaining resources are displayed:\n",
    "myhost.show_BiotechSetting()"
   ]
  },
  {
   "cell_type": "markdown",
   "metadata": {},
   "source": [
    "### 2.2 Promoter sequence selection\n",
    "You need to think of some promoters and test their promoter strength in order to identify the optimal promoter sequence for expression of your gene of interest.     \n",
    "\n",
    "The total length of the promoters must be 40 nt. Apart from that the genetic distance to the reference sequence of the tool by which the promoter strength is measured should not be larger than 0.4, because the tool for this subsequent test is based on machine learning.     \n",
    "The following template serves as an aid for the creation of promoter sequences that meet these conditions in order to be able to be tested:       \n",
    "\n",
    "##### GCCCA**XXXXXX**A**X**GC**XXX**C**X**CGT**XXX**GG**XXXXXX**TGCACG\n",
    "\n",
    "In bacteria, the initiation of transcription at promoters requires a dissociable specificity subunit of RNA polymerase called sigma that binds to the core to form the\n",
    "\"holoenzyme\". Sigma factors play critical roles in transcription initiation, including the recognition and opening of promoters as well as the initial steps in RNA synthesis.     \n",
    "The number of sigma factors varies between bacterial species. Sigma factors are distinguished by their characteristic molecular weights. The primary sigma factor or the \"housekeeping\" sigma factor sigma70 of gram-negative rod-shaped bacteria has a molecular weight of 70 kDa. Every cell has such a \"housekeeping\" sigma factor that directs the bulk of transcription during active growth.\n",
    "\n",
    "Read the following article to become an expert on sigma70 driven prokaryotic gene transcription: [https://doi.org/10.3390/biom5031245](https://doi.org/10.3390/biom5031245).     \n",
    "     \n",
    "Now create some promoters, write them down in an Excel sheet and test them, but be aware that each testing costs resources.      \n",
    "To test the sequences, you have to clone each of them, introduce the resulting construct into the organism and then perform an expression test by measuring the promoter strength.\n",
    "\n",
    "#### 2.2.1 Cloning\n",
    "First create the primers matching your promoter sequences and write them down in your Excel file. For simplification, only the forward primer must be created here and then specified during cloning. The sequences of the primers should always start at the first nucleotide of the promoter sequence. \n",
    "The deviation from the optimum primer length should not be greater than 20 % and the length should not be greater than 30 nt for cloning to work.    \n",
    "Then calculate the melting temperature for each primer and write it into your Excel sheet. On the following website you will find formulas for calculating the melting temperature. A sodium concentration of 100 mM is assumed. The deviation from the optimal melting temperature should not be greater than 10 %. Note that the formulas for calculation are used to estimate the melting temperature, the optimal temperature may differ slightly.     \n",
    "\n",
    "Formulas for calculating the melting temperature: [genelink manual](https://www.genelink.com/Literature/ps/R26-6400-MW.pdf)     \n",
    "\n",
    "Finally perform a cloning with each pair of promoter and primer followed directly by the measurement of the promoter strength to test the expression. Each cloning experiment gets a specific ID like for exmaple : \"Clone_1\". This automatically designates the corresponding generated clone that contains the corresponding promoter sequence.    \n",
    "If the cloning fails, because one of the mentioned necessary conditions was not fulfilled, the sequence could not be multiplied and introduced into the organism. Then the melting temperature or the total primer length for example may need to be adjusted. If you need help with this task or with the subsequent measurement of the promoter strength, you will find a template for the table to be created with an example sequence for a promoter in the other notebook ('2-Assistance')."
   ]
  },
  {
   "cell_type": "code",
   "execution_count": null,
   "metadata": {},
   "outputs": [],
   "source": [
    "'''For each cloning, the promoter sequence, the corresponding primer, the melting temperature and the name of the experiment (ID)\n",
    "must be given. For simplicity, you should define these three parameters before and and save them in variable names.'''\n",
    "\n",
    "# Here is an example, in this order the parameters must then be entered in the 'Make_Cloning'-command for the actual cloning:\n",
    "Clone_ID1 = 'Clone_1'\n",
    "Promoter1 =  'GCCCAXXXXXXAXGCXXXCXCGTXXXGGXXXXXXTGCACG'\n",
    "Primer1 = 'CGGG...'\n",
    "Tm1 = 25 # melting temperature\n",
    "\n",
    "\n",
    "\n",
    "Clone_ID4 = 'BestEcol'\n",
    "OptPromoterEcol = 'GCCCATTGACAAGGCTCTCGCGGCCAGGTATAATTGCACG'\n",
    "TestPrimer4 =     'CGGGTAACTGTTCCGAGAGCGC' #CG' #G\n",
    "Tm4 = 80\n",
    "\n",
    "Clone_ID5 = 'Test5'\n",
    "Promoter5 =   'GCCCATTGAGCTGTTAGCCTAAACTAGCTAAATTTGCACG'\n",
    "TestPrimer5 = 'CGGGTAACTCGACAATCGGATT'\n",
    "\n",
    "# sequence with only the regions from the publication: GCCCATTGACAAXGCXXXCXCGTXXXGGTATAATTGCACG\n",
    "Clone_ID6 = 'Test6'\n",
    "Promoter6 =   'GCCCAGTGACGATGCATACACGTTAAGGTAGAATTGCACG'\n",
    "TestPrimer6 = 'CGGGTCACTGCTACGTATGTGCAA'\n",
    "Tm6 = 65\n",
    "\n",
    "# cloning:\n",
    "myhost.Make_Cloning(Clone_ID6, Promoter6, TestPrimer6, Tm6)\n",
    "\n",
    "\n",
    "# displays the generated clones and their properties:\n",
    "myhost.show_Library()\n",
    "# host organism and remaining resources are displayed:\n",
    "myhost.show_BiotechSetting()"
   ]
  },
  {
   "cell_type": "markdown",
   "metadata": {},
   "source": [
    "#### 2.2.2 Measurement of the promoter strength\n",
    "The promoter strength says something about the strength of expression per cell. Later, it is multiplied by the growth rate and the biomass concentration in order to determine the expression rate. This rate is the product formation rate in your overall fermentation approach that should be maximized. For further information and an illustration of the context, you can look at the last section of the second '2-Assistance'-notebook.     \n",
    "After successful cloning determine the promoter strength in a subsequent experiment by entering the ID of your clone into the 'Make_MeasurePromoterStrength'-command.    \n",
    "Document the promoter strengths together with the automatically determined GC contents in your Excel table. You will need both later when you evaluate the results.    \n",
    "If an incorrect sequence is used, for example containing typing errors, an error may occur when measuring the promoter strength and also when measuring the expression rate. The error message is: \"Key Error 'X'\"."
   ]
  },
  {
   "cell_type": "code",
   "execution_count": null,
   "metadata": {},
   "outputs": [],
   "source": [
    "myhost.Make_MeasurePromoterStrength(Clone_ID6)\n",
    "\n",
    "# displays the generated clones,their properties and their performance:\n",
    "myhost.show_Library()\n",
    "# host organism and remaining resources are displayed:\n",
    "myhost.show_BiotechSetting()"
   ]
  },
  {
   "cell_type": "markdown",
   "metadata": {},
   "source": [
    "### 2.3 Measurement of the expression rate\n",
    "Now that you have tested some promoter sequences, perform the production experiment with the best promoter sequence and use the determined optimal growth temperature (integer only) and the maximum possible biomass (integer only) that you can determine from your data. In this way you will achieve the maximum expression rate and thus the maximum yield of your product. The value for the biomass to be used should differ less than 10 % from the maximum biomass. Pass these three named parameters in this order to the 'Make_ProductionExperiment'-command.   \n",
    "\n",
    "With the help of the 'show_TargetExpressionRate'-command you can see the minimum expression rate you should achieve with your experiment."
   ]
  },
  {
   "cell_type": "code",
   "execution_count": null,
   "metadata": {},
   "outputs": [],
   "source": [
    "myhost.show_TargetExpressionRate()\n",
    "\n",
    "myhost.Make_ProductionExperiment(Clone_ID6, 30, 36)\n",
    "\n",
    "# displays the generated clones, their properties and their performance:\n",
    "myhost.show_Library()\n",
    "# host organism and remaining resources are displayed:\n",
    "myhost.show_BiotechSetting()"
   ]
  },
  {
   "cell_type": "markdown",
   "metadata": {},
   "source": [
    "# Evaluation and visualization of the results\n",
    "\n",
    "Finally, summarize your results from the laboratory workflow in a graph by plotting the promoter strengths of your promoter sequences against the respective GC contents. The promoter strength is directly proportional to the expression rate. Therefore, highlight the promoter strength of your best promoter sequence that you used in the production experiment in the plot. With the command \"plot_ReferencePromoterStrength()\" you can additionally display the promoter strength of a very well suited sequence in your plot to compare your results.      \n",
    "If you have already executed the following code cell and an image was created and saved that you want to edit again, then you can just edit the code cell again and execute it again. If you do not change the file name then, the plot you have already created will just be overwritten.      \n",
    "Saving the file means that you will find it afterwards in the folder you are in (folder icon in the upper left corner). To download the file to your computer, right click on it and choose 'Download'.     \n",
    "Finally, upload the completed plot to Moodle so that your work and results can be reviewed."
   ]
  },
  {
   "cell_type": "code",
   "execution_count": null,
   "metadata": {},
   "outputs": [],
   "source": [
    "# Here two pairs of values are already plotted as an example. You can just replace them with your own values.\n",
    "\n",
    "# put in x your GC-contents:\n",
    "x = np.array([0.45, 0.63])\n",
    "# put in y your promoter strengths:\n",
    "y = np.array([1.17, 1.13])\n",
    "\n",
    "# plotting of your values\n",
    "plt.figure(figsize = (4.5,3), dpi = 120)\n",
    "plt.plot(x,y, linestyle = '--', marker = 'x', color = 'grey')\n",
    "\n",
    "# highlight your best sequence, just replace the values given here:\n",
    "plt.plot(0.45, 1.17, marker = 'X', color = 'black', markersize = 8)\n",
    "\n",
    "# plotting the strength of a very well suited promoter sequence\n",
    "myhost.plot_ReferencePromoterStrength()\n",
    "\n",
    "# naming the axes\n",
    "plt.xlabel('GC content [-]')\n",
    "plt.ylabel('promoter strength [-]')\n",
    "\n",
    "# Saving the created image, adjust the name of the image file in the brackets of the command so that it also contains your name:\n",
    "plt.savefig('PromoterStrength-Versus-GCcontent.png', type='png')\n",
    "plt.show()"
   ]
  }
 ],
 "metadata": {
  "kernelspec": {
   "display_name": "Python 3",
   "language": "python",
   "name": "python3"
  },
  "language_info": {
   "codemirror_mode": {
    "name": "ipython",
    "version": 3
   },
   "file_extension": ".py",
   "mimetype": "text/x-python",
   "name": "python",
   "nbconvert_exporter": "python",
   "pygments_lexer": "ipython3",
   "version": "3.7.6"
  }
 },
 "nbformat": 4,
 "nbformat_minor": 4
}
