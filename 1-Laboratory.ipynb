{
 "cells": [
  {
   "cell_type": "markdown",
   "metadata": {},
   "source": [
    "# Laboratory Tasks\n",
    "\n",
    "In this notebook all aspects of the laboratory are handled. As in every laboratory you have only a limited amount of resources.\n",
    "\n",
    " 1. Cloning\n",
    " 2. Cultivation\n",
    " 3. Expression measurement"
   ]
  },
  {
   "cell_type": "markdown",
   "metadata": {},
   "source": [
    "## Set-up your laboratory"
   ]
  },
  {
   "cell_type": "code",
   "execution_count": 1,
   "metadata": {},
   "outputs": [],
   "source": [
    "import numpy as np\n",
    "\n",
    "# The cloning output is a mutant. Which is the host organism and the promoter sequence.\n",
    "%matplotlib inline\n",
    "from BioLabSimFun import Mutant"
   ]
  },
  {
   "cell_type": "markdown",
   "metadata": {},
   "source": [
    "## Choose host organism\n",
    "Choosing your biotech-host is extremely simple: just type the name of your favorit bug into the 'Mutant'-command. Your company gives you two organisms, namely *E. coli* (abbr. Ecol) and *P. putida* (abbr. Pput). Use the abbreviation for the selection."
   ]
  },
  {
   "cell_type": "code",
   "execution_count": 2,
   "metadata": {},
   "outputs": [
    {
     "name": "stdout",
     "output_type": "stream",
     "text": [
      "Host: Pput\n",
      "Resources: 10\n",
      "{'var_Host': 'Pput', 'var_Resources': 10, '_Mutant__OptTemp': 39, '_Mutant__BiomassMax': 92}\n"
     ]
    }
   ],
   "source": [
    "myhost = Mutant('Pput')\n",
    "myhost.show_BiotechSetting()\n",
    "# list(vars(myhost).keys())\n",
    "print(vars(myhost))"
   ]
  },
  {
   "cell_type": "markdown",
   "metadata": {},
   "source": [
    "## Strain characterization\n",
    "Your organization has a strain similar to what you wanted, but slightly different. No one knows what the optimal cultivation conditions are. Find out the optimal growth temperature."
   ]
  },
  {
   "cell_type": "code",
   "execution_count": 3,
   "metadata": {},
   "outputs": [
    {
     "name": "stdout",
     "output_type": "stream",
     "text": [
      "Temp Test {}: 28\n",
      "[ 0.0904946   0.10256268  0.11623786  0.13173353  0.14929123  0.16918428\n",
      "  0.19172197  0.21725413  0.24617641  0.27893608  0.31603862  0.35805502\n",
      "  0.40563007  0.45949142  0.52045978  0.58946023  0.66753467  0.75585558\n",
      "  0.85574106  0.96867132  1.09630645  1.24050564  1.40334765  1.58715236\n",
      "  1.79450326  2.0282704   2.29163335  2.58810334  2.92154382  3.296188\n",
      "  3.71665199  4.18794146  4.71544973  5.30494431  5.96253889  6.69464734\n",
      "  7.50791573  8.40912886  9.40508742 10.50245296 11.70755864 13.02618564\n",
      " 14.46330734 16.02280666 17.70717542 19.51720889 21.45171276 23.50724315\n",
      " 25.67790312 27.9552192  30.32811984 32.78303277 35.30411022 37.87358137\n",
      " 40.47221952 43.07990036 45.67621825 48.24112085 50.75552068 53.20184452\n",
      " 55.56448856 57.83015664 59.98807084 62.03005457 63.95049848 65.74622672\n",
      " 67.4162857  68.96167932 70.38507347 71.6904903  72.88300914 73.96848643\n",
      " 74.95330343 75.84414646 76.64782159 77.37110345 78.02061583 78.60274137\n",
      " 79.12355626 79.58878645 80.0037815  80.3735026  80.70252173 80.99502918\n",
      " 81.25484728 81.48544841 81.68997567 81.87126531 82.03186959 82.17407981\n",
      " 82.29994859 82.41131145 82.50980701 82.59689612 82.67387949 82.74191397\n",
      " 82.80202748 82.85513258 82.90203883 82.94346396 82.98004386 83.0123417\n",
      " 83.04085594 83.06602766 83.088247   83.10785891 83.12516836 83.14044486\n",
      " 83.15392655]\n",
      "Temp Test {}: 30\n",
      "[  0.11245178   0.14444126   0.18551454   0.23824047   0.30590749\n",
      "   0.39272072   0.50405022   0.64674166   0.8295021    1.063374\n",
      "   1.36230902   1.74384924   2.22991298   2.84766435   3.6304133\n",
      "   4.61844273   5.859584     7.40926094   9.32960066  11.68709305\n",
      "  14.54822492  17.97261537  22.00356015  26.65665419  31.90826726\n",
      "  37.68679043  43.87013142  50.29220614  56.75887836  63.07059853\n",
      "  69.04639149  74.5432907   79.46714293  83.77385224  87.46297255\n",
      "  90.56699544  93.13961607  95.24528406  96.95116655  98.32171919\n",
      "  99.41551809 100.28379732 100.97013652 101.51084239 101.93569182\n",
      " 102.26881624 102.5295937  102.73347595 102.89271715 103.01699478\n",
      " 103.11392658 103.18949381 103.24838361 103.2942634  103.32999934]\n",
      "Temp Test {}: 32\n",
      "[ 0.09757196  0.14203608  0.20671606  0.30075097  0.43735338  0.63556042\n",
      "  0.92266641  1.33752245  1.93484682  2.79051236  4.00732195  5.7198306\n",
      "  8.09509085 11.32382326 15.59444606 21.04360048 27.68610704 35.34691093\n",
      " 43.63744954 52.01393702 59.91004681 66.8812684  72.68874305 77.2972224\n",
      " 80.8152119  83.42210195 85.31160966 86.65931116 87.60958357 88.2742101\n",
      " 88.73641962 89.05659066 89.27776482 89.43026269 89.53527146 89.60751456\n",
      " 89.65718503]\n",
      "Temp Test {}: 38\n",
      "[ 0.09495608  0.25831317  0.70044482  1.88297413  4.94792629 12.28475341\n",
      " 26.94385035 47.92810314 67.10332433 78.64857896 83.94805083 86.07612577\n",
      " 86.88425323 87.18458367]\n",
      "Temp Test {}: 35\n",
      "[ 0.10387758  0.22007514  0.46561747  0.982294    2.05988688  4.26629632\n",
      "  8.61823851 16.60224179 29.47532997 46.45753274 63.78175146 77.38627476\n",
      " 86.03791908 90.82489789 93.27137905 94.47103721 95.04736701 95.32151509\n",
      " 95.45130737]\n",
      "Temp Test {}: 38\n",
      "[ 0.09737823  0.26490223  0.7183118   1.93100511  5.07413821 12.59811343\n",
      " 27.63113526 49.15065528 68.81499884 80.65475033 86.08940136 88.27175933\n",
      " 89.10050055 89.40849183]\n",
      "Host: Pput\n",
      "Resources: 4\n"
     ]
    }
   ],
   "source": [
    "# to be coded.\n",
    "# a graph with a slowly growing growth curve would be cool\n",
    "# Each test costs one resource\n",
    "\n",
    "# temperatures have to be defined\n",
    "a = np.array([28, 30, 32, 38, 35, 38])\n",
    "#experiment:\n",
    "myhost.Make_TempGrowthExp(a, False)\n",
    "\n",
    "myhost.show_BiotechSetting()\n",
    "#print('OptTemp: {}'.format(myhost._Mutant__OptTemp))"
   ]
  },
  {
   "cell_type": "markdown",
   "metadata": {},
   "source": [
    "## Cloning\n",
    "You are given publication from which you can identify positions for integration. Construct the corresponding primers and run a PCR.\n",
    "Pseudomonas GC content: [https://doi.org/10.1111/1462-2920.14130](https://doi.org/10.1111/1462-2920.14130)"
   ]
  },
  {
   "cell_type": "code",
   "execution_count": null,
   "metadata": {},
   "outputs": [],
   "source": [
    "# to be coded.\n",
    "# computing of the annealing temperature, etc.\n",
    "# Probabilitstic cloning success rate.\n",
    "\n",
    "# Construct Primer and calculate melting temperature\n",
    "# link still has to be added\n",
    "TestPrimer = 'GCGCGCAAAATTTATGC'\n",
    "Tm = 20\n",
    "\n",
    "# experiment, output efficiency\n",
    "myhost.Make_Cloning(TestPrimer, Tm)"
   ]
  },
  {
   "cell_type": "markdown",
   "metadata": {},
   "source": [
    "## Genetic Engineering\n",
    "You need to identify the optimal promoter sequence for expression of you gene of interest. Read the following article to become an expert on sigma70 driven prokaryotic gene expression: [https://doi.org/10.3390/biom5031245](https://doi.org/10.3390/biom5031245).\n",
    "Test a couple of promoters, but be aware that each testing costs resources.\n",
    "\n",
    "The total length of the promoter must be 40 nt."
   ]
  },
  {
   "cell_type": "code",
   "execution_count": null,
   "metadata": {},
   "outputs": [],
   "source": [
    "myhost._Mutant__add_RandomPromoter()\n",
    "# TestPromoter = 'GCCCATTGACGCTGCCGTAGCGCTCCTATACCCTTGCACG'\n",
    "# myhost.add_promoter(TestPromoter)\n",
    "print('Promoter sequence: ',myhost.var_Promoter)\n",
    "print('GC-content: ', myhost.var_GCcontent)\n",
    "\n",
    "# the genetic distance to our reference sequence should not be larger than 0.4:\n",
    "from BioLabSimFun import Sequence_ReferenceDistance\n",
    "print('genetic distance to ref sequence: ', Sequence_ReferenceDistance(myhost.var_Promoter))\n",
    "# print('Biomass conc: {}'.format(myhost._Mutant__BiomassMax))"
   ]
  },
  {
   "cell_type": "markdown",
   "metadata": {},
   "source": [
    "### Expression Tests"
   ]
  },
  {
   "cell_type": "code",
   "execution_count": null,
   "metadata": {},
   "outputs": [],
   "source": [
    "myhost.Make_MeasurePromoterStrength()\n",
    "myhost.show_BiotechSetting()\n",
    "# print('Promoter strength: ', myhost.Promoter_Strength)"
   ]
  },
  {
   "cell_type": "markdown",
   "metadata": {},
   "source": [
    "## Expression measurement"
   ]
  },
  {
   "cell_type": "code",
   "execution_count": null,
   "metadata": {},
   "outputs": [],
   "source": [
    "myhost.Make_ProductionExperiment(28)\n",
    "myhost.show_BiotechSetting()\n"
   ]
  }
 ],
 "metadata": {
  "kernelspec": {
   "display_name": "Python 3",
   "language": "python",
   "name": "python3"
  },
  "language_info": {
   "codemirror_mode": {
    "name": "ipython",
    "version": 3
   },
   "file_extension": ".py",
   "mimetype": "text/x-python",
   "name": "python",
   "nbconvert_exporter": "python",
   "pygments_lexer": "ipython3",
   "version": "3.7.6"
  }
 },
 "nbformat": 4,
 "nbformat_minor": 4
}
