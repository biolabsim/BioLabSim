{
 "cells": [
  {
   "cell_type": "markdown",
   "metadata": {},
   "source": [
    "# Simulation of Recombinant Protein Expression\n",
    "***\n",
    "\n",
    "# Introduction\n",
    "\n",
    "This notebook guides you through a typical biotechnology project with the goal to overexpress a recombinant protein. In biotechnology any expressed protein needs to be synthesized with a minimum rate in order to be economically competetive. This introduction is followed by the tasks to be performed in the virtual lab to find out how to maximize the expression rate of the target protein. The results are then evaluated and assessed.    \n",
    "The laboratory workflow includes at first the necessary preparations and then strain characterization cultivations, experiments for promoter sequence selection and finally the experiment to measure the achieved expression rate.\n",
    "\n",
    "# Laboratory Tasks\n",
    "\n",
    "In this section all aspects of the laboratory are handled. As in every laboratory you only have a limited amount of resources. This means, for example, that the money available for the experiments and the required personnel, material and space are limited. You have a total of 50 such resources at your disposal.\n",
    "\n",
    "## Workflow\n",
    "\n",
    "**1. Preparations for the experiments**\n",
    " \n",
    "*1.1 Set-up your laboratory*    \n",
    "*1.2 Choose your host organism*\n",
    " \n",
    "**2. Experiments**\n",
    " \n",
    "*2.1 Strain characterization cultivations*     \n",
    "*2.2 Promoter sequence selection*    \n",
    "*2.3 Measurement of the expression rate*\n",
    "\n",
    "\n",
    "'''better transition still needs to be created, maybe some pictures of the organisms or a laboratory'''\n",
    "\n",
    "## 1. Preparations for the experiments\n",
    "\n",
    "### 1.1 Set-up your laboratory\n",
    "To get started with the experiments, you need to set up your laboratory in such a way that all the necessary tools and the equipment, the different media, other materials and everything else important you need are available."
   ]
  },
  {
   "cell_type": "code",
   "execution_count": 1,
   "metadata": {},
   "outputs": [],
   "source": [
    "# Loading ofimportant functionalities for the notebook:\n",
    "# Loading numpy, a library fo manipulation of numbers:\n",
    "import numpy as np\n",
    "# Loading matplotlib, a library for visualization:\n",
    "import matplotlib.pyplot as plt\n",
    "%matplotlib inline\n",
    "\n",
    "# Initialization, loading of all laboratory functionalities and stored models and information of the organisms:\n",
    "from BioLabSimFun import Mutant"
   ]
  },
  {
   "cell_type": "markdown",
   "metadata": {},
   "source": [
    "### 1.2 Choose your host organism\n",
    "Choosing your biotech-host is extremely simple: Just type the name of your favorite one into the 'Mutant'-command. Your company gives you two organisms, namely *E. coli* (abbr. Ecol) and *P. putida* (abbr. Pput). Use the abbreviation for the selection.    \n",
    "In the following all characteristics and models of your organism are thereby stored under 'myhost'. With the help of 'myhost', all experiments are carried out (in the form 'myhost.experiment'). In addition, all generated measurement results, stored information and the remaining resources can be displayed."
   ]
  },
  {
   "cell_type": "code",
   "execution_count": 7,
   "metadata": {},
   "outputs": [
    {
     "name": "stdout",
     "output_type": "stream",
     "text": [
      "Host: Ecol\n",
      "Resources: 50\n",
      "{'var_Host': 'Ecol', 'var_Resources': 50, 'var_Library': {}, '_Mutant__InflProStreng': 32, '_Mutant__OptTemp': 34, '_Mutant__OptPrLen': 25, '_Mutant__BiomassMax': 100}\n"
     ]
    }
   ],
   "source": [
    "myhost = Mutant('Ecol')\n",
    "# host organism and remaining resources are displayed:\n",
    "myhost.show_BiotechSetting()"
   ]
  },
  {
   "cell_type": "markdown",
   "metadata": {},
   "source": [
    "## 2. Experiments\n",
    "\n",
    "### 2.1 Strain characterization cultivations\n",
    "Your organization has a strain similar to what you wanted, but slightly different. No one knows what the optimal cultivation conditions are. The only information you got from your organization is that the two available organisms are mesophilic bacteria. You can find out the range of temperatures suitable for growth on the following website (excerpt from the book \"Biotechnology\"):    \n",
    "[Schmid, Rolf D., and Claudia Schmidt-Dannert. Biotechnology: An illustrated primer. John Wiley & Sons, 2016.](https://application.wiley-vch.de/books/sample/3527335153_c01.pdf)  \n",
    "Find out the optimal growth temperature by cultivating your strain at different temperatures and calculating the growth rates based on the measured biomass concentrations. It might be helpful to have biological replicates for further data processing later on, but be aware that each cultivation costs resources.     \n",
    "The biomass concentrations are automatically displayed in an Excel file after all experiments have been performed. If you want to do another set of experiments afterwards, or if you want to repeat individual experiments, you should make sure that you change the ID of your set of experiments (n), otherwise results already generated may be overwritten. By default the ID has the value 1.     \n",
    "You can calculate the corresponding growth rates directly in your file. If you get stuck with the calculation or are looking for an example, you will find that in the other notebook ('2-Assistance'). If an experiment should not run to the end due to any errors, you should not take the data into account when calculating the growth rate.     \n",
    "Pay attention to the maximum biomass concentration that can be reached. This is the second important parameter for the final experiment by which the production rate is determined."
   ]
  },
  {
   "cell_type": "code",
   "execution_count": null,
   "metadata": {},
   "outputs": [],
   "source": [
    "# When you have thought about the temperatures you want to test, type them one by one into the following 'temperatures'-vector.\n",
    "temperatures = np.array([23, 27, 27, 35, 35])\n",
    "# temperatures = np.array([35, 35, 35])\n",
    "\n",
    "myhost.Make_TempGrowthExp(temperatures)\n",
    "\n",
    "# host organism and remaining resources are displayed:\n",
    "myhost.show_BiotechSetting()"
   ]
  },
  {
   "cell_type": "markdown",
   "metadata": {},
   "source": [
    "### 2.2 Promoter sequence selection\n",
    "You need to identify the optimal promoter sequence for expression of your gene of interest. Read the following article to become an expert on sigma70 driven prokaryotic gene expression: [https://doi.org/10.3390/biom5031245](https://doi.org/10.3390/biom5031245).     \n",
    "'''further general information about sigma 70 have to be added here'''      \n",
    "Think of some promoters and test them, but be aware that each testing costs resources.\n",
    "\n",
    "The total length of the promoters must be 40 nt. Apart from that the genetic distance to the reference sequence of the tool by which the promoter strength is measured should not be larger than 0.4, because the tool for this subsequent test is based on machine learning.     \n",
    "The following template serves as an aid for the creation of promoter sequences that meet these conditions in order to be able to be tested:       \n",
    "\n",
    "##### GCCCA**XXXXXX**A**X**GC**XXX**C**X**CGT**XXX**GG**XXXXXX**TGCACG\n",
    "\n",
    "Write down your promoter sequences in an Excel sheet.\n",
    "To test the sequences, you have to clone each of them, introduce the resulting construct into the organism and then perform an expression test by measuring the promoter strength.\n",
    "\n",
    "#### 2.2.1 Cloning\n",
    "First create the primers matching your promoter sequences and write them down in your Excel file. For simplification, only the forward primer must be created here and then specified during cloning. The sequences of the primers should always start at the first nucleotide of the promoter sequence. \n",
    "The deviation from the optimum primer length should not be greater than 20 % and the length should not be greater than 30 nt for cloning to work.    \n",
    "Then calculate the melting temperature for each primer and write it into your Excel sheet. On the following website you will find formulas for calculating the melting temperature. A sodium concentration of 100 mM is assumed. The deviation from the optimal melting temperature should not be greater than 10 %. Note that the formulas for calculation are used to estimate the melting temperature, the optimal temperature may differ slightly.     \n",
    "\n",
    "Formulas for calculating the melting temperature: [genelink manual](https://www.genelink.com/Literature/ps/R26-6400-MW.pdf)     \n",
    "\n",
    "Finally perform a cloning with each pair of promoter and primer followed directly by the measurement of the promoter strength to test the expression. Each cloning experiment gets a specific ID like for exmaple : \"Clone_1\". This automatically designates the corresponding generated clone that contains the corresponding promoter sequence.    \n",
    "If the cloning fails, because one of the mentioned necessary conditions was not fulfilled, the sequence could not be multiplied and introduced into the organism. Then the melting temperature or the total primer length for example may need to be adjusted. If you need help with this task or with the subsequent measurement of the promoter strength, you will find a template for the table to be created with an example sequence for a promoter in the other notebook ('2-Assistance')."
   ]
  },
  {
   "cell_type": "code",
   "execution_count": 8,
   "metadata": {},
   "outputs": [
    {
     "name": "stdout",
     "output_type": "stream",
     "text": [
      "Cloning was successfull.\n",
      "\n",
      "Clone ID: Test6\n",
      "Promoter_Sequence: GCCCATTGACAATGCATACACGTTAAGGTATAATTGCACG\n",
      "Promoter_GC-content: 0.425\n",
      "Host: Ecol\n",
      "Resources: 49\n"
     ]
    }
   ],
   "source": [
    "'''For each cloning, the promoter sequence, the corresponding primer, the melting temperature and the name of the experiment (ID)\n",
    "must be given. For simplicity, you should define these three parameters before and and save them in variable names.'''\n",
    "\n",
    "# Here is an example, in this order the parameters must then be entered in the 'Make_Cloning'-command for the actual cloning:\n",
    "Clone_ID1 = 'Clone_1'\n",
    "Promoter1 =  'GCCCAXXXXXXAXGCXXXCXCGTXXXGGXXXXXXTGCACG'\n",
    "Primer1 = 'CGGG...'\n",
    "Tm1 = 25 # melting temperature\n",
    "\n",
    "\n",
    "\n",
    "Clone_ID4 = 'BestEcol'\n",
    "OptPromoterEcol = 'GCCCATTGACAAGGCTCTCGCGGCCAGGTATAATTGCACG'\n",
    "TestPrimer4 =     'CGGGTAACTGTTCCGAGAGCGC' #CG' #G\n",
    "Tm4 = 80\n",
    "\n",
    "Clone_ID5 = 'Test5'\n",
    "Promoter5 =   'GCCCATTGAGCTGTTAGCCTAAACTAGCTAAATTTGCACG'\n",
    "TestPrimer5 = 'CGGGTAACTCGACAATCGGATT'\n",
    "\n",
    "# sequence with only the regions from the publication: GCCCATTGACAAXGCXXXCXCGTXXXGGTATAATTGCACG\n",
    "Clone_ID6 = 'Test6'\n",
    "Promoter6 =   'GCCCATTGACAATGCATACACGTTAAGGTATAATTGCACG'\n",
    "TestPrimer6 = 'CGGGTAACTGTTACGTATGTGCAA'\n",
    "Tm6 = 68\n",
    "\n",
    "# cloning:\n",
    "myhost.Make_Cloning(Clone_ID6, Promoter6, TestPrimer6, Tm6)\n",
    "\n",
    "\n",
    "# displays the generated clones and their properties:\n",
    "myhost.show_Library()\n",
    "# host organism and remaining resources are displayed:\n",
    "myhost.show_BiotechSetting()"
   ]
  },
  {
   "cell_type": "markdown",
   "metadata": {},
   "source": [
    "#### 2.2.2 Measurement of the promoter strength\n",
    "The promoter strength says something about the strength of expression per cell. Later, it is multiplied by the growth rate and the biomass concentration in order to determine the expression rate. This rate is the product formation rate in your overall fermentation approach that should be maximized. For further information and an illustration of the context, you can look at the last section of the second '2-Assistance'-notebook.     \n",
    "After successful cloning determine the promoter strength in a subsequent experiment by entering the ID of your clone into the 'Make_MeasurePromoterStrength'-command.    \n",
    "Document the promoter strengths together with the automatically determined GC contents in your Excel table. You will need both later when you evaluate the results.    \n",
    "If an incorrect sequence is used, for example containing typing errors, an error may occur when measuring the promoter strength and also when measuring the expression rate. The error message is: \"Key Error 'X'\"."
   ]
  },
  {
   "cell_type": "code",
   "execution_count": 9,
   "metadata": {},
   "outputs": [
    {
     "name": "stdout",
     "output_type": "stream",
     "text": [
      "\n",
      "Clone ID: Test6\n",
      "Promoter_Sequence: GCCCATTGACAATGCATACACGTTAAGGTATAATTGCACG\n",
      "Promoter_GC-content: 0.425\n",
      "Promoter_Strength: 1.22\n",
      "Host: Ecol\n",
      "Resources: 48\n"
     ]
    },
    {
     "name": "stderr",
     "output_type": "stream",
     "text": [
      "/home/ulf/anaconda3/lib/python3.7/site-packages/sklearn/base.py:318: UserWarning: Trying to unpickle estimator DecisionTreeRegressor from version 0.22.2 when using version 0.22.1. This might lead to breaking code or invalid results. Use at your own risk.\n",
      "  UserWarning)\n",
      "/home/ulf/anaconda3/lib/python3.7/site-packages/sklearn/base.py:318: UserWarning: Trying to unpickle estimator RandomForestRegressor from version 0.22.2 when using version 0.22.1. This might lead to breaking code or invalid results. Use at your own risk.\n",
      "  UserWarning)\n",
      "/home/ulf/anaconda3/lib/python3.7/site-packages/sklearn/base.py:318: UserWarning: Trying to unpickle estimator StandardScaler from version 0.22.2 when using version 0.22.1. This might lead to breaking code or invalid results. Use at your own risk.\n",
      "  UserWarning)\n"
     ]
    }
   ],
   "source": [
    "myhost.Make_MeasurePromoterStrength(Clone_ID6)\n",
    "\n",
    "# displays the generated clones,their properties and their performance:\n",
    "myhost.show_Library()\n",
    "# host organism and remaining resources are displayed:\n",
    "myhost.show_BiotechSetting()"
   ]
  },
  {
   "cell_type": "markdown",
   "metadata": {},
   "source": [
    "### 2.3 Measurement of the expression rate\n",
    "Now that you have tested some promoter sequences, perform the production experiment with the best promoter sequence and use the determined optimal growth temperature (integer only) and the maximum possible biomass (integer only) that you can determine from your data. In this way you will achieve the maximum expression rate and thus the maximum yield of your product. The value for the biomass to be used should differ less than 10 % from the maximum biomass. Pass these three named parameters in this order to the 'Make_ProductionExperiment'-command.   \n",
    "\n",
    "With the help of the 'show_TargetExpressionRate'-command you can see the minimum expression rate you should achieve with your experiment."
   ]
  },
  {
   "cell_type": "code",
   "execution_count": 10,
   "metadata": {},
   "outputs": [
    {
     "name": "stdout",
     "output_type": "stream",
     "text": [
      "At least an expression rate of 34.12 should be achieved by the production experiment.\n",
      "\n",
      "Clone ID: Test6\n",
      "Promoter_Sequence: GCCCATTGACAATGCATACACGTTAAGGTATAATTGCACG\n",
      "Promoter_GC-content: 0.425\n",
      "Promoter_Strength: 1.22\n",
      "Expression_Temperature: 34\n",
      "Expression_Biomass: 100\n",
      "Expression_Rate: 30.5\n",
      "Host: Ecol\n",
      "Resources: 45\n"
     ]
    }
   ],
   "source": [
    "myhost.show_TargetExpressionRate()\n",
    "\n",
    "myhost.Make_ProductionExperiment(Clone_ID6, 34, 100)\n",
    "\n",
    "# displays the generated clones, their properties and their performance:\n",
    "myhost.show_Library()\n",
    "# host organism and remaining resources are displayed:\n",
    "myhost.show_BiotechSetting()"
   ]
  },
  {
   "cell_type": "markdown",
   "metadata": {},
   "source": [
    "# Evaluation and visualization of the results\n",
    "\n",
    "Finally, summarize your results from the laboratory workflow in a graph by plotting the promoter strengths of your promoter sequences against the respective GC contents. The promoter strength is directly proportional to the expression rate. Therefore, highlight the promoter strength of your best promoter sequence that you used in the production experiment in the plot. With the command \"plot_ReferencePromoterStrength()\" you can additionally display the promoter strength of a very well suited sequence in your plot to compare your results."
   ]
  },
  {
   "cell_type": "code",
   "execution_count": 11,
   "metadata": {},
   "outputs": [
    {
     "data": {
      "image/png": "[encoded data removed]",
      "text/plain": [
       "<Figure size 540x360 with 1 Axes>"
      ]
     },
     "metadata": {
      "needs_background": "light"
     },
     "output_type": "display_data"
    }
   ],
   "source": [
    "'''after a more detailed test during the documentation there are still places to be hidden (???)'''\n",
    "# put in x your GC-contents\n",
    "x = np.array([0.45, 0.63])\n",
    "# put in y your promoter activity\n",
    "y = np.array([1.17, 1.13])\n",
    "\n",
    "plt.figure(figsize = (4.5,3), dpi = 120)\n",
    "plt.plot(x,y, linestyle = '--', marker = 'x', color = 'grey')\n",
    "# highlight best sequence\n",
    "plt.plot(0.45, 1.17, marker = 'X', color = 'black', markersize = 8)\n",
    "\n",
    "myhost.plot_ReferencePromoterStrength()\n",
    "\n",
    "plt.xlabel('GC content [-]')\n",
    "plt.ylabel('promoter strength [-]')\n",
    "plt.savefig('PromoterStrength-Versus-GCcontent.png', type='png')\n",
    "plt.show()"
   ]
  }
 ],
 "metadata": {
  "kernelspec": {
   "display_name": "Python 3",
   "language": "python",
   "name": "python3"
  },
  "language_info": {
   "codemirror_mode": {
    "name": "ipython",
    "version": 3
   },
   "file_extension": ".py",
   "mimetype": "text/x-python",
   "name": "python",
   "nbconvert_exporter": "python",
   "pygments_lexer": "ipython3",
   "version": "3.7.6"
  }
 },
 "nbformat": 4,
 "nbformat_minor": 4
}
