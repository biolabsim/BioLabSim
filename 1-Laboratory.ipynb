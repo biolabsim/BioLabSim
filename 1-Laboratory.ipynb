{
 "cells": [
  {
   "cell_type": "markdown",
   "metadata": {},
   "source": [
    "# Laboratory Tasks\n",
    "\n",
    "In this notebook all aspects of the laboratory are handled. As in every laboratory you have only a limited amount of resources.\n",
    "\n",
    " 1. Cloning\n",
    " 2. Cultivation\n",
    " 3. Expression measurement"
   ]
  },
  {
   "cell_type": "markdown",
   "metadata": {},
   "source": [
    "## Set-up your laboratory"
   ]
  },
  {
   "cell_type": "code",
   "execution_count": 7,
   "metadata": {},
   "outputs": [],
   "source": [
    "# The cloning output is a mutant. Which is the host organism and the promoter sequence.\n",
    "%matplotlib inline\n",
    "from BioLabSimFun import Mutant"
   ]
  },
  {
   "cell_type": "markdown",
   "metadata": {},
   "source": [
    "## Choose host organism\n",
    "Choosing your biotech-host is extremely simple: just type the name of your favorit bug into the 'Mutant'-command. Your company gives you two organisms, namely *E. coli* (abbr. Ecol) and *P. putida* (abbr. Pput). Use the abbreviation for the selection."
   ]
  },
  {
   "cell_type": "code",
   "execution_count": 8,
   "metadata": {},
   "outputs": [
    {
     "name": "stdout",
     "output_type": "stream",
     "text": [
      "Host: Pput\n",
      "Resources: 10\n"
     ]
    }
   ],
   "source": [
    "myhost = Mutant('Pput')\n",
    "myhost.show_BiotechSetting()\n",
    "# list(vars(myhost).keys())\n",
    "# print(vars(myhost))"
   ]
  },
  {
   "cell_type": "markdown",
   "metadata": {},
   "source": [
    "## Strain characterization\n",
    "Your organization has a strain similar to what you wanted, but slightly different. No one knows what the optimal cultivation conditions are. Find out the optimal growth temperature."
   ]
  },
  {
   "cell_type": "code",
   "execution_count": 9,
   "metadata": {},
   "outputs": [
    {
     "data": {
      "text/plain": [
       "<Figure size 432x288 with 0 Axes>"
      ]
     },
     "metadata": {},
     "output_type": "display_data"
    },
    {
     "data": {
      "image/png": "[encoded data removed]",
      "text/plain": [
       "<Figure size 600x360 with 1 Axes>"
      ]
     },
     "metadata": {
      "needs_background": "light"
     },
     "output_type": "display_data"
    },
    {
     "name": "stdout",
     "output_type": "stream",
     "text": [
      "Host: Pput\n",
      "Resources: 9\n"
     ]
    }
   ],
   "source": [
    "# to be coded.\n",
    "# a graph with a slowly growing growth curve would be cool\n",
    "# Each test costs one resource\n",
    "\n",
    "# temperature of cultivation and number of samples have to be defined\n",
    "CultTemp = 28\n",
    "n = 11\n",
    "# experiment\n",
    "myhost.Make_TempGrowthExp(CultTemp, n, True)\n",
    "\n",
    "myhost.show_BiotechSetting()\n",
    "#print('OptTemp: {}'.format(myhost._Mutant__OptTemp))"
   ]
  },
  {
   "cell_type": "markdown",
   "metadata": {},
   "source": [
    "## Cloning\n",
    "You are given publication from which you can identify positions for integration. Construct the corresponding primers and run a PCR.\n",
    "Pseudomonas GC content: [https://doi.org/10.1111/1462-2920.14130](https://doi.org/10.1111/1462-2920.14130)"
   ]
  },
  {
   "cell_type": "code",
   "execution_count": 4,
   "metadata": {},
   "outputs": [],
   "source": [
    "# to be coded.\n",
    "# computing of the annealing temperature, etc.\n",
    "# Probabilitstic cloning success rate."
   ]
  },
  {
   "cell_type": "markdown",
   "metadata": {},
   "source": [
    "## Genetic Engineering\n",
    "You need to identify the optimal promoter sequence for expression of you gene of interest. Read the following article to become an expert on sigma70 driven prokaryotic gene expression: [https://doi.org/10.3390/biom5031245](https://doi.org/10.3390/biom5031245).\n",
    "Test a couple of promoters, but be aware that each testing costs resources.\n",
    "\n",
    "The total length of the promoter must be 40 nt."
   ]
  },
  {
   "cell_type": "code",
   "execution_count": 3,
   "metadata": {},
   "outputs": [
    {
     "name": "stdout",
     "output_type": "stream",
     "text": [
      "Promoter sequence:  GCCCATTGACCCAAGAAAAGAGAATTTATATTATTGCACG\n",
      "GC-content:  0.375\n",
      "genetic distance to ref sequence:  0.425\n"
     ]
    }
   ],
   "source": [
    "myhost._Mutant__add_RandomPromoter()\n",
    "# TestPromoter = 'GCCCATTGACGCTGCCGTAGCGCTCCTATACCCTTGCACG'\n",
    "# myhost.add_promoter(TestPromoter)\n",
    "print('Promoter sequence: ',myhost.var_Promoter)\n",
    "print('GC-content: ', myhost.var_GCcontent)\n",
    "\n",
    "# the genetic distance to our reference sequence should not be larger than 0.4:\n",
    "from BioLabSimFun import Sequence_ReferenceDistance\n",
    "print('genetic distance to ref sequence: ', Sequence_ReferenceDistance(myhost.var_Promoter))\n",
    "# print('Biomass conc: {}'.format(myhost._Mutant__BiomassMax))"
   ]
  },
  {
   "cell_type": "markdown",
   "metadata": {},
   "source": [
    "### Expression Tests"
   ]
  },
  {
   "cell_type": "code",
   "execution_count": 4,
   "metadata": {},
   "outputs": [
    {
     "name": "stdout",
     "output_type": "stream",
     "text": [
      "Host: Pput\n",
      "Resources: 9\n",
      "Promoter: GCCCATTGACCCAAGAAAAGAGAATTTATATTATTGCACG\n",
      "GCcontent: 0.375\n",
      "PromoterStrength: 0\n"
     ]
    }
   ],
   "source": [
    "myhost.Make_MeasurePromoterStrength()\n",
    "myhost.show_BiotechSetting()\n",
    "# print('Promoter strength: ', myhost.Promoter_Strength)"
   ]
  },
  {
   "cell_type": "markdown",
   "metadata": {},
   "source": [
    "## Expression measurement"
   ]
  },
  {
   "cell_type": "code",
   "execution_count": 5,
   "metadata": {},
   "outputs": [
    {
     "name": "stdout",
     "output_type": "stream",
     "text": [
      "Host: Pput\n",
      "Resources: 8\n",
      "Promoter: GCCCATTGACCCAAGAAAAGAGAATTTATATTATTGCACG\n",
      "GCcontent: 0.375\n",
      "PromoterStrength: 0\n",
      "ExpressionRate: 0.0\n"
     ]
    }
   ],
   "source": [
    "myhost.Make_ProductionExperiment(38)\n",
    "myhost.show_BiotechSetting()\n"
   ]
  }
 ],
 "metadata": {
  "kernelspec": {
   "display_name": "Python 3",
   "language": "python",
   "name": "python3"
  },
  "language_info": {
   "codemirror_mode": {
    "name": "ipython",
    "version": 3
   },
   "file_extension": ".py",
   "mimetype": "text/x-python",
   "name": "python",
   "nbconvert_exporter": "python",
   "pygments_lexer": "ipython3",
   "version": "3.7.6"
  }
 },
 "nbformat": 4,
 "nbformat_minor": 4
}
