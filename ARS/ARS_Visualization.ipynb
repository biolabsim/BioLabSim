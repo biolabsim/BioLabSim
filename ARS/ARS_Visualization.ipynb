{
 "cells": [
  {
   "cell_type": "markdown",
   "id": "assigned-cooperation",
   "metadata": {},
   "source": [
    "# Visualization of Heat Maps from audience response system"
   ]
  },
  {
   "cell_type": "code",
   "execution_count": null,
   "id": "federal-dutch",
   "metadata": {},
   "outputs": [],
   "source": [
    "import matplotlib.pyplot as plt\n",
    "import numpy as np"
   ]
  },
  {
   "cell_type": "code",
   "execution_count": null,
   "id": "fancy-fitting",
   "metadata": {},
   "outputs": [],
   "source": [
    "# Loading data\n",
    "DataFile = 'ARS_Results_Block.csv'\n",
    "my_data = np.genfromtxt(DataFile, delimiter=';', skip_header=1)\n",
    "myX, myY, myF = my_data[:,0], my_data[:,1], my_data[:,2]\n",
    "\n",
    "# generating matrix with response frequencies\n",
    "ARS_Resp = np.zeros((11,16))\n",
    "# loop through the indices, in the file counting startet with 1, hence -1 for coordinates\n",
    "for myInd in zip(myY-1, myX-1, myF):\n",
    "    ARS_Resp[tuple(np.array(myInd[:2], dtype=int))] = myInd[2]\n"
   ]
  },
  {
   "cell_type": "code",
   "execution_count": null,
   "id": "union-scene",
   "metadata": {},
   "outputs": [],
   "source": [
    "np.round(np.arange(0,1.1,.2)[::-1]*100)/100"
   ]
  },
  {
   "cell_type": "code",
   "execution_count": null,
   "id": "smoking-round",
   "metadata": {},
   "outputs": [],
   "source": [
    "plt.imshow(ARS_Resp, cmap='gray_r', interpolation='nearest')\n",
    "plt.xticks(range(0,16,2),labels=np.round(np.arange(.4,.8,.05)*100)/100)\n",
    "# alphabetical list for y-axis\n",
    "# https://www.geeksforgeeks.org/python-ways-to-initialize-list-with-alphabets/\n",
    "# alph_list = []\n",
    "plt.yticks(range(0,11,2),labels=np.round(np.arange(0,1.1,.2)[::-1]*100)/100)\n",
    "# plt.grid()\n",
    "\n",
    "plt.show()"
   ]
  }
 ],
 "metadata": {
  "kernelspec": {
   "display_name": "biolabsim",
   "language": "python",
   "name": "biolabsim"
  },
  "language_info": {
   "codemirror_mode": {
    "name": "ipython",
    "version": 3
   },
   "file_extension": ".py",
   "mimetype": "text/x-python",
   "name": "python",
   "nbconvert_exporter": "python",
   "pygments_lexer": "ipython3",
   "version": "3.9.1"
  }
 },
 "nbformat": 4,
 "nbformat_minor": 5
}
