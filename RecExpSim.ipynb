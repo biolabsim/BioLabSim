{
 "cells": [
  {
   "cell_type": "markdown",
   "metadata": {},
   "source": [
    "# Corona Vaccine Recombinant Expression Simulation\n",
    "***\n",
    "\n",
    "## Background\n",
    "\n",
    "The Corona pandemic is paralyzing societies all over the world and people wait for vaccines to ease the situation. A number of vaccination strategies is based on protein subunits ([Jeyanathan et al., 2020](https://doi.org/10.1038/s41577-020-00434-6)), which are produced by bacterial recombinant expression ([He et al., 2017](https://doi.org/10.1139/cjm-2016-0528), [Strizova et al.,2021](https://doi.org/10.1159/000514225)). You are member of a small biotech company, specialized in recombinant expression systems and your task is to develop a bacterial host to produce the highest possible amount of viral protein subunits. The expression of the viral protein is controlled by important sequences in the promoter and the final vaccine production rate depends on reaching a high biomass by cultivating in optimal temperatures. Alas, you have only a limited amount of money. You have to aquire the starting material equipment and each experiment costs resources.\n",
    "\n",
    "<figure>\n",
    "    <img src=\"Figures/Jupyter/Jeyanathan_Covid19-Vaccines_20_Fig1.png\" width=\"500\">\n",
    "    <figcaption>The largest share of Corona vaccines use recombinantly expressed protein subunits (<a href='https://doi.org/10.1038/s41577-020-00434-6'>Jeyanathan et al., 2020</a>). </figcaption>\n",
    "</figure>\n",
    "\n",
    "In this project, selected steps of a biotechnological project for recombinant expressions are simulated. The experimental work in your biotech company is highly automated: you are setting the parameters of the experiments and focus on computational data analysis. The goal is to optimize the production rate of the protein subunits to be competitive compared to your peers. To achieve this goal, virtual experiments have to be performed to optimize growth conditions and promoter sequence for the production. Finally, a comparison will be performed how the GC-content of the promoter affects the promoter activity. The data analysis can be performed either separately with Excel, or with some guided coding steps within this script. \n",
    "\n",
    "You start with a budget of 10.000 EUR. The initial laboratory setup and each subsequent experiment is associated with an investment. To optimize your initial host-promoter combination towards more effective production, a number of 4-6 strains might be necessary. Initially, you decide on how much money to spend on the laboratory equipment, investing too little will result in a higher failure rate of experiments. Some steps are difficult to perform. The exact parameters for effective cloning are unknown and depend on various complex factors.\n",
    "\n",
    "|Initial Budget: 10.000 EUR|\n",
    "| --- |\n",
    "\n",
    "\n",
    "| Experiment | Cost in EUR |\n",
    "| --- | --- |\n",
    "| Equipment | 10-20% of budget |\n",
    "| Temperature growth | 100 |\n",
    "| Cloning | 200 |\n",
    "| Promoter Strength | 100 |\n",
    "| Production run | 500 |\n",
    "\n",
    "## Introduction to Jupyter Notebooks\n",
    "This simulation is based on a Jupyter Python Notebook. You just have to work through it from top to bottom. The Notebooks are composed of a sequence of cells that can be either text, like this introduction, or python code cells to be run. Code cells have a grey background, and after execution the output is shown directly beneath. A blue stripe on the left edge of the screen marks the currently active cell. More information on how to use Jupyter Notebooks are [here](https://medium.com/edureka/jupyter-notebook-cheat-sheet-88f60d1aca7). In general, two input modes exist: \n",
    "* Command mode: evaluation of code, `Escape` or click outside cell activates Command mode\n",
    "* Edit mode: writing into cells, `Enter` or double-click inside cell activates Edit mode\n",
    "\n",
    "Navigating in Jupyter:\n",
    "*  activate cell above/below: `arrow up/down keys` in Command mode.     \n",
    "*  execute cell: `Ctrl + Enter` in Command mode.\n",
    "*  hide/show navigation panel on the left: click on folder symbol or `Ctrl + b`\n",
    "*  here **`None`** designates places for user input\n",
    "\n",
    "A code cell can also be edited and executed multiple times. Next to the code cells in the upper left corner the status of the cell is displayed in square brackets. If you have not executed a cell yet, the brackets are empty. If the computer is currently executing the code, an small star appears there. If the cell has been executed, a number corresponding to the execution order of the cells is shown.\n",
    "\n",
    "The following information is important if you get stuck in the workflow or if you have changed the code to become dysfunctional. If the resources run out or you are unsatisfied with your choices, restart the kernel: click on Kernel in the top bar and select restart. All information on your strain and all you executions are resetted and you get a slightly different system, whose properties you have to find out again. If you have inserted your own code to the extend that the simulation is dysfunctional, or you have deleted original code accidentally and you wish to come back to the original state you have to delete the biolabsim folder. To do so, use the last cell in this notebook. You will have to shut down and reload the Jupyter Notebook instance as described in the last cell.\n",
    "\n",
    "The additional workbook named *2-Assistance.ipynb* contains guidance for some of the experiments. You can open it by double-click on the name in the left navigation panel. Then the notebook will open in a new window like you know it from a browser. To switch back to the original notebook, just select the other tab again or close the new one with the 'x'.     \n",
    "\n",
    "## Workflow\n",
    "\n",
    "**1 Set-up of simulation environment**\n",
    "\n",
    "**2 Lab setup**\n",
    " \n",
    " * *2.1 Choose your host organism*\n",
    " * *2.2 Choose Equipment investment*\n",
    " \n",
    "**3 Culture characterization**\n",
    " \n",
    " * *3.1 Experiment set-up*     \n",
    " * *3.2 Data analysis growth experiment*    \n",
    "\n",
    "**4 Promoter sequence selection**\n",
    " * *4.1 Promoter and expression experiments*\n",
    " * *4.2 Data analysis of promoter strength*\n",
    "\n",
    "**5 Evaluation by cross-group integration**\n",
    "\n",
    "## 1 Set-up of simulation environment\n",
    "Loading libraries and fixing visualization. No user input necessary."
   ]
  },
  {
   "cell_type": "code",
   "execution_count": null,
   "metadata": {},
   "outputs": [],
   "source": [
    "# Loading of important functionalities for the notebook:\n",
    "# Loading numpy, a library fo manipulation of numbers:\n",
    "import os\n",
    "import numpy as np\n",
    "# Loading matplotlib, a library for visualization:\n",
    "import matplotlib.pyplot as plt\n",
    "%matplotlib inline\n",
    "# Initialization, loading of all laboratory functionalities and stored models and information of the organisms:\n",
    "from BioLabSimFun import Mutant\n",
    "\n",
    "print('System ready')"
   ]
  },
  {
   "cell_type": "markdown",
   "metadata": {},
   "source": [
    "### 2 Lab setup\n",
    "\n",
    "In this stage, you decide on which host organism to use for your recombinant expression system and the investment to the laboratory equipment. You have the choice between two organisms for recombinant expression, namely *E. coli* (abbr. Ecol) and *P. putida* (abbr. Pput). A high investment in the laboratory equipment increases the probability of successfull experiments, \n",
    "\n",
    "The two most popular prokarytic organisms for biotechnology are *E. coli* and *P. putida*. *E. coli* is an intensely studied model organism, and allows easy manipulation and fast growth. *P. putida* is a soil bacterium with a high metabolic versatility, including xenobiotic degradation. It shows a very high robustness against extreme environmental conditions such as high temperature, extreme pH, or the presence of toxins or inhibiting solvents. \n",
    "\n",
    "Example: `myhost = Mutant('Pput')`\n",
    "\n",
    "**Resource cost:**\n",
    "* **Free** \n",
    "\n",
    "**Input:** \n",
    "* **`Mutant`: 'Ecol' or 'Pput' (string)**\n",
    "* **`BuyEquipment`: 1000-2000 Eur (10-20% of total budget, integer)**"
   ]
  },
  {
   "cell_type": "code",
   "execution_count": null,
   "metadata": {},
   "outputs": [],
   "source": [
    "# User input is required in the following code lines:\n",
    "\n",
    "# To choose the host organism replace None in the 'Mutant'-command with the abbreviation:\n",
    "myhost = Mutant(None)\n",
    "\n",
    "# Enter here the investment for the equipment, higher investment results in fewer experiment failures\n",
    "myhost.BuyEquipment(None)\n",
    "\n",
    "# host organism and remaining resources are displayed:\n",
    "myhost.show_BiotechSetting()"
   ]
  },
  {
   "cell_type": "markdown",
   "metadata": {},
   "source": [
    "## 3 Culture characterization\n",
    "\n",
    "### 3.1  Experiment set-up\n",
    "You have to identify the optimal growth temperature, the corresponding maximum growth rate and the maximum biomass of your strain by cultivating the cells at different temperatures. For each program start the optimal temperature and the maximum biomass is randomly initiated. The optimal temperature is sampled from the range of temperatures for **mesophilic microorganisms** within 20-40°C (see page 23, [Biotechnology: An illustrated primer](https://application.wiley-vch.de/books/sample/3527335153_c01.pdf)). Occasionally, a culture will not grow at all and therefore it might be helpful to measure temperature replicates. However, be aware that each cultivation costs resources.     \n",
    "\n",
    "The results from the temperature experiments are stored in a comma separated value (csv) file called `Strain_characterization_experiments_1.csv`. You can find the csv-file in the left navigation panel within the `biolabsim` folder. For quick inspection double click the csv-file, for downloading and subsequent analysis in Excel right click on the file name and choose 'Download'.        \n",
    "\n",
    "If you want to do another set of experiments afterwards, or if you want to repeat individual experiments, you should make sure that you change the ID of your set of experiments (experiments_ID), otherwise results already generated may be overwritten. By default the experiments_ID has the value `1`, as is shown in the code cell below. \n",
    "\n",
    "Example: `temperature = np.array([22,24,26,28,30,32,34,36,38])`\n",
    "\n",
    "**Resource cost:**\n",
    "* **100 EUR for each Experiment**\n",
    "\n",
    "**Input:**\n",
    "* **`temperatures`: Temperature array (integer list)**\n",
    "* **`experiments_ID`: variable name (integer)**"
   ]
  },
  {
   "cell_type": "code",
   "execution_count": null,
   "metadata": {},
   "outputs": [],
   "source": [
    "# User input is required in the following code lines:\n",
    "\n",
    "# When you have thought about the temperatures you want to test, type them one by one into the following 'temperatures'-vector by replacing 'None' with the vector as shown in the example above.\n",
    "temperatures = np.array(None)\n",
    "# If you want to change the experiemnts_ID, replace 1 with another number. If this is not the case, no user input is required here.\n",
    "experiments_ID = 1 # Definition of an ID for the set of experiments\n",
    "\n",
    "\n",
    "# No user input necessary in all subsequent lines of code:\n",
    "\n",
    "# cultivations of your strain at the different temperatures one by one:\n",
    "myhost.Make_TempGrowthExp(temperatures, experiments_ID)\n",
    "\n",
    "# host organism and remaining resources are displayed:\n",
    "myhost.show_BiotechSetting()"
   ]
  },
  {
   "cell_type": "markdown",
   "metadata": {},
   "source": [
    "### 3.2 Data analysis growth experiment\n",
    "\n",
    "The data of the experiment was stored in a coma-separated-value (`csv`) file in the local adress. The data has to be analysed to extract optimal temperature, growth rate and maximum biomass. You have the choice to either analyse the data via a spreadsheet application on your local computer, e.g. Excel, or via a programming approach with Python.\n",
    "\n",
    "In Excel you have to import the csv-file to get the data into separate columns. You then apply a natural logarithm to the data and plot the value versus time. The plot allows to extract the temperature supporting fastest growth with highest slope and the time until which the increase of logarithmic biomass is linear, i.e. it displays exponential growth. Then you apply a linear regression on the linear section of the fastest logarithmic biomass increase to extract the growth rate as the regression slope. You determine the maximum biomass by averaging over a number of measurements on the plateau of the measured biomass (real values, not logarithm).\n",
    "\n",
    "For the Python approach, there are scambled solutions of lines of code which you have to organize correctly. Even without programming experience this should take an equivalent time compared to the Excel approach. Please record the time it takes for you to conduct the data analysis and proceed to the item `Promoter sequence selection`.\n",
    "\n",
    "#### 3.2.2 Python based growth analysis\n",
    "\n",
    "In the following, data analysis via Python can be performed. The procedure is separated in two steps: 1. visualization of the results, 2. extracting growth rate and maximum biomass for the optimal temperature. For each process the corresponding lines of code are provided in the cell (or interactive in [this web-page](http://parsons.problemsolving.io/puzzle/72e246b0b1e14325b062625296a5f180), but you have to arrange them in right order.\n",
    "\n",
    "##### 3.2.2.1 Visual analysis of exponential growth\n",
    "\n",
    "The visual indication of exponential growth is a linear slope in the plot of the logarithm of biomass versus time. The following commands are involved (scrambled order):\n",
    " * assign variables for time and biomass data\n",
    " * loading of the csv-file into a numpy data array ([genfromtxt](https://stackoverflow.com/questions/3518778/how-do-i-read-csv-data-into-a-record-array-in-numpy))\n",
    " * plotting biomass versus time ([plt.scatter](https://matplotlib.org/2.0.2/users/pyplot_tutorial.html))\n",
    " * store natural logarithm of the biomass in new variable ([np.log](https://numpy.org/doc/stable/reference/generated/numpy.log.html))"
   ]
  },
  {
   "cell_type": "code",
   "execution_count": null,
   "metadata": {},
   "outputs": [],
   "source": [
    "# Rearrange the correct code sequence for plotting the growth curves with the logarithm of biomass.\n",
    "# %load Snippets/snip_GrowthPlot.py \n",
    "Time, Biomass = my_data[:,0], my_data[:,1:]\n",
    "DataFile = 'Strain_characterization_1.csv'\n",
    "LnBiomass = np.log(Biomass)\n",
    "[plt.scatter(Time, X, label=Exp) for Exp,X in enumerate(LnBiomass.T)]\n",
    "plt.legend(bbox_to_anchor=(1.05, 1), loc='upper left')\n",
    "my_data = np.genfromtxt(DataFile, delimiter=',', skip_header=1)\n"
   ]
  },
  {
   "cell_type": "markdown",
   "metadata": {},
   "source": [
    "##### 3.2.2.2 Determine maximum biomass and growth rate\n",
    "\n",
    "After having the graphical insight, select the optimal temperature with fastest growth using the experiment index number in Python. Be carefull, Python starts counting with zero! Thus, the first experiment has the index `0`. Also, extract from the half-logarithmic plot the time range of linear growth as integer number (e.g. `10`h). This value will be used to estimate the growth rate via linear regression. The process is described in the following scrambled lines:\n",
    " * extract the mean biomass after the linear slope as max biomass ([np.mean](https://numpy.org/doc/stable/reference/generated/numpy.mean.html))\n",
    " * identify the latest time (integer number) of linear slope\n",
    " * conduct linear regression in the linear region ([np.polyfit](https://numpy.org/doc/stable/reference/generated/numpy.polyfit.html))\n",
    " \n",
    "Like in the previous coding example, [this link](http://parsons.problemsolving.io/puzzle/23d6118f9a4e4e83b29eb9eac7f8ebfb) contains the scambled code lines, that you have to bring in right order. Note, that there are two correct versions of command sequences, however, the web interface accepts only one sequence as correct. \n",
    "\n",
    "**Input:**\n",
    "* **1st None: Index of Optimum Temperature (integer)**\n",
    "* **2nd None: max time in h for linear slope (integer)**"
   ]
  },
  {
   "cell_type": "code",
   "execution_count": null,
   "metadata": {},
   "outputs": [],
   "source": [
    "# Rearrange the correct code sequence for calculating the growth and biomass parameters here.\n",
    "# For None enter the corresponding values of experiment index with fastest growth and latest time of linear growth (integer number).\n",
    "# %load Snippets/snip_GrowthPars.py\n",
    "Idx_optT, Linear_optT = None, None \n",
    "MB = np.mean(Biomass[Linear_optT:,Idx_optT])\n",
    "print('max biomass: {:.0f}\\nmax growth rate: {:.2f}'.format(MB,GR[0]))\n",
    "GR = np.polyfit(Time[:Linear_optT],LnBiomass[:Linear_optT,Idx_optT],1)\n"
   ]
  },
  {
   "cell_type": "markdown",
   "metadata": {},
   "source": [
    "## 4 Promoter sequence selection\n",
    "In bacteria, the initiation of transcription at promoters requires the sigma factor to bind the RNA polymerase core to form the holoenzyme. Sigma factors recognize and open the promoter DNA and perform the initial steps in RNA synthesis. Particularly important DNA recognition sites are the -10 box and -35 box positions. An important bacterial sigma factor is sigma70 and directs the bulk of transcription during active growth [Paget, 2015](https://doi.org/10.3390/biom5031245). Two sites in the promoter are particularly important to determine the transcription strength: -35 and -10 boxes. The boxes are conserved sequences with a defined number of nucleotides upstream of the transcription start site. A common nucleotide sequence for the -35 box is: `TTGACA`, and for the -10 box: `TATAAT`. \n",
    "\n",
    "In this simulation, the total length of the promoters must be 40 nt. The following template is a starting point for deriving promoters. Replace the **X** with nucleotides and identify the best sequence (hit: the six **X** at start and end represent -35 and -10 box, respectively):\n",
    "\n",
    " * GCCCA**XXXXXX**A**X**GC**XXX**C**X**CGT**XXX**GG**XXXXXX**TGCACG\n",
    "\n",
    "### 4.1 Promoter and expression experiments\n",
    "\n",
    "#### 4.1.1 Promoter choice and cloning\n",
    "To introduce the promoter into your organism, you have to conduct a cloning and design a suitable primer for each promoter. First create the primer that is complementary to your promoter sequences. The primers should always start at the first nucleotide of the promoter sequences. You have to identify the optimal primer length, which can vary from 15-30 nucleotides. Because the primer will still work if it deviates by 5 nucleotides, you can make broad jumps to test the right primer length.\n",
    "\n",
    "Calculate the melting temperature of the primer according to the formula [genelink manual](https://www.genelink.com/Literature/ps/R26-6400-MW.pdf):\n",
    " * Tm = 2(A+T) + 4(C+G)\n",
    "\n",
    "**Important note/warning:** \n",
    "The success of cloning is a probabilistic event, even with the right conditions, it might fail in a first trial but succeed in a second identical trial. Note the meaning of the following failure reports:\n",
    " * Cloning failed: \n",
    "   * promoter deviates from 40nt?\n",
    "   * primer fully complementary to promoter and starts with the first nucleotide?\n",
    "   * primer length incorrect?\n",
    "   * melting temperature incorrect?\n",
    "   * just try two more executions to rule out random failure\n",
    " * Bad equipment:\n",
    "   * Cloning failed because of bad equipment, just try more executions\n",
    "   \n",
    "**Resource cost:** \n",
    "* **200 EUR each cloning experiment**\n",
    "\n",
    "**Input:**\n",
    "* **`Clone_ID`: small identifier for the sequence (string)**\n",
    "* **`Promoter1`: 40nt from [ACGT] (string)**\n",
    "* **`Primer1`: 15-30nt complementary to sequence (string)**\n",
    "* **`Tm`: number (integer)**"
   ]
  },
  {
   "cell_type": "code",
   "execution_count": null,
   "metadata": {},
   "outputs": [],
   "source": [
    "# For each cloning, the Clone_ID, the promoter sequence, the corresponding primer and the melting temperature must be given.\n",
    "\n",
    "# The following lines of code are an example of these variables.\n",
    "# To be able to clone further sequences, you have to define another set of all variables including the Clone_ID for each cloning.\n",
    "# To define a further Clone_ID you for example have to replace the number 1 in Clone_ID1 and Clone_1 with a different number.\n",
    "Clone_ID1 = 'Clone_1'\n",
    "Promoter1 = None\n",
    "Primer1 =   None\n",
    "Tm =  None # melting temperature\n",
    "\n",
    "# cloning:\n",
    "myhost.Make_Cloning(Clone_ID1, Promoter1, Primer1, Tm)\n",
    "\n",
    "\n",
    "# No user input necessary in all subsequent lines of code:\n",
    "# displays the generated clones and their properties:\n",
    "myhost.show_Library()\n",
    "# host organism and remaining resources are displayed:\n",
    "myhost.show_BiotechSetting()"
   ]
  },
  {
   "cell_type": "markdown",
   "metadata": {},
   "source": [
    "#### 4.1.2 Measurement of the promoter strength\n",
    "The promoter strength represents expression per cell. Later, it is multiplied by the growth rate and the biomass concentration in order to determine the expression rate. In the following experiment the promoter strength is determined. If an incorrect sequence is used, for example containing typing errors, an error may occur when measuring the promoter strength and also when measuring the expression rate. The error message is: \"Key Error 'X'\".\n",
    "\n",
    "**Resource cost:**\n",
    "* **100 EUR each experiment**\n",
    "\n",
    "**Input:**\n",
    "* **In `Make_MeasurePromoterStrength`: Clone_ID variable name (variable, string)**"
   ]
  },
  {
   "cell_type": "code",
   "execution_count": null,
   "metadata": {},
   "outputs": [],
   "source": [
    "# User input is required in the following code lines:\n",
    "\n",
    "# To determine the promoter strength replace None with the Clone_ID variable name (for example Clone_ID1) or the corresponding name of the clone like for example 'Clone_1'.\n",
    "myhost.Make_MeasurePromoterStrength(None)\n",
    "\n",
    "\n",
    "# No user input necessary in all subsequent lines of code:\n",
    "\n",
    "# displays the generated clones,their properties and their performance:\n",
    "myhost.show_Library()\n",
    "# host organism and remaining resources are displayed:\n",
    "myhost.show_BiotechSetting()"
   ]
  },
  {
   "cell_type": "markdown",
   "metadata": {},
   "source": [
    "#### 4.1.3 Measurement of the final vaccine expression rate\n",
    "Now that you have tested some promoter sequences, perform the production experiments with the promoter sequence (Clone_ID) and use the optimal growth temperature, the maximum growth rate and the maximum biomass from the strain growth characterization task. \n",
    "\n",
    "Finally, the experimental results are exported to a csv file for further data analysis. The function works without further user input. The output file is `Production_Experiments.csv`.\n",
    "\n",
    "**Resources:**\n",
    "* **500 EUR each experiment**\n",
    "\n",
    "**Input:**\n",
    "* **in `Make_ProductionExperiment`: Clone_ID (string), Opt. Temp (int), Opt. Growth rate (float), Opt. Biomass (int)**"
   ]
  },
  {
   "cell_type": "code",
   "execution_count": null,
   "metadata": {},
   "outputs": [],
   "source": [
    "# To perform the production experiment replace None with the Clone_ID variable name of your best performing clone, the optimal growth temperature, the corresponding maximum growth rate and the maximum biomass (in this order).\n",
    "myhost.Make_ProductionExperiment(None, None, None, None)\n",
    "\n",
    "\n",
    "# No user input necessary in all subsequent lines of code:\n",
    "\n",
    "# displays the generated clones, their properties and their performance:\n",
    "myhost.show_Library()\n",
    "# host organism and remaining resources are displayed:\n",
    "myhost.show_BiotechSetting()\n",
    "# Export data to csv file for analysis\n",
    "myhost.ExportExperiments()"
   ]
  },
  {
   "cell_type": "markdown",
   "metadata": {},
   "source": [
    "## 4.2 Data analysis of promoter strength\n",
    "\n",
    "The biotechnological goal is the construction of a host strain with high productivity. Moreover, scientifically we like to investigate the relationship between promoter strength and GC content. First, you will examine your own data in a plot for correlation, subsequently, all groups will enter their results for the species specific promoter strength versus GC content plot in an online plot. The online plot shows the results of all groups and allows a more solid conclusion.\n",
    "\n",
    "\n",
    "### 4.2.1 Visualization of the results\n",
    "\n",
    "Summarize your results from the laboratory workflow in a graph by plotting the promoter strengths of the final relative expression rates against the respective GC contents of the promoter sequences. You can perform the data analysis in Excel by importing the data file `Production_Experiments.csv` and generating a scatter plot of relative expression rate versus GC-content. Alternatively, you can use the Python code with scrambled lines (interactive web-site: [in this link](http://parsons.problemsolving.io/puzzle/7cd06ab7e8c94c7eba31bc50ac07a0a7)).\n",
    "\n",
    "Enter the correct code sequence in the cell below. The code cell that extracts the data columns for GC content and relative expression rate is missing the column number for the corresponding data. Add these column number in the fields labeled with `None` and note that Python starts counting from zero, thus the first column has index `0`.\n",
    "\n",
    "**Input:**\n",
    "* **`my_data`: GC-content column number (integer)**\n",
    "* **`my_data`: expression rate column number (integer)**"
   ]
  },
  {
   "cell_type": "code",
   "execution_count": null,
   "metadata": {},
   "outputs": [],
   "source": [
    "# %load Snippets/rev_ExprPlot.py\n",
    "# Insert the correct code sequence for plotting in this cell.\n",
    "# %load Snippets/snip_ExprPlot.py \n",
    "my_data = np.genfromtxt(DataFile, delimiter=',', skip_header=1).reshape(-1,7)\n",
    "DataFile = 'Production_Experiments.csv'\n",
    "GCcont, Express = my_data[:,None], my_data[:,None]\n",
    "plt.gca().set(xlabel='GC-cont', ylabel='rel. expression', xlim=(.4,.8), ylim=(0,1))\n",
    "plt.savefig('RelExpress_Vs_GCcont_allProm.png', format='png')\n",
    "plt.plot(GCcont,Express, linestyle = '--', marker = 'x', color = 'grey')\n"
   ]
  },
  {
   "cell_type": "markdown",
   "metadata": {},
   "source": [
    "### 5 Evaluation by cross-group integration\n",
    "\n",
    "To get a more statistical sound result on the correlation between promoter strength and GC content all groups enter their results in an online feedback system: \n",
    "\n",
    "https://arsnova.eu/mobile/#id/20126509\n",
    "\n",
    "Enter the your expression rates from the visualization task before by clicking on the corresponding grid cell. Once all groups have entered their results, you can check the distribution of all promoter strength versus GC content measurements by accessing the questions again and clicking on the orange colored bar chart button on the upper right.\n",
    "\n"
   ]
  },
  {
   "cell_type": "markdown",
   "metadata": {},
   "source": [
    "## Feedback\n",
    "\n",
    "Please fill out the evaluation form prepared by the RWTH to help us to improve the simulation:\n",
    " * [Feedback Evaluation](https://www.soscisurvey.de/biolabsim/)"
   ]
  },
  {
   "cell_type": "markdown",
   "metadata": {},
   "source": [
    "## Delete local BioLabSim instance\n",
    "\n",
    "Execute the code below to delete a local BioLabSim instance. Do this if you have changed the code and you want to get back the original version. You will have to load a new BioLabSim simulation. The code is commented by default, activate the code by removing the `# ` in the first line. To enable the reloading of the initial BioLabSim-Version, you have to go through the following sequence:\n",
    "1.  click on `File/Datei` in the Jupyter Notebook Window\n",
    "2.  click on `Hub Control Panel` (second from below)\n",
    "3.  click on `Stop My Server` and wait a little for the process to finish\n",
    "4.  click on `Start My Server`\n",
    "5.  click on `Launch Server`\n",
    "6.  select `[BioLabSim] Biotechnologie` (slightly below page middle) \n",
    "7.  click on start on page bottom"
   ]
  },
  {
   "cell_type": "code",
   "execution_count": null,
   "metadata": {},
   "outputs": [],
   "source": [
    "# !cd ..; rm -rf biolabsim\n",
    "mylist = os.listdir()\n",
    "if '1-Laboratory.ipynb' not in mylist:\n",
    "    print('BioLabSim deleted')\n",
    "else:\n",
    "    print('BioLabSim available')\n"
   ]
  },
  {
   "cell_type": "markdown",
   "metadata": {},
   "source": [
    "#### Package dependencies"
   ]
  },
  {
   "cell_type": "code",
   "execution_count": null,
   "metadata": {},
   "outputs": [],
   "source": [
    "%load_ext watermark\n",
    "%watermark -v -m -p IPython,ipywidgets,matplotlib,numpy,pandas,openpyxl,sklearn,scipy,joblib,watermark"
   ]
  }
 ],
 "metadata": {
  "kernelspec": {
   "display_name": "biolabsim_py38",
   "language": "python",
   "name": "biolabsim_py38"
  },
  "language_info": {
   "codemirror_mode": {
    "name": "ipython",
    "version": 3
   },
   "file_extension": ".py",
   "mimetype": "text/x-python",
   "name": "python",
   "nbconvert_exporter": "python",
   "pygments_lexer": "ipython3",
   "version": "3.8.5"
  }
 },
 "nbformat": 4,
 "nbformat_minor": 4
}
