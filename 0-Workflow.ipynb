{
 "cells": [
  {
   "cell_type": "markdown",
   "metadata": {},
   "source": [
    "# Workflow for a Simulation of Recombinant Protein Expression\n",
    "\n",
    "## Introduction\n",
    "\n",
    "This is an initial version of the Biotechnology Laboratory Simulator. The goal of this implementation is to maximize production rate of a recombinant protein. The workflow includes cloning,  promoter sequence selection, testing optimal cultivation conditions.\n",
    "\n",
    "You have to choose a host organism first.\n",
    "\n",
    "## 1. Cloning\n",
    "\n",
    "## 2. Cultivation\n",
    "\n",
    "## 3. Expression measurement"
   ]
  },
  {
   "cell_type": "code",
   "execution_count": null,
   "metadata": {},
   "outputs": [],
   "source": [
    "Start_BioLabSim"
   ]
  }
 ],
 "metadata": {
  "kernelspec": {
   "display_name": "Python 3",
   "language": "python",
   "name": "python3"
  },
  "language_info": {
   "codemirror_mode": {
    "name": "ipython",
    "version": 3
   },
   "file_extension": ".py",
   "mimetype": "text/x-python",
   "name": "python",
   "nbconvert_exporter": "python",
   "pygments_lexer": "ipython3",
   "version": "3.7.3"
  }
 },
 "nbformat": 4,
 "nbformat_minor": 4
}
