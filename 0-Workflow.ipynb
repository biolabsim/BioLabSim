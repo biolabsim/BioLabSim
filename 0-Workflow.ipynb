{
 "cells": [
  {
   "cell_type": "markdown",
   "metadata": {},
   "source": [
    "# Workflow for a Simulation of Recombinant Protein Expression\n",
    "\n",
    "## Introduction\n",
    "\n",
    "This is an initial version of the Biotechnology Laboratory Simulator. The goal of this implementation is to maximize production rate of a recombinant protein. The workflow includes cloning,  promoter sequence selection, testing optimal cultivation conditions.\n",
    "\n",
    "You have to choose a host organism first.\n",
    "\n",
    "## 1. Cloning\n",
    "\n",
    "## 2. Cultivation\n",
    "\n",
    "## 3. Expression measurement"
   ]
  },
  {
   "cell_type": "code",
   "execution_count": null,
   "metadata": {},
   "outputs": [],
   "source": [
    "Start_BioLabSim"
   ]
  },
  {
   "cell_type": "markdown",
   "metadata": {},
   "source": [
    "Expression rate as a function of growth rate and promoter strength. The aim is to find out how both influencing variables are in the same order of magnitude.     \n",
    "assumption: The values of the promoter strength (y) are in range from 0.001 to 0.025 in case of *P. putida* respectively in range from 0.001 to 0.05 in case of *E. coli*.    \n",
    "The values of the growth rate (x) are in range from 0 to 1 on the basis of the standardisation.    \n",
    "The factor was determined using the values for *P. putida*. Accordingly, for *E. coli* the values for promoter strength and expression rate should be twice as high at the end."
   ]
  },
  {
   "cell_type": "code",
   "execution_count": null,
   "metadata": {},
   "outputs": [],
   "source": [
    "import numpy as np\n",
    "import matplotlib.pyplot as plt\n",
    "from mpl_toolkits.mplot3d import Axes3D\n",
    "\n",
    "x = np.linspace(0, 1, 50)\n",
    "\n",
    "ymin = 20*np.linspace(0.001, 0.025, 50)\n",
    "ym = 40*np.linspace(0.001, 0.025, 50) # factor = 1:0,025, so that x and y are in the same order of magnitude\n",
    "ymax = 60*np.linspace(0.001, 0.025, 50)\n",
    "# factor was adjusted again in the script, otherwise scatter was too big\n",
    "\n",
    "X, Ymin = np.meshgrid(x, ymin)\n",
    "X, Ym = np.meshgrid(x, ym)\n",
    "X, Ymax = np.meshgrid(x, ymax)"
   ]
  },
  {
   "cell_type": "code",
   "execution_count": null,
   "metadata": {},
   "outputs": [],
   "source": [
    "# 3D plot to to find out the connection and visualize the influence of the factors\n",
    "fig = plt.figure(figsize = (6,6), dpi = 120)\n",
    "ax = plt.axes(projection='3d')\n",
    "\n",
    "Z = np.multiply(X,Ymin)\n",
    "ax.contour3D(X, Ymin, Z, 20, cmap='binary')\n",
    "Z = np.multiply(X,Ym)\n",
    "ax.contour3D(X, Ym, Z, 20)\n",
    "Z = np.multiply(X,Ymax)\n",
    "ax.contour3D(X, Ymax, Z, 20, cmap='inferno')\n",
    "\n",
    "ax.set_xlabel('growth rate')\n",
    "ax.set_ylabel('promoter strength')\n",
    "ax.set_zlabel('expression rate');"
   ]
  },
  {
   "cell_type": "code",
   "execution_count": null,
   "metadata": {},
   "outputs": [],
   "source": [
    "'''As can be seen in the plot, the factor by which the promoter strength is multiplied does not change\n",
    "the influence of this strength.\n",
    "The factor can be used to influence the range of the promoter strength and thus the range\n",
    "of the final expression rate.'''"
   ]
  }
 ],
 "metadata": {
  "kernelspec": {
   "display_name": "Python 3",
   "language": "python",
   "name": "python3"
  },
  "language_info": {
   "codemirror_mode": {
    "name": "ipython",
    "version": 3
   },
   "file_extension": ".py",
   "mimetype": "text/x-python",
   "name": "python",
   "nbconvert_exporter": "python",
   "pygments_lexer": "ipython3",
   "version": "3.7.6"
  }
 },
 "nbformat": 4,
 "nbformat_minor": 4
}
