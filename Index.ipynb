{
 "cells": [
  {
   "cell_type": "markdown",
   "metadata": {},
   "source": [
    "<img src='Figures/Logos/iAMB-rwth-logo.png' width=600>\n",
    "\n",
    "\n",
    "\n",
    "<h1 align=\"center\"> BioLabSim Powered Simulation Notebooks</h1> \n",
    "<h2 align=\"center\"> Ulf Liebal, Rafael Schimassek, Lars Blank </h2>\n",
    "<h3 align=\"center\"> <a href='ulf.liebal@rwth-aachen.de'> ulf.liebal@rwth-aachen.de </a> </h3>\n",
    "\n",
    "---\n",
    "\n",
    "## Introduction\n",
    "\n",
    "The following list shows educational notebooks that run the BioLabSim Python environment for cellular simulations. \n",
    " - RWTHjupyter link: [![](https://jupyter.pages.rwth-aachen.de/documentation/images/badge-launch-rwth-jupyter.svg)](https://jupyter.rwth-aachen.de/hub/spawn?profile=biolabsim)\n",
    "**Additional material**\n",
    " * Why Jupyter is data scientists’ computational notebook of choice ([Nature 563, 145-146, 2018](https://doi.org/10.1038/d41586-018-07196-1)) \n",
    " * Jupyter [tutorial #1](https://nbviewer.jupyter.org/github/jupyter/notebook/blob/master/docs/source/examples/Notebook/Running%20Code.ipynb) and [tutorial #2](https://jupyter.org/try)\n",
    " * Python basics [cheat sheet](https://i.redd.it/ahetz5jtbzq11.jpg)\n",
    "\n",
    "## Available workflows\n",
    "|Name |Field |Content |Addition Material|Time, h|Developer|\n",
    "|:-|:-|:-|:-|:-|:-|\n",
    "|[Notebook Introduction](./PythonIntroduction.ipynb)|Programming|A tutorial to explore the important features of Jupyter Notebooks.|[Introduction to Jupyter Notebooks](https://mhasoba.github.io/TheMulQuaBio/notebooks/Appendix-JupyIntro.html)|0.5|Stephan Palkovits|\n",
    "|[RecExpSim](./RecExpSim.ipynb)|Genetics|Simulation of srecombinant protein expression and data analyses, including growth characterization, promoter sequence selection, cloning and expression.|$\\cdot$ Propterties of mesophilic organisms [overview](https://application.wiley-vch.de/books/sample/3527335153_c01.pdf) (p. 18)<br>$\\cdot$Bacterial promoter architecture [review](https://doi.org/10.3390/biom5031245) (-10 and -35 box)<br>$\\cdot$GC-content [calculations](https://www.genelink.com/Literature/ps/R26-6400-MW.pdf)|3h|[Ulf Liebal](https://www.iamb.rwth-aachen.de/cms/iamb/Das-Institut/Team/Gruppe-Blank/Gruppenleitung/~ivuv/Ulf-Liebal/lidx/1/)<br>Iris Broderius|\n",
    "|[GSMM+FBA_Start](./GSMM+FBA_Start.ipynb)|Metabolism|Part 1: Introduction to genome scale model constraint based and reconstruction analysis (COBRA). Loading and investigating existing models||0.5|[Ulf Liebal](https://www.iamb.rwth-aachen.de/cms/iamb/Das-Institut/Team/Gruppe-Blank/Gruppenleitung/~ivuv/Ulf-Liebal/lidx/1/)<br>Brigida Fabry|\n",
    "|[GSMM+FBA_ModifyModel](./GSMM+FBA_ModifyModel.ipynb)|Metabolism|Part 2: Modifying existing models||0.5|[Ulf Liebal](https://www.iamb.rwth-aachen.de/cms/iamb/Das-Institut/Team/Gruppe-Blank/Gruppenleitung/~ivuv/Ulf-Liebal/lidx/1/)<br>Brigida Fabry|\n",
    "|[GSMM+FBA_YieldsMutants](./GSMM+FBA_YieldsMutants.ipynb)|Metabolism|Part 3: Analysis of models, FBA.||1|[Ulf Liebal](https://www.iamb.rwth-aachen.de/cms/iamb/Das-Institut/Team/Gruppe-Blank/Gruppenleitung/~ivuv/Ulf-Liebal/lidx/1/)<br>Brigida Fabry|\n",
    "|[GSMM+FBA_GrowthCorr](./GSMM+FBA_OpolGrowthCorr.ipynb)|Metabolism|Part 4: Model growth correlation and visualization.||1|[Ulf Liebal](https://www.iamb.rwth-aachen.de/cms/iamb/Das-Institut/Team/Gruppe-Blank/Gruppenleitung/~ivuv/Ulf-Liebal/lidx/1/)"
   ]
  },
  {
   "cell_type": "markdown",
   "metadata": {},
   "source": [
    "#### Package dependencies"
   ]
  },
  {
   "cell_type": "code",
   "execution_count": 2,
   "metadata": {},
   "outputs": [
    {
     "name": "stdout",
     "output_type": "stream",
     "text": [
      "The watermark extension is already loaded. To reload it, use:\n",
      "  %reload_ext watermark\n",
      "Python implementation: CPython\n",
      "Python version       : 3.9.9\n",
      "IPython version      : 7.19.0\n",
      "\n",
      "IPython   : 7.19.0\n",
      "ipywidgets: 7.6.3\n",
      "matplotlib: 3.5.0\n",
      "numpy     : 1.19.5\n",
      "pandas    : 1.2.1\n",
      "openpyxl  : 3.0.6\n",
      "sklearn   : 0.0\n",
      "scipy     : 1.6.0\n",
      "joblib    : 1.0.0\n",
      "zipfile   : unknown\n",
      "watermark : 2.1.0\n",
      "\n",
      "Compiler    : GCC 9.4.0\n",
      "OS          : Linux\n",
      "Release     : 5.4.0-94-generic\n",
      "Machine     : x86_64\n",
      "Processor   : x86_64\n",
      "CPU cores   : 8\n",
      "Architecture: 64bit\n",
      "\n"
     ]
    }
   ],
   "source": [
    "%load_ext watermark\n",
    "%watermark -v -m -p IPython,ipywidgets,matplotlib,numpy,pandas,openpyxl,sklearn,scipy,joblib,zipfile,watermark"
   ]
  }
 ],
 "metadata": {
  "kernelspec": {
   "display_name": "iambjudas",
   "language": "python",
   "name": "iambjudas"
  },
  "language_info": {
   "codemirror_mode": {
    "name": "ipython",
    "version": 3
   },
   "file_extension": ".py",
   "mimetype": "text/x-python",
   "name": "python",
   "nbconvert_exporter": "python",
   "pygments_lexer": "ipython3",
   "version": "3.9.9"
  }
 },
 "nbformat": 4,
 "nbformat_minor": 5
}
