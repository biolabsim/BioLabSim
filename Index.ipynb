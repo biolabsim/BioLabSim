{
 "cells": [
  {
   "cell_type": "markdown",
   "id": "hundred-shopping",
   "metadata": {},
   "source": [
    "<img src='Figures/iAMB-rwth-logo.png' width=600>\n",
    "\n",
    "\n",
    "\n",
    "<h1 align=\"center\"> BioLabSim Powered Simulation Notebooks</h1> \n",
    "<h2 align=\"center\"> Ulf Liebal, Rafael Schimassek, Lars Blank </h2>\n",
    "<h3 align=\"center\"> <a href='ulf.liebal@rwth-aachen.de'> ulf.liebal@rwth-aachen.de </a> </h3>\n",
    "\n",
    "---\n",
    "\n",
    "## Introduction\n",
    "\n",
    "The following list shows educational notebooks that run the BioLabSim Python environment for cellular simulations. \n",
    "\n",
    "### RecExpSim\n",
    "RecExpSim is a simulation of selected steps in recombinant protein expression and the associated data analyses. The simulated experiments are strain characterization of growth parameters (optimal temperature, growth rate and maximum biomass), selection of promoter sequences, cloning steps, and evaluation of final expression strength.\n",
    "\n",
    " - Internal link: [RecExpSim](./RecExpSim.ipynb)\n",
    " - RWTHjupyter link: [![](https://jupyter.pages.rwth-aachen.de/documentation/images/badge-launch-rwth-jupyter.svg)](https://jupyter.rwth-aachen.de/hub/spawn?profile=biolabsim)\n",
    " - Duration: 3h\n",
    "\n",
    "<figure>\n",
    "    <img src=\"Figures/RecExpSim_Vac-Steps.png\" width=\"500\">\n",
    "    <figcaption>Simulation of data processing in recombinant protein expression for vaccine production. </figcaption>\n",
    "</figure>\n",
    "\n",
    "**Additional material**\n",
    " * Why Jupyter is data scientists’ computational notebook of choice ([Nature 563, 145-146, 2018](https://doi.org/10.1038/d41586-018-07196-1)) \n",
    " * Jupyter [tutorial #1](https://nbviewer.jupyter.org/github/jupyter/notebook/blob/master/docs/source/examples/Notebook/Running%20Code.ipynb) and [tutorial #2](https://jupyter.org/try)\n",
    " * Python basics [cheat sheet](https://i.redd.it/ahetz5jtbzq11.jpg)\n",
    " * Propterties of mesophilic organisms [overview](https://application.wiley-vch.de/books/sample/3527335153_c01.pdf) (esp. p. 18 of the pdf)\n",
    " * Bacterial promoter architecture [review](https://doi.org/10.3390/biom5031245) (relevant are -10 and -35 box)\n",
    " * GC-content [calculations](https://www.genelink.com/Literature/ps/R26-6400-MW.pdf)\n",
    "\n",
    "### Genome scale model analysis with cobrapy\n",
    "This workflow is an introduction to genome scale model constraint based and reconstruction analysis (COBRA). The content covers loading existing models and examining their properties, flux simulation with flux balance analysis and resetting the objective to new metabolic objectives.\n",
    "\n",
    "Link: \n",
    "Duration: 2h\n",
    "\n",
    "### FermProSim (planned)\n",
    "To be added.\n",
    "\n",
    "### MetEngSim (planned)\n",
    "To be added.\n"
   ]
  }
 ],
 "metadata": {
  "kernelspec": {
   "display_name": "biolabsim",
   "language": "python",
   "name": "biolabsim"
  },
  "language_info": {
   "codemirror_mode": {
    "name": "ipython",
    "version": 3
   },
   "file_extension": ".py",
   "mimetype": "text/x-python",
   "name": "python",
   "nbconvert_exporter": "python",
   "pygments_lexer": "ipython3",
   "version": "3.9.1"
  }
 },
 "nbformat": 4,
 "nbformat_minor": 5
}
