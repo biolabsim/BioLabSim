{
 "cells": [
  {
   "attachments": {},
   "cell_type": "markdown",
   "id": "prepared-retrieval",
   "metadata": {},
   "source": [
    "<img src='Figures/Logos/iAMB-rwth-logo.png' width=600>\n",
    "\n",
    "\n",
    "\n",
    "<h1 align=\"center\"> BioLabSim Powered Simulation Notebooks</h1> \n",
    "<h2 align=\"center\"> The BioLabSim Consortium </h2>\n",
    "<h3 align=\"center\"> <a href='ulf.liebal@rwth-aachen.de'> ulf.liebal@rwth-aachen.de </a> </h3>\n",
    "\n",
    "---\n",
    "\n",
    "## Introduction\n",
    "\n",
    "The following list shows educational notebooks that run the BioLabSim Python environment for cellular simulations. \n",
    " - RWTHjupyter link: [![](https://jupyter.pages.rwth-aachen.de/documentation/images/badge-launch-rwth-jupyter.svg)](https://jupyter.rwth-aachen.de/hub/spawn?profile=biolabsim)\n",
    "**Additional material**\n",
    " * Why Jupyter is data scientists’ computational notebook of choice ([Nature 563, 145-146, 2018](https://doi.org/10.1038/d41586-018-07196-1)) \n",
    " * Jupyter online examples [tutorials](https://jupyter.org/try)\n",
    " * Python basics [cheat sheet](https://i.redd.it/ahetz5jtbzq11.jpg)\n",
    "\n",
    "The compute environment, as of 02/2025 works with Python=3.11.11, Pandas=2.2.2, Numpy=1.26.4, COBRA=0.29.1, Biopython=1.79, (Pip=24.1.2, Jupyter-client=6.1.12, Jinja2=3.1.5, Bokeh=3.6.2, Openpyxl=3.1.5).\n",
    "\n",
    "## Available workflows\n",
    "|Name |Field |Content |Addition Material|Time, h|Developer|\n",
    "|:-|:-|:-|:-|:-|:-|\n",
    "|[Notebook Introduction](./Notebooks/PythonIntroduction.ipynb)|Programming|A tutorial to explore the important features of Jupyter Notebooks.|[Introduction to Jupyter Notebooks](https://mhasoba.github.io/TheMulQuaBio/notebooks/Appendix-JupyIntro.html)|0.5|Stephan Palkovits (RWTH)|\n",
    "|[RecExpSim](./Notebooks/RecExpSim.ipynb)|Genetics|Simulation of recombinant protein expression and data analyses, including growth characterization, promoter sequence selection, cloning and expression.|$\\cdot$ Propterties of mesophilic organisms [overview](https://application.wiley-vch.de/books/sample/3527335153_c01.pdf) (p. 18)<br> $\\cdot$ Bacterial promoter architecture [review](https://doi.org/10.3390/biom5031245) (-10 and -35 box)<br>$\\cdot$ GC-content [calculations](https://www.genelink.com/Literature/ps/R26-6400-MW.pdf)|3h|[Ulf Liebal](https://www.iamb.rwth-aachen.de/cms/iamb/Das-Institut/Team/Gruppe-Blank/Gruppenleitung/~ivuv/Ulf-Liebal/lidx/1/) (RWTH)<br>Iris Broderius (RWTH)|\n",
    "|[FermProSim](./Notebooks/FermProSim.ipynb)|Fermentation|Parameter estimation of fermentation with Monod-equation.|$\\cdot$ ...|1.5h|Jonathan Sturm (WHS)|\n",
    "|[GroExpSim-Experiment](./Notebooks/GroExpSim_Nr1.ipynb)|Fermentation|Setup of growth experiments to identify optimal temperature, substrate concentrations, cultivation time, and sampling period.||1.5h|[Ulf Liebal](https://www.iamb.rwth-aachen.de/cms/iamb/Das-Institut/Team/Gruppe-Blank/Gruppenleitung/~ivuv/Ulf-Liebal/lidx/1/) (RWTH)|\n",
    "|[GroExpSim-Data Analysis](./Notebooks/GroExpSim_Nr2.ipynb)|Fermentation|Data analysis of growth experiment to analyse biomass and substrate rates and yields.||1.5h|[Ulf Liebal](https://www.iamb.rwth-aachen.de/cms/iamb/Das-Institut/Team/Gruppe-Blank/Gruppenleitung/~ivuv/Ulf-Liebal/lidx/1/) (RWTH)|\n",
    "|[GSMM+FBA_Start](./Notebooks/GSMM+FBA_Start.ipynb)|Metabolism|Introduction to genome scale model constraint based and reconstruction analysis (COBRA). Investigating and modifying existing models||1|[Ulf Liebal](https://www.iamb.rwth-aachen.de/cms/iamb/Das-Institut/Team/Gruppe-Blank/Gruppenleitung/~ivuv/Ulf-Liebal/lidx/1/) (RWTH)<br>Brigida Fabry (RWTH)|\n",
    "|[GSMM+FBA_YieldsMutants](./Notebooks/GSMM+FBA_YieldsMutants.ipynb)|Metabolism|Analysis of models, FBA.||1|[Ulf Liebal](https://www.iamb.rwth-aachen.de/cms/iamb/Das-Institut/Team/Gruppe-Blank/Gruppenleitung/~ivuv/Ulf-Liebal/lidx/1/) (RWTH)<br>Brigida Fabry (RWTH)|\n",
    "|[GSMM+FBA_GrowthCorr](./Notebooks/GSMM+FBA_OpolGrowthCorr.ipynb)|Metabolism|Model growth correlation and visualization.||1|[Ulf Liebal](https://www.iamb.rwth-aachen.de/cms/iamb/Das-Institut/Team/Gruppe-Blank/Gruppenleitung/~ivuv/Ulf-Liebal/lidx/1/) (RWTH)|\n",
    "|[Genetic Logic Gates, vol1](./Notebooks/GenExpMod.ipynb)|Genetics|Introduction to genetic regulation and mathematical modelling with Hill equation.|[Elowitz & Bois, Caltech](https://biocircuits.github.io/chapters/01_intro_to_circuit_design.html)|1.5h|[Ulf Liebal](https://www.iamb.rwth-aachen.de/cms/iamb/Das-Institut/Team/Gruppe-Blank/Gruppenleitung/~ivuv/Ulf-Liebal/lidx/1/) (RWTH)|\n",
    "|[Genetic Logic Gates, vol2](.//Notebooks/BioMotifSim.ipynb)|Genetics|Investigation of feedforward loops, representation of logic gates with mathematical models|[Elowitz & Bois, Caltech](https://biocircuits.github.io/chapters/04_ffls.html)|1.5h|[Ulf Liebal](https://www.iamb.rwth-aachen.de/cms/iamb/Das-Institut/Team/Gruppe-Blank/Gruppenleitung/~ivuv/Ulf-Liebal/lidx/1/) (RWTH)|\n",
    "|[Metabolic Engineering Simulation (MetEngSim)](.//Notebooks/MetEngSim.ipynb)|Metabolism| Introduction to gene databases and metabolic maps.||1h|Paula Lanze (RWTH), [Ulf Liebal](https://www.iamb.rwth-aachen.de/cms/iamb/Das-Institut/Team/Gruppe-Blank/Gruppenleitung/~ivuv/Ulf-Liebal/lidx/1/) (RWTH)|\n",
    "|Industrial Fermentation Simulation (IndFermSim)|Metabolism| Introduction to gene databases and metabolic maps.||1h|Bhavya Dutta (HSRW), Joachin Fensterle (HSRW)|"
   ]
  },
  {
   "attachments": {},
   "cell_type": "markdown",
   "id": "undefined-inventory",
   "metadata": {},
   "source": [
    "#### Package dependencies"
   ]
  },
  {
   "cell_type": "code",
   "execution_count": 2,
   "id": "small-buddy",
   "metadata": {},
   "outputs": [
    {
     "name": "stdout",
     "output_type": "stream",
     "text": [
      "The watermark extension is already loaded. To reload it, use:\n",
      "  %reload_ext watermark\n",
      "Python implementation: CPython\n",
      "Python version       : 3.9.9\n",
      "IPython version      : 7.19.0\n",
      "\n",
      "IPython   : 7.19.0\n",
      "ipywidgets: 7.6.3\n",
      "matplotlib: 3.5.0\n",
      "numpy     : 1.19.5\n",
      "pandas    : 1.2.1\n",
      "openpyxl  : 3.0.6\n",
      "sklearn   : 0.0\n",
      "scipy     : 1.6.0\n",
      "joblib    : 1.0.0\n",
      "zipfile   : unknown\n",
      "watermark : 2.1.0\n",
      "\n",
      "Compiler    : GCC 9.4.0\n",
      "OS          : Linux\n",
      "Release     : 5.4.0-94-generic\n",
      "Machine     : x86_64\n",
      "Processor   : x86_64\n",
      "CPU cores   : 8\n",
      "Architecture: 64bit\n",
      "\n"
     ]
    }
   ],
   "source": [
    "%load_ext watermark\n",
    "%watermark -v -m -p IPython,ipywidgets,matplotlib,numpy,pandas,openpyxl,sklearn,scipy,joblib,zipfile,watermark"
   ]
  }
 ],
 "metadata": {
  "kernelspec": {
   "display_name": "iambjudas",
   "language": "python",
   "name": "iambjudas"
  },
  "language_info": {
   "codemirror_mode": {
    "name": "ipython",
    "version": 3
   },
   "file_extension": ".py",
   "mimetype": "text/x-python",
   "name": "python",
   "nbconvert_exporter": "python",
   "pygments_lexer": "ipython3",
   "version": "3.9.7"
  }
 },
 "nbformat": 4,
 "nbformat_minor": 5
}
