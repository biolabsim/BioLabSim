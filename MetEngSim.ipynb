{
 "cells": [
  {
   "cell_type": "markdown",
   "metadata": {
    "colab_type": "text",
    "id": "dPnMzwQ_IWwZ"
   },
   "source": [
    "# Seminar Quantitativ Microbiology \n",
    "# Metabolite Production with Strain Engineering\n",
    "\n",
    "## Introduction\n",
    "\n",
    "\n",
    "For a overview on Jupyter notebooks read [this review](https://www.nature.com/articles/d41586-018-07196-1). \n",
    "\n",
    "---\n",
    "\n",
    "## Tutorial Steps\n",
    "  * Set up of Python environment\n",
    "    * Basic libraries(sys, pandas, numpy, matplotlib, zipfile, cobrapy)\n",
    "  * Analysis of Genome Scale Metabolic Model\n",
    "    * Retrieval of GSMM for *P. pastoris*\n",
    "    * Flux variability of exchange reactions\n",
    "    * Minimal medium composition\n",
    "  * Experimental growth rate reproduction\n",
    "    * Familiarizing with biomass composition reactions\n",
    "    * Defining functions for correct biomass equation switch\n",
    "    * Data retrieval\n",
    "    * Simulation loop\n",
    "    * Graphical output\n"
   ]
  },
  {
   "cell_type": "markdown",
   "metadata": {
    "colab_type": "text",
    "id": "XRP3j145RXOi"
   },
   "source": [
    "## Set-up compute environment\n",
    "\n",
    "Before we can analyse GSMM, we have adjust the python environment that it integrates the cobrapy toolbox and downloading the GSMM."
   ]
  },
  {
   "cell_type": "markdown",
   "metadata": {
    "colab_type": "text",
    "id": "ewTIEAb4Rb2G"
   },
   "source": [
    "### Basic Python libraries \n",
    "Some libraries that facilitate data manipulation"
   ]
  },
  {
   "cell_type": "code",
   "execution_count": 1,
   "metadata": {
    "colab": {},
    "colab_type": "code",
    "id": "6wxIUGOEReDX"
   },
   "outputs": [
    {
     "name": "stdout",
     "output_type": "stream",
     "text": [
      "System ready\n"
     ]
    }
   ],
   "source": [
    "import sys # loading commands to control/navigate within the system architecture\n",
    "# Loading pandas, a library for data manipulation\n",
    "from os.path import join\n",
    "# import xlrd\n",
    "import pandas as pd\n",
    "# import lxml\n",
    "\n",
    "# Loading numpy, a library fo manipulation of numbers\n",
    "import numpy as np\n",
    "\n",
    "# loading matplotlib, a library for visualization\n",
    "import matplotlib.pyplot as plt\n",
    "%matplotlib inline\n",
    "\n",
    "# loading cobrapy, a library dedicated to the analysis of genome scale metabolic models\n",
    "from cobra.io import read_sbml_model, write_sbml_model, load_matlab_model\n",
    "\n",
    "# loading escher for metabolic network visualization\n",
    "import escher\n",
    "from escher import Builder\n",
    "# from time import sleep\n",
    "# escher.rc['never_ask_before_quit'] = True\n",
    "# list of available maps\n",
    "# print(escher.list_available_maps())\n",
    "\n",
    "# loading Memote, quality assessment of GSMM\n",
    "# from memote import test_model, snapshot_report\n",
    "\n",
    "from biolabsim import Host, Strain, Ecol\n",
    "\n",
    "print('System ready')"
   ]
  },
  {
   "cell_type": "code",
   "execution_count": 2,
   "metadata": {},
   "outputs": [
    {
     "name": "stderr",
     "output_type": "stream",
     "text": [
      "<__array_function__ internals>:5: VisibleDeprecationWarning: Creating an ndarray from ragged nested sequences (which is a list-or-tuple of lists-or-tuples-or ndarrays with different lengths or shapes) is deprecated. If you meant to do this, you must specify 'dtype=object' when creating the ndarray\n"
     ]
    },
    {
     "name": "stdout",
     "output_type": "stream",
     "text": [
      "Host: Ecol\n",
      "Resources: 40\n",
      "Substrate: None\n",
      "Strain: WT\n",
      "Wild type growth rate: 0.87\n",
      "\n"
     ]
    },
    {
     "name": "stderr",
     "output_type": "stream",
     "text": [
      "/home/ulf/anaconda3/envs/biolabsim/lib/python3.9/site-packages/sklearn/base.py:310: UserWarning: Trying to unpickle estimator DecisionTreeRegressor from version 0.22.1 when using version 0.24.1. This might lead to breaking code or invalid results. Use at your own risk.\n",
      "  warnings.warn(\n",
      "/home/ulf/anaconda3/envs/biolabsim/lib/python3.9/site-packages/sklearn/base.py:310: UserWarning: Trying to unpickle estimator RandomForestRegressor from version 0.22.1 when using version 0.24.1. This might lead to breaking code or invalid results. Use at your own risk.\n",
      "  warnings.warn(\n",
      "/home/ulf/anaconda3/envs/biolabsim/lib/python3.9/site-packages/sklearn/base.py:310: UserWarning: Trying to unpickle estimator DecisionTreeRegressor from version 0.22.1 when using version 0.24.1. This might lead to breaking code or invalid results. Use at your own risk.\n",
      "  warnings.warn(\n",
      "/home/ulf/anaconda3/envs/biolabsim/lib/python3.9/site-packages/sklearn/base.py:310: UserWarning: Trying to unpickle estimator RandomForestRegressor from version 0.22.1 when using version 0.24.1. This might lead to breaking code or invalid results. Use at your own risk.\n",
      "  warnings.warn(\n",
      "/home/ulf/anaconda3/envs/biolabsim/lib/python3.9/site-packages/sklearn/base.py:310: UserWarning: Trying to unpickle estimator DecisionTreeRegressor from version 0.22.1 when using version 0.24.1. This might lead to breaking code or invalid results. Use at your own risk.\n",
      "  warnings.warn(\n",
      "/home/ulf/anaconda3/envs/biolabsim/lib/python3.9/site-packages/sklearn/base.py:310: UserWarning: Trying to unpickle estimator RandomForestRegressor from version 0.22.1 when using version 0.24.1. This might lead to breaking code or invalid results. Use at your own risk.\n",
      "  warnings.warn(\n"
     ]
    },
    {
     "name": "stdout",
     "output_type": "stream",
     "text": [
      "resetting boundaries\n",
      "Host: Ecol\n",
      "Resources: 40\n",
      "Substrate: None\n",
      "Strain: Mut1\n",
      "Mutation growth rate: 0.49\n"
     ]
    }
   ],
   "source": [
    "wtHost = Ecol()\n",
    "wtHost.show_BiotechSetting()\n",
    "print('Wild type growth rate: {:.2f}'.format(wtHost.strain.objective))\n",
    "print()\n",
    "myHost = wtHost.clone_with_mutation('Mut1')\n",
    "myHost.show_BiotechSetting()\n",
    "print('Mutation growth rate: {:.2f}'.format(myHost.strain.objective))"
   ]
  },
  {
   "cell_type": "code",
   "execution_count": 3,
   "metadata": {},
   "outputs": [
    {
     "name": "stdout",
     "output_type": "stream",
     "text": [
      "[[1761, ('T', 'A')], [1765, ('C', 'T')], [3251, ('A', 'G')], [3253, ('T', 'G')], [4354, ('C', 'G')], [4355, ('T', 'A')]]\n",
      "{'lower': array([29]), 'upper': array([54, 72])} {'increase': array([], dtype=int64), 'decrease': array([54, 72, 29])}\n"
     ]
    }
   ],
   "source": [
    "from biolabsim.measurement.sequencing import measure_BaseCompare\n",
    "from biolabsim.measurement.fluxes import measure_EnzymeLevel1\n",
    "myDiff = measure_BaseCompare(wtHost.strain.genome, myHost.strain.genome)\n",
    "a,b,c = measure_EnzymeLevel1(wtHost.name, wtHost.strain, myHost.strain)\n",
    "print(myDiff)\n",
    "print(b,c)"
   ]
  },
  {
   "cell_type": "code",
   "execution_count": 4,
   "metadata": {},
   "outputs": [
    {
     "name": "stdout",
     "output_type": "stream",
     "text": [
      "Gene expression differences\n"
     ]
    },
    {
     "data": {
      "text/plain": [
       "array([1.  , 1.  , 1.  , 1.  , 1.  , 1.  , 1.  , 1.  , 1.  , 1.  , 1.  ,\n",
       "       1.  , 1.  , 1.  , 1.  , 1.  , 1.  , 1.  , 1.  , 1.  , 1.  , 1.  ,\n",
       "       1.  , 1.  , 1.  , 1.  , 1.  , 1.  , 1.  , 0.92, 1.  , 1.  , 1.  ,\n",
       "       1.  , 1.  , 1.  , 1.  , 1.  , 1.  , 1.  , 1.  , 1.  , 1.  , 1.  ,\n",
       "       1.  , 1.  , 1.  , 1.  , 1.  , 1.  , 1.  , 1.  , 1.  , 1.  , 0.56,\n",
       "       1.  , 1.  , 1.  , 1.  , 1.  , 1.  , 1.  , 1.  , 1.  , 1.  , 1.  ,\n",
       "       1.  , 1.  , 1.  , 1.  , 1.  , 1.  , 0.95, 1.  , 1.  , 1.  , 1.  ,\n",
       "       1.  , 1.  , 1.  , 1.  , 1.  , 1.  , 1.  , 1.  , 1.  , 1.  , 1.  ,\n",
       "       1.  , 1.  , 1.  , 1.  , 1.  , 1.  , 1.  ])"
      ]
     },
     "execution_count": 4,
     "metadata": {},
     "output_type": "execute_result"
    }
   ],
   "source": [
    "mylist = np.array(wtHost.strain.genes_df['Expression'])\n",
    "mylist2 = np.array(myHost.strain.genes_df['Expression'])\n",
    "print('Gene expression differences')\n",
    "np.round(mylist2/mylist,2)"
   ]
  },
  {
   "cell_type": "code",
   "execution_count": 5,
   "metadata": {},
   "outputs": [
    {
     "name": "stdout",
     "output_type": "stream",
     "text": [
      "Exp2Flux diff\n"
     ]
    },
    {
     "name": "stderr",
     "output_type": "stream",
     "text": [
      "<ipython-input-5-793ddc7a46d2>:5: RuntimeWarning: invalid value encountered in true_divide\n",
      "  np.round(myl2/myl,2)\n"
     ]
    },
    {
     "data": {
      "text/plain": [
       "array([ 1., nan,  1.,  1.,  1., nan, nan,  1.,  1., nan, nan, nan,  1.,\n",
       "        1.,  1.,  1., nan, nan, nan, nan,  1.,  1., nan,  1.,  1., nan,\n",
       "        1.,  1.,  1.,  1., nan,  1., nan,  1., nan, nan,  1.,  1.,  1.,\n",
       "       nan,  1.,  1.,  1., nan, nan, nan,  1., nan, nan, nan, nan,  1.,\n",
       "       nan, nan,  1.,  1., nan, nan,  1.,  1.,  1., nan, nan,  1., nan,\n",
       "       nan, nan, nan, nan,  1., nan,  1.,  1.,  1.,  1., nan,  1., nan,\n",
       "       nan, nan,  1.,  1.,  1., nan, nan, nan, nan,  1., nan, nan,  1.,\n",
       "       nan,  1.,  1.,  1.])"
      ]
     },
     "execution_count": 5,
     "metadata": {},
     "output_type": "execute_result"
    }
   ],
   "source": [
    "myl = np.array(wtHost.strain.genes_df['Expr2Flux'])\n",
    "myl2 = np.array(myHost.strain.genes_df['Expr2Flux'])\n",
    "# myHost.strain.genes_df\n",
    "print('Exp2Flux diff')\n",
    "np.round(myl2/myl,2)"
   ]
  },
  {
   "cell_type": "code",
   "execution_count": 6,
   "metadata": {},
   "outputs": [
    {
     "name": "stdout",
     "output_type": "stream",
     "text": [
      "Flux reaction differences\n"
     ]
    },
    {
     "data": {
      "text/plain": [
       "array([0.6 , 1.  , 0.66, 0.59, 0.51, 1.  , 1.  , 0.6 , 0.56, 1.  , 1.  ,\n",
       "       1.  , 0.56, 0.65, 0.65, 1.  , 1.  , 1.  , 1.  , 1.  , 0.66, 0.62,\n",
       "       1.  , 0.73, 0.56, 1.  , 0.62, 0.5 , 0.65, 0.53, 1.  , 0.62, 1.  ,\n",
       "       0.6 , 1.  , 1.  , 0.66, 0.66, 0.51, 1.  , 0.51, 0.5 , 0.6 , 1.  ,\n",
       "       1.  , 1.  , 0.62, 1.  , 1.  , 1.  , 1.  , 0.58, 1.  , 1.  , 0.56,\n",
       "       0.61, 1.  , 1.  , 0.56, 0.62, 0.56, 1.  , 1.  , 0.6 , 1.  , 1.  ,\n",
       "       1.  , 1.  , 1.  , 0.66, 1.  , 0.51, 0.59, 0.58, 0.56, 1.  , 0.56,\n",
       "       1.  , 1.  , 1.  , 0.51, 0.61, 0.65, 1.  , 1.  , 1.  , 1.  , 0.66,\n",
       "       1.  , 1.  , 0.61, 1.  , 0.56, 0.62, 0.62])"
      ]
     },
     "execution_count": 6,
     "metadata": {},
     "output_type": "execute_result"
    }
   ],
   "source": [
    "FluxDiff = myHost.strain.genes_df['Fluxes']/wtHost.strain.genes_df['Fluxes']\n",
    "print('Flux reaction differences')\n",
    "np.round(np.nan_to_num(FluxDiff, nan=1, posinf=1, neginf=1),2)"
   ]
  },
  {
   "cell_type": "code",
   "execution_count": null,
   "metadata": {},
   "outputs": [],
   "source": [
    "wtHost.Export_Genome()\n",
    "wtHost.Export_ORFAnnotation()"
   ]
  },
  {
   "cell_type": "markdown",
   "metadata": {},
   "source": [
    "## Promoter identification with SAPPHIRE"
   ]
  },
  {
   "cell_type": "code",
   "execution_count": null,
   "metadata": {},
   "outputs": [],
   "source": [
    "%load_ext watermark\n",
    "%watermark -v -m -p ipywidgets,matplotlib,numpy,pandas,sklearn,scipy,joblib,watermark,escher,cobra"
   ]
  }
 ],
 "metadata": {
  "colab": {
   "collapsed_sections": [],
   "include_colab_link": true,
   "name": "2001_QuantMiBi1_CobraPy_SimVal.ipynb",
   "provenance": [],
   "toc_visible": true
  },
  "kernelspec": {
   "display_name": "biolabsim",
   "language": "python",
   "name": "myenv"
  },
  "language_info": {
   "codemirror_mode": {
    "name": "ipython",
    "version": 3
   },
   "file_extension": ".py",
   "mimetype": "text/x-python",
   "name": "python",
   "nbconvert_exporter": "python",
   "pygments_lexer": "ipython3",
   "version": "3.9.1"
  }
 },
 "nbformat": 4,
 "nbformat_minor": 4
}
