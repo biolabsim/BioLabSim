{
 "cells": [
  {
   "cell_type": "markdown",
   "metadata": {
    "colab_type": "text",
    "id": "dPnMzwQ_IWwZ"
   },
   "source": [
    "# Seminar Quantitativ Microbiology \n",
    "# Metabolite Production with Strain Engineering\n",
    "\n",
    "## Introduction\n",
    "\n",
    "\n",
    "For a overview on Jupyter notebooks read [this review](https://www.nature.com/articles/d41586-018-07196-1). \n",
    "\n",
    "---\n",
    "\n",
    "## Tutorial Steps\n",
    "  * Set up of Python environment\n",
    "    * Basic libraries(sys, pandas, numpy, matplotlib, zipfile, cobrapy)\n",
    "  * Analysis of Genome Scale Metabolic Model\n",
    "    * Retrieval of GSMM for *P. pastoris*\n",
    "    * Flux variability of exchange reactions\n",
    "    * Minimal medium composition\n",
    "  * Experimental growth rate reproduction\n",
    "    * Familiarizing with biomass composition reactions\n",
    "    * Defining functions for correct biomass equation switch\n",
    "    * Data retrieval\n",
    "    * Simulation loop\n",
    "    * Graphical output\n"
   ]
  },
  {
   "cell_type": "markdown",
   "metadata": {
    "colab_type": "text",
    "id": "XRP3j145RXOi"
   },
   "source": [
    "## Set-up compute environment\n",
    "\n",
    "Before we can analyse GSMM, we have adjust the python environment that it integrates the cobrapy toolbox and downloading the GSMM."
   ]
  },
  {
   "cell_type": "markdown",
   "metadata": {
    "colab_type": "text",
    "id": "ewTIEAb4Rb2G"
   },
   "source": [
    "### Basic Python libraries \n",
    "Some libraries that facilitate data manipulation"
   ]
  },
  {
   "cell_type": "code",
   "execution_count": null,
   "metadata": {
    "colab": {},
    "colab_type": "code",
    "id": "6wxIUGOEReDX"
   },
   "outputs": [],
   "source": [
    "import sys # loading commands to control/navigate within the system architecture\n",
    "# Loading pandas, a library for data manipulation\n",
    "from os.path import join\n",
    "import xlrd\n",
    "import pandas as pd\n",
    "# import lxml\n",
    "\n",
    "# Loading numpy, a library fo manipulation of numbers\n",
    "import numpy as np\n",
    "\n",
    "# loading matplotlib, a library for visualization\n",
    "import matplotlib.pyplot as plt\n",
    "%matplotlib inline\n",
    "\n",
    "# loading cobrapy, a library dedicated to the analysis of genome scale metabolic models\n",
    "from cobra.io import read_sbml_model, write_sbml_model, load_matlab_model\n",
    "\n",
    "# loading escher for metabolic network visualization\n",
    "# import escher\n",
    "# from escher import Builder\n",
    "# from time import sleep\n",
    "# escher.rc['never_ask_before_quit'] = True\n",
    "# list of available maps\n",
    "# print(escher.list_available_maps())\n",
    "\n",
    "# loading Memote, quality assessment of GSMM\n",
    "from memote import test_model, snapshot_report\n",
    "\n",
    "print('System ready')"
   ]
  },
  {
   "cell_type": "code",
   "execution_count": null,
   "metadata": {},
   "outputs": [],
   "source": [
    "from BioLabSim.ModuleVirtualOrganism.HostSetup import Host, Strain\n",
    "\n",
    "myHost = Host('Pput', Metabolism=True)\n",
    "myHost.show_BiotechSetting()"
   ]
  },
  {
   "cell_type": "code",
   "execution_count": null,
   "metadata": {},
   "outputs": [],
   "source": [
    "myst = Strain('Mut1', myHost, RefStrain='WT')"
   ]
  },
  {
   "cell_type": "code",
   "execution_count": null,
   "metadata": {},
   "outputs": [],
   "source": [
    "from BioLabSim.ModuleVirtualOrganism.Metabolism import Help_StrainCharacterizer\n",
    "RctNewDF = Help_StrainCharacterizer(myHost.var_Host, myHost.WT.info_GenesDF, myHost.WT.info_Genome, myst.info_Genome, myHost.WT.var_Model)\n",
    "RctNew = RctNewDF[RctNewDF['RctFlag']==True].index.values\n",
    "print(RctNew)\n",
    "# For reactions with reduced expression and positive flux: reduce the upper limit,\n",
    "# For reactions with increased expression and positive flux: increase the lower limit\n",
    "# for reactions with negative flux the limits are exchanged.\n",
    "FluxPos = RctNew[tuple([RctNewDF.loc[RctNew, 'RefFlux']>0])]\n",
    "FluxNeg = RctNew[tuple([RctNewDF.loc[RctNew, 'RefFlux']<0])]\n",
    "# Finding increased and decreased fluxes\n",
    "FluxInc = RctNew[RctNewDF.loc[RctNew, 'NewExpr'].values / RctNewDF.loc[RctNew, 'RefExpr'].values>1]\n",
    "FluxDec = RctNew[RctNewDF.loc[RctNew, 'NewExpr'].values / RctNewDF.loc[RctNew, 'RefExpr'].values<1]\n",
    "print('Positive: {}, Negative: {}'.format(FluxPos,FluxNeg))\n",
    "print('Increase: {}, Decrease: {}'.format(FluxInc,FluxDec))"
   ]
  },
  {
   "cell_type": "code",
   "execution_count": null,
   "metadata": {},
   "outputs": [],
   "source": [
    "myModel = myHost.WT.var_Model\n",
    "# Comb.1: positive flux with increased expression -> increasing lower bound\n",
    "PosIncInd = np.intersect1d(FluxPos,FluxInc)\n",
    "for Indx in PosIncInd:\n",
    "    myModel.reactions[Indx].lower_bound = RctNewDF.loc[Indx, 'NewExpr'] * RctNewDF.loc[Indx, 'Expr2Flux']\n",
    "# Comb.2: positive flux with decreased expression -> decreasing upper bound\n",
    "PosDecInd = np.intersect1d(FluxPos,FluxDec)\n",
    "for Indx in PosDecInd:\n",
    "    myModel.reactions[Indx].lower_bound = RctNewDF.loc[Indx, 'NewExpr'] * RctNewDF.loc[Indx, 'Expr2Flux']\n",
    "# Comb.1: negaitve flux with increased expression -> decreasing lower bound\n",
    "NegIncInd = np.intersect1d(FluxNeg,FluxInc)\n",
    "for Indx in NegIncInd:\n",
    "    myModel.reactions[Indx].lower_bound = RctNewDF.loc[Indx, 'NewExpr'] * RctNewDF.loc[Indx, 'Expr2Flux']\n",
    "# Comb.1: positive flux with increased expression -> increasing lower bound\n",
    "NegDecInd = np.intersect1d(FluxNeg,FluxDec)\n",
    "for Indx in NegDecInd:\n",
    "    myModel.reactions[Indx].lower_bound = RctNewDF.loc[Indx, 'NewExpr'] * RctNewDF.loc[Indx, 'Expr2Flux']\n"
   ]
  },
  {
   "cell_type": "code",
   "execution_count": null,
   "metadata": {},
   "outputs": [],
   "source": [
    "myst.info_GeneDF"
   ]
  },
  {
   "cell_type": "code",
   "execution_count": null,
   "metadata": {},
   "outputs": [],
   "source": [
    "from BioLabSim.ModuleMeasureOrganism.Sequencing import make_BaseCompare\n",
    "myDiff = make_BaseCompare(myHost.WT.info_Genome, myst.info_Genome)\n",
    "print(myDiff)"
   ]
  },
  {
   "cell_type": "code",
   "execution_count": null,
   "metadata": {},
   "outputs": [],
   "source": [
    "myHost.WT.info_GenesDF['Fluxes'].iloc[23]"
   ]
  },
  {
   "cell_type": "code",
   "execution_count": null,
   "metadata": {},
   "outputs": [],
   "source": [
    "import random\n",
    "GenesDF = myHost.WT.info_GenesDF\n",
    "FluxActive = GenesDF[GenesDF['Fluxes']!=0].index.values\n",
    "MutateEnzyme = random.sample(list(FluxActive),3)\n",
    "# print('active flux: {} selected for mutation: {}'.format(FluxActive,MutateEnzyme))\n",
    "print(GenesDF['Promoter'].iloc[MutateEnzyme[0]])\n",
    "B_i, B_s = -12, -7\n",
    "RefTar = GenesDF['Promoter'].iloc[MutateEnzyme[0]][B_i:B_s]\n",
    "MutTar = list(RefTar)\n",
    "B_i, B_s = -12, -7\n",
    "NumberMutations=2\n",
    "Mutate_Pos = random.sample(range(len(RefTar)), NumberMutations)\n",
    "for NuclPos in Mutate_Pos:\n",
    "#     print(type(NuclPos))\n",
    "    MutTar[NuclPos] = random.sample([Base for Base in Bases if Base is not RefTar[NuclPos]], 1)[0]\n",
    "MutTar = ''.join(MutTar)\n",
    "print(RefTar)\n",
    "print(MutTar)"
   ]
  },
  {
   "cell_type": "code",
   "execution_count": null,
   "metadata": {},
   "outputs": [],
   "source": [
    "NumberMutations=3\n",
    "Mutate_Pos = random.sample(range(5), NumberMutations)\n",
    "Base_Exist = [Base for Base in [Extract[Pos] for Pos in Mutate_Pos]]\n",
    "MutBas = [Base_Pos for Base_Pos in Base_Exist]\n",
    "\n",
    "print(Mutate_Pos)\n",
    "print(Base_Exist)\n",
    "MutBas"
   ]
  },
  {
   "cell_type": "code",
   "execution_count": null,
   "metadata": {},
   "outputs": [],
   "source": [
    "myStrainID = 'test'\n",
    "myStrainGenome = myHost.info_Genome\n",
    "Rct_Idx = myHost._Mutant__GenesDF[myHost._Mutant__GenesDF['RctID']=='PFK'].index.values\n",
    "Rct_ORF = ''.join(str(n) for n in myHost._Mutant__GenesDF['ORF'].iloc[Rct_Idx].to_list())\n",
    "Rct_RefProm = myHost._Mutant__GenesDF['Promoter'].iloc[Rct_Idx].values\n",
    "\n",
    "# Extraction of reaction association promoter sequence from input genome\n",
    "Gene_ORF = myHost.info_Genome.find(Rct_ORF)\n",
    "target = myHost.info_Genome[Gene_ORF-14:Gene_ORF-9:1]\n",
    "myStrainGenome = myStrainGenome.replace(target,'GGGGG',1)\n",
    "myStrainGenome[Gene_ORF-14:Gene_ORF-9:1]\n",
    "strainDict = {'StrainID': myStrainID, 'Genome':myStrainGenome}\n",
    "myHost.info_Strain[myStrainID] = {}\n",
    "myHost.info_Strain[myStrainID]['Genome'] = myStrainGenome\n",
    "myHost.info_Strain['Reference'] = {}\n",
    "myHost.info_Strain['Reference']['Genome'] = myHost.info_Genome\n",
    "myHost.show_BiotechSetting()"
   ]
  },
  {
   "cell_type": "code",
   "execution_count": null,
   "metadata": {},
   "outputs": [],
   "source": [
    "from BioLabSimFun import make_UpdateExpression, Help_StrainCharacterizer\n",
    "RctNew_df = Help_StrainCharacterizer(myHost, 'test') # make_UpdateExpression(myHost, 'test', 'PFK')\n"
   ]
  },
  {
   "cell_type": "code",
   "execution_count": null,
   "metadata": {},
   "outputs": [],
   "source": [
    "class person:\n",
    "    def __init__(self,name):\n",
    "        self.name = name\n",
    "   "
   ]
  },
  {
   "cell_type": "code",
   "execution_count": null,
   "metadata": {},
   "outputs": [],
   "source": [
    "p = person()\n",
    "p.name\n"
   ]
  },
  {
   "cell_type": "code",
   "execution_count": null,
   "metadata": {},
   "outputs": [],
   "source": [
    "p.db.display()"
   ]
  },
  {
   "cell_type": "code",
   "execution_count": null,
   "metadata": {
    "scrolled": true
   },
   "outputs": [],
   "source": [
    "Rct_ChangeIdx = RctNew_df[RctNew_df['RctFlag']==True].index.values\n",
    "print('Reference expression: {}'.format(myHost._Mutant__GenesDF['Expression'].iloc[Rct_ChangeIdx].values))\n",
    "print('Mutant expression: {}'.format(RctNew_df['Activity'].iloc[Rct_ChangeIdx].values))\n"
   ]
  },
  {
   "cell_type": "code",
   "execution_count": null,
   "metadata": {},
   "outputs": [],
   "source": [
    "mycorr = myHost._Mutant__GenesDF['Fluxes'].values/myHost._Mutant__GenesDF['Expression'].values\n",
    "mycorr"
   ]
  },
  {
   "cell_type": "code",
   "execution_count": null,
   "metadata": {},
   "outputs": [],
   "source": [
    "from cobra.util.array import create_stoichiometric_matrix\n",
    "StoichMat = create_stoichiometric_matrix(myHost.var_Model, array_type=\"dense\", dtype=None)\n",
    "metlist = [metabolite.id for metabolite in myHost.var_Model.metabolites]\n",
    "solution = myHost.var_Model.optimize()\n",
    "\n",
    "mymult = np.where(StoichMat*solution.fluxes.values!=0,1,0)\n",
    "metInd = np.nonzero(np.sum(mymult, axis=1))\n",
    "# metInd = np.reshape(np.array(np.nonzero(np.sum(mymult,axis=0))),-1)\n",
    "np.array(metlist)[metInd]"
   ]
  },
  {
   "cell_type": "code",
   "execution_count": null,
   "metadata": {},
   "outputs": [],
   "source": [
    "!wget http://bigg.ucsd.edu/static/models/e_coli_core.xml\n",
    "\n",
    "# loading a visualization file of the metabolic network. \n",
    "# For frequently used models, like iJO1366, Escher automatically retrieves the visualization file.  \n",
    "#!wget http://bigg.ucsd.edu/static/models/iJO1366.json\n",
    "\n",
    "# generating cobra variable from SBML/xml/mat file\n",
    "myFile = 'e_coli_core.xml'\n",
    "model = read_sbml_model(myFile)\n",
    "\n",
    "# solution = model.optimize()\n",
    "model.summary() # fva=.95 additional argument specifies allowed deviation from the optimum \n"
   ]
  },
  {
   "cell_type": "markdown",
   "metadata": {
    "colab_type": "text",
    "id": "cvSOmwrZbNIG"
   },
   "source": [
    "### Malate Export Reaction\n",
    "coding for malate export reaction."
   ]
  },
  {
   "cell_type": "code",
   "execution_count": null,
   "metadata": {},
   "outputs": [],
   "source": [
    "import random\n",
    "\n",
    "Model = myhost.var_Model\n",
    "# coding sequence construction\n",
    "# first we determine the minimum coding gene length of nucleotides to distinguish the enzymes in the model\n",
    "Enzyme_Number = len(Model.reactions)\n",
    "Gen_Minimum = np.ceil(np.log2(Enzyme_Number))\n",
    "\n",
    "# we want to represent codon triplicates, we calculate the next highest divisor of three\n",
    "Gene_Length = int(np.ceil(Gen_Minimum/3))\n",
    "CodonFile = 'CodonTriplets.csv'\n",
    "CodonTriplets = pd.read_csv(CodonFile, delimiter=';', skipinitialspace=True)\n",
    "CodonStop = CodonTriplets[['Stop' in s for s in CodonTriplets['Name']]].reset_index()\n",
    "CodonCoding = CodonTriplets.drop(CodonStop.index).reset_index()\n",
    "Gene_Coding = [random.choices(CodonCoding['Triplet'], weights=CodonCoding['Percent']) for CodonId in range(Gene_Length)]\n",
    "Gene_Stop = random.choices(CodonStop['Triplet'], weights=CodonStop['Percent'])\n",
    "Gene_Coding.append(Gene_Stop)\n",
    "Gene_Coding.insert(0,['ATG'])\n",
    "Gene_Coding = ''.join([Letter for Nest in Gene_Coding for Letter in Nest])\n",
    "print(Gene_Coding)\n"
   ]
  },
  {
   "cell_type": "code",
   "execution_count": null,
   "metadata": {},
   "outputs": [],
   "source": [
    "import pickle\n",
    "import os\n",
    "import random\n",
    "# generating promoter sequence\n",
    "\n",
    "# loading information that determines the exploratory space of the regressor\n",
    "# weight file has boolean representations for each base on each position whether it was part of the training set or not\n",
    "WeightFile = os.path.join('Models','NucleotideWeightTable.pkl')\n",
    "with open(WeightFile, 'rb') as handle:\n",
    "    Nucleotides_Weight = pickle.load(handle)\n",
    "\n",
    "# the reference sequence contains the most common tested nucleotides at each position\n",
    "RefFile = os.path.join('Models','RefSeq.txt')\n",
    "with open(RefFile) as f:\n",
    "    RefSeq = f.read()\n",
    "Nucleotides_Weight.index = Nucleotides_Weight.index+40\n",
    "\n",
    "# setup of default sequence with reference\n",
    "myAr = np.asarray([Letter for Letter in RefSeq])\n",
    "\n",
    "# changing positions within the exploratory space of the regressor\n",
    "Bases = ['A','C','G','T']\n",
    "for idx in range(len(Nucleotides_Weight)):\n",
    "    np.put(myAr,Nucleotides_Weight.index[idx],random.choices(Bases,Nucleotides_Weight.iloc[idx].values))\n",
    "Gene_Promoter = ''.join(myAr)\n",
    "print('Promoter: {}'.format(Gene_Promoter))"
   ]
  },
  {
   "cell_type": "code",
   "execution_count": null,
   "metadata": {},
   "outputs": [],
   "source": [
    "# test of expression strength\n",
    "\n",
    "import joblib\n",
    "from BioLabSimFun import list_onehot, list_integer\n",
    "\n",
    "print(len(Gene_Promoter))\n",
    "\n",
    "Data_Folder = 'ExpressionPredictor'\n",
    "if myhost.var_Host == 'Ecol':\n",
    "    Regressor_File = os.path.join(Data_Folder,'Ecol-Promoter-predictor.pkl')\n",
    "    Add_Params = os.path.join(Data_Folder,'Ecol-Promoter-AddParams.pkl')\n",
    "    Scaler_DictName = 'Ecol Promoter Activity_Scaler'\n",
    "elif myhost.var_Host == 'Pput':\n",
    "    Regressor_File = os.path.join(Data_Folder,'Ptai-Promoter-predictor.pkl')\n",
    "    Add_Params = os.path.join(Data_Folder,'Ptai-Promoter-AddParams.pkl')\n",
    "    Scaler_DictName = 'Ptai Promoter Activity_Scaler'\n",
    "else:\n",
    "    print('Non-recognized host name. Rename host to either \"Ecol\" or \"Pput.\"')\n",
    "\n",
    "Predictor = joblib.load(Regressor_File)\n",
    "Params = pickle.load(open(Add_Params, 'rb'))\n",
    "Positions_removed = Params['Positions_removed']\n",
    "# Expr_Scaler = Params[Scaler_DictName]\n",
    "\n",
    "X = np.array(list_onehot(np.delete(list_integer(Gene_Promoter),Positions_removed, axis=0))).reshape(1,-1)  \n",
    "# GC content calculation\n",
    "GC_cont = (Gene_Promoter.count('G') + Gene_Promoter.count('C'))/len(Gene_Promoter)\n",
    "X = np.append(X,GC_cont) \n",
    "Y = Predictor.predict(np.array([X]))\n",
    "Y\n",
    "# Expression = round(float(Expr_Scaler.inverse_transform(Y_Test_norm)),3)\n"
   ]
  },
  {
   "cell_type": "code",
   "execution_count": null,
   "metadata": {},
   "outputs": [],
   "source": [
    "# Load an Escher map\n",
    "builder.map_name = 'e_coli_core.Core metabolism'\n",
    "builder.model = model\n",
    "builder.reaction_data = solution.fluxes\n",
    "# Add some data for metabolites\n",
    "#builder.metabolite_data = solution.shadow_prices\n",
    "# Simplify the map by hiding some labels\n",
    "builder.hide_secondary_metabolites = True\n",
    "#builder.hide_all_labels = True\n",
    "builder.reaction_scale = [\n",
    "    { 'type': 'min', 'color': '#000000', 'size': 12 },\n",
    "    { 'type': 'median', 'color': '#ffffff', 'size': 20 },\n",
    "    { 'type': 'max', 'color': '#ff0000', 'size': 25 }\n",
    "]\n",
    "builder.reaction_scale_preset = 'GaBuRd'\n",
    "\n",
    "# Make all the arrows three times as thick\n",
    "builder.reaction_scale = [\n",
    "    {k: v * 3 if k == 'size' else v for k, v in x.items()}\n",
    "    for x in builder.reaction_scale\n",
    "]\n",
    "builder.save_html('escher_map_file.html')"
   ]
  },
  {
   "cell_type": "markdown",
   "metadata": {
    "colab_type": "text",
    "id": "xpFf1wR0QX4L"
   },
   "source": [
    "## Prediction of growth rates\n",
    "### Choose the Substrate"
   ]
  },
  {
   "cell_type": "code",
   "execution_count": null,
   "metadata": {},
   "outputs": [],
   "source": [
    "myhost.Choose_Substrate(None)\n",
    "myhost.show_BiotechSetting()"
   ]
  },
  {
   "cell_type": "markdown",
   "metadata": {
    "colab_type": "text",
    "id": "JsDpC6gVQigc"
   },
   "source": [
    "### Familiarizing with biomass composition reactions\n",
    "\n",
    "Microorganisms adapt to their substrate. Different substrates provide different energy content and require different cellular resources to become metabolized. In GSMM these differences may be represented by different equations/reactions for the substrates. In iMR1026 for *P. pastoris* there are various biomass equations for glucose, glycerol, glucose-glycerol mixtures, and methanol. When simulating a model, we have to make sure we use the right biomass equation fitting with the substrate."
   ]
  },
  {
   "cell_type": "code",
   "execution_count": null,
   "metadata": {
    "colab": {},
    "colab_type": "code",
    "id": "DBNmaT-fRpQz"
   },
   "outputs": [],
   "source": [
    "# List of all reactions with 'BIOMASS' in their name\n",
    "model.reactions.query('?..?')"
   ]
  },
  {
   "cell_type": "code",
   "execution_count": null,
   "metadata": {
    "colab": {},
    "colab_type": "code",
    "id": "82QMmzXYR4br"
   },
   "outputs": [],
   "source": [
    "# Looking in detail to biomass with methanol; use the reaction name given to you from the list of all biomass reactions;\n",
    "model.reactions.?..?"
   ]
  },
  {
   "cell_type": "markdown",
   "metadata": {
    "colab_type": "text",
    "id": "N_eSuR-EyQ-M"
   },
   "source": [
    "### Defining functions for correct biomass equation switch\n",
    "\n",
    "For each substrate, the boundary exchange fluxes are activated and the reactions of competing substrates are disabled.\n",
    "\n",
    "Remember to write a specific function to adapt the model for glucose utilization."
   ]
  },
  {
   "cell_type": "code",
   "execution_count": null,
   "metadata": {
    "colab": {},
    "colab_type": "code",
    "id": "XqM2cco0Qpn0"
   },
   "outputs": [],
   "source": [
    "def AdaptMethanol(model, meoh_up):\n",
    "  model.objective = 'BIOMASS_meoh'\n",
    "  # setting uptake reactions right\n",
    "  model.reactions.Ex_glc_D.lower_bound = 0\n",
    "  model.reactions.Ex_glyc.lower_bound = 0\n",
    "  model.reactions.ATPM.lower_bound = .4\n",
    "  model.reactions.Ex_meoh.lower_bound = -np.abs(meoh_up)\n",
    "  # setting additional biomass composition\n",
    "  model.reactions.LIPIDS_meoh.upper_bound = 1000\n",
    "  model.reactions.PROTEINS_meoh.upper_bound = 1000\n",
    "  model.reactions.STEROLS_meoh.upper_bound = 1000\n",
    "  model.reactions.BIOMASS_meoh.upper_bound = 1000\n",
    "  # deactivating Glyc-based biomass composition\n",
    "  model.reactions.LIPIDS_glyc.upper_bound = 0\n",
    "  model.reactions.PROTEINS_glyc.upper_bound = 0\n",
    "  model.reactions.STEROLS_glyc.upper_bound = 0\n",
    "  model.reactions.BIOMASS_glyc.upper_bound = 0  \n",
    "  # deactivating Glc-based biomass composition\n",
    "  model.reactions.LIPIDS.upper_bound = 0\n",
    "  model.reactions.PROTEINS.upper_bound = 0\n",
    "  model.reactions.STEROLS.upper_bound = 0\n",
    "  model.reactions.BIOMASS.upper_bound = 0  \n",
    "  return model\n",
    "\n",
    "def AdaptGlycerol(model, glyc_up):\n",
    "  model.objective = 'BIOMASS_glyc'\n",
    "  # setting uptake reactions right\n",
    "  model.reactions.Ex_meoh.lower_bound = 0\n",
    "  model.reactions.Ex_glc_D.lower_bound = 0\n",
    "  model.reactions.ATPM.lower_bound = 2.5\n",
    "  model.reactions.Ex_glyc.lower_bound = -np.abs(glyc_up)\n",
    "  # setting additional biomass composition\n",
    "  model.reactions.LIPIDS_glyc.upper_bound = 1000\n",
    "  model.reactions.PROTEINS_glyc.upper_bound = 1000\n",
    "  model.reactions.STEROLS_glyc.upper_bound = 1000\n",
    "  model.reactions.BIOMASS_glyc.upper_bound = 1000  \n",
    "  # deactivating MeOH-based biomass composition\n",
    "  model.reactions.LIPIDS_meoh.upper_bound = 0\n",
    "  model.reactions.PROTEINS_meoh.upper_bound = 0\n",
    "  model.reactions.STEROLS_meoh.upper_bound = 0\n",
    "  model.reactions.BIOMASS_meoh.upper_bound = 0\n",
    "  # deactivating Glc-based biomass composition\n",
    "  model.reactions.LIPIDS.upper_bound = 0\n",
    "  model.reactions.PROTEINS.upper_bound = 0\n",
    "  model.reactions.STEROLS.upper_bound = 0\n",
    "  model.reactions.BIOMASS.upper_bound = 0\n",
    "  return model\n",
    "\n",
    "def AdaptGlucose(model, glc_up):\n",
    "  # setting uptake reactions right\n",
    "  model.reactions.Ex_meoh.lower_bound = 0\n",
    "  model.reactions.Ex_glyc.lower_bound = 0\n",
    "  model.reactions.Ex_glc_D.lower_bound = -np.abs(glc_up)\n",
    "  # setting additional biomass composition\n",
    "  model.reactions.LIPIDS.upper_bound = 1000\n",
    "  model.reactions.PROTEINS.upper_bound = 1000\n",
    "  model.reactions.STEROLS.upper_bound = 1000\n",
    "  model.reactions.BIOMASS.upper_bound = 1000  \n",
    "  # deactivating Glyc-based biomass composition\n",
    "  model.reactions.LIPIDS_glyc.upper_bound = 0\n",
    "  model.reactions.PROTEINS_glyc.upper_bound = 0\n",
    "  model.reactions.STEROLS_glyc.upper_bound = 0\n",
    "  model.reactions.BIOMASS_glyc.upper_bound = 0  \n",
    " # deactivating meoh-based biomass composition\n",
    "  model.reactions.LIPIDS_meoh.upper_bound = 0\n",
    "  model.reactions.PROTEINS_meoh.upper_bound = 0\n",
    "  model.reactions.STEROLS_meoh.upper_bound = 0\n",
    "  model.reactions.BIOMASS_meoh.upper_bound = 0\n",
    "  model.objective = 'BIOMASS'\n",
    "  return model"
   ]
  },
  {
   "cell_type": "markdown",
   "metadata": {
    "colab_type": "text",
    "id": "K045st1gSllg"
   },
   "source": [
    "### Data retrieval\n",
    "\n",
    "For evaluation of the growth rate prediction of the *P. pastoris* model we use experimental data from the closely related organism *Ogataea polymorpha*. The measurements in the table are extracted from [van Dijken et al. 1976](https://dx.doi.org/10.1007/bf00446560) for methanol and from [de Koning et al., 1987](https://dx.doi.org/10.1007/BF00456710) and [Moon et al., 2003](https://dx.doi.org/10.1385/ABAB:111:2:65).\n",
    "\n",
    "Data Address: [here](https://rwth-aachen.sciebo.de/s/o72jwWQWh3ame1e/download)\n",
    "\n",
    "**When using Binder:**\n",
    "Click on \"here\" and save the file. Go back to \"Home\"-Tab in the browser afterwards and navigate back to the root directory of your cloud system (i.e. you see the Jupyter notebook files). Click on the \"Upload\" button on the right side of the window and select the file you just saved. Now you should see the file \"Opol-expt-grwth_MeOH-Glyc.csv\", click again on \"Upload\" in the line of the corresponding file. Now go back to the simulation-Tab. Replace '?..?' in the cell below by entering the name of the csv file you downloaded. Then press Ctrl+Enter to load the experimental data.\n",
    "\n",
    "**When using Colab:**\n",
    "Click on \"here\" and save the file. Then click on \"Files\" on the left side of the window. Upload the file you have just saved by clicking on \"Upload\" and selecting this file. Now you should see the file \"Opol-expt-grwth_MeOH-Glyc.csv\" in the \"Files\" section. If this is not the case, click on \"Refresh\". Then right-click on this file and select \"Copy path\". Replace '?..?' in the cell below with the file by pressing Ctrl+V. Then evaluate the cell by Ctrl+Enter."
   ]
  },
  {
   "cell_type": "code",
   "execution_count": null,
   "metadata": {
    "colab": {},
    "colab_type": "code",
    "id": "mfOlv0uiCNvI"
   },
   "outputs": [],
   "source": [
    "# Create Excel file with all uptake rates and then import it instead as follows:\n",
    "# data = pd.read_excel('nameOfFile.xlsx', sheet_name='Ecol', index_col=0)\n",
    "\n",
    "data = pd.read_csv('?..?', delimiter=',|;', engine='python')\n",
    "data\n"
   ]
  },
  {
   "cell_type": "markdown",
   "metadata": {
    "colab_type": "text",
    "id": "aMLKO9MNe1fq"
   },
   "source": [
    "Adding measurements for glucose from [Lehnen et al., 2017](https://doi.org/10.1016/j.meteno.2017.07.001) to our basic data table. The required information is the growth rate on glucose for *H. polymorpha*. Extract the necessary information from Table 3 in the article. The reaction name for the 'Exchange'-reaction is 'Ex_glc_D', replace this in the corresponding position of '?..?' in the cell below."
   ]
  },
  {
   "cell_type": "code",
   "execution_count": null,
   "metadata": {
    "colab": {},
    "colab_type": "code",
    "id": "4mTMJvd0ZHFv"
   },
   "outputs": [],
   "source": [
    "data = data.append({'Substrate':'Glucose', 'Exchange':'?..?', 'uptake rate (mmol/gCDW/h)':?..?, 'growth rate (/h)':?..?, 'source':'Lehnen et al.'}, ignore_index=True)"
   ]
  },
  {
   "cell_type": "markdown",
   "metadata": {
    "colab_type": "text",
    "id": "Wxe3Csg0TtYV"
   },
   "source": [
    "### Simulation loop\n",
    "For-Loop over all experimental data points.\n",
    "\n",
    "Remember to add a decision when you include glucose."
   ]
  },
  {
   "cell_type": "code",
   "execution_count": null,
   "metadata": {
    "colab": {},
    "colab_type": "code",
    "id": "TPyYPHrXUMs1"
   },
   "outputs": [],
   "source": [
    "# At the beginning a substrate was selected, therefore only one execution is necessary, approximately as follows:\n",
    "# Substrate = myhost.var_Substrate\n",
    "# model=AdaptSubstrate(model, data.loc[['Substrate'],['uptake rate']].values)\n",
    "# growth_simulated = model.optimize()\n",
    "\n",
    "growth_simulated = [];\n",
    "# test_model = model.copy()\n",
    "# iteration over all rows in 'data'\n",
    "for index, row in data.iterrows():\n",
    "  with model as test_model:\n",
    "    print(index) # printing the row number to get feedback that everything is working\n",
    "    # selecting the right substrate in the model based on 'Substrate' in 'data'\n",
    "    if row['Substrate'] == 'Methanol':\n",
    "      model = AdaptMethanol(test_model, row['uptake rate (mmol/gCDW/h)'])\n",
    "    elif row['Substrate'] == 'Glycerol':\n",
    "      model = AdaptGlycerol(test_model, row['uptake rate (mmol/gCDW/h)'])\n",
    "    elif row['Substrate'] == 'Glucose':\n",
    "      test_model = AdaptGlucose(test_model, row['uptake rate (mmol/gCDW/h)'])\n",
    "    else:\n",
    "      print('substrate not considered')      \n",
    "  #     model.optimize()\n",
    "    growth_simulated.append(model.slim_optimize())\n"
   ]
  },
  {
   "cell_type": "markdown",
   "metadata": {
    "colab_type": "text",
    "id": "aN5SDn5yWJER"
   },
   "source": [
    "### Graphical output\n",
    "\n",
    "Remember to add glucose to the visualization. Add the right axis labels, and a file name."
   ]
  },
  {
   "cell_type": "code",
   "execution_count": null,
   "metadata": {
    "colab": {},
    "colab_type": "code",
    "id": "1DG-7h3qWLRi"
   },
   "outputs": [],
   "source": [
    "plt.scatter(data['growth rate (/h)'][0:7], growth_simulated[0:7], s=50, c='k', marker='o');\n",
    "plt.scatter(data['growth rate (/h)'][7], growth_simulated[7], s=50, c='k', marker='s');\n",
    "plt.scatter(data['growth rate (/h)'][8], growth_simulated[8], s=50, c='k', marker='d');\n",
    "plt.xlabel('?..?');\n",
    "plt.ylabel('?..?');\n",
    "myline = np.linspace(0,np.max(growth_simulated),10);\n",
    "plt.plot(myline,myline,'k--');\n",
    "plt.title('Growth rate comparison');\n",
    "plt.legend(['Optimum', 'Methanol (van Dijken)', 'Glycerol (deKoning, Moon)', 'Glucose (Lehnen et al.)'], loc=2);\n",
    "plt.style.use('seaborn-paper')\n",
    "\n",
    "# Saving figure\n",
    "plt.savefig('?..?.png')"
   ]
  }
 ],
 "metadata": {
  "colab": {
   "collapsed_sections": [],
   "include_colab_link": true,
   "name": "2001_QuantMiBi1_CobraPy_SimVal.ipynb",
   "provenance": [],
   "toc_visible": true
  },
  "kernelspec": {
   "display_name": "Python 3",
   "language": "python",
   "name": "python3"
  },
  "language_info": {
   "codemirror_mode": {
    "name": "ipython",
    "version": 3
   },
   "file_extension": ".py",
   "mimetype": "text/x-python",
   "name": "python",
   "nbconvert_exporter": "python",
   "pygments_lexer": "ipython3",
   "version": "3.7.6"
  }
 },
 "nbformat": 4,
 "nbformat_minor": 4
}
