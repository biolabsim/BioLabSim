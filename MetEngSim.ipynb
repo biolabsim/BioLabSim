{
 "cells": [
  {
   "cell_type": "markdown",
   "metadata": {
    "colab_type": "text",
    "id": "dPnMzwQ_IWwZ"
   },
   "source": [
    "# Seminar Quantitativ Microbiology \n",
    "# Metabolite Production with Strain Engineering\n",
    "\n",
    "## Introduction\n",
    "\n",
    "\n",
    "For a overview on Jupyter notebooks read [this review](https://www.nature.com/articles/d41586-018-07196-1). \n",
    "\n",
    "---\n",
    "\n",
    "## Tutorial Steps\n",
    "  * Set up of Python environment\n",
    "    * Basic libraries(sys, pandas, numpy, matplotlib, zipfile, cobrapy)\n",
    "  * Analysis of Genome Scale Metabolic Model\n",
    "    * Retrieval of GSMM for *P. pastoris*\n",
    "    * Flux variability of exchange reactions\n",
    "    * Minimal medium composition\n",
    "  * Experimental growth rate reproduction\n",
    "    * Familiarizing with biomass composition reactions\n",
    "    * Defining functions for correct biomass equation switch\n",
    "    * Data retrieval\n",
    "    * Simulation loop\n",
    "    * Graphical output\n"
   ]
  },
  {
   "cell_type": "markdown",
   "metadata": {
    "colab_type": "text",
    "id": "XRP3j145RXOi"
   },
   "source": [
    "## Set-up compute environment\n",
    "\n",
    "Before we can analyse GSMM, we have adjust the python environment that it integrates the cobrapy toolbox and downloading the GSMM."
   ]
  },
  {
   "cell_type": "markdown",
   "metadata": {
    "colab_type": "text",
    "id": "ewTIEAb4Rb2G"
   },
   "source": [
    "### Basic Python libraries \n",
    "Some libraries that facilitate data manipulation"
   ]
  },
  {
   "cell_type": "code",
   "execution_count": 1,
   "metadata": {
    "colab": {},
    "colab_type": "code",
    "id": "6wxIUGOEReDX"
   },
   "outputs": [
    {
     "name": "stdout",
     "output_type": "stream",
     "text": [
      "System ready\n"
     ]
    }
   ],
   "source": [
    "import sys # loading commands to control/navigate within the system architecture\n",
    "# Loading pandas, a library for data manipulation\n",
    "from os.path import join\n",
    "import xlrd\n",
    "import pandas as pd\n",
    "# import lxml\n",
    "\n",
    "# Loading numpy, a library fo manipulation of numbers\n",
    "import numpy as np\n",
    "\n",
    "# loading matplotlib, a library for visualization\n",
    "import matplotlib.pyplot as plt\n",
    "%matplotlib inline\n",
    "\n",
    "# loading cobrapy, a library dedicated to the analysis of genome scale metabolic models\n",
    "from cobra.io import read_sbml_model, write_sbml_model, load_matlab_model\n",
    "\n",
    "# loading escher for metabolic network visualization\n",
    "import escher\n",
    "from escher import Builder\n",
    "from time import sleep\n",
    "escher.rc['never_ask_before_quit'] = True\n",
    "# list of available maps\n",
    "# print(escher.list_available_maps())\n",
    "\n",
    "# loading Memote, quality assessment of GSMM\n",
    "from memote import test_model, snapshot_report\n",
    "\n",
    "print('System ready')"
   ]
  },
  {
   "cell_type": "code",
   "execution_count": 126,
   "metadata": {},
   "outputs": [
    {
     "name": "stdout",
     "output_type": "stream",
     "text": [
      "Initiating metabolic network\n",
      "Host: Pput\n",
      "Resources: 40\n",
      "Substrate: None\n",
      "Library: {}\n",
      "GenomeSize: 5725\n",
      "GCcont: 0.48\n",
      "Model: e_coli_core\n"
     ]
    }
   ],
   "source": [
    "from BioLabSimFun import Mutant\n",
    "\n",
    "myHost = Mutant('Pput', MetNet=True)\n",
    "myHost.show_BiotechSetting()"
   ]
  },
  {
   "cell_type": "code",
   "execution_count": 141,
   "metadata": {},
   "outputs": [
    {
     "data": {
      "text/plain": [
       "array([0])"
      ]
     },
     "execution_count": 141,
     "metadata": {},
     "output_type": "execute_result"
    }
   ],
   "source": [
    "# myHost._Mutant__GenesDF['RctID']\n",
    "myHost._Mutant__GenesDF[myHost._Mutant__GenesDF['RctID']=='PFK'].index.values\n",
    "# myHost._Mutant__GenesDF.index[]\n",
    "# myHost._Mutant__GenesDF['ORF'].iloc[0]"
   ]
  },
  {
   "cell_type": "code",
   "execution_count": 120,
   "metadata": {},
   "outputs": [],
   "source": [
    "mycorr = myHost._Mutant__GenesDF['Fluxes']/myHost._Mutant__GenesDF['Expression']"
   ]
  },
  {
   "cell_type": "code",
   "execution_count": 100,
   "metadata": {},
   "outputs": [
    {
     "data": {
      "text/plain": [
       "['glc__D_e',\n",
       " 'gln__L_c',\n",
       " 'gln__L_e',\n",
       " 'glu__L_c',\n",
       " 'glu__L_e',\n",
       " 'glx_c',\n",
       " 'h2o_c',\n",
       " 'h2o_e',\n",
       " 'h_c',\n",
       " 'h_e',\n",
       " 'icit_c',\n",
       " 'lac__D_c',\n",
       " 'lac__D_e',\n",
       " 'mal__L_c',\n",
       " 'mal__L_e',\n",
       " 'nad_c',\n",
       " 'nadh_c',\n",
       " 'nadp_c',\n",
       " 'nadph_c',\n",
       " 'nh4_c',\n",
       " '13dpg_c',\n",
       " 'nh4_e',\n",
       " 'o2_c',\n",
       " '2pg_c',\n",
       " 'o2_e',\n",
       " '3pg_c',\n",
       " 'oaa_c',\n",
       " 'pep_c',\n",
       " '6pgc_c',\n",
       " 'pi_c',\n",
       " '6pgl_c',\n",
       " 'pi_e',\n",
       " 'ac_c',\n",
       " 'pyr_c',\n",
       " 'pyr_e',\n",
       " 'q8_c',\n",
       " 'q8h2_c',\n",
       " 'r5p_c',\n",
       " 'ru5p__D_c',\n",
       " 'ac_e',\n",
       " 'acald_c',\n",
       " 's7p_c',\n",
       " 'acald_e',\n",
       " 'accoa_c',\n",
       " 'succ_c',\n",
       " 'succ_e',\n",
       " 'succoa_c',\n",
       " 'acon_C_c',\n",
       " 'xu5p__D_c',\n",
       " 'actp_c',\n",
       " 'adp_c',\n",
       " 'akg_c',\n",
       " 'akg_e',\n",
       " 'amp_c',\n",
       " 'atp_c',\n",
       " 'cit_c',\n",
       " 'co2_c',\n",
       " 'co2_e',\n",
       " 'coa_c',\n",
       " 'dhap_c',\n",
       " 'e4p_c',\n",
       " 'etoh_c',\n",
       " 'etoh_e',\n",
       " 'f6p_c',\n",
       " 'fdp_c',\n",
       " 'for_c',\n",
       " 'for_e',\n",
       " 'fru_e',\n",
       " 'fum_c',\n",
       " 'fum_e',\n",
       " 'g3p_c',\n",
       " 'g6p_c']"
      ]
     },
     "execution_count": 100,
     "metadata": {},
     "output_type": "execute_result"
    }
   ],
   "source": [
    "metlist = [metabolite.id for metabolite in myHost.var_Model.metabolites]\n",
    "metlist"
   ]
  },
  {
   "cell_type": "code",
   "execution_count": 41,
   "metadata": {},
   "outputs": [
    {
     "data": {
      "text/plain": [
       "array([  7.47738196,   0.        ,   4.86086115, -16.02352614,\n",
       "         4.95998494,   0.        ,   0.        , -14.71613957,\n",
       "         3.21489505,   0.        ,   0.        ,   0.        ,\n",
       "         2.50430947,   6.00724958,   6.00724958,   8.39      ,\n",
       "         0.        ,   0.        ,   0.        ,   0.        ,\n",
       "         5.06437566,  45.51400977,   0.        ,   1.75817744,\n",
       "         0.87392151,   0.        , -22.80983331,   2.67848185,\n",
       "         6.00724958,  -2.28150309,   0.        ,  43.59898531,\n",
       "         0.        ,  14.71613957,   0.        ,   0.        ,\n",
       "         5.06437566,  -5.06437566,   1.49698376,   0.        ,\n",
       "         1.49698376,   1.18149809,   7.47738196,   0.        ,\n",
       "         0.        ,   0.        ,  22.80983331,   0.        ,\n",
       "         0.        ,   0.        ,   0.        , -10.        ,\n",
       "         0.        ,   0.        ,  17.53086543,  29.17582714,\n",
       "         0.        ,   0.        ,  -4.76531919, -21.79949266,\n",
       "        -3.21489505,   0.        ,   0.        ,   7.47738196,\n",
       "         0.        ,   0.        ,   0.        ,   0.        ,\n",
       "         0.        ,   5.06437566,   0.        ,   4.95998494,\n",
       "        16.02352614,  10.        ,   0.22346173,   0.        ,\n",
       "        -4.54185746,   0.        ,   0.        ,   0.        ,\n",
       "         4.95998494, -29.17582714,   6.00724958,   0.        ,\n",
       "         0.        ,   0.        ,   0.        ,   5.06437566,\n",
       "         0.        ,   0.        ,  38.53460965,   0.        ,\n",
       "         4.76531919,  21.79949266,   9.2825326 ])"
      ]
     },
     "execution_count": 41,
     "metadata": {},
     "output_type": "execute_result"
    }
   ],
   "source": [
    "#setup of metabolite database\n",
    "solution = model.optimize()\n",
    "solution.fluxes.values"
   ]
  },
  {
   "cell_type": "code",
   "execution_count": 118,
   "metadata": {},
   "outputs": [
    {
     "data": {
      "text/plain": [
       "array(['glc__D_e', 'gln__L_c', 'glu__L_c', 'h2o_c', 'h2o_e', 'h_c', 'h_e',\n",
       "       'icit_c', 'mal__L_c', 'nad_c', 'nadh_c', 'nadp_c', 'nadph_c',\n",
       "       'nh4_c', '13dpg_c', 'nh4_e', 'o2_c', '2pg_c', 'o2_e', '3pg_c',\n",
       "       'oaa_c', 'pep_c', '6pgc_c', 'pi_c', '6pgl_c', 'pi_e', 'pyr_c',\n",
       "       'q8_c', 'q8h2_c', 'r5p_c', 'ru5p__D_c', 's7p_c', 'accoa_c',\n",
       "       'succ_c', 'succoa_c', 'acon_C_c', 'xu5p__D_c', 'adp_c', 'akg_c',\n",
       "       'atp_c', 'cit_c', 'co2_c', 'co2_e', 'coa_c', 'dhap_c', 'e4p_c',\n",
       "       'f6p_c', 'fdp_c', 'fum_c', 'g3p_c', 'g6p_c'], dtype='<U9')"
      ]
     },
     "execution_count": 118,
     "metadata": {},
     "output_type": "execute_result"
    }
   ],
   "source": [
    "from cobra.util.array import create_stoichiometric_matrix\n",
    "StoichMat = create_stoichiometric_matrix(model, array_type=\"dense\", dtype=None)\n",
    "\n",
    "mymult = np.where(StoichMat*solution.fluxes.values!=0,1,0)\n",
    "metInd = np.nonzero(np.sum(mymult, axis=1))\n",
    "# metInd = np.reshape(np.array(np.nonzero(np.sum(mymult,axis=0))),-1)\n",
    "np.array(metlist)[metInd]"
   ]
  },
  {
   "cell_type": "code",
   "execution_count": 26,
   "metadata": {},
   "outputs": [
    {
     "name": "stdout",
     "output_type": "stream",
     "text": [
      "--2020-09-09 16:53:24--  http://bigg.ucsd.edu/static/models/e_coli_core.xml\n",
      "Resolving bigg.ucsd.edu (bigg.ucsd.edu)... 169.228.33.117\n",
      "Connecting to bigg.ucsd.edu (bigg.ucsd.edu)|169.228.33.117|:80... connected.\n",
      "HTTP request sent, awaiting response... 200 OK\n",
      "Length: 707166 (691K) [application/xml]\n",
      "Saving to: ‘e_coli_core.xml.6’\n",
      "\n",
      "e_coli_core.xml.6   100%[===================>] 690.59K   738KB/s    in 0.9s    \n",
      "\n",
      "2020-09-09 16:53:26 (738 KB/s) - ‘e_coli_core.xml.6’ saved [707166/707166]\n",
      "\n"
     ]
    },
    {
     "data": {
      "text/html": [
       "<div>\n",
       "<style scoped>\n",
       "    .dataframe tbody tr th:only-of-type {\n",
       "        vertical-align: middle;\n",
       "    }\n",
       "\n",
       "    .dataframe tbody tr th {\n",
       "        vertical-align: top;\n",
       "    }\n",
       "\n",
       "    .dataframe thead tr th {\n",
       "        text-align: left;\n",
       "    }\n",
       "</style>\n",
       "<table border=\"1\" class=\"dataframe\">\n",
       "  <thead>\n",
       "    <tr>\n",
       "      <th></th>\n",
       "      <th colspan=\"2\" halign=\"left\">IN_FLUXES</th>\n",
       "      <th colspan=\"2\" halign=\"left\">OUT_FLUXES</th>\n",
       "      <th colspan=\"2\" halign=\"left\">OBJECTIVES</th>\n",
       "    </tr>\n",
       "    <tr>\n",
       "      <th></th>\n",
       "      <th>ID</th>\n",
       "      <th>FLUX</th>\n",
       "      <th>ID</th>\n",
       "      <th>FLUX</th>\n",
       "      <th>ID</th>\n",
       "      <th>FLUX</th>\n",
       "    </tr>\n",
       "  </thead>\n",
       "  <tbody>\n",
       "    <tr>\n",
       "      <th>0</th>\n",
       "      <td>o2_e</td>\n",
       "      <td>21.799493</td>\n",
       "      <td>h2o_e</td>\n",
       "      <td>29.175827</td>\n",
       "      <td>BIOMASS_Ecoli_core_w_GAM</td>\n",
       "      <td>0.873922</td>\n",
       "    </tr>\n",
       "    <tr>\n",
       "      <th>1</th>\n",
       "      <td>glc__D_e</td>\n",
       "      <td>10.000000</td>\n",
       "      <td>co2_e</td>\n",
       "      <td>22.809833</td>\n",
       "      <td>NaN</td>\n",
       "      <td>NaN</td>\n",
       "    </tr>\n",
       "    <tr>\n",
       "      <th>2</th>\n",
       "      <td>nh4_e</td>\n",
       "      <td>4.765319</td>\n",
       "      <td>h_e</td>\n",
       "      <td>17.530865</td>\n",
       "      <td>NaN</td>\n",
       "      <td>NaN</td>\n",
       "    </tr>\n",
       "    <tr>\n",
       "      <th>3</th>\n",
       "      <td>pi_e</td>\n",
       "      <td>3.214895</td>\n",
       "      <td>NaN</td>\n",
       "      <td>NaN</td>\n",
       "      <td>NaN</td>\n",
       "      <td>NaN</td>\n",
       "    </tr>\n",
       "  </tbody>\n",
       "</table>\n",
       "</div>"
      ],
      "text/plain": [
       "<cobra.core.summary.model_summary.ModelSummary at 0x7fabb9b6b1d0>"
      ]
     },
     "execution_count": 26,
     "metadata": {},
     "output_type": "execute_result"
    }
   ],
   "source": [
    "!wget http://bigg.ucsd.edu/static/models/e_coli_core.xml\n",
    "\n",
    "# loading a visualization file of the metabolic network. \n",
    "# For frequently used models, like iJO1366, Escher automatically retrieves the visualization file.  \n",
    "#!wget http://bigg.ucsd.edu/static/models/iJO1366.json\n",
    "\n",
    "# generating cobra variable from SBML/xml/mat file\n",
    "myFile = 'e_coli_core.xml'\n",
    "model = read_sbml_model(myFile)\n",
    "\n",
    "# solution = model.optimize()\n",
    "model.summary() # fva=.95 additional argument specifies allowed deviation from the optimum \n"
   ]
  },
  {
   "cell_type": "markdown",
   "metadata": {
    "colab_type": "text",
    "id": "cvSOmwrZbNIG"
   },
   "source": [
    "### Malate Export Reaction\n",
    "coding for malate export reaction."
   ]
  },
  {
   "cell_type": "code",
   "execution_count": null,
   "metadata": {},
   "outputs": [],
   "source": [
    "import random\n",
    "\n",
    "Model = myhost.var_Model\n",
    "# coding sequence construction\n",
    "# first we determine the minimum coding gene length of nucleotides to distinguish the enzymes in the model\n",
    "Enzyme_Number = len(Model.reactions)\n",
    "Gen_Minimum = np.ceil(np.log2(Enzyme_Number))\n",
    "\n",
    "# we want to represent codon triplicates, we calculate the next highest divisor of three\n",
    "Gene_Length = int(np.ceil(Gen_Minimum/3))\n",
    "CodonFile = 'CodonTriplets.csv'\n",
    "CodonTriplets = pd.read_csv(CodonFile, delimiter=';', skipinitialspace=True)\n",
    "CodonStop = CodonTriplets[['Stop' in s for s in CodonTriplets['Name']]].reset_index()\n",
    "CodonCoding = CodonTriplets.drop(CodonStop.index).reset_index()\n",
    "Gene_Coding = [random.choices(CodonCoding['Triplet'], weights=CodonCoding['Percent']) for CodonId in range(Gene_Length)]\n",
    "Gene_Stop = random.choices(CodonStop['Triplet'], weights=CodonStop['Percent'])\n",
    "Gene_Coding.append(Gene_Stop)\n",
    "Gene_Coding.insert(0,['ATG'])\n",
    "Gene_Coding = ''.join([Letter for Nest in Gene_Coding for Letter in Nest])\n",
    "print(Gene_Coding)\n"
   ]
  },
  {
   "cell_type": "code",
   "execution_count": null,
   "metadata": {},
   "outputs": [],
   "source": [
    "import pickle\n",
    "import os\n",
    "import random\n",
    "# generating promoter sequence\n",
    "\n",
    "# loading information that determines the exploratory space of the regressor\n",
    "# weight file has boolean representations for each base on each position whether it was part of the training set or not\n",
    "WeightFile = os.path.join('Models','NucleotideWeightTable.pkl')\n",
    "with open(WeightFile, 'rb') as handle:\n",
    "    Nucleotides_Weight = pickle.load(handle)\n",
    "\n",
    "# the reference sequence contains the most common tested nucleotides at each position\n",
    "RefFile = os.path.join('Models','RefSeq.txt')\n",
    "with open(RefFile) as f:\n",
    "    RefSeq = f.read()\n",
    "Nucleotides_Weight.index = Nucleotides_Weight.index+40\n",
    "\n",
    "# setup of default sequence with reference\n",
    "myAr = np.asarray([Letter for Letter in RefSeq])\n",
    "\n",
    "# changing positions within the exploratory space of the regressor\n",
    "Bases = ['A','C','G','T']\n",
    "for idx in range(len(Nucleotides_Weight)):\n",
    "    np.put(myAr,Nucleotides_Weight.index[idx],random.choices(Bases,Nucleotides_Weight.iloc[idx].values))\n",
    "Gene_Promoter = ''.join(myAr)\n",
    "print('Promoter: {}'.format(Gene_Promoter))"
   ]
  },
  {
   "cell_type": "code",
   "execution_count": null,
   "metadata": {},
   "outputs": [],
   "source": [
    "# test of expression strength\n",
    "\n",
    "import joblib\n",
    "from BioLabSimFun import list_onehot, list_integer\n",
    "\n",
    "print(len(Gene_Promoter))\n",
    "\n",
    "Data_Folder = 'ExpressionPredictor'\n",
    "if myhost.var_Host == 'Ecol':\n",
    "    Regressor_File = os.path.join(Data_Folder,'Ecol-Promoter-predictor.pkl')\n",
    "    Add_Params = os.path.join(Data_Folder,'Ecol-Promoter-AddParams.pkl')\n",
    "    Scaler_DictName = 'Ecol Promoter Activity_Scaler'\n",
    "elif myhost.var_Host == 'Pput':\n",
    "    Regressor_File = os.path.join(Data_Folder,'Ptai-Promoter-predictor.pkl')\n",
    "    Add_Params = os.path.join(Data_Folder,'Ptai-Promoter-AddParams.pkl')\n",
    "    Scaler_DictName = 'Ptai Promoter Activity_Scaler'\n",
    "else:\n",
    "    print('Non-recognized host name. Rename host to either \"Ecol\" or \"Pput.\"')\n",
    "\n",
    "Predictor = joblib.load(Regressor_File)\n",
    "Params = pickle.load(open(Add_Params, 'rb'))\n",
    "Positions_removed = Params['Positions_removed']\n",
    "# Expr_Scaler = Params[Scaler_DictName]\n",
    "\n",
    "X = np.array(list_onehot(np.delete(list_integer(Gene_Promoter),Positions_removed, axis=0))).reshape(1,-1)  \n",
    "# GC content calculation\n",
    "GC_cont = (Gene_Promoter.count('G') + Gene_Promoter.count('C'))/len(Gene_Promoter)\n",
    "X = np.append(X,GC_cont) \n",
    "Y = Predictor.predict(np.array([X]))\n",
    "Y\n",
    "# Expression = round(float(Expr_Scaler.inverse_transform(Y_Test_norm)),3)\n"
   ]
  },
  {
   "cell_type": "code",
   "execution_count": null,
   "metadata": {},
   "outputs": [],
   "source": [
    "# Load an Escher map\n",
    "builder.map_name = 'e_coli_core.Core metabolism'\n",
    "builder.model = model\n",
    "builder.reaction_data = solution.fluxes\n",
    "# Add some data for metabolites\n",
    "#builder.metabolite_data = solution.shadow_prices\n",
    "# Simplify the map by hiding some labels\n",
    "builder.hide_secondary_metabolites = True\n",
    "#builder.hide_all_labels = True\n",
    "builder.reaction_scale = [\n",
    "    { 'type': 'min', 'color': '#000000', 'size': 12 },\n",
    "    { 'type': 'median', 'color': '#ffffff', 'size': 20 },\n",
    "    { 'type': 'max', 'color': '#ff0000', 'size': 25 }\n",
    "]\n",
    "builder.reaction_scale_preset = 'GaBuRd'\n",
    "\n",
    "# Make all the arrows three times as thick\n",
    "builder.reaction_scale = [\n",
    "    {k: v * 3 if k == 'size' else v for k, v in x.items()}\n",
    "    for x in builder.reaction_scale\n",
    "]\n",
    "builder.save_html('escher_map_file.html')"
   ]
  },
  {
   "cell_type": "markdown",
   "metadata": {
    "colab_type": "text",
    "id": "xpFf1wR0QX4L"
   },
   "source": [
    "## Prediction of growth rates\n",
    "### Choose the Substrate"
   ]
  },
  {
   "cell_type": "code",
   "execution_count": null,
   "metadata": {},
   "outputs": [],
   "source": [
    "myhost.Choose_Substrate(None)\n",
    "myhost.show_BiotechSetting()"
   ]
  },
  {
   "cell_type": "markdown",
   "metadata": {
    "colab_type": "text",
    "id": "JsDpC6gVQigc"
   },
   "source": [
    "### Familiarizing with biomass composition reactions\n",
    "\n",
    "Microorganisms adapt to their substrate. Different substrates provide different energy content and require different cellular resources to become metabolized. In GSMM these differences may be represented by different equations/reactions for the substrates. In iMR1026 for *P. pastoris* there are various biomass equations for glucose, glycerol, glucose-glycerol mixtures, and methanol. When simulating a model, we have to make sure we use the right biomass equation fitting with the substrate."
   ]
  },
  {
   "cell_type": "code",
   "execution_count": null,
   "metadata": {
    "colab": {},
    "colab_type": "code",
    "id": "DBNmaT-fRpQz"
   },
   "outputs": [],
   "source": [
    "# List of all reactions with 'BIOMASS' in their name\n",
    "model.reactions.query('?..?')"
   ]
  },
  {
   "cell_type": "code",
   "execution_count": null,
   "metadata": {
    "colab": {},
    "colab_type": "code",
    "id": "82QMmzXYR4br"
   },
   "outputs": [],
   "source": [
    "# Looking in detail to biomass with methanol; use the reaction name given to you from the list of all biomass reactions;\n",
    "model.reactions.?..?"
   ]
  },
  {
   "cell_type": "markdown",
   "metadata": {
    "colab_type": "text",
    "id": "N_eSuR-EyQ-M"
   },
   "source": [
    "### Defining functions for correct biomass equation switch\n",
    "\n",
    "For each substrate, the boundary exchange fluxes are activated and the reactions of competing substrates are disabled.\n",
    "\n",
    "Remember to write a specific function to adapt the model for glucose utilization."
   ]
  },
  {
   "cell_type": "code",
   "execution_count": null,
   "metadata": {
    "colab": {},
    "colab_type": "code",
    "id": "XqM2cco0Qpn0"
   },
   "outputs": [],
   "source": [
    "def AdaptMethanol(model, meoh_up):\n",
    "  model.objective = 'BIOMASS_meoh'\n",
    "  # setting uptake reactions right\n",
    "  model.reactions.Ex_glc_D.lower_bound = 0\n",
    "  model.reactions.Ex_glyc.lower_bound = 0\n",
    "  model.reactions.ATPM.lower_bound = .4\n",
    "  model.reactions.Ex_meoh.lower_bound = -np.abs(meoh_up)\n",
    "  # setting additional biomass composition\n",
    "  model.reactions.LIPIDS_meoh.upper_bound = 1000\n",
    "  model.reactions.PROTEINS_meoh.upper_bound = 1000\n",
    "  model.reactions.STEROLS_meoh.upper_bound = 1000\n",
    "  model.reactions.BIOMASS_meoh.upper_bound = 1000\n",
    "  # deactivating Glyc-based biomass composition\n",
    "  model.reactions.LIPIDS_glyc.upper_bound = 0\n",
    "  model.reactions.PROTEINS_glyc.upper_bound = 0\n",
    "  model.reactions.STEROLS_glyc.upper_bound = 0\n",
    "  model.reactions.BIOMASS_glyc.upper_bound = 0  \n",
    "  # deactivating Glc-based biomass composition\n",
    "  model.reactions.LIPIDS.upper_bound = 0\n",
    "  model.reactions.PROTEINS.upper_bound = 0\n",
    "  model.reactions.STEROLS.upper_bound = 0\n",
    "  model.reactions.BIOMASS.upper_bound = 0  \n",
    "  return model\n",
    "\n",
    "def AdaptGlycerol(model, glyc_up):\n",
    "  model.objective = 'BIOMASS_glyc'\n",
    "  # setting uptake reactions right\n",
    "  model.reactions.Ex_meoh.lower_bound = 0\n",
    "  model.reactions.Ex_glc_D.lower_bound = 0\n",
    "  model.reactions.ATPM.lower_bound = 2.5\n",
    "  model.reactions.Ex_glyc.lower_bound = -np.abs(glyc_up)\n",
    "  # setting additional biomass composition\n",
    "  model.reactions.LIPIDS_glyc.upper_bound = 1000\n",
    "  model.reactions.PROTEINS_glyc.upper_bound = 1000\n",
    "  model.reactions.STEROLS_glyc.upper_bound = 1000\n",
    "  model.reactions.BIOMASS_glyc.upper_bound = 1000  \n",
    "  # deactivating MeOH-based biomass composition\n",
    "  model.reactions.LIPIDS_meoh.upper_bound = 0\n",
    "  model.reactions.PROTEINS_meoh.upper_bound = 0\n",
    "  model.reactions.STEROLS_meoh.upper_bound = 0\n",
    "  model.reactions.BIOMASS_meoh.upper_bound = 0\n",
    "  # deactivating Glc-based biomass composition\n",
    "  model.reactions.LIPIDS.upper_bound = 0\n",
    "  model.reactions.PROTEINS.upper_bound = 0\n",
    "  model.reactions.STEROLS.upper_bound = 0\n",
    "  model.reactions.BIOMASS.upper_bound = 0\n",
    "  return model\n",
    "\n",
    "def AdaptGlucose(model, glc_up):\n",
    "  # setting uptake reactions right\n",
    "  model.reactions.Ex_meoh.lower_bound = 0\n",
    "  model.reactions.Ex_glyc.lower_bound = 0\n",
    "  model.reactions.Ex_glc_D.lower_bound = -np.abs(glc_up)\n",
    "  # setting additional biomass composition\n",
    "  model.reactions.LIPIDS.upper_bound = 1000\n",
    "  model.reactions.PROTEINS.upper_bound = 1000\n",
    "  model.reactions.STEROLS.upper_bound = 1000\n",
    "  model.reactions.BIOMASS.upper_bound = 1000  \n",
    "  # deactivating Glyc-based biomass composition\n",
    "  model.reactions.LIPIDS_glyc.upper_bound = 0\n",
    "  model.reactions.PROTEINS_glyc.upper_bound = 0\n",
    "  model.reactions.STEROLS_glyc.upper_bound = 0\n",
    "  model.reactions.BIOMASS_glyc.upper_bound = 0  \n",
    " # deactivating meoh-based biomass composition\n",
    "  model.reactions.LIPIDS_meoh.upper_bound = 0\n",
    "  model.reactions.PROTEINS_meoh.upper_bound = 0\n",
    "  model.reactions.STEROLS_meoh.upper_bound = 0\n",
    "  model.reactions.BIOMASS_meoh.upper_bound = 0\n",
    "  model.objective = 'BIOMASS'\n",
    "  return model"
   ]
  },
  {
   "cell_type": "markdown",
   "metadata": {
    "colab_type": "text",
    "id": "K045st1gSllg"
   },
   "source": [
    "### Data retrieval\n",
    "\n",
    "For evaluation of the growth rate prediction of the *P. pastoris* model we use experimental data from the closely related organism *Ogataea polymorpha*. The measurements in the table are extracted from [van Dijken et al. 1976](https://dx.doi.org/10.1007/bf00446560) for methanol and from [de Koning et al., 1987](https://dx.doi.org/10.1007/BF00456710) and [Moon et al., 2003](https://dx.doi.org/10.1385/ABAB:111:2:65).\n",
    "\n",
    "Data Address: [here](https://rwth-aachen.sciebo.de/s/o72jwWQWh3ame1e/download)\n",
    "\n",
    "**When using Binder:**\n",
    "Click on \"here\" and save the file. Go back to \"Home\"-Tab in the browser afterwards and navigate back to the root directory of your cloud system (i.e. you see the Jupyter notebook files). Click on the \"Upload\" button on the right side of the window and select the file you just saved. Now you should see the file \"Opol-expt-grwth_MeOH-Glyc.csv\", click again on \"Upload\" in the line of the corresponding file. Now go back to the simulation-Tab. Replace '?..?' in the cell below by entering the name of the csv file you downloaded. Then press Ctrl+Enter to load the experimental data.\n",
    "\n",
    "**When using Colab:**\n",
    "Click on \"here\" and save the file. Then click on \"Files\" on the left side of the window. Upload the file you have just saved by clicking on \"Upload\" and selecting this file. Now you should see the file \"Opol-expt-grwth_MeOH-Glyc.csv\" in the \"Files\" section. If this is not the case, click on \"Refresh\". Then right-click on this file and select \"Copy path\". Replace '?..?' in the cell below with the file by pressing Ctrl+V. Then evaluate the cell by Ctrl+Enter."
   ]
  },
  {
   "cell_type": "code",
   "execution_count": null,
   "metadata": {
    "colab": {},
    "colab_type": "code",
    "id": "mfOlv0uiCNvI"
   },
   "outputs": [],
   "source": [
    "# Create Excel file with all uptake rates and then import it instead as follows:\n",
    "# data = pd.read_excel('nameOfFile.xlsx', sheet_name='Ecol', index_col=0)\n",
    "\n",
    "data = pd.read_csv('?..?', delimiter=',|;', engine='python')\n",
    "data\n"
   ]
  },
  {
   "cell_type": "markdown",
   "metadata": {
    "colab_type": "text",
    "id": "aMLKO9MNe1fq"
   },
   "source": [
    "Adding measurements for glucose from [Lehnen et al., 2017](https://doi.org/10.1016/j.meteno.2017.07.001) to our basic data table. The required information is the growth rate on glucose for *H. polymorpha*. Extract the necessary information from Table 3 in the article. The reaction name for the 'Exchange'-reaction is 'Ex_glc_D', replace this in the corresponding position of '?..?' in the cell below."
   ]
  },
  {
   "cell_type": "code",
   "execution_count": null,
   "metadata": {
    "colab": {},
    "colab_type": "code",
    "id": "4mTMJvd0ZHFv"
   },
   "outputs": [],
   "source": [
    "data = data.append({'Substrate':'Glucose', 'Exchange':'?..?', 'uptake rate (mmol/gCDW/h)':?..?, 'growth rate (/h)':?..?, 'source':'Lehnen et al.'}, ignore_index=True)"
   ]
  },
  {
   "cell_type": "markdown",
   "metadata": {
    "colab_type": "text",
    "id": "Wxe3Csg0TtYV"
   },
   "source": [
    "### Simulation loop\n",
    "For-Loop over all experimental data points.\n",
    "\n",
    "Remember to add a decision when you include glucose."
   ]
  },
  {
   "cell_type": "code",
   "execution_count": null,
   "metadata": {
    "colab": {},
    "colab_type": "code",
    "id": "TPyYPHrXUMs1"
   },
   "outputs": [],
   "source": [
    "# At the beginning a substrate was selected, therefore only one execution is necessary, approximately as follows:\n",
    "# Substrate = myhost.var_Substrate\n",
    "# model=AdaptSubstrate(model, data.loc[['Substrate'],['uptake rate']].values)\n",
    "# growth_simulated = model.optimize()\n",
    "\n",
    "growth_simulated = [];\n",
    "# test_model = model.copy()\n",
    "# iteration over all rows in 'data'\n",
    "for index, row in data.iterrows():\n",
    "  with model as test_model:\n",
    "    print(index) # printing the row number to get feedback that everything is working\n",
    "    # selecting the right substrate in the model based on 'Substrate' in 'data'\n",
    "    if row['Substrate'] == 'Methanol':\n",
    "      model = AdaptMethanol(test_model, row['uptake rate (mmol/gCDW/h)'])\n",
    "    elif row['Substrate'] == 'Glycerol':\n",
    "      model = AdaptGlycerol(test_model, row['uptake rate (mmol/gCDW/h)'])\n",
    "    elif row['Substrate'] == 'Glucose':\n",
    "      test_model = AdaptGlucose(test_model, row['uptake rate (mmol/gCDW/h)'])\n",
    "    else:\n",
    "      print('substrate not considered')      \n",
    "  #     model.optimize()\n",
    "    growth_simulated.append(model.slim_optimize())\n"
   ]
  },
  {
   "cell_type": "markdown",
   "metadata": {
    "colab_type": "text",
    "id": "aN5SDn5yWJER"
   },
   "source": [
    "### Graphical output\n",
    "\n",
    "Remember to add glucose to the visualization. Add the right axis labels, and a file name."
   ]
  },
  {
   "cell_type": "code",
   "execution_count": null,
   "metadata": {
    "colab": {},
    "colab_type": "code",
    "id": "1DG-7h3qWLRi"
   },
   "outputs": [],
   "source": [
    "plt.scatter(data['growth rate (/h)'][0:7], growth_simulated[0:7], s=50, c='k', marker='o');\n",
    "plt.scatter(data['growth rate (/h)'][7], growth_simulated[7], s=50, c='k', marker='s');\n",
    "plt.scatter(data['growth rate (/h)'][8], growth_simulated[8], s=50, c='k', marker='d');\n",
    "plt.xlabel('?..?');\n",
    "plt.ylabel('?..?');\n",
    "myline = np.linspace(0,np.max(growth_simulated),10);\n",
    "plt.plot(myline,myline,'k--');\n",
    "plt.title('Growth rate comparison');\n",
    "plt.legend(['Optimum', 'Methanol (van Dijken)', 'Glycerol (deKoning, Moon)', 'Glucose (Lehnen et al.)'], loc=2);\n",
    "plt.style.use('seaborn-paper')\n",
    "\n",
    "# Saving figure\n",
    "plt.savefig('?..?.png')"
   ]
  }
 ],
 "metadata": {
  "colab": {
   "collapsed_sections": [],
   "include_colab_link": true,
   "name": "2001_QuantMiBi1_CobraPy_SimVal.ipynb",
   "provenance": [],
   "toc_visible": true
  },
  "kernelspec": {
   "display_name": "Python 3",
   "language": "python",
   "name": "python3"
  },
  "language_info": {
   "codemirror_mode": {
    "name": "ipython",
    "version": 3
   },
   "file_extension": ".py",
   "mimetype": "text/x-python",
   "name": "python",
   "nbconvert_exporter": "python",
   "pygments_lexer": "ipython3",
   "version": "3.7.6"
  }
 },
 "nbformat": 4,
 "nbformat_minor": 4
}
